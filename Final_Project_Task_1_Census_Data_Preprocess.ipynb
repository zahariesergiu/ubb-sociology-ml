{
  "cells": [
    {
      "cell_type": "markdown",
      "metadata": {
        "id": "ydHb_ZL5yy6f"
      },
      "source": [
        "# **Final Project Task 1 -Census Data Preprocess**"
      ]
    },
    {
      "cell_type": "markdown",
      "metadata": {
        "id": "hnzXS8Oo9jwY"
      },
      "source": [
        "Requirements\n",
        "\n",
        "- Encode data\n",
        "- Handle missing values if any\n",
        "- Correct errors, inconsistencies, remove duplicates if any\n",
        "- Outlier detection and treatment if any\n",
        "- Normalization / Standardization if necesarry\n",
        "- Feature engineering\n",
        "- Train test split, save it.\n",
        "- Others?\n",
        "\n",
        "\n",
        "Deliverable:\n",
        "\n",
        "- Notebook code with no errors.\n",
        "- Preprocessed data as csv."
      ]
    },
    {
      "cell_type": "code",
      "execution_count": 24,
      "metadata": {
        "id": "xifylnglyn2W"
      },
      "outputs": [],
      "source": [
        "import pandas as pd\n",
        "import numpy as np\n",
        "import matplotlib.pyplot as plt\n",
        "import seaborn as sns\n",
        "from sklearn.model_selection import train_test_split\n",
        "from sklearn.preprocessing import StandardScaler, MinMaxScaler, RobustScaler, OneHotEncoder"
      ]
    },
    {
      "cell_type": "code",
      "execution_count": 25,
      "metadata": {
        "colab": {
          "base_uri": "https://localhost:8080/",
          "height": 348
        },
        "id": "CzWyJfHkyn-8",
        "outputId": "633344dd-56a2-44a7-a237-a26873898c80"
      },
      "outputs": [
        {
          "data": {
            "text/html": [
              "<div>\n",
              "<style scoped>\n",
              "    .dataframe tbody tr th:only-of-type {\n",
              "        vertical-align: middle;\n",
              "    }\n",
              "\n",
              "    .dataframe tbody tr th {\n",
              "        vertical-align: top;\n",
              "    }\n",
              "\n",
              "    .dataframe thead th {\n",
              "        text-align: right;\n",
              "    }\n",
              "</style>\n",
              "<table border=\"1\" class=\"dataframe\">\n",
              "  <thead>\n",
              "    <tr style=\"text-align: right;\">\n",
              "      <th></th>\n",
              "      <th>age</th>\n",
              "      <th>workclass</th>\n",
              "      <th>fnlwgt</th>\n",
              "      <th>education</th>\n",
              "      <th>education-num</th>\n",
              "      <th>marital-status</th>\n",
              "      <th>occupation</th>\n",
              "      <th>relationship</th>\n",
              "      <th>race</th>\n",
              "      <th>sex</th>\n",
              "      <th>capital-gain</th>\n",
              "      <th>capital-loss</th>\n",
              "      <th>hours-per-week</th>\n",
              "      <th>native-country</th>\n",
              "      <th>income</th>\n",
              "    </tr>\n",
              "  </thead>\n",
              "  <tbody>\n",
              "    <tr>\n",
              "      <th>0</th>\n",
              "      <td>39</td>\n",
              "      <td>State-gov</td>\n",
              "      <td>77516</td>\n",
              "      <td>Bachelors</td>\n",
              "      <td>13</td>\n",
              "      <td>Never-married</td>\n",
              "      <td>Adm-clerical</td>\n",
              "      <td>Not-in-family</td>\n",
              "      <td>White</td>\n",
              "      <td>Male</td>\n",
              "      <td>2174</td>\n",
              "      <td>0</td>\n",
              "      <td>40</td>\n",
              "      <td>United-States</td>\n",
              "      <td>&lt;=50K</td>\n",
              "    </tr>\n",
              "    <tr>\n",
              "      <th>1</th>\n",
              "      <td>50</td>\n",
              "      <td>Self-emp-not-inc</td>\n",
              "      <td>83311</td>\n",
              "      <td>Bachelors</td>\n",
              "      <td>13</td>\n",
              "      <td>Married-civ-spouse</td>\n",
              "      <td>Exec-managerial</td>\n",
              "      <td>Husband</td>\n",
              "      <td>White</td>\n",
              "      <td>Male</td>\n",
              "      <td>0</td>\n",
              "      <td>0</td>\n",
              "      <td>13</td>\n",
              "      <td>United-States</td>\n",
              "      <td>&lt;=50K</td>\n",
              "    </tr>\n",
              "    <tr>\n",
              "      <th>2</th>\n",
              "      <td>38</td>\n",
              "      <td>Private</td>\n",
              "      <td>215646</td>\n",
              "      <td>HS-grad</td>\n",
              "      <td>9</td>\n",
              "      <td>Divorced</td>\n",
              "      <td>Handlers-cleaners</td>\n",
              "      <td>Not-in-family</td>\n",
              "      <td>White</td>\n",
              "      <td>Male</td>\n",
              "      <td>0</td>\n",
              "      <td>0</td>\n",
              "      <td>40</td>\n",
              "      <td>United-States</td>\n",
              "      <td>&lt;=50K</td>\n",
              "    </tr>\n",
              "    <tr>\n",
              "      <th>3</th>\n",
              "      <td>53</td>\n",
              "      <td>Private</td>\n",
              "      <td>234721</td>\n",
              "      <td>11th</td>\n",
              "      <td>7</td>\n",
              "      <td>Married-civ-spouse</td>\n",
              "      <td>Handlers-cleaners</td>\n",
              "      <td>Husband</td>\n",
              "      <td>Black</td>\n",
              "      <td>Male</td>\n",
              "      <td>0</td>\n",
              "      <td>0</td>\n",
              "      <td>40</td>\n",
              "      <td>United-States</td>\n",
              "      <td>&lt;=50K</td>\n",
              "    </tr>\n",
              "    <tr>\n",
              "      <th>4</th>\n",
              "      <td>28</td>\n",
              "      <td>Private</td>\n",
              "      <td>338409</td>\n",
              "      <td>Bachelors</td>\n",
              "      <td>13</td>\n",
              "      <td>Married-civ-spouse</td>\n",
              "      <td>Prof-specialty</td>\n",
              "      <td>Wife</td>\n",
              "      <td>Black</td>\n",
              "      <td>Female</td>\n",
              "      <td>0</td>\n",
              "      <td>0</td>\n",
              "      <td>40</td>\n",
              "      <td>Cuba</td>\n",
              "      <td>&lt;=50K</td>\n",
              "    </tr>\n",
              "  </tbody>\n",
              "</table>\n",
              "</div>"
            ],
            "text/plain": [
              "   age         workclass  fnlwgt  education  education-num  \\\n",
              "0   39         State-gov   77516  Bachelors             13   \n",
              "1   50  Self-emp-not-inc   83311  Bachelors             13   \n",
              "2   38           Private  215646    HS-grad              9   \n",
              "3   53           Private  234721       11th              7   \n",
              "4   28           Private  338409  Bachelors             13   \n",
              "\n",
              "       marital-status         occupation   relationship   race     sex  \\\n",
              "0       Never-married       Adm-clerical  Not-in-family  White    Male   \n",
              "1  Married-civ-spouse    Exec-managerial        Husband  White    Male   \n",
              "2            Divorced  Handlers-cleaners  Not-in-family  White    Male   \n",
              "3  Married-civ-spouse  Handlers-cleaners        Husband  Black    Male   \n",
              "4  Married-civ-spouse     Prof-specialty           Wife  Black  Female   \n",
              "\n",
              "   capital-gain  capital-loss  hours-per-week native-country income  \n",
              "0          2174             0              40  United-States  <=50K  \n",
              "1             0             0              13  United-States  <=50K  \n",
              "2             0             0              40  United-States  <=50K  \n",
              "3             0             0              40  United-States  <=50K  \n",
              "4             0             0              40           Cuba  <=50K  "
            ]
          },
          "execution_count": 25,
          "metadata": {},
          "output_type": "execute_result"
        }
      ],
      "source": [
        "data_url = \"https://archive.ics.uci.edu/ml/machine-learning-databases/adult/adult.data\"\n",
        "columns = [\n",
        "    \"age\", \"workclass\", \"fnlwgt\", \"education\", \"education-num\", \"marital-status\",\n",
        "    \"occupation\", \"relationship\", \"race\", \"sex\", \"capital-gain\", \"capital-loss\",\n",
        "    \"hours-per-week\", \"native-country\", \"income\"\n",
        "]\n",
        "\n",
        "data = pd.read_csv(data_url, header=None, names=columns, na_values=\" ?\", skipinitialspace=True)\n",
        "data.head()"
      ]
    },
    {
      "cell_type": "markdown",
      "metadata": {},
      "source": [
        "# Handle missing data"
      ]
    },
    {
      "cell_type": "code",
      "execution_count": 26,
      "metadata": {},
      "outputs": [
        {
          "name": "stdout",
          "output_type": "stream",
          "text": [
            "Missing values after imputation:\n",
            "age               0\n",
            "workclass         0\n",
            "fnlwgt            0\n",
            "education         0\n",
            "education-num     0\n",
            "marital-status    0\n",
            "occupation        0\n",
            "relationship      0\n",
            "race              0\n",
            "sex               0\n",
            "capital-gain      0\n",
            "capital-loss      0\n",
            "hours-per-week    0\n",
            "native-country    0\n",
            "income            0\n",
            "dtype: int64\n"
          ]
        }
      ],
      "source": [
        "for col in data.columns:\n",
        "    if data[col].isnull().sum() > 0:\n",
        "        mode_value = data[col].mode()[0]\n",
        "        data[col].fillna(mode_value, inplace=True)\n",
        "print(\"Missing values after imputation:\")\n",
        "print(data.isnull().sum())\n",
        "\n"
      ]
    },
    {
      "cell_type": "markdown",
      "metadata": {},
      "source": [
        "##Am tratat valorile lipsă marcate cu \"?\" prin înlocuirea lor cu moda fiecărei coloane respective\n",
        "#Prin cod am facut o verificare pe fiecare coloană, și dacă are valori lipsă, acestea sunt completate cu valoarea cea mai frecventă (moda)."
      ]
    },
    {
      "cell_type": "markdown",
      "metadata": {},
      "source": [
        "#Dupa cum se poate observa acum nu mai exista missing values"
      ]
    },
    {
      "cell_type": "markdown",
      "metadata": {},
      "source": [
        "# Remove duplicates"
      ]
    },
    {
      "cell_type": "code",
      "execution_count": 27,
      "metadata": {},
      "outputs": [
        {
          "name": "stdout",
          "output_type": "stream",
          "text": [
            "Shape after removing duplicates: (32537, 15)\n"
          ]
        }
      ],
      "source": [
        "data.drop_duplicates(inplace=True)\n",
        "print(\"Shape after removing duplicates:\", data.shape)"
      ]
    },
    {
      "cell_type": "markdown",
      "metadata": {},
      "source": [
        "#prin acest cod am eliminat valorile duplicate din setul de date"
      ]
    },
    {
      "cell_type": "markdown",
      "metadata": {},
      "source": [
        "# Detect and Remove Outliers"
      ]
    },
    {
      "cell_type": "code",
      "execution_count": 28,
      "metadata": {},
      "outputs": [
        {
          "data": {
            "image/png": "[encoded data removed]",
            "text/plain": [
              "<Figure size 800x400 with 1 Axes>"
            ]
          },
          "metadata": {},
          "output_type": "display_data"
        },
        {
          "data": {
            "image/png": "[encoded data removed]",
            "text/plain": [
              "<Figure size 800x400 with 1 Axes>"
            ]
          },
          "metadata": {},
          "output_type": "display_data"
        },
        {
          "data": {
            "image/png": "[encoded data removed]",
            "text/plain": [
              "<Figure size 800x400 with 1 Axes>"
            ]
          },
          "metadata": {},
          "output_type": "display_data"
        },
        {
          "data": {
            "image/png": "[encoded data removed]",
            "text/plain": [
              "<Figure size 800x400 with 1 Axes>"
            ]
          },
          "metadata": {},
          "output_type": "display_data"
        },
        {
          "data": {
            "image/png": "[encoded data removed]",
            "text/plain": [
              "<Figure size 800x400 with 1 Axes>"
            ]
          },
          "metadata": {},
          "output_type": "display_data"
        },
        {
          "data": {
            "image/png": "[encoded data removed]",
            "text/plain": [
              "<Figure size 800x400 with 1 Axes>"
            ]
          },
          "metadata": {},
          "output_type": "display_data"
        },
        {
          "name": "stdout",
          "output_type": "stream",
          "text": [
            "Shape after removing outliers: (18991, 15)\n"
          ]
        }
      ],
      "source": [
        "def detect_outliers_iqr(data, column):\n",
        "    Q1 = data[column].quantile(0.25)\n",
        "    Q3 = data[column].quantile(0.75)\n",
        "    IQR = Q3 - Q1\n",
        "    lower_bound = Q1 - 1.5 * IQR\n",
        "    upper_bound = Q3 + 1.5 * IQR\n",
        "    return data[(data[column] >= lower_bound) & (data[column] <= upper_bound)]\n",
        "\n",
        "numerical_columns = [\"age\", \"fnlwgt\", \"education-num\", \"capital-gain\", \"capital-loss\", \"hours-per-week\"]\n",
        "\n",
        "for col in numerical_columns:\n",
        "    plt.figure(figsize=(8, 4))\n",
        "    sns.boxplot(x=data[col])\n",
        "    plt.title(f\"Boxplot for {col}\")\n",
        "    plt.show()\n",
        "    data = detect_outliers_iqr(data, col)\n",
        "print(\"Shape after removing outliers:\", data.shape)"
      ]
    },
    {
      "cell_type": "markdown",
      "metadata": {},
      "source": [
        "#Prin aceasta functie am facut :\n",
        "#-IQR măsoară cât de dispersate sunt valorile din mijlocul dataset-ului.\n",
        "#-1.5 * IQR este un prag utilizat frecvent pentru a defini outlierii. Valorile care depășesc upper_bound sau sunt sub lower_bound sunt considerate outlieri.\n",
        "#-Funcția returnează doar datele care se încadrează între limitele calculate, eliminând astfel outlierii.\n",
        "\n",
        "#GRAFICE INTERPRETARE:\n",
        "#1. **Capital-loss** și **Capital-gain**:\n",
        "  - Ambele variabile prezintă multe valori zero, ceea ce sugerează că majoritatea observațiilor nu au capital-loss sau capital-gain semnificativ.\n",
        "  - Există câteva valori extreme (outliers), mai ales în cazul **capital-gain**, unde apar observații peste 40.000 și chiar aproape de 100.000.\n",
        "#2. **Hours-per-week**:\n",
        "  - Distribuția este concentrată în jurul valorii de 40 de ore pe săptămână.\n",
        "  - Există câteva extreme peste 80 de ore, ceea ce indică un număr mic de persoane care lucrează mult mai mult decât media.\n",
        "#3. **Education-num**:\n",
        "  - Distribuția este destul de simetrică, cu câteva valori extreme mai mici.\n",
        "  - Majoritatea observațiilor se află între 5 și 15 ani de educație.\n",
        "#4. **Age**:\n",
        "  - Distribuția este relativ normală, cu o concentrație între 20 și 50 de ani.\n",
        "  - Există valori extreme peste 70-80 de ani, ceea ce ar putea fi analizat în detaliu.\n",
        "#5. **fnlwgt (final weight)**:\n",
        "  - Prezintă o distribuție foarte asimetrică cu multe valori extreme în partea superioară.\n",
        "  - Acest lucru sugerează o variabilitate mare în ponderarea observațiilor.\n",
        "\n",
        "#Concluzie generală: Setul de date conține variabile cu distribuții diferite, unele având multe valori extreme, de aceea am decis sa elimin valorile extreme pentru a putea normaliza setul de date."
      ]
    },
    {
      "cell_type": "markdown",
      "metadata": {},
      "source": [
        "# Encode Categorical Variables"
      ]
    },
    {
      "cell_type": "code",
      "execution_count": 29,
      "metadata": {},
      "outputs": [
        {
          "name": "stdout",
          "output_type": "stream",
          "text": [
            "Shape after encoding categorical variables: (18991, 96)\n",
            "Data after encoding categorical variables:\n",
            "   age  fnlwgt  education-num  capital-gain  capital-loss  hours-per-week  \\\n",
            "2   38  215646              9             0             0              40   \n",
            "3   53  234721              7             0             0              40   \n",
            "4   28  338409             13             0             0              40   \n",
            "5   37  284582             14             0             0              40   \n",
            "7   52  209642              9             0             0              45   \n",
            "\n",
            "   workclass_Federal-gov  workclass_Local-gov  workclass_Never-worked  \\\n",
            "2                  False                False                   False   \n",
            "3                  False                False                   False   \n",
            "4                  False                False                   False   \n",
            "5                  False                False                   False   \n",
            "7                  False                False                   False   \n",
            "\n",
            "   workclass_Private  ...  native-country_Puerto-Rico  \\\n",
            "2               True  ...                       False   \n",
            "3               True  ...                       False   \n",
            "4               True  ...                       False   \n",
            "5               True  ...                       False   \n",
            "7              False  ...                       False   \n",
            "\n",
            "   native-country_Scotland  native-country_South  native-country_Taiwan  \\\n",
            "2                    False                 False                  False   \n",
            "3                    False                 False                  False   \n",
            "4                    False                 False                  False   \n",
            "5                    False                 False                  False   \n",
            "7                    False                 False                  False   \n",
            "\n",
            "   native-country_Thailand  native-country_Trinadad&Tobago  \\\n",
            "2                    False                           False   \n",
            "3                    False                           False   \n",
            "4                    False                           False   \n",
            "5                    False                           False   \n",
            "7                    False                           False   \n",
            "\n",
            "   native-country_United-States  native-country_Vietnam  \\\n",
            "2                          True                   False   \n",
            "3                          True                   False   \n",
            "4                         False                   False   \n",
            "5                          True                   False   \n",
            "7                          True                   False   \n",
            "\n",
            "   native-country_Yugoslavia  income_>50K  \n",
            "2                      False        False  \n",
            "3                      False        False  \n",
            "4                      False        False  \n",
            "5                      False        False  \n",
            "7                      False         True  \n",
            "\n",
            "[5 rows x 96 columns]\n"
          ]
        }
      ],
      "source": [
        "categorical_columns = [\"workclass\", \"education\", \"marital-status\", \"occupation\", \"relationship\", \"race\", \"sex\", \"native-country\", \"income\"]\n",
        "data = pd.get_dummies(data, columns=categorical_columns, drop_first=True)\n",
        "print(\"Shape after encoding categorical variables:\", data.shape)\n",
        "print(\"Data after encoding categorical variables:\")\n",
        "print(data.head())\n"
      ]
    },
    {
      "cell_type": "markdown",
      "metadata": {},
      "source": [
        "#Prin acest encode:\n",
        "#1. Identifică coloanele categoriale care trebuie convertite în variabile numerice.\n",
        "#2. Utilizează pd.get_dummies() pentru a transforma variabilele categoriale în variabile binare (one-hot encoding).\n",
        "#3. Elimină prima categorie (drop_first=True) pentru a evita colinearitatea."
      ]
    },
    {
      "cell_type": "markdown",
      "metadata": {},
      "source": [
        "#deoarece dupa cum se poate observa la variabilele fnlwgt, capital-gain si capital-loss au o distributie extrem de asimetrica ceea ce poate duce la probleme în anumite modele de învățare #automată sensibile la scara datelor.\n",
        "#in ceea ce priveste variabilele age, education-num si hours-per-week au distribuții mai uniforme sau simetrice, dar valorile lor se află pe scări diferite.\n"
      ]
    },
    {
      "cell_type": "markdown",
      "metadata": {},
      "source": [
        "# Feature engeneering"
      ]
    },
    {
      "cell_type": "code",
      "execution_count": 30,
      "metadata": {},
      "outputs": [],
      "source": [
        "# Se creeaza o nouă coloană capital_diff care reprezintă diferența dintre capital-gain și capital-loss.\n",
        "data[\"capital_diff\"] = data[\"capital-gain\"] - data[\"capital-loss\"]\n",
        "data.drop(columns=[\"capital-gain\", \"capital-loss\"], inplace=True)\n",
        "\n",
        "#Elimină coloanele originale capital-gain și capital-loss, deoarece informația lor este acum inclusă în capital_diff.\n",
        "\n",
        "\n",
        "#Creează o variabilă binară high_income unde:\n",
        "#1 = Venit peste 50K.\n",
        "#0 = Venit sub 50K.\n",
        "#Elimină vechea coloană income_>50K, deoarece noua coloană high_income conține aceleași informații într-un format mai simplu.\n",
        "\n",
        "data[\"high_income\"] = np.where(data[\"income_>50K\"] == 1, 1, 0)\n",
        "data.drop(columns=[\"income_>50K\"], inplace=True)\n"
      ]
    },
    {
      "cell_type": "code",
      "execution_count": 31,
      "metadata": {},
      "outputs": [
        {
          "name": "stdout",
          "output_type": "stream",
          "text": [
            "Feature Engineering Done. Columns: Index(['age', 'fnlwgt', 'education-num', 'hours-per-week',\n",
            "       'workclass_Federal-gov', 'workclass_Local-gov',\n",
            "       'workclass_Never-worked', 'workclass_Private', 'workclass_Self-emp-inc',\n",
            "       'workclass_Self-emp-not-inc', 'workclass_State-gov',\n",
            "       'workclass_Without-pay', 'education_11th', 'education_12th',\n",
            "       'education_9th', 'education_Assoc-acdm', 'education_Assoc-voc',\n",
            "       'education_Bachelors', 'education_Doctorate', 'education_HS-grad',\n",
            "       'education_Masters', 'education_Prof-school', 'education_Some-college',\n",
            "       'marital-status_Married-AF-spouse', 'marital-status_Married-civ-spouse',\n",
            "       'marital-status_Married-spouse-absent', 'marital-status_Never-married',\n",
            "       'marital-status_Separated', 'marital-status_Widowed',\n",
            "       'occupation_Adm-clerical', 'occupation_Armed-Forces',\n",
            "       'occupation_Craft-repair', 'occupation_Exec-managerial',\n",
            "       'occupation_Farming-fishing', 'occupation_Handlers-cleaners',\n",
            "       'occupation_Machine-op-inspct', 'occupation_Other-service',\n",
            "       'occupation_Priv-house-serv', 'occupation_Prof-specialty',\n",
            "       'occupation_Protective-serv', 'occupation_Sales',\n",
            "       'occupation_Tech-support', 'occupation_Transport-moving',\n",
            "       'relationship_Not-in-family', 'relationship_Other-relative',\n",
            "       'relationship_Own-child', 'relationship_Unmarried', 'relationship_Wife',\n",
            "       'race_Asian-Pac-Islander', 'race_Black', 'race_Other', 'race_White',\n",
            "       'sex_Male', 'native-country_Cambodia', 'native-country_Canada',\n",
            "       'native-country_China', 'native-country_Columbia',\n",
            "       'native-country_Cuba', 'native-country_Dominican-Republic',\n",
            "       'native-country_Ecuador', 'native-country_El-Salvador',\n",
            "       'native-country_England', 'native-country_France',\n",
            "       'native-country_Germany', 'native-country_Greece',\n",
            "       'native-country_Guatemala', 'native-country_Haiti',\n",
            "       'native-country_Honduras', 'native-country_Hong',\n",
            "       'native-country_Hungary', 'native-country_India', 'native-country_Iran',\n",
            "       'native-country_Ireland', 'native-country_Italy',\n",
            "       'native-country_Jamaica', 'native-country_Japan', 'native-country_Laos',\n",
            "       'native-country_Mexico', 'native-country_Nicaragua',\n",
            "       'native-country_Outlying-US(Guam-USVI-etc)', 'native-country_Peru',\n",
            "       'native-country_Philippines', 'native-country_Poland',\n",
            "       'native-country_Portugal', 'native-country_Puerto-Rico',\n",
            "       'native-country_Scotland', 'native-country_South',\n",
            "       'native-country_Taiwan', 'native-country_Thailand',\n",
            "       'native-country_Trinadad&Tobago', 'native-country_United-States',\n",
            "       'native-country_Vietnam', 'native-country_Yugoslavia', 'capital_diff',\n",
            "       'high_income', 'age_bins_adult', 'age_bins_middle-aged',\n",
            "       'age_bins_senior'],\n",
            "      dtype='object')\n",
            "Data after Feature Engineering:\n",
            "   age  fnlwgt  education-num  hours-per-week  workclass_Federal-gov  \\\n",
            "2   38  215646              9              40                  False   \n",
            "3   53  234721              7              40                  False   \n",
            "4   28  338409             13              40                  False   \n",
            "5   37  284582             14              40                  False   \n",
            "7   52  209642              9              45                  False   \n",
            "\n",
            "   workclass_Local-gov  workclass_Never-worked  workclass_Private  \\\n",
            "2                False                   False               True   \n",
            "3                False                   False               True   \n",
            "4                False                   False               True   \n",
            "5                False                   False               True   \n",
            "7                False                   False              False   \n",
            "\n",
            "   workclass_Self-emp-inc  workclass_Self-emp-not-inc  ...  \\\n",
            "2                   False                       False  ...   \n",
            "3                   False                       False  ...   \n",
            "4                   False                       False  ...   \n",
            "5                   False                       False  ...   \n",
            "7                   False                        True  ...   \n",
            "\n",
            "   native-country_Thailand  native-country_Trinadad&Tobago  \\\n",
            "2                    False                           False   \n",
            "3                    False                           False   \n",
            "4                    False                           False   \n",
            "5                    False                           False   \n",
            "7                    False                           False   \n",
            "\n",
            "   native-country_United-States  native-country_Vietnam  \\\n",
            "2                          True                   False   \n",
            "3                          True                   False   \n",
            "4                         False                   False   \n",
            "5                          True                   False   \n",
            "7                          True                   False   \n",
            "\n",
            "   native-country_Yugoslavia  capital_diff  high_income  age_bins_adult  \\\n",
            "2                      False             0            0            True   \n",
            "3                      False             0            0           False   \n",
            "4                      False             0            0            True   \n",
            "5                      False             0            0            True   \n",
            "7                      False             0            1           False   \n",
            "\n",
            "   age_bins_middle-aged  age_bins_senior  \n",
            "2                 False            False  \n",
            "3                  True            False  \n",
            "4                 False            False  \n",
            "5                 False            False  \n",
            "7                  True            False  \n",
            "\n",
            "[5 rows x 98 columns]\n"
          ]
        }
      ],
      "source": [
        "# Grupare vârste\n",
        "data[\"age_bins\"] = pd.cut(data[\"age\"], bins=[0, 25, 45, 65, 100], labels=[\"young\", \"adult\", \"middle-aged\", \"senior\"])\n",
        "data = pd.get_dummies(data, columns=[\"age_bins\"], drop_first=True)\n",
        "\n",
        "print(\"Feature Engineering Done. Columns:\", data.columns)\n",
        "print(\"Data after Feature Engineering:\")\n",
        "print(data.head())"
      ]
    },
    {
      "cell_type": "markdown",
      "metadata": {},
      "source": [
        "#Acest cod:\n",
        "Grupează vârstele în categorii:\n",
        "young (0-25)\n",
        "adult (26-45)\n",
        "middle-aged (46-65)\n",
        "senior (66+)\n",
        "Transformă această nouă coloană în variabile binare (one-hot encoding).\n",
        "Elimină prima categorie (drop_first=True) pentru a evita redundanța."
      ]
    },
    {
      "cell_type": "markdown",
      "metadata": {},
      "source": [
        "# Normalize/Standardize Data"
      ]
    },
    {
      "cell_type": "code",
      "execution_count": 32,
      "metadata": {},
      "outputs": [],
      "source": [
        "scaler = StandardScaler()\n",
        "numerical_columns = [\"age\", \"fnlwgt\", \"education-num\", \"hours-per-week\", \"capital_diff\"]\n",
        "data_standardized = data.copy()\n",
        "data_standardized[numerical_columns] = scaler.fit_transform(data_standardized[numerical_columns])"
      ]
    },
    {
      "cell_type": "markdown",
      "metadata": {},
      "source": [
        "#Acest cod:\n",
        "Aplică standardizarea folosind StandardScaler de la sklearn.\n",
        "Transformă valorile astfel încât să aibă media 0 și deviația standard 1.\n",
        "Este utilă pentru algoritmi care presupun distribuție normală (ex: regresie liniară, SVM, rețele neuronale)."
      ]
    },
    {
      "cell_type": "code",
      "execution_count": 33,
      "metadata": {},
      "outputs": [],
      "source": [
        "# Alternativă: Normalizare\n",
        "minmax_scaler = MinMaxScaler()\n",
        "data_normalized = data.copy()\n",
        "data_normalized[numerical_columns] = minmax_scaler.fit_transform(data_normalized[numerical_columns])"
      ]
    },
    {
      "cell_type": "markdown",
      "metadata": {},
      "source": [
        "#Acest cod:\n",
        "Aplică normalizarea (scalare între 0 și 1).\n",
        "Util pentru algoritmi sensibili la scară, cum ar fi rețele neuronale și KNN."
      ]
    },
    {
      "cell_type": "code",
      "execution_count": 35,
      "metadata": {},
      "outputs": [
        {
          "name": "stdout",
          "output_type": "stream",
          "text": [
            "Standardization, Normalization, and Robust Scaling Completed.\n"
          ]
        }
      ],
      "source": [
        "# Alternativă: Scaling robust\n",
        "robust_scaler = RobustScaler()\n",
        "data_robust = data.copy()\n",
        "data_robust[numerical_columns] = robust_scaler.fit_transform(data_robust[numerical_columns])\n",
        "\n",
        "print(\"Standardization, Normalization, and Robust Scaling Completed.\")"
      ]
    },
    {
      "cell_type": "markdown",
      "metadata": {},
      "source": [
        "#Acest cod:\n",
        "Aplică scalare robustă, care este mai puțin afectată de outlieri.\n",
        "Se bazează pe mediană și IQR în loc de media și deviația standard."
      ]
    },
    {
      "cell_type": "markdown",
      "metadata": {},
      "source": [
        "# Train-Test Split"
      ]
    },
    {
      "cell_type": "code",
      "execution_count": 36,
      "metadata": {},
      "outputs": [
        {
          "name": "stdout",
          "output_type": "stream",
          "text": [
            "Train Shape: (15192, 98) Test Shape: (3799, 98)\n"
          ]
        }
      ],
      "source": [
        "train_data, test_data = train_test_split(data_standardized, test_size=0.2, random_state=42)\n",
        "print(\"Train Shape:\", train_data.shape, \"Test Shape:\", test_data.shape)\n"
      ]
    },
    {
      "cell_type": "markdown",
      "metadata": {},
      "source": [
        "#Acest cod:\n",
        "Împarte dataset-ul 80% pentru antrenare și 20% pentru testare.\n",
        "random_state=42 asigură că împărțirea este reproductibilă.\n",
        "Se face doar pe setul standardizat, dar poate fi aplicat și pe cel normalizat sau robust."
      ]
    },
    {
      "cell_type": "markdown",
      "metadata": {},
      "source": [
        "# Save Processed Data"
      ]
    },
    {
      "cell_type": "code",
      "execution_count": 37,
      "metadata": {},
      "outputs": [
        {
          "name": "stdout",
          "output_type": "stream",
          "text": [
            "Processed data saved.\n"
          ]
        }
      ],
      "source": [
        "train_data.to_csv(\"train_data_standardized.csv\", index=False)\n",
        "test_data.to_csv(\"test_data_standardized.csv\", index=False)\n",
        "\n",
        "train_data.to_csv(\"train_data_normalized.csv\", index=False)\n",
        "test_data.to_csv(\"test_data_normalized.csv\", index=False)\n",
        "\n",
        "train_data.to_csv(\"train_data_robust.csv\", index=False)\n",
        "test_data.to_csv(\"test_data_robust.csv\", index=False)\n",
        "\n",
        "print(\"Processed data saved.\")"
      ]
    },
    {
      "cell_type": "markdown",
      "metadata": {},
      "source": [
        "#Acest cod:\n",
        "Salvează datele preprocesate în fișiere .csv, pentru a putea fi utilizate ulterior.\n",
        "Se creează 3 variante diferite:\n",
        "Standardizată (StandardScaler).\n",
        "Normalizată (MinMaxScaler).\n",
        "Scaled robust (RobustScaler)."
      ]
    }
  ],
  "metadata": {
    "colab": {
      "provenance": [],
      "toc_visible": true
    },
    "kernelspec": {
      "display_name": "Python 3",
      "name": "python3"
    },
    "language_info": {
      "codemirror_mode": {
        "name": "ipython",
        "version": 3
      },
      "file_extension": ".py",
      "mimetype": "text/x-python",
      "name": "python",
      "nbconvert_exporter": "python",
      "pygments_lexer": "ipython3",
      "version": "3.13.0"
    }
  },
  "nbformat": 4,
  "nbformat_minor": 0
}
