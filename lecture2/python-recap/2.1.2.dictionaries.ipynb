{
 "cells": [
  {
   "cell_type": "markdown",
   "metadata": {
    "id": "Ki7jg3H0NFns"
   },
   "source": [
    "# 1.2 Dictionaries"
   ]
  },
  {
   "cell_type": "markdown",
   "metadata": {
    "id": "7-18T_m9NFnv"
   },
   "source": [
    "*Estimated time for this notebook: 10 minutes*"
   ]
  },
  {
   "cell_type": "markdown",
   "metadata": {
    "id": "UjgCk58kNFnw"
   },
   "source": [
    "## 1.2.1 The Python Dictionary"
   ]
  },
  {
   "cell_type": "markdown",
   "metadata": {
    "id": "bEsswuPhNFnw"
   },
   "source": [
    "Python supports a container type called a dictionary."
   ]
  },
  {
   "cell_type": "markdown",
   "metadata": {
    "id": "yiwiHE70NFnx"
   },
   "source": [
    "This is also known as an \"associative array\", \"map\" or \"hash\" in other languages."
   ]
  },
  {
   "cell_type": "markdown",
   "metadata": {
    "id": "xwIQrbmqNFnx"
   },
   "source": [
    "In a list, we use a number to look up an element:"
   ]
  },
  {
   "cell_type": "code",
   "execution_count": 1,
   "metadata": {
    "id": "K-A2wogyNFnx"
   },
   "outputs": [],
   "source": [
    "names = \"Martin Luther King\".split(\" \")"
   ]
  },
  {
   "cell_type": "code",
   "execution_count": 2,
   "metadata": {
    "colab": {
     "base_uri": "https://localhost:8080/",
     "height": 35
    },
    "executionInfo": {
     "elapsed": 18,
     "status": "ok",
     "timestamp": 1670276007056,
     "user": {
      "displayName": "Nadia Domide",
      "userId": "13986377551014052134"
     },
     "user_tz": -120
    },
    "id": "IH74CHHANFnz",
    "outputId": "71f67126-88fb-49ba-b745-e965ab92832c"
   },
   "outputs": [
    {
     "data": {
      "text/plain": [
       "'Luther'"
      ]
     },
     "execution_count": 2,
     "metadata": {},
     "output_type": "execute_result"
    }
   ],
   "source": [
    "names[1]"
   ]
  },
  {
   "cell_type": "markdown",
   "metadata": {
    "id": "UVXxZ7DNNFn0"
   },
   "source": [
    "In a dictionary, we look up an element using **another object of our choice**:"
   ]
  },
  {
   "cell_type": "markdown",
   "metadata": {
    "id": "XSWW6Cj6Na10"
   },
   "source": [
    "In dictionaries you use curly brackets and start with what is called a key and then you use a : to say this is the value associated with the key."
   ]
  },
  {
   "cell_type": "code",
   "execution_count": 3,
   "metadata": {
    "id": "RDBghWRjNFn1"
   },
   "outputs": [],
   "source": [
    "me = {\"name\": \"James\", \"age\": 39, \"Jobs\": [\"Programmer\", \"Teacher\"]}"
   ]
  },
  {
   "cell_type": "code",
   "execution_count": 4,
   "metadata": {
    "colab": {
     "base_uri": "https://localhost:8080/"
    },
    "executionInfo": {
     "elapsed": 216,
     "status": "ok",
     "timestamp": 1670276703486,
     "user": {
      "displayName": "Nadia Domide",
      "userId": "13986377551014052134"
     },
     "user_tz": -120
    },
    "id": "gPerY3J8NFn1",
    "outputId": "3ca5badc-84a4-4c5d-c5ed-d30f2cf33c88"
   },
   "outputs": [
    {
     "data": {
      "text/plain": [
       "{'name': 'James', 'age': 39, 'Jobs': ['Programmer', 'Teacher']}"
      ]
     },
     "execution_count": 4,
     "metadata": {},
     "output_type": "execute_result"
    }
   ],
   "source": [
    "me # it produces a nice dataset with all this information"
   ]
  },
  {
   "cell_type": "code",
   "execution_count": 6,
   "metadata": {
    "colab": {
     "base_uri": "https://localhost:8080/"
    },
    "executionInfo": {
     "elapsed": 5,
     "status": "ok",
     "timestamp": 1670276763153,
     "user": {
      "displayName": "Nadia Domide",
      "userId": "13986377551014052134"
     },
     "user_tz": -120
    },
    "id": "sEZbR1JwNFn2",
    "outputId": "83ab85a0-934f-4a22-a364-e10671258ab8"
   },
   "outputs": [
    {
     "data": {
      "text/plain": [
       "['Programmer', 'Teacher']"
      ]
     },
     "execution_count": 6,
     "metadata": {},
     "output_type": "execute_result"
    }
   ],
   "source": [
    "me[\"Jobs\"] # so now, if I want to look what Jobs this individual has, and we get as answer a nice list of this strings"
   ]
  },
  {
   "cell_type": "code",
   "execution_count": 8,
   "metadata": {
    "colab": {
     "base_uri": "https://localhost:8080/"
    },
    "executionInfo": {
     "elapsed": 203,
     "status": "ok",
     "timestamp": 1670276785535,
     "user": {
      "displayName": "Nadia Domide",
      "userId": "13986377551014052134"
     },
     "user_tz": -120
    },
    "id": "xJoUtzwzNFn2",
    "outputId": "ae8673b3-f6c5-483a-a410-11650381fac4"
   },
   "outputs": [
    {
     "data": {
      "text/plain": [
       "39"
      ]
     },
     "execution_count": 8,
     "metadata": {},
     "output_type": "execute_result"
    }
   ],
   "source": [
    "me[\"age\"] # and you can do this for other aspects of the dictionary"
   ]
  },
  {
   "cell_type": "code",
   "execution_count": 10,
   "metadata": {
    "colab": {
     "base_uri": "https://localhost:8080/"
    },
    "executionInfo": {
     "elapsed": 2,
     "status": "ok",
     "timestamp": 1670276785733,
     "user": {
      "displayName": "Nadia Domide",
      "userId": "13986377551014052134"
     },
     "user_tz": -120
    },
    "id": "057O2TaqNFn3",
    "outputId": "919680e2-4ef7-41b7-9f1f-69d14931a93d"
   },
   "outputs": [
    {
     "data": {
      "text/plain": [
       "['__class__',\n",
       " '__class_getitem__',\n",
       " '__contains__',\n",
       " '__delattr__',\n",
       " '__delitem__',\n",
       " '__dir__',\n",
       " '__doc__',\n",
       " '__eq__',\n",
       " '__format__',\n",
       " '__ge__',\n",
       " '__getattribute__',\n",
       " '__getitem__',\n",
       " '__getstate__',\n",
       " '__gt__',\n",
       " '__hash__',\n",
       " '__init__',\n",
       " '__init_subclass__',\n",
       " '__ior__',\n",
       " '__iter__',\n",
       " '__le__',\n",
       " '__len__',\n",
       " '__lt__',\n",
       " '__ne__',\n",
       " '__new__',\n",
       " '__or__',\n",
       " '__reduce__',\n",
       " '__reduce_ex__',\n",
       " '__repr__',\n",
       " '__reversed__',\n",
       " '__ror__',\n",
       " '__setattr__',\n",
       " '__setitem__',\n",
       " '__sizeof__',\n",
       " '__str__',\n",
       " '__subclasshook__',\n",
       " 'clear',\n",
       " 'copy',\n",
       " 'fromkeys',\n",
       " 'get',\n",
       " 'items',\n",
       " 'keys',\n",
       " 'pop',\n",
       " 'popitem',\n",
       " 'setdefault',\n",
       " 'update',\n",
       " 'values']"
      ]
     },
     "execution_count": 10,
     "metadata": {},
     "output_type": "execute_result"
    }
   ],
   "source": [
    "type(me)\n",
    "dir(me)"
   ]
  },
  {
   "cell_type": "code",
   "execution_count": 14,
   "metadata": {},
   "outputs": [
    {
     "data": {
      "text/plain": [
       "True"
      ]
     },
     "execution_count": 14,
     "metadata": {},
     "output_type": "execute_result"
    }
   ],
   "source": [
    "me.items()\n",
    "isinstance(\"mama\", str)"
   ]
  },
  {
   "cell_type": "markdown",
   "metadata": {
    "id": "NzWaAWSWNFn3"
   },
   "source": [
    "### Keys and Values"
   ]
  },
  {
   "cell_type": "markdown",
   "metadata": {
    "id": "kKCzAetGNFn3"
   },
   "source": [
    "The things we can use to look up with are called **keys**:"
   ]
  },
  {
   "cell_type": "code",
   "execution_count": 9,
   "metadata": {
    "colab": {
     "base_uri": "https://localhost:8080/"
    },
    "executionInfo": {
     "elapsed": 3,
     "status": "ok",
     "timestamp": 1670276803310,
     "user": {
      "displayName": "Nadia Domide",
      "userId": "13986377551014052134"
     },
     "user_tz": -120
    },
    "id": "vWqaXDh7NFn3",
    "outputId": "d25e3bbf-e4ab-47d3-d61a-7773a5c5d99a"
   },
   "outputs": [
    {
     "data": {
      "text/plain": [
       "dict_keys(['name', 'age', 'Jobs'])"
      ]
     },
     "execution_count": 9,
     "metadata": {},
     "output_type": "execute_result"
    }
   ],
   "source": [
    "me.keys() # we can ask what are all the keys in my dictionaries"
   ]
  },
  {
   "cell_type": "markdown",
   "metadata": {
    "id": "eyOY3t7DNFn4"
   },
   "source": [
    "The things we can look up are called **values**:"
   ]
  },
  {
   "cell_type": "code",
   "execution_count": null,
   "metadata": {
    "colab": {
     "base_uri": "https://localhost:8080/"
    },
    "executionInfo": {
     "elapsed": 2,
     "status": "ok",
     "timestamp": 1670276803604,
     "user": {
      "displayName": "Nadia Domide",
      "userId": "13986377551014052134"
     },
     "user_tz": -120
    },
    "id": "vSqPTY-aNFn4",
    "outputId": "970ad2ae-05e9-4717-c0e5-74238da344c5"
   },
   "outputs": [
    {
     "data": {
      "text/plain": [
       "dict_values(['James', 39, ['Programmer', 'Teacher']])"
      ]
     },
     "execution_count": 14,
     "metadata": {},
     "output_type": "execute_result"
    }
   ],
   "source": [
    "me.values()"
   ]
  },
  {
   "cell_type": "markdown",
   "metadata": {
    "id": "VjQXvDFsNFn4"
   },
   "source": [
    "When we test for containment on a `dict` we test on the **keys**:"
   ]
  },
  {
   "cell_type": "code",
   "execution_count": null,
   "metadata": {
    "colab": {
     "base_uri": "https://localhost:8080/"
    },
    "executionInfo": {
     "elapsed": 235,
     "status": "ok",
     "timestamp": 1670276807985,
     "user": {
      "displayName": "Nadia Domide",
      "userId": "13986377551014052134"
     },
     "user_tz": -120
    },
    "id": "xv0Mm3gbNFn4",
    "outputId": "b438b8a6-5441-43cc-bd1c-7ef52f0d52ab"
   },
   "outputs": [
    {
     "data": {
      "text/plain": [
       "True"
      ]
     },
     "execution_count": 15,
     "metadata": {},
     "output_type": "execute_result"
    }
   ],
   "source": [
    "\"Jobs\" in me"
   ]
  },
  {
   "cell_type": "code",
   "execution_count": null,
   "metadata": {
    "colab": {
     "base_uri": "https://localhost:8080/"
    },
    "executionInfo": {
     "elapsed": 3,
     "status": "ok",
     "timestamp": 1670276808287,
     "user": {
      "displayName": "Nadia Domide",
      "userId": "13986377551014052134"
     },
     "user_tz": -120
    },
    "id": "KP7v1MitNFn5",
    "outputId": "fc3b05be-4730-4a74-ec80-8ad30356c21d"
   },
   "outputs": [
    {
     "data": {
      "text/plain": [
       "False"
      ]
     },
     "execution_count": 16,
     "metadata": {},
     "output_type": "execute_result"
    }
   ],
   "source": [
    "\"James\" in me"
   ]
  },
  {
   "cell_type": "code",
   "execution_count": null,
   "metadata": {
    "colab": {
     "base_uri": "https://localhost:8080/"
    },
    "executionInfo": {
     "elapsed": 3,
     "status": "ok",
     "timestamp": 1670276808476,
     "user": {
      "displayName": "Nadia Domide",
      "userId": "13986377551014052134"
     },
     "user_tz": -120
    },
    "id": "wb9YofwONFn5",
    "outputId": "ea9cf019-ae1b-4ba2-8d51-010cc4c44c4b"
   },
   "outputs": [
    {
     "data": {
      "text/plain": [
       "True"
      ]
     },
     "execution_count": 17,
     "metadata": {},
     "output_type": "execute_result"
    }
   ],
   "source": [
    "\"James\" in me.values()"
   ]
  },
  {
   "cell_type": "markdown",
   "metadata": {
    "id": "sqJgO7hBNFn5"
   },
   "source": [
    "### Immutable Keys Only"
   ]
  },
  {
   "cell_type": "markdown",
   "metadata": {
    "id": "2RJeGI8PNFn6"
   },
   "source": [
    "The way in which dictionaries work is one of the coolest things in computer science:\n",
    "the \"hash table\". The details of this are beyond the scope of this course, but we will consider some aspects in the section on performance programming.\n",
    "\n",
    "One consequence of this implementation is that you can only use **immutable** things as keys."
   ]
  },
  {
   "cell_type": "markdown",
   "metadata": {
    "id": "IAzVqzJ6TZET"
   },
   "source": [
    "Anyone can tell me what the type of the object in the () brackets is?"
   ]
  },
  {
   "cell_type": "code",
   "execution_count": null,
   "metadata": {
    "id": "TQxWjmEXNFn6"
   },
   "outputs": [],
   "source": [
    "good_match = {(\"Lamb\", \"Mint\"): True, (\"Bacon\", \"Chocolate\"): False}"
   ]
  },
  {
   "cell_type": "markdown",
   "metadata": {
    "id": "B_z5RZsYNFn6"
   },
   "source": [
    "but if you try to put a list it will not work bc it is not immutable:"
   ]
  },
  {
   "cell_type": "code",
   "execution_count": null,
   "metadata": {
    "colab": {
     "base_uri": "https://localhost:8080/",
     "height": 166
    },
    "executionInfo": {
     "elapsed": 352,
     "status": "error",
     "timestamp": 1670277662683,
     "user": {
      "displayName": "Nadia Domide",
      "userId": "13986377551014052134"
     },
     "user_tz": -120
    },
    "id": "6vgBvEX7NFn6",
    "outputId": "0d4674f8-b226-41b0-f11e-2d7364ba2ff8",
    "tags": [
     "raises-exception"
    ]
   },
   "outputs": [
    {
     "ename": "TypeError",
     "evalue": "ignored",
     "output_type": "error",
     "traceback": [
      "\u001b[0;31m---------------------------------------------------------------------------\u001b[0m",
      "\u001b[0;31mTypeError\u001b[0m                                 Traceback (most recent call last)",
      "\u001b[0;32m<ipython-input-20-04b3ec5fbe90>\u001b[0m in \u001b[0;36m<module>\u001b[0;34m\u001b[0m\n\u001b[0;32m----> 1\u001b[0;31m \u001b[0millegal\u001b[0m \u001b[0;34m=\u001b[0m \u001b[0;34m{\u001b[0m\u001b[0;34m[\u001b[0m\u001b[0;34m\"Lamb\"\u001b[0m\u001b[0;34m,\u001b[0m \u001b[0;34m\"Mint\"\u001b[0m\u001b[0;34m]\u001b[0m\u001b[0;34m:\u001b[0m \u001b[0;32mTrue\u001b[0m\u001b[0;34m,\u001b[0m \u001b[0;34m[\u001b[0m\u001b[0;34m\"Bacon\"\u001b[0m\u001b[0;34m,\u001b[0m \u001b[0;34m\"Chocolate\"\u001b[0m\u001b[0;34m]\u001b[0m\u001b[0;34m:\u001b[0m \u001b[0;32mFalse\u001b[0m\u001b[0;34m}\u001b[0m\u001b[0;34m\u001b[0m\u001b[0;34m\u001b[0m\u001b[0m\n\u001b[0m",
      "\u001b[0;31mTypeError\u001b[0m: unhashable type: 'list'"
     ]
    }
   ],
   "source": [
    "illegal = {[\"Lamb\", \"Mint\"]: True, [\"Bacon\", \"Chocolate\"]: False}"
   ]
  },
  {
   "cell_type": "markdown",
   "metadata": {
    "id": "d_DpQih0NFn6"
   },
   "source": [
    "Remember -- square brackets denote lists, round brackets denote `tuple`s."
   ]
  },
  {
   "cell_type": "markdown",
   "metadata": {
    "id": "334ewx_yNFn7"
   },
   "source": [
    "### Dictionary Order"
   ]
  },
  {
   "cell_type": "markdown",
   "metadata": {
    "id": "-_ZnZu1DNFn7"
   },
   "source": [
    "Dictionaries will retain the order of the elements as they are defined (in Python versions >= 3.7)."
   ]
  },
  {
   "cell_type": "code",
   "execution_count": null,
   "metadata": {
    "colab": {
     "base_uri": "https://localhost:8080/"
    },
    "executionInfo": {
     "elapsed": 205,
     "status": "ok",
     "timestamp": 1670277679095,
     "user": {
      "displayName": "Nadia Domide",
      "userId": "13986377551014052134"
     },
     "user_tz": -120
    },
    "id": "_OP2QapeNFn7",
    "outputId": "d665b5fe-39fd-4a0c-e72f-6d5a8d2a7eda"
   },
   "outputs": [
    {
     "name": "stdout",
     "output_type": "stream",
     "text": [
      "{'0': 0, '1': 1, '2': 2, '3': 3, '4': 4}\n",
      "dict_values([0, 1, 2, 3, 4])\n"
     ]
    }
   ],
   "source": [
    "my_dict = {\"0\": 0, \"1\": 1, \"2\": 2, \"3\": 3, \"4\": 4}\n",
    "print(my_dict)\n",
    "print(my_dict.values())"
   ]
  },
  {
   "cell_type": "code",
   "execution_count": null,
   "metadata": {
    "colab": {
     "base_uri": "https://localhost:8080/"
    },
    "executionInfo": {
     "elapsed": 199,
     "status": "ok",
     "timestamp": 1670277682416,
     "user": {
      "displayName": "Nadia Domide",
      "userId": "13986377551014052134"
     },
     "user_tz": -120
    },
    "id": "Adzh62AaNFn7",
    "outputId": "21606a69-a4b7-4294-f4db-3b6340420ef5"
   },
   "outputs": [
    {
     "name": "stdout",
     "output_type": "stream",
     "text": [
      "{'4': 4, '3': 3, '2': 2, '1': 1, '0': 0}\n",
      "dict_values([4, 3, 2, 1, 0])\n"
     ]
    }
   ],
   "source": [
    "rev_dict = {\"4\": 4, \"3\": 3, \"2\": 2, \"1\": 1, \"0\": 0}\n",
    "print(rev_dict)\n",
    "print(rev_dict.values())"
   ]
  },
  {
   "cell_type": "markdown",
   "metadata": {
    "id": "dYeOcIliNFn7"
   },
   "source": [
    "Python does not consider the order of the elements relevant to equality:"
   ]
  },
  {
   "cell_type": "code",
   "execution_count": null,
   "metadata": {
    "colab": {
     "base_uri": "https://localhost:8080/"
    },
    "executionInfo": {
     "elapsed": 801,
     "status": "ok",
     "timestamp": 1670277695149,
     "user": {
      "displayName": "Nadia Domide",
      "userId": "13986377551014052134"
     },
     "user_tz": -120
    },
    "id": "64BFjh4PNFn8",
    "outputId": "bbce7a4e-9500-4b70-dac4-acf4a0cc7e7c"
   },
   "outputs": [
    {
     "data": {
      "text/plain": [
       "True"
      ]
     },
     "execution_count": 23,
     "metadata": {},
     "output_type": "execute_result"
    }
   ],
   "source": [
    "my_dict == rev_dict"
   ]
  },
  {
   "cell_type": "markdown",
   "metadata": {
    "id": "jkDZPidXNFn8"
   },
   "source": [
    "## 1.2.2 Sets"
   ]
  },
  {
   "cell_type": "markdown",
   "metadata": {
    "id": "uYilkShRNFn8"
   },
   "source": [
    "A set is a `list` which cannot contain the same element twice.\n",
    "We make one by calling `set()` on any sequence, e.g. a list or string."
   ]
  },
  {
   "cell_type": "code",
   "execution_count": null,
   "metadata": {
    "id": "dm9HJdjONFn8"
   },
   "outputs": [],
   "source": [
    "name = \"James Hetherington\"\n",
    "unique_letters = set(name)"
   ]
  },
  {
   "cell_type": "code",
   "execution_count": null,
   "metadata": {
    "colab": {
     "base_uri": "https://localhost:8080/"
    },
    "executionInfo": {
     "elapsed": 4,
     "status": "ok",
     "timestamp": 1670277716526,
     "user": {
      "displayName": "Nadia Domide",
      "userId": "13986377551014052134"
     },
     "user_tz": -120
    },
    "id": "go_YP7ycNFn8",
    "outputId": "60682950-c55c-4eed-c061-6ab5e8f07d79"
   },
   "outputs": [
    {
     "data": {
      "text/plain": [
       "{' ', 'H', 'J', 'a', 'e', 'g', 'h', 'i', 'm', 'n', 'o', 'r', 's', 't'}"
      ]
     },
     "execution_count": 25,
     "metadata": {},
     "output_type": "execute_result"
    }
   ],
   "source": [
    "unique_letters"
   ]
  },
  {
   "cell_type": "markdown",
   "metadata": {
    "id": "e8JqrFwsNFn8"
   },
   "source": [
    "Or by defining a literal like a dictionary, but without the colons:"
   ]
  },
  {
   "cell_type": "code",
   "execution_count": null,
   "metadata": {
    "id": "myeDEfcfNFn9"
   },
   "outputs": [],
   "source": [
    "primes_below_ten = {2, 3, 5, 7}"
   ]
  },
  {
   "cell_type": "code",
   "execution_count": null,
   "metadata": {
    "colab": {
     "base_uri": "https://localhost:8080/"
    },
    "executionInfo": {
     "elapsed": 3,
     "status": "ok",
     "timestamp": 1670277718905,
     "user": {
      "displayName": "Nadia Domide",
      "userId": "13986377551014052134"
     },
     "user_tz": -120
    },
    "id": "BQPzoPhBNFn9",
    "outputId": "e36af6db-3f26-462f-f45d-a499e1cc9a3f"
   },
   "outputs": [
    {
     "data": {
      "text/plain": [
       "set"
      ]
     },
     "execution_count": 27,
     "metadata": {},
     "output_type": "execute_result"
    }
   ],
   "source": [
    "type(unique_letters)"
   ]
  },
  {
   "cell_type": "code",
   "execution_count": null,
   "metadata": {
    "colab": {
     "base_uri": "https://localhost:8080/"
    },
    "executionInfo": {
     "elapsed": 6,
     "status": "ok",
     "timestamp": 1670277719102,
     "user": {
      "displayName": "Nadia Domide",
      "userId": "13986377551014052134"
     },
     "user_tz": -120
    },
    "id": "I6XQThqnNFn9",
    "outputId": "a4635652-c0bf-4ce2-9e46-dbb1723f5b9f"
   },
   "outputs": [
    {
     "data": {
      "text/plain": [
       "set"
      ]
     },
     "execution_count": 28,
     "metadata": {},
     "output_type": "execute_result"
    }
   ],
   "source": [
    "type(primes_below_ten)"
   ]
  },
  {
   "cell_type": "code",
   "execution_count": 17,
   "metadata": {
    "colab": {
     "base_uri": "https://localhost:8080/"
    },
    "executionInfo": {
     "elapsed": 600,
     "status": "ok",
     "timestamp": 1670277751074,
     "user": {
      "displayName": "Nadia Domide",
      "userId": "13986377551014052134"
     },
     "user_tz": -120
    },
    "id": "rnYZaDB7NFn9",
    "outputId": "be9800e9-7b27-4ace-9474-955dfdbbd022"
   },
   "outputs": [
    {
     "ename": "NameError",
     "evalue": "name 'unique_letters' is not defined",
     "output_type": "error",
     "traceback": [
      "\u001b[1;31m---------------------------------------------------------------------------\u001b[0m",
      "\u001b[1;31mNameError\u001b[0m                                 Traceback (most recent call last)",
      "Cell \u001b[1;32mIn[17], line 1\u001b[0m\n\u001b[1;32m----> 1\u001b[0m \u001b[43munique_letters\u001b[49m\n",
      "\u001b[1;31mNameError\u001b[0m: name 'unique_letters' is not defined"
     ]
    }
   ],
   "source": [
    "unique_letters"
   ]
  },
  {
   "cell_type": "markdown",
   "metadata": {
    "id": "FLKhKdzJNFn9"
   },
   "source": [
    "This will be easier to read if we turn the set of letters back into a string, with `join`:"
   ]
  },
  {
   "cell_type": "code",
   "execution_count": 16,
   "metadata": {
    "colab": {
     "base_uri": "https://localhost:8080/",
     "height": 35
    },
    "executionInfo": {
     "elapsed": 4,
     "status": "ok",
     "timestamp": 1670277751385,
     "user": {
      "displayName": "Nadia Domide",
      "userId": "13986377551014052134"
     },
     "user_tz": -120
    },
    "id": "YRo5YMMsNFn9",
    "outputId": "d79bc4ee-6d8c-4daf-d148-cbd1ad85018b"
   },
   "outputs": [
    {
     "ename": "NameError",
     "evalue": "name 'unique_letters' is not defined",
     "output_type": "error",
     "traceback": [
      "\u001b[1;31m---------------------------------------------------------------------------\u001b[0m",
      "\u001b[1;31mNameError\u001b[0m                                 Traceback (most recent call last)",
      "Cell \u001b[1;32mIn[16], line 1\u001b[0m\n\u001b[1;32m----> 1\u001b[0m \u001b[38;5;124m\"\u001b[39m\u001b[38;5;124m\"\u001b[39m\u001b[38;5;241m.\u001b[39mjoin(\u001b[43munique_letters\u001b[49m)\n",
      "\u001b[1;31mNameError\u001b[0m: name 'unique_letters' is not defined"
     ]
    }
   ],
   "source": [
    "\"\".join(unique_letters)"
   ]
  },
  {
   "cell_type": "markdown",
   "metadata": {
    "id": "ZVsWLTraNFn-"
   },
   "source": [
    "A set has no particular order, but is really useful for checking or storing **unique** values."
   ]
  },
  {
   "cell_type": "markdown",
   "metadata": {
    "id": "GjYAT31uNFn-"
   },
   "source": [
    "Set operations work as in mathematics:"
   ]
  },
  {
   "cell_type": "code",
   "execution_count": 18,
   "metadata": {
    "id": "dzPqbi-5NFn-"
   },
   "outputs": [],
   "source": [
    "x = set(\"Hello\")\n",
    "y = set(\"Goodbye\")"
   ]
  },
  {
   "cell_type": "code",
   "execution_count": 19,
   "metadata": {
    "colab": {
     "base_uri": "https://localhost:8080/"
    },
    "executionInfo": {
     "elapsed": 201,
     "status": "ok",
     "timestamp": 1670277767107,
     "user": {
      "displayName": "Nadia Domide",
      "userId": "13986377551014052134"
     },
     "user_tz": -120
    },
    "id": "bNYIZYwiNFn-",
    "outputId": "aa6cadf9-9191-440e-cf68-d513693c62bb"
   },
   "outputs": [
    {
     "data": {
      "text/plain": [
       "{'e', 'o'}"
      ]
     },
     "execution_count": 19,
     "metadata": {},
     "output_type": "execute_result"
    }
   ],
   "source": [
    "x & y  # Intersection"
   ]
  },
  {
   "cell_type": "code",
   "execution_count": 20,
   "metadata": {
    "colab": {
     "base_uri": "https://localhost:8080/"
    },
    "executionInfo": {
     "elapsed": 210,
     "status": "ok",
     "timestamp": 1670277769017,
     "user": {
      "displayName": "Nadia Domide",
      "userId": "13986377551014052134"
     },
     "user_tz": -120
    },
    "id": "TZ9USzkiNFn-",
    "outputId": "a2a9e357-92ea-4c28-97e0-6db0a1b5bf9b"
   },
   "outputs": [
    {
     "data": {
      "text/plain": [
       "{'G', 'H', 'b', 'd', 'e', 'l', 'o', 'y'}"
      ]
     },
     "execution_count": 20,
     "metadata": {},
     "output_type": "execute_result"
    }
   ],
   "source": [
    "x | y  # Union"
   ]
  },
  {
   "cell_type": "code",
   "execution_count": 21,
   "metadata": {
    "colab": {
     "base_uri": "https://localhost:8080/"
    },
    "executionInfo": {
     "elapsed": 209,
     "status": "ok",
     "timestamp": 1670277771534,
     "user": {
      "displayName": "Nadia Domide",
      "userId": "13986377551014052134"
     },
     "user_tz": -120
    },
    "id": "n-osN11kNFn_",
    "outputId": "419b6fd5-6c6a-44a8-da3c-390db6949579"
   },
   "outputs": [
    {
     "data": {
      "text/plain": [
       "{'G', 'b', 'd', 'y'}"
      ]
     },
     "execution_count": 21,
     "metadata": {},
     "output_type": "execute_result"
    }
   ],
   "source": [
    "y - x  # y intersection with complement of x: letters in Goodbye but not in Hello"
   ]
  },
  {
   "cell_type": "markdown",
   "metadata": {
    "id": "1uoz3KUQNFn_"
   },
   "source": [
    "Your programs will be faster and more readable if you use the appropriate container type for your data's meaning.\n",
    "Always use a set for lists which can't in principle contain the same data twice, always use a dictionary for anything\n",
    "which feels like a mapping from keys to values."
   ]
  }
 ],
 "metadata": {
  "colab": {
   "provenance": []
  },
  "jekyll": {
   "display_name": "Dictionaries"
  },
  "kernelspec": {
   "display_name": "venv",
   "language": "python",
   "name": "python3"
  },
  "language_info": {
   "codemirror_mode": {
    "name": "ipython",
    "version": 3
   },
   "file_extension": ".py",
   "mimetype": "text/x-python",
   "name": "python",
   "nbconvert_exporter": "python",
   "pygments_lexer": "ipython3",
   "version": "3.13.0"
  }
 },
 "nbformat": 4,
 "nbformat_minor": 0
}
