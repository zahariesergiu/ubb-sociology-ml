{
 "cells": [
  {
   "cell_type": "markdown",
   "id": "d8ed7f67",
   "metadata": {
    "id": "d8ed7f67"
   },
   "source": [
    "# 1.6 Classroom Exercises"
   ]
  },
  {
   "cell_type": "markdown",
   "id": "85ae7395",
   "metadata": {
    "id": "85ae7395"
   },
   "source": [
    "**List of exercises and estimated completion times**\n",
    "\n",
    "[1a - Using Functions](#Exercise-1b-Using-Functions) *10 minutes*\n",
    "\n",
    "[1b - Operators](#Exercise-1c-Operators) *10 minutes*\n",
    "\n",
    "[1c - Maze Model](#Exercise-1d-Maze-Model) *25 minutes*\n",
    "\n",
    "[1d - The Maze Population](#Exercise-1e-The-Maze-Population) *10 minutes*  \n"
   ]
  },
  {
   "cell_type": "markdown",
   "id": "70458ec0",
   "metadata": {
    "id": "70458ec0"
   },
   "source": [
    "## Exercise 1a Using Functions\n",
    "\n",
    "\n",
    "Try to find the operator or function you need to calculate the following (the easiest way might be an internet search).\n",
    "\n",
    "What is 2 to the power 15?\n",
    "\n",
    "Convert `\"It was the best of times\"` to uppercase.\n",
    "\n",
    "Sort the list `[10, 9, 0, 20, 8, 2, 30, 7, 3]`.\n",
    "\n",
    "What is 100! ? (That is, what is the factorial of 100?) Hint: the `factorial` function is in the `math` library"
   ]
  },
  {
   "cell_type": "code",
   "execution_count": 3,
   "id": "99810f98",
   "metadata": {},
   "outputs": [
    {
     "name": "stdout",
     "output_type": "stream",
     "text": [
      "32768\n"
     ]
    }
   ],
   "source": [
    "# 2 to the power 15\n",
    "result = 2 ** 15\n",
    "print(result)"
   ]
  },
  {
   "cell_type": "code",
   "execution_count": 6,
   "id": "f1cabd5b",
   "metadata": {},
   "outputs": [
    {
     "name": "stdout",
     "output_type": "stream",
     "text": [
      "IT WAS THE BEST OF TIMES\n"
     ]
    }
   ],
   "source": [
    "# convert to uppercase\n",
    "text = \"It was the best of times\"\n",
    "text_upper = text.upper()\n",
    "print(text_upper)"
   ]
  },
  {
   "cell_type": "code",
   "execution_count": 9,
   "id": "07566b2f",
   "metadata": {},
   "outputs": [
    {
     "name": "stdout",
     "output_type": "stream",
     "text": [
      "[0, 2, 3, 7, 8, 9, 10, 20, 30]\n"
     ]
    }
   ],
   "source": [
    "# list sorting\n",
    "list = [10, 9, 0, 20, 8, 2, 30, 7, 3]\n",
    "sorted_list = sorted(list)\n",
    "print(sorted_list)"
   ]
  },
  {
   "cell_type": "code",
   "execution_count": 10,
   "id": "fc7072cc",
   "metadata": {},
   "outputs": [],
   "source": [
    "import math"
   ]
  },
  {
   "cell_type": "code",
   "execution_count": 13,
   "id": "70264ef9",
   "metadata": {},
   "outputs": [
    {
     "name": "stdout",
     "output_type": "stream",
     "text": [
      "3628800\n"
     ]
    }
   ],
   "source": [
    "# factorial\n",
    "fact = math.factorial(100)\n",
    "print(fact)"
   ]
  },
  {
   "cell_type": "markdown",
   "id": "d064ba13",
   "metadata": {
    "id": "d064ba13"
   },
   "source": [
    "## Exercise 1b Operators\n",
    "\n",
    "\n",
    "Which of the operators `+`, `-`, `*`, and `/` do something useful with the lists `[1, 10, 100]` and `[5, 4, 7]`?\n",
    "\n",
    "What happens if you apply the operators `+`, `-`, `*`, `/` to a list and a number?\n",
    "\n",
    "What about a string and a string?"
   ]
  },
  {
   "cell_type": "code",
   "execution_count": 20,
   "id": "5f550537",
   "metadata": {},
   "outputs": [
    {
     "name": "stdout",
     "output_type": "stream",
     "text": [
      "[1, 10, 100, 5, 4, 7]\n"
     ]
    }
   ],
   "source": [
    "list_1 = [1, 10, 100]\n",
    "list_2 = [5, 4, 7]\n",
    "final_list = list_1 + list_2 # lista noua, cu toate elementele din cele 2 liste = CONCATENARE\n",
    "print(final_list)"
   ]
  },
  {
   "cell_type": "code",
   "execution_count": 27,
   "id": "fcb332f3",
   "metadata": {},
   "outputs": [
    {
     "name": "stdout",
     "output_type": "stream",
     "text": [
      "[1, 10, 100, 1, 10, 100]\n"
     ]
    }
   ],
   "source": [
    "operators_list = 2 * list_1\n",
    "print(operators_list)"
   ]
  },
  {
   "cell_type": "code",
   "execution_count": 42,
   "id": "4429933d",
   "metadata": {},
   "outputs": [
    {
     "name": "stdout",
     "output_type": "stream",
     "text": [
      "text scris de mana mea text scris de mana altcuiva\n",
      "2text scris de mana mea\n"
     ]
    }
   ],
   "source": [
    "primu_text = \"text scris de mana mea\"\n",
    "al_doilea_text = \"text scris de mana altcuiva\"\n",
    "tot_textu = primu_text + \" \" + al_doilea_text\n",
    "print(tot_textu)\n",
    "noul_text = \"2\" + primu_text\n",
    "print(noul_text)"
   ]
  },
  {
   "cell_type": "markdown",
   "id": "9de9ab85",
   "metadata": {
    "id": "9de9ab85"
   },
   "source": [
    "## Exercise 1c Maze Model\n",
    "\n",
    "\n",
    "Work with a partner to design a data structure to represent a maze using dictionaries and lists.\n",
    "\n",
    "* Each place in the maze has a name, which is a string.\n",
    "* Each place in the maze has one or more people currently standing at it, by name.\n",
    "* Each place in the maze has a maximum capacity of people that can fit in it.\n",
    "* From each place in the maze, you can go from that place to a few other places, using a direction like 'up', 'north', or 'sideways'\n",
    "\n",
    "Create an example instance, in a notebook, of a simple structure for your maze:\n",
    "\n",
    "* The front room can hold 2 people. James is currently there. You can go outside to the garden, or upstairs to the bedroom, or north to the kitchen.\n",
    "* From the kitchen, you can go south to the front room. It fits 1 person.\n",
    "* From the garden you can go inside to front room. It fits 3 people. Sue is currently there.\n",
    "* From the bedroom, you can go downstairs to the front room. You can also jump out of the window to the garden. It fits 2 people.\n",
    "\n",
    "Make sure that your model:\n",
    "\n",
    "* Allows empty rooms\n",
    "* Allows you to jump out of the upstairs window, but not to fly back up.\n",
    "* Allows rooms which people can't fit in.\n",
    "\n",
    "\n",
    "```python\n",
    "house = [ \"Your answer here\" ]\n",
    "```\n",
    "or\n",
    "```python\n",
    "house = { \"Your answer here\" }\n",
    "```"
   ]
  },
  {
   "cell_type": "code",
   "execution_count": 43,
   "id": "743ac670",
   "metadata": {},
   "outputs": [],
   "source": [
    "# Definirea labirintului ca un dicționar\n",
    "maze = {\n",
    "    \"front_room\": {\n",
    "        \"name\": \"Front Room\",\n",
    "        \"people\": [\"James\"],\n",
    "        \"capacity\": 2,\n",
    "        \"connections\": {\n",
    "            \"outside\": \"garden\",\n",
    "            \"upstairs\": \"bedroom\",\n",
    "            \"north\": \"kitchen\"\n",
    "        }\n",
    "    },\n",
    "    \"kitchen\": {\n",
    "        \"name\": \"Kitchen\",\n",
    "        \"people\": [],\n",
    "        \"capacity\": 1,\n",
    "        \"connections\": {\n",
    "            \"south\": \"front_room\"\n",
    "        }\n",
    "    },\n",
    "    \"garden\": {\n",
    "        \"name\": \"Garden\",\n",
    "        \"people\": [\"Sue\"],\n",
    "        \"capacity\": 3,\n",
    "        \"connections\": {\n",
    "            \"inside\": \"front_room\"\n",
    "        }\n",
    "    },\n",
    "    \"bedroom\": {\n",
    "        \"name\": \"Bedroom\",\n",
    "        \"people\": [],\n",
    "        \"capacity\": 2,\n",
    "        \"connections\": {\n",
    "            \"downstairs\": \"front_room\",\n",
    "            \"window\": \"garden\"\n",
    "        }\n",
    "    }\n",
    "}"
   ]
  },
  {
   "cell_type": "code",
   "execution_count": 45,
   "id": "f84be2a3",
   "metadata": {},
   "outputs": [],
   "source": [
    "# Funcție pentru a adăuga o persoană într-o cameră\n",
    "def add_person(room_name, person_name):\n",
    "    room = maze.get(room_name)\n",
    "    if room:\n",
    "        if len(room[\"people\"]) < room[\"capacity\"]:\n",
    "            room[\"people\"].append(person_name)\n",
    "            print(f\"{person_name} a intrat în {room_name}.\")\n",
    "        else:\n",
    "            print(f\"{room_name} este plin! Nu se poate adăuga {person_name}.\")\n",
    "    else:\n",
    "        print(f\"Camera {room_name} nu există.\")\n"
   ]
  },
  {
   "cell_type": "code",
   "execution_count": 46,
   "id": "4f1b70ee",
   "metadata": {},
   "outputs": [],
   "source": [
    "# Funcție pentru a muta o persoană într-o altă cameră\n",
    "def move_person(from_room, to_room, person_name):\n",
    "    room_from = maze.get(from_room)\n",
    "    room_to = maze.get(to_room)\n",
    "    \n",
    "    if room_from and room_to:\n",
    "        if person_name in room_from[\"people\"]:\n",
    "            if len(room_to[\"people\"]) < room_to[\"capacity\"]:\n",
    "                room_from[\"people\"].remove(person_name)\n",
    "                room_to[\"people\"].append(person_name)\n",
    "                print(f\"{person_name} s-a mutat din {from_room} în {to_room}.\")\n",
    "            else:\n",
    "                print(f\"{to_room} este plin! Nu se poate muta {person_name}.\")\n",
    "        else:\n",
    "            print(f\"{person_name} nu se află în {from_room}.\")\n",
    "    else:\n",
    "        print(\"Una dintre camere nu există.\")\n"
   ]
  },
  {
   "cell_type": "code",
   "execution_count": 47,
   "id": "ce0e9dba",
   "metadata": {},
   "outputs": [
    {
     "name": "stdout",
     "output_type": "stream",
     "text": [
      "Anna a intrat în front_room.\n",
      "James s-a mutat din front_room în kitchen.\n",
      "În front_room se află: Anna.\n",
      "În kitchen se află: James.\n"
     ]
    }
   ],
   "source": [
    "# Funcție pentru a vedea persoanele dintr-o cameră\n",
    "def show_people_in_room(room_name):\n",
    "    room = maze.get(room_name)\n",
    "    if room:\n",
    "        print(f\"În {room_name} se află: {', '.join(room['people']) if room['people'] else 'nimeni'}.\")\n",
    "    else:\n",
    "        print(f\"Camera {room_name} nu există.\")\n",
    "\n",
    "# Exemplu de utilizare:\n",
    "add_person(\"front_room\", \"Anna\")  # Încercăm să adăugăm o persoană în Front Room\n",
    "move_person(\"front_room\", \"kitchen\", \"James\")  # Mutăm pe James din Front Room în Kitchen\n",
    "show_people_in_room(\"front_room\")  # Arătăm cine este în Front Room\n",
    "show_people_in_room(\"kitchen\")  # Arătăm cine este în Kitchen"
   ]
  },
  {
   "cell_type": "markdown",
   "id": "8643be35",
   "metadata": {
    "id": "8643be35"
   },
   "source": [
    "## Exercise 1d The Maze Population\n",
    "\n",
    "\n",
    "Take your maze data structure. Write a program to count the total number of people in the maze, and also determine the total possible occupants."
   ]
  },
  {
   "cell_type": "code",
   "execution_count": 48,
   "id": "hnsIYpDRZ8yH",
   "metadata": {
    "id": "hnsIYpDRZ8yH"
   },
   "outputs": [
    {
     "name": "stdout",
     "output_type": "stream",
     "text": [
      "Numărul total de oameni din labirint: 3\n",
      "Capacitatea maximă totală a labirintului: 8\n"
     ]
    }
   ],
   "source": [
    "# Funcție pentru a obține numărul total de oameni din labirint\n",
    "def total_people():\n",
    "    total = 0\n",
    "    for room in maze.values():\n",
    "        total += len(room[\"people\"])  # Adunăm numărul de persoane din fiecare cameră\n",
    "    return total\n",
    "\n",
    "# Funcție pentru a obține capacitatea maximă totală a labirintului\n",
    "def total_capacity():\n",
    "    total = 0\n",
    "    for room in maze.values():\n",
    "        total += room[\"capacity\"]  # Adunăm capacitatea fiecărei camere\n",
    "    return total\n",
    "\n",
    "# Exemplu de utilizare:\n",
    "print(f\"Numărul total de oameni din labirint: {total_people()}\")\n",
    "print(f\"Capacitatea maximă totală a labirintului: {total_capacity()}\")\n"
   ]
  }
 ],
 "metadata": {
  "colab": {
   "provenance": []
  },
  "kernelspec": {
   "display_name": ".venv",
   "language": "python",
   "name": "python3"
  },
  "language_info": {
   "codemirror_mode": {
    "name": "ipython",
    "version": 3
   },
   "file_extension": ".py",
   "mimetype": "text/x-python",
   "name": "python",
   "nbconvert_exporter": "python",
   "pygments_lexer": "ipython3",
   "version": "3.12.1"
  }
 },
 "nbformat": 4,
 "nbformat_minor": 5
}
