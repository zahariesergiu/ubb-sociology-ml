{
 "cells": [
  {
   "cell_type": "markdown",
   "id": "d8ed7f67",
   "metadata": {
    "id": "d8ed7f67"
   },
   "source": [
    "# 1.6 Classroom Exercises"
   ]
  },
  {
   "cell_type": "markdown",
   "id": "85ae7395",
   "metadata": {
    "id": "85ae7395"
   },
   "source": [
    "**List of exercises and estimated completion times**\n",
    "\n",
    "[1a - Using Functions](#Exercise-1b-Using-Functions) *10 minutes*\n",
    "\n",
    "[1b - Operators](#Exercise-1c-Operators) *10 minutes*\n",
    "\n",
    "[1c - Maze Model](#Exercise-1d-Maze-Model) *25 minutes*\n",
    "\n",
    "[1d - The Maze Population](#Exercise-1e-The-Maze-Population) *10 minutes*  \n"
   ]
  },
  {
   "cell_type": "markdown",
   "id": "70458ec0",
   "metadata": {
    "id": "70458ec0"
   },
   "source": [
    "## Exercise 1a Using Functions\n",
    "\n",
    "\n",
    "Try to find the operator or function you need to calculate the following (the easiest way might be an internet search).\n",
    "\n",
    "What is 2 to the power 15?\n",
    "\n",
    "Convert `\"It was the best of times\"` to uppercase.\n",
    "\n",
    "Sort the list `[10, 9, 0, 20, 8, 2, 30, 7, 3]`.\n",
    "\n",
    "What is 100! ? (That is, what is the factorial of 100?) Hint: the `factorial` function is in the `math` library"
   ]
  },
  {
   "cell_type": "code",
   "execution_count": 1,
   "id": "e6406ffc",
   "metadata": {},
   "outputs": [
    {
     "name": "stdout",
     "output_type": "stream",
     "text": [
      "2 la puterea 15 este 32768\n"
     ]
    }
   ],
   "source": [
    "# 2 la puterea 15 \n",
    "exercitiu_1 = 2 ** 15\n",
    "print(\"2 la puterea 15 este\", exercitiu_1)"
   ]
  },
  {
   "cell_type": "code",
   "execution_count": 3,
   "id": "3c98ba5e",
   "metadata": {},
   "outputs": [
    {
     "name": "stdout",
     "output_type": "stream",
     "text": [
      "Text modificat: IT WAS THE BEST OF TIMES\n"
     ]
    }
   ],
   "source": [
    "# conversie din litere mici in litere mari \n",
    "text = \"It was the best of times\"\n",
    "exercitiu_2 = text.upper()\n",
    "print(\"Text modificat:\", exercitiu_2)"
   ]
  },
  {
   "cell_type": "code",
   "execution_count": 4,
   "id": "1bc4780b",
   "metadata": {},
   "outputs": [
    {
     "name": "stdout",
     "output_type": "stream",
     "text": [
      "Lista sortata -  [0, 2, 3, 7, 8, 9, 10, 20, 30]\n"
     ]
    }
   ],
   "source": [
    "# sortarea listei \n",
    "l = [10, 9, 0, 20, 8, 2, 30, 7, 3]\n",
    "lista_sortata = sorted(l)\n",
    "print(\"Lista sortata - \", lista_sortata)"
   ]
  },
  {
   "cell_type": "code",
   "execution_count": 5,
   "id": "e43f76d8",
   "metadata": {},
   "outputs": [
    {
     "name": "stdout",
     "output_type": "stream",
     "text": [
      "100 factorial este: 93326215443944152681699238856266700490715968264381621468592963895217599993229915608941463976156518286253697920827223758251185210916864000000000000000000000000\n"
     ]
    }
   ],
   "source": [
    "# 100 factorial \n",
    "import math\n",
    "\n",
    "fact_100 = math.factorial(100)\n",
    "print(\"100 factorial este:\", fact_100)"
   ]
  },
  {
   "cell_type": "markdown",
   "id": "d064ba13",
   "metadata": {
    "id": "d064ba13"
   },
   "source": [
    "## Exercise 1b Operators\n",
    "\n",
    "\n",
    "Which of the operators `+`, `-`, `*`, and `/` do something useful with the lists `[1, 10, 100]` and `[5, 4, 7]`?\n",
    "\n",
    "What happens if you apply the operators `+`, `-`, `*`, `/` to a list and a number?\n",
    "\n",
    "What about a string and a string?"
   ]
  },
  {
   "cell_type": "code",
   "execution_count": 7,
   "id": "942e7569",
   "metadata": {},
   "outputs": [
    {
     "name": "stdout",
     "output_type": "stream",
     "text": [
      "rezultatul adunarii dintre 2 liste este: [1, 10, 100, 5, 4, 7]\n"
     ]
    }
   ],
   "source": [
    "# pentru 2 liste, singura operatie care functioneaza este + \n",
    "## aceasta concateneaza listele \n",
    "l1 = [1, 10, 100]\n",
    "l2 = [5, 4, 7]\n",
    "\n",
    "rezultat = l1 + l2\n",
    "print(\"rezultatul adunarii dintre 2 liste este:\", rezultat)\n"
   ]
  },
  {
   "cell_type": "code",
   "execution_count": 10,
   "id": "64c238b8",
   "metadata": {},
   "outputs": [
    {
     "ename": "TypeError",
     "evalue": "can't multiply sequence by non-int of type 'list'",
     "output_type": "error",
     "traceback": [
      "\u001b[1;31m---------------------------------------------------------------------------\u001b[0m",
      "\u001b[1;31mTypeError\u001b[0m                                 Traceback (most recent call last)",
      "Cell \u001b[1;32mIn[10], line 1\u001b[0m\n\u001b[1;32m----> 1\u001b[0m inmultire \u001b[38;5;241m=\u001b[39m \u001b[43ml1\u001b[49m\u001b[43m \u001b[49m\u001b[38;5;241;43m*\u001b[39;49m\u001b[43m \u001b[49m\u001b[43ml2\u001b[49m\n",
      "\u001b[1;31mTypeError\u001b[0m: can't multiply sequence by non-int of type 'list'"
     ]
    }
   ],
   "source": [
    "inmultire = l1 * l2"
   ]
  },
  {
   "cell_type": "code",
   "execution_count": 11,
   "id": "9bfdd8f2",
   "metadata": {},
   "outputs": [
    {
     "ename": "TypeError",
     "evalue": "unsupported operand type(s) for -: 'list' and 'list'",
     "output_type": "error",
     "traceback": [
      "\u001b[1;31m---------------------------------------------------------------------------\u001b[0m",
      "\u001b[1;31mTypeError\u001b[0m                                 Traceback (most recent call last)",
      "Cell \u001b[1;32mIn[11], line 1\u001b[0m\n\u001b[1;32m----> 1\u001b[0m scadere \u001b[38;5;241m=\u001b[39m \u001b[43ml2\u001b[49m\u001b[43m \u001b[49m\u001b[38;5;241;43m-\u001b[39;49m\u001b[43m \u001b[49m\u001b[43ml1\u001b[49m\n",
      "\u001b[1;31mTypeError\u001b[0m: unsupported operand type(s) for -: 'list' and 'list'"
     ]
    }
   ],
   "source": [
    "scadere = l2 - l1"
   ]
  },
  {
   "cell_type": "code",
   "execution_count": 12,
   "id": "b50a4736",
   "metadata": {},
   "outputs": [
    {
     "ename": "TypeError",
     "evalue": "unsupported operand type(s) for /: 'list' and 'list'",
     "output_type": "error",
     "traceback": [
      "\u001b[1;31m---------------------------------------------------------------------------\u001b[0m",
      "\u001b[1;31mTypeError\u001b[0m                                 Traceback (most recent call last)",
      "Cell \u001b[1;32mIn[12], line 1\u001b[0m\n\u001b[1;32m----> 1\u001b[0m impartire \u001b[38;5;241m=\u001b[39m \u001b[43ml1\u001b[49m\u001b[43m \u001b[49m\u001b[38;5;241;43m/\u001b[39;49m\u001b[43m \u001b[49m\u001b[43ml2\u001b[49m\n",
      "\u001b[1;31mTypeError\u001b[0m: unsupported operand type(s) for /: 'list' and 'list'"
     ]
    }
   ],
   "source": [
    "impartire = l1 / l2"
   ]
  },
  {
   "cell_type": "code",
   "execution_count": 14,
   "id": "7d73d95f",
   "metadata": {},
   "outputs": [
    {
     "name": "stdout",
     "output_type": "stream",
     "text": [
      "rezultatul inmultirii unei liste cu un nr este: [1, 10, 100, 1, 10, 100]\n"
     ]
    }
   ],
   "source": [
    "# intre o lista si un numar singura operatie posibila este * \n",
    "## astfel daca inmultim o lista cu 2, aceasta se va multiplica de 2 ori\n",
    "\n",
    "l1 = [1, 10, 100]\n",
    "rezultat_lista_si_nr = l1 * 2\n",
    "print(\"rezultatul inmultirii unei liste cu un nr este:\", rezultat_lista_si_nr)"
   ]
  },
  {
   "cell_type": "code",
   "execution_count": 15,
   "id": "f4008cee",
   "metadata": {},
   "outputs": [
    {
     "ename": "TypeError",
     "evalue": "can only concatenate list (not \"int\") to list",
     "output_type": "error",
     "traceback": [
      "\u001b[1;31m---------------------------------------------------------------------------\u001b[0m",
      "\u001b[1;31mTypeError\u001b[0m                                 Traceback (most recent call last)",
      "Cell \u001b[1;32mIn[15], line 1\u001b[0m\n\u001b[1;32m----> 1\u001b[0m \u001b[43ml1\u001b[49m\u001b[43m \u001b[49m\u001b[38;5;241;43m+\u001b[39;49m\u001b[43m \u001b[49m\u001b[38;5;241;43m2\u001b[39;49m\n",
      "\u001b[1;31mTypeError\u001b[0m: can only concatenate list (not \"int\") to list"
     ]
    }
   ],
   "source": [
    "l1 + 2"
   ]
  },
  {
   "cell_type": "code",
   "execution_count": 16,
   "id": "92f94320",
   "metadata": {},
   "outputs": [
    {
     "ename": "TypeError",
     "evalue": "unsupported operand type(s) for /: 'list' and 'int'",
     "output_type": "error",
     "traceback": [
      "\u001b[1;31m---------------------------------------------------------------------------\u001b[0m",
      "\u001b[1;31mTypeError\u001b[0m                                 Traceback (most recent call last)",
      "Cell \u001b[1;32mIn[16], line 1\u001b[0m\n\u001b[1;32m----> 1\u001b[0m \u001b[43ml1\u001b[49m\u001b[43m \u001b[49m\u001b[38;5;241;43m/\u001b[39;49m\u001b[43m \u001b[49m\u001b[38;5;241;43m2\u001b[39;49m\n",
      "\u001b[1;31mTypeError\u001b[0m: unsupported operand type(s) for /: 'list' and 'int'"
     ]
    }
   ],
   "source": [
    "l1 / 2"
   ]
  },
  {
   "cell_type": "code",
   "execution_count": 19,
   "id": "31542c31",
   "metadata": {},
   "outputs": [
    {
     "name": "stdout",
     "output_type": "stream",
     "text": [
      "Rezultatul adunarii a 2 stringuri este: Hello Cris\n",
      "Rezultatul inmultirii unui string este: HelloHello\n"
     ]
    }
   ],
   "source": [
    "# intre 2 stringuri 2 operatii sunt posibile -> + (care concateneaza sirurile si *(repeta sirul) \n",
    "string1 = \"Hello\"\n",
    "string2 = \"Cris\"\n",
    "\n",
    "rezultat_adunare_string = string1 + \" \" + string2\n",
    "rezultat_inmultire_string = string1 * 2\n",
    "print(\"Rezultatul adunarii a 2 stringuri este:\", rezultat_adunare_string)\n",
    "print(\"Rezultatul inmultirii unui string este:\", rezultat_inmultire_string)\n"
   ]
  },
  {
   "cell_type": "markdown",
   "id": "ea1696da",
   "metadata": {},
   "source": [
    "## LISTE\n",
    "### + concateneaza listele\n",
    "### * repeta lista \n",
    "### restul operatiilor dau erori\n",
    "\n",
    "## LISTA SI NUMAR \n",
    "### * repeta lista de cate ori vrem\n",
    "### restul au erori \n",
    "\n",
    "## STRING (SIRURI DE CARACTERE)\n",
    "### + concateneaza sirurile \n",
    "### * repeta sirul de  cate ori vrem\n",
    "### restul au erori "
   ]
  },
  {
   "cell_type": "markdown",
   "id": "9de9ab85",
   "metadata": {
    "id": "9de9ab85"
   },
   "source": [
    "## Exercise 1c Maze Model\n",
    "\n",
    "\n",
    "Work with a partner to design a data structure to represent a maze using dictionaries and lists.\n",
    "\n",
    "* Each place in the maze has a name, which is a string.\n",
    "* Each place in the maze has one or more people currently standing at it, by name.\n",
    "* Each place in the maze has a maximum capacity of people that can fit in it.\n",
    "* From each place in the maze, you can go from that place to a few other places, using a direction like 'up', 'north', or 'sideways'\n",
    "\n",
    "Create an example instance, in a notebook, of a simple structure for your maze:\n",
    "\n",
    "* The front room can hold 2 people. James is currently there. You can go outside to the garden, or upstairs to the bedroom, or north to the kitchen.\n",
    "* From the kitchen, you can go south to the front room. It fits 1 person.\n",
    "* From the garden you can go inside to front room. It fits 3 people. Sue is currently there.\n",
    "* From the bedroom, you can go downstairs to the front room. You can also jump out of the window to the garden. It fits 2 people.\n",
    "\n",
    "Make sure that your model:\n",
    "\n",
    "* Allows empty rooms\n",
    "* Allows you to jump out of the upstairs window, but not to fly back up.\n",
    "* Allows rooms which people can't fit in.\n",
    "\n",
    "\n",
    "```python\n",
    "house = [ \"Your answer here\" ]\n",
    "```\n",
    "or\n",
    "```python\n",
    "house = { \"Your answer here\" }\n",
    "```"
   ]
  },
  {
   "cell_type": "markdown",
   "id": "8643be35",
   "metadata": {
    "id": "8643be35"
   },
   "source": [
    "## Exercise 1d The Maze Population\n",
    "\n",
    "\n",
    "Take your maze data structure. Write a program to count the total number of people in the maze, and also determine the total possible occupants."
   ]
  },
  {
   "cell_type": "code",
   "execution_count": null,
   "id": "hnsIYpDRZ8yH",
   "metadata": {
    "id": "hnsIYpDRZ8yH"
   },
   "outputs": [],
   "source": []
  }
 ],
 "metadata": {
  "colab": {
   "provenance": []
  },
  "kernelspec": {
   "display_name": "Python 3",
   "language": "python",
   "name": "python3"
  },
  "language_info": {
   "codemirror_mode": {
    "name": "ipython",
    "version": 3
   },
   "file_extension": ".py",
   "mimetype": "text/x-python",
   "name": "python",
   "nbconvert_exporter": "python",
   "pygments_lexer": "ipython3",
   "version": "3.13.1"
  }
 },
 "nbformat": 4,
 "nbformat_minor": 5
}
