{
 "cells": [
  {
   "cell_type": "markdown",
   "id": "d8ed7f67",
   "metadata": {
    "id": "d8ed7f67"
   },
   "source": [
    "# 1.6 Classroom Exercises"
   ]
  },
  {
   "cell_type": "markdown",
   "id": "85ae7395",
   "metadata": {
    "id": "85ae7395"
   },
   "source": [
    "**List of exercises and estimated completion times**\n",
    "\n",
    "[1a - Using Functions](#Exercise-1b-Using-Functions) *10 minutes*\n",
    "\n",
    "[1b - Operators](#Exercise-1c-Operators) *10 minutes*\n",
    "\n",
    "[1c - Maze Model](#Exercise-1d-Maze-Model) *25 minutes*\n",
    "\n",
    "[1d - The Maze Population](#Exercise-1e-The-Maze-Population) *10 minutes*  \n"
   ]
  },
  {
   "cell_type": "markdown",
   "id": "70458ec0",
   "metadata": {
    "id": "70458ec0"
   },
   "source": [
    "## Exercise 1a Using Functions\n",
    "\n",
    "\n",
    "Try to find the operator or function you need to calculate the following (the easiest way might be an internet search).\n",
    "\n",
    "What is 2 to the power 15?\n",
    "\n",
    "Convert `\"It was the best of times\"` to uppercase.\n",
    "\n",
    "Sort the list `[10, 9, 0, 20, 8, 2, 30, 7, 3]`.\n",
    "\n",
    "What is 100! ? (That is, what is the factorial of 100?) Hint: the `factorial` function is in the `math` library"
   ]
  },
  {
   "cell_type": "markdown",
   "id": "d064ba13",
   "metadata": {
    "id": "d064ba13"
   },
   "source": [
    "## Exercise 1b Operators\n",
    "\n",
    "\n",
    "Which of the operators `+`, `-`, `*`, and `/` do something useful with the lists `[1, 10, 100]` and `[5, 4, 7]`?\n",
    "\n",
    "What happens if you apply the operators `+`, `-`, `*`, `/` to a list and a number?\n",
    "\n",
    "What about a string and a string?"
   ]
  },
  {
   "cell_type": "markdown",
   "id": "9de9ab85",
   "metadata": {
    "id": "9de9ab85"
   },
   "source": [
    "## Exercise 1c Maze Model\n",
    "\n",
    "\n",
    "Work with a partner to design a data structure to represent a maze using dictionaries and lists.\n",
    "\n",
    "* Each place in the maze has a name, which is a string.\n",
    "* Each place in the maze has one or more people currently standing at it, by name.\n",
    "* Each place in the maze has a maximum capacity of people that can fit in it.\n",
    "* From each place in the maze, you can go from that place to a few other places, using a direction like 'up', 'north', or 'sideways'\n",
    "\n",
    "Create an example instance, in a notebook, of a simple structure for your maze:\n",
    "\n",
    "* The front room can hold 2 people. James is currently there. You can go outside to the garden, or upstairs to the bedroom, or north to the kitchen.\n",
    "* From the kitchen, you can go south to the front room. It fits 1 person.\n",
    "* From the garden you can go inside to front room. It fits 3 people. Sue is currently there.\n",
    "* From the bedroom, you can go downstairs to the front room. You can also jump out of the window to the garden. It fits 2 people.\n",
    "\n",
    "Make sure that your model:\n",
    "\n",
    "* Allows empty rooms\n",
    "* Allows you to jump out of the upstairs window, but not to fly back up.\n",
    "* Allows rooms which people can't fit in.\n",
    "\n",
    "\n",
    "```python\n",
    "house = [ \"Your answer here\" ]\n",
    "```\n",
    "or\n",
    "```python\n",
    "house = { \"Your answer here\" }\n",
    "```"
   ]
  },
  {
   "cell_type": "markdown",
   "id": "8643be35",
   "metadata": {
    "id": "8643be35"
   },
   "source": [
    "## Exercise 1d The Maze Population\n",
    "\n",
    "\n",
    "Take your maze data structure. Write a program to count the total number of people in the maze, and also determine the total possible occupants."
   ]
  },
  {
   "cell_type": "markdown",
   "id": "e4778d9c",
   "metadata": {},
   "source": [
    "EXERCITIUL 1A"
   ]
  },
  {
   "cell_type": "code",
   "execution_count": 1,
   "id": "hnsIYpDRZ8yH",
   "metadata": {
    "id": "hnsIYpDRZ8yH"
   },
   "outputs": [
    {
     "name": "stdout",
     "output_type": "stream",
     "text": [
      "32768\n"
     ]
    }
   ],
   "source": [
    "#Ce este 2 la puterea 15? În Python, pentru a calcula puterea, poți folosi operatorul **\n",
    "\n",
    "result = 2 ** 15\n",
    "print(result)\n"
   ]
  },
  {
   "cell_type": "code",
   "execution_count": 2,
   "id": "b2985840",
   "metadata": {},
   "outputs": [
    {
     "name": "stdout",
     "output_type": "stream",
     "text": [
      "IT WAS THE BEST OF TIMES\n"
     ]
    }
   ],
   "source": [
    "##Ca sa transform textul in majuscule trebuie sa folosim metoda UPPER\n",
    "\n",
    "text = \"It was the best of times\"\n",
    "uppercase_text = text.upper()\n",
    "print(uppercase_text)\n"
   ]
  },
  {
   "cell_type": "code",
   "execution_count": 3,
   "id": "9f1c9020",
   "metadata": {},
   "outputs": [
    {
     "name": "stdout",
     "output_type": "stream",
     "text": [
      "[0, 2, 3, 7, 8, 9, 10, 20, 30]\n"
     ]
    }
   ],
   "source": [
    "##Sortarea listei [10, 9, 0, 20, 8, 2, 30, 7, 3]  funcția sorted() pentru a sorta o listă:\n",
    "\n",
    "my_list = [10, 9, 0, 20, 8, 2, 30, 7, 3]\n",
    "sorted_list = sorted(my_list)\n",
    "print(sorted_list)\n"
   ]
  },
  {
   "cell_type": "code",
   "execution_count": 4,
   "id": "893fb26c",
   "metadata": {},
   "outputs": [
    {
     "name": "stdout",
     "output_type": "stream",
     "text": [
      "93326215443944152681699238856266700490715968264381621468592963895217599993229915608941463976156518286253697920827223758251185210916864000000000000000000000000\n"
     ]
    }
   ],
   "source": [
    "##Factorialul lui 100 Pentru factorial, trebuie să importezi funcția factorial din biblioteca math:\n",
    "\n",
    "import math\n",
    "factorial_100 = math.factorial(100)\n",
    "print(factorial_100)\n",
    "\n"
   ]
  },
  {
   "cell_type": "markdown",
   "id": "7a7f9955",
   "metadata": {},
   "source": [
    "EXERCITIUL 2B"
   ]
  },
  {
   "cell_type": "code",
   "execution_count": 5,
   "id": "9cdf0cf1",
   "metadata": {},
   "outputs": [
    {
     "name": "stdout",
     "output_type": "stream",
     "text": [
      "[1, 10, 100, 5, 4, 7]\n"
     ]
    }
   ],
   "source": [
    "#Operatori utili între liste Poți experimenta operatorii pentru liste:\n",
    "\n",
    "list1 = [1, 10, 100]\n",
    "list2 = [5, 4, 7]\n",
    "\n",
    "# Concatenează două liste\n",
    "combined = list1 + list2\n",
    "print(combined)\n",
    "\n",
    "# Alți operatori precum * sau - nu funcționează direct pe liste.\n"
   ]
  },
  {
   "cell_type": "code",
   "execution_count": 6,
   "id": "72ac6fb9",
   "metadata": {},
   "outputs": [
    {
     "name": "stdout",
     "output_type": "stream",
     "text": [
      "[1, 10, 100, 1, 10, 100]\n"
     ]
    }
   ],
   "source": [
    "##Ce se întâmplă dacă aplici operatori la o listă și un număr? Majoritatea operatorilor dau erori, dar * funcționează pentru a repeta lista:\n",
    "\n",
    "repeated_list = list1 * 2  # Listei i se dublează elementele\n",
    "print(repeated_list)\n"
   ]
  },
  {
   "cell_type": "code",
   "execution_count": 7,
   "id": "d596f7d4",
   "metadata": {},
   "outputs": [
    {
     "name": "stdout",
     "output_type": "stream",
     "text": [
      "HelloWorld\n"
     ]
    }
   ],
   "source": [
    "#Ce se întâmplă cu un string + string? Adunarea dintre stringuri le concatenează:\n",
    "\n",
    "string1 = \"Hello\"\n",
    "string2 = \"World\"\n",
    "combined_string = string1 + string2\n",
    "print(combined_string)\n",
    "\n"
   ]
  },
  {
   "cell_type": "markdown",
   "id": "58e8821f",
   "metadata": {},
   "source": [
    "EXERCITIUL 1C - MAZE MODEL"
   ]
  },
  {
   "cell_type": "code",
   "execution_count": 8,
   "id": "4125f515",
   "metadata": {},
   "outputs": [],
   "source": [
    "#Pentru a crea un model al unui labirint cu structuri de date (dictionare și liste), ai putea face următorul lucru:\n",
    "\n",
    "Definirea structurii:\n",
    "\n",
    "maze = {\n",
    "    \"front_room\": {\n",
    "        \"capacity\": 2,\n",
    "        \"people\": [\"Patrick\"],\n",
    "        \"connections\": {\n",
    "            \"outside\": \"garden\",\n",
    "            \"upstairs\": \"bedroom\",\n",
    "            \"north\": \"kitchen\"\n",
    "        }\n",
    "    },\n",
    "    \"kitchen\": {\n",
    "        \"capacity\": 1,\n",
    "        \"people\": [],\n",
    "        \"connections\": {\n",
    "            \"south\": \"front_room\"\n",
    "        }\n",
    "    },\n",
    "    \"garden\": {\n",
    "        \"capacity\": 3,\n",
    "        \"people\": [\"Ioan\"],\n",
    "        \"connections\": {\n",
    "            \"inside\": \"front_room\"\n",
    "        }\n",
    "    },\n",
    "    \"bedroom\": {\n",
    "        \"capacity\": 2,\n",
    "        \"people\": [],\n",
    "        \"connections\": {\n",
    "            \"downstairs\": \"front_room\",\n",
    "            \"window\": \"garden\"\n",
    "        }\n",
    "    }\n",
    "}\n"
   ]
  },
  {
   "cell_type": "code",
   "execution_count": 9,
   "id": "cfc05477",
   "metadata": {},
   "outputs": [
    {
     "name": "stdout",
     "output_type": "stream",
     "text": [
      "Total oameni: 2\n",
      "Capacitate totală: 8\n"
     ]
    }
   ],
   "source": [
    "##Scrie un program pentru a calcula numărul total de oameni în labirint și capacitatea totală:\n",
    "\n",
    "total_people = 0\n",
    "total_capacity = 0\n",
    "\n",
    "for room, details in maze.items():\n",
    "    total_people += len(details[\"people\"])\n",
    "    total_capacity += details[\"capacity\"]\n",
    "\n",
    "print(f\"Total oameni: {total_people}\")\n",
    "print(f\"Capacitate totală: {total_capacity}\")\n"
   ]
  }
 ],
 "metadata": {
  "colab": {
   "provenance": []
  },
  "kernelspec": {
   "display_name": "Python 3",
   "language": "python",
   "name": "python3"
  },
  "language_info": {
   "codemirror_mode": {
    "name": "ipython",
    "version": 3
   },
   "file_extension": ".py",
   "mimetype": "text/x-python",
   "name": "python",
   "nbconvert_exporter": "python",
   "pygments_lexer": "ipython3",
   "version": "3.13.0"
  }
 },
 "nbformat": 4,
 "nbformat_minor": 5
}
