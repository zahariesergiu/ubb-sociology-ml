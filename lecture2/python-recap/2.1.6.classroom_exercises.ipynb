{
 "cells": [
  {
   "cell_type": "markdown",
   "id": "d8ed7f67",
   "metadata": {
    "id": "d8ed7f67"
   },
   "source": [
    "# 1.6 Classroom Exercises"
   ]
  },
  {
   "cell_type": "markdown",
   "id": "85ae7395",
   "metadata": {
    "id": "85ae7395"
   },
   "source": [
    "**List of exercises and estimated completion times**\n",
    "\n",
    "[1a - Using Functions](#Exercise-1b-Using-Functions) *10 minutes*\n",
    "\n",
    "[1b - Operators](#Exercise-1c-Operators) *10 minutes*\n",
    "\n",
    "[1c - Maze Model](#Exercise-1d-Maze-Model) *25 minutes*\n",
    "\n",
    "[1d - The Maze Population](#Exercise-1e-The-Maze-Population) *10 minutes*  \n"
   ]
  },
  {
   "cell_type": "markdown",
   "id": "70458ec0",
   "metadata": {
    "id": "70458ec0"
   },
   "source": [
    "## Exercise 1a Using Functions\n",
    "\n",
    "\n",
    "Try to find the operator or function you need to calculate the following (the easiest way might be an internet search).\n",
    "\n",
    "What is 2 to the power 15?\n",
    "\n",
    "Convert `\"It was the best of times\"` to uppercase.\n",
    "\n",
    "Sort the list `[10, 9, 0, 20, 8, 2, 30, 7, 3]`.\n",
    "\n",
    "What is 100! ? (That is, what is the factorial of 100?) Hint: the `factorial` function is in the `math` library"
   ]
  },
  {
   "cell_type": "code",
   "execution_count": 3,
   "id": "540167a8",
   "metadata": {},
   "outputs": [
    {
     "name": "stdout",
     "output_type": "stream",
     "text": [
      "Rezultatul pentru 2 ** 15 este: 32768\n"
     ]
    }
   ],
   "source": [
    "result = 2 ** 15\n",
    "print(\"Rezultatul pentru 2 ** 15 este:\", result)"
   ]
  },
  {
   "cell_type": "code",
   "execution_count": 7,
   "id": "3724cb61",
   "metadata": {},
   "outputs": [],
   "source": [
    "text = \"It was the best of times\"\n",
    "result = text.upper()\n"
   ]
  },
  {
   "cell_type": "code",
   "execution_count": 9,
   "id": "ad125d5a",
   "metadata": {},
   "outputs": [
    {
     "name": "stdout",
     "output_type": "stream",
     "text": [
      "[0, 2, 3, 7, 8, 9, 10, 20, 30]\n"
     ]
    }
   ],
   "source": [
    "sorted_list = sorted([10, 9, 0, 20, 8, 2, 30, 7, 3])\n",
    "print(sorted_list)"
   ]
  },
  {
   "cell_type": "code",
   "execution_count": 11,
   "id": "4d66bbe8",
   "metadata": {},
   "outputs": [
    {
     "name": "stdout",
     "output_type": "stream",
     "text": [
      "93326215443944152681699238856266700490715968264381621468592963895217599993229915608941463976156518286253697920827223758251185210916864000000000000000000000000\n"
     ]
    }
   ],
   "source": [
    "import math\n",
    "result = math.factorial(100)\n",
    "print(result)\n"
   ]
  },
  {
   "cell_type": "markdown",
   "id": "d064ba13",
   "metadata": {
    "id": "d064ba13"
   },
   "source": [
    "## Exercise 1b Operators\n",
    "\n",
    "\n",
    "Which of the operators `+`, `-`, `*`, and `/` do something useful with the lists `[1, 10, 100]` and `[5, 4, 7]`?\n",
    "\n",
    "What happens if you apply the operators `+`, `-`, `*`, `/` to a list and a number?\n",
    "\n",
    "What about a string and a string?"
   ]
  },
  {
   "cell_type": "code",
   "execution_count": 12,
   "id": "c50b9128",
   "metadata": {},
   "outputs": [
    {
     "name": "stdout",
     "output_type": "stream",
     "text": [
      "[1, 10, 100, 5, 4, 7]\n"
     ]
    }
   ],
   "source": [
    "## Concatenarea celor doua liste prin +\n",
    "rezultat = [1, 10, 100] + [5, 4, 7]\n",
    "print (rezultat)"
   ]
  },
  {
   "cell_type": "code",
   "execution_count": 13,
   "id": "10680c64",
   "metadata": {},
   "outputs": [
    {
     "ename": "TypeError",
     "evalue": "unsupported operand type(s) for -: 'list' and 'list'",
     "output_type": "error",
     "traceback": [
      "\u001b[1;31m---------------------------------------------------------------------------\u001b[0m",
      "\u001b[1;31mTypeError\u001b[0m                                 Traceback (most recent call last)",
      "Cell \u001b[1;32mIn[13], line 2\u001b[0m\n\u001b[0;32m      1\u001b[0m \u001b[38;5;66;03m## scaderea nu este suportata de liste si genereaza eroare\u001b[39;00m\n\u001b[1;32m----> 2\u001b[0m rezultat \u001b[38;5;241m=\u001b[39m \u001b[43m[\u001b[49m\u001b[38;5;241;43m1\u001b[39;49m\u001b[43m,\u001b[49m\u001b[43m \u001b[49m\u001b[38;5;241;43m10\u001b[39;49m\u001b[43m,\u001b[49m\u001b[43m \u001b[49m\u001b[38;5;241;43m100\u001b[39;49m\u001b[43m]\u001b[49m\u001b[43m \u001b[49m\u001b[38;5;241;43m-\u001b[39;49m\u001b[43m \u001b[49m\u001b[43m[\u001b[49m\u001b[38;5;241;43m5\u001b[39;49m\u001b[43m,\u001b[49m\u001b[43m \u001b[49m\u001b[38;5;241;43m4\u001b[39;49m\u001b[43m,\u001b[49m\u001b[43m \u001b[49m\u001b[38;5;241;43m7\u001b[39;49m\u001b[43m]\u001b[49m\n",
      "\u001b[1;31mTypeError\u001b[0m: unsupported operand type(s) for -: 'list' and 'list'"
     ]
    }
   ],
   "source": [
    "## scaderea nu este suportata de liste si genereaza eroare\n",
    "rezultat = [1, 10, 100] - [5, 4, 7]"
   ]
  },
  {
   "cell_type": "code",
   "execution_count": 14,
   "id": "afd96a93",
   "metadata": {},
   "outputs": [
    {
     "name": "stdout",
     "output_type": "stream",
     "text": [
      "[1, 10, 100, 1, 10, 100, 1, 10, 100]\n"
     ]
    }
   ],
   "source": [
    "## prin inmultire se repeta prima lista de ex de un anumit numar de ori\n",
    "rezultat = [1, 10, 100] * 3\n",
    "print(rezultat)"
   ]
  },
  {
   "cell_type": "code",
   "execution_count": 15,
   "id": "0aa25df9",
   "metadata": {},
   "outputs": [
    {
     "ename": "TypeError",
     "evalue": "unsupported operand type(s) for /: 'list' and 'list'",
     "output_type": "error",
     "traceback": [
      "\u001b[1;31m---------------------------------------------------------------------------\u001b[0m",
      "\u001b[1;31mTypeError\u001b[0m                                 Traceback (most recent call last)",
      "Cell \u001b[1;32mIn[15], line 2\u001b[0m\n\u001b[0;32m      1\u001b[0m \u001b[38;5;66;03m## impartirea ca si in cazul scaderii nu este suportata de liste si genereaza eroarae\u001b[39;00m\n\u001b[1;32m----> 2\u001b[0m rezultat \u001b[38;5;241m=\u001b[39m \u001b[43m[\u001b[49m\u001b[38;5;241;43m1\u001b[39;49m\u001b[43m,\u001b[49m\u001b[43m \u001b[49m\u001b[38;5;241;43m10\u001b[39;49m\u001b[43m,\u001b[49m\u001b[43m \u001b[49m\u001b[38;5;241;43m100\u001b[39;49m\u001b[43m]\u001b[49m\u001b[43m \u001b[49m\u001b[38;5;241;43m/\u001b[39;49m\u001b[43m \u001b[49m\u001b[43m[\u001b[49m\u001b[38;5;241;43m5\u001b[39;49m\u001b[43m,\u001b[49m\u001b[43m \u001b[49m\u001b[38;5;241;43m4\u001b[39;49m\u001b[43m,\u001b[49m\u001b[43m \u001b[49m\u001b[38;5;241;43m7\u001b[39;49m\u001b[43m]\u001b[49m\n",
      "\u001b[1;31mTypeError\u001b[0m: unsupported operand type(s) for /: 'list' and 'list'"
     ]
    }
   ],
   "source": [
    "## impartirea ca si in cazul scaderii nu este suportata de liste si genereaza eroarae\n",
    "rezultat = [1, 10, 100] / [5, 4, 7]"
   ]
  },
  {
   "cell_type": "code",
   "execution_count": 16,
   "id": "2ae5baca",
   "metadata": {},
   "outputs": [
    {
     "ename": "TypeError",
     "evalue": "can only concatenate list (not \"int\") to list",
     "output_type": "error",
     "traceback": [
      "\u001b[1;31m---------------------------------------------------------------------------\u001b[0m",
      "\u001b[1;31mTypeError\u001b[0m                                 Traceback (most recent call last)",
      "Cell \u001b[1;32mIn[16], line 2\u001b[0m\n\u001b[0;32m      1\u001b[0m \u001b[38;5;66;03m## adunarea intre o lista si un numar genereaza eroare, nu este suportata de liste\u001b[39;00m\n\u001b[1;32m----> 2\u001b[0m rezultat \u001b[38;5;241m=\u001b[39m \u001b[43m[\u001b[49m\u001b[38;5;241;43m1\u001b[39;49m\u001b[43m,\u001b[49m\u001b[43m \u001b[49m\u001b[38;5;241;43m10\u001b[39;49m\u001b[43m,\u001b[49m\u001b[43m \u001b[49m\u001b[38;5;241;43m100\u001b[39;49m\u001b[43m]\u001b[49m\u001b[43m \u001b[49m\u001b[38;5;241;43m+\u001b[39;49m\u001b[43m \u001b[49m\u001b[38;5;241;43m5\u001b[39;49m\n",
      "\u001b[1;31mTypeError\u001b[0m: can only concatenate list (not \"int\") to list"
     ]
    }
   ],
   "source": [
    "## adunarea si scaderea si impartirea intre o lista si un numar genereaza eroare, nu sunt suportate de liste\n",
    "rezultat = [1, 10, 100] + 5"
   ]
  },
  {
   "cell_type": "code",
   "execution_count": 17,
   "id": "ee0f5a61",
   "metadata": {},
   "outputs": [
    {
     "name": "stdout",
     "output_type": "stream",
     "text": [
      "[1, 10, 100, 1, 10, 100, 1, 10, 100]\n"
     ]
    }
   ],
   "source": [
    "## prin inmultire se repeta prima lista de ex de un anumit numar de ori\n",
    "rezultat = [1, 10, 100] * 3\n",
    "print(rezultat)"
   ]
  },
  {
   "cell_type": "code",
   "execution_count": 18,
   "id": "6faf9e37",
   "metadata": {},
   "outputs": [
    {
     "name": "stdout",
     "output_type": "stream",
     "text": [
      "AndreeaAlexandra\n"
     ]
    }
   ],
   "source": [
    "## adunarea la un string concateneaza\n",
    "rezultat= \"Andreea\" + \"Alexandra\"\n",
    "print (rezultat)"
   ]
  },
  {
   "cell_type": "code",
   "execution_count": 19,
   "id": "bff943be",
   "metadata": {},
   "outputs": [
    {
     "ename": "TypeError",
     "evalue": "unsupported operand type(s) for -: 'str' and 'str'",
     "output_type": "error",
     "traceback": [
      "\u001b[1;31m---------------------------------------------------------------------------\u001b[0m",
      "\u001b[1;31mTypeError\u001b[0m                                 Traceback (most recent call last)",
      "Cell \u001b[1;32mIn[19], line 1\u001b[0m\n\u001b[1;32m----> 1\u001b[0m rezultat\u001b[38;5;241m=\u001b[39m \u001b[38;5;124;43m\"\u001b[39;49m\u001b[38;5;124;43mAndreea\u001b[39;49m\u001b[38;5;124;43m\"\u001b[39;49m\u001b[43m \u001b[49m\u001b[38;5;241;43m-\u001b[39;49m\u001b[43m \u001b[49m\u001b[38;5;124;43m\"\u001b[39;49m\u001b[38;5;124;43mAlexandra\u001b[39;49m\u001b[38;5;124;43m\"\u001b[39;49m\n\u001b[0;32m      2\u001b[0m \u001b[38;5;28mprint\u001b[39m (rezultat)\n",
      "\u001b[1;31mTypeError\u001b[0m: unsupported operand type(s) for -: 'str' and 'str'"
     ]
    }
   ],
   "source": [
    "## scaderea nu este suportata de string-uri\n",
    "rezultat= \"Andreea\" - \"Alexandra\"\n",
    "print (rezultat)"
   ]
  },
  {
   "cell_type": "code",
   "execution_count": 21,
   "id": "492a570b",
   "metadata": {},
   "outputs": [
    {
     "name": "stdout",
     "output_type": "stream",
     "text": [
      "AndreeaAndreeaAndreea\n"
     ]
    }
   ],
   "source": [
    "## inmultirea repeta un string de cate ori cerem\n",
    "rezultat= \"Andreea\" * 3\n",
    "print(rezultat)"
   ]
  },
  {
   "cell_type": "code",
   "execution_count": 22,
   "id": "ee60b4b4",
   "metadata": {},
   "outputs": [
    {
     "ename": "_IncompleteInputError",
     "evalue": "incomplete input (1321302149.py, line 3)",
     "output_type": "error",
     "traceback": [
      "\u001b[1;36m  Cell \u001b[1;32mIn[22], line 3\u001b[1;36m\u001b[0m\n\u001b[1;33m    print (rezultat\u001b[0m\n\u001b[1;37m                   ^\u001b[0m\n\u001b[1;31m_IncompleteInputError\u001b[0m\u001b[1;31m:\u001b[0m incomplete input\n"
     ]
    }
   ],
   "source": [
    "## impartirea nu este suportata de string-uri\n",
    "rezultat= \"Andreea\" / \"Alexandra\"\n",
    "print (rezultat"
   ]
  },
  {
   "cell_type": "markdown",
   "id": "9de9ab85",
   "metadata": {
    "id": "9de9ab85"
   },
   "source": [
    "## Exercise 1c Maze Model\n",
    "\n",
    "\n",
    "Work with a partner to design a data structure to represent a maze using dictionaries and lists.\n",
    "\n",
    "* Each place in the maze has a name, which is a string.\n",
    "* Each place in the maze has one or more people currently standing at it, by name.\n",
    "* Each place in the maze has a maximum capacity of people that can fit in it.\n",
    "* From each place in the maze, you can go from that place to a few other places, using a direction like 'up', 'north', or 'sideways'\n",
    "\n",
    "Create an example instance, in a notebook, of a simple structure for your maze:\n",
    "\n",
    "* The front room can hold 2 people. James is currently there. You can go outside to the garden, or upstairs to the bedroom, or north to the kitchen.\n",
    "* From the kitchen, you can go south to the front room. It fits 1 person.\n",
    "* From the garden you can go inside to front room. It fits 3 people. Sue is currently there.\n",
    "* From the bedroom, you can go downstairs to the front room. You can also jump out of the window to the garden. It fits 2 people.\n",
    "\n",
    "Make sure that your model:\n",
    "\n",
    "* Allows empty rooms\n",
    "* Allows you to jump out of the upstairs window, but not to fly back up.\n",
    "* Allows rooms which people can't fit in.\n",
    "\n",
    "\n",
    "```python\n",
    "house = [ \"Your answer here\" ]\n",
    "```\n",
    "or\n",
    "```python\n",
    "house = { \"Your answer here\" }\n",
    "```"
   ]
  },
  {
   "cell_type": "code",
   "execution_count": 24,
   "id": "4b2d2efd",
   "metadata": {},
   "outputs": [],
   "source": [
    "## labirintul este alcatuit din: capacitatea max a camerei, lista persoanelor de acolo, destinatii/directii in care se poate merge\n",
    "house = {\n",
    "    \"front_room\": {\n",
    "        \"max_capacity\": 2,\n",
    "        \"people\": [\"James\"],\n",
    "        \"connections\": {\n",
    "            \"outside\": \"garden\",\n",
    "            \"upstairs\": \"bedroom\",\n",
    "            \"north\": \"kitchen\"\n",
    "        }\n",
    "    },\n",
    "    \"kitchen\": {\n",
    "        \"max_capacity\": 1,\n",
    "        \"people\": [],\n",
    "        \"connections\": {\n",
    "            \"south\": \"front_room\"\n",
    "        }\n",
    "    },\n",
    "    \"garden\": {\n",
    "        \"max_capacity\": 3,\n",
    "        \"people\": [\"Sue\"],\n",
    "        \"connections\": {\n",
    "            \"inside\": \"front_room\"\n",
    "        }\n",
    "    },\n",
    "    \"bedroom\": {\n",
    "        \"max_capacity\": 2,\n",
    "        \"people\": [],\n",
    "        \"connections\": {\n",
    "            \"downstairs\": \"front_room\",\n",
    "            \"jump_out_window\": \"garden\"\n",
    "        }\n",
    "    }\n",
    "}\n"
   ]
  },
  {
   "cell_type": "code",
   "execution_count": 25,
   "id": "47e10300",
   "metadata": {},
   "outputs": [
    {
     "name": "stdout",
     "output_type": "stream",
     "text": [
      "['James']\n",
      "1\n",
      "{'downstairs': 'front_room', 'jump_out_window': 'garden'}\n"
     ]
    }
   ],
   "source": [
    "## testez modelul accesand cateva informtatii din dictionar\n",
    "\n",
    "print(house[\"front_room\"][\"people\"])\n",
    "\n",
    "print(house[\"kitchen\"][\"max_capacity\"])  \n",
    "\n",
    "print(house[\"bedroom\"][\"connections\"])"
   ]
  },
  {
   "cell_type": "markdown",
   "id": "8643be35",
   "metadata": {
    "id": "8643be35"
   },
   "source": [
    "## Exercise 1d The Maze Population\n",
    "\n",
    "\n",
    "Take your maze data structure. Write a program to count the total number of people in the maze, and also determine the total possible occupants."
   ]
  },
  {
   "cell_type": "code",
   "execution_count": 26,
   "id": "hnsIYpDRZ8yH",
   "metadata": {
    "id": "hnsIYpDRZ8yH"
   },
   "outputs": [
    {
     "name": "stdout",
     "output_type": "stream",
     "text": [
      "Numărul total de persoane în labirint: 2\n",
      "Capacitatea maximă totală a labirintului: 8\n"
     ]
    }
   ],
   "source": [
    "##numărul total de persoane din labirint și capacitatea maximă totală\n",
    "\n",
    "def count_population_and_capacity(house):\n",
    "    total_people = 0\n",
    "    total_capacity = 0\n",
    "\n",
    "    for room in house.values():\n",
    "        total_people += len(room[\"people\"])  # Adaugăm numărul de persoane din fiecare cameră\n",
    "        total_capacity += room[\"max_capacity\"]  # Adaugăm capacitatea maximă a fiecărei camere\n",
    "\n",
    "    return total_people, total_capacity\n",
    "\n",
    "total_people, total_capacity = count_population_and_capacity(house)\n",
    "print(f\"Numărul total de persoane în labirint: {total_people}\")\n",
    "print(f\"Capacitatea maximă totală a labirintului: {total_capacity}\")"
   ]
  }
 ],
 "metadata": {
  "colab": {
   "provenance": []
  },
  "kernelspec": {
   "display_name": "Python 3",
   "language": "python",
   "name": "python3"
  },
  "language_info": {
   "codemirror_mode": {
    "name": "ipython",
    "version": 3
   },
   "file_extension": ".py",
   "mimetype": "text/x-python",
   "name": "python",
   "nbconvert_exporter": "python",
   "pygments_lexer": "ipython3",
   "version": "3.13.0"
  }
 },
 "nbformat": 4,
 "nbformat_minor": 5
}
