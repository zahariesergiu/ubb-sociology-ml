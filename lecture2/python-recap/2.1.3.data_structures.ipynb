{
 "cells": [
  {
   "cell_type": "markdown",
   "metadata": {
    "id": "x-xQliltUs97"
   },
   "source": [
    "# 1.3 Data structures"
   ]
  },
  {
   "cell_type": "markdown",
   "metadata": {
    "id": "FR1BmPsAUs9_"
   },
   "source": [
    "*Estimated time for this notebook: 5 minutes*"
   ]
  },
  {
   "cell_type": "markdown",
   "metadata": {
    "id": "fsw7InUxUs-A"
   },
   "source": [
    "## 1.3.1 Nested Lists and Dictionaries"
   ]
  },
  {
   "cell_type": "markdown",
   "metadata": {
    "id": "E0fIEF91Us-A"
   },
   "source": [
    "In research programming, one of our most common tasks is building an appropriate *structure* to model our complicated\n",
    "data. Later in the course, we'll see how we can define our own types, with their own attributes, properties, and methods. But probably the most common approach is to use nested structures of lists, dictionaries, and sets to model our data. For example, an address might be modelled as a dictionary with appropriately named fields:"
   ]
  },
  {
   "cell_type": "code",
   "execution_count": 1,
   "metadata": {
    "id": "k97mYkV7Us-B"
   },
   "outputs": [],
   "source": [
    "UCL = {\"City\": \"London\", \"Street\": \"Gower Street\", \"Postcode\": \"WC1E 6BT\"}"
   ]
  },
  {
   "cell_type": "code",
   "execution_count": 2,
   "metadata": {
    "id": "YWoDuJK3Us-C"
   },
   "outputs": [],
   "source": [
    "James = {\"City\": \"London\", \"Street\": \"Waterson Street\", \"Postcode\": \"E2 8HH\"}"
   ]
  },
  {
   "cell_type": "markdown",
   "metadata": {
    "id": "XGpPi8kuUs-C"
   },
   "source": [
    "A collection of people's addresses is then a list of dictionaries:"
   ]
  },
  {
   "cell_type": "code",
   "execution_count": 10,
   "metadata": {
    "id": "4vmK0JfcUs-D"
   },
   "outputs": [],
   "source": [
    "addresses = [UCL, James]"
   ]
  },
  {
   "cell_type": "code",
   "execution_count": 4,
   "metadata": {
    "id": "HPrO1FdHUs-D",
    "outputId": "a53bf84f-3246-466e-d278-96ead0ba8190"
   },
   "outputs": [
    {
     "data": {
      "text/plain": [
       "[{'City': 'London', 'Street': 'Gower Street', 'Postcode': 'WC1E 6BT'},\n",
       " {'City': 'London', 'Street': 'Waterson Street', 'Postcode': 'E2 8HH'}]"
      ]
     },
     "execution_count": 4,
     "metadata": {},
     "output_type": "execute_result"
    }
   ],
   "source": [
    "addresses"
   ]
  },
  {
   "cell_type": "markdown",
   "metadata": {
    "id": "cWlZzI_MUs-E"
   },
   "source": [
    "A more complicated data structure, for example for a census database, might have a list of residents or employees at each address:"
   ]
  },
  {
   "cell_type": "code",
   "execution_count": 5,
   "metadata": {
    "id": "DsOTim4PUs-F"
   },
   "outputs": [],
   "source": [
    "UCL[\"people\"] = [\"Clare\", \"James\", \"Owain\"]"
   ]
  },
  {
   "cell_type": "code",
   "execution_count": 6,
   "metadata": {
    "id": "Av30HsO4Us-F"
   },
   "outputs": [],
   "source": [
    "James[\"people\"] = [\"Sue\", \"James\"]"
   ]
  },
  {
   "cell_type": "code",
   "execution_count": 7,
   "metadata": {
    "id": "8BIu-VPnUs-G",
    "outputId": "918d7931-32b1-42ae-b18a-2eaa8aad93d1"
   },
   "outputs": [
    {
     "data": {
      "text/plain": [
       "[{'City': 'London',\n",
       "  'Street': 'Gower Street',\n",
       "  'Postcode': 'WC1E 6BT',\n",
       "  'people': ['Clare', 'James', 'Owain']},\n",
       " {'City': 'London',\n",
       "  'Street': 'Waterson Street',\n",
       "  'Postcode': 'E2 8HH',\n",
       "  'people': ['Sue', 'James']}]"
      ]
     },
     "execution_count": 7,
     "metadata": {},
     "output_type": "execute_result"
    }
   ],
   "source": [
    "addresses"
   ]
  },
  {
   "cell_type": "markdown",
   "metadata": {
    "id": "504OJSU0Us-G"
   },
   "source": [
    "Which is then a list of dictionaries, with keys which are strings or lists."
   ]
  },
  {
   "cell_type": "markdown",
   "metadata": {
    "id": "gOC5r261Us-G"
   },
   "source": [
    "We can go further, e.g.:"
   ]
  },
  {
   "cell_type": "code",
   "execution_count": 8,
   "metadata": {
    "id": "ciwNj1UGUs-H"
   },
   "outputs": [],
   "source": [
    "UCL[\"Residential\"] = False"
   ]
  },
  {
   "cell_type": "markdown",
   "metadata": {
    "id": "pnJUNXZbUs-H"
   },
   "source": [
    "And we can write code against our structures:"
   ]
  },
  {
   "cell_type": "code",
   "execution_count": 9,
   "metadata": {
    "id": "maA1WJgAUs-H",
    "outputId": "e18b1e32-0a4c-453e-d591-50ebd0432f39"
   },
   "outputs": [
    {
     "data": {
      "text/plain": [
       "['Clare', 'Sue']"
      ]
     },
     "execution_count": 9,
     "metadata": {},
     "output_type": "execute_result"
    }
   ],
   "source": [
    "leaders = [place[\"people\"][0] for place in addresses]\n",
    "leaders"
   ]
  },
  {
   "cell_type": "markdown",
   "metadata": {
    "id": "moncuTibUs-H"
   },
   "source": [
    "This was an example of a 'list comprehension', which have used to get data of this structure, and which we'll see more of in a moment..."
   ]
  }
 ],
 "metadata": {
  "colab": {
   "provenance": []
  },
  "jekyll": {
   "display_name": "Structures"
  },
  "kernelspec": {
   "display_name": "ML",
   "language": "python",
   "name": "python3"
  },
  "language_info": {
   "codemirror_mode": {
    "name": "ipython",
    "version": 3
   },
   "file_extension": ".py",
   "mimetype": "text/x-python",
   "name": "python",
   "nbconvert_exporter": "python",
   "pygments_lexer": "ipython3",
   "version": "3.13.0"
  }
 },
 "nbformat": 4,
 "nbformat_minor": 0
}
