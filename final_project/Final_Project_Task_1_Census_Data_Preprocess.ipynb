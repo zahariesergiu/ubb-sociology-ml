{
  "cells": [
    {
      "cell_type": "markdown",
      "metadata": {},
      "source": [
        "# **Final Project Task 1 - Census Data Preprocess**"
      ]
    },
    {
      "cell_type": "markdown",
      "metadata": {},
      "source": [
        "Requirements\n",
        "\n",
        "- Target variable specification:\n",
        "    - The target variable for this project is hours-per-week. \n",
        "    - Ensure all preprocessing steps are designed to support regression analysis on this target variable.\n",
        "- Encode data  **3p**\n",
        "- Handle missing values if any **1p**\n",
        "- Correct errors, inconsistencies, remove duplicates if any **1p**\n",
        "- Outlier detection and treatment if any **1p**\n",
        "- Normalization / Standardization if necesarry **1p**\n",
        "- Feature engineering **3p**\n",
        "- Train test split, save it.\n",
        "- Others?\n",
        "\n",
        "\n",
        "Deliverable:\n",
        "\n",
        "- Notebook code with no errors.\n",
        "- Preprocessed data as csv."
      ]
    },
    {
      "cell_type": "markdown",
      "metadata": {},
      "source": [
        "# Importing libraries"
      ]
    },
    {
      "cell_type": "code",
      "execution_count": 1,
      "metadata": {},
      "outputs": [],
      "source": [
        "import pandas as pd\n",
        "import matplotlib.pyplot as plt\n",
        "import numpy as np\n",
        "import scipy.stats as stats\n",
        "import seaborn as sns"
      ]
    },
    {
      "cell_type": "markdown",
      "metadata": {},
      "source": [
        "# Loading the dataset"
      ]
    },
    {
      "cell_type": "code",
      "execution_count": 2,
      "metadata": {},
      "outputs": [],
      "source": [
        "data_url = \"https://archive.ics.uci.edu/ml/machine-learning-databases/adult/adult.data\"\n",
        "columns = [\n",
        "    \"age\", \"workclass\", \"fnlwgt\", \"education\", \"education-num\", \"marital-status\",\n",
        "    \"occupation\", \"relationship\", \"race\", \"sex\", \"capital-gain\", \"capital-loss\",\n",
        "    \"hours-per-week\", \"native-country\", \"income\"\n",
        "]\n",
        "\n",
        "data = pd.read_csv(data_url, header=None, names=columns, na_values=\" ?\", skipinitialspace=True)"
      ]
    },
    {
      "cell_type": "markdown",
      "metadata": {},
      "source": [
        "# Dataset Dimensions and Basic Overview"
      ]
    },
    {
      "cell_type": "markdown",
      "metadata": {},
      "source": [
        "#### **Examining Missing Data in Three Columns**\n",
        "We identified missing values in three categorical columns:  \n",
        "- **workclass (1836 missing)**\n",
        "- **occupation (1843 missing)**\n",
        "- **native-country (583 missing)**  \n",
        "\n",
        "Before deciding how to handle these missing values, we will:  \n",
        "1. Check the unique values and their frequencies in these columns.  \n",
        "2. Visualize the distribution of missing values.  \n",
        "This will help us determine whether to impute (fill in) or remove the missing data.  \n"
      ]
    },
    {
      "cell_type": "code",
      "execution_count": 3,
      "metadata": {},
      "outputs": [
        {
          "data": {
            "text/html": [
              "<div>\n",
              "<style scoped>\n",
              "    .dataframe tbody tr th:only-of-type {\n",
              "        vertical-align: middle;\n",
              "    }\n",
              "\n",
              "    .dataframe tbody tr th {\n",
              "        vertical-align: top;\n",
              "    }\n",
              "\n",
              "    .dataframe thead th {\n",
              "        text-align: right;\n",
              "    }\n",
              "</style>\n",
              "<table border=\"1\" class=\"dataframe\">\n",
              "  <thead>\n",
              "    <tr style=\"text-align: right;\">\n",
              "      <th></th>\n",
              "      <th>age</th>\n",
              "      <th>workclass</th>\n",
              "      <th>fnlwgt</th>\n",
              "      <th>education</th>\n",
              "      <th>education-num</th>\n",
              "      <th>marital-status</th>\n",
              "      <th>occupation</th>\n",
              "      <th>relationship</th>\n",
              "      <th>race</th>\n",
              "      <th>sex</th>\n",
              "      <th>capital-gain</th>\n",
              "      <th>capital-loss</th>\n",
              "      <th>hours-per-week</th>\n",
              "      <th>native-country</th>\n",
              "      <th>income</th>\n",
              "    </tr>\n",
              "  </thead>\n",
              "  <tbody>\n",
              "    <tr>\n",
              "      <th>0</th>\n",
              "      <td>39</td>\n",
              "      <td>State-gov</td>\n",
              "      <td>77516</td>\n",
              "      <td>Bachelors</td>\n",
              "      <td>13</td>\n",
              "      <td>Never-married</td>\n",
              "      <td>Adm-clerical</td>\n",
              "      <td>Not-in-family</td>\n",
              "      <td>White</td>\n",
              "      <td>Male</td>\n",
              "      <td>2174</td>\n",
              "      <td>0</td>\n",
              "      <td>40</td>\n",
              "      <td>United-States</td>\n",
              "      <td>&lt;=50K</td>\n",
              "    </tr>\n",
              "    <tr>\n",
              "      <th>1</th>\n",
              "      <td>50</td>\n",
              "      <td>Self-emp-not-inc</td>\n",
              "      <td>83311</td>\n",
              "      <td>Bachelors</td>\n",
              "      <td>13</td>\n",
              "      <td>Married-civ-spouse</td>\n",
              "      <td>Exec-managerial</td>\n",
              "      <td>Husband</td>\n",
              "      <td>White</td>\n",
              "      <td>Male</td>\n",
              "      <td>0</td>\n",
              "      <td>0</td>\n",
              "      <td>13</td>\n",
              "      <td>United-States</td>\n",
              "      <td>&lt;=50K</td>\n",
              "    </tr>\n",
              "    <tr>\n",
              "      <th>2</th>\n",
              "      <td>38</td>\n",
              "      <td>Private</td>\n",
              "      <td>215646</td>\n",
              "      <td>HS-grad</td>\n",
              "      <td>9</td>\n",
              "      <td>Divorced</td>\n",
              "      <td>Handlers-cleaners</td>\n",
              "      <td>Not-in-family</td>\n",
              "      <td>White</td>\n",
              "      <td>Male</td>\n",
              "      <td>0</td>\n",
              "      <td>0</td>\n",
              "      <td>40</td>\n",
              "      <td>United-States</td>\n",
              "      <td>&lt;=50K</td>\n",
              "    </tr>\n",
              "    <tr>\n",
              "      <th>3</th>\n",
              "      <td>53</td>\n",
              "      <td>Private</td>\n",
              "      <td>234721</td>\n",
              "      <td>11th</td>\n",
              "      <td>7</td>\n",
              "      <td>Married-civ-spouse</td>\n",
              "      <td>Handlers-cleaners</td>\n",
              "      <td>Husband</td>\n",
              "      <td>Black</td>\n",
              "      <td>Male</td>\n",
              "      <td>0</td>\n",
              "      <td>0</td>\n",
              "      <td>40</td>\n",
              "      <td>United-States</td>\n",
              "      <td>&lt;=50K</td>\n",
              "    </tr>\n",
              "    <tr>\n",
              "      <th>4</th>\n",
              "      <td>28</td>\n",
              "      <td>Private</td>\n",
              "      <td>338409</td>\n",
              "      <td>Bachelors</td>\n",
              "      <td>13</td>\n",
              "      <td>Married-civ-spouse</td>\n",
              "      <td>Prof-specialty</td>\n",
              "      <td>Wife</td>\n",
              "      <td>Black</td>\n",
              "      <td>Female</td>\n",
              "      <td>0</td>\n",
              "      <td>0</td>\n",
              "      <td>40</td>\n",
              "      <td>Cuba</td>\n",
              "      <td>&lt;=50K</td>\n",
              "    </tr>\n",
              "  </tbody>\n",
              "</table>\n",
              "</div>"
            ],
            "text/plain": [
              "   age         workclass  fnlwgt  education  education-num  \\\n",
              "0   39         State-gov   77516  Bachelors             13   \n",
              "1   50  Self-emp-not-inc   83311  Bachelors             13   \n",
              "2   38           Private  215646    HS-grad              9   \n",
              "3   53           Private  234721       11th              7   \n",
              "4   28           Private  338409  Bachelors             13   \n",
              "\n",
              "       marital-status         occupation   relationship   race     sex  \\\n",
              "0       Never-married       Adm-clerical  Not-in-family  White    Male   \n",
              "1  Married-civ-spouse    Exec-managerial        Husband  White    Male   \n",
              "2            Divorced  Handlers-cleaners  Not-in-family  White    Male   \n",
              "3  Married-civ-spouse  Handlers-cleaners        Husband  Black    Male   \n",
              "4  Married-civ-spouse     Prof-specialty           Wife  Black  Female   \n",
              "\n",
              "   capital-gain  capital-loss  hours-per-week native-country income  \n",
              "0          2174             0              40  United-States  <=50K  \n",
              "1             0             0              13  United-States  <=50K  \n",
              "2             0             0              40  United-States  <=50K  \n",
              "3             0             0              40  United-States  <=50K  \n",
              "4             0             0              40           Cuba  <=50K  "
            ]
          },
          "execution_count": 3,
          "metadata": {},
          "output_type": "execute_result"
        }
      ],
      "source": [
        "data.head()"
      ]
    },
    {
      "cell_type": "code",
      "execution_count": 4,
      "metadata": {},
      "outputs": [
        {
          "data": {
            "text/plain": [
              "(32561, 15)"
            ]
          },
          "execution_count": 4,
          "metadata": {},
          "output_type": "execute_result"
        }
      ],
      "source": [
        "data.shape"
      ]
    },
    {
      "cell_type": "code",
      "execution_count": 5,
      "metadata": {},
      "outputs": [
        {
          "name": "stdout",
          "output_type": "stream",
          "text": [
            "<class 'pandas.core.frame.DataFrame'>\n",
            "RangeIndex: 32561 entries, 0 to 32560\n",
            "Data columns (total 15 columns):\n",
            " #   Column          Non-Null Count  Dtype \n",
            "---  ------          --------------  ----- \n",
            " 0   age             32561 non-null  int64 \n",
            " 1   workclass       32561 non-null  object\n",
            " 2   fnlwgt          32561 non-null  int64 \n",
            " 3   education       32561 non-null  object\n",
            " 4   education-num   32561 non-null  int64 \n",
            " 5   marital-status  32561 non-null  object\n",
            " 6   occupation      32561 non-null  object\n",
            " 7   relationship    32561 non-null  object\n",
            " 8   race            32561 non-null  object\n",
            " 9   sex             32561 non-null  object\n",
            " 10  capital-gain    32561 non-null  int64 \n",
            " 11  capital-loss    32561 non-null  int64 \n",
            " 12  hours-per-week  32561 non-null  int64 \n",
            " 13  native-country  32561 non-null  object\n",
            " 14  income          32561 non-null  object\n",
            "dtypes: int64(6), object(9)\n",
            "memory usage: 3.7+ MB\n"
          ]
        }
      ],
      "source": [
        "data.info()"
      ]
    },
    {
      "cell_type": "code",
      "execution_count": 6,
      "metadata": {},
      "outputs": [
        {
          "data": {
            "text/plain": [
              "<bound method NDFrame.describe of        age         workclass  fnlwgt   education  education-num  \\\n",
              "0       39         State-gov   77516   Bachelors             13   \n",
              "1       50  Self-emp-not-inc   83311   Bachelors             13   \n",
              "2       38           Private  215646     HS-grad              9   \n",
              "3       53           Private  234721        11th              7   \n",
              "4       28           Private  338409   Bachelors             13   \n",
              "...    ...               ...     ...         ...            ...   \n",
              "32556   27           Private  257302  Assoc-acdm             12   \n",
              "32557   40           Private  154374     HS-grad              9   \n",
              "32558   58           Private  151910     HS-grad              9   \n",
              "32559   22           Private  201490     HS-grad              9   \n",
              "32560   52      Self-emp-inc  287927     HS-grad              9   \n",
              "\n",
              "           marital-status         occupation   relationship   race     sex  \\\n",
              "0           Never-married       Adm-clerical  Not-in-family  White    Male   \n",
              "1      Married-civ-spouse    Exec-managerial        Husband  White    Male   \n",
              "2                Divorced  Handlers-cleaners  Not-in-family  White    Male   \n",
              "3      Married-civ-spouse  Handlers-cleaners        Husband  Black    Male   \n",
              "4      Married-civ-spouse     Prof-specialty           Wife  Black  Female   \n",
              "...                   ...                ...            ...    ...     ...   \n",
              "32556  Married-civ-spouse       Tech-support           Wife  White  Female   \n",
              "32557  Married-civ-spouse  Machine-op-inspct        Husband  White    Male   \n",
              "32558             Widowed       Adm-clerical      Unmarried  White  Female   \n",
              "32559       Never-married       Adm-clerical      Own-child  White    Male   \n",
              "32560  Married-civ-spouse    Exec-managerial           Wife  White  Female   \n",
              "\n",
              "       capital-gain  capital-loss  hours-per-week native-country income  \n",
              "0              2174             0              40  United-States  <=50K  \n",
              "1                 0             0              13  United-States  <=50K  \n",
              "2                 0             0              40  United-States  <=50K  \n",
              "3                 0             0              40  United-States  <=50K  \n",
              "4                 0             0              40           Cuba  <=50K  \n",
              "...             ...           ...             ...            ...    ...  \n",
              "32556             0             0              38  United-States  <=50K  \n",
              "32557             0             0              40  United-States   >50K  \n",
              "32558             0             0              40  United-States  <=50K  \n",
              "32559             0             0              20  United-States  <=50K  \n",
              "32560         15024             0              40  United-States   >50K  \n",
              "\n",
              "[32561 rows x 15 columns]>"
            ]
          },
          "execution_count": 6,
          "metadata": {},
          "output_type": "execute_result"
        }
      ],
      "source": [
        "data.describe"
      ]
    },
    {
      "cell_type": "markdown",
      "metadata": {},
      "source": [
        "# Handling Missing Values\n",
        "We check for missing values and decide on an appropriate strategy for imputation or removal.\n",
        "In this section, we will:  \n",
        "- Identify missing values in the dataset.  \n",
        "- Convert invalid placeholders (e.g., `\"?\"`) into proper NaN values.  \n",
        "- Decide on an appropriate strategy to handle missing data (removal or imputation)."
      ]
    },
    {
      "cell_type": "code",
      "execution_count": 7,
      "metadata": {},
      "outputs": [
        {
          "data": {
            "text/plain": [
              "age               0\n",
              "workclass         0\n",
              "fnlwgt            0\n",
              "education         0\n",
              "education-num     0\n",
              "marital-status    0\n",
              "occupation        0\n",
              "relationship      0\n",
              "race              0\n",
              "sex               0\n",
              "capital-gain      0\n",
              "capital-loss      0\n",
              "hours-per-week    0\n",
              "native-country    0\n",
              "income            0\n",
              "dtype: int64"
            ]
          },
          "execution_count": 7,
          "metadata": {},
          "output_type": "execute_result"
        }
      ],
      "source": [
        "# Check missing values\n",
        "data.isnull().sum()\n",
        "\n"
      ]
    },
    {
      "cell_type": "code",
      "execution_count": 8,
      "metadata": {},
      "outputs": [
        {
          "data": {
            "text/plain": [
              "age                  0\n",
              "workclass         1836\n",
              "fnlwgt               0\n",
              "education            0\n",
              "education-num        0\n",
              "marital-status       0\n",
              "occupation        1843\n",
              "relationship         0\n",
              "race                 0\n",
              "sex                  0\n",
              "capital-gain         0\n",
              "capital-loss         0\n",
              "hours-per-week       0\n",
              "native-country     583\n",
              "income               0\n",
              "dtype: int64"
            ]
          },
          "execution_count": 8,
          "metadata": {},
          "output_type": "execute_result"
        }
      ],
      "source": [
        "#Checking for \"?\" as Missing Values\n",
        "(data == \"?\").sum()"
      ]
    },
    {
      "cell_type": "code",
      "execution_count": 9,
      "metadata": {},
      "outputs": [
        {
          "name": "stdout",
          "output_type": "stream",
          "text": [
            "workclass: ['State-gov' 'Self-emp-not-inc' 'Private' 'Federal-gov' 'Local-gov' '?'\n",
            " 'Self-emp-inc' 'Without-pay' 'Never-worked']\n",
            "education: ['Bachelors' 'HS-grad' '11th' 'Masters' '9th' 'Some-college' 'Assoc-acdm'\n",
            " 'Assoc-voc' '7th-8th' 'Doctorate' 'Prof-school' '5th-6th' '10th'\n",
            " '1st-4th' 'Preschool' '12th']\n",
            "marital-status: ['Never-married' 'Married-civ-spouse' 'Divorced' 'Married-spouse-absent'\n",
            " 'Separated' 'Married-AF-spouse' 'Widowed']\n",
            "occupation: ['Adm-clerical' 'Exec-managerial' 'Handlers-cleaners' 'Prof-specialty'\n",
            " 'Other-service' 'Sales' 'Craft-repair' 'Transport-moving'\n",
            " 'Farming-fishing' 'Machine-op-inspct' 'Tech-support' '?'\n",
            " 'Protective-serv' 'Armed-Forces' 'Priv-house-serv']\n",
            "relationship: ['Not-in-family' 'Husband' 'Wife' 'Own-child' 'Unmarried' 'Other-relative']\n",
            "race: ['White' 'Black' 'Asian-Pac-Islander' 'Amer-Indian-Eskimo' 'Other']\n",
            "sex: ['Male' 'Female']\n",
            "native-country: ['United-States' 'Cuba' 'Jamaica' 'India' '?' 'Mexico' 'South'\n",
            " 'Puerto-Rico' 'Honduras' 'England' 'Canada' 'Germany' 'Iran'\n",
            " 'Philippines' 'Italy' 'Poland' 'Columbia' 'Cambodia' 'Thailand' 'Ecuador'\n",
            " 'Laos' 'Taiwan' 'Haiti' 'Portugal' 'Dominican-Republic' 'El-Salvador'\n",
            " 'France' 'Guatemala' 'China' 'Japan' 'Yugoslavia' 'Peru'\n",
            " 'Outlying-US(Guam-USVI-etc)' 'Scotland' 'Trinadad&Tobago' 'Greece'\n",
            " 'Nicaragua' 'Vietnam' 'Hong' 'Ireland' 'Hungary' 'Holand-Netherlands']\n",
            "income: ['<=50K' '>50K']\n"
          ]
        }
      ],
      "source": [
        "#Checking Unique Values in Categorical Columns**  \n",
        "#Wwe List all unique values for each categorical column to detect inconsistencies or unexpected entries.  \n",
        "\n",
        "for col in data.select_dtypes(include=\"object\").columns:\n",
        "    print(f\"{col}: {data[col].unique()}\")\n"
      ]
    },
    {
      "cell_type": "code",
      "execution_count": 10,
      "metadata": {},
      "outputs": [],
      "source": [
        "# We replace all \"?\" values with NaN\n",
        "data.replace(\"?\", np.nan, inplace=True)"
      ]
    },
    {
      "cell_type": "code",
      "execution_count": 11,
      "metadata": {},
      "outputs": [
        {
          "data": {
            "text/plain": [
              "age                  0\n",
              "workclass         1836\n",
              "fnlwgt               0\n",
              "education            0\n",
              "education-num        0\n",
              "marital-status       0\n",
              "occupation        1843\n",
              "relationship         0\n",
              "race                 0\n",
              "sex                  0\n",
              "capital-gain         0\n",
              "capital-loss         0\n",
              "hours-per-week       0\n",
              "native-country     583\n",
              "income               0\n",
              "dtype: int64"
            ]
          },
          "execution_count": 11,
          "metadata": {},
          "output_type": "execute_result"
        }
      ],
      "source": [
        "# Count again missing values in each column\n",
        "data.isnull().sum()\n"
      ]
    },
    {
      "cell_type": "markdown",
      "metadata": {},
      "source": [
        "#### **Examining Missing Data in Three Columns**\n",
        "We identified missing values in three categorical columns:  \n",
        "- **workclass (1836 missing)**\n",
        "- **occupation (1843 missing)**\n",
        "- **native-country (583 missing)**  \n",
        "\n",
        "Before deciding how to handle these missing values, we will:  \n",
        "1. Check the unique values and their frequencies in these columns.  \n",
        "2. Visualize the distribution of missing values.  \n",
        "This will help us determine whether to impute (fill in) or remove the missing data.  \n"
      ]
    },
    {
      "cell_type": "code",
      "execution_count": 12,
      "metadata": {},
      "outputs": [
        {
          "name": "stdout",
          "output_type": "stream",
          "text": [
            "Workclass:\n",
            " workclass\n",
            "Private             22696\n",
            "Self-emp-not-inc     2541\n",
            "Local-gov            2093\n",
            "State-gov            1298\n",
            "Self-emp-inc         1116\n",
            "Federal-gov           960\n",
            "Without-pay            14\n",
            "Never-worked            7\n",
            "Name: count, dtype: int64 \n",
            "\n",
            "Occupation:\n",
            " occupation\n",
            "Prof-specialty       4140\n",
            "Craft-repair         4099\n",
            "Exec-managerial      4066\n",
            "Adm-clerical         3770\n",
            "Sales                3650\n",
            "Other-service        3295\n",
            "Machine-op-inspct    2002\n",
            "Transport-moving     1597\n",
            "Handlers-cleaners    1370\n",
            "Farming-fishing       994\n",
            "Tech-support          928\n",
            "Protective-serv       649\n",
            "Priv-house-serv       149\n",
            "Armed-Forces            9\n",
            "Name: count, dtype: int64 \n",
            "\n",
            "Native Country:\n",
            " native-country\n",
            "United-States                 29170\n",
            "Mexico                          643\n",
            "Philippines                     198\n",
            "Germany                         137\n",
            "Canada                          121\n",
            "Puerto-Rico                     114\n",
            "El-Salvador                     106\n",
            "India                           100\n",
            "Cuba                             95\n",
            "England                          90\n",
            "Jamaica                          81\n",
            "South                            80\n",
            "China                            75\n",
            "Italy                            73\n",
            "Dominican-Republic               70\n",
            "Vietnam                          67\n",
            "Guatemala                        64\n",
            "Japan                            62\n",
            "Poland                           60\n",
            "Columbia                         59\n",
            "Taiwan                           51\n",
            "Haiti                            44\n",
            "Iran                             43\n",
            "Portugal                         37\n",
            "Nicaragua                        34\n",
            "Peru                             31\n",
            "France                           29\n",
            "Greece                           29\n",
            "Ecuador                          28\n",
            "Ireland                          24\n",
            "Hong                             20\n",
            "Trinadad&Tobago                  19\n",
            "Cambodia                         19\n",
            "Thailand                         18\n",
            "Laos                             18\n",
            "Yugoslavia                       16\n",
            "Outlying-US(Guam-USVI-etc)       14\n",
            "Honduras                         13\n",
            "Hungary                          13\n",
            "Scotland                         12\n",
            "Holand-Netherlands                1\n",
            "Name: count, dtype: int64 \n",
            "\n"
          ]
        }
      ],
      "source": [
        "# Display unique values and their counts in workclass, occupation, and native-country\n",
        "print(\"Workclass:\\n\", data[\"workclass\"].value_counts(), \"\\n\")\n",
        "print(\"Occupation:\\n\", data[\"occupation\"].value_counts(), \"\\n\")\n",
        "print(\"Native Country:\\n\", data[\"native-country\"].value_counts(), \"\\n\")\n"
      ]
    },
    {
      "cell_type": "code",
      "execution_count": 13,
      "metadata": {},
      "outputs": [
        {
          "data": {
            "image/png": "[encoded data removed]",
            "text/plain": [
              "<Figure size 1000x500 with 1 Axes>"
            ]
          },
          "metadata": {},
          "output_type": "display_data"
        }
      ],
      "source": [
        "# Creating a heatmap to visualize missing values\n",
        "# Missing values are highlighted, helping to see patterns in data loss\n",
        "plt.figure(figsize=(10,5))\n",
        "sns.heatmap(data.isnull(), cmap=\"viridis\", cbar=False)\n",
        "plt.show()"
      ]
    },
    {
      "cell_type": "code",
      "execution_count": 14,
      "metadata": {},
      "outputs": [
        {
          "data": {
            "text/plain": [
              "0    30718\n",
              "2     1836\n",
              "1        7\n",
              "Name: count, dtype: int64"
            ]
          },
          "execution_count": 14,
          "metadata": {},
          "output_type": "execute_result"
        }
      ],
      "source": [
        "# Checking how missing values are distributed in the \"workclass\" and \"occupation\" columns\n",
        "data[[\"workclass\", \"occupation\"]].isnull().sum(axis=1).value_counts()\n"
      ]
    },
    {
      "cell_type": "code",
      "execution_count": 15,
      "metadata": {},
      "outputs": [
        {
          "data": {
            "text/plain": [
              "income\n",
              "<=50K    1645\n",
              ">50K      191\n",
              "Name: workclass, dtype: int64"
            ]
          },
          "execution_count": 15,
          "metadata": {},
          "output_type": "execute_result"
        }
      ],
      "source": [
        "# Grouping the dataset by \"income\" and counting missing values in the \"workclass\" column\n",
        "data.groupby(\"income\")[\"workclass\"].apply(lambda x: x.isnull().sum())\n"
      ]
    },
    {
      "cell_type": "code",
      "execution_count": 16,
      "metadata": {},
      "outputs": [
        {
          "name": "stdout",
          "output_type": "stream",
          "text": [
            "Original dataset size: 32561\n",
            "New dataset size after dropping missing values: 30718\n"
          ]
        }
      ],
      "source": [
        "# Checking dataset size before handling missing values\n",
        "print(f\"Original dataset size: {data.shape[0]}\")\n",
        "\n",
        "# Removing rows where \"workclass\" or \"occupation\" have missing values\n",
        "data_dropped = data.dropna(subset=[\"workclass\", \"occupation\"])\n",
        "\n",
        "# Checking dataset size after removing missing values\n",
        "print(f\"New dataset size after dropping missing values: {data_dropped.shape[0]}\")\n"
      ]
    },
    {
      "cell_type": "code",
      "execution_count": 17,
      "metadata": {},
      "outputs": [],
      "source": [
        "# Removing rows where \"workclass\" or \"occupation\" have missing values\n",
        "data = data.dropna(subset=[\"workclass\", \"occupation\"])"
      ]
    },
    {
      "cell_type": "code",
      "execution_count": 18,
      "metadata": {},
      "outputs": [
        {
          "name": "stderr",
          "output_type": "stream",
          "text": [
            "C:\\Users\\Laura\\AppData\\Local\\Temp\\ipykernel_26640\\1040526605.py:2: SettingWithCopyWarning: \n",
            "A value is trying to be set on a copy of a slice from a DataFrame.\n",
            "Try using .loc[row_indexer,col_indexer] = value instead\n",
            "\n",
            "See the caveats in the documentation: https://pandas.pydata.org/pandas-docs/stable/user_guide/indexing.html#returning-a-view-versus-a-copy\n",
            "  data[\"native-country\"] = data[\"native-country\"].fillna(\"United-States\")\n"
          ]
        }
      ],
      "source": [
        "# Filling missing values in \"native-country\" safely\n",
        "data[\"native-country\"] = data[\"native-country\"].fillna(\"United-States\")\n",
        "\n"
      ]
    },
    {
      "cell_type": "code",
      "execution_count": 19,
      "metadata": {},
      "outputs": [
        {
          "name": "stdout",
          "output_type": "stream",
          "text": [
            "age               0\n",
            "workclass         0\n",
            "fnlwgt            0\n",
            "education         0\n",
            "education-num     0\n",
            "marital-status    0\n",
            "occupation        0\n",
            "relationship      0\n",
            "race              0\n",
            "sex               0\n",
            "capital-gain      0\n",
            "capital-loss      0\n",
            "hours-per-week    0\n",
            "native-country    0\n",
            "income            0\n",
            "dtype: int64\n"
          ]
        }
      ],
      "source": [
        "# Checking if missing values are handled\n",
        "print(data.isnull().sum())\n"
      ]
    },
    {
      "cell_type": "markdown",
      "metadata": {},
      "source": [
        "#### **Handling Missing Values – Decision Summary**\n",
        "1. **Removing missing `workclass` and `occupation` rows**  \n",
        "   - These two features are closely related, and missing values could indicate a lack of employment information.  \n",
        "   - Filling them with the most frequent category could introduce bias and distort the data distribution.  \n",
        "   - Since the missing data accounted for **~7.3% of the dataset**, removal was a reasonable choice.  \n",
        "\n",
        "2. **Filling missing `native-country` values**  \n",
        "   - The most frequent value was `\"United-States\"`, appearing in the majority of cases.  \n",
        "   - Imputing with `\"United-States\"` preserved data consistency while minimizing information loss.  \n",
        "\n",
        "##### **Outcome:**  \n",
        "- **All missing values were successfully handled.**"
      ]
    },
    {
      "cell_type": "markdown",
      "metadata": {},
      "source": [
        "# **Correcting Errors, Inconsistencies & Removing Duplicates**\n",
        "Before proceeding with encoding and further preprocessing, we need to ensure that the dataset is clean and free of duplicate entries or inconsistent values. This step enhances data quality and prevents unnecessary noise in the model.\n",
        "\n",
        "### **1. Checking for duplicate rows**  \n",
        "   - Identifying and removing any exact duplicate records to avoid redundant data.\n",
        "\n",
        "### **2. Checking for inconsistencies in categorical values**  \n",
        "   - Listing unique values in categorical columns to detect possible typos, extra spaces, or formatting issues.\n",
        "   - Standardizing text data by removing leading/trailing spaces and converting to lowercase for uniformity.\n",
        "\n",
        "### **3. Checking errors and inconsistencies in numerical columns**  \n",
        "   - Reviewing numerical columns for any negative or unreasonable values (e.g., negative ages, unreasonable capital-gain values).\n",
        "   - Identifying outliers in numerical columns that might skew the results and need correction or removal.\n",
        "\n"
      ]
    },
    {
      "cell_type": "markdown",
      "metadata": {},
      "source": [
        "#### Categorical columns"
      ]
    },
    {
      "cell_type": "code",
      "execution_count": 20,
      "metadata": {},
      "outputs": [
        {
          "name": "stdout",
          "output_type": "stream",
          "text": [
            "Duplicate rows: 24\n"
          ]
        }
      ],
      "source": [
        "# Checking for duplicate rows\n",
        "print(f\"Duplicate rows: {data.duplicated().sum()}\")"
      ]
    },
    {
      "cell_type": "code",
      "execution_count": 21,
      "metadata": {},
      "outputs": [],
      "source": [
        "# Removing duplicates if any exist\n",
        "data = data.drop_duplicates()"
      ]
    },
    {
      "cell_type": "code",
      "execution_count": 22,
      "metadata": {},
      "outputs": [
        {
          "name": "stdout",
          "output_type": "stream",
          "text": [
            "workclass: ['State-gov' 'Self-emp-not-inc' 'Private' 'Federal-gov' 'Local-gov'\n",
            " 'Self-emp-inc' 'Without-pay']\n",
            "education: ['Bachelors' 'HS-grad' '11th' 'Masters' '9th' 'Some-college' 'Assoc-acdm'\n",
            " 'Assoc-voc' '7th-8th' 'Doctorate' 'Prof-school' '5th-6th' '10th'\n",
            " 'Preschool' '12th' '1st-4th']\n",
            "marital-status: ['Never-married' 'Married-civ-spouse' 'Divorced' 'Married-spouse-absent'\n",
            " 'Separated' 'Married-AF-spouse' 'Widowed']\n",
            "occupation: ['Adm-clerical' 'Exec-managerial' 'Handlers-cleaners' 'Prof-specialty'\n",
            " 'Other-service' 'Sales' 'Craft-repair' 'Transport-moving'\n",
            " 'Farming-fishing' 'Machine-op-inspct' 'Tech-support' 'Protective-serv'\n",
            " 'Armed-Forces' 'Priv-house-serv']\n",
            "relationship: ['Not-in-family' 'Husband' 'Wife' 'Own-child' 'Unmarried' 'Other-relative']\n",
            "race: ['White' 'Black' 'Asian-Pac-Islander' 'Amer-Indian-Eskimo' 'Other']\n",
            "sex: ['Male' 'Female']\n",
            "native-country: ['United-States' 'Cuba' 'Jamaica' 'India' 'Mexico' 'Puerto-Rico'\n",
            " 'Honduras' 'England' 'Canada' 'Germany' 'Iran' 'Philippines' 'Poland'\n",
            " 'Columbia' 'Cambodia' 'Thailand' 'Ecuador' 'Laos' 'Taiwan' 'Haiti'\n",
            " 'Portugal' 'Dominican-Republic' 'El-Salvador' 'France' 'Guatemala'\n",
            " 'Italy' 'China' 'South' 'Japan' 'Yugoslavia' 'Peru'\n",
            " 'Outlying-US(Guam-USVI-etc)' 'Scotland' 'Trinadad&Tobago' 'Greece'\n",
            " 'Nicaragua' 'Vietnam' 'Hong' 'Ireland' 'Hungary' 'Holand-Netherlands']\n",
            "income: ['<=50K' '>50K']\n"
          ]
        }
      ],
      "source": [
        "# Checking unique values in categorical columns to detect typos or inconsistencies\n",
        "for col in data.select_dtypes(include=\"object\").columns:\n",
        "    print(f\"{col}: {data[col].unique()}\")\n"
      ]
    },
    {
      "cell_type": "code",
      "execution_count": 23,
      "metadata": {},
      "outputs": [],
      "source": [
        "# Fixing known typos\n",
        "data[\"native-country\"] = data[\"native-country\"].replace(\"Trinadad&Tobago\", \"Trinidad&Tobago\")\n",
        "data[\"native-country\"] = data[\"native-country\"].replace(\"Holand-Netherlands\", \"Holland-Netherlands\")\n"
      ]
    },
    {
      "cell_type": "code",
      "execution_count": 24,
      "metadata": {},
      "outputs": [],
      "source": [
        "# Convert everything to lowercase except for 'native-country'\n",
        "for col in data.select_dtypes(include=\"object\").columns:\n",
        "    if col != \"native-country\":  # Skip 'native-country'\n",
        "        data[col] = data[col].str.strip().str.lower()\n",
        "\n"
      ]
    },
    {
      "cell_type": "code",
      "execution_count": 25,
      "metadata": {},
      "outputs": [
        {
          "name": "stdout",
          "output_type": "stream",
          "text": [
            "workclass: ['state-gov' 'self-emp-not-inc' 'private' 'federal-gov' 'local-gov'\n",
            " 'self-emp-inc' 'without-pay']\n",
            "education: ['bachelors' 'hs-grad' '11th' 'masters' '9th' 'some-college' 'assoc-acdm'\n",
            " 'assoc-voc' '7th-8th' 'doctorate' 'prof-school' '5th-6th' '10th'\n",
            " 'preschool' '12th' '1st-4th']\n",
            "marital-status: ['never-married' 'married-civ-spouse' 'divorced' 'married-spouse-absent'\n",
            " 'separated' 'married-af-spouse' 'widowed']\n",
            "occupation: ['adm-clerical' 'exec-managerial' 'handlers-cleaners' 'prof-specialty'\n",
            " 'other-service' 'sales' 'craft-repair' 'transport-moving'\n",
            " 'farming-fishing' 'machine-op-inspct' 'tech-support' 'protective-serv'\n",
            " 'armed-forces' 'priv-house-serv']\n",
            "relationship: ['not-in-family' 'husband' 'wife' 'own-child' 'unmarried' 'other-relative']\n",
            "race: ['white' 'black' 'asian-pac-islander' 'amer-indian-eskimo' 'other']\n",
            "sex: ['male' 'female']\n",
            "native-country: ['United-States' 'Cuba' 'Jamaica' 'India' 'Mexico' 'Puerto-Rico'\n",
            " 'Honduras' 'England' 'Canada' 'Germany' 'Iran' 'Philippines' 'Poland'\n",
            " 'Columbia' 'Cambodia' 'Thailand' 'Ecuador' 'Laos' 'Taiwan' 'Haiti'\n",
            " 'Portugal' 'Dominican-Republic' 'El-Salvador' 'France' 'Guatemala'\n",
            " 'Italy' 'China' 'South' 'Japan' 'Yugoslavia' 'Peru'\n",
            " 'Outlying-US(Guam-USVI-etc)' 'Scotland' 'Trinidad&Tobago' 'Greece'\n",
            " 'Nicaragua' 'Vietnam' 'Hong' 'Ireland' 'Hungary' 'Holland-Netherlands']\n",
            "income: ['<=50k' '>50k']\n"
          ]
        }
      ],
      "source": [
        "# Checking unique values in categorical columns after cleaning\n",
        "for col in data.select_dtypes(include=\"object\").columns:\n",
        "    print(f\"{col}: {data[col].unique()}\")\n"
      ]
    },
    {
      "cell_type": "markdown",
      "metadata": {},
      "source": [
        "##### **Categorical Columns: Unique Values Overview**\n",
        "We have checked the unique values in the categorical columns after the cleaning process. Here are the key findings:\n",
        "\n",
        "- **Workclass:** Consistent with no discrepancies in category naming. Values like `'state-gov'`, `'private'`, `'self-emp-not-inc'` are all lowercase as expected.\n",
        "- **Education:** Values like `'bachelors'`, `'masters'`, `'high-school'` are clean and formatted uniformly.\n",
        "- **Marital-status:** No inconsistencies found in marital categories such as `'married-civ-spouse'`, `'divorced'`, and `'widowed'`.\n",
        "- **Occupation:** Categorical values like `'exec-managerial'`, `'prof-specialty'`, and `'craft-repair'` are consistent and lowercase.\n",
        "- **Relationship:** Consistent values such as `'husband'`, `'wife'`, `'own-child'`, `'other-relative'`.\n",
        "- **Race and Sex:** No discrepancies, with values like `'white'`, `'male'`, `'female'` consistently formatted.\n",
        "- **Native-country:** The country names are now **in uppercase**, as expected. Example values: `'United-States'`, `'Cuba'`, `'Jamaica'`.\n",
        "- **Income:** The target variable `'<=50k'`, `'>50k'` is consistent and clean.\n",
        "\n",
        "These columns are now properly cleaned and formatted, ensuring consistency across the dataset.\n",
        "\n"
      ]
    },
    {
      "cell_type": "markdown",
      "metadata": {},
      "source": [
        "#### Numerical columns"
      ]
    },
    {
      "cell_type": "code",
      "execution_count": 26,
      "metadata": {},
      "outputs": [
        {
          "name": "stdout",
          "output_type": "stream",
          "text": [
            "age has negative values: False\n",
            "fnlwgt has negative values: False\n",
            "education-num has negative values: False\n",
            "capital-gain has negative values: False\n",
            "capital-loss has negative values: False\n",
            "hours-per-week has negative values: False\n"
          ]
        }
      ],
      "source": [
        "# Checking if there are any negative values in numerical columns\n",
        "for col in data.select_dtypes(include=np.number).columns:\n",
        "    print(f\"{col} has negative values: {any(data[col] < 0)}\")\n"
      ]
    },
    {
      "cell_type": "code",
      "execution_count": 27,
      "metadata": {},
      "outputs": [
        {
          "name": "stdout",
          "output_type": "stream",
          "text": [
            "Max value in age: 90\n",
            "Max value in fnlwgt: 1484705\n",
            "Max value in education-num: 16\n",
            "Max value in capital-gain: 99999\n",
            "Max value in capital-loss: 4356\n",
            "Max value in hours-per-week: 99\n"
          ]
        }
      ],
      "source": [
        "# Checking for unusually high values in numerical columns\n",
        "for col in data.select_dtypes(include=np.number).columns:\n",
        "    print(f\"Max value in {col}: {data[col].max()}\")\n"
      ]
    },
    {
      "cell_type": "markdown",
      "metadata": {},
      "source": [
        "##### **Numerical Columns: Values Overview**\n",
        "We have checked for any **negative values** and **unreasonably high values** in the numerical columns. Here are the key findings:\n",
        "\n",
        "- **Negative values:** No negative values were found in any of the numerical columns.\n",
        "- **High values:**\n",
        "  - **Age:** Maximum value is **90**, which is reasonable.\n",
        "  - **Fnlwgt:** Maximum value is **1,484,705**, which could be considered high but may still be valid.\n",
        "  - **Education-num:** Maximum value is **16**, which is within the expected range.\n",
        "  - **Capital-gain:** Maximum value is **99,999**, which is high but plausible.\n",
        "  - **Capital-loss:** Maximum value is **4,356**, which is reasonable.\n",
        "  - **Hours-per-week:** Maximum value is **99**, which is unusual.\n",
        "\n",
        "These values are consistent and reasonable for now, but we will come back to check for **outliers** in these columns during the next phases of preprocessing.\n"
      ]
    },
    {
      "cell_type": "markdown",
      "metadata": {},
      "source": [
        "# Encoding Categorical Data\n",
        "**Encoding** the categorical columns will be the next step before addressing outliers. \n",
        "\n",
        "We will use One-Hot Encoding for nominal variables and  Ordinal Encoding for the education column, which has a natural order.\n",
        "\n"
      ]
    },
    {
      "cell_type": "code",
      "execution_count": 28,
      "metadata": {},
      "outputs": [],
      "source": [
        "# One-Hot Encoding for nominal columns\n",
        "data = pd.get_dummies(data, columns=[\"workclass\", \"occupation\", \"sex\", \"native-country\", \"marital-status\", \"relationship\", \"race\"], drop_first=True)\n"
      ]
    },
    {
      "cell_type": "code",
      "execution_count": 29,
      "metadata": {},
      "outputs": [],
      "source": [
        "# Ordinal Encoding for 'education'\n",
        "education_order = ['1st-4th', '5th-6th', '7th-8th', '9th', '10th', '11th', '12th', \n",
        "                   'hs-grad', 'some-college', 'assoc-acdm', 'assoc-voc', \n",
        "                   'bachelors', 'masters', 'doctorate', 'prof-school', 'preschool']\n",
        "\n",
        "# Apply the ordinal encoding based on the new order\n",
        "data['education'] = data['education'].apply(lambda x: education_order.index(x))\n"
      ]
    },
    {
      "cell_type": "code",
      "execution_count": 30,
      "metadata": {},
      "outputs": [],
      "source": [
        "# Binary encoding for 'income' (treating it as a feature)\n",
        "data['income'] = data['income'].map({'<=50k': 0, '>50k': 1})\n"
      ]
    },
    {
      "cell_type": "code",
      "execution_count": 31,
      "metadata": {},
      "outputs": [
        {
          "name": "stdout",
          "output_type": "stream",
          "text": [
            "Shape of the data after encoding: (30694, 83)\n"
          ]
        }
      ],
      "source": [
        "# CHecking the shape of the data after encoding\n",
        "print(f\"Shape of the data after encoding: {data.shape}\")\n"
      ]
    },
    {
      "cell_type": "code",
      "execution_count": 32,
      "metadata": {},
      "outputs": [
        {
          "name": "stdout",
          "output_type": "stream",
          "text": [
            "   age  fnlwgt  education  education-num  capital-gain  capital-loss  \\\n",
            "0   39   77516         11             13          2174             0   \n",
            "1   50   83311         11             13             0             0   \n",
            "2   38  215646          7              9             0             0   \n",
            "3   53  234721          5              7             0             0   \n",
            "4   28  338409         11             13             0             0   \n",
            "\n",
            "   hours-per-week  income  workclass_local-gov  workclass_private  ...  \\\n",
            "0              40       0                False              False  ...   \n",
            "1              13       0                False              False  ...   \n",
            "2              40       0                False               True  ...   \n",
            "3              40       0                False               True  ...   \n",
            "4              40       0                False               True  ...   \n",
            "\n",
            "   marital-status_widowed  relationship_not-in-family  \\\n",
            "0                   False                        True   \n",
            "1                   False                       False   \n",
            "2                   False                        True   \n",
            "3                   False                       False   \n",
            "4                   False                       False   \n",
            "\n",
            "   relationship_other-relative  relationship_own-child  \\\n",
            "0                        False                   False   \n",
            "1                        False                   False   \n",
            "2                        False                   False   \n",
            "3                        False                   False   \n",
            "4                        False                   False   \n",
            "\n",
            "   relationship_unmarried  relationship_wife  race_asian-pac-islander  \\\n",
            "0                   False              False                    False   \n",
            "1                   False              False                    False   \n",
            "2                   False              False                    False   \n",
            "3                   False              False                    False   \n",
            "4                   False               True                    False   \n",
            "\n",
            "   race_black  race_other  race_white  \n",
            "0       False       False        True  \n",
            "1       False       False        True  \n",
            "2       False       False        True  \n",
            "3        True       False       False  \n",
            "4        True       False       False  \n",
            "\n",
            "[5 rows x 83 columns]\n"
          ]
        }
      ],
      "source": [
        "# Checking the first few rows of the data after encoding\n",
        "print(data.head())\n"
      ]
    },
    {
      "cell_type": "code",
      "execution_count": 33,
      "metadata": {},
      "outputs": [
        {
          "name": "stdout",
          "output_type": "stream",
          "text": [
            "Unique values in 'education': [11  7  5 12  3  8  9 10  2 13 14  1  4 15  6  0]\n",
            "Columns after encoding: Index(['age', 'fnlwgt', 'education', 'education-num', 'capital-gain',\n",
            "       'capital-loss', 'hours-per-week', 'income', 'workclass_local-gov',\n",
            "       'workclass_private', 'workclass_self-emp-inc',\n",
            "       'workclass_self-emp-not-inc', 'workclass_state-gov',\n",
            "       'workclass_without-pay', 'occupation_armed-forces',\n",
            "       'occupation_craft-repair', 'occupation_exec-managerial',\n",
            "       'occupation_farming-fishing', 'occupation_handlers-cleaners',\n",
            "       'occupation_machine-op-inspct', 'occupation_other-service',\n",
            "       'occupation_priv-house-serv', 'occupation_prof-specialty',\n",
            "       'occupation_protective-serv', 'occupation_sales',\n",
            "       'occupation_tech-support', 'occupation_transport-moving', 'sex_male',\n",
            "       'native-country_Canada', 'native-country_China',\n",
            "       'native-country_Columbia', 'native-country_Cuba',\n",
            "       'native-country_Dominican-Republic', 'native-country_Ecuador',\n",
            "       'native-country_El-Salvador', 'native-country_England',\n",
            "       'native-country_France', 'native-country_Germany',\n",
            "       'native-country_Greece', 'native-country_Guatemala',\n",
            "       'native-country_Haiti', 'native-country_Holland-Netherlands',\n",
            "       'native-country_Honduras', 'native-country_Hong',\n",
            "       'native-country_Hungary', 'native-country_India', 'native-country_Iran',\n",
            "       'native-country_Ireland', 'native-country_Italy',\n",
            "       'native-country_Jamaica', 'native-country_Japan', 'native-country_Laos',\n",
            "       'native-country_Mexico', 'native-country_Nicaragua',\n",
            "       'native-country_Outlying-US(Guam-USVI-etc)', 'native-country_Peru',\n",
            "       'native-country_Philippines', 'native-country_Poland',\n",
            "       'native-country_Portugal', 'native-country_Puerto-Rico',\n",
            "       'native-country_Scotland', 'native-country_South',\n",
            "       'native-country_Taiwan', 'native-country_Thailand',\n",
            "       'native-country_Trinidad&Tobago', 'native-country_United-States',\n",
            "       'native-country_Vietnam', 'native-country_Yugoslavia',\n",
            "       'marital-status_married-af-spouse', 'marital-status_married-civ-spouse',\n",
            "       'marital-status_married-spouse-absent', 'marital-status_never-married',\n",
            "       'marital-status_separated', 'marital-status_widowed',\n",
            "       'relationship_not-in-family', 'relationship_other-relative',\n",
            "       'relationship_own-child', 'relationship_unmarried', 'relationship_wife',\n",
            "       'race_asian-pac-islander', 'race_black', 'race_other', 'race_white'],\n",
            "      dtype='object')\n"
          ]
        }
      ],
      "source": [
        "# Checking unique values in 'education' after encoding and other columns\n",
        "print(f\"Unique values in 'education': {data['education'].unique()}\")\n",
        "print(f\"Columns after encoding: {data.columns}\")\n"
      ]
    },
    {
      "cell_type": "code",
      "execution_count": 34,
      "metadata": {},
      "outputs": [
        {
          "name": "stdout",
          "output_type": "stream",
          "text": [
            "Missing values in the data: \n",
            "age                        0\n",
            "fnlwgt                     0\n",
            "education                  0\n",
            "education-num              0\n",
            "capital-gain               0\n",
            "                          ..\n",
            "relationship_wife          0\n",
            "race_asian-pac-islander    0\n",
            "race_black                 0\n",
            "race_other                 0\n",
            "race_white                 0\n",
            "Length: 83, dtype: int64\n"
          ]
        }
      ],
      "source": [
        "# Checking if there are any missing values in the data after encoding\n",
        "print(f\"Missing values in the data: \\n{data.isnull().sum()}\")"
      ]
    },
    {
      "cell_type": "markdown",
      "metadata": {},
      "source": [
        "# Outlier detection"
      ]
    },
    {
      "cell_type": "code",
      "execution_count": 35,
      "metadata": {},
      "outputs": [
        {
          "name": "stderr",
          "output_type": "stream",
          "text": [
            "C:\\Users\\Laura\\AppData\\Local\\Temp\\ipykernel_26640\\2506351058.py:7: FutureWarning: \n",
            "\n",
            "Passing `palette` without assigning `hue` is deprecated and will be removed in v0.14.0. Assign the `y` variable to `hue` and set `legend=False` for the same effect.\n",
            "\n",
            "  sns.boxplot(x=data[col], palette=\"viridis\")\n"
          ]
        },
        {
          "data": {
            "image/png": "[encoded data removed]",
            "text/plain": [
              "<Figure size 1000x600 with 1 Axes>"
            ]
          },
          "metadata": {},
          "output_type": "display_data"
        },
        {
          "name": "stderr",
          "output_type": "stream",
          "text": [
            "C:\\Users\\Laura\\AppData\\Local\\Temp\\ipykernel_26640\\2506351058.py:7: FutureWarning: \n",
            "\n",
            "Passing `palette` without assigning `hue` is deprecated and will be removed in v0.14.0. Assign the `y` variable to `hue` and set `legend=False` for the same effect.\n",
            "\n",
            "  sns.boxplot(x=data[col], palette=\"viridis\")\n"
          ]
        },
        {
          "data": {
            "image/png": "[encoded data removed]",
            "text/plain": [
              "<Figure size 1000x600 with 1 Axes>"
            ]
          },
          "metadata": {},
          "output_type": "display_data"
        },
        {
          "name": "stderr",
          "output_type": "stream",
          "text": [
            "C:\\Users\\Laura\\AppData\\Local\\Temp\\ipykernel_26640\\2506351058.py:7: FutureWarning: \n",
            "\n",
            "Passing `palette` without assigning `hue` is deprecated and will be removed in v0.14.0. Assign the `y` variable to `hue` and set `legend=False` for the same effect.\n",
            "\n",
            "  sns.boxplot(x=data[col], palette=\"viridis\")\n"
          ]
        },
        {
          "data": {
            "image/png": "[encoded data removed]",
            "text/plain": [
              "<Figure size 1000x600 with 1 Axes>"
            ]
          },
          "metadata": {},
          "output_type": "display_data"
        },
        {
          "name": "stderr",
          "output_type": "stream",
          "text": [
            "C:\\Users\\Laura\\AppData\\Local\\Temp\\ipykernel_26640\\2506351058.py:7: FutureWarning: \n",
            "\n",
            "Passing `palette` without assigning `hue` is deprecated and will be removed in v0.14.0. Assign the `y` variable to `hue` and set `legend=False` for the same effect.\n",
            "\n",
            "  sns.boxplot(x=data[col], palette=\"viridis\")\n"
          ]
        },
        {
          "data": {
            "image/png": "[encoded data removed]",
            "text/plain": [
              "<Figure size 1000x600 with 1 Axes>"
            ]
          },
          "metadata": {},
          "output_type": "display_data"
        },
        {
          "name": "stderr",
          "output_type": "stream",
          "text": [
            "C:\\Users\\Laura\\AppData\\Local\\Temp\\ipykernel_26640\\2506351058.py:7: FutureWarning: \n",
            "\n",
            "Passing `palette` without assigning `hue` is deprecated and will be removed in v0.14.0. Assign the `y` variable to `hue` and set `legend=False` for the same effect.\n",
            "\n",
            "  sns.boxplot(x=data[col], palette=\"viridis\")\n"
          ]
        },
        {
          "data": {
            "image/png": "[encoded data removed]",
            "text/plain": [
              "<Figure size 1000x600 with 1 Axes>"
            ]
          },
          "metadata": {},
          "output_type": "display_data"
        }
      ],
      "source": [
        "# Visualizing numerical columns with boxplots\n",
        "numerical_cols = data.select_dtypes(include=np.number).columns.difference(['income','education', 'education-num'])\n",
        "\n",
        "# Plotting boxplots for numerical columns excluding 'income'\n",
        "for col in numerical_cols:\n",
        "    plt.figure(figsize=(10, 6))\n",
        "    sns.boxplot(x=data[col], palette=\"viridis\")\n",
        "    plt.title(f\"Boxplot for {col}\")\n",
        "    plt.show()"
      ]
    },
    {
      "cell_type": "code",
      "execution_count": 36,
      "metadata": {},
      "outputs": [
        {
          "name": "stdout",
          "output_type": "stream",
          "text": [
            "Outliers detected in each numerical column:\n",
            "age                171\n",
            "capital-gain      2589\n",
            "capital-loss      1461\n",
            "fnlwgt             926\n",
            "hours-per-week    8096\n",
            "dtype: int64\n"
          ]
        }
      ],
      "source": [
        "# Select only numerical columns, excluding 'income'\n",
        "numerical_cols = data.select_dtypes(include=np.number).columns.difference(['income','education', 'education-num'])\n",
        "\n",
        "# Identifying outliers using IQR method for numerical columns only\n",
        "Q1 = data[numerical_cols].quantile(0.25)\n",
        "Q3 = data[numerical_cols].quantile(0.75)\n",
        "IQR = Q3 - Q1\n",
        "\n",
        "# Detecting outliers for each numerical column\n",
        "outliers = ((data[numerical_cols] < (Q1 - 1.5 * IQR)) | (data[numerical_cols] > (Q3 + 1.5 * IQR)))\n",
        "outliers_sum = outliers.sum()\n",
        "print(\"Outliers detected in each numerical column:\")\n",
        "print(outliers_sum)\n",
        "\n"
      ]
    },
    {
      "cell_type": "code",
      "execution_count": 37,
      "metadata": {},
      "outputs": [
        {
          "name": "stdout",
          "output_type": "stream",
          "text": [
            "Original dataset size: 30694\n",
            "New dataset size after removing outliers: 18889\n"
          ]
        }
      ],
      "source": [
        "# Remove outliers based on the IQR method\n",
        "data_no_outliers = data[~outliers.any(axis=1)]\n",
        "\n",
        "# Check the shape of the data before and after removing outliers\n",
        "print(f\"Original dataset size: {data.shape[0]}\")\n",
        "print(f\"New dataset size after removing outliers: {data_no_outliers.shape[0]}\")\n"
      ]
    },
    {
      "cell_type": "code",
      "execution_count": 38,
      "metadata": {},
      "outputs": [],
      "source": [
        "data_no_outliers_temporary = data_no_outliers.drop(columns=[\"income\",'education', 'education-num'])"
      ]
    },
    {
      "cell_type": "code",
      "execution_count": 39,
      "metadata": {},
      "outputs": [
        {
          "data": {
            "text/html": [
              "<div>\n",
              "<style scoped>\n",
              "    .dataframe tbody tr th:only-of-type {\n",
              "        vertical-align: middle;\n",
              "    }\n",
              "\n",
              "    .dataframe tbody tr th {\n",
              "        vertical-align: top;\n",
              "    }\n",
              "\n",
              "    .dataframe thead th {\n",
              "        text-align: right;\n",
              "    }\n",
              "</style>\n",
              "<table border=\"1\" class=\"dataframe\">\n",
              "  <thead>\n",
              "    <tr style=\"text-align: right;\">\n",
              "      <th></th>\n",
              "      <th>age</th>\n",
              "      <th>fnlwgt</th>\n",
              "      <th>capital-gain</th>\n",
              "      <th>capital-loss</th>\n",
              "      <th>hours-per-week</th>\n",
              "    </tr>\n",
              "  </thead>\n",
              "  <tbody>\n",
              "    <tr>\n",
              "      <th>count</th>\n",
              "      <td>18889.000000</td>\n",
              "      <td>18889.000000</td>\n",
              "      <td>18889.0</td>\n",
              "      <td>18889.0</td>\n",
              "      <td>18889.000000</td>\n",
              "    </tr>\n",
              "    <tr>\n",
              "      <th>mean</th>\n",
              "      <td>38.261528</td>\n",
              "      <td>181386.845148</td>\n",
              "      <td>0.0</td>\n",
              "      <td>0.0</td>\n",
              "      <td>41.490232</td>\n",
              "    </tr>\n",
              "    <tr>\n",
              "      <th>std</th>\n",
              "      <td>11.820955</td>\n",
              "      <td>87203.831238</td>\n",
              "      <td>0.0</td>\n",
              "      <td>0.0</td>\n",
              "      <td>3.956297</td>\n",
              "    </tr>\n",
              "    <tr>\n",
              "      <th>min</th>\n",
              "      <td>17.000000</td>\n",
              "      <td>14878.000000</td>\n",
              "      <td>0.0</td>\n",
              "      <td>0.0</td>\n",
              "      <td>33.000000</td>\n",
              "    </tr>\n",
              "    <tr>\n",
              "      <th>25%</th>\n",
              "      <td>29.000000</td>\n",
              "      <td>117605.000000</td>\n",
              "      <td>0.0</td>\n",
              "      <td>0.0</td>\n",
              "      <td>40.000000</td>\n",
              "    </tr>\n",
              "    <tr>\n",
              "      <th>50%</th>\n",
              "      <td>37.000000</td>\n",
              "      <td>177331.000000</td>\n",
              "      <td>0.0</td>\n",
              "      <td>0.0</td>\n",
              "      <td>40.000000</td>\n",
              "    </tr>\n",
              "    <tr>\n",
              "      <th>75%</th>\n",
              "      <td>47.000000</td>\n",
              "      <td>230475.000000</td>\n",
              "      <td>0.0</td>\n",
              "      <td>0.0</td>\n",
              "      <td>41.000000</td>\n",
              "    </tr>\n",
              "    <tr>\n",
              "      <th>max</th>\n",
              "      <td>75.000000</td>\n",
              "      <td>416415.000000</td>\n",
              "      <td>0.0</td>\n",
              "      <td>0.0</td>\n",
              "      <td>52.000000</td>\n",
              "    </tr>\n",
              "  </tbody>\n",
              "</table>\n",
              "</div>"
            ],
            "text/plain": [
              "                age         fnlwgt  capital-gain  capital-loss  hours-per-week\n",
              "count  18889.000000   18889.000000       18889.0       18889.0    18889.000000\n",
              "mean      38.261528  181386.845148           0.0           0.0       41.490232\n",
              "std       11.820955   87203.831238           0.0           0.0        3.956297\n",
              "min       17.000000   14878.000000           0.0           0.0       33.000000\n",
              "25%       29.000000  117605.000000           0.0           0.0       40.000000\n",
              "50%       37.000000  177331.000000           0.0           0.0       40.000000\n",
              "75%       47.000000  230475.000000           0.0           0.0       41.000000\n",
              "max       75.000000  416415.000000           0.0           0.0       52.000000"
            ]
          },
          "execution_count": 39,
          "metadata": {},
          "output_type": "execute_result"
        }
      ],
      "source": [
        "data_no_outliers_temporary.describe()"
      ]
    },
    {
      "cell_type": "markdown",
      "metadata": {},
      "source": [
        "#### Outlier outcomes\n",
        "In this phase, we applied the IQR method to detect and remove outliers from the numerical columns, specifically excluding `'education'`, `'education-num'` (both categorical ordinal variables), `'income'` (binary variable). We opted for an aggressive approach to outlier removal because linear models, such as Linear Regression, are highly sensitive to extreme values, which can disproportionately influence model predictions. Given the large size of the dataset, we concluded that removing these outliers would not lead to significant data loss, but would instead improve the model's robustness and help prevent distorted results."
      ]
    },
    {
      "cell_type": "markdown",
      "metadata": {},
      "source": [
        "# Feature Engineering"
      ]
    },
    {
      "cell_type": "code",
      "execution_count": 40,
      "metadata": {},
      "outputs": [
        {
          "name": "stdout",
          "output_type": "stream",
          "text": [
            "   age   age_binned\n",
            "2   38  middle_aged\n",
            "3   53       senior\n",
            "4   28  middle_aged\n",
            "5   37  middle_aged\n",
            "7   52       senior\n"
          ]
        },
        {
          "name": "stderr",
          "output_type": "stream",
          "text": [
            "C:\\Users\\Laura\\AppData\\Local\\Temp\\ipykernel_26640\\3076595374.py:4: SettingWithCopyWarning: \n",
            "A value is trying to be set on a copy of a slice from a DataFrame.\n",
            "Try using .loc[row_indexer,col_indexer] = value instead\n",
            "\n",
            "See the caveats in the documentation: https://pandas.pydata.org/pandas-docs/stable/user_guide/indexing.html#returning-a-view-versus-a-copy\n",
            "  data_no_outliers['age_binned'] = pd.cut(data_no_outliers['age'], bins=bins, labels=labels, right=False)\n"
          ]
        }
      ],
      "source": [
        "# Binning 'age' into categories: 'young', 'middle_aged', 'senior'\n",
        "bins = [0, 25, 45, 65, 100]\n",
        "labels = ['young', 'middle_aged', 'senior', 'elderly']\n",
        "data_no_outliers['age_binned'] = pd.cut(data_no_outliers['age'], bins=bins, labels=labels, right=False)\n",
        "\n",
        "# Check the new feature\n",
        "print(data_no_outliers[['age', 'age_binned']].head())\n"
      ]
    },
    {
      "cell_type": "code",
      "execution_count": 41,
      "metadata": {},
      "outputs": [
        {
          "name": "stdout",
          "output_type": "stream",
          "text": [
            "   age  education-num  age_education_interaction\n",
            "2   38              9                        342\n",
            "3   53              7                        371\n",
            "4   28             13                        364\n",
            "5   37             14                        518\n",
            "7   52              9                        468\n"
          ]
        },
        {
          "name": "stderr",
          "output_type": "stream",
          "text": [
            "C:\\Users\\Laura\\AppData\\Local\\Temp\\ipykernel_26640\\2910290614.py:2: SettingWithCopyWarning: \n",
            "A value is trying to be set on a copy of a slice from a DataFrame.\n",
            "Try using .loc[row_indexer,col_indexer] = value instead\n",
            "\n",
            "See the caveats in the documentation: https://pandas.pydata.org/pandas-docs/stable/user_guide/indexing.html#returning-a-view-versus-a-copy\n",
            "  data_no_outliers['age_education_interaction'] = data_no_outliers['age'] * data_no_outliers['education-num']\n"
          ]
        }
      ],
      "source": [
        "# Create an interaction feature between 'age' and 'education-num'\n",
        "data_no_outliers['age_education_interaction'] = data_no_outliers['age'] * data_no_outliers['education-num']\n",
        "\n",
        "# Check the new feature\n",
        "print(data_no_outliers[['age', 'education-num', 'age_education_interaction']].head())\n"
      ]
    },
    {
      "cell_type": "code",
      "execution_count": 42,
      "metadata": {},
      "outputs": [
        {
          "name": "stdout",
          "output_type": "stream",
          "text": [
            "    workclass_encoded\n",
            "2            0.761184\n",
            "3            0.761184\n",
            "4            0.761184\n",
            "5            0.761184\n",
            "7            0.061041\n",
            "11           0.044364\n",
            "13           0.761184\n",
            "14           0.761184\n",
            "15           0.761184\n",
            "16           0.061041\n",
            "17           0.761184\n",
            "18           0.761184\n",
            "19           0.061041\n",
            "22           0.072053\n",
            "24           0.761184\n"
          ]
        },
        {
          "name": "stderr",
          "output_type": "stream",
          "text": [
            "C:\\Users\\Laura\\AppData\\Local\\Temp\\ipykernel_26640\\3242678456.py:6: SettingWithCopyWarning: \n",
            "A value is trying to be set on a copy of a slice from a DataFrame.\n",
            "Try using .loc[row_indexer,col_indexer] = value instead\n",
            "\n",
            "See the caveats in the documentation: https://pandas.pydata.org/pandas-docs/stable/user_guide/indexing.html#returning-a-view-versus-a-copy\n",
            "  data_no_outliers['workclass_encoded'] = data_no_outliers[workclass_columns].idxmax(axis=1).map(workclass_freq)\n"
          ]
        }
      ],
      "source": [
        "# List of one-hot encoded columns for 'workclass' (or any other categorical feature)\n",
        "workclass_columns = [col for col in data_no_outliers.columns if 'workclass' in col]\n",
        "\n",
        "# Frequency encoding for 'workclass' (one-hot encoded columns)\n",
        "workclass_freq = data_no_outliers[workclass_columns].sum() / len(data_no_outliers)\n",
        "data_no_outliers['workclass_encoded'] = data_no_outliers[workclass_columns].idxmax(axis=1).map(workclass_freq)\n",
        "\n",
        "# Check the new feature\n",
        "print(data_no_outliers[['workclass_encoded']].head(15))\n"
      ]
    },
    {
      "cell_type": "code",
      "execution_count": 43,
      "metadata": {},
      "outputs": [
        {
          "name": "stdout",
          "output_type": "stream",
          "text": [
            "   occupation_encoded\n",
            "2            0.046747\n",
            "3            0.046747\n",
            "4            0.124411\n",
            "5            0.126052\n",
            "7            0.126052\n"
          ]
        },
        {
          "name": "stderr",
          "output_type": "stream",
          "text": [
            "C:\\Users\\Laura\\AppData\\Local\\Temp\\ipykernel_26640\\3405804089.py:6: SettingWithCopyWarning: \n",
            "A value is trying to be set on a copy of a slice from a DataFrame.\n",
            "Try using .loc[row_indexer,col_indexer] = value instead\n",
            "\n",
            "See the caveats in the documentation: https://pandas.pydata.org/pandas-docs/stable/user_guide/indexing.html#returning-a-view-versus-a-copy\n",
            "  data_no_outliers['occupation_encoded'] = data_no_outliers[occupation_columns].idxmax(axis=1).map(occupation_freq)\n"
          ]
        }
      ],
      "source": [
        "# List of one-hot encoded columns for 'occupation'\n",
        "occupation_columns = [col for col in data_no_outliers.columns if 'occupation' in col]\n",
        "\n",
        "# Frequency encoding for 'occupation' (one-hot encoded columns)\n",
        "occupation_freq = data_no_outliers[occupation_columns].sum() / len(data_no_outliers)\n",
        "data_no_outliers['occupation_encoded'] = data_no_outliers[occupation_columns].idxmax(axis=1).map(occupation_freq)\n",
        "\n",
        "# Check the new feature\n",
        "print(data_no_outliers[['occupation_encoded']].head())\n"
      ]
    },
    {
      "cell_type": "code",
      "execution_count": 44,
      "metadata": {},
      "outputs": [
        {
          "name": "stdout",
          "output_type": "stream",
          "text": [
            "        continent\n",
            "2   North America\n",
            "3   North America\n",
            "4   North America\n",
            "5   North America\n",
            "7   North America\n",
            "11           Asia\n",
            "13  North America\n",
            "14  North America\n",
            "15  North America\n",
            "16  North America\n",
            "17  North America\n",
            "18  North America\n",
            "19  North America\n",
            "22  North America\n",
            "24  North America\n"
          ]
        },
        {
          "name": "stderr",
          "output_type": "stream",
          "text": [
            "C:\\Users\\Laura\\AppData\\Local\\Temp\\ipykernel_26640\\1452644215.py:49: SettingWithCopyWarning: \n",
            "A value is trying to be set on a copy of a slice from a DataFrame.\n",
            "Try using .loc[row_indexer,col_indexer] = value instead\n",
            "\n",
            "See the caveats in the documentation: https://pandas.pydata.org/pandas-docs/stable/user_guide/indexing.html#returning-a-view-versus-a-copy\n",
            "  data_no_outliers['continent'] = data_no_outliers[country_columns].idxmax(axis=1).str.replace('native-country_', '').map(country_to_continent)\n"
          ]
        }
      ],
      "source": [
        "# List of one-hot encoded country columns \n",
        "country_columns = [col for col in data_no_outliers.columns if 'native-country' in col]\n",
        "\n",
        "# Mapping of countries to continents\n",
        "country_to_continent = {\n",
        "    'United-States': 'North America',\n",
        "    'Canada': 'North America',\n",
        "    'Mexico': 'North America',\n",
        "    'Columbia': 'South America',\n",
        "    'Cuba': 'North America',\n",
        "    'Dominican-Republic': 'North America',\n",
        "    'Ecuador': 'South America',\n",
        "    'El-Salvador': 'North America',\n",
        "    'England': 'Europe',\n",
        "    'France': 'Europe',\n",
        "    'Germany': 'Europe',\n",
        "    'Greece': 'Europe',\n",
        "    'Guatemala': 'North America',\n",
        "    'Haiti': 'North America',\n",
        "    'Holland-Netherlands': 'Europe',\n",
        "    'Honduras': 'North America',\n",
        "    'Hong': 'Asia',\n",
        "    'Hungary': 'Europe',\n",
        "    'India': 'Asia',\n",
        "    'Iran': 'Asia',\n",
        "    'Ireland': 'Europe',\n",
        "    'Italy': 'Europe',\n",
        "    'Jamaica': 'North America',\n",
        "    'Japan': 'Asia',\n",
        "    'Laos': 'Asia',\n",
        "    'Nicaragua': 'North America',\n",
        "    'Outlying-US(Guam-USVI-etc)': 'Oceania',\n",
        "    'Peru': 'South America',\n",
        "    'Philippines': 'Asia',\n",
        "    'Poland': 'Europe',\n",
        "    'Portugal': 'Europe',\n",
        "    'Puerto-Rico': 'North America',\n",
        "    'Scotland': 'Europe',\n",
        "    'South': 'Europe',\n",
        "    'Taiwan': 'Asia',\n",
        "    'Thailand': 'Asia',\n",
        "    'Trinidad&Tobago': 'North America',\n",
        "    'Vietnam': 'Asia',\n",
        "    'Yugoslavia': 'Europe',\n",
        "    'China': 'Asia'\n",
        "}\n",
        "\n",
        "# Create a new 'continent' feature by checking which country columns are 1\n",
        "data_no_outliers['continent'] = data_no_outliers[country_columns].idxmax(axis=1).str.replace('native-country_', '').map(country_to_continent)\n",
        "\n",
        "# Check the new feature\n",
        "print(data_no_outliers[['continent']].head(15))\n"
      ]
    },
    {
      "cell_type": "code",
      "execution_count": 45,
      "metadata": {},
      "outputs": [
        {
          "name": "stderr",
          "output_type": "stream",
          "text": [
            "C:\\Users\\Laura\\AppData\\Local\\Temp\\ipykernel_26640\\3131065601.py:5: SettingWithCopyWarning: \n",
            "A value is trying to be set on a copy of a slice from a DataFrame.\n",
            "Try using .loc[row_indexer,col_indexer] = value instead\n",
            "\n",
            "See the caveats in the documentation: https://pandas.pydata.org/pandas-docs/stable/user_guide/indexing.html#returning-a-view-versus-a-copy\n",
            "  data_no_outliers['age_binned'] = label_encoder.fit_transform(data_no_outliers['age_binned'])\n"
          ]
        },
        {
          "name": "stdout",
          "output_type": "stream",
          "text": [
            "   age_binned\n",
            "2           1\n",
            "3           2\n",
            "4           1\n",
            "5           1\n",
            "7           2\n"
          ]
        }
      ],
      "source": [
        "from sklearn.preprocessing import LabelEncoder\n",
        "\n",
        "# Label Encoding for 'age_binned' (ordinal categories)\n",
        "label_encoder = LabelEncoder()\n",
        "data_no_outliers['age_binned'] = label_encoder.fit_transform(data_no_outliers['age_binned'])\n",
        "\n",
        "# Check the new feature\n",
        "print(data_no_outliers[['age_binned']].head())\n"
      ]
    },
    {
      "cell_type": "code",
      "execution_count": 46,
      "metadata": {},
      "outputs": [
        {
          "name": "stdout",
          "output_type": "stream",
          "text": [
            "   continent_Europe  continent_North America  continent_Oceania  \\\n",
            "2             False                     True              False   \n",
            "3             False                     True              False   \n",
            "4             False                     True              False   \n",
            "5             False                     True              False   \n",
            "7             False                     True              False   \n",
            "\n",
            "   continent_South America  \n",
            "2                    False  \n",
            "3                    False  \n",
            "4                    False  \n",
            "5                    False  \n",
            "7                    False  \n"
          ]
        }
      ],
      "source": [
        "# One-Hot Encoding for 'continent'\n",
        "data_no_outliers = pd.get_dummies(data_no_outliers, columns=['continent'], drop_first=True)\n",
        "\n",
        "# Check the new columns\n",
        "print(data_no_outliers.filter(regex='continent').head())  # Filter for all continent-related columns\n"
      ]
    },
    {
      "cell_type": "markdown",
      "metadata": {},
      "source": [
        " # Normalization and Scaling"
      ]
    },
    {
      "cell_type": "code",
      "execution_count": 47,
      "metadata": {},
      "outputs": [
        {
          "data": {
            "text/plain": [
              "Index(['age', 'fnlwgt', 'education', 'education-num', 'capital-gain',\n",
              "       'capital-loss', 'hours-per-week', 'income', 'workclass_local-gov',\n",
              "       'workclass_private', 'workclass_self-emp-inc',\n",
              "       'workclass_self-emp-not-inc', 'workclass_state-gov',\n",
              "       'workclass_without-pay', 'occupation_armed-forces',\n",
              "       'occupation_craft-repair', 'occupation_exec-managerial',\n",
              "       'occupation_farming-fishing', 'occupation_handlers-cleaners',\n",
              "       'occupation_machine-op-inspct', 'occupation_other-service',\n",
              "       'occupation_priv-house-serv', 'occupation_prof-specialty',\n",
              "       'occupation_protective-serv', 'occupation_sales',\n",
              "       'occupation_tech-support', 'occupation_transport-moving', 'sex_male',\n",
              "       'native-country_Canada', 'native-country_China',\n",
              "       'native-country_Columbia', 'native-country_Cuba',\n",
              "       'native-country_Dominican-Republic', 'native-country_Ecuador',\n",
              "       'native-country_El-Salvador', 'native-country_England',\n",
              "       'native-country_France', 'native-country_Germany',\n",
              "       'native-country_Greece', 'native-country_Guatemala',\n",
              "       'native-country_Haiti', 'native-country_Holland-Netherlands',\n",
              "       'native-country_Honduras', 'native-country_Hong',\n",
              "       'native-country_Hungary', 'native-country_India', 'native-country_Iran',\n",
              "       'native-country_Ireland', 'native-country_Italy',\n",
              "       'native-country_Jamaica', 'native-country_Japan', 'native-country_Laos',\n",
              "       'native-country_Mexico', 'native-country_Nicaragua',\n",
              "       'native-country_Outlying-US(Guam-USVI-etc)', 'native-country_Peru',\n",
              "       'native-country_Philippines', 'native-country_Poland',\n",
              "       'native-country_Portugal', 'native-country_Puerto-Rico',\n",
              "       'native-country_Scotland', 'native-country_South',\n",
              "       'native-country_Taiwan', 'native-country_Thailand',\n",
              "       'native-country_Trinidad&Tobago', 'native-country_United-States',\n",
              "       'native-country_Vietnam', 'native-country_Yugoslavia',\n",
              "       'marital-status_married-af-spouse', 'marital-status_married-civ-spouse',\n",
              "       'marital-status_married-spouse-absent', 'marital-status_never-married',\n",
              "       'marital-status_separated', 'marital-status_widowed',\n",
              "       'relationship_not-in-family', 'relationship_other-relative',\n",
              "       'relationship_own-child', 'relationship_unmarried', 'relationship_wife',\n",
              "       'race_asian-pac-islander', 'race_black', 'race_other', 'race_white',\n",
              "       'age_binned', 'age_education_interaction', 'workclass_encoded',\n",
              "       'occupation_encoded', 'continent_Europe', 'continent_North America',\n",
              "       'continent_Oceania', 'continent_South America'],\n",
              "      dtype='object')"
            ]
          },
          "execution_count": 47,
          "metadata": {},
          "output_type": "execute_result"
        }
      ],
      "source": [
        "data_no_outliers.columns"
      ]
    },
    {
      "cell_type": "code",
      "execution_count": 48,
      "metadata": {},
      "outputs": [
        {
          "data": {
            "text/html": [
              "<div>\n",
              "<style scoped>\n",
              "    .dataframe tbody tr th:only-of-type {\n",
              "        vertical-align: middle;\n",
              "    }\n",
              "\n",
              "    .dataframe tbody tr th {\n",
              "        vertical-align: top;\n",
              "    }\n",
              "\n",
              "    .dataframe thead th {\n",
              "        text-align: right;\n",
              "    }\n",
              "</style>\n",
              "<table border=\"1\" class=\"dataframe\">\n",
              "  <thead>\n",
              "    <tr style=\"text-align: right;\">\n",
              "      <th></th>\n",
              "      <th>age</th>\n",
              "      <th>fnlwgt</th>\n",
              "      <th>education</th>\n",
              "      <th>education-num</th>\n",
              "      <th>capital-gain</th>\n",
              "      <th>capital-loss</th>\n",
              "      <th>hours-per-week</th>\n",
              "      <th>income</th>\n",
              "      <th>age_binned</th>\n",
              "      <th>age_education_interaction</th>\n",
              "      <th>workclass_encoded</th>\n",
              "      <th>occupation_encoded</th>\n",
              "    </tr>\n",
              "  </thead>\n",
              "  <tbody>\n",
              "    <tr>\n",
              "      <th>count</th>\n",
              "      <td>18889.000000</td>\n",
              "      <td>18889.000000</td>\n",
              "      <td>18889.000000</td>\n",
              "      <td>18889.000000</td>\n",
              "      <td>18889.0</td>\n",
              "      <td>18889.0</td>\n",
              "      <td>18889.000000</td>\n",
              "      <td>18889.000000</td>\n",
              "      <td>18889.000000</td>\n",
              "      <td>18889.000000</td>\n",
              "      <td>18889.000000</td>\n",
              "      <td>18889.000000</td>\n",
              "    </tr>\n",
              "    <tr>\n",
              "      <th>mean</th>\n",
              "      <td>38.261528</td>\n",
              "      <td>181386.845148</td>\n",
              "      <td>8.068453</td>\n",
              "      <td>10.032823</td>\n",
              "      <td>0.0</td>\n",
              "      <td>0.0</td>\n",
              "      <td>41.490232</td>\n",
              "      <td>0.210758</td>\n",
              "      <td>1.531738</td>\n",
              "      <td>383.758696</td>\n",
              "      <td>0.593501</td>\n",
              "      <td>0.088145</td>\n",
              "    </tr>\n",
              "    <tr>\n",
              "      <th>std</th>\n",
              "      <td>11.820955</td>\n",
              "      <td>87203.831238</td>\n",
              "      <td>2.477968</td>\n",
              "      <td>2.474389</td>\n",
              "      <td>0.0</td>\n",
              "      <td>0.0</td>\n",
              "      <td>3.956297</td>\n",
              "      <td>0.407857</td>\n",
              "      <td>0.729122</td>\n",
              "      <td>154.961938</td>\n",
              "      <td>0.299468</td>\n",
              "      <td>0.051064</td>\n",
              "    </tr>\n",
              "    <tr>\n",
              "      <th>min</th>\n",
              "      <td>17.000000</td>\n",
              "      <td>14878.000000</td>\n",
              "      <td>0.000000</td>\n",
              "      <td>1.000000</td>\n",
              "      <td>0.0</td>\n",
              "      <td>0.0</td>\n",
              "      <td>33.000000</td>\n",
              "      <td>0.000000</td>\n",
              "      <td>0.000000</td>\n",
              "      <td>19.000000</td>\n",
              "      <td>0.000159</td>\n",
              "      <td>0.000318</td>\n",
              "    </tr>\n",
              "    <tr>\n",
              "      <th>25%</th>\n",
              "      <td>29.000000</td>\n",
              "      <td>117605.000000</td>\n",
              "      <td>7.000000</td>\n",
              "      <td>9.000000</td>\n",
              "      <td>0.0</td>\n",
              "      <td>0.0</td>\n",
              "      <td>40.000000</td>\n",
              "      <td>0.000000</td>\n",
              "      <td>1.000000</td>\n",
              "      <td>270.000000</td>\n",
              "      <td>0.761184</td>\n",
              "      <td>0.046747</td>\n",
              "    </tr>\n",
              "    <tr>\n",
              "      <th>50%</th>\n",
              "      <td>37.000000</td>\n",
              "      <td>177331.000000</td>\n",
              "      <td>8.000000</td>\n",
              "      <td>10.000000</td>\n",
              "      <td>0.0</td>\n",
              "      <td>0.0</td>\n",
              "      <td>40.000000</td>\n",
              "      <td>0.000000</td>\n",
              "      <td>1.000000</td>\n",
              "      <td>364.000000</td>\n",
              "      <td>0.761184</td>\n",
              "      <td>0.101699</td>\n",
              "    </tr>\n",
              "    <tr>\n",
              "      <th>75%</th>\n",
              "      <td>47.000000</td>\n",
              "      <td>230475.000000</td>\n",
              "      <td>10.000000</td>\n",
              "      <td>12.000000</td>\n",
              "      <td>0.0</td>\n",
              "      <td>0.0</td>\n",
              "      <td>41.000000</td>\n",
              "      <td>0.000000</td>\n",
              "      <td>2.000000</td>\n",
              "      <td>480.000000</td>\n",
              "      <td>0.761184</td>\n",
              "      <td>0.126052</td>\n",
              "    </tr>\n",
              "    <tr>\n",
              "      <th>max</th>\n",
              "      <td>75.000000</td>\n",
              "      <td>416415.000000</td>\n",
              "      <td>15.000000</td>\n",
              "      <td>16.000000</td>\n",
              "      <td>0.0</td>\n",
              "      <td>0.0</td>\n",
              "      <td>52.000000</td>\n",
              "      <td>1.000000</td>\n",
              "      <td>3.000000</td>\n",
              "      <td>1125.000000</td>\n",
              "      <td>0.761184</td>\n",
              "      <td>0.155699</td>\n",
              "    </tr>\n",
              "  </tbody>\n",
              "</table>\n",
              "</div>"
            ],
            "text/plain": [
              "                age         fnlwgt     education  education-num  capital-gain  \\\n",
              "count  18889.000000   18889.000000  18889.000000   18889.000000       18889.0   \n",
              "mean      38.261528  181386.845148      8.068453      10.032823           0.0   \n",
              "std       11.820955   87203.831238      2.477968       2.474389           0.0   \n",
              "min       17.000000   14878.000000      0.000000       1.000000           0.0   \n",
              "25%       29.000000  117605.000000      7.000000       9.000000           0.0   \n",
              "50%       37.000000  177331.000000      8.000000      10.000000           0.0   \n",
              "75%       47.000000  230475.000000     10.000000      12.000000           0.0   \n",
              "max       75.000000  416415.000000     15.000000      16.000000           0.0   \n",
              "\n",
              "       capital-loss  hours-per-week        income    age_binned  \\\n",
              "count       18889.0    18889.000000  18889.000000  18889.000000   \n",
              "mean            0.0       41.490232      0.210758      1.531738   \n",
              "std             0.0        3.956297      0.407857      0.729122   \n",
              "min             0.0       33.000000      0.000000      0.000000   \n",
              "25%             0.0       40.000000      0.000000      1.000000   \n",
              "50%             0.0       40.000000      0.000000      1.000000   \n",
              "75%             0.0       41.000000      0.000000      2.000000   \n",
              "max             0.0       52.000000      1.000000      3.000000   \n",
              "\n",
              "       age_education_interaction  workclass_encoded  occupation_encoded  \n",
              "count               18889.000000       18889.000000        18889.000000  \n",
              "mean                  383.758696           0.593501            0.088145  \n",
              "std                   154.961938           0.299468            0.051064  \n",
              "min                    19.000000           0.000159            0.000318  \n",
              "25%                   270.000000           0.761184            0.046747  \n",
              "50%                   364.000000           0.761184            0.101699  \n",
              "75%                   480.000000           0.761184            0.126052  \n",
              "max                  1125.000000           0.761184            0.155699  "
            ]
          },
          "execution_count": 48,
          "metadata": {},
          "output_type": "execute_result"
        }
      ],
      "source": [
        "data_no_outliers.describe()"
      ]
    },
    {
      "cell_type": "code",
      "execution_count": 49,
      "metadata": {},
      "outputs": [],
      "source": [
        "data_no_outliers.drop(columns=['capital-gain', 'capital-loss'], inplace=True)"
      ]
    },
    {
      "cell_type": "code",
      "execution_count": 50,
      "metadata": {},
      "outputs": [],
      "source": [
        "from sklearn.preprocessing import MinMaxScaler\n",
        "\n",
        "# Select numerical columns\n",
        "numerical_cols = ['age', 'fnlwgt', 'age_education_interaction']\n",
        "\n",
        "# Apply normalization\n",
        "scaler = MinMaxScaler()\n",
        "data_no_outliers[numerical_cols] = scaler.fit_transform(data_no_outliers[numerical_cols])"
      ]
    },
    {
      "cell_type": "code",
      "execution_count": 51,
      "metadata": {},
      "outputs": [],
      "source": [
        "from sklearn.preprocessing import StandardScaler\n",
        "\n",
        "# Select numerical columns\n",
        "numerical_cols = ['age', 'fnlwgt','age_education_interaction']\n",
        "\n",
        "# Apply standardization\n",
        "scaler = StandardScaler()\n",
        "data_no_outliers[numerical_cols] = scaler.fit_transform(data_no_outliers[numerical_cols])"
      ]
    },
    {
      "cell_type": "code",
      "execution_count": 52,
      "metadata": {},
      "outputs": [
        {
          "data": {
            "text/html": [
              "<div>\n",
              "<style scoped>\n",
              "    .dataframe tbody tr th:only-of-type {\n",
              "        vertical-align: middle;\n",
              "    }\n",
              "\n",
              "    .dataframe tbody tr th {\n",
              "        vertical-align: top;\n",
              "    }\n",
              "\n",
              "    .dataframe thead th {\n",
              "        text-align: right;\n",
              "    }\n",
              "</style>\n",
              "<table border=\"1\" class=\"dataframe\">\n",
              "  <thead>\n",
              "    <tr style=\"text-align: right;\">\n",
              "      <th></th>\n",
              "      <th>age</th>\n",
              "      <th>fnlwgt</th>\n",
              "      <th>education</th>\n",
              "      <th>education-num</th>\n",
              "      <th>hours-per-week</th>\n",
              "      <th>income</th>\n",
              "      <th>age_binned</th>\n",
              "      <th>age_education_interaction</th>\n",
              "      <th>workclass_encoded</th>\n",
              "      <th>occupation_encoded</th>\n",
              "    </tr>\n",
              "  </thead>\n",
              "  <tbody>\n",
              "    <tr>\n",
              "      <th>count</th>\n",
              "      <td>1.888900e+04</td>\n",
              "      <td>1.888900e+04</td>\n",
              "      <td>18889.000000</td>\n",
              "      <td>18889.000000</td>\n",
              "      <td>18889.000000</td>\n",
              "      <td>18889.000000</td>\n",
              "      <td>18889.000000</td>\n",
              "      <td>1.888900e+04</td>\n",
              "      <td>18889.000000</td>\n",
              "      <td>18889.000000</td>\n",
              "    </tr>\n",
              "    <tr>\n",
              "      <th>mean</th>\n",
              "      <td>1.254519e-16</td>\n",
              "      <td>-2.170486e-16</td>\n",
              "      <td>8.068453</td>\n",
              "      <td>10.032823</td>\n",
              "      <td>41.490232</td>\n",
              "      <td>0.210758</td>\n",
              "      <td>1.531738</td>\n",
              "      <td>1.623163e-16</td>\n",
              "      <td>0.593501</td>\n",
              "      <td>0.088145</td>\n",
              "    </tr>\n",
              "    <tr>\n",
              "      <th>std</th>\n",
              "      <td>1.000026e+00</td>\n",
              "      <td>1.000026e+00</td>\n",
              "      <td>2.477968</td>\n",
              "      <td>2.474389</td>\n",
              "      <td>3.956297</td>\n",
              "      <td>0.407857</td>\n",
              "      <td>0.729122</td>\n",
              "      <td>1.000026e+00</td>\n",
              "      <td>0.299468</td>\n",
              "      <td>0.051064</td>\n",
              "    </tr>\n",
              "    <tr>\n",
              "      <th>min</th>\n",
              "      <td>-1.798678e+00</td>\n",
              "      <td>-1.909472e+00</td>\n",
              "      <td>0.000000</td>\n",
              "      <td>1.000000</td>\n",
              "      <td>33.000000</td>\n",
              "      <td>0.000000</td>\n",
              "      <td>0.000000</td>\n",
              "      <td>-2.353922e+00</td>\n",
              "      <td>0.000159</td>\n",
              "      <td>0.000318</td>\n",
              "    </tr>\n",
              "    <tr>\n",
              "      <th>25%</th>\n",
              "      <td>-7.835047e-01</td>\n",
              "      <td>-7.314304e-01</td>\n",
              "      <td>7.000000</td>\n",
              "      <td>9.000000</td>\n",
              "      <td>40.000000</td>\n",
              "      <td>0.000000</td>\n",
              "      <td>1.000000</td>\n",
              "      <td>-7.341268e-01</td>\n",
              "      <td>0.761184</td>\n",
              "      <td>0.046747</td>\n",
              "    </tr>\n",
              "    <tr>\n",
              "      <th>50%</th>\n",
              "      <td>-1.067225e-01</td>\n",
              "      <td>-4.651117e-02</td>\n",
              "      <td>8.000000</td>\n",
              "      <td>10.000000</td>\n",
              "      <td>40.000000</td>\n",
              "      <td>0.000000</td>\n",
              "      <td>1.000000</td>\n",
              "      <td>-1.275101e-01</td>\n",
              "      <td>0.761184</td>\n",
              "      <td>0.101699</td>\n",
              "    </tr>\n",
              "    <tr>\n",
              "      <th>75%</th>\n",
              "      <td>7.392553e-01</td>\n",
              "      <td>5.629277e-01</td>\n",
              "      <td>10.000000</td>\n",
              "      <td>12.000000</td>\n",
              "      <td>41.000000</td>\n",
              "      <td>0.000000</td>\n",
              "      <td>2.000000</td>\n",
              "      <td>6.210806e-01</td>\n",
              "      <td>0.761184</td>\n",
              "      <td>0.126052</td>\n",
              "    </tr>\n",
              "    <tr>\n",
              "      <th>max</th>\n",
              "      <td>3.107993e+00</td>\n",
              "      <td>2.695230e+00</td>\n",
              "      <td>15.000000</td>\n",
              "      <td>16.000000</td>\n",
              "      <td>52.000000</td>\n",
              "      <td>1.000000</td>\n",
              "      <td>3.000000</td>\n",
              "      <td>4.783503e+00</td>\n",
              "      <td>0.761184</td>\n",
              "      <td>0.155699</td>\n",
              "    </tr>\n",
              "  </tbody>\n",
              "</table>\n",
              "</div>"
            ],
            "text/plain": [
              "                age        fnlwgt     education  education-num  \\\n",
              "count  1.888900e+04  1.888900e+04  18889.000000   18889.000000   \n",
              "mean   1.254519e-16 -2.170486e-16      8.068453      10.032823   \n",
              "std    1.000026e+00  1.000026e+00      2.477968       2.474389   \n",
              "min   -1.798678e+00 -1.909472e+00      0.000000       1.000000   \n",
              "25%   -7.835047e-01 -7.314304e-01      7.000000       9.000000   \n",
              "50%   -1.067225e-01 -4.651117e-02      8.000000      10.000000   \n",
              "75%    7.392553e-01  5.629277e-01     10.000000      12.000000   \n",
              "max    3.107993e+00  2.695230e+00     15.000000      16.000000   \n",
              "\n",
              "       hours-per-week        income    age_binned  age_education_interaction  \\\n",
              "count    18889.000000  18889.000000  18889.000000               1.888900e+04   \n",
              "mean        41.490232      0.210758      1.531738               1.623163e-16   \n",
              "std          3.956297      0.407857      0.729122               1.000026e+00   \n",
              "min         33.000000      0.000000      0.000000              -2.353922e+00   \n",
              "25%         40.000000      0.000000      1.000000              -7.341268e-01   \n",
              "50%         40.000000      0.000000      1.000000              -1.275101e-01   \n",
              "75%         41.000000      0.000000      2.000000               6.210806e-01   \n",
              "max         52.000000      1.000000      3.000000               4.783503e+00   \n",
              "\n",
              "       workclass_encoded  occupation_encoded  \n",
              "count       18889.000000        18889.000000  \n",
              "mean            0.593501            0.088145  \n",
              "std             0.299468            0.051064  \n",
              "min             0.000159            0.000318  \n",
              "25%             0.761184            0.046747  \n",
              "50%             0.761184            0.101699  \n",
              "75%             0.761184            0.126052  \n",
              "max             0.761184            0.155699  "
            ]
          },
          "execution_count": 52,
          "metadata": {},
          "output_type": "execute_result"
        }
      ],
      "source": [
        "data_no_outliers.describe()"
      ]
    },
    {
      "cell_type": "markdown",
      "metadata": {},
      "source": [
        "# Train-Test Split"
      ]
    },
    {
      "cell_type": "code",
      "execution_count": 53,
      "metadata": {},
      "outputs": [],
      "source": [
        "from sklearn.model_selection import train_test_split\n",
        "\n",
        "# Define features (X) and target (y)\n",
        "X = data_no_outliers.drop(columns=['hours-per-week'])  # Features (all columns except the target)\n",
        "y = data_no_outliers['hours-per-week']  # Target variable\n",
        "\n",
        "# Split the data (80% train, 20% test)\n",
        "X_train, X_test, y_train, y_test = train_test_split(X, y, test_size=0.2, random_state=42)"
      ]
    },
    {
      "cell_type": "code",
      "execution_count": 54,
      "metadata": {},
      "outputs": [
        {
          "name": "stdout",
          "output_type": "stream",
          "text": [
            "Training features shape: (15111, 88)\n",
            "Testing features shape: (3778, 88)\n",
            "Training target shape: (15111,)\n",
            "Testing target shape: (3778,)\n"
          ]
        }
      ],
      "source": [
        "print(f\"Training features shape: {X_train.shape}\")\n",
        "print(f\"Testing features shape: {X_test.shape}\")\n",
        "print(f\"Training target shape: {y_train.shape}\")\n",
        "print(f\"Testing target shape: {y_test.shape}\")"
      ]
    },
    {
      "cell_type": "code",
      "execution_count": 55,
      "metadata": {},
      "outputs": [],
      "source": [
        "# Save training and testing data\n",
        "X_train.to_csv('X_train.csv', index=False)\n",
        "X_test.to_csv('X_test.csv', index=False)\n",
        "y_train.to_csv('y_train.csv', index=False)\n",
        "y_test.to_csv('y_test.csv', index=False)"
      ]
    },
    {
      "cell_type": "code",
      "execution_count": 56,
      "metadata": {},
      "outputs": [],
      "source": [
        "data_no_outliers.to_csv('preprocessed_data.csv', index=False)"
      ]
    }
  ],
  "metadata": {
    "colab": {
      "provenance": [],
      "toc_visible": true
    },
    "kernelspec": {
      "display_name": "ml_env",
      "language": "python",
      "name": "python3"
    },
    "language_info": {
      "codemirror_mode": {
        "name": "ipython",
        "version": 3
      },
      "file_extension": ".py",
      "mimetype": "text/x-python",
      "name": "python",
      "nbconvert_exporter": "python",
      "pygments_lexer": "ipython3",
      "version": "3.13.0"
    }
  },
  "nbformat": 4,
  "nbformat_minor": 0
}
