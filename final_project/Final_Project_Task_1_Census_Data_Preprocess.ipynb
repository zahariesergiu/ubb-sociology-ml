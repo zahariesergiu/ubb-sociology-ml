{
  "cells": [
    {
      "cell_type": "markdown",
      "metadata": {
        "id": "ydHb_ZL5yy6f"
      },
      "source": [
        "# **Final Project Task 1 - Census Data Preprocess**"
      ]
    },
    {
      "cell_type": "markdown",
      "metadata": {
        "id": "hnzXS8Oo9jwY"
      },
      "source": [
        "Requirements\n",
        "\n",
        "- Target variable specification:\n",
        "    - The target variable for this project is hours-per-week. \n",
        "    - Ensure all preprocessing steps are designed to support regression analysis on this target variable.\n",
        "- Encode data\n",
        "- Handle missing values if any\n",
        "- Correct errors, inconsistencies, remove duplicates if any\n",
        "- Outlier detection and treatment if any\n",
        "- Normalization / Standardization if necesarry\n",
        "- Feature engineering\n",
        "- Train test split, save it.\n",
        "- Others?\n",
        "\n",
        "\n",
        "Deliverable:\n",
        "\n",
        "- Notebook code with no errors.\n",
        "- Preprocessed data as csv."
      ]
    },
    {
      "cell_type": "code",
      "execution_count": 1,
      "metadata": {
        "id": "xifylnglyn2W"
      },
      "outputs": [],
      "source": [
        "import pandas as pd\n",
        "import numpy as np\n",
        "from sklearn.preprocessing import LabelEncoder\n",
        "from sklearn.preprocessing import StandardScaler\n",
        "from scipy.stats.mstats import winsorize\n",
        "import matplotlib.pyplot as plt\n",
        "import seaborn as sns"
      ]
    },
    {
      "cell_type": "code",
      "execution_count": 2,
      "metadata": {
        "colab": {
          "base_uri": "https://localhost:8080/",
          "height": 348
        },
        "id": "CzWyJfHkyn-8",
        "outputId": "633344dd-56a2-44a7-a237-a26873898c80"
      },
      "outputs": [
        {
          "data": {
            "text/html": [
              "<div>\n",
              "<style scoped>\n",
              "    .dataframe tbody tr th:only-of-type {\n",
              "        vertical-align: middle;\n",
              "    }\n",
              "\n",
              "    .dataframe tbody tr th {\n",
              "        vertical-align: top;\n",
              "    }\n",
              "\n",
              "    .dataframe thead th {\n",
              "        text-align: right;\n",
              "    }\n",
              "</style>\n",
              "<table border=\"1\" class=\"dataframe\">\n",
              "  <thead>\n",
              "    <tr style=\"text-align: right;\">\n",
              "      <th></th>\n",
              "      <th>age</th>\n",
              "      <th>workclass</th>\n",
              "      <th>fnlwgt</th>\n",
              "      <th>education</th>\n",
              "      <th>education-num</th>\n",
              "      <th>marital-status</th>\n",
              "      <th>occupation</th>\n",
              "      <th>relationship</th>\n",
              "      <th>race</th>\n",
              "      <th>sex</th>\n",
              "      <th>capital-gain</th>\n",
              "      <th>capital-loss</th>\n",
              "      <th>hours-per-week</th>\n",
              "      <th>native-country</th>\n",
              "      <th>income</th>\n",
              "    </tr>\n",
              "  </thead>\n",
              "  <tbody>\n",
              "    <tr>\n",
              "      <th>0</th>\n",
              "      <td>39</td>\n",
              "      <td>State-gov</td>\n",
              "      <td>77516</td>\n",
              "      <td>Bachelors</td>\n",
              "      <td>13</td>\n",
              "      <td>Never-married</td>\n",
              "      <td>Adm-clerical</td>\n",
              "      <td>Not-in-family</td>\n",
              "      <td>White</td>\n",
              "      <td>Male</td>\n",
              "      <td>2174</td>\n",
              "      <td>0</td>\n",
              "      <td>40</td>\n",
              "      <td>United-States</td>\n",
              "      <td>&lt;=50K</td>\n",
              "    </tr>\n",
              "    <tr>\n",
              "      <th>1</th>\n",
              "      <td>50</td>\n",
              "      <td>Self-emp-not-inc</td>\n",
              "      <td>83311</td>\n",
              "      <td>Bachelors</td>\n",
              "      <td>13</td>\n",
              "      <td>Married-civ-spouse</td>\n",
              "      <td>Exec-managerial</td>\n",
              "      <td>Husband</td>\n",
              "      <td>White</td>\n",
              "      <td>Male</td>\n",
              "      <td>0</td>\n",
              "      <td>0</td>\n",
              "      <td>13</td>\n",
              "      <td>United-States</td>\n",
              "      <td>&lt;=50K</td>\n",
              "    </tr>\n",
              "    <tr>\n",
              "      <th>2</th>\n",
              "      <td>38</td>\n",
              "      <td>Private</td>\n",
              "      <td>215646</td>\n",
              "      <td>HS-grad</td>\n",
              "      <td>9</td>\n",
              "      <td>Divorced</td>\n",
              "      <td>Handlers-cleaners</td>\n",
              "      <td>Not-in-family</td>\n",
              "      <td>White</td>\n",
              "      <td>Male</td>\n",
              "      <td>0</td>\n",
              "      <td>0</td>\n",
              "      <td>40</td>\n",
              "      <td>United-States</td>\n",
              "      <td>&lt;=50K</td>\n",
              "    </tr>\n",
              "    <tr>\n",
              "      <th>3</th>\n",
              "      <td>53</td>\n",
              "      <td>Private</td>\n",
              "      <td>234721</td>\n",
              "      <td>11th</td>\n",
              "      <td>7</td>\n",
              "      <td>Married-civ-spouse</td>\n",
              "      <td>Handlers-cleaners</td>\n",
              "      <td>Husband</td>\n",
              "      <td>Black</td>\n",
              "      <td>Male</td>\n",
              "      <td>0</td>\n",
              "      <td>0</td>\n",
              "      <td>40</td>\n",
              "      <td>United-States</td>\n",
              "      <td>&lt;=50K</td>\n",
              "    </tr>\n",
              "    <tr>\n",
              "      <th>4</th>\n",
              "      <td>28</td>\n",
              "      <td>Private</td>\n",
              "      <td>338409</td>\n",
              "      <td>Bachelors</td>\n",
              "      <td>13</td>\n",
              "      <td>Married-civ-spouse</td>\n",
              "      <td>Prof-specialty</td>\n",
              "      <td>Wife</td>\n",
              "      <td>Black</td>\n",
              "      <td>Female</td>\n",
              "      <td>0</td>\n",
              "      <td>0</td>\n",
              "      <td>40</td>\n",
              "      <td>Cuba</td>\n",
              "      <td>&lt;=50K</td>\n",
              "    </tr>\n",
              "  </tbody>\n",
              "</table>\n",
              "</div>"
            ],
            "text/plain": [
              "   age         workclass  fnlwgt  education  education-num  \\\n",
              "0   39         State-gov   77516  Bachelors             13   \n",
              "1   50  Self-emp-not-inc   83311  Bachelors             13   \n",
              "2   38           Private  215646    HS-grad              9   \n",
              "3   53           Private  234721       11th              7   \n",
              "4   28           Private  338409  Bachelors             13   \n",
              "\n",
              "       marital-status         occupation   relationship   race     sex  \\\n",
              "0       Never-married       Adm-clerical  Not-in-family  White    Male   \n",
              "1  Married-civ-spouse    Exec-managerial        Husband  White    Male   \n",
              "2            Divorced  Handlers-cleaners  Not-in-family  White    Male   \n",
              "3  Married-civ-spouse  Handlers-cleaners        Husband  Black    Male   \n",
              "4  Married-civ-spouse     Prof-specialty           Wife  Black  Female   \n",
              "\n",
              "   capital-gain  capital-loss  hours-per-week native-country income  \n",
              "0          2174             0              40  United-States  <=50K  \n",
              "1             0             0              13  United-States  <=50K  \n",
              "2             0             0              40  United-States  <=50K  \n",
              "3             0             0              40  United-States  <=50K  \n",
              "4             0             0              40           Cuba  <=50K  "
            ]
          },
          "execution_count": 2,
          "metadata": {},
          "output_type": "execute_result"
        }
      ],
      "source": [
        "data_url = \"https://archive.ics.uci.edu/ml/machine-learning-databases/adult/adult.data\"\n",
        "columns = [\n",
        "    \"age\", \"workclass\", \"fnlwgt\", \"education\", \"education-num\", \"marital-status\",\n",
        "    \"occupation\", \"relationship\", \"race\", \"sex\", \"capital-gain\", \"capital-loss\",\n",
        "    \"hours-per-week\", \"native-country\", \"income\"\n",
        "]\n",
        "\n",
        "data = pd.read_csv(data_url, header=None, names=columns, na_values=\" ?\", skipinitialspace=True)\n",
        "data.head()"
      ]
    },
    {
      "cell_type": "markdown",
      "metadata": {},
      "source": [
        "## Overview"
      ]
    },
    {
      "cell_type": "code",
      "execution_count": 3,
      "metadata": {},
      "outputs": [
        {
          "name": "stdout",
          "output_type": "stream",
          "text": [
            "(32561, 15)\n"
          ]
        }
      ],
      "source": [
        "#Check the dataset size\n",
        "\n",
        "print(data.shape)"
      ]
    },
    {
      "cell_type": "code",
      "execution_count": 4,
      "metadata": {},
      "outputs": [
        {
          "name": "stdout",
          "output_type": "stream",
          "text": [
            "<class 'pandas.core.frame.DataFrame'>\n",
            "RangeIndex: 32561 entries, 0 to 32560\n",
            "Data columns (total 15 columns):\n",
            " #   Column          Non-Null Count  Dtype \n",
            "---  ------          --------------  ----- \n",
            " 0   age             32561 non-null  int64 \n",
            " 1   workclass       32561 non-null  object\n",
            " 2   fnlwgt          32561 non-null  int64 \n",
            " 3   education       32561 non-null  object\n",
            " 4   education-num   32561 non-null  int64 \n",
            " 5   marital-status  32561 non-null  object\n",
            " 6   occupation      32561 non-null  object\n",
            " 7   relationship    32561 non-null  object\n",
            " 8   race            32561 non-null  object\n",
            " 9   sex             32561 non-null  object\n",
            " 10  capital-gain    32561 non-null  int64 \n",
            " 11  capital-loss    32561 non-null  int64 \n",
            " 12  hours-per-week  32561 non-null  int64 \n",
            " 13  native-country  32561 non-null  object\n",
            " 14  income          32561 non-null  object\n",
            "dtypes: int64(6), object(9)\n",
            "memory usage: 3.7+ MB\n",
            "None\n"
          ]
        }
      ],
      "source": [
        "#Check data types\n",
        "\n",
        "print(data.info())"
      ]
    },
    {
      "cell_type": "code",
      "execution_count": 5,
      "metadata": {},
      "outputs": [
        {
          "name": "stdout",
          "output_type": "stream",
          "text": [
            "                age        fnlwgt  education-num  capital-gain  capital-loss  \\\n",
            "count  32561.000000  3.256100e+04   32561.000000  32561.000000  32561.000000   \n",
            "mean      38.581647  1.897784e+05      10.080679   1077.648844     87.303830   \n",
            "std       13.640433  1.055500e+05       2.572720   7385.292085    402.960219   \n",
            "min       17.000000  1.228500e+04       1.000000      0.000000      0.000000   \n",
            "25%       28.000000  1.178270e+05       9.000000      0.000000      0.000000   \n",
            "50%       37.000000  1.783560e+05      10.000000      0.000000      0.000000   \n",
            "75%       48.000000  2.370510e+05      12.000000      0.000000      0.000000   \n",
            "max       90.000000  1.484705e+06      16.000000  99999.000000   4356.000000   \n",
            "\n",
            "       hours-per-week  \n",
            "count    32561.000000  \n",
            "mean        40.437456  \n",
            "std         12.347429  \n",
            "min          1.000000  \n",
            "25%         40.000000  \n",
            "50%         40.000000  \n",
            "75%         45.000000  \n",
            "max         99.000000  \n"
          ]
        }
      ],
      "source": [
        "#Analyze the statistics of numerical variables\n",
        "\n",
        "print(data.describe())"
      ]
    },
    {
      "cell_type": "markdown",
      "metadata": {},
      "source": [
        "## Handle missing values"
      ]
    },
    {
      "cell_type": "code",
      "execution_count": 6,
      "metadata": {},
      "outputs": [
        {
          "name": "stdout",
          "output_type": "stream",
          "text": [
            "age               0\n",
            "workclass         0\n",
            "fnlwgt            0\n",
            "education         0\n",
            "education-num     0\n",
            "marital-status    0\n",
            "occupation        0\n",
            "relationship      0\n",
            "race              0\n",
            "sex               0\n",
            "capital-gain      0\n",
            "capital-loss      0\n",
            "hours-per-week    0\n",
            "native-country    0\n",
            "income            0\n",
            "dtype: int64\n",
            "age                  0\n",
            "workclass         1836\n",
            "fnlwgt               0\n",
            "education            0\n",
            "education-num        0\n",
            "marital-status       0\n",
            "occupation        1843\n",
            "relationship         0\n",
            "race                 0\n",
            "sex                  0\n",
            "capital-gain         0\n",
            "capital-loss         0\n",
            "hours-per-week       0\n",
            "native-country     583\n",
            "income               0\n",
            "dtype: int64\n"
          ]
        }
      ],
      "source": [
        "#Check for missing values in each column\n",
        "\n",
        "print(data.isnull().sum())\n",
        "\n",
        "#Some datasets use \"?\" or \"unknown\" instead of actual missing values\n",
        "\n",
        "print(data.replace(\"?\", None).isnull().sum())\n"
      ]
    },
    {
      "cell_type": "code",
      "execution_count": 7,
      "metadata": {},
      "outputs": [
        {
          "name": "stdout",
          "output_type": "stream",
          "text": [
            "age                  0\n",
            "workclass         1836\n",
            "fnlwgt               0\n",
            "education            0\n",
            "education-num        0\n",
            "marital-status       0\n",
            "occupation        1843\n",
            "relationship         0\n",
            "race                 0\n",
            "sex                  0\n",
            "capital-gain         0\n",
            "capital-loss         0\n",
            "hours-per-week       0\n",
            "native-country     583\n",
            "income               0\n",
            "dtype: int64\n"
          ]
        }
      ],
      "source": [
        "#Replace \"?\" with NaN\n",
        "data.replace(\"?\", np.nan, inplace=True)\n",
        "print(data.isnull().sum())"
      ]
    },
    {
      "cell_type": "code",
      "execution_count": 8,
      "metadata": {},
      "outputs": [
        {
          "name": "stdout",
          "output_type": "stream",
          "text": [
            "age               0\n",
            "workclass         0\n",
            "fnlwgt            0\n",
            "education         0\n",
            "education-num     0\n",
            "marital-status    0\n",
            "occupation        0\n",
            "relationship      0\n",
            "race              0\n",
            "sex               0\n",
            "capital-gain      0\n",
            "capital-loss      0\n",
            "hours-per-week    0\n",
            "native-country    0\n",
            "income            0\n",
            "dtype: int64\n"
          ]
        }
      ],
      "source": [
        "#Replace missing values with the most frequent value (mode)\n",
        "\n",
        "for col in [\"workclass\", \"occupation\", \"native-country\"]:\n",
        "    data[col] = data[col].fillna(data[col].mode()[0])\n",
        "\n",
        "\n",
        "print(data.isnull().sum())"
      ]
    },
    {
      "cell_type": "markdown",
      "metadata": {},
      "source": [
        "## Encode data"
      ]
    },
    {
      "cell_type": "code",
      "execution_count": 9,
      "metadata": {},
      "outputs": [
        {
          "name": "stdout",
          "output_type": "stream",
          "text": [
            "   age  fnlwgt  education  education-num  sex  capital-gain  capital-loss  \\\n",
            "0   39   77516  Bachelors             13    1          2174             0   \n",
            "1   50   83311  Bachelors             13    1             0             0   \n",
            "2   38  215646    HS-grad              9    1             0             0   \n",
            "3   53  234721       11th              7    1             0             0   \n",
            "4   28  338409  Bachelors             13    0             0             0   \n",
            "\n",
            "   hours-per-week  income  workclass_Local-gov  ...  native-country_Portugal  \\\n",
            "0              40       0                False  ...                    False   \n",
            "1              13       0                False  ...                    False   \n",
            "2              40       0                False  ...                    False   \n",
            "3              40       0                False  ...                    False   \n",
            "4              40       0                False  ...                    False   \n",
            "\n",
            "   native-country_Puerto-Rico  native-country_Scotland  native-country_South  \\\n",
            "0                       False                    False                 False   \n",
            "1                       False                    False                 False   \n",
            "2                       False                    False                 False   \n",
            "3                       False                    False                 False   \n",
            "4                       False                    False                 False   \n",
            "\n",
            "   native-country_Taiwan  native-country_Thailand  \\\n",
            "0                  False                    False   \n",
            "1                  False                    False   \n",
            "2                  False                    False   \n",
            "3                  False                    False   \n",
            "4                  False                    False   \n",
            "\n",
            "   native-country_Trinadad&Tobago  native-country_United-States  \\\n",
            "0                           False                          True   \n",
            "1                           False                          True   \n",
            "2                           False                          True   \n",
            "3                           False                          True   \n",
            "4                           False                         False   \n",
            "\n",
            "   native-country_Vietnam  native-country_Yugoslavia  \n",
            "0                   False                      False  \n",
            "1                   False                      False  \n",
            "2                   False                      False  \n",
            "3                   False                      False  \n",
            "4                   False                      False  \n",
            "\n",
            "[5 rows x 84 columns]\n"
          ]
        }
      ],
      "source": [
        "#Label encoding for binary variables\n",
        "\n",
        "label_encoder_sex = LabelEncoder()\n",
        "data['sex'] = label_encoder_sex.fit_transform(data['sex'])\n",
        "\n",
        "label_encoder_income = LabelEncoder()\n",
        "data['income'] = label_encoder_income.fit_transform(data['income'])\n",
        "\n",
        "#One-Hot Encoding for categorical variables\n",
        "\n",
        "categorical_columns = ['workclass', 'marital-status', 'occupation', 'relationship', 'race', 'native-country']\n",
        "data = pd.get_dummies(data, columns=categorical_columns, drop_first=True) \n",
        "\n",
        "#Check the first rows\n",
        "\n",
        "print(data.head())"
      ]
    },
    {
      "cell_type": "code",
      "execution_count": 10,
      "metadata": {},
      "outputs": [
        {
          "name": "stdout",
          "output_type": "stream",
          "text": [
            "age                               0\n",
            "fnlwgt                            0\n",
            "education                         0\n",
            "education-num                     0\n",
            "sex                               0\n",
            "                                 ..\n",
            "native-country_Thailand           0\n",
            "native-country_Trinadad&Tobago    0\n",
            "native-country_United-States      0\n",
            "native-country_Vietnam            0\n",
            "native-country_Yugoslavia         0\n",
            "Length: 84, dtype: int64\n"
          ]
        }
      ],
      "source": [
        "#Check for missing values\n",
        "print(data.isnull().sum())\n"
      ]
    },
    {
      "cell_type": "markdown",
      "metadata": {},
      "source": [
        "## Correct errors, inconsistencies, remove duplicates if any"
      ]
    },
    {
      "cell_type": "code",
      "execution_count": 11,
      "metadata": {},
      "outputs": [
        {
          "name": "stdout",
          "output_type": "stream",
          "text": [
            "Number of duplicates: 24\n"
          ]
        }
      ],
      "source": [
        "#Check for duplicates\n",
        "\n",
        "duplicate_count = data.duplicated().sum()\n",
        "print(f\"Number of duplicates: {duplicate_count}\")\n"
      ]
    },
    {
      "cell_type": "code",
      "execution_count": 12,
      "metadata": {},
      "outputs": [],
      "source": [
        "#Remove duplicates\n",
        "\n",
        "data = data.drop_duplicates()"
      ]
    },
    {
      "cell_type": "code",
      "execution_count": 13,
      "metadata": {},
      "outputs": [
        {
          "name": "stdout",
          "output_type": "stream",
          "text": [
            "Number of duplicates after removal: 0\n"
          ]
        }
      ],
      "source": [
        "#Check again\n",
        "\n",
        "print(f\"Number of duplicates after removal: {data.duplicated().sum()}\")"
      ]
    },
    {
      "cell_type": "code",
      "execution_count": 14,
      "metadata": {},
      "outputs": [
        {
          "name": "stdout",
          "output_type": "stream",
          "text": [
            "Data types before conversion:\n",
            " age                                int64\n",
            "fnlwgt                             int64\n",
            "education                         object\n",
            "education-num                      int64\n",
            "sex                                int64\n",
            "                                   ...  \n",
            "native-country_Thailand             bool\n",
            "native-country_Trinadad&Tobago      bool\n",
            "native-country_United-States        bool\n",
            "native-country_Vietnam              bool\n",
            "native-country_Yugoslavia           bool\n",
            "Length: 84, dtype: object\n"
          ]
        }
      ],
      "source": [
        "print(\"Data types before conversion:\\n\", data.dtypes)"
      ]
    },
    {
      "cell_type": "code",
      "execution_count": 15,
      "metadata": {},
      "outputs": [
        {
          "name": "stdout",
          "output_type": "stream",
          "text": [
            "workclass_Local-gov: [False  True]\n",
            "workclass_Never-worked: [False  True]\n",
            "workclass_Private: [False  True]\n",
            "workclass_Self-emp-inc: [False  True]\n",
            "workclass_Self-emp-not-inc: [False  True]\n",
            "workclass_State-gov: [ True False]\n",
            "workclass_Without-pay: [False  True]\n",
            "marital-status_Married-AF-spouse: [False  True]\n",
            "marital-status_Married-civ-spouse: [False  True]\n",
            "marital-status_Married-spouse-absent: [False  True]\n",
            "marital-status_Never-married: [ True False]\n",
            "marital-status_Separated: [False  True]\n",
            "marital-status_Widowed: [False  True]\n",
            "occupation_Armed-Forces: [False  True]\n",
            "occupation_Craft-repair: [False  True]\n",
            "occupation_Exec-managerial: [False  True]\n",
            "occupation_Farming-fishing: [False  True]\n",
            "occupation_Handlers-cleaners: [False  True]\n",
            "occupation_Machine-op-inspct: [False  True]\n",
            "occupation_Other-service: [False  True]\n",
            "occupation_Priv-house-serv: [False  True]\n",
            "occupation_Prof-specialty: [False  True]\n",
            "occupation_Protective-serv: [False  True]\n",
            "occupation_Sales: [False  True]\n",
            "occupation_Tech-support: [False  True]\n",
            "occupation_Transport-moving: [False  True]\n",
            "relationship_Not-in-family: [ True False]\n",
            "relationship_Other-relative: [False  True]\n",
            "relationship_Own-child: [False  True]\n",
            "relationship_Unmarried: [False  True]\n",
            "relationship_Wife: [False  True]\n",
            "race_Asian-Pac-Islander: [False  True]\n",
            "race_Black: [False  True]\n",
            "race_Other: [False  True]\n",
            "race_White: [ True False]\n",
            "native-country_Canada: [False  True]\n",
            "native-country_China: [False  True]\n",
            "native-country_Columbia: [False  True]\n",
            "native-country_Cuba: [False  True]\n",
            "native-country_Dominican-Republic: [False  True]\n",
            "native-country_Ecuador: [False  True]\n",
            "native-country_El-Salvador: [False  True]\n",
            "native-country_England: [False  True]\n",
            "native-country_France: [False  True]\n",
            "native-country_Germany: [False  True]\n",
            "native-country_Greece: [False  True]\n",
            "native-country_Guatemala: [False  True]\n",
            "native-country_Haiti: [False  True]\n",
            "native-country_Holand-Netherlands: [False  True]\n",
            "native-country_Honduras: [False  True]\n",
            "native-country_Hong: [False  True]\n",
            "native-country_Hungary: [False  True]\n",
            "native-country_India: [False  True]\n",
            "native-country_Iran: [False  True]\n",
            "native-country_Ireland: [False  True]\n",
            "native-country_Italy: [False  True]\n",
            "native-country_Jamaica: [False  True]\n",
            "native-country_Japan: [False  True]\n",
            "native-country_Laos: [False  True]\n",
            "native-country_Mexico: [False  True]\n",
            "native-country_Nicaragua: [False  True]\n",
            "native-country_Outlying-US(Guam-USVI-etc): [False  True]\n",
            "native-country_Peru: [False  True]\n",
            "native-country_Philippines: [False  True]\n",
            "native-country_Poland: [False  True]\n",
            "native-country_Portugal: [False  True]\n",
            "native-country_Puerto-Rico: [False  True]\n",
            "native-country_Scotland: [False  True]\n",
            "native-country_South: [False  True]\n",
            "native-country_Taiwan: [False  True]\n",
            "native-country_Thailand: [False  True]\n",
            "native-country_Trinadad&Tobago: [False  True]\n",
            "native-country_United-States: [ True False]\n",
            "native-country_Vietnam: [False  True]\n",
            "native-country_Yugoslavia: [False  True]\n"
          ]
        }
      ],
      "source": [
        "#Verify if boolean columns contain only True or False values\n",
        "for col in data.select_dtypes(include='bool').columns:\n",
        "    print(f\"{col}: {data[col].unique()}\")\n"
      ]
    },
    {
      "cell_type": "markdown",
      "metadata": {},
      "source": [
        "## Outlier detection and treatment if any"
      ]
    },
    {
      "cell_type": "code",
      "execution_count": 16,
      "metadata": {},
      "outputs": [
        {
          "name": "stdout",
          "output_type": "stream",
          "text": [
            "                age        fnlwgt  education-num           sex  capital-gain  \\\n",
            "count  32537.000000  3.253700e+04   32537.000000  32537.000000  32537.000000   \n",
            "mean      38.585549  1.897808e+05      10.081815      0.669238   1078.443741   \n",
            "std       13.637984  1.055565e+05       2.571633      0.470495   7387.957424   \n",
            "min       17.000000  1.228500e+04       1.000000      0.000000      0.000000   \n",
            "25%       28.000000  1.178270e+05       9.000000      0.000000      0.000000   \n",
            "50%       37.000000  1.783560e+05      10.000000      1.000000      0.000000   \n",
            "75%       48.000000  2.369930e+05      12.000000      1.000000      0.000000   \n",
            "max       90.000000  1.484705e+06      16.000000      1.000000  99999.000000   \n",
            "\n",
            "       capital-loss  hours-per-week        income  \n",
            "count  32537.000000    32537.000000  32537.000000  \n",
            "mean      87.368227       40.440329      0.240926  \n",
            "std      403.101833       12.346889      0.427652  \n",
            "min        0.000000        1.000000      0.000000  \n",
            "25%        0.000000       40.000000      0.000000  \n",
            "50%        0.000000       40.000000      0.000000  \n",
            "75%        0.000000       45.000000      0.000000  \n",
            "max     4356.000000       99.000000      1.000000  \n"
          ]
        }
      ],
      "source": [
        "print(data.describe())"
      ]
    },
    {
      "cell_type": "code",
      "execution_count": 17,
      "metadata": {},
      "outputs": [
        {
          "data": {
            "image/png": "[encoded data removed]",
            "text/plain": [
              "<Figure size 1500x800 with 8 Axes>"
            ]
          },
          "metadata": {},
          "output_type": "display_data"
        }
      ],
      "source": [
        "#Select numerical columns\n",
        "\n",
        "numerical_columns = data.select_dtypes(include=['int64', 'float64']).columns\n",
        "\n",
        "#Generate boxplots for each numeric column\n",
        "\n",
        "plt.figure(figsize=(15, 8))\n",
        "for i, col in enumerate(numerical_columns, 1):\n",
        "    plt.subplot(3, 4, i)\n",
        "    sns.boxplot(y=data[col])\n",
        "    plt.title(col)\n",
        "\n",
        "plt.tight_layout()\n",
        "plt.show()\n"
      ]
    },
    {
      "cell_type": "code",
      "execution_count": 18,
      "metadata": {},
      "outputs": [
        {
          "name": "stdout",
          "output_type": "stream",
          "text": [
            "    capital-gain  capital-loss  hours-per-week\n",
            "95        5013.0           0.0            60.0\n",
            "97        7688.0        1848.0            65.0\n",
            "98       14084.0        1902.0            70.0\n",
            "99       15024.0        1980.0            80.0\n"
          ]
        }
      ],
      "source": [
        "#Define percentiles to analyze\n",
        "percentiles = [95, 97, 98, 99]\n",
        "\n",
        "#Compute percentile thresholds for each relevant column\n",
        "percentile_values = {\n",
        "    \"capital-gain\": {p: np.percentile(data[\"capital-gain\"], p) for p in percentiles},\n",
        "    \"capital-loss\": {p: np.percentile(data[\"capital-loss\"], p) for p in percentiles},\n",
        "    \"hours-per-week\": {p: np.percentile(data[\"hours-per-week\"], p) for p in percentiles},\n",
        "}\n",
        "\n",
        "#Convert results into a DataFrame for visualization\n",
        "df_percentiles = pd.DataFrame(percentile_values)\n",
        "\n",
        "print(df_percentiles)"
      ]
    },
    {
      "cell_type": "code",
      "execution_count": 19,
      "metadata": {},
      "outputs": [
        {
          "name": "stdout",
          "output_type": "stream",
          "text": [
            "613\n"
          ]
        }
      ],
      "source": [
        "#Count the number of cases where 'capital-gain' exceeds 15,000\n",
        "\n",
        "high_capital_gain_count = data[data['capital-gain'] > 15000].shape[0]\n",
        "\n",
        "print(high_capital_gain_count)"
      ]
    },
    {
      "cell_type": "code",
      "execution_count": 20,
      "metadata": {},
      "outputs": [
        {
          "name": "stdout",
          "output_type": "stream",
          "text": [
            "325\n"
          ]
        }
      ],
      "source": [
        "#Count the number of instances where 'capital-loss' exceeds 2,000\n",
        "\n",
        "high_capital_loss_count = data[data['capital-loss'] > 2000].shape[0]\n",
        "\n",
        "print(high_capital_loss_count)"
      ]
    },
    {
      "cell_type": "code",
      "execution_count": 21,
      "metadata": {},
      "outputs": [
        {
          "name": "stdout",
          "output_type": "stream",
          "text": [
            "(32537, 84)\n"
          ]
        }
      ],
      "source": [
        "print(data.shape)"
      ]
    },
    {
      "cell_type": "code",
      "execution_count": 22,
      "metadata": {},
      "outputs": [],
      "source": [
        "#Winsonorisation to reduce the influence of outliers in capital-gain, capital-loss and hours-per-week\n",
        "data['capital-gain'] = data['capital-gain'].apply(lambda x: min(x, 15000))\n",
        "data['capital-loss'] = data['capital-loss'].apply(lambda x: min(x, 2000))\n",
        "data['hours-per-week'] = data['hours-per-week'].apply(lambda x: min(x, 80))"
      ]
    },
    {
      "cell_type": "markdown",
      "metadata": {},
      "source": [
        "After extensive testing, I explored multiple winsorization techniques to reduce the influence of outliers in capital-gain, capital-loss and hours-per-week. The approaches included:\n",
        "\n",
        "1. Direct winsorization with scipy.stats.mstats.winsorize() applying a 2% cap at each tail\n",
        "2. A loop-based winsorization approach using np.percentile() to compute dynamic thresholds.\n",
        "3. Fixed-value capping based on the 99th percentile.\n",
        "\n",
        "Despite implementing multiple debugging measures, such as:\n",
        "\n",
        "- checking for NaN values before and after winsorization to ensure data integrity.\n",
        "- verifying percentile-based limits to confirm appropriate thresholds.\n",
        "- ensuring correct conversion of winsorize() output to Pandas Series as it returns a MaskedArray by default.\n",
        "- comparing results between direct application and loop-based implementation.\n",
        "\n",
        "... both direct winsorize() application (2% at each tail) and the loop-based method led to an empty DataFrame suggesting that either NaN values were introduced, all values were modified incorrectly or extreme data loss occurred.\n",
        "\n",
        "The only stable approach that did not cause errors or data loss was fixed-value capping where the upper limits were set based on the 99th percentile. Using the 99th percentile for winsorization is optimal because it effectively removes only the most extreme 1% of outliers while preserving the integrity of the dataset. Unlike arbitrary thresholds, the 99th percentile is data-driven, ensuring that only values significantly deviating from the normal distribution are capped. It strikes a balance between outlier control and data retention."
      ]
    },
    {
      "cell_type": "code",
      "execution_count": 23,
      "metadata": {},
      "outputs": [
        {
          "name": "stdout",
          "output_type": "stream",
          "text": [
            "(32537, 84)\n"
          ]
        }
      ],
      "source": [
        "print(data.shape)"
      ]
    },
    {
      "cell_type": "code",
      "execution_count": 24,
      "metadata": {},
      "outputs": [
        {
          "name": "stdout",
          "output_type": "stream",
          "text": [
            "0\n"
          ]
        }
      ],
      "source": [
        "#Check again the number of cases where 'capital-gain' exceeds 15,000\n",
        "\n",
        "high_capital_gain_count = data[data['capital-gain'] > 15000].shape[0]\n",
        "\n",
        "print(high_capital_gain_count)"
      ]
    },
    {
      "cell_type": "code",
      "execution_count": 25,
      "metadata": {},
      "outputs": [
        {
          "name": "stdout",
          "output_type": "stream",
          "text": [
            "0\n"
          ]
        }
      ],
      "source": [
        "#Check again the number of instances where 'capital-loss' exceeds 2,000\n",
        "\n",
        "high_capital_loss_count = data[data['capital-loss'] > 2000].shape[0]\n",
        "\n",
        "print(high_capital_loss_count)"
      ]
    },
    {
      "cell_type": "code",
      "execution_count": 26,
      "metadata": {},
      "outputs": [
        {
          "name": "stdout",
          "output_type": "stream",
          "text": [
            "       age  fnlwgt     education  education-num  sex  capital-gain  \\\n",
            "189     58  109567     Doctorate             16    1             0   \n",
            "1036    66  150726           9th              5    1          1409   \n",
            "1262    69  195779     Assoc-voc             11    0             0   \n",
            "5590    78  363134       HS-grad              9    0             0   \n",
            "5632    45  189564       Masters             14    0             0   \n",
            "5766    62   97231  Some-college             10    0             0   \n",
            "5808    76  211574          10th              6    1             0   \n",
            "8447    67  244122     Assoc-voc             11    0             0   \n",
            "9147    75  260543          10th              6    0             0   \n",
            "11451   27  147951       HS-grad              9    1             0   \n",
            "19337   72   76860       HS-grad              9    1             0   \n",
            "19750   23   72887       HS-grad              9    1             0   \n",
            "20072   65   76043       HS-grad              9    1             0   \n",
            "20909   77   71676  Some-college             10    0             0   \n",
            "22960   21  184135       HS-grad              9    1             0   \n",
            "23536   69  320280  Some-college             10    1          1848   \n",
            "24284   57   56480       HS-grad              9    1             0   \n",
            "25078   74  260669          10th              6    0             0   \n",
            "29752   69  117525    Assoc-acdm             12    0             0   \n",
            "32525   81  120478     Assoc-voc             11    0             0   \n",
            "\n",
            "       capital-loss  hours-per-week  income  workclass_Local-gov  ...  \\\n",
            "189               0               1       1                False  ...   \n",
            "1036              0               1       0                False  ...   \n",
            "1262              0               1       0                False  ...   \n",
            "5590              0               1       0                False  ...   \n",
            "5632              0               1       0                False  ...   \n",
            "5766              0               1       0                False  ...   \n",
            "5808              0               1       0                False  ...   \n",
            "8447              0               1       0                False  ...   \n",
            "9147              0               1       0                False  ...   \n",
            "11451             0               1       0                False  ...   \n",
            "19337             0               1       0                False  ...   \n",
            "19750             0               1       0                False  ...   \n",
            "20072             0               1       1                False  ...   \n",
            "20909          1944               1       0                False  ...   \n",
            "22960             0               1       0                False  ...   \n",
            "23536             0               1       0                False  ...   \n",
            "24284             0               1       0                False  ...   \n",
            "25078             0               1       0                False  ...   \n",
            "29752             0               1       0                False  ...   \n",
            "32525             0               1       0                False  ...   \n",
            "\n",
            "       native-country_Portugal  native-country_Puerto-Rico  \\\n",
            "189                      False                       False   \n",
            "1036                     False                       False   \n",
            "1262                     False                       False   \n",
            "5590                     False                       False   \n",
            "5632                     False                       False   \n",
            "5766                     False                       False   \n",
            "5808                     False                       False   \n",
            "8447                     False                       False   \n",
            "9147                     False                       False   \n",
            "11451                    False                       False   \n",
            "19337                    False                       False   \n",
            "19750                    False                       False   \n",
            "20072                    False                       False   \n",
            "20909                    False                       False   \n",
            "22960                    False                       False   \n",
            "23536                    False                       False   \n",
            "24284                    False                       False   \n",
            "25078                    False                       False   \n",
            "29752                    False                       False   \n",
            "32525                    False                       False   \n",
            "\n",
            "       native-country_Scotland  native-country_South  native-country_Taiwan  \\\n",
            "189                      False                 False                  False   \n",
            "1036                     False                 False                  False   \n",
            "1262                     False                 False                  False   \n",
            "5590                     False                 False                  False   \n",
            "5632                     False                 False                  False   \n",
            "5766                     False                 False                  False   \n",
            "5808                     False                 False                  False   \n",
            "8447                     False                 False                  False   \n",
            "9147                     False                 False                  False   \n",
            "11451                    False                 False                  False   \n",
            "19337                    False                 False                  False   \n",
            "19750                    False                 False                  False   \n",
            "20072                    False                 False                  False   \n",
            "20909                    False                 False                  False   \n",
            "22960                    False                 False                  False   \n",
            "23536                    False                 False                  False   \n",
            "24284                    False                 False                  False   \n",
            "25078                    False                 False                  False   \n",
            "29752                    False                 False                  False   \n",
            "32525                    False                 False                  False   \n",
            "\n",
            "       native-country_Thailand  native-country_Trinadad&Tobago  \\\n",
            "189                      False                           False   \n",
            "1036                     False                           False   \n",
            "1262                     False                           False   \n",
            "5590                     False                           False   \n",
            "5632                     False                           False   \n",
            "5766                     False                           False   \n",
            "5808                     False                           False   \n",
            "8447                     False                           False   \n",
            "9147                     False                           False   \n",
            "11451                    False                           False   \n",
            "19337                    False                           False   \n",
            "19750                    False                           False   \n",
            "20072                    False                           False   \n",
            "20909                    False                           False   \n",
            "22960                    False                           False   \n",
            "23536                    False                           False   \n",
            "24284                    False                           False   \n",
            "25078                    False                           False   \n",
            "29752                    False                           False   \n",
            "32525                    False                           False   \n",
            "\n",
            "       native-country_United-States  native-country_Vietnam  \\\n",
            "189                            True                   False   \n",
            "1036                           True                   False   \n",
            "1262                           True                   False   \n",
            "5590                           True                   False   \n",
            "5632                           True                   False   \n",
            "5766                           True                   False   \n",
            "5808                           True                   False   \n",
            "8447                           True                   False   \n",
            "9147                          False                   False   \n",
            "11451                          True                   False   \n",
            "19337                          True                   False   \n",
            "19750                         False                    True   \n",
            "20072                          True                   False   \n",
            "20909                          True                   False   \n",
            "22960                          True                   False   \n",
            "23536                          True                   False   \n",
            "24284                          True                   False   \n",
            "25078                          True                   False   \n",
            "29752                          True                   False   \n",
            "32525                          True                   False   \n",
            "\n",
            "       native-country_Yugoslavia  \n",
            "189                        False  \n",
            "1036                       False  \n",
            "1262                       False  \n",
            "5590                       False  \n",
            "5632                       False  \n",
            "5766                       False  \n",
            "5808                       False  \n",
            "8447                       False  \n",
            "9147                       False  \n",
            "11451                      False  \n",
            "19337                      False  \n",
            "19750                      False  \n",
            "20072                      False  \n",
            "20909                      False  \n",
            "22960                      False  \n",
            "23536                      False  \n",
            "24284                      False  \n",
            "25078                      False  \n",
            "29752                      False  \n",
            "32525                      False  \n",
            "\n",
            "[20 rows x 84 columns]\n"
          ]
        }
      ],
      "source": [
        "#Identify individuals who report working only 1 hour per week to check for anomalies\n",
        "\n",
        "one_hour_workers = data[data['hours-per-week'] == 1]\n",
        "\n",
        "#Display the filtered rows\n",
        "print(one_hour_workers)"
      ]
    },
    {
      "cell_type": "code",
      "execution_count": 27,
      "metadata": {},
      "outputs": [
        {
          "name": "stdout",
          "output_type": "stream",
          "text": [
            "(32537, 84)\n"
          ]
        }
      ],
      "source": [
        "print(data.shape)"
      ]
    },
    {
      "cell_type": "code",
      "execution_count": 28,
      "metadata": {},
      "outputs": [
        {
          "data": {
            "image/png": "[encoded data removed]",
            "text/plain": [
              "<Figure size 800x500 with 1 Axes>"
            ]
          },
          "metadata": {},
          "output_type": "display_data"
        }
      ],
      "source": [
        "#Plot the age distribution of individuals working only 1 hour per week\n",
        "\n",
        "plt.figure(figsize=(8, 5))\n",
        "sns.histplot(one_hour_workers['age'], bins=50, edgecolor='black', alpha=0.7, kde=True)\n",
        "plt.title('Age distribution of individuals working 1 hour per week')\n",
        "plt.xlabel('Age')\n",
        "plt.ylabel('Frequency')\n",
        "plt.grid(axis='y', linestyle='--', alpha=0.6)\n",
        "\n",
        "plt.show()"
      ]
    },
    {
      "cell_type": "markdown",
      "metadata": {},
      "source": [
        "##### The spike in the 60+ age group suggests that these individuals are likely retired but still engaging in occasional work. This pattern aligns with real-world trends where some retirees: work part-time for supplemental income, take on consulting or freelance work, stay active in the workforce for personal or social reasons etc. So, these individuals represent a valid subset of the workforce rather than anomalies."
      ]
    },
    {
      "cell_type": "code",
      "execution_count": 29,
      "metadata": {},
      "outputs": [
        {
          "name": "stdout",
          "output_type": "stream",
          "text": [
            "       age  fnlwgt     education  education-num  sex  capital-gain  \\\n",
            "10      37  280464  Some-college             10    1             0   \n",
            "28      39  367260       HS-grad              9    1             0   \n",
            "272     50   30653       Masters             14    1          2407   \n",
            "299     38  169469       HS-grad              9    1             0   \n",
            "520     38   99146     Bachelors             13    1         15000   \n",
            "...    ...     ...           ...            ...  ...           ...   \n",
            "32391   55  199763       HS-grad              9    1             0   \n",
            "32402   42  288154  Some-college             10    1             0   \n",
            "32469   58  181974     Doctorate             16    0             0   \n",
            "32476   35   30673          12th              8    1             0   \n",
            "32531   30   33811     Bachelors             13    0             0   \n",
            "\n",
            "       capital-loss  hours-per-week  income  workclass_Local-gov  ...  \\\n",
            "10                0              80       1                False  ...   \n",
            "28                0              80       0                False  ...   \n",
            "272               0              80       0                False  ...   \n",
            "299               0              80       0                False  ...   \n",
            "520               0              80       1                False  ...   \n",
            "...             ...             ...     ...                  ...  ...   \n",
            "32391             0              80       0                False  ...   \n",
            "32402             0              80       1                False  ...   \n",
            "32469             0              80       0                False  ...   \n",
            "32476             0              80       0                False  ...   \n",
            "32531             0              80       0                False  ...   \n",
            "\n",
            "       native-country_Portugal  native-country_Puerto-Rico  \\\n",
            "10                       False                       False   \n",
            "28                       False                       False   \n",
            "272                      False                       False   \n",
            "299                      False                       False   \n",
            "520                      False                       False   \n",
            "...                        ...                         ...   \n",
            "32391                    False                       False   \n",
            "32402                    False                       False   \n",
            "32469                    False                       False   \n",
            "32476                    False                       False   \n",
            "32531                    False                       False   \n",
            "\n",
            "       native-country_Scotland  native-country_South  native-country_Taiwan  \\\n",
            "10                       False                 False                  False   \n",
            "28                       False                 False                  False   \n",
            "272                      False                 False                  False   \n",
            "299                      False                 False                  False   \n",
            "520                      False                 False                  False   \n",
            "...                        ...                   ...                    ...   \n",
            "32391                    False                 False                  False   \n",
            "32402                    False                 False                  False   \n",
            "32469                    False                 False                  False   \n",
            "32476                    False                 False                  False   \n",
            "32531                    False                 False                  False   \n",
            "\n",
            "       native-country_Thailand  native-country_Trinadad&Tobago  \\\n",
            "10                       False                           False   \n",
            "28                       False                           False   \n",
            "272                      False                           False   \n",
            "299                      False                           False   \n",
            "520                      False                           False   \n",
            "...                        ...                             ...   \n",
            "32391                    False                           False   \n",
            "32402                    False                           False   \n",
            "32469                    False                           False   \n",
            "32476                    False                           False   \n",
            "32531                    False                           False   \n",
            "\n",
            "       native-country_United-States  native-country_Vietnam  \\\n",
            "10                             True                   False   \n",
            "28                             True                   False   \n",
            "272                            True                   False   \n",
            "299                            True                   False   \n",
            "520                            True                   False   \n",
            "...                             ...                     ...   \n",
            "32391                          True                   False   \n",
            "32402                          True                   False   \n",
            "32469                          True                   False   \n",
            "32476                          True                   False   \n",
            "32531                          True                   False   \n",
            "\n",
            "       native-country_Yugoslavia  \n",
            "10                         False  \n",
            "28                         False  \n",
            "272                        False  \n",
            "299                        False  \n",
            "520                        False  \n",
            "...                          ...  \n",
            "32391                      False  \n",
            "32402                      False  \n",
            "32469                      False  \n",
            "32476                      False  \n",
            "32531                      False  \n",
            "\n",
            "[341 rows x 84 columns]\n"
          ]
        }
      ],
      "source": [
        "#Identify individuals working close to the maximum limit of 99 hours\n",
        "extreme_hours_workers = data[data['hours-per-week'] >= 80]\n",
        "\n",
        "# Display the filtered data\n",
        "print(extreme_hours_workers)\n"
      ]
    },
    {
      "cell_type": "markdown",
      "metadata": {},
      "source": [
        "#### 99 hours per week is unrealistically high for a standard full-time job, but may be valid for certain professions (business owners, medical professionals, gig workers or highly demanding roles). The presence of multiple individuals in this range suggests that it isn't a data entry error but rather an extreme case."
      ]
    },
    {
      "cell_type": "code",
      "execution_count": 30,
      "metadata": {},
      "outputs": [
        {
          "name": "stdout",
          "output_type": "stream",
          "text": [
            "['workclass_Local-gov', 'workclass_Never-worked', 'workclass_Private', 'workclass_Self-emp-inc', 'workclass_Self-emp-not-inc', 'workclass_State-gov', 'workclass_Without-pay']\n"
          ]
        },
        {
          "data": {
            "text/plain": [
              "workclass_Local-gov            16\n",
              "workclass_Never-worked          0\n",
              "workclass_Private             184\n",
              "workclass_Self-emp-inc         38\n",
              "workclass_Self-emp-not-inc     90\n",
              "workclass_State-gov             8\n",
              "workclass_Without-pay           0\n",
              "dtype: int64"
            ]
          },
          "execution_count": 30,
          "metadata": {},
          "output_type": "execute_result"
        }
      ],
      "source": [
        "#Compare with other feature\n",
        "\n",
        "workclass_columns = [col for col in extreme_hours_workers.columns if 'workclass' in col]\n",
        "print(workclass_columns)\n",
        "\n",
        "extreme_hours_workers[workclass_columns].sum()"
      ]
    },
    {
      "cell_type": "markdown",
      "metadata": {},
      "source": [
        "The majority of individuals working 80+ hours per week are in the private sector (184 cases), followed by self-employed workers. This aligns with expectations as self-employed individuals and private-sector workers often have more variable and long working hours. Government employees are less likely to work extreme hours, likely due to stricter labor policies. "
      ]
    },
    {
      "cell_type": "markdown",
      "metadata": {},
      "source": [
        "## Normalization / Standardization if necesarry"
      ]
    },
    {
      "cell_type": "code",
      "execution_count": 31,
      "metadata": {},
      "outputs": [],
      "source": [
        "#Normalize the numerical columns\n",
        "numerical_columns = ['age', 'fnlwgt', 'education-num', 'capital-gain', 'capital-loss', 'hours-per-week']\n",
        "scaler = StandardScaler()\n",
        "data[numerical_columns] = scaler.fit_transform(data[numerical_columns])"
      ]
    },
    {
      "cell_type": "markdown",
      "metadata": {},
      "source": [
        "## Feature engineering"
      ]
    },
    {
      "cell_type": "code",
      "execution_count": 32,
      "metadata": {},
      "outputs": [
        {
          "name": "stdout",
          "output_type": "stream",
          "text": [
            "   capital-gain  capital-loss  capital_balance  capital_gain_loss_ratio\n",
            "0      0.611335     -0.218867         0.830202                 2.062817\n",
            "1     -0.251583     -0.218867        -0.032716                 0.958118\n",
            "2     -0.251583     -0.218867        -0.032716                 0.958118\n",
            "3     -0.251583     -0.218867        -0.032716                 0.958118\n",
            "4     -0.251583     -0.218867        -0.032716                 0.958118\n"
          ]
        }
      ],
      "source": [
        "# Create capital balance ratio\n",
        "data['capital_balance'] = data['capital-gain'] - data['capital-loss']\n",
        "\n",
        "# Create a ratio feature to normalize the values\n",
        "data['capital_gain_loss_ratio'] = (data['capital-gain'] + 1) / (data['capital-loss'] + 1)\n",
        "\n",
        "print(data[['capital-gain', 'capital-loss', 'capital_balance', 'capital_gain_loss_ratio']].head())\n"
      ]
    },
    {
      "cell_type": "code",
      "execution_count": 33,
      "metadata": {},
      "outputs": [
        {
          "name": "stdout",
          "output_type": "stream",
          "text": [
            "   hours-per-week  high_hour_worker  part_time_worker\n",
            "0       -0.029928                 0                 1\n",
            "1       -2.273618                 0                 1\n",
            "2       -0.029928                 0                 1\n",
            "3       -0.029928                 0                 1\n",
            "4       -0.029928                 0                 1\n"
          ]
        }
      ],
      "source": [
        "#Create a binary flag for extreme working hours\n",
        "data['high_hour_worker'] = (data['hours-per-week'] >= 80).astype(int)\n",
        "\n",
        "#Create a binary flag for part-time workers\n",
        "data['part_time_worker'] = (data['hours-per-week'] <= 20).astype(int)\n",
        "\n",
        "print(data[['hours-per-week', 'high_hour_worker', 'part_time_worker']].head())\n"
      ]
    },
    {
      "cell_type": "code",
      "execution_count": 34,
      "metadata": {},
      "outputs": [
        {
          "name": "stdout",
          "output_type": "stream",
          "text": [
            "        age  education-num  experience_years\n",
            "0  0.030390       1.134777                 0\n",
            "1  0.836973       1.134777                 0\n",
            "2 -0.042936      -0.420679                 0\n",
            "3  1.056950      -1.198407                 0\n",
            "4 -0.776193       1.134777                 0\n"
          ]
        }
      ],
      "source": [
        "#Create a feature for work experience\n",
        "\n",
        "#Estimate work experience (assume schooling starts at 7 years old)\n",
        "data['experience_years'] = data['age'] - data['education-num'] - 7\n",
        "\n",
        "#Ensure no negative values\n",
        "data['experience_years'] = data['experience_years'].apply(lambda x: max(x, 0))\n",
        "\n",
        "print(data[['age', 'education-num', 'experience_years']].head())"
      ]
    },
    {
      "cell_type": "code",
      "execution_count": 273,
      "metadata": {},
      "outputs": [],
      "source": [
        "#Save the preprocessed dataset\n",
        "\n",
        "data.to_csv(\"data_task1.csv\", index=False)"
      ]
    }
  ],
  "metadata": {
    "colab": {
      "provenance": [],
      "toc_visible": true
    },
    "kernelspec": {
      "display_name": "env_ml",
      "language": "python",
      "name": "python3"
    },
    "language_info": {
      "codemirror_mode": {
        "name": "ipython",
        "version": 3
      },
      "file_extension": ".py",
      "mimetype": "text/x-python",
      "name": "python",
      "nbconvert_exporter": "python",
      "pygments_lexer": "ipython3",
      "version": "3.13.0"
    }
  },
  "nbformat": 4,
  "nbformat_minor": 0
}
