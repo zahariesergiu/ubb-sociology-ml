{
  "cells": [
    {
      "cell_type": "markdown",
      "metadata": {
        "id": "ydHb_ZL5yy6f"
      },
      "source": [
        "# **Final Project Task 1 - Census Data Preprocess**"
      ]
    },
    {
      "cell_type": "markdown",
      "metadata": {
        "id": "hnzXS8Oo9jwY"
      },
      "source": [
        "Requirements\n",
        "\n",
        "- Target variable specification:\n",
        "    - The target variable for this project is hours-per-week. \n",
        "    - Ensure all preprocessing steps are designed to support regression analysis on this target variable.\n",
        "- Encode data  **3p**\n",
        "- Handle missing values if any **1p**\n",
        "- Correct errors, inconsistencies, remove duplicates if any **1p**\n",
        "- Outlier detection and treatment if any **1p**\n",
        "- Normalization / Standardization if necesarry **1p**\n",
        "- Feature engineering **3p**\n",
        "- Train test split, save it.\n",
        "- Others?\n",
        "\n",
        "\n",
        "Deliverable:\n",
        "\n",
        "- Notebook code with no errors.\n",
        "- Preprocessed data as csv."
      ]
    },
    {
      "cell_type": "code",
      "execution_count": 419,
      "metadata": {
        "id": "xifylnglyn2W"
      },
      "outputs": [],
      "source": [
        "import pandas as pd\n",
        "import numpy as np\n",
        "import matplotlib.pyplot as plt\n",
        "import seaborn as sns\n",
        "from sklearn.preprocessing import StandardScaler\n",
        "from sklearn.model_selection import train_test_split\n",
        "from sklearn.preprocessing import OneHotEncoder"
      ]
    },
    {
      "cell_type": "code",
      "execution_count": 420,
      "metadata": {
        "colab": {
          "base_uri": "https://localhost:8080/",
          "height": 348
        },
        "id": "CzWyJfHkyn-8",
        "outputId": "633344dd-56a2-44a7-a237-a26873898c80"
      },
      "outputs": [
        {
          "data": {
            "text/html": [
              "<div>\n",
              "<style scoped>\n",
              "    .dataframe tbody tr th:only-of-type {\n",
              "        vertical-align: middle;\n",
              "    }\n",
              "\n",
              "    .dataframe tbody tr th {\n",
              "        vertical-align: top;\n",
              "    }\n",
              "\n",
              "    .dataframe thead th {\n",
              "        text-align: right;\n",
              "    }\n",
              "</style>\n",
              "<table border=\"1\" class=\"dataframe\">\n",
              "  <thead>\n",
              "    <tr style=\"text-align: right;\">\n",
              "      <th></th>\n",
              "      <th>age</th>\n",
              "      <th>workclass</th>\n",
              "      <th>fnlwgt</th>\n",
              "      <th>education</th>\n",
              "      <th>education-num</th>\n",
              "      <th>marital-status</th>\n",
              "      <th>occupation</th>\n",
              "      <th>relationship</th>\n",
              "      <th>race</th>\n",
              "      <th>sex</th>\n",
              "      <th>capital-gain</th>\n",
              "      <th>capital-loss</th>\n",
              "      <th>hours-per-week</th>\n",
              "      <th>native-country</th>\n",
              "      <th>income</th>\n",
              "    </tr>\n",
              "  </thead>\n",
              "  <tbody>\n",
              "    <tr>\n",
              "      <th>0</th>\n",
              "      <td>39</td>\n",
              "      <td>State-gov</td>\n",
              "      <td>77516</td>\n",
              "      <td>Bachelors</td>\n",
              "      <td>13</td>\n",
              "      <td>Never-married</td>\n",
              "      <td>Adm-clerical</td>\n",
              "      <td>Not-in-family</td>\n",
              "      <td>White</td>\n",
              "      <td>Male</td>\n",
              "      <td>2174</td>\n",
              "      <td>0</td>\n",
              "      <td>40</td>\n",
              "      <td>United-States</td>\n",
              "      <td>&lt;=50K</td>\n",
              "    </tr>\n",
              "    <tr>\n",
              "      <th>1</th>\n",
              "      <td>50</td>\n",
              "      <td>Self-emp-not-inc</td>\n",
              "      <td>83311</td>\n",
              "      <td>Bachelors</td>\n",
              "      <td>13</td>\n",
              "      <td>Married-civ-spouse</td>\n",
              "      <td>Exec-managerial</td>\n",
              "      <td>Husband</td>\n",
              "      <td>White</td>\n",
              "      <td>Male</td>\n",
              "      <td>0</td>\n",
              "      <td>0</td>\n",
              "      <td>13</td>\n",
              "      <td>United-States</td>\n",
              "      <td>&lt;=50K</td>\n",
              "    </tr>\n",
              "    <tr>\n",
              "      <th>2</th>\n",
              "      <td>38</td>\n",
              "      <td>Private</td>\n",
              "      <td>215646</td>\n",
              "      <td>HS-grad</td>\n",
              "      <td>9</td>\n",
              "      <td>Divorced</td>\n",
              "      <td>Handlers-cleaners</td>\n",
              "      <td>Not-in-family</td>\n",
              "      <td>White</td>\n",
              "      <td>Male</td>\n",
              "      <td>0</td>\n",
              "      <td>0</td>\n",
              "      <td>40</td>\n",
              "      <td>United-States</td>\n",
              "      <td>&lt;=50K</td>\n",
              "    </tr>\n",
              "    <tr>\n",
              "      <th>3</th>\n",
              "      <td>53</td>\n",
              "      <td>Private</td>\n",
              "      <td>234721</td>\n",
              "      <td>11th</td>\n",
              "      <td>7</td>\n",
              "      <td>Married-civ-spouse</td>\n",
              "      <td>Handlers-cleaners</td>\n",
              "      <td>Husband</td>\n",
              "      <td>Black</td>\n",
              "      <td>Male</td>\n",
              "      <td>0</td>\n",
              "      <td>0</td>\n",
              "      <td>40</td>\n",
              "      <td>United-States</td>\n",
              "      <td>&lt;=50K</td>\n",
              "    </tr>\n",
              "    <tr>\n",
              "      <th>4</th>\n",
              "      <td>28</td>\n",
              "      <td>Private</td>\n",
              "      <td>338409</td>\n",
              "      <td>Bachelors</td>\n",
              "      <td>13</td>\n",
              "      <td>Married-civ-spouse</td>\n",
              "      <td>Prof-specialty</td>\n",
              "      <td>Wife</td>\n",
              "      <td>Black</td>\n",
              "      <td>Female</td>\n",
              "      <td>0</td>\n",
              "      <td>0</td>\n",
              "      <td>40</td>\n",
              "      <td>Cuba</td>\n",
              "      <td>&lt;=50K</td>\n",
              "    </tr>\n",
              "  </tbody>\n",
              "</table>\n",
              "</div>"
            ],
            "text/plain": [
              "   age         workclass  fnlwgt  education  education-num  \\\n",
              "0   39         State-gov   77516  Bachelors             13   \n",
              "1   50  Self-emp-not-inc   83311  Bachelors             13   \n",
              "2   38           Private  215646    HS-grad              9   \n",
              "3   53           Private  234721       11th              7   \n",
              "4   28           Private  338409  Bachelors             13   \n",
              "\n",
              "       marital-status         occupation   relationship   race     sex  \\\n",
              "0       Never-married       Adm-clerical  Not-in-family  White    Male   \n",
              "1  Married-civ-spouse    Exec-managerial        Husband  White    Male   \n",
              "2            Divorced  Handlers-cleaners  Not-in-family  White    Male   \n",
              "3  Married-civ-spouse  Handlers-cleaners        Husband  Black    Male   \n",
              "4  Married-civ-spouse     Prof-specialty           Wife  Black  Female   \n",
              "\n",
              "   capital-gain  capital-loss  hours-per-week native-country income  \n",
              "0          2174             0              40  United-States  <=50K  \n",
              "1             0             0              13  United-States  <=50K  \n",
              "2             0             0              40  United-States  <=50K  \n",
              "3             0             0              40  United-States  <=50K  \n",
              "4             0             0              40           Cuba  <=50K  "
            ]
          },
          "execution_count": 420,
          "metadata": {},
          "output_type": "execute_result"
        }
      ],
      "source": [
        "data_url = \"https://archive.ics.uci.edu/ml/machine-learning-databases/adult/adult.data\"\n",
        "columns = [\n",
        "    \"age\", \"workclass\", \"fnlwgt\", \"education\", \"education-num\", \"marital-status\",\n",
        "    \"occupation\", \"relationship\", \"race\", \"sex\", \"capital-gain\", \"capital-loss\",\n",
        "    \"hours-per-week\", \"native-country\", \"income\"\n",
        "]\n",
        "\n",
        "data = pd.read_csv(data_url, header=None, names=columns, na_values=\"?\", skipinitialspace=True)\n",
        "data.head()"
      ]
    },
    {
      "cell_type": "code",
      "execution_count": 421,
      "metadata": {},
      "outputs": [
        {
          "name": "stdout",
          "output_type": "stream",
          "text": [
            "Dataset shape: (32561, 15)\n",
            "Feature shape: (32561, 14) Target shape: (32561,)\n",
            "Feature names: ['age', 'workclass', 'fnlwgt', 'education', 'education-num', 'marital-status', 'occupation', 'relationship', 'race', 'sex', 'capital-gain', 'capital-loss', 'native-country', 'income']\n",
            "Target name: hours-per-week\n"
          ]
        }
      ],
      "source": [
        "X = data.drop(columns=[\"hours-per-week\"])\n",
        "y = data[\"hours-per-week\"]\n",
        "\n",
        "print(\"Dataset shape:\", data.shape)\n",
        "print(\"Feature shape:\", X.shape, \"Target shape:\", y.shape)\n",
        "print(\"Feature names:\", list(X.columns))\n",
        "print(\"Target name:\", \"hours-per-week\")\n"
      ]
    },
    {
      "cell_type": "code",
      "execution_count": null,
      "metadata": {},
      "outputs": [
        {
          "name": "stdout",
          "output_type": "stream",
          "text": [
            "                Missing Count  Missing Percent\n",
            "workclass                1836         5.638647\n",
            "occupation               1843         5.660146\n",
            "native-country            583         1.790486\n"
          ]
        }
      ],
      "source": [
        "def detect_missing_values(dataframe):\n",
        "    missing_counts = dataframe.isnull().sum()\n",
        "    missing_counts = missing_counts[missing_counts > 0]\n",
        "    missing_percent = (missing_counts / len(dataframe)) * 100\n",
        "    return pd.DataFrame({\"Missing Count\": missing_counts, \"Missing Percent\": missing_percent})\n",
        "\n",
        "print(detect_missing_values(data))\n"
      ]
    },
    {
      "cell_type": "code",
      "execution_count": null,
      "metadata": {},
      "outputs": [
        {
          "name": "stdout",
          "output_type": "stream",
          "text": [
            "Empty DataFrame\n",
            "Columns: [Missing Count, Missing Percent]\n",
            "Index: []\n",
            "New dataset shape after dropping missing values: (30162, 15)\n"
          ]
        }
      ],
      "source": [
        "def drop_missing_values(data, columns):\n",
        "    return data.dropna(subset=columns)\n",
        "\n",
        "data = drop_missing_values(data, [\"workclass\", \"occupation\", \"native-country\"])\n",
        "\n",
        "print(detect_missing_values(data))  \n",
        "\n",
        "print(f\"New dataset shape after dropping missing values: {data.shape}\")\n"
      ]
    },
    {
      "cell_type": "code",
      "execution_count": null,
      "metadata": {},
      "outputs": [
        {
          "name": "stdout",
          "output_type": "stream",
          "text": [
            "Number of duplicate rows: 23\n",
            "       age workclass  fnlwgt     education  education-num marital-status  \\\n",
            "4881    25   Private  308144     Bachelors             13  Never-married   \n",
            "5104    90   Private   52386  Some-college             10  Never-married   \n",
            "9171    21   Private  250051  Some-college             10  Never-married   \n",
            "11631   20   Private  107658  Some-college             10  Never-married   \n",
            "13084   25   Private  195994       1st-4th              2  Never-married   \n",
            "\n",
            "            occupation   relationship                race     sex  \\\n",
            "4881      Craft-repair  Not-in-family               White    Male   \n",
            "5104     Other-service  Not-in-family  Asian-Pac-Islander    Male   \n",
            "9171    Prof-specialty      Own-child               White  Female   \n",
            "11631     Tech-support  Not-in-family               White  Female   \n",
            "13084  Priv-house-serv  Not-in-family               White  Female   \n",
            "\n",
            "       capital-gain  capital-loss  hours-per-week native-country income  \n",
            "4881              0             0              40         Mexico  <=50K  \n",
            "5104              0             0              35  United-States  <=50K  \n",
            "9171              0             0              10  United-States  <=50K  \n",
            "11631             0             0              10  United-States  <=50K  \n",
            "13084             0             0              40      Guatemala  <=50K  \n"
          ]
        }
      ],
      "source": [
        "def detect_duplicates(data):\n",
        "    print(f\"Number of duplicate rows: {data.duplicated().sum()}\")\n",
        "    return data[data.duplicated()]\n",
        "\n",
        "duplicates = detect_duplicates(data)\n",
        "\n",
        "print(duplicates.head())\n"
      ]
    },
    {
      "cell_type": "code",
      "execution_count": null,
      "metadata": {},
      "outputs": [
        {
          "name": "stdout",
          "output_type": "stream",
          "text": [
            "Remaining duplicate rows: 0\n",
            "Final dataset shape: (30139, 15)\n"
          ]
        }
      ],
      "source": [
        "data = data.drop_duplicates()\n",
        "\n",
        "print(f\"Remaining duplicate rows: {data.duplicated().sum()}\")\n",
        "print(f\"Final dataset shape: {data.shape}\")\n"
      ]
    },
    {
      "cell_type": "code",
      "execution_count": 426,
      "metadata": {},
      "outputs": [],
      "source": [
        "def fix_inconsistencies(data):\n",
        "    for col in data.select_dtypes(include='object'):\n",
        "        data[col] = data[col].str.strip().str.lower()\n",
        "    return data\n",
        "\n",
        "data = fix_inconsistencies(data)\n"
      ]
    },
    {
      "cell_type": "markdown",
      "metadata": {},
      "source": [
        "Pana acum, am implementat mai multe tehnici pentru a ma asigura ca dataset ul este curatat si pregatit pentru urmatoarele etape de preprocesare. Am inceput prin a identifica valorile lipsa.Pentru acest pas am folosit o functie care calculeaza numarul total si procentul pentru fiecare coloana. Acest lucru este esential pentru a intelege cat de afectate sunt anumite coloane si daca trebui sa elimin randurile sau sa inlocuim valorile lipsa. In cazul meu, am identificat valori lipsa in coloanele: workclass, occupation si native-country.  Deoarece aceste caracteristici sunt relevante pentru analiza noastră și completarea valorilor lipsă ar fi dificilă fără a introduce bias, am decis să elimin rândurile care conțin valori lipsă în aceste coloane. După această operațiune, am verificat din nou prezența valorilor lipsă pentru a ne asigura că datasetul este complet.\n",
        "\n",
        "In continuare, am verificat si eliminat randurile duplicate. Acest pas este crucial deoarece duplicatele pot afecta rezultatele modelului nostru, introducând bias și supra-reprezentând anumite observații.După identificarea și eliminarea rândurilor duplicate, am confirmat că toate înregistrările sunt unice, contribuind astfel la o distribuție corectă a datelor.\n",
        "\n",
        "Un alt aspect important a fost verificarea erorilor si a inconsecventelor din date. În multe cazuri, datele textuale pot conține variații neintenționate, cum ar fi diferențe de capitalizare (Private vs. private) sau spații suplimentare (* Self-emp-not-inc* vs. Self-emp-not-inc). Pentru a corecta aceste probleme, am aplicat o funcție care elimină spațiile inutile și transformă toate valorile categoriale în litere mici. Acest lucru ne asigură că atunci când aplicăm metode de codificare, fiecare categorie este reprezentată corect și nu există duplicate artificiale cauzate de diferențe minore de formatare."
      ]
    },
    {
      "cell_type": "code",
      "execution_count": null,
      "metadata": {},
      "outputs": [],
      "source": [
        "# Aici, am eliminat niste coloane pe care le consider mai problematice si nu neaparat necesare modelului.\n",
        "# De ex, capital-gain si loss aveau foarte multi outliers.\n",
        "\n",
        "\n",
        "data = data.drop(columns=[\"fnlwgt\", \"native-country\", \"capital-gain\", \"capital-loss\", \"occupation\"], errors=\"ignore\")"
      ]
    },
    {
      "cell_type": "code",
      "execution_count": 428,
      "metadata": {},
      "outputs": [
        {
          "data": {
            "text/html": [
              "<div>\n",
              "<style scoped>\n",
              "    .dataframe tbody tr th:only-of-type {\n",
              "        vertical-align: middle;\n",
              "    }\n",
              "\n",
              "    .dataframe tbody tr th {\n",
              "        vertical-align: top;\n",
              "    }\n",
              "\n",
              "    .dataframe thead th {\n",
              "        text-align: right;\n",
              "    }\n",
              "</style>\n",
              "<table border=\"1\" class=\"dataframe\">\n",
              "  <thead>\n",
              "    <tr style=\"text-align: right;\">\n",
              "      <th></th>\n",
              "      <th>age</th>\n",
              "      <th>workclass</th>\n",
              "      <th>education</th>\n",
              "      <th>education-num</th>\n",
              "      <th>marital-status</th>\n",
              "      <th>relationship</th>\n",
              "      <th>race</th>\n",
              "      <th>sex</th>\n",
              "      <th>hours-per-week</th>\n",
              "      <th>income</th>\n",
              "    </tr>\n",
              "  </thead>\n",
              "  <tbody>\n",
              "    <tr>\n",
              "      <th>0</th>\n",
              "      <td>39</td>\n",
              "      <td>state-gov</td>\n",
              "      <td>bachelors</td>\n",
              "      <td>13</td>\n",
              "      <td>never-married</td>\n",
              "      <td>not-in-family</td>\n",
              "      <td>white</td>\n",
              "      <td>male</td>\n",
              "      <td>40</td>\n",
              "      <td>&lt;=50k</td>\n",
              "    </tr>\n",
              "    <tr>\n",
              "      <th>1</th>\n",
              "      <td>50</td>\n",
              "      <td>self-emp-not-inc</td>\n",
              "      <td>bachelors</td>\n",
              "      <td>13</td>\n",
              "      <td>married-civ-spouse</td>\n",
              "      <td>husband</td>\n",
              "      <td>white</td>\n",
              "      <td>male</td>\n",
              "      <td>13</td>\n",
              "      <td>&lt;=50k</td>\n",
              "    </tr>\n",
              "    <tr>\n",
              "      <th>2</th>\n",
              "      <td>38</td>\n",
              "      <td>private</td>\n",
              "      <td>hs-grad</td>\n",
              "      <td>9</td>\n",
              "      <td>divorced</td>\n",
              "      <td>not-in-family</td>\n",
              "      <td>white</td>\n",
              "      <td>male</td>\n",
              "      <td>40</td>\n",
              "      <td>&lt;=50k</td>\n",
              "    </tr>\n",
              "    <tr>\n",
              "      <th>3</th>\n",
              "      <td>53</td>\n",
              "      <td>private</td>\n",
              "      <td>11th</td>\n",
              "      <td>7</td>\n",
              "      <td>married-civ-spouse</td>\n",
              "      <td>husband</td>\n",
              "      <td>black</td>\n",
              "      <td>male</td>\n",
              "      <td>40</td>\n",
              "      <td>&lt;=50k</td>\n",
              "    </tr>\n",
              "    <tr>\n",
              "      <th>4</th>\n",
              "      <td>28</td>\n",
              "      <td>private</td>\n",
              "      <td>bachelors</td>\n",
              "      <td>13</td>\n",
              "      <td>married-civ-spouse</td>\n",
              "      <td>wife</td>\n",
              "      <td>black</td>\n",
              "      <td>female</td>\n",
              "      <td>40</td>\n",
              "      <td>&lt;=50k</td>\n",
              "    </tr>\n",
              "  </tbody>\n",
              "</table>\n",
              "</div>"
            ],
            "text/plain": [
              "   age         workclass  education  education-num      marital-status  \\\n",
              "0   39         state-gov  bachelors             13       never-married   \n",
              "1   50  self-emp-not-inc  bachelors             13  married-civ-spouse   \n",
              "2   38           private    hs-grad              9            divorced   \n",
              "3   53           private       11th              7  married-civ-spouse   \n",
              "4   28           private  bachelors             13  married-civ-spouse   \n",
              "\n",
              "    relationship   race     sex  hours-per-week income  \n",
              "0  not-in-family  white    male              40  <=50k  \n",
              "1        husband  white    male              13  <=50k  \n",
              "2  not-in-family  white    male              40  <=50k  \n",
              "3        husband  black    male              40  <=50k  \n",
              "4           wife  black  female              40  <=50k  "
            ]
          },
          "execution_count": 428,
          "metadata": {},
          "output_type": "execute_result"
        }
      ],
      "source": [
        "data.head()"
      ]
    },
    {
      "cell_type": "markdown",
      "metadata": {},
      "source": [
        "După preprocesarea inițială a datelor, următorul pas este separarea acestora în variabile independente (features) și variabila dependentă (target). În acest caz, variabila țintă este hours-per-week, iar restul coloanelor sunt considerate caracteristici pentru modelul de regresie.\n",
        "\n",
        "Împărțirea în set de antrenament și test se realizeaza astfel: X_train si Y_train vor fi utilizate pentru antrenarea modelului (80%), X_test si Y_test pentru testare si evaluare (20%). Am ales să împart datele în 80% pentru antrenare și 20% pentru testare deoarece dataset-ul este suficient de mare. Această proporție oferă destule date pentru ca modelul să învețe bine, dar și un set de test suficient de mare pentru a verifica dacă modelul funcționează corect pe date noi.\n",
        "\n",
        "In continuare, pentru ca modelul sa aiba o performanta buna, am identificat si ulterior tratat outliers. Acestia pot avea un impact negativ asupra modelului de regresie. Pentru a identifica outliers, am creat un boxplot pentru fiecare coloana numerica. "
      ]
    },
    {
      "cell_type": "code",
      "execution_count": null,
      "metadata": {},
      "outputs": [
        {
          "name": "stdout",
          "output_type": "stream",
          "text": [
            "📌 X_train shape: (24111, 9), X_test shape: (6028, 9)\n",
            "📌 y_train shape: (24111,), y_test shape: (6028,)\n"
          ]
        }
      ],
      "source": [
        "target_col = \"hours-per-week\"\n",
        "\n",
        "X = data.drop(columns=[target_col])\n",
        "y = data[target_col] \n",
        "\n",
        "X_train, X_test, y_train, y_test = train_test_split(X, y, test_size=0.2, random_state=42)\n",
        "\n",
        "print(f\"X_train shape: {X_train.shape}, X_test shape: {X_test.shape}\")\n",
        "print(f\"y_train shape: {y_train.shape}, y_test shape: {y_test.shape}\")"
      ]
    },
    {
      "cell_type": "code",
      "execution_count": null,
      "metadata": {},
      "outputs": [
        {
          "name": "stdout",
          "output_type": "stream",
          "text": [
            "📌 Outliers BEFORE IQR capping:\n"
          ]
        },
        {
          "data": {
            "image/png": "[encoded data removed]",
            "text/plain": [
              "<Figure size 1500x1000 with 2 Axes>"
            ]
          },
          "metadata": {},
          "output_type": "display_data"
        }
      ],
      "source": [
        "def plot_outliers(data, numeric_cols):\n",
        "    \"\"\"\n",
        "    Plots boxplots for all numerical columns to visualize outliers.\n",
        "\n",
        "    Parameters:\n",
        "    - data: DataFrame containing numeric columns\n",
        "    - numeric_cols: List of numeric column names\n",
        "    \"\"\"\n",
        "    plt.figure(figsize=(15, 10))\n",
        "    for i, col in enumerate(numeric_cols, 1):\n",
        "        plt.subplot((len(numeric_cols) + 1) // 2, 2, i)\n",
        "        sns.boxplot(y=data[col])\n",
        "        plt.title(f\"Outliers in {col}\")\n",
        "        plt.ylabel(col)\n",
        "    plt.tight_layout()\n",
        "    plt.show()\n",
        "\n",
        "numeric_cols = X_train.select_dtypes(include=[np.number]).columns\n",
        "\n",
        "print(\"Outliers BEFORE IQR capping:\")\n",
        "plot_outliers(X_train, numeric_cols)\n"
      ]
    },
    {
      "cell_type": "markdown",
      "metadata": {},
      "source": [
        "Dupa o analiza a boxplot urilor, am ales sa tratez initial outliers prin metoda IQR - Interquartile Range. \n",
        "\n",
        "Am ales aceasta metoda deoarece elimina efectele valorilor extreme fara a le sterge complet. Spre deosebire de metode precum eliminarea completa a valorilor extreme, iqr ajusteaza valorile extreme prin limitarea lor la un interval rezonabil. In plus, IQR utilizeaza quartilele 1 si 3, ceea ce o face mai potrivita pentru seturi de date cu distributii neregulate. \n",
        "\n",
        "Păstrează datele intacte, în loc să le șteargă. Nu este afectată de distribuția datelor, spre deosebire de metode bazate pe media și deviația standard. Eficientă pentru date reale, unde extremele pot fi cauzate de erori sau situații excepționale. Pregătește mai bine modelul pentru predicții, eliminând zgomotul creat de valori anormale."
      ]
    },
    {
      "cell_type": "code",
      "execution_count": null,
      "metadata": {},
      "outputs": [
        {
          "name": "stdout",
          "output_type": "stream",
          "text": [
            "📌 Outliers AFTER IQR capping:\n"
          ]
        },
        {
          "data": {
            "image/png": "[encoded data removed]",
            "text/plain": [
              "<Figure size 1500x1000 with 2 Axes>"
            ]
          },
          "metadata": {},
          "output_type": "display_data"
        }
      ],
      "source": [
        "def cap_outliers_with_train(train, test, numeric_cols):\n",
        "    \"\"\"\n",
        "    Applies IQR capping to numerical columns in training and testing sets.\n",
        "\n",
        "    Parameters:\n",
        "    - train: DataFrame containing training features\n",
        "    - test: DataFrame containing testing features\n",
        "    - numeric_cols: List of numerical feature column names (excluding target)\n",
        "    \n",
        "    Returns:\n",
        "    - Updated train and test DataFrames with capped outliers\n",
        "    \"\"\"\n",
        "    for column in numeric_cols:\n",
        "        Q1 = train[column].quantile(0.25)\n",
        "        Q3 = train[column].quantile(0.75)\n",
        "        IQR = Q3 - Q1\n",
        "\n",
        "        lower_bound = Q1 - 1.5 * IQR\n",
        "        upper_bound = Q3 + 1.5 * IQR\n",
        "\n",
        "        train[column] = train[column].clip(lower=lower_bound, upper=upper_bound)\n",
        "        test[column] = test[column].clip(lower=lower_bound, upper=upper_bound)\n",
        "\n",
        "    return train, test\n",
        "\n",
        "numeric_cols = [col for col in X_train.select_dtypes(include=[np.number]).columns if col != \"hours-per-week\"]\n",
        "\n",
        "X_train, X_test = cap_outliers_with_train(X_train, X_test, numeric_cols)\n",
        "\n",
        "print(\"Outliers AFTER IQR capping:\")\n",
        "plot_outliers(X_train, numeric_cols)"
      ]
    },
    {
      "cell_type": "markdown",
      "metadata": {},
      "source": [
        "După ce am tratat outlierii folosind metoda IQR, următorul pas esențial este standardizarea caracteristicilor numerice. Standardizarea este crucială pentru multe modele de Machine Learning, deoarece ajută algoritmii să funcționeze mai eficient și să învețe mai rapid.\n",
        "\n",
        "Unele variabile, cum ar fi vârsta (age), pot avea valori între 18 și 90, în timp ce numărul de ore lucrate pe săptămână poate fi între 10 și 80.\n",
        "Modelele care utilizează distante pot fi influențate de caracteristici cu valori mari și pot acorda mai multă importanță acestora.\n",
        "\n",
        "Se transformă fiecare caracteristică numerică astfel încât să aibă media 0 și deviația standard 1. Identifică caracteristicile numerice care trebuie standardizate. target_col este exclus, deoarece nu vrem să standardizăm variabila țintă (hours-per-week). Se creează o listă cu toate coloanele numerice, excluzând variabila țintă.\n",
        "\n",
        "Excludem variabila țintă (\"hours-per-week\") – Modelul trebuie să prezică această valoare, deci nu vrem să o schimbăm. Aplicăm standardizarea doar pe setul de antrenament și folosim aceiași parametri pe setul de test – Astfel evităm \"data leakage\" și asigurăm că modelul va funcționa corect pe noi exemple. Folosim StandardScaler din scikit-learn, care este optimizat și ușor de folosit în orice model de Machine Learning."
      ]
    },
    {
      "cell_type": "code",
      "execution_count": null,
      "metadata": {},
      "outputs": [
        {
          "name": "stdout",
          "output_type": "stream",
          "text": [
            "📌 Train Data AFTER Standardization:\n",
            "            age    workclass     education  education-num marital-status  \\\n",
            "2489   1.189187      private  some-college      -0.049998       divorced   \n",
            "4887  -0.419088  federal-gov    assoc-acdm       0.739970  never-married   \n",
            "5969  -0.495673      private       hs-grad      -0.444981  never-married   \n",
            "29494  0.040419    state-gov     assoc-voc       0.344986  never-married   \n",
            "30392 -1.491272    state-gov  some-college      -0.049998  never-married   \n",
            "\n",
            "         relationship   race     sex income  \n",
            "2489        unmarried  white  female  <=50k  \n",
            "4887        unmarried  black  female  <=50k  \n",
            "5969   other-relative  black    male  <=50k  \n",
            "29494       unmarried  white  female  <=50k  \n",
            "30392       own-child  white    male  <=50k  \n",
            "\n",
            "📌 Test Data AFTER Standardization:\n",
            "            age workclass  education  education-num      marital-status  \\\n",
            "9395  -0.572257   private    hs-grad      -0.444981       never-married   \n",
            "3393  -0.419088   private  assoc-voc       0.344986  married-civ-spouse   \n",
            "17020 -1.261518   private    hs-grad      -0.444981       never-married   \n",
            "6191  -0.036166   private    hs-grad      -0.444981  married-civ-spouse   \n",
            "465   -0.112750   private    hs-grad      -0.444981  married-civ-spouse   \n",
            "\n",
            "      relationship   race     sex income  \n",
            "9395     own-child  white  female  <=50k  \n",
            "3393       husband  white    male  <=50k  \n",
            "17020    own-child  white    male  <=50k  \n",
            "6191          wife  white  female  <=50k  \n",
            "465           wife  white  female  <=50k  \n"
          ]
        }
      ],
      "source": [
        "def standardize_features(train, test, numeric_cols, target_col):\n",
        "    \"\"\"\n",
        "    Standardizes numerical columns using StandardScaler (excluding target variable).\n",
        "    \n",
        "    Parameters:\n",
        "    - train: Training DataFrame (X_train)\n",
        "    - test: Testing DataFrame (X_test)\n",
        "    - numeric_cols: List of numerical feature column names (excluding target)\n",
        "    - target_col: The target variable that should NOT be standardized\n",
        "    \n",
        "    Returns:\n",
        "    - Updated train and test DataFrames with standardized numerical features\n",
        "    \"\"\"\n",
        "    features_to_standardize = [col for col in numeric_cols if col != target_col]\n",
        "\n",
        "    scaler = StandardScaler()\n",
        "\n",
        "    train[features_to_standardize] = scaler.fit_transform(train[features_to_standardize])\n",
        "    test[features_to_standardize] = scaler.transform(test[features_to_standardize])\n",
        "\n",
        "    return train, test\n",
        "\n",
        "numeric_cols = [col for col in X_train.select_dtypes(include=[np.number]).columns if col != \"hours-per-week\"]\n",
        "\n",
        "X_train, X_test = standardize_features(X_train, X_test, numeric_cols, target_col=\"hours-per-week\")\n",
        "\n",
        "print(\"Train Data AFTER Standardization:\")\n",
        "print(X_train.head())\n",
        "\n",
        "print(\"\\n Test Data AFTER Standardization:\")\n",
        "print(X_test.head())\n"
      ]
    },
    {
      "cell_type": "markdown",
      "metadata": {},
      "source": [
        "In etapa urmatoare, dupa ce m-am asigurat ca datele arata ok, nu exista outliers si am standardizat, m-am ocupat de transformarea variabilelor categorice. Aici, am aplicat atat encodare manuala, cat si One-Hot encoding. \n",
        "\n",
        "Initial, am encodat coloanele sex in 1- female si 0-male, iar dupa income <=50K -0 si >50K - 1. \n",
        "\n",
        "După ce am transformat variabilele binare, trebuie să transformăm variabilele categoriale care au mai mult de două clase (ex. 'workclass', 'education', 'marital-status' etc.)\n",
        "\n",
        "Deoarece modelele de Machine Learning nu pot lucra cu texte, folosim One-Hot Encoding, care: creează o coloană nouă pentru fiecare categorie; setează 1 dacă rândul respectiv aparține categoriei, altfel 0; Evită problema multicoliniarității eliminând prima categorie (folosim drop='first').\n",
        "\n",
        "Encodare manuală pentru variabilele binare – este simplă, rapidă și reduce numărul de dimensiuni din date. One-Hot Encoding pentru variabilele multi-clasă – este standardul pentru variabile categoriale și ajută modelele să înțeleagă relațiile dintre categorii fără să introducă bias. Menținerea tipurilor de date ca întregi (int) – evită probleme în interpretarea modelelor și păstrează un format clar al datelor."
      ]
    },
    {
      "cell_type": "code",
      "execution_count": 433,
      "metadata": {},
      "outputs": [
        {
          "name": "stdout",
          "output_type": "stream",
          "text": [
            "Encoded 'sex' and 'income' columns (Check for integers):\n",
            "sex       int64\n",
            "income    int64\n",
            "dtype: object\n",
            "       sex  income\n",
            "2489     1       0\n",
            "4887     1       0\n",
            "5969     0       0\n",
            "29494    1       0\n",
            "30392    0       0\n"
          ]
        }
      ],
      "source": [
        "def manual_encoding(X_train, X_test):\n",
        "    \"\"\"\n",
        "    Manually encodes 'sex' (0 = male, 1 = female) and 'income' (0 = <=50k, 1 = >50k) in features.\n",
        "    \n",
        "    Parameters:\n",
        "    - X_train: Training feature DataFrame\n",
        "    - X_test: Testing feature DataFrame\n",
        "\n",
        "    Returns:\n",
        "    - Encoded X_train, X_test with integers instead of strings\n",
        "    \"\"\"\n",
        "    X_train['sex'] = X_train['sex'].map({'male': 0, 'female': 1}).astype(int)\n",
        "    X_test['sex'] = X_test['sex'].map({'male': 0, 'female': 1}).astype(int)\n",
        "\n",
        "    X_train['income'] = X_train['income'].map({'<=50k': 0, '>50k': 1}).astype(int)\n",
        "    X_test['income'] = X_test['income'].map({'<=50k': 0, '>50k': 1}).astype(int)\n",
        "\n",
        "    return X_train, X_test\n",
        "\n",
        "X_train, X_test = manual_encoding(X_train, X_test)\n",
        "\n",
        "print(\"Encoded 'sex' and 'income' columns (Check for integers):\")\n",
        "print(X_train[['sex', 'income']].dtypes)  \n",
        "print(X_train[['sex', 'income']].head()) "
      ]
    },
    {
      "cell_type": "code",
      "execution_count": 434,
      "metadata": {},
      "outputs": [
        {
          "data": {
            "text/html": [
              "<div>\n",
              "<style scoped>\n",
              "    .dataframe tbody tr th:only-of-type {\n",
              "        vertical-align: middle;\n",
              "    }\n",
              "\n",
              "    .dataframe tbody tr th {\n",
              "        vertical-align: top;\n",
              "    }\n",
              "\n",
              "    .dataframe thead th {\n",
              "        text-align: right;\n",
              "    }\n",
              "</style>\n",
              "<table border=\"1\" class=\"dataframe\">\n",
              "  <thead>\n",
              "    <tr style=\"text-align: right;\">\n",
              "      <th></th>\n",
              "      <th>age</th>\n",
              "      <th>workclass</th>\n",
              "      <th>education</th>\n",
              "      <th>education-num</th>\n",
              "      <th>marital-status</th>\n",
              "      <th>relationship</th>\n",
              "      <th>race</th>\n",
              "      <th>sex</th>\n",
              "      <th>income</th>\n",
              "    </tr>\n",
              "  </thead>\n",
              "  <tbody>\n",
              "    <tr>\n",
              "      <th>2489</th>\n",
              "      <td>1.189187</td>\n",
              "      <td>private</td>\n",
              "      <td>some-college</td>\n",
              "      <td>-0.049998</td>\n",
              "      <td>divorced</td>\n",
              "      <td>unmarried</td>\n",
              "      <td>white</td>\n",
              "      <td>1</td>\n",
              "      <td>0</td>\n",
              "    </tr>\n",
              "    <tr>\n",
              "      <th>4887</th>\n",
              "      <td>-0.419088</td>\n",
              "      <td>federal-gov</td>\n",
              "      <td>assoc-acdm</td>\n",
              "      <td>0.739970</td>\n",
              "      <td>never-married</td>\n",
              "      <td>unmarried</td>\n",
              "      <td>black</td>\n",
              "      <td>1</td>\n",
              "      <td>0</td>\n",
              "    </tr>\n",
              "    <tr>\n",
              "      <th>5969</th>\n",
              "      <td>-0.495673</td>\n",
              "      <td>private</td>\n",
              "      <td>hs-grad</td>\n",
              "      <td>-0.444981</td>\n",
              "      <td>never-married</td>\n",
              "      <td>other-relative</td>\n",
              "      <td>black</td>\n",
              "      <td>0</td>\n",
              "      <td>0</td>\n",
              "    </tr>\n",
              "    <tr>\n",
              "      <th>29494</th>\n",
              "      <td>0.040419</td>\n",
              "      <td>state-gov</td>\n",
              "      <td>assoc-voc</td>\n",
              "      <td>0.344986</td>\n",
              "      <td>never-married</td>\n",
              "      <td>unmarried</td>\n",
              "      <td>white</td>\n",
              "      <td>1</td>\n",
              "      <td>0</td>\n",
              "    </tr>\n",
              "    <tr>\n",
              "      <th>30392</th>\n",
              "      <td>-1.491272</td>\n",
              "      <td>state-gov</td>\n",
              "      <td>some-college</td>\n",
              "      <td>-0.049998</td>\n",
              "      <td>never-married</td>\n",
              "      <td>own-child</td>\n",
              "      <td>white</td>\n",
              "      <td>0</td>\n",
              "      <td>0</td>\n",
              "    </tr>\n",
              "  </tbody>\n",
              "</table>\n",
              "</div>"
            ],
            "text/plain": [
              "            age    workclass     education  education-num marital-status  \\\n",
              "2489   1.189187      private  some-college      -0.049998       divorced   \n",
              "4887  -0.419088  federal-gov    assoc-acdm       0.739970  never-married   \n",
              "5969  -0.495673      private       hs-grad      -0.444981  never-married   \n",
              "29494  0.040419    state-gov     assoc-voc       0.344986  never-married   \n",
              "30392 -1.491272    state-gov  some-college      -0.049998  never-married   \n",
              "\n",
              "         relationship   race  sex  income  \n",
              "2489        unmarried  white    1       0  \n",
              "4887        unmarried  black    1       0  \n",
              "5969   other-relative  black    0       0  \n",
              "29494       unmarried  white    1       0  \n",
              "30392       own-child  white    0       0  "
            ]
          },
          "execution_count": 434,
          "metadata": {},
          "output_type": "execute_result"
        }
      ],
      "source": [
        "X_train.head()"
      ]
    },
    {
      "cell_type": "code",
      "execution_count": 435,
      "metadata": {},
      "outputs": [],
      "source": [
        "def one_hot_encode_remaining(X_train, X_test):\n",
        "    \"\"\"\n",
        "    Encodes remaining categorical variables using One-Hot Encoding and ensures outputs are integers.\n",
        "\n",
        "    Parameters:\n",
        "    - X_train: Training DataFrame (features only, no target variable)\n",
        "    - X_test: Testing DataFrame (features only, no target variable)\n",
        "\n",
        "    Returns:\n",
        "    - Encoded train and test DataFrames with integer values instead of floats\n",
        "    \"\"\"\n",
        "\n",
        "    cat_cols = X_train.select_dtypes(include=['object']).columns.tolist()\n",
        "    cat_cols = [col for col in cat_cols if col not in ['sex', 'income']]\n",
        "\n",
        "    if not cat_cols:\n",
        "        print(\"No categorical columns left for encoding.\")\n",
        "        return X_train, X_test\n",
        "\n",
        "\n",
        "    encoder = OneHotEncoder(drop='first', sparse_output=False, handle_unknown='ignore')\n",
        "\n",
        "    train_encoded = pd.DataFrame(encoder.fit_transform(X_train[cat_cols]), columns=encoder.get_feature_names_out(cat_cols))\n",
        "    test_encoded = pd.DataFrame(encoder.transform(X_test[cat_cols]), columns=encoder.get_feature_names_out(cat_cols))\n",
        "\n",
        "    train_encoded = train_encoded.astype(int)\n",
        "    test_encoded = test_encoded.astype(int)\n",
        "\n",
        "    X_train = X_train.drop(columns=cat_cols).reset_index(drop=True)\n",
        "    X_test = X_test.drop(columns=cat_cols).reset_index(drop=True)\n",
        "\n",
        "    X_train = pd.concat([X_train, train_encoded], axis=1)\n",
        "    X_test = pd.concat([X_test, test_encoded], axis=1)\n",
        "\n",
        "    return X_train, X_test\n",
        "\n",
        "X_train, X_test = one_hot_encode_remaining(X_train, X_test)\n",
        "\n",
        "\n"
      ]
    },
    {
      "cell_type": "code",
      "execution_count": null,
      "metadata": {},
      "outputs": [
        {
          "name": "stdout",
          "output_type": "stream",
          "text": [
            "All datasets have been successfully saved as CSV files.\n"
          ]
        }
      ],
      "source": [
        "X_train.to_csv('X_train.csv', index=False)\n",
        "X_test.to_csv('X_test.csv', index=False)\n",
        "y_train.to_csv('y_train.csv', index=False)\n",
        "y_test.to_csv('y_test.csv', index=False)"
      ]
    },
    {
      "cell_type": "markdown",
      "metadata": {},
      "source": [
        "Ultimul pas a fost salvarea datelor in csv pentru a putea lucra ulterior cu datele preprocesate. Dupa ce am efectuat pasii de mai sus, consider ca datele sunt \"pregatite\" pentru modele."
      ]
    }
  ],
  "metadata": {
    "colab": {
      "provenance": [],
      "toc_visible": true
    },
    "kernelspec": {
      "display_name": "venv",
      "language": "python",
      "name": "python3"
    },
    "language_info": {
      "codemirror_mode": {
        "name": "ipython",
        "version": 3
      },
      "file_extension": ".py",
      "mimetype": "text/x-python",
      "name": "python",
      "nbconvert_exporter": "python",
      "pygments_lexer": "ipython3",
      "version": "3.13.0"
    }
  },
  "nbformat": 4,
  "nbformat_minor": 0
}
