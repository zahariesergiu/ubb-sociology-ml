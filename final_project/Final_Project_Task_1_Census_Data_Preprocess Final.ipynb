{
  "cells": [
    {
      "cell_type": "markdown",
      "metadata": {
        "id": "ydHb_ZL5yy6f"
      },
      "source": [
        "# **Final Project Task 1 - Census Data Preprocess**"
      ]
    },
    {
      "cell_type": "markdown",
      "metadata": {
        "id": "hnzXS8Oo9jwY"
      },
      "source": [
        "Requirements\n",
        "\n",
        "- Target variable specification:\n",
        "    - The target variable for this project is hours-per-week. \n",
        "    - Ensure all preprocessing steps are designed to support regression analysis on this target variable.\n",
        "- Encode data\n",
        "- Handle missing values if any\n",
        "- Correct errors, inconsistencies, remove duplicates if any\n",
        "- Outlier detection and treatment if any\n",
        "- Normalization / Standardization if necesarry\n",
        "- Feature engineering\n",
        "- Train test split, save it.\n",
        "- Others?\n",
        "\n",
        "\n",
        "Deliverable:\n",
        "\n",
        "- Notebook code with no errors.\n",
        "- Preprocessed data as csv."
      ]
    },
    {
      "cell_type": "code",
      "execution_count": 18,
      "metadata": {},
      "outputs": [],
      "source": [
        "import pandas as pd\n",
        "import numpy as np\n",
        "import matplotlib.pyplot as plt\n",
        "import seaborn as sns\n",
        "from sklearn.model_selection import train_test_split\n",
        "from sklearn.preprocessing import StandardScaler, MinMaxScaler, RobustScaler, OneHotEncoder"
      ]
    },
    {
      "cell_type": "code",
      "execution_count": 2,
      "metadata": {
        "colab": {
          "base_uri": "https://localhost:8080/",
          "height": 348
        },
        "id": "CzWyJfHkyn-8",
        "outputId": "633344dd-56a2-44a7-a237-a26873898c80"
      },
      "outputs": [
        {
          "data": {
            "text/html": [
              "<div>\n",
              "<style scoped>\n",
              "    .dataframe tbody tr th:only-of-type {\n",
              "        vertical-align: middle;\n",
              "    }\n",
              "\n",
              "    .dataframe tbody tr th {\n",
              "        vertical-align: top;\n",
              "    }\n",
              "\n",
              "    .dataframe thead th {\n",
              "        text-align: right;\n",
              "    }\n",
              "</style>\n",
              "<table border=\"1\" class=\"dataframe\">\n",
              "  <thead>\n",
              "    <tr style=\"text-align: right;\">\n",
              "      <th></th>\n",
              "      <th>age</th>\n",
              "      <th>workclass</th>\n",
              "      <th>fnlwgt</th>\n",
              "      <th>education</th>\n",
              "      <th>education-num</th>\n",
              "      <th>marital-status</th>\n",
              "      <th>occupation</th>\n",
              "      <th>relationship</th>\n",
              "      <th>race</th>\n",
              "      <th>sex</th>\n",
              "      <th>capital-gain</th>\n",
              "      <th>capital-loss</th>\n",
              "      <th>hours-per-week</th>\n",
              "      <th>native-country</th>\n",
              "      <th>income</th>\n",
              "    </tr>\n",
              "  </thead>\n",
              "  <tbody>\n",
              "    <tr>\n",
              "      <th>0</th>\n",
              "      <td>39</td>\n",
              "      <td>State-gov</td>\n",
              "      <td>77516</td>\n",
              "      <td>Bachelors</td>\n",
              "      <td>13</td>\n",
              "      <td>Never-married</td>\n",
              "      <td>Adm-clerical</td>\n",
              "      <td>Not-in-family</td>\n",
              "      <td>White</td>\n",
              "      <td>Male</td>\n",
              "      <td>2174</td>\n",
              "      <td>0</td>\n",
              "      <td>40</td>\n",
              "      <td>United-States</td>\n",
              "      <td>&lt;=50K</td>\n",
              "    </tr>\n",
              "    <tr>\n",
              "      <th>1</th>\n",
              "      <td>50</td>\n",
              "      <td>Self-emp-not-inc</td>\n",
              "      <td>83311</td>\n",
              "      <td>Bachelors</td>\n",
              "      <td>13</td>\n",
              "      <td>Married-civ-spouse</td>\n",
              "      <td>Exec-managerial</td>\n",
              "      <td>Husband</td>\n",
              "      <td>White</td>\n",
              "      <td>Male</td>\n",
              "      <td>0</td>\n",
              "      <td>0</td>\n",
              "      <td>13</td>\n",
              "      <td>United-States</td>\n",
              "      <td>&lt;=50K</td>\n",
              "    </tr>\n",
              "    <tr>\n",
              "      <th>2</th>\n",
              "      <td>38</td>\n",
              "      <td>Private</td>\n",
              "      <td>215646</td>\n",
              "      <td>HS-grad</td>\n",
              "      <td>9</td>\n",
              "      <td>Divorced</td>\n",
              "      <td>Handlers-cleaners</td>\n",
              "      <td>Not-in-family</td>\n",
              "      <td>White</td>\n",
              "      <td>Male</td>\n",
              "      <td>0</td>\n",
              "      <td>0</td>\n",
              "      <td>40</td>\n",
              "      <td>United-States</td>\n",
              "      <td>&lt;=50K</td>\n",
              "    </tr>\n",
              "    <tr>\n",
              "      <th>3</th>\n",
              "      <td>53</td>\n",
              "      <td>Private</td>\n",
              "      <td>234721</td>\n",
              "      <td>11th</td>\n",
              "      <td>7</td>\n",
              "      <td>Married-civ-spouse</td>\n",
              "      <td>Handlers-cleaners</td>\n",
              "      <td>Husband</td>\n",
              "      <td>Black</td>\n",
              "      <td>Male</td>\n",
              "      <td>0</td>\n",
              "      <td>0</td>\n",
              "      <td>40</td>\n",
              "      <td>United-States</td>\n",
              "      <td>&lt;=50K</td>\n",
              "    </tr>\n",
              "    <tr>\n",
              "      <th>4</th>\n",
              "      <td>28</td>\n",
              "      <td>Private</td>\n",
              "      <td>338409</td>\n",
              "      <td>Bachelors</td>\n",
              "      <td>13</td>\n",
              "      <td>Married-civ-spouse</td>\n",
              "      <td>Prof-specialty</td>\n",
              "      <td>Wife</td>\n",
              "      <td>Black</td>\n",
              "      <td>Female</td>\n",
              "      <td>0</td>\n",
              "      <td>0</td>\n",
              "      <td>40</td>\n",
              "      <td>Cuba</td>\n",
              "      <td>&lt;=50K</td>\n",
              "    </tr>\n",
              "  </tbody>\n",
              "</table>\n",
              "</div>"
            ],
            "text/plain": [
              "   age         workclass  fnlwgt  education  education-num  \\\n",
              "0   39         State-gov   77516  Bachelors             13   \n",
              "1   50  Self-emp-not-inc   83311  Bachelors             13   \n",
              "2   38           Private  215646    HS-grad              9   \n",
              "3   53           Private  234721       11th              7   \n",
              "4   28           Private  338409  Bachelors             13   \n",
              "\n",
              "       marital-status         occupation   relationship   race     sex  \\\n",
              "0       Never-married       Adm-clerical  Not-in-family  White    Male   \n",
              "1  Married-civ-spouse    Exec-managerial        Husband  White    Male   \n",
              "2            Divorced  Handlers-cleaners  Not-in-family  White    Male   \n",
              "3  Married-civ-spouse  Handlers-cleaners        Husband  Black    Male   \n",
              "4  Married-civ-spouse     Prof-specialty           Wife  Black  Female   \n",
              "\n",
              "   capital-gain  capital-loss  hours-per-week native-country income  \n",
              "0          2174             0              40  United-States  <=50K  \n",
              "1             0             0              13  United-States  <=50K  \n",
              "2             0             0              40  United-States  <=50K  \n",
              "3             0             0              40  United-States  <=50K  \n",
              "4             0             0              40           Cuba  <=50K  "
            ]
          },
          "execution_count": 2,
          "metadata": {},
          "output_type": "execute_result"
        }
      ],
      "source": [
        "data_url = \"https://archive.ics.uci.edu/ml/machine-learning-databases/adult/adult.data\"\n",
        "columns = [\n",
        "    \"age\", \"workclass\", \"fnlwgt\", \"education\", \"education-num\", \"marital-status\",\n",
        "    \"occupation\", \"relationship\", \"race\", \"sex\", \"capital-gain\", \"capital-loss\",\n",
        "    \"hours-per-week\", \"native-country\", \"income\"\n",
        "]\n",
        "\n",
        "data = pd.read_csv(data_url, header=None, names=columns, na_values=\" ?\", skipinitialspace=True)\n",
        "data.head()"
      ]
    },
    {
      "cell_type": "markdown",
      "metadata": {},
      "source": [
        "# Handle missing data"
      ]
    },
    {
      "cell_type": "code",
      "execution_count": 19,
      "metadata": {},
      "outputs": [
        {
          "name": "stdout",
          "output_type": "stream",
          "text": [
            "Missing values after imputation:\n",
            "age               0\n",
            "workclass         0\n",
            "fnlwgt            0\n",
            "education         0\n",
            "education-num     0\n",
            "marital-status    0\n",
            "occupation        0\n",
            "relationship      0\n",
            "race              0\n",
            "sex               0\n",
            "capital-gain      0\n",
            "capital-loss      0\n",
            "hours-per-week    0\n",
            "native-country    0\n",
            "income            0\n",
            "dtype: int64\n"
          ]
        }
      ],
      "source": [
        "for col in data.columns:\n",
        "    if data[col].isnull().sum() > 0:\n",
        "        mode_value = data[col].mode()[0]\n",
        "        data[col].fillna(mode_value, inplace=True)\n",
        "print(\"Missing values after imputation:\")\n",
        "print(data.isnull().sum())"
      ]
    },
    {
      "cell_type": "markdown",
      "metadata": {},
      "source": [
        "Am tratat valorile lipsă din dataset completând fiecare coloană cu moda (valoarea cea mai frecventă). Această metodă este eficientă mai ales pentru variabilele categorice, deoarece păstrează coerența datelor. După imputare, am verificat și confirmat că nu mai există valori lipsă în dataset."
      ]
    },
    {
      "cell_type": "markdown",
      "metadata": {},
      "source": [
        "# Remove duplicates"
      ]
    },
    {
      "cell_type": "code",
      "execution_count": 6,
      "metadata": {},
      "outputs": [],
      "source": [
        "# Eliminarea duplicatelor\n",
        "df_cleaned = df.drop_duplicates()"
      ]
    },
    {
      "cell_type": "code",
      "execution_count": 7,
      "metadata": {},
      "outputs": [
        {
          "name": "stdout",
          "output_type": "stream",
          "text": [
            "Dimensiuni după eliminarea duplicatelor: (32537, 15)\n"
          ]
        }
      ],
      "source": [
        "# Identificarea dimensiunii după eliminare\n",
        "print(f\"Dimensiuni după eliminarea duplicatelor: {df_cleaned.shape}\")"
      ]
    },
    {
      "cell_type": "code",
      "execution_count": 8,
      "metadata": {},
      "outputs": [
        {
          "name": "stdout",
          "output_type": "stream",
          "text": [
            "Mai există duplicate? False\n"
          ]
        }
      ],
      "source": [
        "# Verificare suplimentară dacă mai există duplicate\n",
        "print(f\"Mai există duplicate? {df_cleaned.duplicated().any()}\")"
      ]
    },
    {
      "cell_type": "markdown",
      "metadata": {},
      "source": [
        "După aplicarea metodei df.drop_duplicates(), am identificat și eliminat toate rândurile duplicate din dataset. \n",
        "Această operațiune este esențială pentru a evita redundanța în analiza ulterioară. În urma eliminării:\n",
        "\n",
        "Dimensiunea dataset-ului a scăzut de la 32561 rânduri la 32537 rânduri, ceea ce indică eliminarea unui număr de 24 rânduri duplicate.\n",
        "Am verificat suplimentar și am confirmat că nu mai există duplicate în dataset. \n",
        "Această etapă îmbunătățește calitatea datelor și asigură o analiză mai precisă."
      ]
    },
    {
      "cell_type": "markdown",
      "metadata": {},
      "source": [
        "## Detect and Remove Outliers"
      ]
    },
    {
      "cell_type": "code",
      "execution_count": 20,
      "metadata": {},
      "outputs": [
        {
          "data": {
            "image/png": "[encoded data removed]",
            "text/plain": [
              "<Figure size 800x400 with 1 Axes>"
            ]
          },
          "metadata": {},
          "output_type": "display_data"
        },
        {
          "data": {
            "image/png": "[encoded data removed]",
            "text/plain": [
              "<Figure size 800x400 with 1 Axes>"
            ]
          },
          "metadata": {},
          "output_type": "display_data"
        },
        {
          "data": {
            "image/png": "[encoded data removed]",
            "text/plain": [
              "<Figure size 800x400 with 1 Axes>"
            ]
          },
          "metadata": {},
          "output_type": "display_data"
        },
        {
          "data": {
            "image/png": "[encoded data removed]",
            "text/plain": [
              "<Figure size 800x400 with 1 Axes>"
            ]
          },
          "metadata": {},
          "output_type": "display_data"
        },
        {
          "data": {
            "image/png": "[encoded data removed]",
            "text/plain": [
              "<Figure size 800x400 with 1 Axes>"
            ]
          },
          "metadata": {},
          "output_type": "display_data"
        },
        {
          "data": {
            "image/png": "[encoded data removed]",
            "text/plain": [
              "<Figure size 800x400 with 1 Axes>"
            ]
          },
          "metadata": {},
          "output_type": "display_data"
        },
        {
          "name": "stdout",
          "output_type": "stream",
          "text": [
            "Shape after removing outliers: (19004, 15)\n"
          ]
        }
      ],
      "source": [
        "def detect_outliers_iqr(data, column):\n",
        "    Q1 = data[column].quantile(0.25)\n",
        "    Q3 = data[column].quantile(0.75)\n",
        "    IQR = Q3 - Q1\n",
        "    lower_bound = Q1 - 1.5 * IQR\n",
        "    upper_bound = Q3 + 1.5 * IQR\n",
        "    return data[(data[column] >= lower_bound) & (data[column] <= upper_bound)]\n",
        "\n",
        "numerical_columns = [\"age\", \"fnlwgt\", \"education-num\", \"capital-gain\", \"capital-loss\", \"hours-per-week\"]\n",
        "\n",
        "for col in numerical_columns:\n",
        "    plt.figure(figsize=(8, 4))\n",
        "    sns.boxplot(x=data[col])\n",
        "    plt.title(f\"Boxplot for {col}\")\n",
        "    plt.show()\n",
        "    data = detect_outliers_iqr(data, col)\n",
        "print(\"Shape after removing outliers:\", data.shape)"
      ]
    },
    {
      "cell_type": "markdown",
      "metadata": {},
      "source": [
        "Funcția aplică metoda IQR pentru a detecta și elimina valorile aberante din dataset. Aceasta calculează limitele inferioare și superioare utilizând regula standard de 1.5 * IQR, excluzând valorile extreme care ar putea distorsiona distribuția datelor. Prin această metodă, se asigură o mai bună calitate a dataset-ului, prevenind influența disproporționată a valorilor extreme asupra analizei statistice sau a modelelor de machine learning."
      ]
    },
    {
      "cell_type": "markdown",
      "metadata": {},
      "source": [
        " 1.Capital-loss și Capital-gain\n",
        "\n",
        "Ambele variabile conțin un număr mare de valori zero, ceea ce indică faptul că majoritatea persoanelor nu au câștiguri sau pierderi de capital.\n",
        "Există câteva valori extreme în capital-gain, unele depășind 40.000 sau chiar aproape de 100.000, ceea ce sugerează că doar un număr foarte mic de persoane beneficiază de astfel de câștiguri.\n",
        "După eliminarea outlierilor, distribuția devine mai echilibrată, fără influența valorilor extreme."
      ]
    },
    {
      "cell_type": "markdown",
      "metadata": {},
      "source": [
        "2. Hours-per-week\n",
        "\n",
        "Datele sunt puternic concentrate în jurul valorii de 40 de ore/săptămână, ceea ce este tipic pentru normele de muncă standard.\n",
        "Înainte de eliminarea outlierilor, existau persoane care declarau că lucrează peste 80 de ore pe săptămână, ceea ce reprezintă cazuri rare.\n",
        "După eliminarea outlierilor, distribuția rămâne similară, dar fără aceste valori extreme, ceea ce ajută modelul de regresie să fie mai robust."
      ]
    },
    {
      "cell_type": "markdown",
      "metadata": {},
      "source": [
        "3.Education-num\n",
        "\n",
        "Distribuția este relativ simetrică, majoritatea valorilor fiind între 5 și 15 ani de educație.\n",
        "Există câteva cazuri izolate cu valori mai mici, ceea ce ar putea reprezenta persoane cu educație sub nivelul mediu.\n",
        "După eliminarea outlierilor, structura distribuției nu se schimbă semnificativ, ceea ce indică faptul că variabila este deja destul de curată."
      ]
    },
    {
      "cell_type": "markdown",
      "metadata": {},
      "source": [
        "4.Age\n",
        "\n",
        "Distribuția vârstei este aproximativ normală, cu cele mai multe persoane având între 20 și 50 de ani.\n",
        "Înainte de eliminarea outlierilor, existau câteva cazuri de persoane peste 70-80 de ani, care ar putea influența analiza.\n",
        "După curățarea dataset-ului, distribuția este mai echilibrată, fără valori extreme care ar putea introduce variații neașteptate în model."
      ]
    },
    {
      "cell_type": "markdown",
      "metadata": {},
      "source": [
        "5.fnlwgt (final weight)\n",
        "\n",
        "Această variabilă prezintă o distribuție puternic asimetrică, cu valori mari care indică ponderi ridicate ale unor observații.\n",
        "Există multe valori extreme în partea superioară, ceea ce poate afecta modelele statistice.\n",
        "Eliminarea outlierilor ajută la reducerea influenței disproporționate a acestor valori mari și face ca distribuția să fie mai uniformă.\n"
      ]
    },
    {
      "cell_type": "markdown",
      "metadata": {},
      "source": [
        "Prin analiza boxplot-urilor, am identificat mai multe variabile cu valori extreme care ar fi putut distorsiona rezultatele modelului nostru de regresie. Am aplicat metoda IQR pentru a elimina outlierii, ceea ce a dus la un dataset mai echilibrat și mai reprezentativ. Acest proces ajută la îmbunătățirea acurateței modelului, reducând impactul valorilor extreme asupra predicțiilor."
      ]
    },
    {
      "cell_type": "markdown",
      "metadata": {},
      "source": [
        "# Encode Categorical Variables"
      ]
    },
    {
      "cell_type": "code",
      "execution_count": 21,
      "metadata": {},
      "outputs": [
        {
          "name": "stdout",
          "output_type": "stream",
          "text": [
            "Shape after encoding categorical variables: (19004, 96)\n",
            "Data after encoding categorical variables:\n",
            "   age  fnlwgt  education-num  capital-gain  capital-loss  hours-per-week  \\\n",
            "2   38  215646              9             0             0              40   \n",
            "3   53  234721              7             0             0              40   \n",
            "4   28  338409             13             0             0              40   \n",
            "5   37  284582             14             0             0              40   \n",
            "7   52  209642              9             0             0              45   \n",
            "\n",
            "   workclass_Federal-gov  workclass_Local-gov  workclass_Never-worked  \\\n",
            "2                  False                False                   False   \n",
            "3                  False                False                   False   \n",
            "4                  False                False                   False   \n",
            "5                  False                False                   False   \n",
            "7                  False                False                   False   \n",
            "\n",
            "   workclass_Private  ...  native-country_Puerto-Rico  \\\n",
            "2               True  ...                       False   \n",
            "3               True  ...                       False   \n",
            "4               True  ...                       False   \n",
            "5               True  ...                       False   \n",
            "7              False  ...                       False   \n",
            "\n",
            "   native-country_Scotland  native-country_South  native-country_Taiwan  \\\n",
            "2                    False                 False                  False   \n",
            "3                    False                 False                  False   \n",
            "4                    False                 False                  False   \n",
            "5                    False                 False                  False   \n",
            "7                    False                 False                  False   \n",
            "\n",
            "   native-country_Thailand  native-country_Trinadad&Tobago  \\\n",
            "2                    False                           False   \n",
            "3                    False                           False   \n",
            "4                    False                           False   \n",
            "5                    False                           False   \n",
            "7                    False                           False   \n",
            "\n",
            "   native-country_United-States  native-country_Vietnam  \\\n",
            "2                          True                   False   \n",
            "3                          True                   False   \n",
            "4                         False                   False   \n",
            "5                          True                   False   \n",
            "7                          True                   False   \n",
            "\n",
            "   native-country_Yugoslavia  income_>50K  \n",
            "2                      False        False  \n",
            "3                      False        False  \n",
            "4                      False        False  \n",
            "5                      False        False  \n",
            "7                      False         True  \n",
            "\n",
            "[5 rows x 96 columns]\n"
          ]
        }
      ],
      "source": [
        "categorical_columns = [\"workclass\", \"education\", \"marital-status\", \"occupation\", \"relationship\", \"race\", \"sex\", \"native-country\", \"income\"]\n",
        "data = pd.get_dummies(data, columns=categorical_columns, drop_first=True)\n",
        "print(\"Shape after encoding categorical variables:\", data.shape)\n",
        "print(\"Data after encoding categorical variables:\")\n",
        "print(data.head())"
      ]
    },
    {
      "cell_type": "markdown",
      "metadata": {},
      "source": [
        "De ce am utilizat această metodă pentru datele mele?\n",
        "\n",
        "\n",
        "Modelele de regresie nu pot lucra cu date de tip text, așa că trebuie să convertim variabilele categorice în format numeric.\n",
        "One-Hot Encoding este una dintre cele mai eficiente metode de conversie a variabilelor categorice, deoarece:\n",
        "Nu introduce ierarhii false (spre deosebire de Label Encoding).\n",
        "Permite interpretarea corectă de către model (fiecare categorie devine o variabilă independentă).\n",
        "Folosim drop_first=True pentru a evita colinearitatea, care ar putea afecta modelele de regresie.\n",
        "Asigură compatibilitatea dataset-ului cu toate modelele de Machine Learning, inclusiv regresia liniară și algoritmii bazați pe arbori de decizie.\n",
        "\n",
        "Astfel, fiecare categorie a fost convertită într-o variabilă binară (0/1), iar drop_first=True a fost folosit pentru a evita redundanța datelor. După această transformare, dataset-ul conține doar valori numerice, fiind gata pentru modelare."
      ]
    },
    {
      "cell_type": "markdown",
      "metadata": {},
      "source": [
        "## Feature engineering"
      ]
    },
    {
      "cell_type": "code",
      "execution_count": 22,
      "metadata": {},
      "outputs": [],
      "source": [
        "# Se creeaza o nouă coloană capital_diff care reprezintă diferența dintre capital-gain și capital-loss.\n",
        "data[\"capital_diff\"] = data[\"capital-gain\"] - data[\"capital-loss\"]\n",
        "data.drop(columns=[\"capital-gain\", \"capital-loss\"], inplace=True)\n",
        "\n",
        "#Elimină coloanele originale capital-gain și capital-loss, deoarece informația lor este acum inclusă în capital_diff.\n",
        "\n",
        "\n",
        "#Creează o variabilă binară high_income unde:\n",
        "#1 = Venit peste 50K.\n",
        "#0 = Venit sub 50K.\n",
        "#Elimină vechea coloană income_>50K, deoarece noua coloană high_income conține aceleași informații într-un format mai simplu.\n",
        "\n",
        "data[\"high_income\"] = np.where(data[\"income_>50K\"] == 1, 1, 0)\n",
        "data.drop(columns=[\"income_>50K\"], inplace=True)"
      ]
    },
    {
      "cell_type": "markdown",
      "metadata": {},
      "source": [
        "Am aplicat Feature Engineering pentru a optimiza dataset-ul: am combinat capital-gain și capital-loss într-o singură variabilă capital_diff, reducând redundanța, și am transformat income_>50K într-o variabilă binară high_income, simplificând interpretarea veniturilor. Aceste transformări îmbunătățesc eficiența modelelor de regresie și claritatea dataset-ului."
      ]
    },
    {
      "cell_type": "code",
      "execution_count": 23,
      "metadata": {},
      "outputs": [
        {
          "name": "stdout",
          "output_type": "stream",
          "text": [
            "Feature Engineering Done. Columns: Index(['age', 'fnlwgt', 'education-num', 'hours-per-week',\n",
            "       'workclass_Federal-gov', 'workclass_Local-gov',\n",
            "       'workclass_Never-worked', 'workclass_Private', 'workclass_Self-emp-inc',\n",
            "       'workclass_Self-emp-not-inc', 'workclass_State-gov',\n",
            "       'workclass_Without-pay', 'education_11th', 'education_12th',\n",
            "       'education_9th', 'education_Assoc-acdm', 'education_Assoc-voc',\n",
            "       'education_Bachelors', 'education_Doctorate', 'education_HS-grad',\n",
            "       'education_Masters', 'education_Prof-school', 'education_Some-college',\n",
            "       'marital-status_Married-AF-spouse', 'marital-status_Married-civ-spouse',\n",
            "       'marital-status_Married-spouse-absent', 'marital-status_Never-married',\n",
            "       'marital-status_Separated', 'marital-status_Widowed',\n",
            "       'occupation_Adm-clerical', 'occupation_Armed-Forces',\n",
            "       'occupation_Craft-repair', 'occupation_Exec-managerial',\n",
            "       'occupation_Farming-fishing', 'occupation_Handlers-cleaners',\n",
            "       'occupation_Machine-op-inspct', 'occupation_Other-service',\n",
            "       'occupation_Priv-house-serv', 'occupation_Prof-specialty',\n",
            "       'occupation_Protective-serv', 'occupation_Sales',\n",
            "       'occupation_Tech-support', 'occupation_Transport-moving',\n",
            "       'relationship_Not-in-family', 'relationship_Other-relative',\n",
            "       'relationship_Own-child', 'relationship_Unmarried', 'relationship_Wife',\n",
            "       'race_Asian-Pac-Islander', 'race_Black', 'race_Other', 'race_White',\n",
            "       'sex_Male', 'native-country_Cambodia', 'native-country_Canada',\n",
            "       'native-country_China', 'native-country_Columbia',\n",
            "       'native-country_Cuba', 'native-country_Dominican-Republic',\n",
            "       'native-country_Ecuador', 'native-country_El-Salvador',\n",
            "       'native-country_England', 'native-country_France',\n",
            "       'native-country_Germany', 'native-country_Greece',\n",
            "       'native-country_Guatemala', 'native-country_Haiti',\n",
            "       'native-country_Honduras', 'native-country_Hong',\n",
            "       'native-country_Hungary', 'native-country_India', 'native-country_Iran',\n",
            "       'native-country_Ireland', 'native-country_Italy',\n",
            "       'native-country_Jamaica', 'native-country_Japan', 'native-country_Laos',\n",
            "       'native-country_Mexico', 'native-country_Nicaragua',\n",
            "       'native-country_Outlying-US(Guam-USVI-etc)', 'native-country_Peru',\n",
            "       'native-country_Philippines', 'native-country_Poland',\n",
            "       'native-country_Portugal', 'native-country_Puerto-Rico',\n",
            "       'native-country_Scotland', 'native-country_South',\n",
            "       'native-country_Taiwan', 'native-country_Thailand',\n",
            "       'native-country_Trinadad&Tobago', 'native-country_United-States',\n",
            "       'native-country_Vietnam', 'native-country_Yugoslavia', 'capital_diff',\n",
            "       'high_income', 'age_bins_adult', 'age_bins_middle-aged',\n",
            "       'age_bins_senior'],\n",
            "      dtype='object')\n",
            "Data after Feature Engineering:\n",
            "   age  fnlwgt  education-num  hours-per-week  workclass_Federal-gov  \\\n",
            "2   38  215646              9              40                  False   \n",
            "3   53  234721              7              40                  False   \n",
            "4   28  338409             13              40                  False   \n",
            "5   37  284582             14              40                  False   \n",
            "7   52  209642              9              45                  False   \n",
            "\n",
            "   workclass_Local-gov  workclass_Never-worked  workclass_Private  \\\n",
            "2                False                   False               True   \n",
            "3                False                   False               True   \n",
            "4                False                   False               True   \n",
            "5                False                   False               True   \n",
            "7                False                   False              False   \n",
            "\n",
            "   workclass_Self-emp-inc  workclass_Self-emp-not-inc  ...  \\\n",
            "2                   False                       False  ...   \n",
            "3                   False                       False  ...   \n",
            "4                   False                       False  ...   \n",
            "5                   False                       False  ...   \n",
            "7                   False                        True  ...   \n",
            "\n",
            "   native-country_Thailand  native-country_Trinadad&Tobago  \\\n",
            "2                    False                           False   \n",
            "3                    False                           False   \n",
            "4                    False                           False   \n",
            "5                    False                           False   \n",
            "7                    False                           False   \n",
            "\n",
            "   native-country_United-States  native-country_Vietnam  \\\n",
            "2                          True                   False   \n",
            "3                          True                   False   \n",
            "4                         False                   False   \n",
            "5                          True                   False   \n",
            "7                          True                   False   \n",
            "\n",
            "   native-country_Yugoslavia  capital_diff  high_income  age_bins_adult  \\\n",
            "2                      False             0            0            True   \n",
            "3                      False             0            0           False   \n",
            "4                      False             0            0            True   \n",
            "5                      False             0            0            True   \n",
            "7                      False             0            1           False   \n",
            "\n",
            "   age_bins_middle-aged  age_bins_senior  \n",
            "2                 False            False  \n",
            "3                  True            False  \n",
            "4                 False            False  \n",
            "5                 False            False  \n",
            "7                  True            False  \n",
            "\n",
            "[5 rows x 98 columns]\n"
          ]
        }
      ],
      "source": [
        "# Grupare vârste\n",
        "data[\"age_bins\"] = pd.cut(data[\"age\"], bins=[0, 25, 45, 65, 100], labels=[\"young\", \"adult\", \"middle-aged\", \"senior\"])\n",
        "data = pd.get_dummies(data, columns=[\"age_bins\"], drop_first=True)\n",
        "\n",
        "print(\"Feature Engineering Done. Columns:\", data.columns)\n",
        "print(\"Data after Feature Engineering:\")\n",
        "print(data.head())"
      ]
    },
    {
      "cell_type": "markdown",
      "metadata": {},
      "source": [
        "Am transformat variabila age într-o variabilă categorică age_bins, clasificând vârstele în patru grupe relevante. Apoi, am aplicat One-Hot Encoding, ceea ce permite modelelor de regresie să înțeleagă mai bine relația dintre vârstă și alte caracteristici, fără a introduce o ierarhie falsă. Această transformare îmbunătățește interpretabilitatea și precizia modelului."
      ]
    },
    {
      "cell_type": "markdown",
      "metadata": {},
      "source": [
        "## Normalize/Standardize Data"
      ]
    },
    {
      "cell_type": "code",
      "execution_count": 24,
      "metadata": {},
      "outputs": [],
      "source": [
        "scaler = StandardScaler()\n",
        "numerical_columns = [\"age\", \"fnlwgt\", \"education-num\", \"hours-per-week\", \"capital_diff\"]\n",
        "data_standardized = data.copy()\n",
        "data_standardized[numerical_columns] = scaler.fit_transform(data_standardized[numerical_columns])"
      ]
    },
    {
      "cell_type": "markdown",
      "metadata": {},
      "source": [
        "Am aplicat StandardScaler pentru a transforma variabilele numerice astfel încât fiecare să aibă media 0 și deviația standard 1. Acest proces ajută modelele de Machine Learning să performeze mai bine, eliminând diferențele de scală dintre variabile. Astfel, informația din dataset rămâne aceeași, dar este mai ușor de utilizat pentru algoritmi de regresie și clasificare."
      ]
    },
    {
      "cell_type": "code",
      "execution_count": 25,
      "metadata": {},
      "outputs": [],
      "source": [
        "# Alternativă: Normalizare\n",
        "minmax_scaler = MinMaxScaler()\n",
        "data_normalized = data.copy()\n",
        "data_normalized[numerical_columns] = minmax_scaler.fit_transform(data_normalized[numerical_columns])"
      ]
    },
    {
      "cell_type": "markdown",
      "metadata": {},
      "source": [
        "Am aplicat MinMax Scaling pentru a normaliza variabilele numerice, transformându-le în valori între 0 și 1. Această metodă menține distribuția originală a datelor și este utilă pentru modele de rețele neuronale sau algoritmi bazați pe distanță. Spre deosebire de StandardScaler, această metodă nu schimbă forma distribuției, dar este sensibilă la outlieri."
      ]
    },
    {
      "cell_type": "code",
      "execution_count": 26,
      "metadata": {},
      "outputs": [
        {
          "name": "stdout",
          "output_type": "stream",
          "text": [
            "Standardization, Normalization, and Robust Scaling Completed.\n"
          ]
        }
      ],
      "source": [
        "# Alternativă: Scaling robust\n",
        "robust_scaler = RobustScaler()\n",
        "data_robust = data.copy()\n",
        "data_robust[numerical_columns] = robust_scaler.fit_transform(data_robust[numerical_columns])\n",
        "\n",
        "print(\"Standardization, Normalization, and Robust Scaling Completed.\")"
      ]
    },
    {
      "cell_type": "markdown",
      "metadata": {},
      "source": [
        "Am aplicat Robust Scaling, o metodă de scalare care folosește mediana și IQR, fiind astfel mai rezistentă la valori extreme. Aceasta este o metodă ideală pentru dataset-uri care conțin outlieri, cum este cazul nostru. Spre deosebire de StandardScaler, RobustScaler nu este afectat de variațiile mari ale unor observații, oferind o transformare mai stabilă a datelor."
      ]
    },
    {
      "cell_type": "markdown",
      "metadata": {},
      "source": [
        "## Train-Test Split"
      ]
    },
    {
      "cell_type": "code",
      "execution_count": 27,
      "metadata": {},
      "outputs": [
        {
          "name": "stdout",
          "output_type": "stream",
          "text": [
            "Train Shape: (15203, 98) Test Shape: (3801, 98)\n"
          ]
        }
      ],
      "source": [
        "train_data, test_data = train_test_split(data_standardized, test_size=0.2, random_state=42)\n",
        "print(\"Train Shape:\", train_data.shape, \"Test Shape:\", test_data.shape)"
      ]
    },
    {
      "cell_type": "markdown",
      "metadata": {},
      "source": [
        "Am împărțit dataset-ul standardizat în două subseturi: 80% pentru antrenare și 20% pentru testare. Aceasta permite modelului să învețe dintr-un set de date și apoi să fie evaluat pe un alt set, asigurând o măsurare corectă a performanței și prevenind supraînvățarea (overfitting)"
      ]
    },
    {
      "cell_type": "markdown",
      "metadata": {},
      "source": [
        "# Save Processed Data"
      ]
    },
    {
      "cell_type": "code",
      "execution_count": 28,
      "metadata": {},
      "outputs": [
        {
          "name": "stdout",
          "output_type": "stream",
          "text": [
            "Processed data saved.\n"
          ]
        }
      ],
      "source": [
        "train_data.to_csv(\"train_data_standardized.csv\", index=False)\n",
        "test_data.to_csv(\"test_data_standardized.csv\", index=False)\n",
        "\n",
        "train_data.to_csv(\"train_data_normalized.csv\", index=False)\n",
        "test_data.to_csv(\"test_data_normalized.csv\", index=False)\n",
        "\n",
        "train_data.to_csv(\"train_data_robust.csv\", index=False)\n",
        "test_data.to_csv(\"test_data_robust.csv\", index=False)\n",
        "\n",
        "print(\"Processed data saved.\")"
      ]
    },
    {
      "cell_type": "markdown",
      "metadata": {},
      "source": [
        "Am salvat versiunile standardizate, normalizate și scalate robust ale seturilor de date de antrenament și test în fișiere CSV. Acest lucru permite reutilizarea datelor în alte sesiuni de lucru fără a reface procesul de preprocesare, economisind timp și asigurând consistența modelelor de Machine Learning."
      ]
    }
  ],
  "metadata": {
    "colab": {
      "provenance": [],
      "toc_visible": true
    },
    "kernelspec": {
      "display_name": "Python 3",
      "name": "python3"
    },
    "language_info": {
      "codemirror_mode": {
        "name": "ipython",
        "version": 3
      },
      "file_extension": ".py",
      "mimetype": "text/x-python",
      "name": "python",
      "nbconvert_exporter": "python",
      "pygments_lexer": "ipython3",
      "version": "3.13.0"
    }
  },
  "nbformat": 4,
  "nbformat_minor": 0
}
