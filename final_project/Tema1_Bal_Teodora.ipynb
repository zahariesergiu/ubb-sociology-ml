{
 "cells": [
  {
   "cell_type": "markdown",
   "metadata": {},
   "source": [
    "#### Handle missing values if any"
   ]
  },
  {
   "cell_type": "code",
   "execution_count": 3,
   "metadata": {},
   "outputs": [],
   "source": [
    "import pandas as pd\n",
    "import numpy as np\n",
    "from sklearn.model_selection import train_test_split\n",
    "from sklearn.preprocessing import StandardScaler, OneHotEncoder\n",
    "from sklearn.impute import SimpleImputer\n",
    "from sklearn.pipeline import Pipeline\n",
    "from sklearn.compose import ColumnTransformer\n",
    "import joblib\n"
   ]
  },
  {
   "cell_type": "code",
   "execution_count": 4,
   "metadata": {},
   "outputs": [
    {
     "data": {
      "text/html": [
       "<div>\n",
       "<style scoped>\n",
       "    .dataframe tbody tr th:only-of-type {\n",
       "        vertical-align: middle;\n",
       "    }\n",
       "\n",
       "    .dataframe tbody tr th {\n",
       "        vertical-align: top;\n",
       "    }\n",
       "\n",
       "    .dataframe thead th {\n",
       "        text-align: right;\n",
       "    }\n",
       "</style>\n",
       "<table border=\"1\" class=\"dataframe\">\n",
       "  <thead>\n",
       "    <tr style=\"text-align: right;\">\n",
       "      <th></th>\n",
       "      <th>age</th>\n",
       "      <th>workclass</th>\n",
       "      <th>fnlwgt</th>\n",
       "      <th>education</th>\n",
       "      <th>education-num</th>\n",
       "      <th>marital-status</th>\n",
       "      <th>occupation</th>\n",
       "      <th>relationship</th>\n",
       "      <th>race</th>\n",
       "      <th>sex</th>\n",
       "      <th>capital-gain</th>\n",
       "      <th>capital-loss</th>\n",
       "      <th>hours-per-week</th>\n",
       "      <th>native-country</th>\n",
       "      <th>income</th>\n",
       "    </tr>\n",
       "  </thead>\n",
       "  <tbody>\n",
       "    <tr>\n",
       "      <th>0</th>\n",
       "      <td>39</td>\n",
       "      <td>State-gov</td>\n",
       "      <td>77516</td>\n",
       "      <td>Bachelors</td>\n",
       "      <td>13</td>\n",
       "      <td>Never-married</td>\n",
       "      <td>Adm-clerical</td>\n",
       "      <td>Not-in-family</td>\n",
       "      <td>White</td>\n",
       "      <td>Male</td>\n",
       "      <td>2174</td>\n",
       "      <td>0</td>\n",
       "      <td>40</td>\n",
       "      <td>United-States</td>\n",
       "      <td>&lt;=50K</td>\n",
       "    </tr>\n",
       "    <tr>\n",
       "      <th>1</th>\n",
       "      <td>50</td>\n",
       "      <td>Self-emp-not-inc</td>\n",
       "      <td>83311</td>\n",
       "      <td>Bachelors</td>\n",
       "      <td>13</td>\n",
       "      <td>Married-civ-spouse</td>\n",
       "      <td>Exec-managerial</td>\n",
       "      <td>Husband</td>\n",
       "      <td>White</td>\n",
       "      <td>Male</td>\n",
       "      <td>0</td>\n",
       "      <td>0</td>\n",
       "      <td>13</td>\n",
       "      <td>United-States</td>\n",
       "      <td>&lt;=50K</td>\n",
       "    </tr>\n",
       "    <tr>\n",
       "      <th>2</th>\n",
       "      <td>38</td>\n",
       "      <td>Private</td>\n",
       "      <td>215646</td>\n",
       "      <td>HS-grad</td>\n",
       "      <td>9</td>\n",
       "      <td>Divorced</td>\n",
       "      <td>Handlers-cleaners</td>\n",
       "      <td>Not-in-family</td>\n",
       "      <td>White</td>\n",
       "      <td>Male</td>\n",
       "      <td>0</td>\n",
       "      <td>0</td>\n",
       "      <td>40</td>\n",
       "      <td>United-States</td>\n",
       "      <td>&lt;=50K</td>\n",
       "    </tr>\n",
       "    <tr>\n",
       "      <th>3</th>\n",
       "      <td>53</td>\n",
       "      <td>Private</td>\n",
       "      <td>234721</td>\n",
       "      <td>11th</td>\n",
       "      <td>7</td>\n",
       "      <td>Married-civ-spouse</td>\n",
       "      <td>Handlers-cleaners</td>\n",
       "      <td>Husband</td>\n",
       "      <td>Black</td>\n",
       "      <td>Male</td>\n",
       "      <td>0</td>\n",
       "      <td>0</td>\n",
       "      <td>40</td>\n",
       "      <td>United-States</td>\n",
       "      <td>&lt;=50K</td>\n",
       "    </tr>\n",
       "    <tr>\n",
       "      <th>4</th>\n",
       "      <td>28</td>\n",
       "      <td>Private</td>\n",
       "      <td>338409</td>\n",
       "      <td>Bachelors</td>\n",
       "      <td>13</td>\n",
       "      <td>Married-civ-spouse</td>\n",
       "      <td>Prof-specialty</td>\n",
       "      <td>Wife</td>\n",
       "      <td>Black</td>\n",
       "      <td>Female</td>\n",
       "      <td>0</td>\n",
       "      <td>0</td>\n",
       "      <td>40</td>\n",
       "      <td>Cuba</td>\n",
       "      <td>&lt;=50K</td>\n",
       "    </tr>\n",
       "    <tr>\n",
       "      <th>5</th>\n",
       "      <td>37</td>\n",
       "      <td>Private</td>\n",
       "      <td>284582</td>\n",
       "      <td>Masters</td>\n",
       "      <td>14</td>\n",
       "      <td>Married-civ-spouse</td>\n",
       "      <td>Exec-managerial</td>\n",
       "      <td>Wife</td>\n",
       "      <td>White</td>\n",
       "      <td>Female</td>\n",
       "      <td>0</td>\n",
       "      <td>0</td>\n",
       "      <td>40</td>\n",
       "      <td>United-States</td>\n",
       "      <td>&lt;=50K</td>\n",
       "    </tr>\n",
       "    <tr>\n",
       "      <th>6</th>\n",
       "      <td>49</td>\n",
       "      <td>Private</td>\n",
       "      <td>160187</td>\n",
       "      <td>9th</td>\n",
       "      <td>5</td>\n",
       "      <td>Married-spouse-absent</td>\n",
       "      <td>Other-service</td>\n",
       "      <td>Not-in-family</td>\n",
       "      <td>Black</td>\n",
       "      <td>Female</td>\n",
       "      <td>0</td>\n",
       "      <td>0</td>\n",
       "      <td>16</td>\n",
       "      <td>Jamaica</td>\n",
       "      <td>&lt;=50K</td>\n",
       "    </tr>\n",
       "    <tr>\n",
       "      <th>7</th>\n",
       "      <td>52</td>\n",
       "      <td>Self-emp-not-inc</td>\n",
       "      <td>209642</td>\n",
       "      <td>HS-grad</td>\n",
       "      <td>9</td>\n",
       "      <td>Married-civ-spouse</td>\n",
       "      <td>Exec-managerial</td>\n",
       "      <td>Husband</td>\n",
       "      <td>White</td>\n",
       "      <td>Male</td>\n",
       "      <td>0</td>\n",
       "      <td>0</td>\n",
       "      <td>45</td>\n",
       "      <td>United-States</td>\n",
       "      <td>&gt;50K</td>\n",
       "    </tr>\n",
       "    <tr>\n",
       "      <th>8</th>\n",
       "      <td>31</td>\n",
       "      <td>Private</td>\n",
       "      <td>45781</td>\n",
       "      <td>Masters</td>\n",
       "      <td>14</td>\n",
       "      <td>Never-married</td>\n",
       "      <td>Prof-specialty</td>\n",
       "      <td>Not-in-family</td>\n",
       "      <td>White</td>\n",
       "      <td>Female</td>\n",
       "      <td>14084</td>\n",
       "      <td>0</td>\n",
       "      <td>50</td>\n",
       "      <td>United-States</td>\n",
       "      <td>&gt;50K</td>\n",
       "    </tr>\n",
       "    <tr>\n",
       "      <th>9</th>\n",
       "      <td>42</td>\n",
       "      <td>Private</td>\n",
       "      <td>159449</td>\n",
       "      <td>Bachelors</td>\n",
       "      <td>13</td>\n",
       "      <td>Married-civ-spouse</td>\n",
       "      <td>Exec-managerial</td>\n",
       "      <td>Husband</td>\n",
       "      <td>White</td>\n",
       "      <td>Male</td>\n",
       "      <td>5178</td>\n",
       "      <td>0</td>\n",
       "      <td>40</td>\n",
       "      <td>United-States</td>\n",
       "      <td>&gt;50K</td>\n",
       "    </tr>\n",
       "  </tbody>\n",
       "</table>\n",
       "</div>"
      ],
      "text/plain": [
       "   age         workclass  fnlwgt  education  education-num  \\\n",
       "0   39         State-gov   77516  Bachelors             13   \n",
       "1   50  Self-emp-not-inc   83311  Bachelors             13   \n",
       "2   38           Private  215646    HS-grad              9   \n",
       "3   53           Private  234721       11th              7   \n",
       "4   28           Private  338409  Bachelors             13   \n",
       "5   37           Private  284582    Masters             14   \n",
       "6   49           Private  160187        9th              5   \n",
       "7   52  Self-emp-not-inc  209642    HS-grad              9   \n",
       "8   31           Private   45781    Masters             14   \n",
       "9   42           Private  159449  Bachelors             13   \n",
       "\n",
       "          marital-status         occupation   relationship   race     sex  \\\n",
       "0          Never-married       Adm-clerical  Not-in-family  White    Male   \n",
       "1     Married-civ-spouse    Exec-managerial        Husband  White    Male   \n",
       "2               Divorced  Handlers-cleaners  Not-in-family  White    Male   \n",
       "3     Married-civ-spouse  Handlers-cleaners        Husband  Black    Male   \n",
       "4     Married-civ-spouse     Prof-specialty           Wife  Black  Female   \n",
       "5     Married-civ-spouse    Exec-managerial           Wife  White  Female   \n",
       "6  Married-spouse-absent      Other-service  Not-in-family  Black  Female   \n",
       "7     Married-civ-spouse    Exec-managerial        Husband  White    Male   \n",
       "8          Never-married     Prof-specialty  Not-in-family  White  Female   \n",
       "9     Married-civ-spouse    Exec-managerial        Husband  White    Male   \n",
       "\n",
       "   capital-gain  capital-loss  hours-per-week native-country income  \n",
       "0          2174             0              40  United-States  <=50K  \n",
       "1             0             0              13  United-States  <=50K  \n",
       "2             0             0              40  United-States  <=50K  \n",
       "3             0             0              40  United-States  <=50K  \n",
       "4             0             0              40           Cuba  <=50K  \n",
       "5             0             0              40  United-States  <=50K  \n",
       "6             0             0              16        Jamaica  <=50K  \n",
       "7             0             0              45  United-States   >50K  \n",
       "8         14084             0              50  United-States   >50K  \n",
       "9          5178             0              40  United-States   >50K  "
      ]
     },
     "execution_count": 4,
     "metadata": {},
     "output_type": "execute_result"
    }
   ],
   "source": [
    "data_url = \"https://archive.ics.uci.edu/ml/machine-learning-databases/adult/adult.data\"\n",
    "columns = [\n",
    "    \"age\", \"workclass\", \"fnlwgt\", \"education\", \"education-num\", \"marital-status\",\n",
    "    \"occupation\", \"relationship\", \"race\", \"sex\", \"capital-gain\", \"capital-loss\",\n",
    "    \"hours-per-week\", \"native-country\", \"income\"\n",
    "]\n",
    "data = pd.read_csv(data_url, header=None, names=columns, na_values=\" ?\", skipinitialspace=True)\n",
    "data.head(10)"
   ]
  },
  {
   "cell_type": "markdown",
   "metadata": {},
   "source": [
    "Am verificat și identificat valori marcate cu \"?\" în dataset, considerându-le drept valori lipsă. Acestea au fost înlocuite cu NaN pentru a putea fi tratate corespunzător. "
   ]
  },
  {
   "cell_type": "code",
   "execution_count": 5,
   "metadata": {},
   "outputs": [
    {
     "name": "stdout",
     "output_type": "stream",
     "text": [
      "age               0\n",
      "workclass         0\n",
      "fnlwgt            0\n",
      "education         0\n",
      "education-num     0\n",
      "marital-status    0\n",
      "occupation        0\n",
      "relationship      0\n",
      "race              0\n",
      "sex               0\n",
      "capital-gain      0\n",
      "capital-loss      0\n",
      "hours-per-week    0\n",
      "native-country    0\n",
      "income            0\n",
      "dtype: int64\n"
     ]
    }
   ],
   "source": [
    "# Verific existența valorilor lipsă în fiecare coloană\n",
    "missing_values = data.isnull().sum()\n",
    "print(missing_values)"
   ]
  },
  {
   "cell_type": "code",
   "execution_count": 7,
   "metadata": {},
   "outputs": [
    {
     "data": {
      "text/html": [
       "<div>\n",
       "<style scoped>\n",
       "    .dataframe tbody tr th:only-of-type {\n",
       "        vertical-align: middle;\n",
       "    }\n",
       "\n",
       "    .dataframe tbody tr th {\n",
       "        vertical-align: top;\n",
       "    }\n",
       "\n",
       "    .dataframe thead th {\n",
       "        text-align: right;\n",
       "    }\n",
       "</style>\n",
       "<table border=\"1\" class=\"dataframe\">\n",
       "  <thead>\n",
       "    <tr style=\"text-align: right;\">\n",
       "      <th></th>\n",
       "      <th>age</th>\n",
       "      <th>workclass</th>\n",
       "      <th>fnlwgt</th>\n",
       "      <th>education</th>\n",
       "      <th>education-num</th>\n",
       "      <th>marital-status</th>\n",
       "      <th>occupation</th>\n",
       "      <th>relationship</th>\n",
       "      <th>race</th>\n",
       "      <th>sex</th>\n",
       "      <th>capital-gain</th>\n",
       "      <th>capital-loss</th>\n",
       "      <th>hours-per-week</th>\n",
       "      <th>native-country</th>\n",
       "      <th>income</th>\n",
       "    </tr>\n",
       "  </thead>\n",
       "  <tbody>\n",
       "    <tr>\n",
       "      <th>0</th>\n",
       "      <td>39.0</td>\n",
       "      <td>State-gov</td>\n",
       "      <td>77516.0</td>\n",
       "      <td>Bachelors</td>\n",
       "      <td>13.0</td>\n",
       "      <td>Never-married</td>\n",
       "      <td>Adm-clerical</td>\n",
       "      <td>Not-in-family</td>\n",
       "      <td>White</td>\n",
       "      <td>Male</td>\n",
       "      <td>2174.0</td>\n",
       "      <td>0.0</td>\n",
       "      <td>40.0</td>\n",
       "      <td>United-States</td>\n",
       "      <td>&lt;=50K</td>\n",
       "    </tr>\n",
       "    <tr>\n",
       "      <th>1</th>\n",
       "      <td>50.0</td>\n",
       "      <td>Self-emp-not-inc</td>\n",
       "      <td>83311.0</td>\n",
       "      <td>Bachelors</td>\n",
       "      <td>13.0</td>\n",
       "      <td>Married-civ-spouse</td>\n",
       "      <td>Exec-managerial</td>\n",
       "      <td>Husband</td>\n",
       "      <td>White</td>\n",
       "      <td>Male</td>\n",
       "      <td>0.0</td>\n",
       "      <td>0.0</td>\n",
       "      <td>13.0</td>\n",
       "      <td>United-States</td>\n",
       "      <td>&lt;=50K</td>\n",
       "    </tr>\n",
       "    <tr>\n",
       "      <th>2</th>\n",
       "      <td>38.0</td>\n",
       "      <td>Private</td>\n",
       "      <td>215646.0</td>\n",
       "      <td>HS-grad</td>\n",
       "      <td>9.0</td>\n",
       "      <td>Divorced</td>\n",
       "      <td>Handlers-cleaners</td>\n",
       "      <td>Not-in-family</td>\n",
       "      <td>White</td>\n",
       "      <td>Male</td>\n",
       "      <td>0.0</td>\n",
       "      <td>0.0</td>\n",
       "      <td>40.0</td>\n",
       "      <td>United-States</td>\n",
       "      <td>&lt;=50K</td>\n",
       "    </tr>\n",
       "    <tr>\n",
       "      <th>3</th>\n",
       "      <td>53.0</td>\n",
       "      <td>Private</td>\n",
       "      <td>234721.0</td>\n",
       "      <td>11th</td>\n",
       "      <td>7.0</td>\n",
       "      <td>Married-civ-spouse</td>\n",
       "      <td>Handlers-cleaners</td>\n",
       "      <td>Husband</td>\n",
       "      <td>Black</td>\n",
       "      <td>Male</td>\n",
       "      <td>0.0</td>\n",
       "      <td>0.0</td>\n",
       "      <td>40.0</td>\n",
       "      <td>United-States</td>\n",
       "      <td>&lt;=50K</td>\n",
       "    </tr>\n",
       "    <tr>\n",
       "      <th>4</th>\n",
       "      <td>28.0</td>\n",
       "      <td>Private</td>\n",
       "      <td>338409.0</td>\n",
       "      <td>Bachelors</td>\n",
       "      <td>13.0</td>\n",
       "      <td>Married-civ-spouse</td>\n",
       "      <td>Prof-specialty</td>\n",
       "      <td>Wife</td>\n",
       "      <td>Black</td>\n",
       "      <td>Female</td>\n",
       "      <td>0.0</td>\n",
       "      <td>0.0</td>\n",
       "      <td>40.0</td>\n",
       "      <td>Cuba</td>\n",
       "      <td>&lt;=50K</td>\n",
       "    </tr>\n",
       "    <tr>\n",
       "      <th>5</th>\n",
       "      <td>37.0</td>\n",
       "      <td>Private</td>\n",
       "      <td>284582.0</td>\n",
       "      <td>Masters</td>\n",
       "      <td>14.0</td>\n",
       "      <td>Married-civ-spouse</td>\n",
       "      <td>Exec-managerial</td>\n",
       "      <td>Wife</td>\n",
       "      <td>White</td>\n",
       "      <td>Female</td>\n",
       "      <td>0.0</td>\n",
       "      <td>0.0</td>\n",
       "      <td>40.0</td>\n",
       "      <td>United-States</td>\n",
       "      <td>&lt;=50K</td>\n",
       "    </tr>\n",
       "    <tr>\n",
       "      <th>6</th>\n",
       "      <td>49.0</td>\n",
       "      <td>Private</td>\n",
       "      <td>160187.0</td>\n",
       "      <td>9th</td>\n",
       "      <td>5.0</td>\n",
       "      <td>Married-spouse-absent</td>\n",
       "      <td>Other-service</td>\n",
       "      <td>Not-in-family</td>\n",
       "      <td>Black</td>\n",
       "      <td>Female</td>\n",
       "      <td>0.0</td>\n",
       "      <td>0.0</td>\n",
       "      <td>16.0</td>\n",
       "      <td>Jamaica</td>\n",
       "      <td>&lt;=50K</td>\n",
       "    </tr>\n",
       "    <tr>\n",
       "      <th>7</th>\n",
       "      <td>52.0</td>\n",
       "      <td>Self-emp-not-inc</td>\n",
       "      <td>209642.0</td>\n",
       "      <td>HS-grad</td>\n",
       "      <td>9.0</td>\n",
       "      <td>Married-civ-spouse</td>\n",
       "      <td>Exec-managerial</td>\n",
       "      <td>Husband</td>\n",
       "      <td>White</td>\n",
       "      <td>Male</td>\n",
       "      <td>0.0</td>\n",
       "      <td>0.0</td>\n",
       "      <td>45.0</td>\n",
       "      <td>United-States</td>\n",
       "      <td>&gt;50K</td>\n",
       "    </tr>\n",
       "    <tr>\n",
       "      <th>8</th>\n",
       "      <td>31.0</td>\n",
       "      <td>Private</td>\n",
       "      <td>45781.0</td>\n",
       "      <td>Masters</td>\n",
       "      <td>14.0</td>\n",
       "      <td>Never-married</td>\n",
       "      <td>Prof-specialty</td>\n",
       "      <td>Not-in-family</td>\n",
       "      <td>White</td>\n",
       "      <td>Female</td>\n",
       "      <td>14084.0</td>\n",
       "      <td>0.0</td>\n",
       "      <td>50.0</td>\n",
       "      <td>United-States</td>\n",
       "      <td>&gt;50K</td>\n",
       "    </tr>\n",
       "    <tr>\n",
       "      <th>9</th>\n",
       "      <td>42.0</td>\n",
       "      <td>Private</td>\n",
       "      <td>159449.0</td>\n",
       "      <td>Bachelors</td>\n",
       "      <td>13.0</td>\n",
       "      <td>Married-civ-spouse</td>\n",
       "      <td>Exec-managerial</td>\n",
       "      <td>Husband</td>\n",
       "      <td>White</td>\n",
       "      <td>Male</td>\n",
       "      <td>5178.0</td>\n",
       "      <td>0.0</td>\n",
       "      <td>40.0</td>\n",
       "      <td>United-States</td>\n",
       "      <td>&gt;50K</td>\n",
       "    </tr>\n",
       "  </tbody>\n",
       "</table>\n",
       "</div>"
      ],
      "text/plain": [
       "    age         workclass    fnlwgt  education  education-num  \\\n",
       "0  39.0         State-gov   77516.0  Bachelors           13.0   \n",
       "1  50.0  Self-emp-not-inc   83311.0  Bachelors           13.0   \n",
       "2  38.0           Private  215646.0    HS-grad            9.0   \n",
       "3  53.0           Private  234721.0       11th            7.0   \n",
       "4  28.0           Private  338409.0  Bachelors           13.0   \n",
       "5  37.0           Private  284582.0    Masters           14.0   \n",
       "6  49.0           Private  160187.0        9th            5.0   \n",
       "7  52.0  Self-emp-not-inc  209642.0    HS-grad            9.0   \n",
       "8  31.0           Private   45781.0    Masters           14.0   \n",
       "9  42.0           Private  159449.0  Bachelors           13.0   \n",
       "\n",
       "          marital-status         occupation   relationship   race     sex  \\\n",
       "0          Never-married       Adm-clerical  Not-in-family  White    Male   \n",
       "1     Married-civ-spouse    Exec-managerial        Husband  White    Male   \n",
       "2               Divorced  Handlers-cleaners  Not-in-family  White    Male   \n",
       "3     Married-civ-spouse  Handlers-cleaners        Husband  Black    Male   \n",
       "4     Married-civ-spouse     Prof-specialty           Wife  Black  Female   \n",
       "5     Married-civ-spouse    Exec-managerial           Wife  White  Female   \n",
       "6  Married-spouse-absent      Other-service  Not-in-family  Black  Female   \n",
       "7     Married-civ-spouse    Exec-managerial        Husband  White    Male   \n",
       "8          Never-married     Prof-specialty  Not-in-family  White  Female   \n",
       "9     Married-civ-spouse    Exec-managerial        Husband  White    Male   \n",
       "\n",
       "   capital-gain  capital-loss  hours-per-week native-country income  \n",
       "0        2174.0           0.0            40.0  United-States  <=50K  \n",
       "1           0.0           0.0            13.0  United-States  <=50K  \n",
       "2           0.0           0.0            40.0  United-States  <=50K  \n",
       "3           0.0           0.0            40.0  United-States  <=50K  \n",
       "4           0.0           0.0            40.0           Cuba  <=50K  \n",
       "5           0.0           0.0            40.0  United-States  <=50K  \n",
       "6           0.0           0.0            16.0        Jamaica  <=50K  \n",
       "7           0.0           0.0            45.0  United-States   >50K  \n",
       "8       14084.0           0.0            50.0  United-States   >50K  \n",
       "9        5178.0           0.0            40.0  United-States   >50K  "
      ]
     },
     "execution_count": 7,
     "metadata": {},
     "output_type": "execute_result"
    }
   ],
   "source": [
    "# Importarea librăriilor necesare\n",
    "from sklearn.impute import SimpleImputer\n",
    "\n",
    "# Definirea coloanelor categorice și numerice\n",
    "categorical_features = [\"workclass\", \"education\", \"marital-status\", \"occupation\", \"relationship\", \"race\", \"sex\", \"native-country\"]\n",
    "numerical_features = [\"age\", \"fnlwgt\", \"education-num\", \"capital-gain\", \"capital-loss\", \"hours-per-week\"]\n",
    "\n",
    "# Crearea imputatorilor\n",
    "cat_imputer = SimpleImputer(strategy='most_frequent')\n",
    "num_imputer = SimpleImputer(strategy='mean')\n",
    "\n",
    "# Aplicarea imputării pentru valorile lipsă\n",
    "data[categorical_features] = cat_imputer.fit_transform(data[categorical_features])\n",
    "data[numerical_features] = num_imputer.fit_transform(data[numerical_features])\n",
    "\n",
    "# Afișarea datasetului actualizat\n",
    "data.head(10)\n"
   ]
  },
  {
   "cell_type": "markdown",
   "metadata": {},
   "source": [
    "Acest cod are scopul de a gestiona valorile lipsă din dataset prin completarea acestora folosind două strategii diferite pentru variabilele categorice și numerice.\n",
    "\n",
    "categorical_features include coloanele categorice (workclass, education, marital-status, etc.) iar numerical_features: include coloanele numerice (age, fnlwgt, capital-gain, etc.).\n",
    "\n",
    "Pentru variabilele categorice (categorical_features), valorile lipsă sunt completate cu cea mai frecventă valoare (valoarea modală) folosind SimpleImputer(strategy='most_frequent').\n",
    "\n",
    "Pentru variabilele numerice (numerical_features), valorile lipsă sunt completate cu media coloanei respective folosind SimpleImputer(strategy='mean').\n",
    "\n"
   ]
  },
  {
   "cell_type": "code",
   "execution_count": 8,
   "metadata": {},
   "outputs": [
    {
     "name": "stdout",
     "output_type": "stream",
     "text": [
      "\n",
      "Missing values after handling:\n",
      " age               0\n",
      "workclass         0\n",
      "fnlwgt            0\n",
      "education         0\n",
      "education-num     0\n",
      "marital-status    0\n",
      "occupation        0\n",
      "relationship      0\n",
      "race              0\n",
      "sex               0\n",
      "capital-gain      0\n",
      "capital-loss      0\n",
      "hours-per-week    0\n",
      "native-country    0\n",
      "income            0\n",
      "dtype: int64\n"
     ]
    }
   ],
   "source": [
    "# Verific dacă mai avem valori lipsă\n",
    "print(\"\\nMissing values after handling:\\n\", data.isnull().sum())"
   ]
  },
  {
   "cell_type": "markdown",
   "metadata": {},
   "source": [
    "#### Correct errors, inconsistencies, remove duplicates if any"
   ]
  },
  {
   "cell_type": "markdown",
   "metadata": {},
   "source": [
    "Remove duplicates"
   ]
  },
  {
   "cell_type": "code",
   "execution_count": 9,
   "metadata": {},
   "outputs": [
    {
     "name": "stdout",
     "output_type": "stream",
     "text": [
      "Before removing duplicates: (32561, 15)\n",
      "After removing duplicates: (32537, 15)\n"
     ]
    }
   ],
   "source": [
    "#Verific și elimin duplicatele\n",
    "print(\"Before removing duplicates:\", data.shape)\n",
    "data = data.drop_duplicates()\n",
    "print(\"After removing duplicates:\", data.shape)"
   ]
  },
  {
   "cell_type": "markdown",
   "metadata": {},
   "source": [
    "Acest cod este utilizat cu scopul de a verifica și elimina rândurile duplicate din dataset, asigurând că fiecare observație este unică.\n",
    "În primul rând se afișează dimensiunea inițială a dataset-ului folosind data.shape, care returnează numărul de rânduri și coloane iar mai apoi se elimină duplicatele cu data = data.drop_duplicates(), ceea ce creează un nou DataFrame fără rânduri duplicate și îl reasignează variabilei data.\n",
    "Îe afișează dimensiunea dataset-ului după eliminare, pentru a putea compara și verifica dacă s-au eliminat duplicate."
   ]
  },
  {
   "cell_type": "code",
   "execution_count": 10,
   "metadata": {},
   "outputs": [
    {
     "name": "stdout",
     "output_type": "stream",
     "text": [
      "\n",
      "Verificare duplicat:\n",
      " age               0\n",
      "workclass         0\n",
      "fnlwgt            0\n",
      "education         0\n",
      "education-num     0\n",
      "marital-status    0\n",
      "occupation        0\n",
      "relationship      0\n",
      "race              0\n",
      "sex               0\n",
      "capital-gain      0\n",
      "capital-loss      0\n",
      "hours-per-week    0\n",
      "native-country    0\n",
      "income            0\n",
      "dtype: int64\n"
     ]
    }
   ],
   "source": [
    "# Verific din nou pentru duplicat\n",
    "print(\"\\nVerificare duplicat:\\n\", data.isnull().sum())"
   ]
  },
  {
   "cell_type": "markdown",
   "metadata": {},
   "source": [
    "#### Outlier detection and treatment if any"
   ]
  },
  {
   "cell_type": "code",
   "execution_count": 11,
   "metadata": {},
   "outputs": [],
   "source": [
    "import matplotlib.pyplot as plt\n",
    "import seaborn as sns"
   ]
  },
  {
   "cell_type": "code",
   "execution_count": null,
   "metadata": {},
   "outputs": [
    {
     "data": {
      "image/png": "[encoded data removed]",
      "text/plain": [
       "<Figure size 1200x600 with 1 Axes>"
      ]
     },
     "metadata": {},
     "output_type": "display_data"
    }
   ],
   "source": [
    "# Folosesc un boxplot pentru vizualizarea de outlieri\n",
    "plt.figure(figsize=(12, 6))\n",
    "sns.boxplot(data=data.select_dtypes(include=[np.number]))\n",
    "plt.title(\"Boxplot for Outlier Detection\")\n",
    "plt.xticks(rotation=45)\n",
    "plt.show()"
   ]
  },
  {
   "cell_type": "markdown",
   "metadata": {},
   "source": [
    "Codul de mai sus creează un boxplot pentru a detecta outlieri în variabilele numerice din dataset.\n",
    "\n",
    "Acest boxplot prezintă distribuția variabilelor numerice din dataset și evidențiază outlierii pentru fiecare dintre ele. Variabila fnlwgt (Final Weight) conține mulți outlieri având o distribuție întinsă, cu numeroase valori extreme peste percentila superioară.De asemenea, variabilele capital-gain și capital_income conțin outlieri vizibili\n",
    "Celelalte variabile (age, education-num, capital-loss, hours-per-week, income) par să aibă distribuții mai controlate"
   ]
  },
  {
   "cell_type": "markdown",
   "metadata": {},
   "source": [
    "Outlier detection and treatment (IQR Method)"
   ]
  },
  {
   "cell_type": "code",
   "execution_count": 13,
   "metadata": {},
   "outputs": [
    {
     "name": "stdout",
     "output_type": "stream",
     "text": [
      "After outlier treatment:\n"
     ]
    },
    {
     "data": {
      "text/html": [
       "<div>\n",
       "<style scoped>\n",
       "    .dataframe tbody tr th:only-of-type {\n",
       "        vertical-align: middle;\n",
       "    }\n",
       "\n",
       "    .dataframe tbody tr th {\n",
       "        vertical-align: top;\n",
       "    }\n",
       "\n",
       "    .dataframe thead th {\n",
       "        text-align: right;\n",
       "    }\n",
       "</style>\n",
       "<table border=\"1\" class=\"dataframe\">\n",
       "  <thead>\n",
       "    <tr style=\"text-align: right;\">\n",
       "      <th></th>\n",
       "      <th>age</th>\n",
       "      <th>workclass</th>\n",
       "      <th>fnlwgt</th>\n",
       "      <th>education</th>\n",
       "      <th>education-num</th>\n",
       "      <th>marital-status</th>\n",
       "      <th>occupation</th>\n",
       "      <th>relationship</th>\n",
       "      <th>race</th>\n",
       "      <th>sex</th>\n",
       "      <th>capital-gain</th>\n",
       "      <th>capital-loss</th>\n",
       "      <th>hours-per-week</th>\n",
       "      <th>native-country</th>\n",
       "      <th>income</th>\n",
       "    </tr>\n",
       "  </thead>\n",
       "  <tbody>\n",
       "    <tr>\n",
       "      <th>0</th>\n",
       "      <td>39.0</td>\n",
       "      <td>State-gov</td>\n",
       "      <td>77516.0</td>\n",
       "      <td>Bachelors</td>\n",
       "      <td>13.0</td>\n",
       "      <td>Never-married</td>\n",
       "      <td>Adm-clerical</td>\n",
       "      <td>Not-in-family</td>\n",
       "      <td>White</td>\n",
       "      <td>Male</td>\n",
       "      <td>0.0</td>\n",
       "      <td>0.0</td>\n",
       "      <td>40.0</td>\n",
       "      <td>United-States</td>\n",
       "      <td>&lt;=50K</td>\n",
       "    </tr>\n",
       "    <tr>\n",
       "      <th>1</th>\n",
       "      <td>50.0</td>\n",
       "      <td>Self-emp-not-inc</td>\n",
       "      <td>83311.0</td>\n",
       "      <td>Bachelors</td>\n",
       "      <td>13.0</td>\n",
       "      <td>Married-civ-spouse</td>\n",
       "      <td>Exec-managerial</td>\n",
       "      <td>Husband</td>\n",
       "      <td>White</td>\n",
       "      <td>Male</td>\n",
       "      <td>0.0</td>\n",
       "      <td>0.0</td>\n",
       "      <td>32.5</td>\n",
       "      <td>United-States</td>\n",
       "      <td>&lt;=50K</td>\n",
       "    </tr>\n",
       "    <tr>\n",
       "      <th>2</th>\n",
       "      <td>38.0</td>\n",
       "      <td>Private</td>\n",
       "      <td>215646.0</td>\n",
       "      <td>HS-grad</td>\n",
       "      <td>9.0</td>\n",
       "      <td>Divorced</td>\n",
       "      <td>Handlers-cleaners</td>\n",
       "      <td>Not-in-family</td>\n",
       "      <td>White</td>\n",
       "      <td>Male</td>\n",
       "      <td>0.0</td>\n",
       "      <td>0.0</td>\n",
       "      <td>40.0</td>\n",
       "      <td>United-States</td>\n",
       "      <td>&lt;=50K</td>\n",
       "    </tr>\n",
       "    <tr>\n",
       "      <th>3</th>\n",
       "      <td>53.0</td>\n",
       "      <td>Private</td>\n",
       "      <td>234721.0</td>\n",
       "      <td>11th</td>\n",
       "      <td>7.0</td>\n",
       "      <td>Married-civ-spouse</td>\n",
       "      <td>Handlers-cleaners</td>\n",
       "      <td>Husband</td>\n",
       "      <td>Black</td>\n",
       "      <td>Male</td>\n",
       "      <td>0.0</td>\n",
       "      <td>0.0</td>\n",
       "      <td>40.0</td>\n",
       "      <td>United-States</td>\n",
       "      <td>&lt;=50K</td>\n",
       "    </tr>\n",
       "    <tr>\n",
       "      <th>4</th>\n",
       "      <td>28.0</td>\n",
       "      <td>Private</td>\n",
       "      <td>338409.0</td>\n",
       "      <td>Bachelors</td>\n",
       "      <td>13.0</td>\n",
       "      <td>Married-civ-spouse</td>\n",
       "      <td>Prof-specialty</td>\n",
       "      <td>Wife</td>\n",
       "      <td>Black</td>\n",
       "      <td>Female</td>\n",
       "      <td>0.0</td>\n",
       "      <td>0.0</td>\n",
       "      <td>40.0</td>\n",
       "      <td>Cuba</td>\n",
       "      <td>&lt;=50K</td>\n",
       "    </tr>\n",
       "    <tr>\n",
       "      <th>5</th>\n",
       "      <td>37.0</td>\n",
       "      <td>Private</td>\n",
       "      <td>284582.0</td>\n",
       "      <td>Masters</td>\n",
       "      <td>14.0</td>\n",
       "      <td>Married-civ-spouse</td>\n",
       "      <td>Exec-managerial</td>\n",
       "      <td>Wife</td>\n",
       "      <td>White</td>\n",
       "      <td>Female</td>\n",
       "      <td>0.0</td>\n",
       "      <td>0.0</td>\n",
       "      <td>40.0</td>\n",
       "      <td>United-States</td>\n",
       "      <td>&lt;=50K</td>\n",
       "    </tr>\n",
       "    <tr>\n",
       "      <th>6</th>\n",
       "      <td>49.0</td>\n",
       "      <td>Private</td>\n",
       "      <td>160187.0</td>\n",
       "      <td>9th</td>\n",
       "      <td>5.0</td>\n",
       "      <td>Married-spouse-absent</td>\n",
       "      <td>Other-service</td>\n",
       "      <td>Not-in-family</td>\n",
       "      <td>Black</td>\n",
       "      <td>Female</td>\n",
       "      <td>0.0</td>\n",
       "      <td>0.0</td>\n",
       "      <td>32.5</td>\n",
       "      <td>Jamaica</td>\n",
       "      <td>&lt;=50K</td>\n",
       "    </tr>\n",
       "    <tr>\n",
       "      <th>7</th>\n",
       "      <td>52.0</td>\n",
       "      <td>Self-emp-not-inc</td>\n",
       "      <td>209642.0</td>\n",
       "      <td>HS-grad</td>\n",
       "      <td>9.0</td>\n",
       "      <td>Married-civ-spouse</td>\n",
       "      <td>Exec-managerial</td>\n",
       "      <td>Husband</td>\n",
       "      <td>White</td>\n",
       "      <td>Male</td>\n",
       "      <td>0.0</td>\n",
       "      <td>0.0</td>\n",
       "      <td>45.0</td>\n",
       "      <td>United-States</td>\n",
       "      <td>&gt;50K</td>\n",
       "    </tr>\n",
       "    <tr>\n",
       "      <th>8</th>\n",
       "      <td>31.0</td>\n",
       "      <td>Private</td>\n",
       "      <td>45781.0</td>\n",
       "      <td>Masters</td>\n",
       "      <td>14.0</td>\n",
       "      <td>Never-married</td>\n",
       "      <td>Prof-specialty</td>\n",
       "      <td>Not-in-family</td>\n",
       "      <td>White</td>\n",
       "      <td>Female</td>\n",
       "      <td>0.0</td>\n",
       "      <td>0.0</td>\n",
       "      <td>50.0</td>\n",
       "      <td>United-States</td>\n",
       "      <td>&gt;50K</td>\n",
       "    </tr>\n",
       "    <tr>\n",
       "      <th>9</th>\n",
       "      <td>42.0</td>\n",
       "      <td>Private</td>\n",
       "      <td>159449.0</td>\n",
       "      <td>Bachelors</td>\n",
       "      <td>13.0</td>\n",
       "      <td>Married-civ-spouse</td>\n",
       "      <td>Exec-managerial</td>\n",
       "      <td>Husband</td>\n",
       "      <td>White</td>\n",
       "      <td>Male</td>\n",
       "      <td>0.0</td>\n",
       "      <td>0.0</td>\n",
       "      <td>40.0</td>\n",
       "      <td>United-States</td>\n",
       "      <td>&gt;50K</td>\n",
       "    </tr>\n",
       "  </tbody>\n",
       "</table>\n",
       "</div>"
      ],
      "text/plain": [
       "    age         workclass    fnlwgt  education  education-num  \\\n",
       "0  39.0         State-gov   77516.0  Bachelors           13.0   \n",
       "1  50.0  Self-emp-not-inc   83311.0  Bachelors           13.0   \n",
       "2  38.0           Private  215646.0    HS-grad            9.0   \n",
       "3  53.0           Private  234721.0       11th            7.0   \n",
       "4  28.0           Private  338409.0  Bachelors           13.0   \n",
       "5  37.0           Private  284582.0    Masters           14.0   \n",
       "6  49.0           Private  160187.0        9th            5.0   \n",
       "7  52.0  Self-emp-not-inc  209642.0    HS-grad            9.0   \n",
       "8  31.0           Private   45781.0    Masters           14.0   \n",
       "9  42.0           Private  159449.0  Bachelors           13.0   \n",
       "\n",
       "          marital-status         occupation   relationship   race     sex  \\\n",
       "0          Never-married       Adm-clerical  Not-in-family  White    Male   \n",
       "1     Married-civ-spouse    Exec-managerial        Husband  White    Male   \n",
       "2               Divorced  Handlers-cleaners  Not-in-family  White    Male   \n",
       "3     Married-civ-spouse  Handlers-cleaners        Husband  Black    Male   \n",
       "4     Married-civ-spouse     Prof-specialty           Wife  Black  Female   \n",
       "5     Married-civ-spouse    Exec-managerial           Wife  White  Female   \n",
       "6  Married-spouse-absent      Other-service  Not-in-family  Black  Female   \n",
       "7     Married-civ-spouse    Exec-managerial        Husband  White    Male   \n",
       "8          Never-married     Prof-specialty  Not-in-family  White  Female   \n",
       "9     Married-civ-spouse    Exec-managerial        Husband  White    Male   \n",
       "\n",
       "   capital-gain  capital-loss  hours-per-week native-country income  \n",
       "0           0.0           0.0            40.0  United-States  <=50K  \n",
       "1           0.0           0.0            32.5  United-States  <=50K  \n",
       "2           0.0           0.0            40.0  United-States  <=50K  \n",
       "3           0.0           0.0            40.0  United-States  <=50K  \n",
       "4           0.0           0.0            40.0           Cuba  <=50K  \n",
       "5           0.0           0.0            40.0  United-States  <=50K  \n",
       "6           0.0           0.0            32.5        Jamaica  <=50K  \n",
       "7           0.0           0.0            45.0  United-States   >50K  \n",
       "8           0.0           0.0            50.0  United-States   >50K  \n",
       "9           0.0           0.0            40.0  United-States   >50K  "
      ]
     },
     "execution_count": 13,
     "metadata": {},
     "output_type": "execute_result"
    }
   ],
   "source": [
    "\n",
    "for col in numerical_features:\n",
    "    Q1 = data[col].quantile(0.25)\n",
    "    Q3 = data[col].quantile(0.75)\n",
    "    IQR = Q3 - Q1\n",
    "    lower_bound = Q1 - 1.5 * IQR\n",
    "    upper_bound = Q3 + 1.5 * IQR\n",
    "    data[col] = np.where(data[col] > upper_bound, upper_bound, np.where(data[col] < lower_bound, lower_bound, data[col]))\n",
    "print(\"After outlier treatment:\")\n",
    "data.head(10)"
   ]
  },
  {
   "cell_type": "markdown",
   "metadata": {},
   "source": [
    "Acest cod detectează și corectează outlierii din variabilele numerice utilizând Interquartile Range (IQR).\n",
    "\n",
    "În primul rând, codul iterează prin fiecare coloană numerică (numerical_features) pentru a detecta și corecta outlierii, mai departe, calculează prima (Q1, 25%) și a treia (Q3, 75%) quartilă a distribuției. De altfel, determină IQR-ul (IQR = Q3 - Q1), care măsoară intervalul dintre quartile.\n",
    "\n",
    "Mai mult, codul calculează limitele pentru outlieri unde lower_bound = Q1 - 1.5 * IQR face ca orice valoare sub această limită să fie considerată outlier inferior iar upper_bound = Q3 + 1.5 * IQR  face ca orice valoare peste această limită să fie considerată outlier superior.\n",
    "\n",
    "Astfel, se reduce impactul outlierilor extremi prin limitarea acestora la intervalul definit de IQR fiind și o metodă robustă pentru a evita ca valorile aberante să influențeze modelele de regresie."
   ]
  },
  {
   "cell_type": "markdown",
   "metadata": {},
   "source": [
    "#### Normalization / Standardization if necesarry"
   ]
  },
  {
   "cell_type": "code",
   "execution_count": 15,
   "metadata": {},
   "outputs": [
    {
     "name": "stdout",
     "output_type": "stream",
     "text": [
      "                age         fnlwgt  education-num  capital-gain  capital-loss  \\\n",
      "count  32537.000000   32537.000000   32537.000000       32537.0       32537.0   \n",
      "mean      38.559855  186824.961736      10.125165           0.0           0.0   \n",
      "std       13.554847   95118.115529       2.459436           0.0           0.0   \n",
      "min       17.000000   12285.000000       4.500000           0.0           0.0   \n",
      "25%       28.000000  117827.000000       9.000000           0.0           0.0   \n",
      "50%       37.000000  178356.000000      10.000000           0.0           0.0   \n",
      "75%       48.000000  236993.000000      12.000000           0.0           0.0   \n",
      "max       78.000000  415742.000000      16.000000           0.0           0.0   \n",
      "\n",
      "       hours-per-week  \n",
      "count    32537.000000  \n",
      "mean        41.203246  \n",
      "std          6.187352  \n",
      "min         32.500000  \n",
      "25%         40.000000  \n",
      "50%         40.000000  \n",
      "75%         45.000000  \n",
      "max         52.500000  \n"
     ]
    }
   ],
   "source": [
    "# Testez dacă este necesară standardizarea datelor\n",
    " \n",
    "import matplotlib.pyplot as plt\n",
    "numeric_columns = [\"age\", \"fnlwgt\", \"education-num\", \"capital-gain\", \"capital-loss\", \"hours-per-week\"]\n",
    "print(data[numeric_columns].describe())\n"
   ]
  },
  {
   "cell_type": "markdown",
   "metadata": {},
   "source": [
    "Acest cod verifică dacă standardizarea sau normalizarea datelor este necesară prin afișarea statisticilor descriptive ale variabilelor numerice din dataset.\n",
    "\n",
    "fnlwgt are o scară mult mai mare (variază între 12.285 și 415.724), ceea ce sugerează că poate fi necesară standardizarea pentru a evita ca această variabilă să domine modelele de învățare automată.\n",
    "\n",
    "capital-gain și capital-loss sunt doar 0, ceea ce indică fie o eroare în date, fie că aceste coloane nu sunt relevante în forma actuală\n",
    "\n"
   ]
  },
  {
   "cell_type": "code",
   "execution_count": 16,
   "metadata": {},
   "outputs": [
    {
     "data": {
      "image/png": "[encoded data removed]",
      "text/plain": [
       "<Figure size 1200x1800 with 12 Axes>"
      ]
     },
     "metadata": {},
     "output_type": "display_data"
    }
   ],
   "source": [
    "import matplotlib.pyplot as plt\n",
    "import seaborn as sns\n",
    "\n",
    "# Lista coloanelor numerice\n",
    "numeric_columns = [\"age\", \"fnlwgt\", \"education-num\", \"capital-gain\", \"capital-loss\", \"hours-per-week\"]\n",
    "\n",
    "# Crearea subploților\n",
    "fig, axes = plt.subplots(len(numeric_columns), 2, figsize=(12, 18))\n",
    "\n",
    "# Parcurgerea coloanelor numerice și afișarea distribuțiilor și boxplot-urilor\n",
    "for i, column in enumerate(numeric_columns):\n",
    "    # Histogramă cu Kernel Density Estimate (KDE)\n",
    "    sns.histplot(data[column], bins=30, kde=True, ax=axes[i, 0])\n",
    "    axes[i, 0].set_title(f\"Distribuția pentru {column}\")\n",
    "\n",
    "    # Boxplot pentru detectarea outlierilor\n",
    "    sns.boxplot(x=data[column], ax=axes[i, 1])\n",
    "    axes[i, 1].set_title(f\"Boxplot pentru {column}\")\n",
    "\n",
    "plt.tight_layout()\n",
    "plt.show()\n"
   ]
  },
  {
   "cell_type": "markdown",
   "metadata": {},
   "source": [
    "Acest cod creează vizualizări pentru analiza distribuției și detectarea outlierilor în variabilele numerice ale datasetului. Se definește o listă de coloane numerice și se generează două tipuri de grafice pentru fiecare coloană: (1) un histogramă cu KDE pentru a vizualiza distribuția datelor și (2) un boxplot pentru a identifica outlierii. "
   ]
  },
  {
   "cell_type": "markdown",
   "metadata": {},
   "source": [
    "Graficul pentru dstribuția vârstei (age) are o distribuție ușor asimetrică spre dreapta, cu cele mai multe valori între 20 și 50 de ani. Boxplot-ul nu indică outlieri semnificativi, ceea ce sugerează o distribuție relativ normală.\n",
    "\n",
    "Variabila fnlwgt (final weight) are o distribuție multimodală, ceea ce indică mai multe grupuri distincte în date. Boxplot-ul arată că există câteva valori extreme, dar acestea nu sunt foarte pronunțate. Această variabilă are o scală mare, ceea ce sugerează că standardizarea sau normalizarea ar putea fi benefică.\n",
    "\n",
    "Variabila education-num (nivelul de educație numeric) prezintă o distribuție neuniformă, cu valori concentrate la anumite niveluri (ex. 10, 12, 14, 16). A Boxplot-ul nu indică outlieri semnificativi."
   ]
  },
  {
   "cell_type": "markdown",
   "metadata": {},
   "source": [
    "capital-gain si capital-loss au o distributie extrem de asimetrica ceea ce poate să creeze probleme în ceea ce privește anumite modele de învățare automată."
   ]
  },
  {
   "cell_type": "markdown",
   "metadata": {},
   "source": [
    "Standardizarea datelor"
   ]
  },
  {
   "cell_type": "code",
   "execution_count": 17,
   "metadata": {},
   "outputs": [],
   "source": [
    "# Standardizarea datelor \n",
    "from sklearn.preprocessing import StandardScaler\n",
    "numeric_columns = [\"age\", \"fnlwgt\", \"education-num\", \"capital-gain\", \"capital-loss\", \"hours-per-week\"]"
   ]
  },
  {
   "cell_type": "code",
   "execution_count": 19,
   "metadata": {},
   "outputs": [
    {
     "name": "stdout",
     "output_type": "stream",
     "text": [
      "        age    fnlwgt  education-num  capital-gain  capital-loss  \\\n",
      "0  0.032472 -1.149209       1.168918           0.0           0.0   \n",
      "1  0.844002 -1.088284       1.168918           0.0           0.0   \n",
      "2 -0.041304  0.303007      -0.457496           0.0           0.0   \n",
      "3  1.065329  0.503550      -1.270703           0.0           0.0   \n",
      "4 -0.779058  1.593665       1.168918           0.0           0.0   \n",
      "\n",
      "   hours-per-week  \n",
      "0       -0.194472  \n",
      "1       -1.406640  \n",
      "2       -0.194472  \n",
      "3       -0.194472  \n",
      "4       -0.194472  \n"
     ]
    }
   ],
   "source": [
    "scaler = StandardScaler()\n",
    "data_standardized = data.copy()  # Creează o copie a datasetului original\n",
    "data_standardized[numeric_columns] = scaler.fit_transform(data[numeric_columns])\n",
    "print(data_standardized[numeric_columns].head())\n"
   ]
  },
  {
   "cell_type": "markdown",
   "metadata": {},
   "source": [
    "Codul aplică standardizarea datelor numerice folosind StandardScaler din sklearn.preprocessing și importă StandardScaler pentru scalarea datelor.\n",
    "\n",
    "Definește coloanele numerice care trebuie standardizate și creează o copie a datasetului (data_standardized = data.copy()) pentru a păstra datele originale.\n",
    "\n",
    "Aplică standardizarea (StandardScaler().fit_transform()) asupra coloanelor numerice astfel încât valorile sunt transformate astfel încât să aibă media = 0 și deviația standard = 1."
   ]
  },
  {
   "cell_type": "markdown",
   "metadata": {},
   "source": [
    "Toate valorile sunt acum centrate în jurul 0, ceea ce înseamnă că scara variabilelor este uniformizată iar coloana fnlwgt avea inițial o variație mare, iar acum valorile sunt aduse la o scară comparabilă cu celelalte variabile.\n",
    "\n",
    "capital-gain și capital-loss rămân 0 în majoritatea rândurilor, ceea ce confirmă că aceste variabile sunt puternic dezechilibrate și pot necesita tratament suplimentar (ex. transformare binară)."
   ]
  },
  {
   "cell_type": "markdown",
   "metadata": {},
   "source": [
    "#### Feature engeneering"
   ]
  },
  {
   "cell_type": "code",
   "execution_count": 21,
   "metadata": {},
   "outputs": [
    {
     "name": "stdout",
     "output_type": "stream",
     "text": [
      "    age age_group\n",
      "0  39.0     adult\n",
      "1  50.0     adult\n",
      "2  38.0     adult\n",
      "3  53.0  vârstnic\n",
      "4  28.0     tânăr\n"
     ]
    }
   ],
   "source": [
    "# Creează o copie a datasetului pentru a evita modificarea directă\n",
    "data_no_outliers = data.copy()\n",
    "\n",
    "# Gruparea vârstei în categorii\n",
    "bins = [0, 18, 35, 50, 65, 100]\n",
    "labels = [\"copil\", \"tânăr\", \"adult\", \"vârstnic\", \"senior\"]\n",
    "\n",
    "# Crearea unei noi coloane 'age_group'\n",
    "data_no_outliers[\"age_group\"] = pd.cut(data_no_outliers[\"age\"], bins=bins, labels=labels)\n",
    "\n",
    "# Verificare\n",
    "print(data_no_outliers[[\"age\", \"age_group\"]].head())\n",
    "\n"
   ]
  },
  {
   "cell_type": "markdown",
   "metadata": {},
   "source": [
    "Acest cod creează o nouă variabilă categorială age_group, care grupează vârstele în cinci categorii și se creează o copie a datasetului (data_no_outliers = data.copy()) pentru a nu modifica direct data."
   ]
  },
  {
   "cell_type": "code",
   "execution_count": 23,
   "metadata": {},
   "outputs": [
    {
     "name": "stdout",
     "output_type": "stream",
     "text": [
      "   age         workclass  fnlwgt  education  education-num  \\\n",
      "0   39         State-gov   77516  Bachelors             13   \n",
      "1   50  Self-emp-not-inc   83311  Bachelors             13   \n",
      "2   38           Private  215646    HS-grad              9   \n",
      "3   53           Private  234721       11th              7   \n",
      "4   28           Private  338409  Bachelors             13   \n",
      "\n",
      "       marital-status         occupation   relationship   race     sex  \\\n",
      "0       Never-married       Adm-clerical  Not-in-family  White    Male   \n",
      "1  Married-civ-spouse    Exec-managerial        Husband  White    Male   \n",
      "2            Divorced  Handlers-cleaners  Not-in-family  White    Male   \n",
      "3  Married-civ-spouse  Handlers-cleaners        Husband  Black    Male   \n",
      "4  Married-civ-spouse     Prof-specialty           Wife  Black  Female   \n",
      "\n",
      "   capital-gain  capital-loss  hours-per-week native-country income  \\\n",
      "0          2174             0              40  United-States  <=50K   \n",
      "1             0             0              13  United-States  <=50K   \n",
      "2             0             0              40  United-States  <=50K   \n",
      "3             0             0              40  United-States  <=50K   \n",
      "4             0             0              40           Cuba  <=50K   \n",
      "\n",
      "   age_copil  age_tânăr  age_adult  age_vârstnic  age_senior  \n",
      "0      False      False       True         False       False  \n",
      "1      False      False       True         False       False  \n",
      "2      False      False       True         False       False  \n",
      "3      False      False      False          True       False  \n",
      "4      False       True      False         False       False  \n"
     ]
    }
   ],
   "source": [
    "# Reîncărcare librării necesare după resetare\n",
    "import pandas as pd\n",
    "\n",
    "# Reîncărcare dataset și recreare 'age_group' \n",
    "data_url = \"https://archive.ics.uci.edu/ml/machine-learning-databases/adult/adult.data\"\n",
    "columns = [\n",
    "    \"age\", \"workclass\", \"fnlwgt\", \"education\", \"education-num\", \"marital-status\",\n",
    "    \"occupation\", \"relationship\", \"race\", \"sex\", \"capital-gain\", \"capital-loss\",\n",
    "    \"hours-per-week\", \"native-country\", \"income\"\n",
    "]\n",
    "\n",
    "# Citirea datelor\n",
    "data = pd.read_csv(data_url, header=None, names=columns, na_values=\" ?\", skipinitialspace=True)\n",
    "\n",
    "# Definirea intervalelor pentru gruparea vârstei\n",
    "bins = [0, 18, 35, 50, 65, 100]\n",
    "labels = [\"copil\", \"tânăr\", \"adult\", \"vârstnic\", \"senior\"]\n",
    "\n",
    "# Crearea unui dataset nou și adăugarea coloanei 'age_group'\n",
    "data_no_outliers = data.copy()\n",
    "data_no_outliers[\"age_group\"] = pd.cut(data_no_outliers[\"age\"], bins=bins, labels=labels)\n",
    "\n",
    "# Aplicare One-Hot Encoding pe variabila 'age_group'\n",
    "data_encoded = pd.get_dummies(data_no_outliers, columns=['age_group'], prefix='age')\n",
    "\n",
    "# Afișare rezultat\n",
    "print(data_encoded.head())\n",
    "\n"
   ]
  },
  {
   "cell_type": "markdown",
   "metadata": {},
   "source": [
    "#### Encoding pentru toate variabilele categoriale"
   ]
  },
  {
   "cell_type": "code",
   "execution_count": 26,
   "metadata": {},
   "outputs": [
    {
     "name": "stdout",
     "output_type": "stream",
     "text": [
      "Coloanele din data_encoded:\n",
      " Index(['age', 'fnlwgt', 'education-num', 'capital-gain', 'capital-loss',\n",
      "       'hours-per-week', 'income', 'age_copil', 'age_tânăr', 'age_adult',\n",
      "       ...\n",
      "       'native-country_Portugal', 'native-country_Puerto-Rico',\n",
      "       'native-country_Scotland', 'native-country_South',\n",
      "       'native-country_Taiwan', 'native-country_Thailand',\n",
      "       'native-country_Trinadad&Tobago', 'native-country_United-States',\n",
      "       'native-country_Vietnam', 'native-country_Yugoslavia'],\n",
      "      dtype='object', length=106)\n"
     ]
    }
   ],
   "source": [
    "print(\"Coloanele din data_encoded:\\n\", data_encoded.columns)\n"
   ]
  },
  {
   "cell_type": "code",
   "execution_count": 27,
   "metadata": {},
   "outputs": [
    {
     "name": "stdout",
     "output_type": "stream",
     "text": [
      "Coloane existente pentru encoding: ['workclass', 'education', 'marital-status', 'occupation', 'relationship', 'race', 'sex', 'native-country']\n",
      "   age  fnlwgt  education-num  capital-gain  capital-loss  hours-per-week  \\\n",
      "0   39   77516             13          2174             0              40   \n",
      "1   50   83311             13             0             0              13   \n",
      "2   38  215646              9             0             0              40   \n",
      "3   53  234721              7             0             0              40   \n",
      "4   28  338409             13             0             0              40   \n",
      "\n",
      "  income age_group  workclass_Federal-gov  workclass_Local-gov  ...  \\\n",
      "0  <=50K     adult                  False                False  ...   \n",
      "1  <=50K     adult                  False                False  ...   \n",
      "2  <=50K     adult                  False                False  ...   \n",
      "3  <=50K  vârstnic                  False                False  ...   \n",
      "4  <=50K     tânăr                  False                False  ...   \n",
      "\n",
      "   native-country_Portugal  native-country_Puerto-Rico  \\\n",
      "0                    False                       False   \n",
      "1                    False                       False   \n",
      "2                    False                       False   \n",
      "3                    False                       False   \n",
      "4                    False                       False   \n",
      "\n",
      "   native-country_Scotland  native-country_South  native-country_Taiwan  \\\n",
      "0                    False                 False                  False   \n",
      "1                    False                 False                  False   \n",
      "2                    False                 False                  False   \n",
      "3                    False                 False                  False   \n",
      "4                    False                 False                  False   \n",
      "\n",
      "   native-country_Thailand  native-country_Trinadad&Tobago  \\\n",
      "0                    False                           False   \n",
      "1                    False                           False   \n",
      "2                    False                           False   \n",
      "3                    False                           False   \n",
      "4                    False                           False   \n",
      "\n",
      "   native-country_United-States  native-country_Vietnam  \\\n",
      "0                          True                   False   \n",
      "1                          True                   False   \n",
      "2                          True                   False   \n",
      "3                          True                   False   \n",
      "4                         False                   False   \n",
      "\n",
      "   native-country_Yugoslavia  \n",
      "0                      False  \n",
      "1                      False  \n",
      "2                      False  \n",
      "3                      False  \n",
      "4                      False  \n",
      "\n",
      "[5 rows x 102 columns]\n"
     ]
    }
   ],
   "source": [
    "categorical_columns = [\"workclass\", \"education\", \"marital-status\", \n",
    "                       \"occupation\", \"relationship\", \"race\", \"sex\", \"native-country\"]\n",
    "\n",
    "# Verificăm ce coloane sunt în dataset\n",
    "existing_categorical = [col for col in categorical_columns if col in data_no_outliers.columns]\n",
    "print(\"Coloane existente pentru encoding:\", existing_categorical)\n",
    "\n",
    "# Aplicăm One-Hot Encoding doar pe coloanele care există\n",
    "data_encoded = pd.get_dummies(data_no_outliers, columns=existing_categorical, drop_first=True)\n",
    "\n",
    "print(data_encoded.head())  # Verificare\n"
   ]
  },
  {
   "cell_type": "markdown",
   "metadata": {},
   "source": [
    "Acest cod aplică One-Hot Encoding doar pe variabilele categoriale existente în dataset, evitând astfel erori cauzate de lipsa unor coloane. Mai întâi, definește lista de coloane categoriale (workclass, education, marital-status, occupation, relationship, race, sex, native-country). Apoi, verifică ce coloane din această listă sunt efectiv prezente în datasetul data_no_outliers și le salvează într-o nouă listă (existing_categorical). După această verificare, aplică One-Hot Encoding folosind pd.get_dummies(), transformând fiecare categorie într-o coloană binară (0 sau 1), și elimină prima categorie din fiecare set de variabile pentru a evita probleme de multicolinearitate (drop_first=True). În final, codul afișează primele rânduri ale datasetului transformat pentru verificare. Acest proces este esențial pentru pregătirea datelor înainte de a aplica modele de regresie sau clasificare, asigurând compatibilitatea acestora cu algoritmii de Machine Learning.\n",
    "\n",
    "\n",
    "\n",
    "\n",
    "\n",
    "\n",
    "\n"
   ]
  },
  {
   "cell_type": "markdown",
   "metadata": {},
   "source": [
    "Rezultatul afișează datasetul după aplicarea One-Hot Encoding pe variabilele categoriale existente. În partea superioară, vedem coloanele originale ale datasetului, inclusiv variabile numerice precum age, fnlwgt, education-num, capital-gain, capital-loss și hours-per-week. În partea inferioară, apar noile coloane generate de encoding pentru variabilele categoriale, cum ar fi workclass_Federal-gov, workclass_Local-gov, și diferitele valori ale native-country (ex. native-country_Portugal, native-country_Puerto-Rico, native-country_Taiwan). Aceste coloane sunt acum transformate în variabile binare (True/False sau 1/0), ceea ce le face compatibile cu modelele de Machine Learning. Acest pas este esențial pentru antrenarea unor modele precum Regresia Liniară sau Arbori de Decizie, care necesită ca toate variabilele de intrare să fie numerice."
   ]
  },
  {
   "cell_type": "markdown",
   "metadata": {},
   "source": [
    "#### Label Encoding"
   ]
  },
  {
   "cell_type": "code",
   "execution_count": 29,
   "metadata": {},
   "outputs": [
    {
     "name": "stdout",
     "output_type": "stream",
     "text": [
      "   income\n",
      "0       0\n",
      "1       0\n",
      "2       0\n",
      "3       0\n",
      "4       0\n",
      "5       0\n",
      "6       0\n",
      "7       1\n",
      "8       1\n",
      "9       1\n"
     ]
    }
   ],
   "source": [
    "from sklearn.preprocessing import LabelEncoder\n",
    "\n",
    "label_encoder = LabelEncoder()\n",
    "data_encoded[\"income\"] = label_encoder.fit_transform(data_encoded[\"income\"])\n",
    "print(data_encoded[[\"income\"]].head(10))\n"
   ]
  },
  {
   "cell_type": "markdown",
   "metadata": {},
   "source": [
    "Acest cod aplică Label Encoding pe coloana \"income\" din datasetul data_encoded, transformând valorile categoriale (<=50K și >50K) în valori numerice (0 și 1)"
   ]
  },
  {
   "cell_type": "code",
   "execution_count": 30,
   "metadata": {},
   "outputs": [
    {
     "name": "stdout",
     "output_type": "stream",
     "text": [
      "[0 1]\n"
     ]
    }
   ],
   "source": [
    "print(label_encoder.classes_)  # Vezi mapping-ul original\n"
   ]
  },
  {
   "cell_type": "markdown",
   "metadata": {},
   "source": [
    "Train test split, save it"
   ]
  },
  {
   "cell_type": "code",
   "execution_count": 31,
   "metadata": {},
   "outputs": [],
   "source": [
    "# Importarea bibliotecilor necesare\n",
    "from sklearn.model_selection import train_test_split\n",
    "import pandas as pd\n",
    "import joblib  # Pentru salvarea seturilor de date\n"
   ]
  },
  {
   "cell_type": "code",
   "execution_count": 32,
   "metadata": {},
   "outputs": [],
   "source": [
    "# Definirea variabilelor independente (X) și a variabilei dependente (y)\n",
    "X = data_encoded.drop(columns=[\"income\"])  # Eliminăm coloana țintă\n",
    "y = data_encoded[\"income\"]  # Definim variabila țintă (ce vrem să prezicem)"
   ]
  },
  {
   "cell_type": "code",
   "execution_count": 33,
   "metadata": {},
   "outputs": [],
   "source": [
    "# Împărțirea datelor în set de antrenare (80%) și set de testare (20%)\n",
    "X_train, X_test, y_train, y_test = train_test_split(X, y, test_size=0.2, random_state=42)\n"
   ]
  },
  {
   "cell_type": "code",
   "execution_count": 34,
   "metadata": {},
   "outputs": [
    {
     "name": "stdout",
     "output_type": "stream",
     "text": [
      "Dimensiunea setului de antrenare: (26048, 101) (26048,)\n",
      "Dimensiunea setului de testare: (6513, 101) (6513,)\n"
     ]
    }
   ],
   "source": [
    "# Afișarea dimensiunilor seturilor pentru verificare\n",
    "print(\"Dimensiunea setului de antrenare:\", X_train.shape, y_train.shape)\n",
    "print(\"Dimensiunea setului de testare:\", X_test.shape, y_test.shape)"
   ]
  },
  {
   "cell_type": "code",
   "execution_count": 35,
   "metadata": {},
   "outputs": [
    {
     "data": {
      "text/plain": [
       "['y_test.pkl']"
      ]
     },
     "execution_count": 35,
     "metadata": {},
     "output_type": "execute_result"
    }
   ],
   "source": [
    "# Salvarea seturilor de date pentru utilizare ulterioară\n",
    "joblib.dump(X_train, \"X_train.pkl\")\n",
    "joblib.dump(X_test, \"X_test.pkl\")\n",
    "joblib.dump(y_train, \"y_train.pkl\")\n",
    "joblib.dump(y_test, \"y_test.pkl\")\n"
   ]
  },
  {
   "cell_type": "code",
   "execution_count": 36,
   "metadata": {},
   "outputs": [
    {
     "name": "stdout",
     "output_type": "stream",
     "text": [
      "Seturile de date au fost salvate cu succes!\n"
     ]
    }
   ],
   "source": [
    "print(\"Seturile de date au fost salvate cu succes!\")"
   ]
  },
  {
   "cell_type": "markdown",
   "metadata": {},
   "source": [
    "Salvare ca CSV"
   ]
  },
  {
   "cell_type": "code",
   "execution_count": 39,
   "metadata": {},
   "outputs": [
    {
     "name": "stdout",
     "output_type": "stream",
     "text": [
      "Dimensiunea setului de antrenare: (26048, 101) (26048,)\n",
      "Dimensiunea setului de testare: (6513, 101) (6513,)\n",
      "Seturile de date au fost salvate cu succes în format CSV!\n"
     ]
    }
   ],
   "source": [
    "import pandas as pd\n",
    "from sklearn.model_selection import train_test_split\n",
    "\n",
    "# Definirea variabilelor independente (X) și a variabilei dependente (y)\n",
    "X = data_encoded.drop(columns=[\"income\"])  # Eliminăm coloana țintă\n",
    "y = data_encoded[\"income\"]  # Definim variabila țintă\n",
    "\n",
    "# Împărțirea datelor în set de antrenare (80%) și set de testare (20%)\n",
    "X_train, X_test, y_train, y_test = train_test_split(X, y, test_size=0.2, random_state=42)\n",
    "\n",
    "# Afișarea dimensiunilor seturilor pentru verificare\n",
    "print(\"Dimensiunea setului de antrenare:\", X_train.shape, y_train.shape)\n",
    "print(\"Dimensiunea setului de testare:\", X_test.shape, y_test.shape)\n",
    "\n",
    "# Salvarea seturilor de date în fișiere CSV\n",
    "X_train.to_csv(\"X_train.csv\", index=False)\n",
    "X_test.to_csv(\"X_test.csv\", index=False)\n",
    "y_train.to_csv(\"y_train.csv\", index=False)\n",
    "y_test.to_csv(\"y_test.csv\", index=False)\n",
    "\n",
    "print(\"Seturile de date au fost salvate cu succes în format CSV!\")\n"
   ]
  },
  {
   "cell_type": "code",
   "execution_count": null,
   "metadata": {},
   "outputs": [],
   "source": []
  }
 ],
 "metadata": {
  "kernelspec": {
   "display_name": "curs1",
   "language": "python",
   "name": "python3"
  },
  "language_info": {
   "codemirror_mode": {
    "name": "ipython",
    "version": 3
   },
   "file_extension": ".py",
   "mimetype": "text/x-python",
   "name": "python",
   "nbconvert_exporter": "python",
   "pygments_lexer": "ipython3",
   "version": "3.12.8"
  }
 },
 "nbformat": 4,
 "nbformat_minor": 2
}
