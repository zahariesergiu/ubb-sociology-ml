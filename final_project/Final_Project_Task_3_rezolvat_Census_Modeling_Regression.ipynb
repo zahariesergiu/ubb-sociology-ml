{
  "cells": [
    {
      "cell_type": "markdown",
      "metadata": {
        "id": "ydHb_ZL5yy6f"
      },
      "source": [
        "# **Final Project Task 3 - Census Modeling Regression**"
      ]
    },
    {
      "cell_type": "markdown",
      "metadata": {
        "id": "hnzXS8Oo9jwY"
      },
      "source": [
        "Requirements\n",
        "\n",
        "- You can use models (estmators) from sklearn, but feel free to use any library for traditional ML. \n",
        "    - Note: in sklearn, the LinearRegression estimator is based on OLS, a statistical method. Please use the SGDRegressor estimator, since this is based on gradient descent. \n",
        "    - You can use LinearRegression estimator, but only as comparison with the SGDRegressor - Optional.\n",
        "\n",
        "- Model Selection and Setup:\n",
        "    - Implement multiple models, to solve a regression problem using traditional ML:\n",
        "        - Linear Regression\n",
        "        - Decision Tree Regression\n",
        "        - Random Forest Regression - Optional\n",
        "        - Ridge Regression - Optional\n",
        "        - Lasso Regression - Optional\n",
        "    - Choose a loss (or experiment with different losses) for the model and justify the choice.\n",
        "        - MSE, MAE, RMSE, Huber Loss or others\n",
        "    - Justify model choices based on dataset characteristics and task requirements; specify model pros and cons.\n",
        "\n",
        "\n",
        "- Data Preparation\n",
        "    - Use the preprocessed datasets from Task 1.\n",
        "    - From the train set, create an extra validation set, if necesarry. So in total there will be: train, validation and test datasets.\n",
        "    - Be sure all models have their data preprocessed as needed. Some models require different, or no encoding for some features.\n",
        "\n",
        "\n",
        "- Model Training and Experimentation\n",
        "    - Establish a Baseline Model:\n",
        "        - For each model type, train a simple model with default settings as a baseline.\n",
        "        - Evaluate its performance to establish a benchmark for comparison.\n",
        "    - Make plots with train, validation loss and metric on epochs (or on steps), if applicable. - Optional\n",
        "    - Feature Selection:\n",
        "        - Use insights from EDA in Task 2 to identify candidate features by analyzing patterns, relationships, and distributions.\n",
        "    - Experimentation:\n",
        "        - For each baseline model type, iteratively experiment with different combinations of features and transformations.\n",
        "        - Experiment with feature engineering techniques such as interaction terms, polynomial features, or scaling transformations.\n",
        "        - Identify the best model which have the best performance metrics on test set.\n",
        "    - Hyperparameter Tuning:\n",
        "        - Perform hyperparameter tuning only on the best-performing model after evaluating all model types and experiments.\n",
        "        - Avoid tuning models that do not show strong baseline performance or are unlikely to outperform others based on experimentation.\n",
        "        - Ensure that hyperparameter tuning is done after completing feature selection, baseline modeling, and experimentation, ensuring that the model is stable and representative of the dataset.\n",
        "\n",
        "\n",
        "- Model Evaluation\n",
        "    - Evaluate models on the test dataset using regression metrics:\n",
        "        - Mean Absolute Error (MAE)\n",
        "        - Mean Squared Error (MSE)\n",
        "        - Root Mean Squared Error (RMSE)\n",
        "        - R² Score\n",
        "    - Compare the results across different models. Save all experiment results into a table.\n",
        "\n",
        "Feature Importance - Optional\n",
        "- For applicable models (e.g., Decision Tree Regression), analyze feature importance and discuss its relevance to the problem.\n",
        "\n",
        "\n",
        "\n",
        "Deliverables\n",
        "\n",
        "- Notebook code with no errors.\n",
        "- Code and results from experiments. Create a table with all experiments results, include experiment name, metrics results.\n",
        "- Explain findings, choices, results.\n",
        "- Potential areas for improvement or further exploration.\n"
      ]
    },
    {
      "cell_type": "code",
      "execution_count": 124,
      "metadata": {
        "id": "xifylnglyn2W"
      },
      "outputs": [],
      "source": [
        "from sklearn.linear_model import LinearRegression, SGDRegressor, Ridge, Lasso\n",
        "from sklearn.tree import DecisionTreeRegressor\n",
        "from sklearn.ensemble import RandomForestRegressor\n",
        "from sklearn.metrics import mean_absolute_error, mean_squared_error, r2_score\n",
        "from sklearn.model_selection import train_test_split, GridSearchCV\n",
        "import matplotlib.pyplot as plt\n",
        "import numpy as np\n",
        "import pandas as pd\n"
      ]
    },
    {
      "cell_type": "code",
      "execution_count": 125,
      "metadata": {
        "colab": {
          "base_uri": "https://localhost:8080/",
          "height": 348
        },
        "id": "CzWyJfHkyn-8",
        "outputId": "633344dd-56a2-44a7-a237-a26873898c80"
      },
      "outputs": [
        {
          "data": {
            "text/html": [
              "<div>\n",
              "<style scoped>\n",
              "    .dataframe tbody tr th:only-of-type {\n",
              "        vertical-align: middle;\n",
              "    }\n",
              "\n",
              "    .dataframe tbody tr th {\n",
              "        vertical-align: top;\n",
              "    }\n",
              "\n",
              "    .dataframe thead th {\n",
              "        text-align: right;\n",
              "    }\n",
              "</style>\n",
              "<table border=\"1\" class=\"dataframe\">\n",
              "  <thead>\n",
              "    <tr style=\"text-align: right;\">\n",
              "      <th></th>\n",
              "      <th>age</th>\n",
              "      <th>workclass</th>\n",
              "      <th>fnlwgt</th>\n",
              "      <th>education</th>\n",
              "      <th>education-num</th>\n",
              "      <th>marital-status</th>\n",
              "      <th>occupation</th>\n",
              "      <th>relationship</th>\n",
              "      <th>race</th>\n",
              "      <th>sex</th>\n",
              "      <th>capital-gain</th>\n",
              "      <th>capital-loss</th>\n",
              "      <th>hours-per-week</th>\n",
              "      <th>native-country</th>\n",
              "      <th>income</th>\n",
              "    </tr>\n",
              "  </thead>\n",
              "  <tbody>\n",
              "    <tr>\n",
              "      <th>31521</th>\n",
              "      <td>33</td>\n",
              "      <td>Private</td>\n",
              "      <td>268451</td>\n",
              "      <td>Some-college</td>\n",
              "      <td>10</td>\n",
              "      <td>Divorced</td>\n",
              "      <td>Exec-managerial</td>\n",
              "      <td>Unmarried</td>\n",
              "      <td>White</td>\n",
              "      <td>Female</td>\n",
              "      <td>0</td>\n",
              "      <td>0</td>\n",
              "      <td>40</td>\n",
              "      <td>United-States</td>\n",
              "      <td>&lt;=50K</td>\n",
              "    </tr>\n",
              "    <tr>\n",
              "      <th>11721</th>\n",
              "      <td>24</td>\n",
              "      <td>Private</td>\n",
              "      <td>204226</td>\n",
              "      <td>Masters</td>\n",
              "      <td>14</td>\n",
              "      <td>Never-married</td>\n",
              "      <td>Prof-specialty</td>\n",
              "      <td>Not-in-family</td>\n",
              "      <td>White</td>\n",
              "      <td>Female</td>\n",
              "      <td>0</td>\n",
              "      <td>0</td>\n",
              "      <td>40</td>\n",
              "      <td>United-States</td>\n",
              "      <td>&lt;=50K</td>\n",
              "    </tr>\n",
              "    <tr>\n",
              "      <th>30707</th>\n",
              "      <td>27</td>\n",
              "      <td>?</td>\n",
              "      <td>146651</td>\n",
              "      <td>HS-grad</td>\n",
              "      <td>9</td>\n",
              "      <td>Married-civ-spouse</td>\n",
              "      <td>?</td>\n",
              "      <td>Own-child</td>\n",
              "      <td>White</td>\n",
              "      <td>Female</td>\n",
              "      <td>0</td>\n",
              "      <td>0</td>\n",
              "      <td>15</td>\n",
              "      <td>United-States</td>\n",
              "      <td>&lt;=50K</td>\n",
              "    </tr>\n",
              "    <tr>\n",
              "      <th>26454</th>\n",
              "      <td>28</td>\n",
              "      <td>Local-gov</td>\n",
              "      <td>220754</td>\n",
              "      <td>HS-grad</td>\n",
              "      <td>9</td>\n",
              "      <td>Separated</td>\n",
              "      <td>Transport-moving</td>\n",
              "      <td>Own-child</td>\n",
              "      <td>White</td>\n",
              "      <td>Female</td>\n",
              "      <td>0</td>\n",
              "      <td>0</td>\n",
              "      <td>25</td>\n",
              "      <td>United-States</td>\n",
              "      <td>&lt;=50K</td>\n",
              "    </tr>\n",
              "    <tr>\n",
              "      <th>21611</th>\n",
              "      <td>24</td>\n",
              "      <td>Private</td>\n",
              "      <td>289448</td>\n",
              "      <td>Assoc-voc</td>\n",
              "      <td>11</td>\n",
              "      <td>Never-married</td>\n",
              "      <td>Adm-clerical</td>\n",
              "      <td>Own-child</td>\n",
              "      <td>Asian-Pac-Islander</td>\n",
              "      <td>Female</td>\n",
              "      <td>0</td>\n",
              "      <td>0</td>\n",
              "      <td>40</td>\n",
              "      <td>Philippines</td>\n",
              "      <td>&lt;=50K</td>\n",
              "    </tr>\n",
              "    <tr>\n",
              "      <th>7388</th>\n",
              "      <td>59</td>\n",
              "      <td>Private</td>\n",
              "      <td>193895</td>\n",
              "      <td>Some-college</td>\n",
              "      <td>10</td>\n",
              "      <td>Widowed</td>\n",
              "      <td>Adm-clerical</td>\n",
              "      <td>Not-in-family</td>\n",
              "      <td>White</td>\n",
              "      <td>Female</td>\n",
              "      <td>0</td>\n",
              "      <td>0</td>\n",
              "      <td>35</td>\n",
              "      <td>United-States</td>\n",
              "      <td>&lt;=50K</td>\n",
              "    </tr>\n",
              "    <tr>\n",
              "      <th>26962</th>\n",
              "      <td>17</td>\n",
              "      <td>Private</td>\n",
              "      <td>108273</td>\n",
              "      <td>10th</td>\n",
              "      <td>6</td>\n",
              "      <td>Never-married</td>\n",
              "      <td>Sales</td>\n",
              "      <td>Own-child</td>\n",
              "      <td>White</td>\n",
              "      <td>Female</td>\n",
              "      <td>0</td>\n",
              "      <td>0</td>\n",
              "      <td>12</td>\n",
              "      <td>United-States</td>\n",
              "      <td>&lt;=50K</td>\n",
              "    </tr>\n",
              "    <tr>\n",
              "      <th>11003</th>\n",
              "      <td>28</td>\n",
              "      <td>Private</td>\n",
              "      <td>181291</td>\n",
              "      <td>Bachelors</td>\n",
              "      <td>13</td>\n",
              "      <td>Never-married</td>\n",
              "      <td>Exec-managerial</td>\n",
              "      <td>Not-in-family</td>\n",
              "      <td>White</td>\n",
              "      <td>Female</td>\n",
              "      <td>0</td>\n",
              "      <td>1564</td>\n",
              "      <td>50</td>\n",
              "      <td>United-States</td>\n",
              "      <td>&gt;50K</td>\n",
              "    </tr>\n",
              "    <tr>\n",
              "      <th>28881</th>\n",
              "      <td>45</td>\n",
              "      <td>Private</td>\n",
              "      <td>236040</td>\n",
              "      <td>Some-college</td>\n",
              "      <td>10</td>\n",
              "      <td>Married-civ-spouse</td>\n",
              "      <td>Prof-specialty</td>\n",
              "      <td>Husband</td>\n",
              "      <td>White</td>\n",
              "      <td>Male</td>\n",
              "      <td>0</td>\n",
              "      <td>0</td>\n",
              "      <td>40</td>\n",
              "      <td>United-States</td>\n",
              "      <td>&gt;50K</td>\n",
              "    </tr>\n",
              "    <tr>\n",
              "      <th>15010</th>\n",
              "      <td>20</td>\n",
              "      <td>Private</td>\n",
              "      <td>195411</td>\n",
              "      <td>HS-grad</td>\n",
              "      <td>9</td>\n",
              "      <td>Never-married</td>\n",
              "      <td>Sales</td>\n",
              "      <td>Own-child</td>\n",
              "      <td>Black</td>\n",
              "      <td>Female</td>\n",
              "      <td>0</td>\n",
              "      <td>0</td>\n",
              "      <td>20</td>\n",
              "      <td>United-States</td>\n",
              "      <td>&lt;=50K</td>\n",
              "    </tr>\n",
              "  </tbody>\n",
              "</table>\n",
              "</div>"
            ],
            "text/plain": [
              "       age  workclass  fnlwgt     education  education-num  \\\n",
              "31521   33    Private  268451  Some-college             10   \n",
              "11721   24    Private  204226       Masters             14   \n",
              "30707   27          ?  146651       HS-grad              9   \n",
              "26454   28  Local-gov  220754       HS-grad              9   \n",
              "21611   24    Private  289448     Assoc-voc             11   \n",
              "7388    59    Private  193895  Some-college             10   \n",
              "26962   17    Private  108273          10th              6   \n",
              "11003   28    Private  181291     Bachelors             13   \n",
              "28881   45    Private  236040  Some-college             10   \n",
              "15010   20    Private  195411       HS-grad              9   \n",
              "\n",
              "           marital-status        occupation   relationship  \\\n",
              "31521            Divorced   Exec-managerial      Unmarried   \n",
              "11721       Never-married    Prof-specialty  Not-in-family   \n",
              "30707  Married-civ-spouse                 ?      Own-child   \n",
              "26454           Separated  Transport-moving      Own-child   \n",
              "21611       Never-married      Adm-clerical      Own-child   \n",
              "7388              Widowed      Adm-clerical  Not-in-family   \n",
              "26962       Never-married             Sales      Own-child   \n",
              "11003       Never-married   Exec-managerial  Not-in-family   \n",
              "28881  Married-civ-spouse    Prof-specialty        Husband   \n",
              "15010       Never-married             Sales      Own-child   \n",
              "\n",
              "                     race     sex  capital-gain  capital-loss  hours-per-week  \\\n",
              "31521               White  Female             0             0              40   \n",
              "11721               White  Female             0             0              40   \n",
              "30707               White  Female             0             0              15   \n",
              "26454               White  Female             0             0              25   \n",
              "21611  Asian-Pac-Islander  Female             0             0              40   \n",
              "7388                White  Female             0             0              35   \n",
              "26962               White  Female             0             0              12   \n",
              "11003               White  Female             0          1564              50   \n",
              "28881               White    Male             0             0              40   \n",
              "15010               Black  Female             0             0              20   \n",
              "\n",
              "      native-country income  \n",
              "31521  United-States  <=50K  \n",
              "11721  United-States  <=50K  \n",
              "30707  United-States  <=50K  \n",
              "26454  United-States  <=50K  \n",
              "21611    Philippines  <=50K  \n",
              "7388   United-States  <=50K  \n",
              "26962  United-States  <=50K  \n",
              "11003  United-States   >50K  \n",
              "28881  United-States   >50K  \n",
              "15010  United-States  <=50K  "
            ]
          },
          "execution_count": 125,
          "metadata": {},
          "output_type": "execute_result"
        }
      ],
      "source": [
        "data_url = \"https://archive.ics.uci.edu/ml/machine-learning-databases/adult/adult.data\"\n",
        "columns = [\n",
        "    \"age\", \"workclass\", \"fnlwgt\", \"education\", \"education-num\", \"marital-status\",\n",
        "    \"occupation\", \"relationship\", \"race\", \"sex\", \"capital-gain\", \"capital-loss\",\n",
        "    \"hours-per-week\", \"native-country\", \"income\"\n",
        "]\n",
        "\n",
        "data = pd.read_csv(data_url, header=None, names=columns, na_values=\" ?\", skipinitialspace=True)\n",
        "data.sample(10)"
      ]
    },
    {
      "cell_type": "code",
      "execution_count": null,
      "metadata": {},
      "outputs": [
        {
          "name": "stdout",
          "output_type": "stream",
          "text": [
            "       education-num  sex  income  age_group  workclass_Local-gov  \\\n",
            "15272      -0.421694    0       0  -1.385307                    0   \n",
            "15797      -1.978997    1       0  -1.385307                    0   \n",
            "7072       -1.978997    0       0  -0.653726                    0   \n",
            "3261       -0.032368    0       0  -1.385307                    0   \n",
            "23655       0.746284    1       0  -0.653726                    0   \n",
            "\n",
            "       workclass_Never-worked  workclass_Private  workclass_Self-emp-inc  \\\n",
            "15272                       0                  0                       0   \n",
            "15797                       0                  1                       0   \n",
            "7072                        0                  1                       0   \n",
            "3261                        0                  1                       0   \n",
            "23655                       0                  1                       0   \n",
            "\n",
            "       workclass_Self-emp-not-inc  workclass_State-gov  ...  \\\n",
            "15272                           0                    1  ...   \n",
            "15797                           0                    0  ...   \n",
            "7072                            0                    0  ...   \n",
            "3261                            0                    0  ...   \n",
            "23655                           0                    0  ...   \n",
            "\n",
            "       marital-status_Married-AF-spouse  marital-status_Married-civ-spouse  \\\n",
            "15272                                 0                                  1   \n",
            "15797                                 0                                  0   \n",
            "7072                                  0                                  1   \n",
            "3261                                  0                                  0   \n",
            "23655                                 0                                  0   \n",
            "\n",
            "       marital-status_Married-spouse-absent  marital-status_Never-married  \\\n",
            "15272                                     0                             0   \n",
            "15797                                     0                             1   \n",
            "7072                                      0                             0   \n",
            "3261                                      0                             1   \n",
            "23655                                     0                             0   \n",
            "\n",
            "       marital-status_Separated  marital-status_Widowed  \\\n",
            "15272                         0                       0   \n",
            "15797                         0                       0   \n",
            "7072                          0                       0   \n",
            "3261                          0                       0   \n",
            "23655                         0                       0   \n",
            "\n",
            "       race_Asian-Pac-Islander  race_Black  race_Other  race_White  \n",
            "15272                        0           0           0           1  \n",
            "15797                        0           0           0           1  \n",
            "7072                         0           0           0           1  \n",
            "3261                         0           0           0           1  \n",
            "23655                        0           0           0           1  \n",
            "\n",
            "[5 rows x 21 columns]\n",
            "       hours-per-week\n",
            "15272              40\n",
            "15797              25\n",
            "7072               45\n",
            "3261               40\n",
            "23655              44\n"
          ]
        }
      ],
      "source": [
        "# 1. Load Data\n",
        "x_train = pd.read_csv('x_train.csv')\n",
        "y_train = pd.read_csv('y_train.csv')\n",
        "x_test = pd.read_csv('x_test.csv')\n",
        "y_test = pd.read_csv('y_test.csv')\n",
        "\n",
        "# Creating a validation set from the training set.\n",
        "x_train, x_val, y_train, y_val = train_test_split(x_train, y_train, test_size=0.2, random_state=42)\n",
        "\n",
        "# Verify if the data has been correctly loaded\n",
        "print(x_train.head())\n",
        "print(y_train.head())"
      ]
    },
    {
      "cell_type": "code",
      "execution_count": null,
      "metadata": {},
      "outputs": [],
      "source": [
        "# Transformation into a 1D array after the train-validation split\n",
        "if isinstance(y_train, pd.DataFrame):\n",
        "    y_train = y_train.values.ravel()\n",
        "if isinstance(y_val, pd.DataFrame):\n",
        "    y_val = y_val.values.ravel()"
      ]
    },
    {
      "cell_type": "markdown",
      "metadata": {},
      "source": [
        "This step of transforming into 1D arrays ensures that y_train and y_val are 1D arrays before being used in model training and evaluation\n"
      ]
    },
    {
      "cell_type": "code",
      "execution_count": 128,
      "metadata": {},
      "outputs": [
        {
          "name": "stdout",
          "output_type": "stream",
          "text": [
            "(20823,)\n",
            "(5206,)\n"
          ]
        }
      ],
      "source": [
        "print(y_train.shape)\n",
        "print(y_val.shape)"
      ]
    },
    {
      "cell_type": "code",
      "execution_count": null,
      "metadata": {},
      "outputs": [
        {
          "name": "stdout",
          "output_type": "stream",
          "text": [
            "Test MSE (SGD Regressor): 133.44925534650807\n",
            "Test MAE (SGD Regressor): 7.9124059381502025\n",
            "Test RMSE (SGD Regressor): 11.552023863657315\n",
            "Test R² (SGD Regressor): 0.12755082867368517\n"
          ]
        }
      ],
      "source": [
        "#  Train the SGDRegressor model\n",
        "model_sgd = SGDRegressor(random_state=42)\n",
        "model_sgd.fit(x_train, y_train)\n",
        "\n",
        "# Validation on the validation set\n",
        "y_val_pred_sgd = model_sgd.predict(x_val)\n",
        "\n",
        "# Evaluation on the test set\n",
        "y_test_pred_sgd = model_sgd.predict(x_test)\n",
        "\n",
        "# Evaluation metrics for the test set\n",
        "test_mse_sgd = mean_squared_error(y_test, y_test_pred_sgd)\n",
        "test_mae_sgd = mean_absolute_error(y_test, y_test_pred_sgd)\n",
        "test_rmse_sgd = test_mse_sgd ** 0.5\n",
        "test_r2_sgd = r2_score(y_test, y_test_pred_sgd)\n",
        "\n",
        "# Display results\n",
        "print(f\"Test MSE (SGD Regressor): {test_mse_sgd}\")\n",
        "print(f\"Test MAE (SGD Regressor): {test_mae_sgd}\")\n",
        "print(f\"Test RMSE (SGD Regressor): {test_rmse_sgd}\")\n",
        "print(f\"Test R² (SGD Regressor): {test_r2_sgd}\")"
      ]
    },
    {
      "cell_type": "code",
      "execution_count": null,
      "metadata": {},
      "outputs": [
        {
          "name": "stdout",
          "output_type": "stream",
          "text": [
            "Test MSE (Linear Regression): 132.70190430591256\n",
            "Test MAE (Linear Regression): 7.851803116255622\n",
            "Test RMSE (Linear Regression): 11.51963125737593\n",
            "Test R² (Linear Regression): 0.1324367742292777\n"
          ]
        }
      ],
      "source": [
        "# Train the Linear Regression model\n",
        "model_lr = LinearRegression()\n",
        "model_lr.fit(x_train, y_train)\n",
        "\n",
        "# Validation on the validation set\n",
        "y_val_pred_lr = model_lr.predict(x_val)\n",
        "\n",
        "# Evaluation on the test set\n",
        "y_test_pred_lr = model_lr.predict(x_test)\n",
        "\n",
        "# Evaluation metrics for the test set\n",
        "test_mse_lr = mean_squared_error(y_test, y_test_pred_lr)\n",
        "test_mae_lr = mean_absolute_error(y_test, y_test_pred_lr)\n",
        "test_rmse_lr = test_mse_lr ** 0.5\n",
        "test_r2_lr = r2_score(y_test, y_test_pred_lr)\n",
        "\n",
        "# Display results\n",
        "print(f\"Test MSE (Linear Regression): {test_mse_lr}\")\n",
        "print(f\"Test MAE (Linear Regression): {test_mae_lr}\")\n",
        "print(f\"Test RMSE (Linear Regression): {test_rmse_lr}\")\n",
        "print(f\"Test R² (Linear Regression): {test_r2_lr}\")"
      ]
    },
    {
      "cell_type": "code",
      "execution_count": null,
      "metadata": {},
      "outputs": [
        {
          "name": "stdout",
          "output_type": "stream",
          "text": [
            "Test MSE (DecisionTreeRegressor): 140.40188205466416\n",
            "Test MAE (DecisionTreeRegressor): 8.106191320176594\n",
            "Test RMSE (DecisionTreeRegressor): 11.84913001256481\n",
            "Test R² (DecisionTreeRegressor): 0.08209674656343457\n"
          ]
        }
      ],
      "source": [
        "#  Train the Decision Tree Regression model\n",
        "model_dt = DecisionTreeRegressor(random_state=42)\n",
        "model_dt.fit(x_train, y_train)\n",
        "\n",
        "#  Validation on the validation set\n",
        "y_val_pred_dt = model_dt.predict(x_val)\n",
        "\n",
        "# Evaluation on the test set\n",
        "y_test_pred_dt = model_dt.predict(x_test)\n",
        "\n",
        "# Evaluation metrics for the test set\n",
        "test_mse_dt = mean_squared_error(y_test, y_test_pred_dt)\n",
        "test_mae_dt = mean_absolute_error(y_test, y_test_pred_dt)\n",
        "test_rmse_dt = test_mse_dt ** 0.5\n",
        "test_r2_dt = r2_score(y_test, y_test_pred_dt)\n",
        "\n",
        "# Display results\n",
        "print(f\"Test MSE (DecisionTreeRegressor): {test_mse_dt}\")\n",
        "print(f\"Test MAE (DecisionTreeRegressor): {test_mae_dt}\")\n",
        "print(f\"Test RMSE (DecisionTreeRegressor): {test_rmse_dt}\")\n",
        "print(f\"Test R² (DecisionTreeRegressor): {test_r2_dt}\")"
      ]
    },
    {
      "cell_type": "code",
      "execution_count": null,
      "metadata": {},
      "outputs": [
        {
          "name": "stdout",
          "output_type": "stream",
          "text": [
            "Test MSE (RandomForestRegressor): 129.43537984188094\n",
            "Test MAE (RandomForestRegressor): 7.893797569265532\n",
            "Test RMSE (RandomForestRegressor): 11.376967075714026\n",
            "Test R² (RandomForestRegressor): 0.15379228164190195\n"
          ]
        }
      ],
      "source": [
        "# Train the RandomForestRegressor model\n",
        "model_rf = RandomForestRegressor(random_state=42)\n",
        "model_rf.fit(x_train, y_train)\n",
        "\n",
        "# Validation on the validation set\n",
        "y_val_pred_rf = model_rf.predict(x_val)\n",
        "\n",
        "# Evaluation on the test set\n",
        "y_test_pred_rf = model_rf.predict(x_test)\n",
        "\n",
        "# Evaluation metrics for the test set\n",
        "test_mse_rf = mean_squared_error(y_test, y_test_pred_rf)\n",
        "test_mae_rf = mean_absolute_error(y_test, y_test_pred_rf)\n",
        "test_rmse_rf = test_mse_rf ** 0.5\n",
        "test_r2_rf = r2_score(y_test, y_test_pred_rf)\n",
        "\n",
        "# Display results\n",
        "print(f\"Test MSE (RandomForestRegressor): {test_mse_rf}\")\n",
        "print(f\"Test MAE (RandomForestRegressor): {test_mae_rf}\")\n",
        "print(f\"Test RMSE (RandomForestRegressor): {test_rmse_rf}\")\n",
        "print(f\"Test R² (RandomForestRegressor): {test_r2_rf}\")"
      ]
    },
    {
      "cell_type": "code",
      "execution_count": null,
      "metadata": {},
      "outputs": [
        {
          "name": "stdout",
          "output_type": "stream",
          "text": [
            "Test MSE (Ridge Regression): 132.71204188310557\n",
            "Test MAE (Ridge Regression): 7.852217380960577\n",
            "Test RMSE (Ridge Regression): 11.520071262067157\n",
            "Test R² (Ridge Regression): 0.13237049794472056\n"
          ]
        }
      ],
      "source": [
        "#  Train the Ridge Regression model\n",
        "model_ridge = Ridge(random_state=42)\n",
        "model_ridge.fit(x_train, y_train)\n",
        "\n",
        "# Validation on the validation set\n",
        "y_val_pred_ridge = model_ridge.predict(x_val)\n",
        "\n",
        "# Evaluation on the test set\n",
        "y_test_pred_ridge = model_ridge.predict(x_test)\n",
        "\n",
        "# Evaluation metrics for the test set\n",
        "test_mse_ridge = mean_squared_error(y_test, y_test_pred_ridge)\n",
        "test_mae_ridge = mean_absolute_error(y_test, y_test_pred_ridge)\n",
        "test_rmse_ridge = test_mse_ridge ** 0.5\n",
        "test_r2_ridge = r2_score(y_test, y_test_pred_ridge)\n",
        "\n",
        "# Display results\n",
        "print(f\"Test MSE (Ridge Regression): {test_mse_ridge}\")\n",
        "print(f\"Test MAE (Ridge Regression): {test_mae_ridge}\")\n",
        "print(f\"Test RMSE (Ridge Regression): {test_rmse_ridge}\")\n",
        "print(f\"Test R² (Ridge Regression): {test_r2_ridge}\")"
      ]
    },
    {
      "cell_type": "code",
      "execution_count": null,
      "metadata": {},
      "outputs": [
        {
          "name": "stdout",
          "output_type": "stream",
          "text": [
            "Test MSE (Lasso Regression): 146.35850651806885\n",
            "Test MAE (Lasso Regression): 7.5740431858507105\n",
            "Test RMSE (Lasso Regression): 12.097871983041847\n",
            "Test R² (Lasso Regression): 0.043154213212419745\n"
          ]
        }
      ],
      "source": [
        "# Train the Lasso Regression model\n",
        "model_lasso = Lasso(random_state=42)\n",
        "model_lasso.fit(x_train, y_train)\n",
        "\n",
        "# Validation on the validation set\n",
        "y_val_pred_lasso = model_lasso.predict(x_val)\n",
        "\n",
        "# Evaluation on the test set\n",
        "y_test_pred_lasso = model_lasso.predict(x_test)\n",
        "\n",
        "# Evaluation metrics for the test set\n",
        "test_mse_lasso = mean_squared_error(y_test, y_test_pred_lasso)\n",
        "test_mae_lasso = mean_absolute_error(y_test, y_test_pred_lasso)\n",
        "test_rmse_lasso = test_mse_lasso ** 0.5\n",
        "test_r2_lasso = r2_score(y_test, y_test_pred_lasso)\n",
        "\n",
        "# Display results\n",
        "print(f\"Test MSE (Lasso Regression): {test_mse_lasso}\")\n",
        "print(f\"Test MAE (Lasso Regression): {test_mae_lasso}\")\n",
        "print(f\"Test RMSE (Lasso Regression): {test_rmse_lasso}\")\n",
        "print(f\"Test R² (Lasso Regression): {test_r2_lasso}\")"
      ]
    },
    {
      "cell_type": "code",
      "execution_count": null,
      "metadata": {},
      "outputs": [
        {
          "name": "stdout",
          "output_type": "stream",
          "text": [
            "               Model         MSE       MAE       RMSE        R²\n",
            "0  Linear Regression  132.701904  7.851803  11.519631  0.132437\n",
            "1      Decision Tree  140.401882  8.106191  11.849130  0.082097\n",
            "2      Random Forest  129.435380  7.893798  11.376967  0.153792\n",
            "3              Ridge  132.712042  7.852217  11.520071  0.132370\n",
            "4              Lasso  146.358507  7.574043  12.097872  0.043154\n",
            "5      SGD Regressor  133.449255  7.912406  11.552024  0.127551\n"
          ]
        }
      ],
      "source": [
        "# Comparison of model performance\n",
        "results = {\n",
        "    'Model': ['Linear Regression', 'Decision Tree', 'Random Forest', 'Ridge', 'Lasso', 'SGD Regressor'],\n",
        "    'MSE': [test_mse_lr, test_mse_dt, test_mse_rf, test_mse_ridge, test_mse_lasso, test_mse_sgd],\n",
        "    'MAE': [test_mae_lr, test_mae_dt, test_mae_rf, test_mae_ridge, test_mae_lasso, test_mae_sgd],\n",
        "    'RMSE': [test_rmse_lr, test_rmse_dt, test_rmse_rf, test_rmse_ridge, test_rmse_lasso, test_rmse_sgd],\n",
        "    'R²': [test_r2_lr, test_r2_dt, test_r2_rf, test_r2_ridge, test_r2_lasso, test_r2_sgd]\n",
        "}\n",
        "\n",
        "# Creating a DataFrame for comparison\n",
        "import pandas as pd\n",
        "df_results = pd.DataFrame(results)\n",
        "print(df_results)"
      ]
    },
    {
      "cell_type": "markdown",
      "metadata": {},
      "source": [
        "The evaluation results of various regression models, including SGDRegressor, LinearRegression, DecisionTreeRegressor, RandomForestRegressor, RidgeRegression, and LassoRegression, indicate that RandomForestRegressor is the model with the best performance, achieving the lowest values for MSE (129.435380) and RMSE (11.376967), as well as the highest R² (0.153792). DecisionTreeRegressor performed the worst, with the highest values for MAE and MSE and the second-lowest R² (0.082097). The models LinearRegression, SGDRegressor, and RidgeRegression had similar performance, with nearly identical values for all four metrics, while LassoRegression had a slightly weaker performance. These results suggest that RandomForestRegressor is the most suitable model for predicting hours worked per week in this context."
      ]
    },
    {
      "cell_type": "markdown",
      "metadata": {},
      "source": [
        "Random Forest is an ensemble of decision trees, and one of its major advantages is that it reduces the risk of overfitting by aggregating the predictions of multiple trees. Each tree is trained on a different subset of data, and by combining their predictions, the model reaches a more robust solution. When the data has many features (explanatory variables), Random Forest is highly effective in selecting the most important features and eliminating the less relevant ones. This is a form of implicit feature selection that helps the model focus on the most relevant information. This behavior reduces the risk of including variables that are not significant for prediction and helps improve performance.\n",
        "\n",
        "Random Forest is the optimal choice for this dataset due to its ability to reduce overfitting, the stability it provides through the aggregation of multiple decision tree predictions, and its capability to capture complex nonlinear relationships. These characteristics make Random Forest a powerful model for complex regressions with high variability in the data."
      ]
    },
    {
      "cell_type": "code",
      "execution_count": null,
      "metadata": {},
      "outputs": [
        {
          "name": "stdout",
          "output_type": "stream",
          "text": [
            "Best parameters: {'max_depth': 10, 'max_features': 'sqrt', 'min_samples_leaf': 2, 'min_samples_split': 2, 'n_estimators': 200}\n",
            "Best RandomForest MSE: 119.55259903401809\n",
            "Best RandomForest MAE: 7.434897711228106\n",
            "Best RandomForest RMSE: 10.934011113677272\n",
            "Best RandomForest R²: 0.218402787739006\n"
          ]
        }
      ],
      "source": [
        "# HYPERPARAMETER TUNING for Random Forest Regressor\n",
        "model_rf = RandomForestRegressor(random_state=42)\n",
        "\n",
        "# Defining the hyperparameter grid\n",
        "param_grid = {\n",
        "    'n_estimators': [100, 200],\n",
        "    'max_depth': [10, 20, None],\n",
        "    'min_samples_split': [2, 5],\n",
        "    'min_samples_leaf': [1, 2],\n",
        "    'max_features': ['sqrt', 'log2', None]\n",
        "}\n",
        "\n",
        "# GridSearchCV for hyperparameter optimization\n",
        "grid_search = GridSearchCV(\n",
        "    estimator=model_rf,\n",
        "    param_grid=param_grid,\n",
        "    cv=5,\n",
        "    scoring='neg_mean_squared_error'\n",
        ")\n",
        "\n",
        "# Train the model\n",
        "grid_search.fit(x_train, y_train)\n",
        "\n",
        "# The best model from GridSearchCV\n",
        "best_model_rf = grid_search.best_estimator_\n",
        "\n",
        "# Predictions on the test set\n",
        "y_test_pred_best_rf = best_model_rf.predict(x_test)\n",
        "\n",
        "# Calculating MSE, MAE, RMSE, and R² on the test set\n",
        "test_mse_best_rf = mean_squared_error(y_test, y_test_pred_best_rf)\n",
        "test_mae_best_rf = mean_absolute_error(y_test, y_test_pred_best_rf)\n",
        "test_rmse_best_rf = test_mse_best_rf ** 0.5\n",
        "test_r2_best_rf = r2_score(y_test, y_test_pred_best_rf)\n",
        "\n",
        "# Display results\n",
        "print(f\"Best parameters: {grid_search.best_params_}\")\n",
        "print(f\"Best RandomForest MSE: {test_mse_best_rf}\")\n",
        "print(f\"Best RandomForest MAE: {test_mae_best_rf}\")\n",
        "print(f\"Best RandomForest RMSE: {test_rmse_best_rf}\")\n",
        "print(f\"Best RandomForest R²: {test_r2_best_rf}\")"
      ]
    },
    {
      "cell_type": "markdown",
      "metadata": {},
      "source": [
        "After hyperparameter tuning, the Random Forest model showed a significant improvement across all metrics (MSE, MAE, RMSE, and R²). In particular, MSE and RMSE decreased significantly, while R² increased, suggesting that the model explains more of the variability in the data and makes more accurate predictions.\n",
        "This is a clear improvement in performance and confirms that hyperparameter optimization had a positive impact on the model.\n"
      ]
    },
    {
      "cell_type": "code",
      "execution_count": null,
      "metadata": {},
      "outputs": [
        {
          "name": "stdout",
          "output_type": "stream",
          "text": [
            "                                 Feature  Importance\n",
            "3                              age_group    0.364905\n",
            "1                                    sex    0.139914\n",
            "0                          education-num    0.120080\n",
            "2                                 income    0.109100\n",
            "14          marital-status_Never-married    0.060293\n",
            "12     marital-status_Married-civ-spouse    0.058729\n",
            "7                 workclass_Self-emp-inc    0.034707\n",
            "16                marital-status_Widowed    0.026371\n",
            "8             workclass_Self-emp-not-inc    0.022260\n",
            "6                      workclass_Private    0.016866\n",
            "9                    workclass_State-gov    0.010387\n",
            "20                            race_White    0.008005\n",
            "18                            race_Black    0.006601\n",
            "4                    workclass_Local-gov    0.006311\n",
            "17               race_Asian-Pac-Islander    0.005266\n",
            "15              marital-status_Separated    0.004145\n",
            "13  marital-status_Married-spouse-absent    0.002380\n",
            "19                            race_Other    0.002141\n",
            "11      marital-status_Married-AF-spouse    0.000985\n",
            "10                 workclass_Without-pay    0.000372\n",
            "5                 workclass_Never-worked    0.000181\n"
          ]
        },
        {
          "data": {
            "image/png": "[encoded data removed]",
            "text/plain": [
              "<Figure size 1000x600 with 1 Axes>"
            ]
          },
          "metadata": {},
          "output_type": "display_data"
        }
      ],
      "source": [
        "# Obtain feature importances for Random Forest model\n",
        "feature_importances = best_model_rf.feature_importances_\n",
        "\n",
        "# Create a DataFrame to visualize the feature importances.\n",
        "feature_names = x_train.columns \n",
        "importance_df = pd.DataFrame({\n",
        "    'Feature': feature_names,\n",
        "    'Importance': feature_importances\n",
        "})\n",
        "\n",
        "# Sort the features by their importance\n",
        "importance_df = importance_df.sort_values(by='Importance', ascending=False)\n",
        "\n",
        "# Display the feature importances\n",
        "print(importance_df)\n",
        "\n",
        "# Graphical visualization of the feature importances.\n",
        "plt.figure(figsize=(10, 6))\n",
        "plt.barh(importance_df['Feature'], importance_df['Importance'], color='skyblue')\n",
        "plt.xlabel('Importance')\n",
        "plt.title('Feature Importance for Tuned Random Forest')\n",
        "plt.gca().invert_yaxis() \n",
        "plt.show()"
      ]
    },
    {
      "cell_type": "markdown",
      "metadata": {},
      "source": [
        "The chart presents the feature importances for a Tuned RandomForestRegressor model predicting \"hours-per-week\". On the Y-axis, the features are listed, while on the X-axis, the corresponding importance values for each feature are displayed. The most important features are \"age_group\", \"sex\", and \"education-num\", suggesting that they have the greatest impact on the model's predictions. Other features, such as \"income\", \"marital-status never married\", and \"marital-status married civ spouse\", have a lower importance but still contribute to the model's performance. This chart provides insight into the factors that most influence the number of hours worked per week."
      ]
    },
    {
      "cell_type": "code",
      "execution_count": 141,
      "metadata": {},
      "outputs": [
        {
          "name": "stdout",
          "output_type": "stream",
          "text": [
            "Best parameters (Ridge): {'alpha': 10}\n",
            "Best Ridge MSE: 132.76016201114192\n",
            "Best Ridge MAE: 7.85323845260115\n",
            "Best Ridge RMSE: 11.522159607085033\n",
            "Best Ridge R²: 0.13205590371397402\n"
          ]
        }
      ],
      "source": [
        "# Defining the Ridge model\n",
        "model_ridge = Ridge(random_state=42)\n",
        "\n",
        "# Defining the hyperparameter grid for alpha\n",
        "param_grid_ridge = {\n",
        "    'alpha': [0.1, 1, 10, 100, 1000]\n",
        "}\n",
        "\n",
        "# GridSearchCV for hyperparameter optimization\n",
        "grid_search_ridge = GridSearchCV(\n",
        "    estimator=model_ridge,\n",
        "    param_grid=param_grid_ridge,\n",
        "    cv=5,\n",
        "    scoring='neg_mean_squared_error'\n",
        ")\n",
        "\n",
        "# Training the model\n",
        "grid_search_ridge.fit(x_train, y_train)\n",
        "\n",
        "# The best model from GridSearchCV\n",
        "best_model_ridge = grid_search_ridge.best_estimator_\n",
        "\n",
        "# Predictions on the test set\n",
        "y_test_pred_best_ridge = best_model_ridge.predict(x_test)\n",
        "\n",
        "# Calculating MSE, MAE, RMSE, and R² on the test set\n",
        "test_mse_best_ridge = mean_squared_error(y_test, y_test_pred_best_ridge)\n",
        "test_mae_best_ridge = mean_absolute_error(y_test, y_test_pred_best_ridge)\n",
        "test_rmse_best_ridge = test_mse_best_ridge ** 0.5\n",
        "test_r2_best_ridge = r2_score(y_test, y_test_pred_best_ridge)\n",
        "\n",
        "# Display results\n",
        "print(f\"Best parameters (Ridge): {grid_search_ridge.best_params_}\")\n",
        "print(f\"Best Ridge MSE: {test_mse_best_ridge}\")\n",
        "print(f\"Best Ridge MAE: {test_mae_best_ridge}\")\n",
        "print(f\"Best Ridge RMSE: {test_rmse_best_ridge}\")\n",
        "print(f\"Best Ridge R²: {test_r2_best_ridge}\")"
      ]
    },
    {
      "cell_type": "markdown",
      "metadata": {},
      "source": [
        "The results obtained after tuning for Ridge were the same as before tuning, which means that the hyperparameter optimization did not bring improvements in the case of this model."
      ]
    },
    {
      "cell_type": "code",
      "execution_count": 144,
      "metadata": {},
      "outputs": [
        {
          "name": "stdout",
          "output_type": "stream",
          "text": [
            "Model Comparison: Metrics Overview\n",
            "               Model         MSE       MAE       RMSE        R²\n",
            "0  Linear Regression  132.701904  7.851803  11.519631  0.132437\n",
            "1                SGD  133.449255  7.912406  11.552024  0.127551\n",
            "2              Lasso  146.358507  7.574043  12.097872  0.043154\n",
            "3              Ridge  132.712042  7.852217  11.520071  0.132370\n",
            "4      Decision Tree  140.401882  8.106191  11.849130  0.082097\n",
            "5      Random Forest  119.552599  7.434898  10.934011  0.218403\n"
          ]
        }
      ],
      "source": [
        "# Compile metrics from all models into a DataFrame for comparison\n",
        "model_results = {\n",
        "    \"Model\": ['Linear Regression', 'SGD', 'Lasso', 'Ridge', 'Decision Tree', 'Random Forest'],\n",
        "    \"MSE\": [test_mse_lr, test_mse_sgd, test_mse_lasso, test_mse_ridge, test_mse_dt, test_mse_best_rf],\n",
        "    \"MAE\": [test_mae_lr, test_mae_sgd, test_mae_lasso, test_mae_ridge, test_mae_dt, test_mae_best_rf],\n",
        "    \"RMSE\": [test_rmse_lr, test_rmse_sgd, test_rmse_lasso, test_rmse_ridge, test_rmse_dt, test_rmse_best_rf],\n",
        "    \"R²\": [test_r2_lr, test_r2_sgd, test_r2_lasso, test_r2_ridge, test_r2_dt, test_r2_best_rf]\n",
        "}\n",
        "\n",
        "# Create a DataFrame with these data.\n",
        "comparison_df = pd.DataFrame(model_results)\n",
        "\n",
        "# Display the table\n",
        "print(\"Model Comparison: Metrics Overview\")\n",
        "print(comparison_df)"
      ]
    },
    {
      "cell_type": "markdown",
      "metadata": {},
      "source": [
        "The Random Forest model performed better in all metrics (MSE, MAE, RMSE, and R²) compared to Ridge. This suggests that Random Forest is more efficient in capturing the complex relationships between variables and predicting the target variable in this case.\n",
        "\n",
        "Although Random Forest appears to be more performant, it should be noted that it is a more complex model, based on decision trees, and harder to interpret compared to Ridge, which is a simpler linear model.\n",
        "\n",
        "The priority is prediction accuracy - then Random Forest is the better choice, given its superior performance across all metrics."
      ]
    }
  ],
  "metadata": {
    "colab": {
      "provenance": [],
      "toc_visible": true
    },
    "kernelspec": {
      "display_name": "my_env",
      "language": "python",
      "name": "python3"
    },
    "language_info": {
      "codemirror_mode": {
        "name": "ipython",
        "version": 3
      },
      "file_extension": ".py",
      "mimetype": "text/x-python",
      "name": "python",
      "nbconvert_exporter": "python",
      "pygments_lexer": "ipython3",
      "version": "3.10.16"
    }
  },
  "nbformat": 4,
  "nbformat_minor": 0
}
