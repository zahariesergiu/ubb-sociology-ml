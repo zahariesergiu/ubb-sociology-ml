{
 "cells": [
  {
   "cell_type": "markdown",
   "id": "d8ed7f67",
   "metadata": {
    "id": "d8ed7f67"
   },
   "source": [
    "# 1.6 Classroom Exercises"
   ]
  },
  {
   "cell_type": "markdown",
   "id": "85ae7395",
   "metadata": {
    "id": "85ae7395"
   },
   "source": [
    "**List of exercises and estimated completion times**\n",
    "\n",
    "[1a - Using Functions](#Exercise-1b-Using-Functions) *10 minutes*\n",
    "\n",
    "[1b - Operators](#Exercise-1c-Operators) *10 minutes*\n",
    "\n",
    "[1c - Maze Model](#Exercise-1d-Maze-Model) *25 minutes*\n",
    "\n",
    "[1d - The Maze Population](#Exercise-1e-The-Maze-Population) *10 minutes*  \n"
   ]
  },
  {
   "cell_type": "markdown",
   "id": "70458ec0",
   "metadata": {
    "id": "70458ec0"
   },
   "source": [
    "## Exercise 1a Using Functions\n",
    "\n",
    "\n",
    "Try to find the operator or function you need to calculate the following (the easiest way might be an internet search).\n",
    "\n",
    "What is 2 to the power 15?\n",
    "\n",
    "Convert `\"It was the best of times\"` to uppercase.\n",
    "\n",
    "Sort the list `[10, 9, 0, 20, 8, 2, 30, 7, 3]`.\n",
    "\n",
    "What is 100! ? (That is, what is the factorial of 100?) Hint: the `factorial` function is in the `math` library"
   ]
  },
  {
   "cell_type": "code",
   "execution_count": 19,
   "id": "86816d6d",
   "metadata": {},
   "outputs": [
    {
     "name": "stdout",
     "output_type": "stream",
     "text": [
      "32768\n",
      "IT WAS THE BEST OF TIMES\n",
      "[0, 2, 3, 7, 8, 9, 10, 20, 30]\n",
      "93326215443944152681699238856266700490715968264381621468592963895217599993229915608941463976156518286253697920827223758251185210916864000000000000000000000000\n"
     ]
    }
   ],
   "source": [
    "import math\n",
    "\n",
    "x = 2**15\n",
    "print(x)\n",
    "\n",
    "cuvinte = \"It was the best of times\"\n",
    "uppercase = cuvinte.upper()\n",
    "print(uppercase)\n",
    "\n",
    "l = [10,9,0,20,8,2,30,7,3]\n",
    "l.sort()\n",
    "print(l)\n",
    "\n",
    "print(math.factorial(100))"
   ]
  },
  {
   "cell_type": "markdown",
   "id": "d064ba13",
   "metadata": {
    "id": "d064ba13"
   },
   "source": [
    "## Exercise 1b Operators\n",
    "\n",
    "\n",
    "Which of the operators `+`, `-`, `*`, and `/` do something useful with the lists `[1, 10, 100]` and `[5, 4, 7]`?\n",
    "\n",
    "What happens if you apply the operators `+`, `-`, `*`, `/` to a list and a number?\n",
    "\n",
    "What about a string and a string?"
   ]
  },
  {
   "cell_type": "code",
   "execution_count": 33,
   "id": "0685b318",
   "metadata": {},
   "outputs": [
    {
     "name": "stdout",
     "output_type": "stream",
     "text": [
      "[1, 10, 100, 5, 4, 7]\n",
      "[1, 10, 100, 5, 4, 7, 1, 10, 100, 5, 4, 7, 1, 10, 100, 5, 4, 7, 1, 10, 100, 5, 4, 7, 1, 10, 100, 5, 4, 7]\n"
     ]
    },
    {
     "ename": "TypeError",
     "evalue": "unsupported operand type(s) for /: 'str' and 'str'",
     "output_type": "error",
     "traceback": [
      "\u001b[1;31m---------------------------------------------------------------------------\u001b[0m",
      "\u001b[1;31mTypeError\u001b[0m                                 Traceback (most recent call last)",
      "Cell \u001b[1;32mIn[33], line 15\u001b[0m\n\u001b[0;32m     13\u001b[0m x1 \u001b[38;5;241m=\u001b[39m \u001b[38;5;124m'\u001b[39m\u001b[38;5;124mabcd\u001b[39m\u001b[38;5;124m'\u001b[39m\n\u001b[0;32m     14\u001b[0m x2 \u001b[38;5;241m=\u001b[39m \u001b[38;5;124m'\u001b[39m\u001b[38;5;124mefgh\u001b[39m\u001b[38;5;124m'\u001b[39m\n\u001b[1;32m---> 15\u001b[0m x3 \u001b[38;5;241m=\u001b[39m \u001b[43mx1\u001b[49m\u001b[43m \u001b[49m\u001b[38;5;241;43m/\u001b[39;49m\u001b[43m \u001b[49m\u001b[43mx2\u001b[49m \u001b[38;5;66;03m# abcdefgh (+)\u001b[39;00m\n\u001b[0;32m     16\u001b[0m \u001b[38;5;28mprint\u001b[39m(x3)\n",
      "\u001b[1;31mTypeError\u001b[0m: unsupported operand type(s) for /: 'str' and 'str'"
     ]
    }
   ],
   "source": [
    "l1 = [1,10,100]\n",
    "l2 = [5,4,7]\n",
    "\n",
    "l3 = l1 + l2\n",
    "print(l3) # [1, 10, 100, 5, 4, 7]\n",
    "\n",
    "l4 = l3 *5\n",
    "print(l4) # TypeError: can only concatenate list (not \"int\") to list (+)\n",
    "            # [1, 10, 100, 5, 4, 7, 1, 10, 100, 5, 4, 7, 1, 10, 100, 5, 4, 7, 1, 10, 100, 5, 4, 7, 1, 10, 100, 5, 4, 7] (*)\n",
    "            # TypeError: unsupported operand type(s) for /: 'list' and 'int' (/)\n",
    "            # TypeError: unsupported operand type(s) for -: 'list' and 'int' (-)\n",
    "\n",
    "x1 = 'abcd'\n",
    "x2 = 'efgh'\n",
    "x3 = x1 + x2 # abcdefgh (+) restul type errors\n",
    "print(x3)\n"
   ]
  },
  {
   "cell_type": "markdown",
   "id": "9de9ab85",
   "metadata": {
    "id": "9de9ab85"
   },
   "source": [
    "## Exercise 1c Maze Model\n",
    "\n",
    "\n",
    "Work with a partner to design a data structure to represent a maze using dictionaries and lists.\n",
    "\n",
    "* Each place in the maze has a name, which is a string.\n",
    "* Each place in the maze has one or more people currently standing at it, by name.\n",
    "* Each place in the maze has a maximum capacity of people that can fit in it.\n",
    "* From each place in the maze, you can go from that place to a few other places, using a direction like 'up', 'north', or 'sideways'\n",
    "\n",
    "Create an example instance, in a notebook, of a simple structure for your maze:\n",
    "\n",
    "* The front room can hold 2 people. James is currently there. You can go outside to the garden, or upstairs to the bedroom, or north to the kitchen.\n",
    "* From the kitchen, you can go south to the front room. It fits 1 person.\n",
    "* From the garden you can go inside to front room. It fits 3 people. Sue is currently there.\n",
    "* From the bedroom, you can go downstairs to the front room. You can also jump out of the window to the garden. It fits 2 people.\n",
    "\n",
    "Make sure that your model:\n",
    "\n",
    "* Allows empty rooms\n",
    "* Allows you to jump out of the upstairs window, but not to fly back up.\n",
    "* Allows rooms which people can't fit in.\n",
    "\n",
    "\n",
    "```python\n",
    "house = [ \"Your answer here\" ]\n",
    "```\n",
    "or\n",
    "```python\n",
    "house = { \"Your answer here\" }\n",
    "```"
   ]
  },
  {
   "cell_type": "code",
   "execution_count": 34,
   "id": "913a4ef3",
   "metadata": {},
   "outputs": [],
   "source": [
    "house = {\n",
    "    \"front_room\": {\n",
    "        \"name\": \"Front Room\",\n",
    "        \"capacity\": 2,\n",
    "        \"people\": [\"James\"],\n",
    "        \"connections\": {\n",
    "            \"outside\": \"garden\",\n",
    "            \"upstairs\": \"bedroom\",\n",
    "            \"north\": \"kitchen\"\n",
    "        }\n",
    "    },\n",
    "    \"kitchen\": {\n",
    "        \"name\": \"Kitchen\",\n",
    "        \"capacity\": 1,\n",
    "        \"people\": [],\n",
    "        \"connections\": {\n",
    "            \"south\": \"front_room\"\n",
    "        }\n",
    "    },\n",
    "    \"garden\": {\n",
    "        \"name\": \"Garden\",\n",
    "        \"capacity\": 3,\n",
    "        \"people\": [\"Sue\"],\n",
    "        \"connections\": {\n",
    "            \"inside\": \"front_room\"\n",
    "        }\n",
    "    },\n",
    "    \"bedroom\": {\n",
    "        \"name\": \"Bedroom\",\n",
    "        \"capacity\": 2,\n",
    "        \"people\": [],\n",
    "        \"connections\": {\n",
    "            \"downstairs\": \"front_room\",\n",
    "            \"jump_out_window\": \"garden\"\n",
    "        }\n",
    "    }\n",
    "}"
   ]
  },
  {
   "cell_type": "markdown",
   "id": "8643be35",
   "metadata": {
    "id": "8643be35"
   },
   "source": [
    "## Exercise 1d The Maze Population\n",
    "\n",
    "\n",
    "Take your maze data structure. Write a program to count the total number of people in the maze, and also determine the total possible occupants."
   ]
  },
  {
   "cell_type": "code",
   "execution_count": 35,
   "id": "hnsIYpDRZ8yH",
   "metadata": {
    "id": "hnsIYpDRZ8yH"
   },
   "outputs": [
    {
     "name": "stdout",
     "output_type": "stream",
     "text": [
      "Total number of people in the maze: 2\n",
      "Total possible occupants in the maze: 8\n"
     ]
    }
   ],
   "source": [
    "def count_people_and_capacity(house):\n",
    "    total_people = 0\n",
    "    total_capacity = 0\n",
    "\n",
    "    for room in house.values():\n",
    "        total_people += len(room[\"people\"])\n",
    "        total_capacity += room[\"capacity\"]\n",
    "\n",
    "    return total_people, total_capacity\n",
    "\n",
    "total_people, total_capacity = count_people_and_capacity(house)\n",
    "\n",
    "print(f\"Total number of people in the maze: {total_people}\")\n",
    "print(f\"Total possible occupants in the maze: {total_capacity}\")"
   ]
  }
 ],
 "metadata": {
  "colab": {
   "provenance": []
  },
  "kernelspec": {
   "display_name": "Python 3",
   "language": "python",
   "name": "python3"
  },
  "language_info": {
   "codemirror_mode": {
    "name": "ipython",
    "version": 3
   },
   "file_extension": ".py",
   "mimetype": "text/x-python",
   "name": "python",
   "nbconvert_exporter": "python",
   "pygments_lexer": "ipython3",
   "version": "3.12.6"
  }
 },
 "nbformat": 4,
 "nbformat_minor": 5
}
