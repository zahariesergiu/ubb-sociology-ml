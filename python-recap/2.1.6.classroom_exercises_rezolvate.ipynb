{
 "cells": [
  {
   "cell_type": "markdown",
   "id": "d8ed7f67",
   "metadata": {
    "id": "d8ed7f67"
   },
   "source": [
    "# 1.6 Classroom Exercises"
   ]
  },
  {
   "cell_type": "markdown",
   "id": "85ae7395",
   "metadata": {
    "id": "85ae7395"
   },
   "source": [
    "**List of exercises and estimated completion times**\n",
    "\n",
    "[1a - Using Functions](#Exercise-1b-Using-Functions) *10 minutes*\n",
    "\n",
    "[1b - Operators](#Exercise-1c-Operators) *10 minutes*\n",
    "\n",
    "[1c - Maze Model](#Exercise-1d-Maze-Model) *25 minutes*\n",
    "\n",
    "[1d - The Maze Population](#Exercise-1e-The-Maze-Population) *10 minutes*  \n"
   ]
  },
  {
   "cell_type": "markdown",
   "id": "70458ec0",
   "metadata": {
    "id": "70458ec0"
   },
   "source": [
    "## Exercise 1a Using Functions\n",
    "\n",
    "\n",
    "Try to find the operator or function you need to calculate the following (the easiest way might be an internet search).\n",
    "\n",
    "What is 2 to the power 15?\n",
    "\n",
    "Convert `\"It was the best of times\"` to uppercase.\n",
    "\n",
    "Sort the list `[10, 9, 0, 20, 8, 2, 30, 7, 3]`.\n",
    "\n",
    "What is 100! ? (That is, what is the factorial of 100?) Hint: the `factorial` function is in the `math` library"
   ]
  },
  {
   "cell_type": "code",
   "execution_count": 3,
   "id": "5499ba32",
   "metadata": {},
   "outputs": [
    {
     "data": {
      "text/plain": [
       "32768"
      ]
     },
     "execution_count": 3,
     "metadata": {},
     "output_type": "execute_result"
    }
   ],
   "source": [
    "# Folosim operatorul ** pentru a ridica un număr la o putere.\n",
    "\n",
    "power_result = 2 ** 15\n",
    "power_result"
   ]
  },
  {
   "cell_type": "code",
   "execution_count": 5,
   "id": "ace21e06",
   "metadata": {},
   "outputs": [
    {
     "data": {
      "text/plain": [
       "'IT WAS THE BEST OF TIMES'"
      ]
     },
     "execution_count": 5,
     "metadata": {},
     "output_type": "execute_result"
    }
   ],
   "source": [
    "# Metoda .upper() aplicată pe un șir de caractere convertește toate literele în majuscule\n",
    "\n",
    "uppercase_string = \"It was the best of times\".upper()\n",
    "uppercase_string"
   ]
  },
  {
   "cell_type": "code",
   "execution_count": 7,
   "id": "495960a5",
   "metadata": {},
   "outputs": [
    {
     "data": {
      "text/plain": [
       "[0, 2, 3, 7, 8, 9, 10, 20, 30]"
      ]
     },
     "execution_count": 7,
     "metadata": {},
     "output_type": "execute_result"
    }
   ],
   "source": [
    "# Funcția sorted() returnează o listă sortată în ordine crescătoare.\n",
    "\n",
    "sorted_list = sorted([10, 9, 0, 20, 8, 2, 30, 7, 3])\n",
    "sorted_list"
   ]
  },
  {
   "cell_type": "code",
   "execution_count": 9,
   "id": "4d928278",
   "metadata": {},
   "outputs": [
    {
     "data": {
      "text/plain": [
       "93326215443944152681699238856266700490715968264381621468592963895217599993229915608941463976156518286253697920827223758251185210916864000000000000000000000000"
      ]
     },
     "execution_count": 9,
     "metadata": {},
     "output_type": "execute_result"
    }
   ],
   "source": [
    "# Funcția math.factorial() din biblioteca math calculează factorialul unui număr.\n",
    "# Factorialul unui număr n este produsul tuturor numerelor întregi pozitive mai mici sau egale cu n.\n",
    "\n",
    "import math\n",
    "factorial_result = math.factorial(100)\n",
    "factorial_result"
   ]
  },
  {
   "cell_type": "markdown",
   "id": "d064ba13",
   "metadata": {
    "id": "d064ba13"
   },
   "source": [
    "## Exercise 1b Operators\n",
    "\n",
    "\n",
    "Which of the operators `+`, `-`, `*`, and `/` do something useful with the lists `[1, 10, 100]` and `[5, 4, 7]`?\n",
    "\n",
    "What happens if you apply the operators `+`, `-`, `*`, `/` to a list and a number?\n",
    "\n",
    "What about a string and a string?"
   ]
  },
  {
   "cell_type": "markdown",
   "id": "2adf1362",
   "metadata": {},
   "source": [
    "### 1. Operatorii aplicați la două liste"
   ]
  },
  {
   "cell_type": "code",
   "execution_count": 11,
   "id": "dec66262",
   "metadata": {},
   "outputs": [
    {
     "data": {
      "text/plain": [
       "[1, 10, 100, 5, 4, 7]"
      ]
     },
     "execution_count": 11,
     "metadata": {},
     "output_type": "execute_result"
    }
   ],
   "source": [
    "# Două liste pentru a testa operatorii\n",
    "\n",
    "list1 = [1, 10, 100]\n",
    "list2 = [5, 4, 7]\n",
    "\n",
    "# Adunarea listelor (concatenează listele)\n",
    "\n",
    "addition_result = list1 + list2\n",
    "addition_result"
   ]
  },
  {
   "cell_type": "code",
   "execution_count": 12,
   "id": "7367813d",
   "metadata": {},
   "outputs": [
    {
     "ename": "TypeError",
     "evalue": "unsupported operand type(s) for -: 'list' and 'list'",
     "output_type": "error",
     "traceback": [
      "\u001b[1;31m---------------------------------------------------------------------------\u001b[0m",
      "\u001b[1;31mTypeError\u001b[0m                                 Traceback (most recent call last)",
      "Cell \u001b[1;32mIn[12], line 2\u001b[0m\n\u001b[0;32m      1\u001b[0m \u001b[38;5;66;03m# - (scădere): Nu este suportat pentru liste. Rezultatul este: unsupported operand type(s) for -: 'list' and 'list'.\u001b[39;00m\n\u001b[1;32m----> 2\u001b[0m subtraction_result \u001b[38;5;241m=\u001b[39m \u001b[43mlist1\u001b[49m\u001b[43m \u001b[49m\u001b[38;5;241;43m-\u001b[39;49m\u001b[43m \u001b[49m\u001b[43mlist2\u001b[49m\n",
      "\u001b[1;31mTypeError\u001b[0m: unsupported operand type(s) for -: 'list' and 'list'"
     ]
    }
   ],
   "source": [
    "# Scăderea listelor (nu este suportată)\n",
    "\n",
    "subtraction_result = list1 - list2"
   ]
  },
  {
   "cell_type": "code",
   "execution_count": 14,
   "id": "e7e1bb71",
   "metadata": {},
   "outputs": [
    {
     "data": {
      "text/plain": [
       "[1, 10, 100, 1, 10, 100]"
      ]
     },
     "execution_count": 14,
     "metadata": {},
     "output_type": "execute_result"
    }
   ],
   "source": [
    "# Înmulțirea unei liste cu un număr (repetă lista)\n",
    "\n",
    "multiplication_result = list1 * 2\n",
    "multiplication_result"
   ]
  },
  {
   "cell_type": "code",
   "execution_count": 16,
   "id": "5468432a",
   "metadata": {},
   "outputs": [
    {
     "ename": "TypeError",
     "evalue": "unsupported operand type(s) for /: 'list' and 'list'",
     "output_type": "error",
     "traceback": [
      "\u001b[1;31m---------------------------------------------------------------------------\u001b[0m",
      "\u001b[1;31mTypeError\u001b[0m                                 Traceback (most recent call last)",
      "Cell \u001b[1;32mIn[16], line 3\u001b[0m\n\u001b[0;32m      1\u001b[0m \u001b[38;5;66;03m# Împărțirea listelor (nu este suportată)\u001b[39;00m\n\u001b[1;32m----> 3\u001b[0m division_result \u001b[38;5;241m=\u001b[39m \u001b[43mlist1\u001b[49m\u001b[43m \u001b[49m\u001b[38;5;241;43m/\u001b[39;49m\u001b[43m \u001b[49m\u001b[43mlist2\u001b[49m\n",
      "\u001b[1;31mTypeError\u001b[0m: unsupported operand type(s) for /: 'list' and 'list'"
     ]
    }
   ],
   "source": [
    "# Împărțirea listelor (nu este suportată)\n",
    "\n",
    "division_result = list1 / list2"
   ]
  },
  {
   "cell_type": "code",
   "execution_count": null,
   "id": "26c59cff",
   "metadata": {},
   "outputs": [],
   "source": [
    "# Comportament pentru două liste:\n",
    "\n",
    "## Adunarea (+): Este suportată și concatenează cele două liste.\n",
    "## Exemplu: [1, 2] + [3, 4] → [1, 2, 3, 4].\n",
    "\n",
    "## Scăderea (-): Nu este suportată pentru liste. Va genera o eroare\n",
    "\n",
    "## Înmulțirea (*): Este suportată dacă se folosește un număr, dar nu între două liste.\n",
    "## Exemplu: [1, 2] * 2 → [1, 2, 1, 2].\n",
    "\n",
    "## Împărțirea (/): Nu este suportată pentru liste. Va genera o eroare:"
   ]
  },
  {
   "cell_type": "markdown",
   "id": "f1521825",
   "metadata": {},
   "source": [
    "### 2. Operatorii aplicați la o listă și un număr"
   ]
  },
  {
   "cell_type": "code",
   "execution_count": 8,
   "id": "848018a7",
   "metadata": {},
   "outputs": [
    {
     "ename": "TypeError",
     "evalue": "can only concatenate list (not \"int\") to list",
     "output_type": "error",
     "traceback": [
      "\u001b[1;31m---------------------------------------------------------------------------\u001b[0m",
      "\u001b[1;31mTypeError\u001b[0m                                 Traceback (most recent call last)",
      "Cell \u001b[1;32mIn[8], line 6\u001b[0m\n\u001b[0;32m      3\u001b[0m list1 \u001b[38;5;241m=\u001b[39m [\u001b[38;5;241m1\u001b[39m, \u001b[38;5;241m10\u001b[39m, \u001b[38;5;241m100\u001b[39m]\n\u001b[0;32m      4\u001b[0m list2 \u001b[38;5;241m=\u001b[39m [\u001b[38;5;241m5\u001b[39m, \u001b[38;5;241m4\u001b[39m, \u001b[38;5;241m7\u001b[39m]\n\u001b[1;32m----> 6\u001b[0m list_number_addition \u001b[38;5;241m=\u001b[39m \u001b[43mlist1\u001b[49m\u001b[43m \u001b[49m\u001b[38;5;241;43m+\u001b[39;49m\u001b[43m \u001b[49m\u001b[38;5;241;43m2\u001b[39;49m\n\u001b[0;32m      7\u001b[0m list_number_addition\n",
      "\u001b[1;31mTypeError\u001b[0m: can only concatenate list (not \"int\") to list"
     ]
    }
   ],
   "source": [
    "# Aplicarea operatorilor unei liste și unui număr (adunarea necesită o altă listă)\n",
    "\n",
    "list1 = [1, 10, 100]\n",
    "list2 = [5, 4, 7]\n",
    "\n",
    "list_number_addition = list1 + 2\n",
    "list_number_addition"
   ]
  },
  {
   "cell_type": "code",
   "execution_count": 23,
   "id": "c352dade",
   "metadata": {},
   "outputs": [
    {
     "ename": "TypeError",
     "evalue": "unsupported operand type(s) for -: 'list' and 'int'",
     "output_type": "error",
     "traceback": [
      "\u001b[1;31m---------------------------------------------------------------------------\u001b[0m",
      "\u001b[1;31mTypeError\u001b[0m                                 Traceback (most recent call last)",
      "Cell \u001b[1;32mIn[23], line 3\u001b[0m\n\u001b[0;32m      1\u001b[0m \u001b[38;5;66;03m# Scăderea unei liste cu un număr (nu este suportată)\u001b[39;00m\n\u001b[1;32m----> 3\u001b[0m list_number_subtraction \u001b[38;5;241m=\u001b[39m \u001b[43mlist1\u001b[49m\u001b[43m \u001b[49m\u001b[38;5;241;43m-\u001b[39;49m\u001b[43m \u001b[49m\u001b[38;5;241;43m2\u001b[39;49m\n",
      "\u001b[1;31mTypeError\u001b[0m: unsupported operand type(s) for -: 'list' and 'int'"
     ]
    }
   ],
   "source": [
    "# Scăderea unei liste cu un număr (nu este suportată)\n",
    "\n",
    "list_number_subtraction = list1 - 2"
   ]
  },
  {
   "cell_type": "code",
   "execution_count": 21,
   "id": "37351525",
   "metadata": {},
   "outputs": [
    {
     "data": {
      "text/plain": [
       "[1, 10, 100, 1, 10, 100, 1, 10, 100]"
      ]
     },
     "execution_count": 21,
     "metadata": {},
     "output_type": "execute_result"
    }
   ],
   "source": [
    "# Înmulțirea unei liste cu un număr (repetă lista de un anumit număr de ori)\n",
    "\n",
    "list_number_multiplication = list1 * 3\n",
    "list_number_multiplication"
   ]
  },
  {
   "cell_type": "code",
   "execution_count": 22,
   "id": "aee36819",
   "metadata": {},
   "outputs": [
    {
     "ename": "TypeError",
     "evalue": "unsupported operand type(s) for /: 'list' and 'int'",
     "output_type": "error",
     "traceback": [
      "\u001b[1;31m---------------------------------------------------------------------------\u001b[0m",
      "\u001b[1;31mTypeError\u001b[0m                                 Traceback (most recent call last)",
      "Cell \u001b[1;32mIn[22], line 3\u001b[0m\n\u001b[0;32m      1\u001b[0m \u001b[38;5;66;03m# Împărțirea unei liste cu un număr (nu este suportată)\u001b[39;00m\n\u001b[1;32m----> 3\u001b[0m list_number_division \u001b[38;5;241m=\u001b[39m \u001b[43mlist1\u001b[49m\u001b[43m \u001b[49m\u001b[38;5;241;43m/\u001b[39;49m\u001b[43m \u001b[49m\u001b[38;5;241;43m2\u001b[39;49m\n",
      "\u001b[1;31mTypeError\u001b[0m: unsupported operand type(s) for /: 'list' and 'int'"
     ]
    }
   ],
   "source": [
    "# Împărțirea unei liste cu un număr (nu este suportată)\n",
    "\n",
    "list_number_division = list1 / 2"
   ]
  },
  {
   "cell_type": "code",
   "execution_count": null,
   "id": "e96c8e02",
   "metadata": {},
   "outputs": [],
   "source": [
    "\n",
    "# Comportamentul operatorilor pentru o listă și un număr:\n",
    "\n",
    "## Adunarea (+): Nu este suportată. Nu poți adăuga un număr direct la o listă.\n",
    "## Scăderea (-): Nu este suportată. Nu poți scădea un număr dintr-o listă.\n",
    "## Înmulțirea (*): Este suportată dacă lista este înmulțită cu un număr întreg. Repetă lista de un anumit număr de ori.\n",
    "Atenție: Dacă încerci să înmulțești o listă cu un număr non-întreg (ex. float), va genera o eroare:\n",
    "unsupported operand type(s) for *: 'list' and 'float'.\n",
    "##Împărțirea (/): Nu este suportată. Nu poți împărți o listă cu un număr."
   ]
  },
  {
   "cell_type": "markdown",
   "id": "ad15efaf",
   "metadata": {},
   "source": [
    "### 3. Operatorii aplicați la două șiruri de caractere"
   ]
  },
  {
   "cell_type": "code",
   "execution_count": 2,
   "id": "7aba8aef",
   "metadata": {},
   "outputs": [
    {
     "data": {
      "text/plain": [
       "'HelloWorld'"
      ]
     },
     "execution_count": 2,
     "metadata": {},
     "output_type": "execute_result"
    }
   ],
   "source": [
    "# Două șiruri pentru a testa operatorii\n",
    "\n",
    "string1 = \"Hello\"\n",
    "string2 = \"World\"\n",
    "\n",
    "# Adunarea șirurilor (concatenează șirurile)\n",
    "string_addition = string1 + string2\n",
    "string_addition"
   ]
  },
  {
   "cell_type": "code",
   "execution_count": 6,
   "id": "22f89f92",
   "metadata": {},
   "outputs": [
    {
     "ename": "TypeError",
     "evalue": "unsupported operand type(s) for -: 'str' and 'str'",
     "output_type": "error",
     "traceback": [
      "\u001b[1;31m---------------------------------------------------------------------------\u001b[0m",
      "\u001b[1;31mTypeError\u001b[0m                                 Traceback (most recent call last)",
      "Cell \u001b[1;32mIn[6], line 3\u001b[0m\n\u001b[0;32m      1\u001b[0m \u001b[38;5;66;03m# Scăderea stringurilor (nu este suportată)\u001b[39;00m\n\u001b[1;32m----> 3\u001b[0m string_subtraction \u001b[38;5;241m=\u001b[39m \u001b[43mstring1\u001b[49m\u001b[43m \u001b[49m\u001b[38;5;241;43m-\u001b[39;49m\u001b[43m \u001b[49m\u001b[43mstring2\u001b[49m\n",
      "\u001b[1;31mTypeError\u001b[0m: unsupported operand type(s) for -: 'str' and 'str'"
     ]
    }
   ],
   "source": [
    "# Scăderea stringurilor (nu este suportată)\n",
    "\n",
    "string_subtraction = string1 - string2"
   ]
  },
  {
   "cell_type": "code",
   "execution_count": 4,
   "id": "062b3c01",
   "metadata": {},
   "outputs": [
    {
     "data": {
      "text/plain": [
       "'HelloHelloHello'"
      ]
     },
     "execution_count": 4,
     "metadata": {},
     "output_type": "execute_result"
    }
   ],
   "source": [
    "# Înmulțirea unui șir cu un număr (repetă șirul)\n",
    "\n",
    "string_multiplication = string1 * 3\n",
    "string_multiplication"
   ]
  },
  {
   "cell_type": "code",
   "execution_count": 5,
   "id": "6d85e246",
   "metadata": {},
   "outputs": [
    {
     "ename": "TypeError",
     "evalue": "unsupported operand type(s) for /: 'str' and 'str'",
     "output_type": "error",
     "traceback": [
      "\u001b[1;31m---------------------------------------------------------------------------\u001b[0m",
      "\u001b[1;31mTypeError\u001b[0m                                 Traceback (most recent call last)",
      "Cell \u001b[1;32mIn[5], line 3\u001b[0m\n\u001b[0;32m      1\u001b[0m \u001b[38;5;66;03m# Împărțirea șirurilor (nu este suportată)\u001b[39;00m\n\u001b[1;32m----> 3\u001b[0m string_division \u001b[38;5;241m=\u001b[39m \u001b[43mstring1\u001b[49m\u001b[43m \u001b[49m\u001b[38;5;241;43m/\u001b[39;49m\u001b[43m \u001b[49m\u001b[43mstring2\u001b[49m\n",
      "\u001b[1;31mTypeError\u001b[0m: unsupported operand type(s) for /: 'str' and 'str'"
     ]
    }
   ],
   "source": [
    "# Împărțirea șirurilor (nu este suportată)\n",
    "\n",
    "string_division = string1 / string2"
   ]
  },
  {
   "cell_type": "code",
   "execution_count": null,
   "id": "059b0706",
   "metadata": {},
   "outputs": [],
   "source": [
    "# Comportament pentru stringuri:\n",
    "\n",
    "## Adunarea (+): Este suportată și concatenează două stringuri.\n",
    "## Scăderea (-): Nu este suportată pentru stringuri. Va genera o eroare.\n",
    "## Înmulțirea (*): Este suportată și repetă stringul de un anumit număr de ori.\n",
    "## Împărțirea (/): Nu este suportată pentru stringuri. Va genera o eroare."
   ]
  },
  {
   "cell_type": "markdown",
   "id": "9de9ab85",
   "metadata": {
    "id": "9de9ab85"
   },
   "source": [
    "## Exercise 1c Maze Model\n",
    "\n",
    "\n",
    "Work with a partner to design a data structure to represent a maze using dictionaries and lists.\n",
    "\n",
    "* Each place in the maze has a name, which is a string.\n",
    "* Each place in the maze has one or more people currently standing at it, by name.\n",
    "* Each place in the maze has a maximum capacity of people that can fit in it.\n",
    "* From each place in the maze, you can go from that place to a few other places, using a direction like 'up', 'north', or 'sideways'\n",
    "\n",
    "Create an example instance, in a notebook, of a simple structure for your maze:\n",
    "\n",
    "* The front room can hold 2 people. James is currently there. You can go outside to the garden, or upstairs to the bedroom, or north to the kitchen.\n",
    "* From the kitchen, you can go south to the front room. It fits 1 person.\n",
    "* From the garden you can go inside to front room. It fits 3 people. Sue is currently there.\n",
    "* From the bedroom, you can go downstairs to the front room. You can also jump out of the window to the garden. It fits 2 people.\n",
    "\n",
    "Make sure that your model:\n",
    "\n",
    "* Allows empty rooms\n",
    "* Allows you to jump out of the upstairs window, but not to fly back up.\n",
    "* Allows rooms which people can't fit in.\n",
    "\n",
    "\n",
    "```python\n",
    "house = [ \"Your answer here\" ]\n",
    "```\n",
    "or\n",
    "```python\n",
    "house = { \"Your answer here\" }\n",
    "```"
   ]
  },
  {
   "cell_type": "code",
   "execution_count": 12,
   "id": "654aa4bd",
   "metadata": {},
   "outputs": [
    {
     "data": {
      "text/plain": [
       "{'Front Room': {'capacity': 2,\n",
       "  'people': ['James'],\n",
       "  'connections': {'outside': 'Garden',\n",
       "   'upstairs': 'Bedroom',\n",
       "   'north': 'Kitchen'}},\n",
       " 'Kitchen': {'capacity': 1,\n",
       "  'people': [],\n",
       "  'connections': {'south': 'Front Room'}},\n",
       " 'Garden': {'capacity': 3,\n",
       "  'people': ['Sue'],\n",
       "  'connections': {'inside': 'Front Room'}},\n",
       " 'Bedroom': {'capacity': 2,\n",
       "  'people': [],\n",
       "  'connections': {'downstairs': 'Front Room',\n",
       "   'jump out of the window': 'Garden'}}}"
      ]
     },
     "execution_count": 12,
     "metadata": {},
     "output_type": "execute_result"
    }
   ],
   "source": [
    "maze = {\n",
    "    \"Front Room\": {\n",
    "        \"capacity\": 2,\n",
    "        \"people\": [\"James\"],\n",
    "        \"connections\": {\n",
    "            \"outside\": \"Garden\",\n",
    "            \"upstairs\": \"Bedroom\",\n",
    "            \"north\": \"Kitchen\"\n",
    "        }\n",
    "    },\n",
    "    \"Kitchen\": {\n",
    "        \"capacity\": 1,\n",
    "        \"people\": [],\n",
    "        \"connections\": {\n",
    "            \"south\": \"Front Room\"\n",
    "        }\n",
    "    },\n",
    "    \"Garden\": {\n",
    "        \"capacity\": 3,\n",
    "        \"people\": [\"Sue\"],\n",
    "        \"connections\": {\n",
    "            \"inside\": \"Front Room\"\n",
    "        }\n",
    "    },\n",
    "    \"Bedroom\": {\n",
    "        \"capacity\": 2,\n",
    "        \"people\": [],\n",
    "        \"connections\": {\n",
    "            \"downstairs\": \"Front Room\",\n",
    "            \"jump out of the window\": \"Garden\"\n",
    "        }\n",
    "    }\n",
    "}\n",
    "maze"
   ]
  },
  {
   "cell_type": "markdown",
   "id": "8643be35",
   "metadata": {
    "id": "8643be35"
   },
   "source": [
    "## Exercise 1d The Maze Population\n",
    "\n",
    "\n",
    "Take your maze data structure. Write a program to count the total number of people in the maze, and also determine the total possible occupants."
   ]
  },
  {
   "cell_type": "code",
   "execution_count": 13,
   "id": "2ee7a853",
   "metadata": {},
   "outputs": [
    {
     "name": "stdout",
     "output_type": "stream",
     "text": [
      "Numărul total de persoane din labirint: 2\n"
     ]
    }
   ],
   "source": [
    "# Calculăm numărul total de persoane în labirint\n",
    "# Parcurgem fiecare cameră și adunăm numărul de persoane din cheia \"people\"\n",
    "\n",
    "total_people = sum(len(room[\"people\"]) for room in maze.values())\n",
    "print(\"Numărul total de persoane din labirint:\", total_people)"
   ]
  },
  {
   "cell_type": "code",
   "execution_count": 14,
   "id": "hnsIYpDRZ8yH",
   "metadata": {
    "id": "hnsIYpDRZ8yH"
   },
   "outputs": [
    {
     "name": "stdout",
     "output_type": "stream",
     "text": [
      "Capacitatea totală a labirintului: 8\n"
     ]
    }
   ],
   "source": [
    "# Calculăm capacitatea totală a labirintului\n",
    "# Parcurgem fiecare cameră și adunăm valorile din cheia \"capacity\"\n",
    "\n",
    "total_capacity = sum(room[\"capacity\"] for room in maze.values())\n",
    "print(\"Capacitatea totală a labirintului:\", total_capacity)"
   ]
  },
  {
   "cell_type": "code",
   "execution_count": null,
   "id": "41b2e466",
   "metadata": {},
   "outputs": [],
   "source": []
  }
 ],
 "metadata": {
  "colab": {
   "provenance": []
  },
  "kernelspec": {
   "display_name": "ML_venv",
   "language": "python",
   "name": "python3"
  },
  "language_info": {
   "codemirror_mode": {
    "name": "ipython",
    "version": 3
   },
   "file_extension": ".py",
   "mimetype": "text/x-python",
   "name": "python",
   "nbconvert_exporter": "python",
   "pygments_lexer": "ipython3",
   "version": "3.13.0"
  }
 },
 "nbformat": 4,
 "nbformat_minor": 5
}
