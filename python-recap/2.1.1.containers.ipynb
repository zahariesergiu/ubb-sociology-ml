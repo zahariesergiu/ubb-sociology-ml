{
 "cells": [
  {
   "cell_type": "markdown",
   "metadata": {
    "id": "lA_z13ycNcZG"
   },
   "source": [
    "# 1.1 Containers"
   ]
  },
  {
   "cell_type": "markdown",
   "metadata": {
    "id": "XD6JmbfDNcZK"
   },
   "source": [
    "*Estimated time for this notebook: 10 minutes*"
   ]
  },
  {
   "cell_type": "markdown",
   "metadata": {
    "id": "0hTh4lXRNcZK"
   },
   "source": [
    "## 1.1.1 Checking for containment."
   ]
  },
  {
   "cell_type": "markdown",
   "metadata": {
    "id": "RdWnKyIpNcZL"
   },
   "source": [
    "The `list` is a container type: its purpose is to hold other objects. We can ask python whether or not a\n",
    "container contains a particular item:"
   ]
  },
  {
   "cell_type": "markdown",
   "metadata": {
    "id": "eiWXKU986NBj"
   },
   "source": [
    "As you can see in this example we have put some strings in square brackets which makes it a list and holds our objects. And something really helpful about lists is that we can check whether something is in the list with a function called \"in\"."
   ]
  },
  {
   "cell_type": "code",
   "execution_count": null,
   "metadata": {
    "colab": {
     "base_uri": "https://localhost:8080/"
    },
    "executionInfo": {
     "elapsed": 8,
     "status": "ok",
     "timestamp": 1670271105526,
     "user": {
      "displayName": "Nadia Domide",
      "userId": "13986377551014052134"
     },
     "user_tz": -120
    },
    "id": "aeka4FxHNcZL",
    "outputId": "9c7f16bb-e684-4e32-95f4-f32cee4e3c34"
   },
   "outputs": [
    {
     "data": {
      "text/plain": [
       "True"
      ]
     },
     "execution_count": 1,
     "metadata": {},
     "output_type": "execute_result"
    }
   ],
   "source": [
    "\"Dog\" in [\"Cat\", \"Dog\", \"Horse\"]"
   ]
  },
  {
   "cell_type": "markdown",
   "metadata": {},
   "source": [
    "# o lista stocheaza elemente"
   ]
  },
  {
   "cell_type": "code",
   "execution_count": 1,
   "metadata": {
    "id": "perD_wNbNcZM",
    "outputId": "fffa141a-ac16-4df7-c3cb-4375cb6a56bf"
   },
   "outputs": [
    {
     "data": {
      "text/plain": [
       "False"
      ]
     },
     "execution_count": 1,
     "metadata": {},
     "output_type": "execute_result"
    }
   ],
   "source": [
    "\"Bird\" in [\"Cat\", \"Dog\", \"Horse\"]"
   ]
  },
  {
   "cell_type": "markdown",
   "metadata": {
    "id": "yPiFSxaS6kAs"
   },
   "source": [
    "True and False are boolean types of responses. It is really helpful in case you have a dataset and you want to check wether something is in the dataset and can get back a quick answer. It is really useful for testing as well."
   ]
  },
  {
   "cell_type": "markdown",
   "metadata": {
    "id": "YmYNjU4S68i4"
   },
   "source": [
    "Range creates an iterable: something that goes from 0 to 4. and we check if this object contains the number 2 and in this case it does and does not contain 99:"
   ]
  },
  {
   "cell_type": "code",
   "execution_count": 2,
   "metadata": {
    "colab": {
     "base_uri": "https://localhost:8080/"
    },
    "executionInfo": {
     "elapsed": 296,
     "status": "ok",
     "timestamp": 1670271267894,
     "user": {
      "displayName": "Nadia Domide",
      "userId": "13986377551014052134"
     },
     "user_tz": -120
    },
    "id": "gUYMvOoxNcZN",
    "outputId": "4b4fd611-2e49-40fa-9a0a-f303cdbc2509"
   },
   "outputs": [
    {
     "data": {
      "text/plain": [
       "True"
      ]
     },
     "execution_count": 2,
     "metadata": {},
     "output_type": "execute_result"
    }
   ],
   "source": [
    "2 in range(5)"
   ]
  },
  {
   "cell_type": "code",
   "execution_count": 3,
   "metadata": {
    "colab": {
     "base_uri": "https://localhost:8080/"
    },
    "executionInfo": {
     "elapsed": 3,
     "status": "ok",
     "timestamp": 1670271268186,
     "user": {
      "displayName": "Nadia Domide",
      "userId": "13986377551014052134"
     },
     "user_tz": -120
    },
    "id": "qIwvXoL-NcZN",
    "outputId": "411fcbc3-a40c-48e8-b199-89ce8e94d96c"
   },
   "outputs": [
    {
     "data": {
      "text/plain": [
       "False"
      ]
     },
     "execution_count": 3,
     "metadata": {},
     "output_type": "execute_result"
    }
   ],
   "source": [
    "99 in range(5)"
   ]
  },
  {
   "cell_type": "code",
   "execution_count": 46,
   "metadata": {},
   "outputs": [
    {
     "data": {
      "text/plain": [
       "range(0, 6)"
      ]
     },
     "execution_count": 46,
     "metadata": {},
     "output_type": "execute_result"
    }
   ],
   "source": [
    "l = [1,2,3,4,5]\n",
    "l.append(\"text\")\n",
    "l\n",
    "\n",
    "d1 = {\"nume\": \"Cristina\", \"profession\": \"Student\"}\n",
    "d2 = {\"nume\": \"Sergiu\", \"profession\": \"ML\"}\n",
    "d1\n",
    "d2\n",
    "\n",
    "2 in range(5)\n",
    "a = range(6)\n",
    "list(a)\n",
    "\n",
    "a\n",
    "# iterator\n"
   ]
  },
  {
   "cell_type": "markdown",
   "metadata": {
    "id": "fTWXeCxKNcZO"
   },
   "source": [
    "## 1.1.2 Mutability"
   ]
  },
  {
   "cell_type": "code",
   "execution_count": null,
   "metadata": {},
   "outputs": [],
   "source": [
    "#nu pot fi modificate:\n",
    "## tuple, boolean, string"
   ]
  },
  {
   "cell_type": "markdown",
   "metadata": {
    "id": "P2ZFujm0NcZP"
   },
   "source": [
    "A list can be modified: (is mutable). One of the important concepts in programming is mutability and immutability and it is when you can actually change an object. So just like some files which are read/write or read only, you can have the same objects in python.   \n",
    "Lists are mutable which means we can edit them. So we have a list of names:"
   ]
  },
  {
   "cell_type": "code",
   "execution_count": 4,
   "metadata": {
    "colab": {
     "base_uri": "https://localhost:8080/"
    },
    "executionInfo": {
     "elapsed": 296,
     "status": "ok",
     "timestamp": 1670271656291,
     "user": {
      "displayName": "Nadia Domide",
      "userId": "13986377551014052134"
     },
     "user_tz": -120
    },
    "id": "oCefe5UsNcZP",
    "outputId": "37df3e94-8b3e-4041-b22c-a201db4536a6"
   },
   "outputs": [
    {
     "name": "stdout",
     "output_type": "stream",
     "text": [
      "['James', 'Philip', 'John', 'Hetherington']\n"
     ]
    }
   ],
   "source": [
    "name = \"James Philip John Hetherington\".split(\" \")\n",
    "print(name)"
   ]
  },
  {
   "cell_type": "markdown",
   "metadata": {
    "id": "-pcI3bPT7yQ-"
   },
   "source": [
    "and here we are going to be changing the first one, the second and third, and adding something at the end of the list:"
   ]
  },
  {
   "cell_type": "code",
   "execution_count": 5,
   "metadata": {
    "colab": {
     "base_uri": "https://localhost:8080/"
    },
    "executionInfo": {
     "elapsed": 2,
     "status": "ok",
     "timestamp": 1670271656596,
     "user": {
      "displayName": "Nadia Domide",
      "userId": "13986377551014052134"
     },
     "user_tz": -120
    },
    "id": "-dlKKnNDNcZQ",
    "outputId": "9a2b62ab-ad89-424b-d758-9a23614755fd"
   },
   "outputs": [
    {
     "name": "stdout",
     "output_type": "stream",
     "text": [
      "Dr Griffiths- Hetherington PhD\n"
     ]
    }
   ],
   "source": [
    "name[0] = \"Dr\"\n",
    "name[1:3] = [\"Griffiths-\"]\n",
    "name.append(\"PhD\")\n",
    "\n",
    "print(\" \".join(name)) #type str, we make the list back into a string"
   ]
  },
  {
   "cell_type": "markdown",
   "metadata": {
    "id": "b8-LiG3MNcZQ"
   },
   "source": [
    "## 1.1.3 Tuples"
   ]
  },
  {
   "cell_type": "markdown",
   "metadata": {
    "id": "4kYrHPLW86Wk"
   },
   "source": [
    "So, having things that are immutable can be helpful to stop some errors of rewriting things. It might be longitutde and latitude, you know is going to be always two things and will not change."
   ]
  },
  {
   "cell_type": "markdown",
   "metadata": {
    "id": "BDC42UQRNcZQ"
   },
   "source": [
    "A `tuple` is an immutable sequence. It is like a list, except it cannot be changed. It is defined with round brackets."
   ]
  },
  {
   "cell_type": "code",
   "execution_count": 6,
   "metadata": {
    "colab": {
     "base_uri": "https://localhost:8080/"
    },
    "executionInfo": {
     "elapsed": 6,
     "status": "ok",
     "timestamp": 1701895853698,
     "user": {
      "displayName": "Nadia Domide",
      "userId": "13986377551014052134"
     },
     "user_tz": -60
    },
    "id": "BI2YdsckNcZQ",
    "outputId": "471bf222-6aba-47be-c00c-d0efcfa57593"
   },
   "outputs": [
    {
     "data": {
      "text/plain": [
       "tuple"
      ]
     },
     "execution_count": 6,
     "metadata": {},
     "output_type": "execute_result"
    }
   ],
   "source": [
    "x = (0,)\n",
    "type(x)"
   ]
  },
  {
   "cell_type": "code",
   "execution_count": 7,
   "metadata": {
    "colab": {
     "base_uri": "https://localhost:8080/",
     "height": 184
    },
    "executionInfo": {
     "elapsed": 6,
     "status": "error",
     "timestamp": 1670271795036,
     "user": {
      "displayName": "Nadia Domide",
      "userId": "13986377551014052134"
     },
     "user_tz": -120
    },
    "id": "OTJ7ffbWNcZR",
    "outputId": "e7522886-5d27-4a8a-f702-e3a36e6a5192",
    "tags": [
     "raises-exception"
    ]
   },
   "outputs": [
    {
     "ename": "TypeError",
     "evalue": "'tuple' object does not support item assignment",
     "output_type": "error",
     "traceback": [
      "\u001b[1;31m---------------------------------------------------------------------------\u001b[0m",
      "\u001b[1;31mTypeError\u001b[0m                                 Traceback (most recent call last)",
      "Cell \u001b[1;32mIn[7], line 2\u001b[0m\n\u001b[0;32m      1\u001b[0m my_tuple \u001b[38;5;241m=\u001b[39m (\u001b[38;5;124m\"\u001b[39m\u001b[38;5;124mHello\u001b[39m\u001b[38;5;124m\"\u001b[39m, \u001b[38;5;124m\"\u001b[39m\u001b[38;5;124mWorld\u001b[39m\u001b[38;5;124m\"\u001b[39m)\n\u001b[1;32m----> 2\u001b[0m \u001b[43mmy_tuple\u001b[49m\u001b[43m[\u001b[49m\u001b[38;5;241;43m0\u001b[39;49m\u001b[43m]\u001b[49m \u001b[38;5;241m=\u001b[39m \u001b[38;5;124m\"\u001b[39m\u001b[38;5;124mGoodbye\u001b[39m\u001b[38;5;124m\"\u001b[39m\n",
      "\u001b[1;31mTypeError\u001b[0m: 'tuple' object does not support item assignment"
     ]
    }
   ],
   "source": [
    "my_tuple = (\"Hello\", \"World\")\n",
    "my_tuple[0] = \"Goodbye\""
   ]
  },
  {
   "cell_type": "code",
   "execution_count": 8,
   "metadata": {
    "colab": {
     "base_uri": "https://localhost:8080/"
    },
    "executionInfo": {
     "elapsed": 4,
     "status": "ok",
     "timestamp": 1670271797835,
     "user": {
      "displayName": "Nadia Domide",
      "userId": "13986377551014052134"
     },
     "user_tz": -120
    },
    "id": "8EM5cvZoNcZR",
    "outputId": "fcc9956d-4b3f-415d-eb96-f7bbcde94c62"
   },
   "outputs": [
    {
     "data": {
      "text/plain": [
       "tuple"
      ]
     },
     "execution_count": 8,
     "metadata": {},
     "output_type": "execute_result"
    }
   ],
   "source": [
    "type(my_tuple)"
   ]
  },
  {
   "cell_type": "markdown",
   "metadata": {
    "id": "fBTc-W5hNcZS"
   },
   "source": [
    "`str` is immutable too:"
   ]
  },
  {
   "cell_type": "code",
   "execution_count": 9,
   "metadata": {
    "colab": {
     "base_uri": "https://localhost:8080/",
     "height": 184
    },
    "executionInfo": {
     "elapsed": 297,
     "status": "error",
     "timestamp": 1670271800454,
     "user": {
      "displayName": "Nadia Domide",
      "userId": "13986377551014052134"
     },
     "user_tz": -120
    },
    "id": "zYEcXKUqNcZS",
    "outputId": "25a15869-4c9d-4d51-acdc-55ecfc3974e8",
    "tags": [
     "raises-exception"
    ]
   },
   "outputs": [
    {
     "ename": "TypeError",
     "evalue": "'str' object does not support item assignment",
     "output_type": "error",
     "traceback": [
      "\u001b[1;31m---------------------------------------------------------------------------\u001b[0m",
      "\u001b[1;31mTypeError\u001b[0m                                 Traceback (most recent call last)",
      "Cell \u001b[1;32mIn[9], line 2\u001b[0m\n\u001b[0;32m      1\u001b[0m fish \u001b[38;5;241m=\u001b[39m \u001b[38;5;124m\"\u001b[39m\u001b[38;5;124mHake\u001b[39m\u001b[38;5;124m\"\u001b[39m\n\u001b[1;32m----> 2\u001b[0m \u001b[43mfish\u001b[49m\u001b[43m[\u001b[49m\u001b[38;5;241;43m0\u001b[39;49m\u001b[43m]\u001b[49m \u001b[38;5;241m=\u001b[39m \u001b[38;5;124m\"\u001b[39m\u001b[38;5;124mR\u001b[39m\u001b[38;5;124m\"\u001b[39m\n",
      "\u001b[1;31mTypeError\u001b[0m: 'str' object does not support item assignment"
     ]
    }
   ],
   "source": [
    "fish = \"Hake\"\n",
    "fish[0] = \"R\""
   ]
  },
  {
   "cell_type": "markdown",
   "metadata": {
    "id": "-ZFGwFU3NcZS"
   },
   "source": [
    "But note that container reassignment is moving a label using the = sign rather than just using the brackets to asign new character, **not** changing an element:"
   ]
  },
  {
   "cell_type": "code",
   "execution_count": 10,
   "metadata": {
    "id": "Trb--3RCNcZS"
   },
   "outputs": [],
   "source": [
    "fish = \"Rake\"  # OK!"
   ]
  },
  {
   "cell_type": "code",
   "execution_count": 47,
   "metadata": {},
   "outputs": [
    {
     "data": {
      "text/plain": [
       "{0: 0,\n",
       " 1: 1,\n",
       " 2: 2,\n",
       " 3: 3,\n",
       " 4: 4,\n",
       " 5: 5,\n",
       " 6: 6,\n",
       " 7: 7,\n",
       " 8: 8,\n",
       " 9: 9,\n",
       " 10: 10,\n",
       " 11: 11,\n",
       " 12: 12,\n",
       " 13: 13,\n",
       " 14: 14,\n",
       " 15: 15,\n",
       " 16: 16,\n",
       " 17: 17,\n",
       " 18: 18,\n",
       " 19: 19}"
      ]
     },
     "execution_count": 47,
     "metadata": {},
     "output_type": "execute_result"
    }
   ],
   "source": [
    "# list comprehension\n",
    "\n",
    "[e for e in range(20)]\n",
    "\n",
    "{k:v for k,v in zip(range(20), range(20))}"
   ]
  },
  {
   "cell_type": "code",
   "execution_count": 48,
   "metadata": {},
   "outputs": [
    {
     "data": {
      "text/plain": [
       "[(0, 0),\n",
       " (1, 1),\n",
       " (2, 2),\n",
       " (3, 3),\n",
       " (4, 4),\n",
       " (5, 5),\n",
       " (6, 6),\n",
       " (7, 7),\n",
       " (8, 8),\n",
       " (9, 9),\n",
       " (10, 10),\n",
       " (11, 11),\n",
       " (12, 12),\n",
       " (13, 13),\n",
       " (14, 14),\n",
       " (15, 15),\n",
       " (16, 16),\n",
       " (17, 17),\n",
       " (18, 18),\n",
       " (19, 19)]"
      ]
     },
     "execution_count": 48,
     "metadata": {},
     "output_type": "execute_result"
    }
   ],
   "source": [
    "list(zip(range(20),range(20)))"
   ]
  },
  {
   "cell_type": "markdown",
   "metadata": {
    "id": "1Lkah4WHNcZT"
   },
   "source": [
    "*Supplementary material*: Try the [online memory visualiser](http://www.pythontutor.com/visualize.html#code=name+%3D++%22James+Philip+John+Hetherington%22.split%28%22+%22%29%0A%0Aname%5B0%5D+%3D+%22Dr%22%0Aname%5B1%3A3%5D+%3D+%5B%22Griffiths-%22%5D%0Aname.append%28%22PhD%22%29%0A%0Aname+%3D+%22Bilbo+Baggins%22&mode=display&origin=opt-frontend.js&cumulative=false&heapPrimitives=true&textReferences=false&py=2&rawInputLstJSON=%5B%5D&curInstr=0) for this one."
   ]
  },
  {
   "cell_type": "markdown",
   "metadata": {
    "id": "YRd2bQgONcZT"
   },
   "source": [
    "## 1.1.4 Memory and containers"
   ]
  },
  {
   "cell_type": "markdown",
   "metadata": {
    "id": "3f5ZueqKNcZT"
   },
   "source": [
    "\n",
    "The way memory works with containers can be important:\n",
    "\n",
    "\n"
   ]
  },
  {
   "cell_type": "markdown",
   "metadata": {
    "id": "ZGmUWXa-_TYu"
   },
   "source": [
    "Everything exists as boxes, and then you can put a label and then you can move things around in a box or change the name of the box."
   ]
  },
  {
   "cell_type": "markdown",
   "metadata": {
    "id": "AP3ECQvF_tnE"
   },
   "source": [
    "Here we create a list with numbers going from 0 to 2:"
   ]
  },
  {
   "cell_type": "code",
   "execution_count": 11,
   "metadata": {
    "colab": {
     "base_uri": "https://localhost:8080/"
    },
    "executionInfo": {
     "elapsed": 4,
     "status": "ok",
     "timestamp": 1670272468408,
     "user": {
      "displayName": "Nadia Domide",
      "userId": "13986377551014052134"
     },
     "user_tz": -120
    },
    "id": "YyTLDZUzNcZT",
    "outputId": "1d346e7e-7199-4a40-b3d2-ba35dbcd7ad8"
   },
   "outputs": [
    {
     "data": {
      "text/plain": [
       "[0, 1, 2]"
      ]
     },
     "execution_count": 11,
     "metadata": {},
     "output_type": "execute_result"
    }
   ],
   "source": [
    "x = list(range(3))\n",
    "x"
   ]
  },
  {
   "cell_type": "markdown",
   "metadata": {
    "id": "N8rJ0kD8_0ZF"
   },
   "source": [
    "And here we are going to have y which is going to be created from x:"
   ]
  },
  {
   "cell_type": "code",
   "execution_count": 12,
   "metadata": {
    "colab": {
     "base_uri": "https://localhost:8080/"
    },
    "executionInfo": {
     "elapsed": 4,
     "status": "ok",
     "timestamp": 1670272484398,
     "user": {
      "displayName": "Nadia Domide",
      "userId": "13986377551014052134"
     },
     "user_tz": -120
    },
    "id": "V_Uxjka8NcZU",
    "outputId": "e15b7917-696c-4d6e-fa61-315584029097"
   },
   "outputs": [
    {
     "data": {
      "text/plain": [
       "[0, 1, 2]"
      ]
     },
     "execution_count": 12,
     "metadata": {},
     "output_type": "execute_result"
    }
   ],
   "source": [
    "y = x\n",
    "y"
   ]
  },
  {
   "cell_type": "markdown",
   "metadata": {
    "id": "KdzYkacm_6i4"
   },
   "source": [
    "Now we have 2 variables, x and y, which are both this list [0, 1, 2]  \n",
    "We can then ask for a 3rd one called z which we will create from x using the square brackets [] and we are going to change a value from the middle of the list:"
   ]
  },
  {
   "cell_type": "code",
   "execution_count": 13,
   "metadata": {
    "id": "rOenNmg3NcZU"
   },
   "outputs": [],
   "source": [
    "z = x[0:3]\n",
    "y[1] = \"Gotcha!\""
   ]
  },
  {
   "cell_type": "code",
   "execution_count": 14,
   "metadata": {
    "colab": {
     "base_uri": "https://localhost:8080/"
    },
    "executionInfo": {
     "elapsed": 3,
     "status": "ok",
     "timestamp": 1670272580444,
     "user": {
      "displayName": "Nadia Domide",
      "userId": "13986377551014052134"
     },
     "user_tz": -120
    },
    "id": "J54f20l0NcZU",
    "outputId": "1e8ca4cd-7c59-491b-8c18-853c7ff47d8e"
   },
   "outputs": [
    {
     "data": {
      "text/plain": [
       "[0, 'Gotcha!', 2]"
      ]
     },
     "execution_count": 14,
     "metadata": {},
     "output_type": "execute_result"
    }
   ],
   "source": [
    "x"
   ]
  },
  {
   "cell_type": "code",
   "execution_count": 15,
   "metadata": {
    "colab": {
     "base_uri": "https://localhost:8080/"
    },
    "executionInfo": {
     "elapsed": 2,
     "status": "ok",
     "timestamp": 1670272580765,
     "user": {
      "displayName": "Nadia Domide",
      "userId": "13986377551014052134"
     },
     "user_tz": -120
    },
    "id": "EM1PcIhENcZU",
    "outputId": "d97cc70c-1bb5-496e-8878-5f52c60dcdce"
   },
   "outputs": [
    {
     "data": {
      "text/plain": [
       "[0, 'Gotcha!', 2]"
      ]
     },
     "execution_count": 15,
     "metadata": {},
     "output_type": "execute_result"
    }
   ],
   "source": [
    "y"
   ]
  },
  {
   "cell_type": "code",
   "execution_count": 16,
   "metadata": {
    "colab": {
     "base_uri": "https://localhost:8080/"
    },
    "executionInfo": {
     "elapsed": 638,
     "status": "ok",
     "timestamp": 1670272612372,
     "user": {
      "displayName": "Nadia Domide",
      "userId": "13986377551014052134"
     },
     "user_tz": -120
    },
    "id": "RT4VmFtCNcZU",
    "outputId": "cde88fdd-3af4-4389-c8a5-3616b1425df7"
   },
   "outputs": [
    {
     "data": {
      "text/plain": [
       "[0, 1, 2]"
      ]
     },
     "execution_count": 16,
     "metadata": {},
     "output_type": "execute_result"
    }
   ],
   "source": [
    "z"
   ]
  },
  {
   "cell_type": "markdown",
   "metadata": {
    "id": "iAflbDHvAZnw"
   },
   "source": [
    "And some of these change and some of them does not. Why? Let´s visualize it"
   ]
  },
  {
   "cell_type": "code",
   "execution_count": 17,
   "metadata": {
    "id": "123L2zc8NcZV"
   },
   "outputs": [],
   "source": [
    "z[2] = \"Really?\""
   ]
  },
  {
   "cell_type": "code",
   "execution_count": 18,
   "metadata": {
    "colab": {
     "base_uri": "https://localhost:8080/"
    },
    "executionInfo": {
     "elapsed": 2,
     "status": "ok",
     "timestamp": 1670272757251,
     "user": {
      "displayName": "Nadia Domide",
      "userId": "13986377551014052134"
     },
     "user_tz": -120
    },
    "id": "4COTl8ZVNcZV",
    "outputId": "3ae53b44-8c09-4194-d692-8d21488b66b6"
   },
   "outputs": [
    {
     "data": {
      "text/plain": [
       "[0, 'Gotcha!', 2]"
      ]
     },
     "execution_count": 18,
     "metadata": {},
     "output_type": "execute_result"
    }
   ],
   "source": [
    "x"
   ]
  },
  {
   "cell_type": "code",
   "execution_count": 19,
   "metadata": {
    "colab": {
     "base_uri": "https://localhost:8080/"
    },
    "executionInfo": {
     "elapsed": 2,
     "status": "ok",
     "timestamp": 1670272758361,
     "user": {
      "displayName": "Nadia Domide",
      "userId": "13986377551014052134"
     },
     "user_tz": -120
    },
    "id": "axK4A67mNcZV",
    "outputId": "642438b4-249a-4ff5-9169-69d7ad42ade1"
   },
   "outputs": [
    {
     "data": {
      "text/plain": [
       "[0, 'Gotcha!', 2]"
      ]
     },
     "execution_count": 19,
     "metadata": {},
     "output_type": "execute_result"
    }
   ],
   "source": [
    "y"
   ]
  },
  {
   "cell_type": "code",
   "execution_count": 20,
   "metadata": {
    "colab": {
     "base_uri": "https://localhost:8080/"
    },
    "executionInfo": {
     "elapsed": 3,
     "status": "ok",
     "timestamp": 1670272758973,
     "user": {
      "displayName": "Nadia Domide",
      "userId": "13986377551014052134"
     },
     "user_tz": -120
    },
    "id": "XPp5P6_INcZV",
    "outputId": "55dcc25e-e8b7-49be-f798-8858325f3c40"
   },
   "outputs": [
    {
     "data": {
      "text/plain": [
       "[0, 1, 'Really?']"
      ]
     },
     "execution_count": 20,
     "metadata": {},
     "output_type": "execute_result"
    }
   ],
   "source": [
    "z"
   ]
  },
  {
   "cell_type": "markdown",
   "metadata": {
    "id": "p7YIWAfrNcZV"
   },
   "source": [
    "*Supplementary material*: This one works well at the [memory visualiser](http://www.pythontutor.com/visualize.html#code=x+%3D+%5B%22What's%22,+%22Going%22,+%22On%3F%22%5D%0Ay+%3D+x%0Az+%3D+x%5B0%3A3%5D%0A%0Ay%5B1%5D+%3D+%22Gotcha!%22%0Az%5B2%5D+%3D+%22Really%3F%22&mode=display&origin=opt-frontend.js&cumulative=false&heapPrimitives=true&textReferences=false&py=2&rawInputLstJSON=%5B%5D&curInstr=0)."
   ]
  },
  {
   "cell_type": "markdown",
   "metadata": {
    "id": "9domfHO5NcZV"
   },
   "source": [
    "The explanation: While `y` is a second label on the *same object*, `z` is a separate object with the same data. Writing `x[:]` creates a new list containing all the elements of `x` (remember: `[:]` is equivalent to `[0:<last>]`). This is the case whenever we take a slice from a list, not just when taking all the elements with `[:]`.\n",
    "\n",
    "The difference between `y=x` and `z=x[:]` is important!"
   ]
  },
  {
   "cell_type": "markdown",
   "metadata": {
    "id": "BB6dwUusBbiy"
   },
   "source": [
    "So just be super careful that you understand the difference between copying something and assign it or giving it a new label. In this case the object has been represented by x and y means that if I change in x or if i change in y both of them are going to change the same object.  \n",
    "This has an effect if you start to store lots o gigabytes.  \n",
    "Dataframe.copy(): I want a completely new object of the items of this previous object. Bc if you just use = you make a new pointer to the same place."
   ]
  },
  {
   "cell_type": "markdown",
   "metadata": {
    "id": "O0s1BUCcNcZW"
   },
   "source": [
    "Nested objects make it even more complicated. Our first element in the list happens to be a list itself so it has first elements and second elements within so list can contain other lists."
   ]
  },
  {
   "cell_type": "code",
   "execution_count": 21,
   "metadata": {
    "id": "QrWQlIJjNcZW"
   },
   "outputs": [],
   "source": [
    "x = [[\"a\", \"b\"], \"c\"]\n",
    "y = x # we are going to create a new label for x which is called y\n",
    "z = x[0:2] # z will contain the same list"
   ]
  },
  {
   "cell_type": "code",
   "execution_count": 22,
   "metadata": {
    "colab": {
     "base_uri": "https://localhost:8080/"
    },
    "executionInfo": {
     "elapsed": 3,
     "status": "ok",
     "timestamp": 1670274312197,
     "user": {
      "displayName": "Nadia Domide",
      "userId": "13986377551014052134"
     },
     "user_tz": -120
    },
    "id": "4ciV63PeGxXY",
    "outputId": "46913bec-5dc6-44a3-ebdb-1c430f4400cb"
   },
   "outputs": [
    {
     "data": {
      "text/plain": [
       "[['a', 'b'], 'c']"
      ]
     },
     "execution_count": 22,
     "metadata": {},
     "output_type": "execute_result"
    }
   ],
   "source": [
    "z"
   ]
  },
  {
   "cell_type": "code",
   "execution_count": 23,
   "metadata": {
    "id": "l6xuH4PZNcZW"
   },
   "outputs": [],
   "source": [
    "x[0][1] = \"d\" # in the first element in the list get the second element and change that to \"d\"\n",
    "z[1] = \"e\""
   ]
  },
  {
   "cell_type": "markdown",
   "metadata": {
    "id": "ofOtJwYCHWmW"
   },
   "source": [
    "Can anyone tell me what x will be?"
   ]
  },
  {
   "cell_type": "code",
   "execution_count": 24,
   "metadata": {
    "colab": {
     "base_uri": "https://localhost:8080/"
    },
    "executionInfo": {
     "elapsed": 2,
     "status": "ok",
     "timestamp": 1670274351505,
     "user": {
      "displayName": "Nadia Domide",
      "userId": "13986377551014052134"
     },
     "user_tz": -120
    },
    "id": "UwhV3H3CNcZW",
    "outputId": "d991be68-a8d0-4280-9f72-7255ee4a52a9"
   },
   "outputs": [
    {
     "data": {
      "text/plain": [
       "[['a', 'd'], 'c']"
      ]
     },
     "execution_count": 24,
     "metadata": {},
     "output_type": "execute_result"
    }
   ],
   "source": [
    "x"
   ]
  },
  {
   "cell_type": "markdown",
   "metadata": {
    "id": "owckfmImHgPP"
   },
   "source": [
    "Can anyone tell me what y will be?"
   ]
  },
  {
   "cell_type": "code",
   "execution_count": 25,
   "metadata": {
    "colab": {
     "base_uri": "https://localhost:8080/"
    },
    "executionInfo": {
     "elapsed": 3,
     "status": "ok",
     "timestamp": 1670274351805,
     "user": {
      "displayName": "Nadia Domide",
      "userId": "13986377551014052134"
     },
     "user_tz": -120
    },
    "id": "Vg5aqNQMNcZW",
    "outputId": "3f9626a9-a926-4e88-c59a-ca38d33f5498"
   },
   "outputs": [
    {
     "data": {
      "text/plain": [
       "[['a', 'd'], 'c']"
      ]
     },
     "execution_count": 25,
     "metadata": {},
     "output_type": "execute_result"
    }
   ],
   "source": [
    "y # this is the same object but I want a new label for that object"
   ]
  },
  {
   "cell_type": "code",
   "execution_count": 26,
   "metadata": {
    "colab": {
     "base_uri": "https://localhost:8080/"
    },
    "executionInfo": {
     "elapsed": 3,
     "status": "ok",
     "timestamp": 1670274353634,
     "user": {
      "displayName": "Nadia Domide",
      "userId": "13986377551014052134"
     },
     "user_tz": -120
    },
    "id": "I1jiwW5yNcZX",
    "outputId": "31ceab7c-a9ec-4903-be2a-26719effe52c"
   },
   "outputs": [
    {
     "data": {
      "text/plain": [
       "[['a', 'd'], 'e']"
      ]
     },
     "execution_count": 26,
     "metadata": {},
     "output_type": "execute_result"
    }
   ],
   "source": [
    "z # remember z was produced before I have changed something in x. Go to the visualiser."
   ]
  },
  {
   "cell_type": "code",
   "execution_count": 27,
   "metadata": {
    "colab": {
     "base_uri": "https://localhost:8080/"
    },
    "executionInfo": {
     "elapsed": 4,
     "status": "ok",
     "timestamp": 1670274700556,
     "user": {
      "displayName": "Nadia Domide",
      "userId": "13986377551014052134"
     },
     "user_tz": -120
    },
    "id": "fAFLev6NIUZn",
    "outputId": "7f7171ed-4b70-412e-f7f5-2121648ce40c"
   },
   "outputs": [
    {
     "data": {
      "text/plain": [
       "[['a', 'd'], 'c']"
      ]
     },
     "execution_count": 27,
     "metadata": {},
     "output_type": "execute_result"
    }
   ],
   "source": [
    "x"
   ]
  },
  {
   "cell_type": "markdown",
   "metadata": {
    "id": "Q5ktruE_Iq91"
   },
   "source": [
    "Being a shallow copy: if the objects contained are mutable and one is changed the change will be reflected in both lists. Here the first element is a list and it is mutable and any change to it is reflected both in x and z, and the second element is a character which is immutable and a change to it will not be reflected in both variables."
   ]
  },
  {
   "cell_type": "code",
   "execution_count": 28,
   "metadata": {
    "id": "NLUqI-txNcZX"
   },
   "outputs": [],
   "source": [
    "x = [1, 2]\n",
    "y = x\n",
    "z = x[0:2]"
   ]
  },
  {
   "cell_type": "markdown",
   "metadata": {
    "id": "CJRuWYaNKFfg"
   },
   "source": [
    "Try the [visualiser](https://pythontutor.com/visualize.html#code=x%20%3D%20%5B1,%202%5D%0Ay%20%3D%20x%0Az%20%3D%20x%5B0%3A2%5D%0Aprint%28z%29%0Ax%5B0%5D%20%3D%20%22d%22%0Az%5B1%5D%20%3D%20%22e%22%0Aprint%28z%29%0Aprint%28x%29&cumulative=false&curInstr=8&heapPrimitives=nevernest&mode=display&origin=opt-frontend.js&py=3&rawInputLstJSON=%5B%5D&textReferences=false) again."
   ]
  },
  {
   "cell_type": "code",
   "execution_count": 29,
   "metadata": {
    "colab": {
     "base_uri": "https://localhost:8080/"
    },
    "executionInfo": {
     "elapsed": 835,
     "status": "ok",
     "timestamp": 1670274969596,
     "user": {
      "displayName": "Nadia Domide",
      "userId": "13986377551014052134"
     },
     "user_tz": -120
    },
    "id": "_5jwErYRNcZX",
    "outputId": "02c90971-9a8a-40a1-ba9b-651c854e53ca"
   },
   "outputs": [
    {
     "data": {
      "text/plain": [
       "[1, 2]"
      ]
     },
     "execution_count": 29,
     "metadata": {},
     "output_type": "execute_result"
    }
   ],
   "source": [
    "z"
   ]
  },
  {
   "cell_type": "code",
   "execution_count": 30,
   "metadata": {
    "id": "FIiaoyxoNcZX"
   },
   "outputs": [],
   "source": [
    "x[0] = \"d\"\n",
    "z[1] = \"e\""
   ]
  },
  {
   "cell_type": "code",
   "execution_count": 31,
   "metadata": {
    "colab": {
     "base_uri": "https://localhost:8080/"
    },
    "executionInfo": {
     "elapsed": 2,
     "status": "ok",
     "timestamp": 1670274996174,
     "user": {
      "displayName": "Nadia Domide",
      "userId": "13986377551014052134"
     },
     "user_tz": -120
    },
    "id": "LvWogSZ5NcZX",
    "outputId": "420d8795-d469-41f7-ff97-0521cd397c72"
   },
   "outputs": [
    {
     "data": {
      "text/plain": [
       "[1, 'e']"
      ]
     },
     "execution_count": 31,
     "metadata": {},
     "output_type": "execute_result"
    }
   ],
   "source": [
    "z"
   ]
  },
  {
   "cell_type": "code",
   "execution_count": 32,
   "metadata": {
    "colab": {
     "base_uri": "https://localhost:8080/"
    },
    "executionInfo": {
     "elapsed": 893,
     "status": "ok",
     "timestamp": 1670275001780,
     "user": {
      "displayName": "Nadia Domide",
      "userId": "13986377551014052134"
     },
     "user_tz": -120
    },
    "id": "3UdEg2EINcZX",
    "outputId": "43f27d33-d56c-4734-a3d9-d71b84bfee19"
   },
   "outputs": [
    {
     "data": {
      "text/plain": [
       "['d', 2]"
      ]
     },
     "execution_count": 32,
     "metadata": {},
     "output_type": "execute_result"
    }
   ],
   "source": [
    "x"
   ]
  },
  {
   "cell_type": "markdown",
   "metadata": {
    "id": "l0T8r14eNcZX"
   },
   "source": [
    "Try the [visualiser](http://www.pythontutor.com/visualize.html#code=x%3D%5B%5B'a','b'%5D,'c'%5D%0Ay%3Dx%0Az%3Dx%5B0%3A2%5D%0A%0Ax%5B0%5D%5B1%5D%3D'd'%0Az%5B1%5D%3D'e'&mode=display&origin=opt-frontend.js&cumulative=false&heapPrimitives=true&textReferences=false&py=2&rawInputLstJSON=%5B%5D&curInstr=0) again.\n",
    "\n",
    "*Supplementary material*: The copies that we make through slicing are called **shallow copies**: **we don't copy all the objects they contain, only the references to them**. This is why the nested list in `x[0]` is not copied, so `z[0]` still refers to it. It is possible to actually create copies of all the contents, however deeply nested they are - this is called a *deep copy*. Python provides methods for that in its standard library, in the `copy` module. You can read more about that, as well as about shallow and deep copies, in the [library reference](https://docs.python.org/3/library/copy.html)."
   ]
  },
  {
   "cell_type": "markdown",
   "metadata": {
    "id": "chGeGRSXK9Qd"
   },
   "source": [
    "Make a deep copy: [visualiser](https://pythontutor.com/visualize.html#code=import%20copy%0A%0Ax%20%3D%20%5B%5B%22a%22,%20%22b%22%5D,%20%22c%22%5D%0Ay%20%3D%20x%0Az%20%3D%20x%5B0%3A2%5D%0Azz%20%3D%20copy.deepcopy%28x%29%0A%0Ax%5B0%5D%5B1%5D%20%3D%20%22d%22%0Az%5B1%5D%20%3D%20%22e%22%0A%0Aprint%28z%29%0Aprint%28zz%29%0Aprint%28x%29&cumulative=false&curInstr=10&heapPrimitives=nevernest&mode=display&origin=opt-frontend.js&py=3&rawInputLstJSON=%5B%5D&textReferences=false).\n",
    "b = [item[:] for item in a]"
   ]
  },
  {
   "cell_type": "markdown",
   "metadata": {
    "id": "bxcVE7EfNcZY"
   },
   "source": [
    "## 1.1.5 Identity vs Equality\n",
    "\n",
    "Having the same data is different from being the same actual object\n",
    "in memory:"
   ]
  },
  {
   "cell_type": "code",
   "execution_count": 33,
   "metadata": {
    "colab": {
     "base_uri": "https://localhost:8080/"
    },
    "executionInfo": {
     "elapsed": 325,
     "status": "ok",
     "timestamp": 1670275401349,
     "user": {
      "displayName": "Nadia Domide",
      "userId": "13986377551014052134"
     },
     "user_tz": -120
    },
    "id": "egFx2ZQqNcZY",
    "outputId": "1faadcb0-16be-4367-a61b-aaca83280cfe"
   },
   "outputs": [
    {
     "data": {
      "text/plain": [
       "True"
      ]
     },
     "execution_count": 33,
     "metadata": {},
     "output_type": "execute_result"
    }
   ],
   "source": [
    "[1, 2] == [1, 2]"
   ]
  },
  {
   "cell_type": "code",
   "execution_count": 34,
   "metadata": {
    "colab": {
     "base_uri": "https://localhost:8080/"
    },
    "executionInfo": {
     "elapsed": 4,
     "status": "ok",
     "timestamp": 1670275403593,
     "user": {
      "displayName": "Nadia Domide",
      "userId": "13986377551014052134"
     },
     "user_tz": -120
    },
    "id": "ZarKXc85NcZY",
    "outputId": "2a9976d5-166f-432e-8fc9-bcba6ffb26b9"
   },
   "outputs": [
    {
     "data": {
      "text/plain": [
       "False"
      ]
     },
     "execution_count": 34,
     "metadata": {},
     "output_type": "execute_result"
    }
   ],
   "source": [
    "[1, 2] is [1, 2]"
   ]
  },
  {
   "cell_type": "code",
   "execution_count": 50,
   "metadata": {},
   "outputs": [
    {
     "data": {
      "text/plain": [
       "False"
      ]
     },
     "execution_count": 50,
     "metadata": {},
     "output_type": "execute_result"
    }
   ],
   "source": [
    "a = [1, 2]\n",
    "b = [1, 2]\n",
    "\n",
    "a is b "
   ]
  },
  {
   "cell_type": "code",
   "execution_count": 52,
   "metadata": {},
   "outputs": [
    {
     "data": {
      "text/plain": [
       "(47559616, 47560960)"
      ]
     },
     "execution_count": 52,
     "metadata": {},
     "output_type": "execute_result"
    }
   ],
   "source": [
    "id(a), id(b)"
   ]
  },
  {
   "cell_type": "markdown",
   "metadata": {
    "id": "7uaKA3OvNcZY"
   },
   "source": [
    "The == operator checks, element by element, that two containers have the same data.\n",
    "The `is` operator checks that they are actually the same object."
   ]
  },
  {
   "cell_type": "markdown",
   "metadata": {
    "id": "iltxFhSrNcZY"
   },
   "source": [
    "But, and this point is really subtle, for immutables, the python language might save memory by reusing a single instantiated copy. This will always be safe."
   ]
  },
  {
   "cell_type": "markdown",
   "metadata": {},
   "source": [
    "## STRING"
   ]
  },
  {
   "cell_type": "code",
   "execution_count": 35,
   "metadata": {
    "colab": {
     "base_uri": "https://localhost:8080/"
    },
    "executionInfo": {
     "elapsed": 295,
     "status": "ok",
     "timestamp": 1670275422054,
     "user": {
      "displayName": "Nadia Domide",
      "userId": "13986377551014052134"
     },
     "user_tz": -120
    },
    "id": "9RBTxnMANcZY",
    "outputId": "9b17137c-a933-4270-ea14-e61c9883b8ba"
   },
   "outputs": [
    {
     "data": {
      "text/plain": [
       "True"
      ]
     },
     "execution_count": 35,
     "metadata": {},
     "output_type": "execute_result"
    }
   ],
   "source": [
    "\"Hello\" == \"Hello\""
   ]
  },
  {
   "cell_type": "code",
   "execution_count": 36,
   "metadata": {
    "colab": {
     "base_uri": "https://localhost:8080/"
    },
    "executionInfo": {
     "elapsed": 303,
     "status": "ok",
     "timestamp": 1670275429069,
     "user": {
      "displayName": "Nadia Domide",
      "userId": "13986377551014052134"
     },
     "user_tz": -120
    },
    "id": "zwDZeRf4NcZZ",
    "outputId": "d7df70e7-f22e-44e7-838a-5d41d6051250"
   },
   "outputs": [
    {
     "name": "stderr",
     "output_type": "stream",
     "text": [
      "<>:1: SyntaxWarning: \"is\" with 'str' literal. Did you mean \"==\"?\n",
      "<>:1: SyntaxWarning: \"is\" with 'str' literal. Did you mean \"==\"?\n",
      "C:\\Users\\cpop4\\AppData\\Local\\Temp\\ipykernel_9920\\3904443404.py:1: SyntaxWarning: \"is\" with 'str' literal. Did you mean \"==\"?\n",
      "  \"Hello\" is \"Hello\"\n"
     ]
    },
    {
     "data": {
      "text/plain": [
       "True"
      ]
     },
     "execution_count": 36,
     "metadata": {},
     "output_type": "execute_result"
    }
   ],
   "source": [
    "\"Hello\" is \"Hello\""
   ]
  },
  {
   "cell_type": "markdown",
   "metadata": {
    "id": "QDtAGrNdNcZZ"
   },
   "source": [
    "This can be useful in understanding problems like the one above:"
   ]
  },
  {
   "cell_type": "code",
   "execution_count": 37,
   "metadata": {
    "id": "CDy0AAIzNcZZ"
   },
   "outputs": [],
   "source": [
    "x = range(3)\n",
    "y = x\n",
    "z = x[:]"
   ]
  },
  {
   "cell_type": "markdown",
   "metadata": {},
   "source": [
    "## : inseamna ca se selecteaza tot"
   ]
  },
  {
   "cell_type": "markdown",
   "metadata": {},
   "source": [
    "## :-2 inseamna pana la penultimul nr"
   ]
  },
  {
   "cell_type": "markdown",
   "metadata": {},
   "source": [
    "## ::-1 inseamna de la penultimul la primul"
   ]
  },
  {
   "cell_type": "code",
   "execution_count": 38,
   "metadata": {
    "colab": {
     "base_uri": "https://localhost:8080/"
    },
    "executionInfo": {
     "elapsed": 908,
     "status": "ok",
     "timestamp": 1670275444632,
     "user": {
      "displayName": "Nadia Domide",
      "userId": "13986377551014052134"
     },
     "user_tz": -120
    },
    "id": "TDO-IXVcNcZZ",
    "outputId": "3e59eda3-dae1-49c2-edfe-6386c0e96d78"
   },
   "outputs": [
    {
     "data": {
      "text/plain": [
       "True"
      ]
     },
     "execution_count": 38,
     "metadata": {},
     "output_type": "execute_result"
    }
   ],
   "source": [
    "x == y"
   ]
  },
  {
   "cell_type": "code",
   "execution_count": 39,
   "metadata": {
    "colab": {
     "base_uri": "https://localhost:8080/"
    },
    "executionInfo": {
     "elapsed": 2,
     "status": "ok",
     "timestamp": 1670275445046,
     "user": {
      "displayName": "Nadia Domide",
      "userId": "13986377551014052134"
     },
     "user_tz": -120
    },
    "id": "35t2dpUcNcZZ",
    "outputId": "7613ee04-7f81-494e-a005-b969968edd91"
   },
   "outputs": [
    {
     "data": {
      "text/plain": [
       "True"
      ]
     },
     "execution_count": 39,
     "metadata": {},
     "output_type": "execute_result"
    }
   ],
   "source": [
    "x is y"
   ]
  },
  {
   "cell_type": "code",
   "execution_count": 40,
   "metadata": {
    "colab": {
     "base_uri": "https://localhost:8080/"
    },
    "executionInfo": {
     "elapsed": 4,
     "status": "ok",
     "timestamp": 1670275445780,
     "user": {
      "displayName": "Nadia Domide",
      "userId": "13986377551014052134"
     },
     "user_tz": -120
    },
    "id": "abmAejOnNcZZ",
    "outputId": "e1a814a1-ce51-4746-f19b-ea9310dc9a04"
   },
   "outputs": [
    {
     "data": {
      "text/plain": [
       "True"
      ]
     },
     "execution_count": 40,
     "metadata": {},
     "output_type": "execute_result"
    }
   ],
   "source": [
    "x == z"
   ]
  },
  {
   "cell_type": "code",
   "execution_count": 41,
   "metadata": {
    "colab": {
     "base_uri": "https://localhost:8080/"
    },
    "executionInfo": {
     "elapsed": 408,
     "status": "ok",
     "timestamp": 1670275448343,
     "user": {
      "displayName": "Nadia Domide",
      "userId": "13986377551014052134"
     },
     "user_tz": -120
    },
    "id": "Wsdv_4_ZNcZa",
    "outputId": "8011fdfd-43b0-4f79-eb9c-1dd7bd967fa1"
   },
   "outputs": [
    {
     "data": {
      "text/plain": [
       "False"
      ]
     },
     "execution_count": 41,
     "metadata": {},
     "output_type": "execute_result"
    }
   ],
   "source": [
    "x is z"
   ]
  }
 ],
 "metadata": {
  "colab": {
   "provenance": []
  },
  "jekyll": {
   "display_name": "Containers"
  },
  "kernelspec": {
   "display_name": "Python 3",
   "language": "python",
   "name": "python3"
  },
  "language_info": {
   "codemirror_mode": {
    "name": "ipython",
    "version": 3
   },
   "file_extension": ".py",
   "mimetype": "text/x-python",
   "name": "python",
   "nbconvert_exporter": "python",
   "pygments_lexer": "ipython3",
   "version": "3.13.1"
  }
 },
 "nbformat": 4,
 "nbformat_minor": 0
}
