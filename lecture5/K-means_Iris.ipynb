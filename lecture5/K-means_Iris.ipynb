{
 "cells": [
  {
   "cell_type": "markdown",
   "metadata": {
    "id": "Runs0jG9ffSy"
   },
   "source": [
    "Import some libraries we'll need later:"
   ]
  },
  {
   "cell_type": "code",
   "execution_count": null,
   "metadata": {},
   "outputs": [],
   "source": []
  },
  {
   "cell_type": "code",
   "execution_count": 4,
   "metadata": {
    "executionInfo": {
     "elapsed": 1147,
     "status": "ok",
     "timestamp": 1702653982808,
     "user": {
      "displayName": "Nadia Domide",
      "userId": "13986377551014052134"
     },
     "user_tz": -60
    },
    "id": "XnrMLG7efdvf"
   },
   "outputs": [],
   "source": [
    "import matplotlib.pyplot as plt\n",
    "import numpy as np\n",
    "import pandas as pd\n",
    "import numpy as np\n",
    "import matplotlib.pyplot as plt\n",
    "\n",
    "from sklearn import datasets\n",
    "from sklearn.metrics import silhouette_samples, silhouette_score\n",
    "\n",
    "import matplotlib\n",
    "%matplotlib inline\n",
    "matplotlib.style.use('ggplot')"
   ]
  },
  {
   "cell_type": "markdown",
   "metadata": {
    "id": "7ekuxdaAf-PP"
   },
   "source": [
    "Loading Iris dataset: This data consists of 50 samples from each of three species of Iris (Iris setosa, Iris virginica and Iris versicolor). It has four features from each sample: length and width of sepals and petals."
   ]
  },
  {
   "cell_type": "code",
   "execution_count": 5,
   "metadata": {
    "executionInfo": {
     "elapsed": 741,
     "status": "ok",
     "timestamp": 1702653983546,
     "user": {
      "displayName": "Nadia Domide",
      "userId": "13986377551014052134"
     },
     "user_tz": -60
    },
    "id": "tbd9P7hfgA9r"
   },
   "outputs": [],
   "source": [
    "iris = datasets.load_iris()"
   ]
  },
  {
   "cell_type": "code",
   "execution_count": 6,
   "metadata": {
    "executionInfo": {
     "elapsed": 5,
     "status": "ok",
     "timestamp": 1702653986043,
     "user": {
      "displayName": "Nadia Domide",
      "userId": "13986377551014052134"
     },
     "user_tz": -60
    },
    "id": "m1Yc0WGYpbzk"
   },
   "outputs": [],
   "source": [
    "#iris.target"
   ]
  },
  {
   "cell_type": "code",
   "execution_count": 7,
   "metadata": {
    "colab": {
     "base_uri": "https://localhost:8080/"
    },
    "executionInfo": {
     "elapsed": 5,
     "status": "ok",
     "timestamp": 1702653986528,
     "user": {
      "displayName": "Nadia Domide",
      "userId": "13986377551014052134"
     },
     "user_tz": -60
    },
    "id": "C62rRWJ728Ns",
    "outputId": "b9555aa2-9bbe-4da4-e3f2-732381afd620"
   },
   "outputs": [
    {
     "data": {
      "text/plain": [
       "(150, 4)"
      ]
     },
     "execution_count": 7,
     "metadata": {},
     "output_type": "execute_result"
    }
   ],
   "source": [
    "iris.data.shape"
   ]
  },
  {
   "cell_type": "code",
   "execution_count": 8,
   "metadata": {
    "colab": {
     "base_uri": "https://localhost:8080/"
    },
    "executionInfo": {
     "elapsed": 428,
     "status": "ok",
     "timestamp": 1702653989491,
     "user": {
      "displayName": "Nadia Domide",
      "userId": "13986377551014052134"
     },
     "user_tz": -60
    },
    "id": "lK-QFoUC3K3u",
    "outputId": "730427db-4826-460e-f945-380294098f52"
   },
   "outputs": [
    {
     "data": {
      "text/plain": [
       "['sepal length (cm)',\n",
       " 'sepal width (cm)',\n",
       " 'petal length (cm)',\n",
       " 'petal width (cm)']"
      ]
     },
     "execution_count": 8,
     "metadata": {},
     "output_type": "execute_result"
    }
   ],
   "source": [
    "# Checking the features\n",
    "iris.feature_names"
   ]
  },
  {
   "cell_type": "code",
   "execution_count": 9,
   "metadata": {
    "executionInfo": {
     "elapsed": 244,
     "status": "ok",
     "timestamp": 1702654115076,
     "user": {
      "displayName": "Nadia Domide",
      "userId": "13986377551014052134"
     },
     "user_tz": -60
    },
    "id": "k2FIKe9z3bpq"
   },
   "outputs": [],
   "source": [
    "# scale\n",
    "from sklearn.preprocessing import StandardScaler\n",
    "# Create a StandardScaler\n",
    "scaler = StandardScaler()\n",
    "\n",
    "# Fit the scaler on the training data and transform both the training and test data\n",
    "iris_scaled = scaler.fit_transform(iris.data)"
   ]
  },
  {
   "cell_type": "code",
   "execution_count": 10,
   "metadata": {
    "colab": {
     "base_uri": "https://localhost:8080/",
     "height": 363
    },
    "executionInfo": {
     "elapsed": 268,
     "status": "ok",
     "timestamp": 1702654120083,
     "user": {
      "displayName": "Nadia Domide",
      "userId": "13986377551014052134"
     },
     "user_tz": -60
    },
    "id": "4wLlQHrfiet5",
    "outputId": "5519a404-29be-4448-e8f7-452eeb15335f"
   },
   "outputs": [
    {
     "data": {
      "text/html": [
       "<div>\n",
       "<style scoped>\n",
       "    .dataframe tbody tr th:only-of-type {\n",
       "        vertical-align: middle;\n",
       "    }\n",
       "\n",
       "    .dataframe tbody tr th {\n",
       "        vertical-align: top;\n",
       "    }\n",
       "\n",
       "    .dataframe thead th {\n",
       "        text-align: right;\n",
       "    }\n",
       "</style>\n",
       "<table border=\"1\" class=\"dataframe\">\n",
       "  <thead>\n",
       "    <tr style=\"text-align: right;\">\n",
       "      <th></th>\n",
       "      <th>sepal length (cm)</th>\n",
       "      <th>sepal width (cm)</th>\n",
       "      <th>petal length (cm)</th>\n",
       "      <th>petal width (cm)</th>\n",
       "    </tr>\n",
       "  </thead>\n",
       "  <tbody>\n",
       "    <tr>\n",
       "      <th>0</th>\n",
       "      <td>-0.900681</td>\n",
       "      <td>1.019004</td>\n",
       "      <td>-1.340227</td>\n",
       "      <td>-1.315444</td>\n",
       "    </tr>\n",
       "    <tr>\n",
       "      <th>1</th>\n",
       "      <td>-1.143017</td>\n",
       "      <td>-0.131979</td>\n",
       "      <td>-1.340227</td>\n",
       "      <td>-1.315444</td>\n",
       "    </tr>\n",
       "    <tr>\n",
       "      <th>2</th>\n",
       "      <td>-1.385353</td>\n",
       "      <td>0.328414</td>\n",
       "      <td>-1.397064</td>\n",
       "      <td>-1.315444</td>\n",
       "    </tr>\n",
       "    <tr>\n",
       "      <th>3</th>\n",
       "      <td>-1.506521</td>\n",
       "      <td>0.098217</td>\n",
       "      <td>-1.283389</td>\n",
       "      <td>-1.315444</td>\n",
       "    </tr>\n",
       "    <tr>\n",
       "      <th>4</th>\n",
       "      <td>-1.021849</td>\n",
       "      <td>1.249201</td>\n",
       "      <td>-1.340227</td>\n",
       "      <td>-1.315444</td>\n",
       "    </tr>\n",
       "    <tr>\n",
       "      <th>5</th>\n",
       "      <td>-0.537178</td>\n",
       "      <td>1.939791</td>\n",
       "      <td>-1.169714</td>\n",
       "      <td>-1.052180</td>\n",
       "    </tr>\n",
       "    <tr>\n",
       "      <th>6</th>\n",
       "      <td>-1.506521</td>\n",
       "      <td>0.788808</td>\n",
       "      <td>-1.340227</td>\n",
       "      <td>-1.183812</td>\n",
       "    </tr>\n",
       "    <tr>\n",
       "      <th>7</th>\n",
       "      <td>-1.021849</td>\n",
       "      <td>0.788808</td>\n",
       "      <td>-1.283389</td>\n",
       "      <td>-1.315444</td>\n",
       "    </tr>\n",
       "    <tr>\n",
       "      <th>8</th>\n",
       "      <td>-1.748856</td>\n",
       "      <td>-0.362176</td>\n",
       "      <td>-1.340227</td>\n",
       "      <td>-1.315444</td>\n",
       "    </tr>\n",
       "    <tr>\n",
       "      <th>9</th>\n",
       "      <td>-1.143017</td>\n",
       "      <td>0.098217</td>\n",
       "      <td>-1.283389</td>\n",
       "      <td>-1.447076</td>\n",
       "    </tr>\n",
       "  </tbody>\n",
       "</table>\n",
       "</div>"
      ],
      "text/plain": [
       "   sepal length (cm)  sepal width (cm)  petal length (cm)  petal width (cm)\n",
       "0          -0.900681          1.019004          -1.340227         -1.315444\n",
       "1          -1.143017         -0.131979          -1.340227         -1.315444\n",
       "2          -1.385353          0.328414          -1.397064         -1.315444\n",
       "3          -1.506521          0.098217          -1.283389         -1.315444\n",
       "4          -1.021849          1.249201          -1.340227         -1.315444\n",
       "5          -0.537178          1.939791          -1.169714         -1.052180\n",
       "6          -1.506521          0.788808          -1.340227         -1.183812\n",
       "7          -1.021849          0.788808          -1.283389         -1.315444\n",
       "8          -1.748856         -0.362176          -1.340227         -1.315444\n",
       "9          -1.143017          0.098217          -1.283389         -1.447076"
      ]
     },
     "execution_count": 10,
     "metadata": {},
     "output_type": "execute_result"
    }
   ],
   "source": [
    "df = pd.DataFrame(iris_scaled, columns=iris.feature_names) # or if we don't want to work with scaled data:\n",
    "#df = pd.DataFrame(iris.data, columns=iris.feature_names)\n",
    "df.head(10) #df (\"dataframe\") (dot) head() gives us the HEAD of the dataframe - aka the top 5 rows"
   ]
  },
  {
   "cell_type": "markdown",
   "metadata": {
    "id": "KM_-OURykUcF"
   },
   "source": [
    "We want the data itself to group and tell us what the major groups are - we are going to use a technique called \"clustering\" (or k-means clustering, where k= the number of clusters). I don't know in advance what the best number of clusters will be, so I will try a bunch of different k (k= 2,3,5) and then see how well our clusters are performing. See below :)"
   ]
  },
  {
   "cell_type": "markdown",
   "metadata": {
    "id": "R_q7YuxVgZ3X"
   },
   "source": [
    "## We load our model:"
   ]
  },
  {
   "cell_type": "code",
   "execution_count": 11,
   "metadata": {
    "executionInfo": {
     "elapsed": 839,
     "status": "ok",
     "timestamp": 1702654203461,
     "user": {
      "displayName": "Nadia Domide",
      "userId": "13986377551014052134"
     },
     "user_tz": -60
    },
    "id": "QcA_ZVUmgbdC"
   },
   "outputs": [],
   "source": [
    "from sklearn.cluster import KMeans"
   ]
  },
  {
   "cell_type": "markdown",
   "metadata": {
    "id": "Al1NT1JRmD7U"
   },
   "source": [
    "## We train our model:"
   ]
  },
  {
   "cell_type": "code",
   "execution_count": 12,
   "metadata": {
    "id": "2I8l1pCf4Uhh"
   },
   "outputs": [
    {
     "name": "stdout",
     "output_type": "stream",
     "text": [
      "Help on class KMeans in module sklearn.cluster._kmeans:\n",
      "\n",
      "class KMeans(_BaseKMeans)\n",
      " |  KMeans(n_clusters=8, *, init='k-means++', n_init='auto', max_iter=300, tol=0.0001, verbose=0, random_state=None, copy_x=True, algorithm='lloyd')\n",
      " |\n",
      " |  K-Means clustering.\n",
      " |\n",
      " |  Read more in the :ref:`User Guide <k_means>`.\n",
      " |\n",
      " |  Parameters\n",
      " |  ----------\n",
      " |\n",
      " |  n_clusters : int, default=8\n",
      " |      The number of clusters to form as well as the number of\n",
      " |      centroids to generate.\n",
      " |\n",
      " |      For an example of how to choose an optimal value for `n_clusters` refer to\n",
      " |      :ref:`sphx_glr_auto_examples_cluster_plot_kmeans_silhouette_analysis.py`.\n",
      " |\n",
      " |  init : {'k-means++', 'random'}, callable or array-like of shape             (n_clusters, n_features), default='k-means++'\n",
      " |      Method for initialization:\n",
      " |\n",
      " |      * 'k-means++' : selects initial cluster centroids using sampling             based on an empirical probability distribution of the points'             contribution to the overall inertia. This technique speeds up             convergence. The algorithm implemented is \"greedy k-means++\". It             differs from the vanilla k-means++ by making several trials at             each sampling step and choosing the best centroid among them.\n",
      " |\n",
      " |      * 'random': choose `n_clusters` observations (rows) at random from         data for the initial centroids.\n",
      " |\n",
      " |      * If an array is passed, it should be of shape (n_clusters, n_features)        and gives the initial centers.\n",
      " |\n",
      " |      * If a callable is passed, it should take arguments X, n_clusters and a        random state and return an initialization.\n",
      " |\n",
      " |      For an example of how to use the different `init` strategies, see\n",
      " |      :ref:`sphx_glr_auto_examples_cluster_plot_kmeans_digits.py`.\n",
      " |\n",
      " |      For an evaluation of the impact of initialization, see the example\n",
      " |      :ref:`sphx_glr_auto_examples_cluster_plot_kmeans_stability_low_dim_dense.py`.\n",
      " |\n",
      " |  n_init : 'auto' or int, default='auto'\n",
      " |      Number of times the k-means algorithm is run with different centroid\n",
      " |      seeds. The final results is the best output of `n_init` consecutive runs\n",
      " |      in terms of inertia. Several runs are recommended for sparse\n",
      " |      high-dimensional problems (see :ref:`kmeans_sparse_high_dim`).\n",
      " |\n",
      " |      When `n_init='auto'`, the number of runs depends on the value of init:\n",
      " |      10 if using `init='random'` or `init` is a callable;\n",
      " |      1 if using `init='k-means++'` or `init` is an array-like.\n",
      " |\n",
      " |      .. versionadded:: 1.2\n",
      " |         Added 'auto' option for `n_init`.\n",
      " |\n",
      " |      .. versionchanged:: 1.4\n",
      " |         Default value for `n_init` changed to `'auto'`.\n",
      " |\n",
      " |  max_iter : int, default=300\n",
      " |      Maximum number of iterations of the k-means algorithm for a\n",
      " |      single run.\n",
      " |\n",
      " |  tol : float, default=1e-4\n",
      " |      Relative tolerance with regards to Frobenius norm of the difference\n",
      " |      in the cluster centers of two consecutive iterations to declare\n",
      " |      convergence.\n",
      " |\n",
      " |  verbose : int, default=0\n",
      " |      Verbosity mode.\n",
      " |\n",
      " |  random_state : int, RandomState instance or None, default=None\n",
      " |      Determines random number generation for centroid initialization. Use\n",
      " |      an int to make the randomness deterministic.\n",
      " |      See :term:`Glossary <random_state>`.\n",
      " |\n",
      " |  copy_x : bool, default=True\n",
      " |      When pre-computing distances it is more numerically accurate to center\n",
      " |      the data first. If copy_x is True (default), then the original data is\n",
      " |      not modified. If False, the original data is modified, and put back\n",
      " |      before the function returns, but small numerical differences may be\n",
      " |      introduced by subtracting and then adding the data mean. Note that if\n",
      " |      the original data is not C-contiguous, a copy will be made even if\n",
      " |      copy_x is False. If the original data is sparse, but not in CSR format,\n",
      " |      a copy will be made even if copy_x is False.\n",
      " |\n",
      " |  algorithm : {\"lloyd\", \"elkan\"}, default=\"lloyd\"\n",
      " |      K-means algorithm to use. The classical EM-style algorithm is `\"lloyd\"`.\n",
      " |      The `\"elkan\"` variation can be more efficient on some datasets with\n",
      " |      well-defined clusters, by using the triangle inequality. However it's\n",
      " |      more memory intensive due to the allocation of an extra array of shape\n",
      " |      `(n_samples, n_clusters)`.\n",
      " |\n",
      " |      .. versionchanged:: 0.18\n",
      " |          Added Elkan algorithm\n",
      " |\n",
      " |      .. versionchanged:: 1.1\n",
      " |          Renamed \"full\" to \"lloyd\", and deprecated \"auto\" and \"full\".\n",
      " |          Changed \"auto\" to use \"lloyd\" instead of \"elkan\".\n",
      " |\n",
      " |  Attributes\n",
      " |  ----------\n",
      " |  cluster_centers_ : ndarray of shape (n_clusters, n_features)\n",
      " |      Coordinates of cluster centers. If the algorithm stops before fully\n",
      " |      converging (see ``tol`` and ``max_iter``), these will not be\n",
      " |      consistent with ``labels_``.\n",
      " |\n",
      " |  labels_ : ndarray of shape (n_samples,)\n",
      " |      Labels of each point\n",
      " |\n",
      " |  inertia_ : float\n",
      " |      Sum of squared distances of samples to their closest cluster center,\n",
      " |      weighted by the sample weights if provided.\n",
      " |\n",
      " |  n_iter_ : int\n",
      " |      Number of iterations run.\n",
      " |\n",
      " |  n_features_in_ : int\n",
      " |      Number of features seen during :term:`fit`.\n",
      " |\n",
      " |      .. versionadded:: 0.24\n",
      " |\n",
      " |  feature_names_in_ : ndarray of shape (`n_features_in_`,)\n",
      " |      Names of features seen during :term:`fit`. Defined only when `X`\n",
      " |      has feature names that are all strings.\n",
      " |\n",
      " |      .. versionadded:: 1.0\n",
      " |\n",
      " |  See Also\n",
      " |  --------\n",
      " |  MiniBatchKMeans : Alternative online implementation that does incremental\n",
      " |      updates of the centers positions using mini-batches.\n",
      " |      For large scale learning (say n_samples > 10k) MiniBatchKMeans is\n",
      " |      probably much faster than the default batch implementation.\n",
      " |\n",
      " |  Notes\n",
      " |  -----\n",
      " |  The k-means problem is solved using either Lloyd's or Elkan's algorithm.\n",
      " |\n",
      " |  The average complexity is given by O(k n T), where n is the number of\n",
      " |  samples and T is the number of iteration.\n",
      " |\n",
      " |  The worst case complexity is given by O(n^(k+2/p)) with\n",
      " |  n = n_samples, p = n_features.\n",
      " |  Refer to :doi:`\"How slow is the k-means method?\" D. Arthur and S. Vassilvitskii -\n",
      " |  SoCG2006.<10.1145/1137856.1137880>` for more details.\n",
      " |\n",
      " |  In practice, the k-means algorithm is very fast (one of the fastest\n",
      " |  clustering algorithms available), but it falls in local minima. That's why\n",
      " |  it can be useful to restart it several times.\n",
      " |\n",
      " |  If the algorithm stops before fully converging (because of ``tol`` or\n",
      " |  ``max_iter``), ``labels_`` and ``cluster_centers_`` will not be consistent,\n",
      " |  i.e. the ``cluster_centers_`` will not be the means of the points in each\n",
      " |  cluster. Also, the estimator will reassign ``labels_`` after the last\n",
      " |  iteration to make ``labels_`` consistent with ``predict`` on the training\n",
      " |  set.\n",
      " |\n",
      " |  Examples\n",
      " |  --------\n",
      " |\n",
      " |  >>> from sklearn.cluster import KMeans\n",
      " |  >>> import numpy as np\n",
      " |  >>> X = np.array([[1, 2], [1, 4], [1, 0],\n",
      " |  ...               [10, 2], [10, 4], [10, 0]])\n",
      " |  >>> kmeans = KMeans(n_clusters=2, random_state=0, n_init=\"auto\").fit(X)\n",
      " |  >>> kmeans.labels_\n",
      " |  array([1, 1, 1, 0, 0, 0], dtype=int32)\n",
      " |  >>> kmeans.predict([[0, 0], [12, 3]])\n",
      " |  array([1, 0], dtype=int32)\n",
      " |  >>> kmeans.cluster_centers_\n",
      " |  array([[10.,  2.],\n",
      " |         [ 1.,  2.]])\n",
      " |\n",
      " |  For examples of common problems with K-Means and how to address them see\n",
      " |  :ref:`sphx_glr_auto_examples_cluster_plot_kmeans_assumptions.py`.\n",
      " |\n",
      " |  For a demonstration of how K-Means can be used to cluster text documents see\n",
      " |  :ref:`sphx_glr_auto_examples_text_plot_document_clustering.py`.\n",
      " |\n",
      " |  For a comparison between K-Means and MiniBatchKMeans refer to example\n",
      " |  :ref:`sphx_glr_auto_examples_cluster_plot_mini_batch_kmeans.py`.\n",
      " |\n",
      " |  For a comparison between K-Means and BisectingKMeans refer to example\n",
      " |  :ref:`sphx_glr_auto_examples_cluster_plot_bisect_kmeans.py`.\n",
      " |\n",
      " |  Method resolution order:\n",
      " |      KMeans\n",
      " |      _BaseKMeans\n",
      " |      sklearn.base.ClassNamePrefixFeaturesOutMixin\n",
      " |      sklearn.base.TransformerMixin\n",
      " |      sklearn.utils._set_output._SetOutputMixin\n",
      " |      sklearn.base.ClusterMixin\n",
      " |      sklearn.base.BaseEstimator\n",
      " |      sklearn.utils._estimator_html_repr._HTMLDocumentationLinkMixin\n",
      " |      sklearn.utils._metadata_requests._MetadataRequester\n",
      " |      abc.ABC\n",
      " |      builtins.object\n",
      " |\n",
      " |  Methods defined here:\n",
      " |\n",
      " |  __init__(self, n_clusters=8, *, init='k-means++', n_init='auto', max_iter=300, tol=0.0001, verbose=0, random_state=None, copy_x=True, algorithm='lloyd')\n",
      " |      Initialize self.  See help(type(self)) for accurate signature.\n",
      " |\n",
      " |  fit(self, X, y=None, sample_weight=None)\n",
      " |      Compute k-means clustering.\n",
      " |\n",
      " |      Parameters\n",
      " |      ----------\n",
      " |      X : {array-like, sparse matrix} of shape (n_samples, n_features)\n",
      " |          Training instances to cluster. It must be noted that the data\n",
      " |          will be converted to C ordering, which will cause a memory\n",
      " |          copy if the given data is not C-contiguous.\n",
      " |          If a sparse matrix is passed, a copy will be made if it's not in\n",
      " |          CSR format.\n",
      " |\n",
      " |      y : Ignored\n",
      " |          Not used, present here for API consistency by convention.\n",
      " |\n",
      " |      sample_weight : array-like of shape (n_samples,), default=None\n",
      " |          The weights for each observation in X. If None, all observations\n",
      " |          are assigned equal weight. `sample_weight` is not used during\n",
      " |          initialization if `init` is a callable or a user provided array.\n",
      " |\n",
      " |          .. versionadded:: 0.20\n",
      " |\n",
      " |      Returns\n",
      " |      -------\n",
      " |      self : object\n",
      " |          Fitted estimator.\n",
      " |\n",
      " |  set_fit_request(self: sklearn.cluster._kmeans.KMeans, *, sample_weight: Union[bool, NoneType, str] = '$UNCHANGED$') -> sklearn.cluster._kmeans.KMeans\n",
      " |      Request metadata passed to the ``fit`` method.\n",
      " |\n",
      " |      Note that this method is only relevant if\n",
      " |      ``enable_metadata_routing=True`` (see :func:`sklearn.set_config`).\n",
      " |      Please see :ref:`User Guide <metadata_routing>` on how the routing\n",
      " |      mechanism works.\n",
      " |\n",
      " |      The options for each parameter are:\n",
      " |\n",
      " |      - ``True``: metadata is requested, and passed to ``fit`` if provided. The request is ignored if metadata is not provided.\n",
      " |\n",
      " |      - ``False``: metadata is not requested and the meta-estimator will not pass it to ``fit``.\n",
      " |\n",
      " |      - ``None``: metadata is not requested, and the meta-estimator will raise an error if the user provides it.\n",
      " |\n",
      " |      - ``str``: metadata should be passed to the meta-estimator with this given alias instead of the original name.\n",
      " |\n",
      " |      The default (``sklearn.utils.metadata_routing.UNCHANGED``) retains the\n",
      " |      existing request. This allows you to change the request for some\n",
      " |      parameters and not others.\n",
      " |\n",
      " |      .. versionadded:: 1.3\n",
      " |\n",
      " |      .. note::\n",
      " |          This method is only relevant if this estimator is used as a\n",
      " |          sub-estimator of a meta-estimator, e.g. used inside a\n",
      " |          :class:`~sklearn.pipeline.Pipeline`. Otherwise it has no effect.\n",
      " |\n",
      " |      Parameters\n",
      " |      ----------\n",
      " |      sample_weight : str, True, False, or None,                     default=sklearn.utils.metadata_routing.UNCHANGED\n",
      " |          Metadata routing for ``sample_weight`` parameter in ``fit``.\n",
      " |\n",
      " |      Returns\n",
      " |      -------\n",
      " |      self : object\n",
      " |          The updated object.\n",
      " |\n",
      " |  set_score_request(self: sklearn.cluster._kmeans.KMeans, *, sample_weight: Union[bool, NoneType, str] = '$UNCHANGED$') -> sklearn.cluster._kmeans.KMeans\n",
      " |      Request metadata passed to the ``score`` method.\n",
      " |\n",
      " |      Note that this method is only relevant if\n",
      " |      ``enable_metadata_routing=True`` (see :func:`sklearn.set_config`).\n",
      " |      Please see :ref:`User Guide <metadata_routing>` on how the routing\n",
      " |      mechanism works.\n",
      " |\n",
      " |      The options for each parameter are:\n",
      " |\n",
      " |      - ``True``: metadata is requested, and passed to ``score`` if provided. The request is ignored if metadata is not provided.\n",
      " |\n",
      " |      - ``False``: metadata is not requested and the meta-estimator will not pass it to ``score``.\n",
      " |\n",
      " |      - ``None``: metadata is not requested, and the meta-estimator will raise an error if the user provides it.\n",
      " |\n",
      " |      - ``str``: metadata should be passed to the meta-estimator with this given alias instead of the original name.\n",
      " |\n",
      " |      The default (``sklearn.utils.metadata_routing.UNCHANGED``) retains the\n",
      " |      existing request. This allows you to change the request for some\n",
      " |      parameters and not others.\n",
      " |\n",
      " |      .. versionadded:: 1.3\n",
      " |\n",
      " |      .. note::\n",
      " |          This method is only relevant if this estimator is used as a\n",
      " |          sub-estimator of a meta-estimator, e.g. used inside a\n",
      " |          :class:`~sklearn.pipeline.Pipeline`. Otherwise it has no effect.\n",
      " |\n",
      " |      Parameters\n",
      " |      ----------\n",
      " |      sample_weight : str, True, False, or None,                     default=sklearn.utils.metadata_routing.UNCHANGED\n",
      " |          Metadata routing for ``sample_weight`` parameter in ``score``.\n",
      " |\n",
      " |      Returns\n",
      " |      -------\n",
      " |      self : object\n",
      " |          The updated object.\n",
      " |\n",
      " |  ----------------------------------------------------------------------\n",
      " |  Data and other attributes defined here:\n",
      " |\n",
      " |  __abstractmethods__ = frozenset()\n",
      " |\n",
      " |  __annotations__ = {'_parameter_constraints': <class 'dict'>}\n",
      " |\n",
      " |  ----------------------------------------------------------------------\n",
      " |  Methods inherited from _BaseKMeans:\n",
      " |\n",
      " |  __sklearn_tags__(self)\n",
      " |\n",
      " |  fit_predict(self, X, y=None, sample_weight=None)\n",
      " |      Compute cluster centers and predict cluster index for each sample.\n",
      " |\n",
      " |      Convenience method; equivalent to calling fit(X) followed by\n",
      " |      predict(X).\n",
      " |\n",
      " |      Parameters\n",
      " |      ----------\n",
      " |      X : {array-like, sparse matrix} of shape (n_samples, n_features)\n",
      " |          New data to transform.\n",
      " |\n",
      " |      y : Ignored\n",
      " |          Not used, present here for API consistency by convention.\n",
      " |\n",
      " |      sample_weight : array-like of shape (n_samples,), default=None\n",
      " |          The weights for each observation in X. If None, all observations\n",
      " |          are assigned equal weight.\n",
      " |\n",
      " |      Returns\n",
      " |      -------\n",
      " |      labels : ndarray of shape (n_samples,)\n",
      " |          Index of the cluster each sample belongs to.\n",
      " |\n",
      " |  fit_transform(self, X, y=None, sample_weight=None)\n",
      " |      Compute clustering and transform X to cluster-distance space.\n",
      " |\n",
      " |      Equivalent to fit(X).transform(X), but more efficiently implemented.\n",
      " |\n",
      " |      Parameters\n",
      " |      ----------\n",
      " |      X : {array-like, sparse matrix} of shape (n_samples, n_features)\n",
      " |          New data to transform.\n",
      " |\n",
      " |      y : Ignored\n",
      " |          Not used, present here for API consistency by convention.\n",
      " |\n",
      " |      sample_weight : array-like of shape (n_samples,), default=None\n",
      " |          The weights for each observation in X. If None, all observations\n",
      " |          are assigned equal weight.\n",
      " |\n",
      " |      Returns\n",
      " |      -------\n",
      " |      X_new : ndarray of shape (n_samples, n_clusters)\n",
      " |          X transformed in the new space.\n",
      " |\n",
      " |  predict(self, X)\n",
      " |      Predict the closest cluster each sample in X belongs to.\n",
      " |\n",
      " |      In the vector quantization literature, `cluster_centers_` is called\n",
      " |      the code book and each value returned by `predict` is the index of\n",
      " |      the closest code in the code book.\n",
      " |\n",
      " |      Parameters\n",
      " |      ----------\n",
      " |      X : {array-like, sparse matrix} of shape (n_samples, n_features)\n",
      " |          New data to predict.\n",
      " |\n",
      " |      Returns\n",
      " |      -------\n",
      " |      labels : ndarray of shape (n_samples,)\n",
      " |          Index of the cluster each sample belongs to.\n",
      " |\n",
      " |  score(self, X, y=None, sample_weight=None)\n",
      " |      Opposite of the value of X on the K-means objective.\n",
      " |\n",
      " |      Parameters\n",
      " |      ----------\n",
      " |      X : {array-like, sparse matrix} of shape (n_samples, n_features)\n",
      " |          New data.\n",
      " |\n",
      " |      y : Ignored\n",
      " |          Not used, present here for API consistency by convention.\n",
      " |\n",
      " |      sample_weight : array-like of shape (n_samples,), default=None\n",
      " |          The weights for each observation in X. If None, all observations\n",
      " |          are assigned equal weight.\n",
      " |\n",
      " |      Returns\n",
      " |      -------\n",
      " |      score : float\n",
      " |          Opposite of the value of X on the K-means objective.\n",
      " |\n",
      " |  transform(self, X)\n",
      " |      Transform X to a cluster-distance space.\n",
      " |\n",
      " |      In the new space, each dimension is the distance to the cluster\n",
      " |      centers. Note that even if X is sparse, the array returned by\n",
      " |      `transform` will typically be dense.\n",
      " |\n",
      " |      Parameters\n",
      " |      ----------\n",
      " |      X : {array-like, sparse matrix} of shape (n_samples, n_features)\n",
      " |          New data to transform.\n",
      " |\n",
      " |      Returns\n",
      " |      -------\n",
      " |      X_new : ndarray of shape (n_samples, n_clusters)\n",
      " |          X transformed in the new space.\n",
      " |\n",
      " |  ----------------------------------------------------------------------\n",
      " |  Methods inherited from sklearn.base.ClassNamePrefixFeaturesOutMixin:\n",
      " |\n",
      " |  get_feature_names_out(self, input_features=None)\n",
      " |      Get output feature names for transformation.\n",
      " |\n",
      " |      The feature names out will prefixed by the lowercased class name. For\n",
      " |      example, if the transformer outputs 3 features, then the feature names\n",
      " |      out are: `[\"class_name0\", \"class_name1\", \"class_name2\"]`.\n",
      " |\n",
      " |      Parameters\n",
      " |      ----------\n",
      " |      input_features : array-like of str or None, default=None\n",
      " |          Only used to validate feature names with the names seen in `fit`.\n",
      " |\n",
      " |      Returns\n",
      " |      -------\n",
      " |      feature_names_out : ndarray of str objects\n",
      " |          Transformed feature names.\n",
      " |\n",
      " |  ----------------------------------------------------------------------\n",
      " |  Data descriptors inherited from sklearn.base.ClassNamePrefixFeaturesOutMixin:\n",
      " |\n",
      " |  __dict__\n",
      " |      dictionary for instance variables (if defined)\n",
      " |\n",
      " |  __weakref__\n",
      " |      list of weak references to the object (if defined)\n",
      " |\n",
      " |  ----------------------------------------------------------------------\n",
      " |  Methods inherited from sklearn.utils._set_output._SetOutputMixin:\n",
      " |\n",
      " |  set_output(self, *, transform=None)\n",
      " |      Set output container.\n",
      " |\n",
      " |      See :ref:`sphx_glr_auto_examples_miscellaneous_plot_set_output.py`\n",
      " |      for an example on how to use the API.\n",
      " |\n",
      " |      Parameters\n",
      " |      ----------\n",
      " |      transform : {\"default\", \"pandas\", \"polars\"}, default=None\n",
      " |          Configure output of `transform` and `fit_transform`.\n",
      " |\n",
      " |          - `\"default\"`: Default output format of a transformer\n",
      " |          - `\"pandas\"`: DataFrame output\n",
      " |          - `\"polars\"`: Polars output\n",
      " |          - `None`: Transform configuration is unchanged\n",
      " |\n",
      " |          .. versionadded:: 1.4\n",
      " |              `\"polars\"` option was added.\n",
      " |\n",
      " |      Returns\n",
      " |      -------\n",
      " |      self : estimator instance\n",
      " |          Estimator instance.\n",
      " |\n",
      " |  ----------------------------------------------------------------------\n",
      " |  Class methods inherited from sklearn.utils._set_output._SetOutputMixin:\n",
      " |\n",
      " |  __init_subclass__(auto_wrap_output_keys=('transform',), **kwargs) from abc.ABCMeta\n",
      " |      This method is called when a class is subclassed.\n",
      " |\n",
      " |      The default implementation does nothing. It may be\n",
      " |      overridden to extend subclasses.\n",
      " |\n",
      " |  ----------------------------------------------------------------------\n",
      " |  Methods inherited from sklearn.base.BaseEstimator:\n",
      " |\n",
      " |  __getstate__(self)\n",
      " |      Helper for pickle.\n",
      " |\n",
      " |  __repr__(self, N_CHAR_MAX=700)\n",
      " |      Return repr(self).\n",
      " |\n",
      " |  __setstate__(self, state)\n",
      " |\n",
      " |  __sklearn_clone__(self)\n",
      " |\n",
      " |  get_params(self, deep=True)\n",
      " |      Get parameters for this estimator.\n",
      " |\n",
      " |      Parameters\n",
      " |      ----------\n",
      " |      deep : bool, default=True\n",
      " |          If True, will return the parameters for this estimator and\n",
      " |          contained subobjects that are estimators.\n",
      " |\n",
      " |      Returns\n",
      " |      -------\n",
      " |      params : dict\n",
      " |          Parameter names mapped to their values.\n",
      " |\n",
      " |  set_params(self, **params)\n",
      " |      Set the parameters of this estimator.\n",
      " |\n",
      " |      The method works on simple estimators as well as on nested objects\n",
      " |      (such as :class:`~sklearn.pipeline.Pipeline`). The latter have\n",
      " |      parameters of the form ``<component>__<parameter>`` so that it's\n",
      " |      possible to update each component of a nested object.\n",
      " |\n",
      " |      Parameters\n",
      " |      ----------\n",
      " |      **params : dict\n",
      " |          Estimator parameters.\n",
      " |\n",
      " |      Returns\n",
      " |      -------\n",
      " |      self : estimator instance\n",
      " |          Estimator instance.\n",
      " |\n",
      " |  ----------------------------------------------------------------------\n",
      " |  Methods inherited from sklearn.utils._metadata_requests._MetadataRequester:\n",
      " |\n",
      " |  get_metadata_routing(self)\n",
      " |      Get metadata routing of this object.\n",
      " |\n",
      " |      Please check :ref:`User Guide <metadata_routing>` on how the routing\n",
      " |      mechanism works.\n",
      " |\n",
      " |      Returns\n",
      " |      -------\n",
      " |      routing : MetadataRequest\n",
      " |          A :class:`~sklearn.utils.metadata_routing.MetadataRequest` encapsulating\n",
      " |          routing information.\n",
      "\n"
     ]
    }
   ],
   "source": [
    "help(KMeans)"
   ]
  },
  {
   "cell_type": "code",
   "execution_count": 13,
   "metadata": {
    "colab": {
     "base_uri": "https://localhost:8080/"
    },
    "executionInfo": {
     "elapsed": 242,
     "status": "ok",
     "timestamp": 1702654210885,
     "user": {
      "displayName": "Nadia Domide",
      "userId": "13986377551014052134"
     },
     "user_tz": -60
    },
    "id": "bvSEb58GlCbJ",
    "outputId": "b815842c-031e-469e-d6e5-8ad9fb4b082d"
   },
   "outputs": [
    {
     "name": "stdout",
     "output_type": "stream",
     "text": [
      "CPU times: total: 0 ns\n",
      "Wall time: 151 ms\n"
     ]
    }
   ],
   "source": [
    "# Create kmeans object\n",
    "#k = 5 training model\n",
    "km = KMeans(n_clusters=5)\n",
    "%time km.fit(df)\n",
    "clusters = km.labels_.tolist()\n",
    "silhouette_k5 = silhouette_score(df[0:200], clusters[0:200])"
   ]
  },
  {
   "cell_type": "code",
   "execution_count": 14,
   "metadata": {
    "colab": {
     "base_uri": "https://localhost:8080/"
    },
    "executionInfo": {
     "elapsed": 394,
     "status": "ok",
     "timestamp": 1702654248077,
     "user": {
      "displayName": "Nadia Domide",
      "userId": "13986377551014052134"
     },
     "user_tz": -60
    },
    "id": "JiFC79xSGdPx",
    "outputId": "a5daa5a6-d654-4acf-b483-5d5726e4b34f"
   },
   "outputs": [
    {
     "name": "stdout",
     "output_type": "stream",
     "text": [
      "CPU times: total: 15.6 ms\n",
      "Wall time: 7.09 ms\n"
     ]
    }
   ],
   "source": [
    "# Create kmeans object\n",
    "#k = 5 training model\n",
    "km = KMeans(n_clusters=4)\n",
    "%time km.fit(df)\n",
    "clusters = km.labels_.tolist()\n",
    "silhouette_k4 = silhouette_score(df[0:200], clusters[0:200])"
   ]
  },
  {
   "cell_type": "code",
   "execution_count": 15,
   "metadata": {
    "colab": {
     "base_uri": "https://localhost:8080/"
    },
    "executionInfo": {
     "elapsed": 241,
     "status": "ok",
     "timestamp": 1702654214434,
     "user": {
      "displayName": "Nadia Domide",
      "userId": "13986377551014052134"
     },
     "user_tz": -60
    },
    "id": "cnUKV8M7l0l3",
    "outputId": "32eae877-9988-4e92-d7ab-ce2d4c5f5ae9"
   },
   "outputs": [
    {
     "name": "stdout",
     "output_type": "stream",
     "text": [
      "CPU times: total: 15.6 ms\n",
      "Wall time: 7.58 ms\n"
     ]
    }
   ],
   "source": [
    "#k = 3 training model\n",
    "km = KMeans(n_clusters=3)\n",
    "%time km.fit(df)\n",
    "clusters = km.labels_.tolist()\n",
    "silhouette_k3 = silhouette_score(df[0:200], clusters[0:200])"
   ]
  },
  {
   "cell_type": "code",
   "execution_count": 16,
   "metadata": {
    "colab": {
     "base_uri": "https://localhost:8080/"
    },
    "executionInfo": {
     "elapsed": 3,
     "status": "ok",
     "timestamp": 1702654215640,
     "user": {
      "displayName": "Nadia Domide",
      "userId": "13986377551014052134"
     },
     "user_tz": -60
    },
    "id": "RduD_R3Cl5vk",
    "outputId": "7c7e2bb2-dbff-4240-d71e-2b80d56fe08c"
   },
   "outputs": [
    {
     "name": "stdout",
     "output_type": "stream",
     "text": [
      "CPU times: total: 15.6 ms\n",
      "Wall time: 8 ms\n"
     ]
    }
   ],
   "source": [
    "#k = 2 training model\n",
    "km = KMeans(n_clusters=2)\n",
    "%time km.fit(df)\n",
    "clusters = km.labels_.tolist()\n",
    "silhouette_k2 = silhouette_score(df[0:200], clusters[0:200])"
   ]
  },
  {
   "cell_type": "markdown",
   "metadata": {
    "id": "P4ncUGLSmIMd"
   },
   "source": [
    "## We evaluate our model:"
   ]
  },
  {
   "cell_type": "markdown",
   "metadata": {
    "id": "b8GBVWm6mNj0"
   },
   "source": [
    "Ok now that we've trained 4 models on different size clusters (different k) and we calculated a silhouette coefficient - The silhouette value is a measure of how similar an object is to its own cluster (cohesion) compared to other clusters (separation).\n",
    "We can plot the number of clusters by the silhouette score and use the elbow method (visually looking at the data to see where's an \"elbow\") to see which cluster does the best. **The Elbow method** is a method of interpretation and validation of consistency within cluster analysis designed to help finding the appropriate number of clusters in a dataset."
   ]
  },
  {
   "cell_type": "code",
   "execution_count": 17,
   "metadata": {
    "colab": {
     "base_uri": "https://localhost:8080/"
    },
    "executionInfo": {
     "elapsed": 276,
     "status": "ok",
     "timestamp": 1702654273556,
     "user": {
      "displayName": "Nadia Domide",
      "userId": "13986377551014052134"
     },
     "user_tz": -60
    },
    "id": "m-G1RnMpmJt3",
    "outputId": "ee55b028-179b-40f7-97a9-066b3e76fe95"
   },
   "outputs": [
    {
     "name": "stdout",
     "output_type": "stream",
     "text": [
      "[(2, np.float64(0.5817500491982808)), (3, np.float64(0.4565352255831263)), (4, np.float64(0.4565352255831263)), (5, np.float64(0.41550658961891923))]\n"
     ]
    }
   ],
   "source": [
    "silhouette = [silhouette_k2, silhouette_k3, silhouette_k3, silhouette_k5]\n",
    "count_k = [2, 3, 4, 5]\n",
    "\n",
    "count_silhouette = list(zip(count_k, silhouette))\n",
    "print(count_silhouette)"
   ]
  },
  {
   "cell_type": "code",
   "execution_count": 18,
   "metadata": {
    "colab": {
     "base_uri": "https://localhost:8080/"
    },
    "executionInfo": {
     "elapsed": 5,
     "status": "ok",
     "timestamp": 1702654556152,
     "user": {
      "displayName": "Nadia Domide",
      "userId": "13986377551014052134"
     },
     "user_tz": -60
    },
    "id": "yBFKvyuZHq2S",
    "outputId": "52ef43fc-f3d7-4128-a31e-f52a0af71e11"
   },
   "outputs": [
    {
     "data": {
      "text/plain": [
       "[np.float64(0.5817500491982808),\n",
       " np.float64(0.4565352255831263),\n",
       " np.float64(0.4565352255831263),\n",
       " np.float64(0.41550658961891923)]"
      ]
     },
     "execution_count": 18,
     "metadata": {},
     "output_type": "execute_result"
    }
   ],
   "source": [
    "silhouette"
   ]
  },
  {
   "cell_type": "code",
   "execution_count": 19,
   "metadata": {
    "colab": {
     "base_uri": "https://localhost:8080/",
     "height": 447
    },
    "executionInfo": {
     "elapsed": 641,
     "status": "ok",
     "timestamp": 1702654276533,
     "user": {
      "displayName": "Nadia Domide",
      "userId": "13986377551014052134"
     },
     "user_tz": -60
    },
    "id": "mdqNHZv8m_1J",
    "outputId": "d387e152-cfd9-4697-c865-dd924287d858"
   },
   "outputs": [
    {
     "data": {
      "text/plain": [
       "[<matplotlib.lines.Line2D at 0x1f2bf84aed0>]"
      ]
     },
     "execution_count": 19,
     "metadata": {},
     "output_type": "execute_result"
    },
    {
     "data": {
      "image/png": "[encoded data removed]",
      "text/plain": [
       "<Figure size 640x480 with 1 Axes>"
      ]
     },
     "metadata": {},
     "output_type": "display_data"
    }
   ],
   "source": [
    "plt.plot(*zip(*count_silhouette))"
   ]
  },
  {
   "cell_type": "markdown",
   "metadata": {
    "id": "J8RaoPJcnKar"
   },
   "source": [
    "From this plot - I am going to go with k=3 being the \"elbow\" of the data."
   ]
  },
  {
   "cell_type": "code",
   "execution_count": 20,
   "metadata": {
    "colab": {
     "base_uri": "https://localhost:8080/"
    },
    "executionInfo": {
     "elapsed": 336,
     "status": "ok",
     "timestamp": 1702654327682,
     "user": {
      "displayName": "Nadia Domide",
      "userId": "13986377551014052134"
     },
     "user_tz": -60
    },
    "id": "codZBlJrnCn9",
    "outputId": "fc6ff11c-d816-4577-daa0-89e2dcfeab8f"
   },
   "outputs": [
    {
     "name": "stdout",
     "output_type": "stream",
     "text": [
      "CPU times: total: 0 ns\n",
      "Wall time: 6.42 ms\n"
     ]
    }
   ],
   "source": [
    "km = KMeans(n_clusters=3)\n",
    "%time km.fit(df)\n",
    "clusters3 = km.labels_.tolist()\n",
    "silhouette_k3 = silhouette_score(df[0:50000], clusters[0:50000])"
   ]
  },
  {
   "cell_type": "code",
   "execution_count": 21,
   "metadata": {
    "executionInfo": {
     "elapsed": 333,
     "status": "ok",
     "timestamp": 1702654329402,
     "user": {
      "displayName": "Nadia Domide",
      "userId": "13986377551014052134"
     },
     "user_tz": -60
    },
    "id": "DDkYgJcFnmUY"
   },
   "outputs": [],
   "source": [
    "#Let's assign these clusters back to the original df and take a look!\n",
    "df.loc[:, \"cluster_number\"] = clusters3"
   ]
  },
  {
   "cell_type": "code",
   "execution_count": 22,
   "metadata": {
    "colab": {
     "base_uri": "https://localhost:8080/",
     "height": 363
    },
    "executionInfo": {
     "elapsed": 8,
     "status": "ok",
     "timestamp": 1702654331040,
     "user": {
      "displayName": "Nadia Domide",
      "userId": "13986377551014052134"
     },
     "user_tz": -60
    },
    "id": "QHRC6roSnxB1",
    "outputId": "a81d6d0c-4ddf-4e4e-afd1-aeaf26121d83"
   },
   "outputs": [
    {
     "data": {
      "text/html": [
       "<div>\n",
       "<style scoped>\n",
       "    .dataframe tbody tr th:only-of-type {\n",
       "        vertical-align: middle;\n",
       "    }\n",
       "\n",
       "    .dataframe tbody tr th {\n",
       "        vertical-align: top;\n",
       "    }\n",
       "\n",
       "    .dataframe thead th {\n",
       "        text-align: right;\n",
       "    }\n",
       "</style>\n",
       "<table border=\"1\" class=\"dataframe\">\n",
       "  <thead>\n",
       "    <tr style=\"text-align: right;\">\n",
       "      <th></th>\n",
       "      <th>sepal length (cm)</th>\n",
       "      <th>sepal width (cm)</th>\n",
       "      <th>petal length (cm)</th>\n",
       "      <th>petal width (cm)</th>\n",
       "      <th>cluster_number</th>\n",
       "    </tr>\n",
       "  </thead>\n",
       "  <tbody>\n",
       "    <tr>\n",
       "      <th>0</th>\n",
       "      <td>-0.900681</td>\n",
       "      <td>1.019004</td>\n",
       "      <td>-1.340227</td>\n",
       "      <td>-1.315444</td>\n",
       "      <td>0</td>\n",
       "    </tr>\n",
       "    <tr>\n",
       "      <th>1</th>\n",
       "      <td>-1.143017</td>\n",
       "      <td>-0.131979</td>\n",
       "      <td>-1.340227</td>\n",
       "      <td>-1.315444</td>\n",
       "      <td>0</td>\n",
       "    </tr>\n",
       "    <tr>\n",
       "      <th>2</th>\n",
       "      <td>-1.385353</td>\n",
       "      <td>0.328414</td>\n",
       "      <td>-1.397064</td>\n",
       "      <td>-1.315444</td>\n",
       "      <td>0</td>\n",
       "    </tr>\n",
       "    <tr>\n",
       "      <th>3</th>\n",
       "      <td>-1.506521</td>\n",
       "      <td>0.098217</td>\n",
       "      <td>-1.283389</td>\n",
       "      <td>-1.315444</td>\n",
       "      <td>0</td>\n",
       "    </tr>\n",
       "    <tr>\n",
       "      <th>4</th>\n",
       "      <td>-1.021849</td>\n",
       "      <td>1.249201</td>\n",
       "      <td>-1.340227</td>\n",
       "      <td>-1.315444</td>\n",
       "      <td>0</td>\n",
       "    </tr>\n",
       "    <tr>\n",
       "      <th>5</th>\n",
       "      <td>-0.537178</td>\n",
       "      <td>1.939791</td>\n",
       "      <td>-1.169714</td>\n",
       "      <td>-1.052180</td>\n",
       "      <td>0</td>\n",
       "    </tr>\n",
       "    <tr>\n",
       "      <th>6</th>\n",
       "      <td>-1.506521</td>\n",
       "      <td>0.788808</td>\n",
       "      <td>-1.340227</td>\n",
       "      <td>-1.183812</td>\n",
       "      <td>0</td>\n",
       "    </tr>\n",
       "    <tr>\n",
       "      <th>7</th>\n",
       "      <td>-1.021849</td>\n",
       "      <td>0.788808</td>\n",
       "      <td>-1.283389</td>\n",
       "      <td>-1.315444</td>\n",
       "      <td>0</td>\n",
       "    </tr>\n",
       "    <tr>\n",
       "      <th>8</th>\n",
       "      <td>-1.748856</td>\n",
       "      <td>-0.362176</td>\n",
       "      <td>-1.340227</td>\n",
       "      <td>-1.315444</td>\n",
       "      <td>0</td>\n",
       "    </tr>\n",
       "    <tr>\n",
       "      <th>9</th>\n",
       "      <td>-1.143017</td>\n",
       "      <td>0.098217</td>\n",
       "      <td>-1.283389</td>\n",
       "      <td>-1.447076</td>\n",
       "      <td>0</td>\n",
       "    </tr>\n",
       "  </tbody>\n",
       "</table>\n",
       "</div>"
      ],
      "text/plain": [
       "   sepal length (cm)  sepal width (cm)  petal length (cm)  petal width (cm)  \\\n",
       "0          -0.900681          1.019004          -1.340227         -1.315444   \n",
       "1          -1.143017         -0.131979          -1.340227         -1.315444   \n",
       "2          -1.385353          0.328414          -1.397064         -1.315444   \n",
       "3          -1.506521          0.098217          -1.283389         -1.315444   \n",
       "4          -1.021849          1.249201          -1.340227         -1.315444   \n",
       "5          -0.537178          1.939791          -1.169714         -1.052180   \n",
       "6          -1.506521          0.788808          -1.340227         -1.183812   \n",
       "7          -1.021849          0.788808          -1.283389         -1.315444   \n",
       "8          -1.748856         -0.362176          -1.340227         -1.315444   \n",
       "9          -1.143017          0.098217          -1.283389         -1.447076   \n",
       "\n",
       "   cluster_number  \n",
       "0               0  \n",
       "1               0  \n",
       "2               0  \n",
       "3               0  \n",
       "4               0  \n",
       "5               0  \n",
       "6               0  \n",
       "7               0  \n",
       "8               0  \n",
       "9               0  "
      ]
     },
     "execution_count": 22,
     "metadata": {},
     "output_type": "execute_result"
    }
   ],
   "source": [
    "df.head(10)"
   ]
  },
  {
   "cell_type": "code",
   "execution_count": 23,
   "metadata": {
    "colab": {
     "base_uri": "https://localhost:8080/",
     "height": 206
    },
    "executionInfo": {
     "elapsed": 404,
     "status": "ok",
     "timestamp": 1702654335283,
     "user": {
      "displayName": "Nadia Domide",
      "userId": "13986377551014052134"
     },
     "user_tz": -60
    },
    "id": "Uydv5O3Hnzkp",
    "outputId": "e6e7be28-67b9-44ad-b4eb-d3539ee00fb9"
   },
   "outputs": [
    {
     "data": {
      "text/html": [
       "<div>\n",
       "<style scoped>\n",
       "    .dataframe tbody tr th:only-of-type {\n",
       "        vertical-align: middle;\n",
       "    }\n",
       "\n",
       "    .dataframe tbody tr th {\n",
       "        vertical-align: top;\n",
       "    }\n",
       "\n",
       "    .dataframe thead th {\n",
       "        text-align: right;\n",
       "    }\n",
       "</style>\n",
       "<table border=\"1\" class=\"dataframe\">\n",
       "  <thead>\n",
       "    <tr style=\"text-align: right;\">\n",
       "      <th></th>\n",
       "      <th>sepal length (cm)</th>\n",
       "      <th>sepal width (cm)</th>\n",
       "      <th>petal length (cm)</th>\n",
       "      <th>petal width (cm)</th>\n",
       "      <th>cluster_number</th>\n",
       "    </tr>\n",
       "  </thead>\n",
       "  <tbody>\n",
       "    <tr>\n",
       "      <th>145</th>\n",
       "      <td>1.038005</td>\n",
       "      <td>-0.131979</td>\n",
       "      <td>0.819596</td>\n",
       "      <td>1.448832</td>\n",
       "      <td>2</td>\n",
       "    </tr>\n",
       "    <tr>\n",
       "      <th>146</th>\n",
       "      <td>0.553333</td>\n",
       "      <td>-1.282963</td>\n",
       "      <td>0.705921</td>\n",
       "      <td>0.922303</td>\n",
       "      <td>1</td>\n",
       "    </tr>\n",
       "    <tr>\n",
       "      <th>147</th>\n",
       "      <td>0.795669</td>\n",
       "      <td>-0.131979</td>\n",
       "      <td>0.819596</td>\n",
       "      <td>1.053935</td>\n",
       "      <td>2</td>\n",
       "    </tr>\n",
       "    <tr>\n",
       "      <th>148</th>\n",
       "      <td>0.432165</td>\n",
       "      <td>0.788808</td>\n",
       "      <td>0.933271</td>\n",
       "      <td>1.448832</td>\n",
       "      <td>2</td>\n",
       "    </tr>\n",
       "    <tr>\n",
       "      <th>149</th>\n",
       "      <td>0.068662</td>\n",
       "      <td>-0.131979</td>\n",
       "      <td>0.762758</td>\n",
       "      <td>0.790671</td>\n",
       "      <td>1</td>\n",
       "    </tr>\n",
       "  </tbody>\n",
       "</table>\n",
       "</div>"
      ],
      "text/plain": [
       "     sepal length (cm)  sepal width (cm)  petal length (cm)  petal width (cm)  \\\n",
       "145           1.038005         -0.131979           0.819596          1.448832   \n",
       "146           0.553333         -1.282963           0.705921          0.922303   \n",
       "147           0.795669         -0.131979           0.819596          1.053935   \n",
       "148           0.432165          0.788808           0.933271          1.448832   \n",
       "149           0.068662         -0.131979           0.762758          0.790671   \n",
       "\n",
       "     cluster_number  \n",
       "145               2  \n",
       "146               1  \n",
       "147               2  \n",
       "148               2  \n",
       "149               1  "
      ]
     },
     "execution_count": 23,
     "metadata": {},
     "output_type": "execute_result"
    }
   ],
   "source": [
    "df.tail()"
   ]
  },
  {
   "cell_type": "code",
   "execution_count": 24,
   "metadata": {
    "colab": {
     "base_uri": "https://localhost:8080/"
    },
    "executionInfo": {
     "elapsed": 293,
     "status": "ok",
     "timestamp": 1702654337712,
     "user": {
      "displayName": "Nadia Domide",
      "userId": "13986377551014052134"
     },
     "user_tz": -60
    },
    "id": "-lSye0Wdn3pT",
    "outputId": "5e1b310a-3ec0-4268-8919-12ed0116cf9a"
   },
   "outputs": [
    {
     "data": {
      "text/plain": [
       "cluster_number\n",
       "1    52\n",
       "0    50\n",
       "2    48\n",
       "Name: count, dtype: int64"
      ]
     },
     "execution_count": 24,
     "metadata": {},
     "output_type": "execute_result"
    }
   ],
   "source": [
    "#it is important to investigate how many samples are in each of your clusters - we can seee here that the\n",
    "#class 1 has almost double the size of class 2.\n",
    "df[\"cluster_number\"].value_counts()"
   ]
  },
  {
   "cell_type": "markdown",
   "metadata": {
    "id": "H2_pZHEI4kL5"
   },
   "source": [
    "### Let´s see how our dataset looks before and after clustering. I´ll choose two print with regards to the features Petal Length and Petal Width."
   ]
  },
  {
   "cell_type": "code",
   "execution_count": 25,
   "metadata": {
    "colab": {
     "base_uri": "https://localhost:8080/"
    },
    "executionInfo": {
     "elapsed": 352,
     "status": "ok",
     "timestamp": 1702654346333,
     "user": {
      "displayName": "Nadia Domide",
      "userId": "13986377551014052134"
     },
     "user_tz": -60
    },
    "id": "JgmDs5l149Tp",
    "outputId": "ac5c9e81-a06d-4480-e7e4-3b5e6a99a1f0"
   },
   "outputs": [
    {
     "data": {
      "text/plain": [
       "Index(['sepal length (cm)', 'sepal width (cm)', 'petal length (cm)',\n",
       "       'petal width (cm)', 'cluster_number'],\n",
       "      dtype='object')"
      ]
     },
     "execution_count": 25,
     "metadata": {},
     "output_type": "execute_result"
    }
   ],
   "source": [
    "df.columns"
   ]
  },
  {
   "cell_type": "code",
   "execution_count": 26,
   "metadata": {
    "colab": {
     "base_uri": "https://localhost:8080/"
    },
    "executionInfo": {
     "elapsed": 4,
     "status": "ok",
     "timestamp": 1702654347611,
     "user": {
      "displayName": "Nadia Domide",
      "userId": "13986377551014052134"
     },
     "user_tz": -60
    },
    "id": "T-6duCV_4_Gw",
    "outputId": "eee85b74-ad8f-432c-e5f2-33f497f19b2c"
   },
   "outputs": [
    {
     "data": {
      "text/plain": [
       "0     -1.340227\n",
       "1     -1.340227\n",
       "2     -1.397064\n",
       "3     -1.283389\n",
       "4     -1.340227\n",
       "         ...   \n",
       "145    0.819596\n",
       "146    0.705921\n",
       "147    0.819596\n",
       "148    0.933271\n",
       "149    0.762758\n",
       "Name: petal length (cm), Length: 150, dtype: float64"
      ]
     },
     "execution_count": 26,
     "metadata": {},
     "output_type": "execute_result"
    }
   ],
   "source": [
    "# accessing petal length column:\n",
    "df['petal length (cm)']"
   ]
  },
  {
   "cell_type": "code",
   "execution_count": 27,
   "metadata": {
    "colab": {
     "base_uri": "https://localhost:8080/"
    },
    "executionInfo": {
     "elapsed": 4,
     "status": "ok",
     "timestamp": 1702654349845,
     "user": {
      "displayName": "Nadia Domide",
      "userId": "13986377551014052134"
     },
     "user_tz": -60
    },
    "id": "E71TA9wh5MpW",
    "outputId": "75681f59-063e-4435-c484-6e3a3dc28809"
   },
   "outputs": [
    {
     "data": {
      "text/plain": [
       "0     -1.315444\n",
       "1     -1.315444\n",
       "2     -1.315444\n",
       "3     -1.315444\n",
       "4     -1.315444\n",
       "         ...   \n",
       "145    1.448832\n",
       "146    0.922303\n",
       "147    1.053935\n",
       "148    1.448832\n",
       "149    0.790671\n",
       "Name: petal width (cm), Length: 150, dtype: float64"
      ]
     },
     "execution_count": 27,
     "metadata": {},
     "output_type": "execute_result"
    }
   ],
   "source": [
    "# accessing Petal Width column:\n",
    "df['petal width (cm)']"
   ]
  },
  {
   "cell_type": "code",
   "execution_count": 28,
   "metadata": {
    "colab": {
     "base_uri": "https://localhost:8080/",
     "height": 470
    },
    "executionInfo": {
     "elapsed": 659,
     "status": "ok",
     "timestamp": 1702654352370,
     "user": {
      "displayName": "Nadia Domide",
      "userId": "13986377551014052134"
     },
     "user_tz": -60
    },
    "id": "RCvXAHuj5xZ_",
    "outputId": "53cade7c-6282-47e7-807e-c17099ab7ecf"
   },
   "outputs": [
    {
     "data": {
      "text/plain": [
       "Text(0.5, 1.0, 'The actual dataset')"
      ]
     },
     "execution_count": 28,
     "metadata": {},
     "output_type": "execute_result"
    },
    {
     "data": {
      "image/png": "[encoded data removed]",
      "text/plain": [
       "<Figure size 640x480 with 1 Axes>"
      ]
     },
     "metadata": {},
     "output_type": "display_data"
    }
   ],
   "source": [
    "# Let´s plot this two! :)\n",
    "plt.scatter(x=df['petal length (cm)'],y=df['petal width (cm)'],color='b')\n",
    "plt.title(\"The actual dataset\")"
   ]
  },
  {
   "cell_type": "code",
   "execution_count": 29,
   "metadata": {
    "colab": {
     "base_uri": "https://localhost:8080/",
     "height": 470
    },
    "executionInfo": {
     "elapsed": 941,
     "status": "ok",
     "timestamp": 1702654366084,
     "user": {
      "displayName": "Nadia Domide",
      "userId": "13986377551014052134"
     },
     "user_tz": -60
    },
    "id": "lRpWpioV8H-H",
    "outputId": "2b6744e6-5bb4-4474-de68-a31d4ff065fb"
   },
   "outputs": [
    {
     "data": {
      "text/plain": [
       "Text(0.5, 1.0, 'The dataset original clustering')"
      ]
     },
     "execution_count": 29,
     "metadata": {},
     "output_type": "execute_result"
    },
    {
     "data": {
      "image/png": "[encoded data removed]",
      "text/plain": [
       "<Figure size 640x480 with 1 Axes>"
      ]
     },
     "metadata": {},
     "output_type": "display_data"
    }
   ],
   "source": [
    "# now let´s prepare the color for our plot with the cluster:\n",
    "color =np.array(['yellow','blue','magenta'])\n",
    "# .ravel(): This is a NumPy function that converts a multi-dimensional array into a flattened 1D array. In this case, it is used to flatten the target variable.\n",
    "plt.scatter(x=df['petal length (cm)'],y=df['petal width (cm)'],c=color[iris.target.ravel()])\n",
    "plt.title(\"The dataset original clustering\")"
   ]
  }
 ],
 "metadata": {
  "colab": {
   "provenance": [
    {
     "file_id": "1tBAz07POrRSV0GLWIDXKf6DWgIlMKSpt",
     "timestamp": 1702303187780
    }
   ]
  },
  "kernelspec": {
   "display_name": ".venv",
   "language": "python",
   "name": "python3"
  },
  "language_info": {
   "codemirror_mode": {
    "name": "ipython",
    "version": 3
   },
   "file_extension": ".py",
   "mimetype": "text/x-python",
   "name": "python",
   "nbconvert_exporter": "python",
   "pygments_lexer": "ipython3",
   "version": "3.12.0"
  }
 },
 "nbformat": 4,
 "nbformat_minor": 0
}
