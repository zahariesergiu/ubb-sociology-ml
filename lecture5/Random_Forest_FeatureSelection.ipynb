{
  "cells": [
    {
      "cell_type": "markdown",
      "metadata": {
        "id": "ykYE62sab8yW"
      },
      "source": [
        "### Benefits of using feature selection"
      ]
    },
    {
      "cell_type": "markdown",
      "metadata": {
        "id": "mkBxvkt5cCBm"
      },
      "source": [
        "[Original author](https://inria.github.io/scikit-learn-mooc/python_scripts/feature_selection_introduction.html).\n",
        "Under a CC-BY License by Inria Learning Lab, scikit-learn @ La Fondation Inria, Inria Academy."
      ]
    },
    {
      "cell_type": "markdown",
      "metadata": {
        "id": "5RJQ7Qdtb64A"
      },
      "source": [
        "\n",
        "In this notebook, we aim at introducing the main benefits that can be gained when using feature selection.\n",
        "\n",
        "Indeed, the principal advantage of selecting features within a machine learning pipeline is to reduce the time to train this pipeline and its time to predict. We will give an example to highlights these advantages. First, we generate a synthetic dataset to control the number of features that will be informative, redundant, repeated, and random."
      ]
    },
    {
      "cell_type": "markdown",
      "metadata": {
        "id": "hwrP-v0GcO_b"
      },
      "source": [
        "The code snippet you provided generates a synthetic classification dataset using scikit-learn's make_classification function."
      ]
    },
    {
      "cell_type": "code",
      "execution_count": 1,
      "metadata": {
        "id": "OVP0uqXYbqwx"
      },
      "outputs": [],
      "source": [
        "from sklearn.datasets import make_classification\n",
        "\n",
        "data, target = make_classification(\n",
        "    n_samples=5000,\n",
        "    n_features=100,\n",
        "    n_informative=2,\n",
        "    n_redundant=0,\n",
        "    n_repeated=0,\n",
        "    random_state=0,\n",
        ")"
      ]
    },
    {
      "cell_type": "markdown",
      "metadata": {
        "id": "FPKrsbrwcSVw"
      },
      "source": [
        "Here's what each parameter means:\n",
        "\n",
        "-  n_samples: The total number of samples in the dataset. In this case, there are 5000 samples.  \n",
        "- n_features: The total number of features for each sample. In this case, each sample has 100 features.  \n",
        "- n_informative: The number of informative features. These are the features that contribute to the target variable and are used to create a separation between classes. In this case, there are 2 informative features.  \n",
        "- n_redundant: The number of redundant features. These are randomly generated linear combinations of informative features. In this case, there are 0 redundant features.  \n",
        "- n_repeated: The number of duplicated features. These are randomly duplicated informative features. In this case, there are 0 duplicated features.  \n",
        "- random_state: A seed for the random number generator, ensuring that if you run this code with the same seed, you'll get the same synthetic dataset. This is useful for reproducibility.  \n",
        "  \n",
        "The function returns two arrays:\n",
        "\n",
        "- data: A 2D NumPy array containing the feature values for each sample.  \n",
        "- target: A 1D NumPy array containing the binary class labels (0 or 1) for each sample.\n"
      ]
    },
    {
      "cell_type": "markdown",
      "metadata": {
        "id": "EKa6uaBJcSg-"
      },
      "source": [
        "We choose to create a dataset with two informative features among a hundred. To simplify our example, we do not include either redundant or repeated features.\n",
        "\n",
        "We will create two machine learning pipelines. The former will be a random forest that will use all available features. The latter will also be a random forest, but we will add a feature selection step to train this classifier. The feature selection is based on a univariate test (ANOVA F-value) between each feature and the target that we want to predict. The features with the two most significant scores are selected.\n",
        "\n",
        "Let’s create the model without any feature selection:"
      ]
    },
    {
      "cell_type": "markdown",
      "metadata": {
        "id": "BLiOXBeHdTcs"
      },
      "source": [
        "In Google Colab, the available resources, including the number of CPU cores, can vary.   \n",
        "You can check the number of available CPU cores in your Colab runtime by running the following command:"
      ]
    },
    {
      "cell_type": "code",
      "execution_count": 2,
      "metadata": {
        "colab": {
          "base_uri": "https://localhost:8080/"
        },
        "id": "twzHVbbDdNzB",
        "outputId": "c3e76c5b-7f7d-4f00-ea9e-43b76a05abb3"
      },
      "outputs": [
        {
          "name": "stdout",
          "output_type": "stream",
          "text": [
            "12\n"
          ]
        }
      ],
      "source": [
        "import os\n",
        "print(os.cpu_count())"
      ]
    },
    {
      "cell_type": "markdown",
      "metadata": {
        "id": "z3YoVw4EdYYX"
      },
      "source": [
        "The n_jobs parameter in scikit-learn is used to specify the number of parallel jobs to run during training and prediction."
      ]
    },
    {
      "cell_type": "code",
      "execution_count": 3,
      "metadata": {
        "id": "072Z1aEmcJJ4"
      },
      "outputs": [],
      "source": [
        "from sklearn.ensemble import RandomForestClassifier\n",
        "\n",
        "model_without_selection = RandomForestClassifier(n_jobs=2)"
      ]
    },
    {
      "cell_type": "markdown",
      "metadata": {
        "id": "xpTk5sXFdhwQ"
      },
      "source": [
        "Then, let’s create a pipeline where the first stage will make the feature selection processing."
      ]
    },
    {
      "cell_type": "markdown",
      "metadata": {
        "id": "YkigUUk-fuX0"
      },
      "source": [
        "SelectKBest for Feature Selection:  \n",
        "SelectKBest is a feature selection method in scikit-learn.  \n",
        "- score_func=f_classif specifies that the ANOVA F-statistic will be used as the scoring function. This function assesses the linear dependency between a feature and the target variable for classification tasks.  \n",
        "- k=2 indicates that you want to select the top 2 features based on the F-statistic scores."
      ]
    },
    {
      "cell_type": "code",
      "execution_count": 4,
      "metadata": {
        "id": "IP1PwUmucyD5"
      },
      "outputs": [],
      "source": [
        "from sklearn.feature_selection import SelectKBest\n",
        "from sklearn.feature_selection import f_classif\n",
        "from sklearn.pipeline import make_pipeline\n",
        "\n",
        "\n",
        "model_with_selection = make_pipeline(\n",
        "    SelectKBest(score_func=f_classif, k=2),\n",
        "    RandomForestClassifier(n_jobs=2),\n",
        ")"
      ]
    },
    {
      "cell_type": "markdown",
      "metadata": {
        "id": "v-Pu-fuJdpaV"
      },
      "source": [
        "We will measure the average time spent to train each pipeline and make it predict. Besides, we will compute the testing score of the model. We will collect these results via cross-validation.\n",
        "\n",
        "Let’s start with the random forest without feature selection. We will store the results into a dataframe."
      ]
    },
    {
      "cell_type": "code",
      "execution_count": 5,
      "metadata": {
        "id": "pK7E1haldjp0"
      },
      "outputs": [],
      "source": [
        "import pandas as pd\n",
        "from sklearn.model_selection import cross_validate\n",
        "\n",
        "cv_results_without_selection = cross_validate(\n",
        "    model_without_selection, data, target\n",
        ")\n",
        "cv_results_without_selection = pd.DataFrame(cv_results_without_selection)"
      ]
    },
    {
      "cell_type": "markdown",
      "metadata": {
        "id": "Gq9lGa29duVA"
      },
      "source": [
        "Now, we will repeat the process for the pipeline incorporating the feature selection."
      ]
    },
    {
      "cell_type": "code",
      "execution_count": 6,
      "metadata": {
        "id": "3kIaTd89dsEN"
      },
      "outputs": [],
      "source": [
        "cv_results_with_selection = cross_validate(\n",
        "    model_with_selection, data, target, return_estimator=True\n",
        ")\n",
        "cv_results_with_selection = pd.DataFrame(cv_results_with_selection)"
      ]
    },
    {
      "cell_type": "markdown",
      "metadata": {
        "id": "PH4bYfRZd6jg"
      },
      "source": [
        "To analyze the results, we will merge the results from the two pipeline in a single pandas dataframe."
      ]
    },
    {
      "cell_type": "code",
      "execution_count": 7,
      "metadata": {
        "id": "Tvt63xwOdzSC"
      },
      "outputs": [],
      "source": [
        "cv_results = pd.concat(\n",
        "    [cv_results_without_selection, cv_results_with_selection],\n",
        "    axis=1,\n",
        "    keys=[\"Without feature selection\", \"With feature selection\"],\n",
        ")\n",
        "# swap the level of the multi-index of the columns\n",
        "cv_results = cv_results.swaplevel(axis=\"columns\")"
      ]
    },
    {
      "cell_type": "markdown",
      "metadata": {
        "id": "d2Rpn-cBd-GI"
      },
      "source": [
        "Let’s first analyze the train and score time for each pipeline."
      ]
    },
    {
      "cell_type": "code",
      "execution_count": 8,
      "metadata": {
        "colab": {
          "base_uri": "https://localhost:8080/",
          "height": 472
        },
        "id": "8K6evFgRd8Qe",
        "outputId": "4ba94e4b-8c07-4527-d08b-760c3c3a7067"
      },
      "outputs": [
        {
          "data": {
            "image/png": "[encoded data removed]",
            "text/plain": [
              "<Figure size 640x480 with 1 Axes>"
            ]
          },
          "metadata": {},
          "output_type": "display_data"
        }
      ],
      "source": [
        "import matplotlib.pyplot as plt\n",
        "\n",
        "color = {\"whiskers\": \"black\", \"medians\": \"black\", \"caps\": \"black\"}\n",
        "cv_results[\"fit_time\"].plot.box(color=color, vert=False)\n",
        "plt.xlabel(\"Elapsed time (s)\")\n",
        "_ = plt.title(\"Time to fit the model\")"
      ]
    },
    {
      "cell_type": "code",
      "execution_count": 9,
      "metadata": {
        "colab": {
          "base_uri": "https://localhost:8080/",
          "height": 472
        },
        "id": "hgh6KIood_3z",
        "outputId": "a0ee3c17-97fb-4ea9-d21f-be95775c4f52"
      },
      "outputs": [
        {
          "data": {
            "image/png": "[encoded data removed]",
            "text/plain": [
              "<Figure size 640x480 with 1 Axes>"
            ]
          },
          "metadata": {},
          "output_type": "display_data"
        }
      ],
      "source": [
        "cv_results[\"score_time\"].plot.box(color=color, vert=False)\n",
        "plt.xlabel(\"Elapsed time (s)\")\n",
        "_ = plt.title(\"Time to make prediction\")"
      ]
    },
    {
      "cell_type": "markdown",
      "metadata": {
        "id": "nebvu6OyeICI"
      },
      "source": [
        "We can draw the same conclusions for both training and scoring elapsed time: selecting the most informative features speed-up our pipeline.\n",
        "\n",
        "Of course, such speed-up is beneficial only if the generalization performance in terms of metrics remain the same. Let’s check the testing score."
      ]
    },
    {
      "cell_type": "code",
      "execution_count": 10,
      "metadata": {
        "colab": {
          "base_uri": "https://localhost:8080/",
          "height": 472
        },
        "id": "1ubPGTMJeEbW",
        "outputId": "2effd952-7457-4097-c5ba-86007ead260c"
      },
      "outputs": [
        {
          "data": {
            "image/png": "[encoded data removed]",
            "text/plain": [
              "<Figure size 640x480 with 1 Axes>"
            ]
          },
          "metadata": {},
          "output_type": "display_data"
        }
      ],
      "source": [
        "cv_results[\"test_score\"].plot.box(color=color, vert=False)\n",
        "plt.xlabel(\"Accuracy score\")\n",
        "_ = plt.title(\"Test score via cross-validation\")"
      ]
    },
    {
      "cell_type": "markdown",
      "metadata": {
        "id": "RRh1_WSmeN46"
      },
      "source": [
        "We can observe that the model’s generalization performance selecting a subset of features decreases compared with the model using all available features. Since we generated the dataset, we can infer that the decrease is because of the selection. The feature selection algorithm did not choose the two informative features.\n",
        "\n",
        "We can investigate which feature have been selected during the cross-validation. We will print the indices of the two selected features."
      ]
    },
    {
      "cell_type": "code",
      "execution_count": 11,
      "metadata": {
        "colab": {
          "base_uri": "https://localhost:8080/"
        },
        "id": "XAmp-w5MeK6M",
        "outputId": "b47264e9-97cb-4a1c-b256-4b7bda84d059"
      },
      "outputs": [
        {
          "name": "stdout",
          "output_type": "stream",
          "text": [
            "Fold #0 - features selected are: [89 53]\n",
            "Fold #1 - features selected are: [29 53]\n",
            "Fold #2 - features selected are: [52 53]\n",
            "Fold #3 - features selected are: [49 53]\n",
            "Fold #4 - features selected are: [49 53]\n"
          ]
        }
      ],
      "source": [
        "import numpy as np\n",
        "\n",
        "for idx, pipeline in enumerate(cv_results_with_selection[\"estimator\"]):\n",
        "    print(\n",
        "        f\"Fold #{idx} - features selected are: \"\n",
        "        f\"{np.argsort(pipeline[0].scores_)[-2:]}\"\n",
        "    )"
      ]
    },
    {
      "cell_type": "markdown",
      "metadata": {
        "id": "pMPj0uVcegEd"
      },
      "source": [
        "We see that the feature 53 is always selected while the other feature varies depending on the cross-validation fold.\n",
        "\n",
        "If we would like to keep our score with similar generalization performance, we could choose another metric to perform the test or select more features. For instance, we could select the number of features based on a specific percentile of the highest scores. Besides, we should keep in mind that we simplify our problem by having informative and not informative features. Correlation between features makes the problem of feature selection even harder."
      ]
    }
  ],
  "metadata": {
    "colab": {
      "provenance": []
    },
    "kernelspec": {
      "display_name": ".venv",
      "language": "python",
      "name": "python3"
    },
    "language_info": {
      "codemirror_mode": {
        "name": "ipython",
        "version": 3
      },
      "file_extension": ".py",
      "mimetype": "text/x-python",
      "name": "python",
      "nbconvert_exporter": "python",
      "pygments_lexer": "ipython3",
      "version": "3.12.0"
    }
  },
  "nbformat": 4,
  "nbformat_minor": 0
}
