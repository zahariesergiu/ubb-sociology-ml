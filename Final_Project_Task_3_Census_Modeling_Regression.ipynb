{
  "cells": [
    {
      "cell_type": "markdown",
      "metadata": {
        "id": "ydHb_ZL5yy6f"
      },
      "source": [
        "# **Final Project Task 3 - Census Modeling Regression**"
      ]
    },
    {
      "cell_type": "markdown",
      "metadata": {
        "id": "hnzXS8Oo9jwY"
      },
      "source": [
        "Requirements\n",
        "- Create a regression model on the Census dataset, with 'hours-per-week' target\n",
        "\n",
        "- You can use models (estmators) from sklearn, but feel free to use any library for traditional ML. \n",
        "    - Note: in sklearn, the LinearRegression estimator is based on OLS, a statistical method. Please use the SGDRegressor estimator, since this is based on gradient descent. \n",
        "    - You can use LinearRegression estimator, but only as comparison with the SGDRegressor - Optional.\n",
        "\n",
        "- Model Selection and Setup:\n",
        "    - Implement multiple models, to solve a regression problem using traditional ML:\n",
        "        - Linear Regression\n",
        "        - Decision Tree Regression\n",
        "        - Random Forest Regression - Optional\n",
        "        - Ridge Regression - Optional\n",
        "        - Lasso Regression - Optional\n",
        "    - Choose a loss (or experiment with different losses) for the model and justify the choice.\n",
        "        - MSE, MAE, RMSE, Huber Loss or others\n",
        "    - Justify model choices based on dataset characteristics and task requirements; specify model pros and cons.\n",
        "\n",
        "\n",
        "- Data Preparation\n",
        "    - Use the preprocessed datasets from Task 1.\n",
        "    - From the train set, create an extra validation set, if necesarry. So in total there will be: train, validation and test datasets.\n",
        "    - Be sure all models have their data preprocessed as needed. Some models require different, or no encoding for some features.\n",
        "\n",
        "\n",
        "- Model Training and Experimentation\n",
        "    - Establish a Baseline Model:\n",
        "        - For each model type, train a simple model with default settings as a baseline.\n",
        "        - Evaluate its performance to establish a benchmark for comparison.\n",
        "    - Make plots with train, validation loss and metric on epochs (or on steps), if applicable. - Optional\n",
        "    - Feature Selection:\n",
        "        - Use insights from EDA in Task 2 to identify candidate features by analyzing patterns, relationships, and distributions.\n",
        "    - Experimentation:\n",
        "        - For each baseline model type, iteratively experiment with different combinations of features and transformations.\n",
        "        - Experiment with feature engineering techniques such as interaction terms, polynomial features, or scaling transformations.\n",
        "        - Identify the best model which have the best performance metrics on test set.\n",
        "    - Hyperparameter Tuning - Optional:\n",
        "        - Perform hyperparameter tuning only on the best-performing model after evaluating all model types and experiments.\n",
        "        - Consider using techniques like Grid Search for exhaustive tuning, Random Search for quicker exploration, or Bayesian Optimization for an intelligent, efficient search of hyperparameters.\n",
        "        - Avoid tuning models that do not show strong baseline performance or are unlikely to outperform others based on experimentation.\n",
        "        - Ensure that hyperparameter tuning is done after completing feature selection, baseline modeling, and experimentation, ensuring that the model is stable and representative of the dataset.\n",
        "\n",
        "\n",
        "- Model Evaluation\n",
        "    - Evaluate models on the test dataset using regression metrics:\n",
        "        - Mean Absolute Error (MAE)\n",
        "        - Mean Squared Error (MSE)\n",
        "        - Root Mean Squared Error (RMSE)\n",
        "        - R² Score\n",
        "    - Choose one metric for model comparison and explain your choice\n",
        "    - Compare the results across different models. Save all experiment results into a table.\n",
        "\n",
        "Feature Importance - Optional\n",
        "- For applicable models (e.g., Decision Tree Regression), analyze feature importance and discuss its relevance to the problem.\n",
        "\n",
        "\n",
        "\n",
        "Deliverables\n",
        "\n",
        "- Notebook code with no errors.\n",
        "- Code and results from experiments. Create a table with all experiments results, include experiment name, metrics results.\n",
        "- Explain findings, choices, results.\n",
        "- Potential areas for improvement or further exploration.\n"
      ]
    },
    {
      "cell_type": "markdown",
      "metadata": {},
      "source": [
        "#  1. Importarea bibliotecilor necesare"
      ]
    },
    {
      "cell_type": "code",
      "execution_count": 1,
      "metadata": {},
      "outputs": [],
      "source": [
        "import pandas as pd\n",
        "import numpy as np\n",
        "import matplotlib.pyplot as plt\n",
        "import seaborn as sns\n",
        "from sklearn.model_selection import train_test_split, GridSearchCV, RandomizedSearchCV\n",
        "from sklearn.linear_model import SGDRegressor, LinearRegression, Ridge, Lasso\n",
        "from sklearn.tree import DecisionTreeRegressor\n",
        "from sklearn.ensemble import RandomForestRegressor\n",
        "from sklearn.metrics import mean_absolute_error, mean_squared_error, r2_score"
      ]
    },
    {
      "cell_type": "markdown",
      "metadata": {},
      "source": [
        "#  2. Încărcarea și împărțirea datelor"
      ]
    },
    {
      "cell_type": "code",
      "execution_count": 12,
      "metadata": {},
      "outputs": [],
      "source": [
        " # Încărcăm setul de date preprocesat\n",
        "train_data = pd.read_csv(\"train_data_standardized.csv\")\n",
        "test_data = pd.read_csv(\"test_data_standardized.csv\")"
      ]
    },
    {
      "cell_type": "code",
      "execution_count": 3,
      "metadata": {},
      "outputs": [],
      "source": [
        "# Eliminăm variabila inutilă (capital_diff deoarece nu are valori)\n",
        "train_data = train_data.drop(columns=[\"capital_diff\"], errors='ignore')\n",
        "test_data = test_data.drop(columns=[\"capital_diff\"], errors='ignore')"
      ]
    },
    {
      "cell_type": "code",
      "execution_count": 4,
      "metadata": {},
      "outputs": [],
      "source": [
        "# Încărcăm setul de date preprocesat\n",
        "train_data = pd.read_csv(\"train_data_standardized.csv\")\n",
        "test_data = pd.read_csv(\"test_data_standardized.csv\")\n",
        "\n",
        "# Eliminăm coloana 'capital_diff' deoarece nu are valori\n",
        "if 'capital_diff' in train_data.columns:\n",
        "    train_data = train_data.drop(columns=['capital_diff'])\n",
        "    test_data = test_data.drop(columns=['capital_diff'])\n",
        "\n",
        "# Definim variabilele independente și target\n",
        "X = train_data.drop(columns=['hours-per-week'])\n",
        "y = train_data['hours-per-week']\n",
        "\n",
        "# Împărțim train în train + validation\n",
        "X_train, X_val, y_train, y_val = train_test_split(X, y, test_size=0.2, random_state=42)\n",
        "X_test = test_data.drop(columns=['hours-per-week'])\n",
        "y_test = test_data['hours-per-week']\n",
        "\n"
      ]
    },
    {
      "cell_type": "markdown",
      "metadata": {},
      "source": [
        "#Acest cod\n",
        "✔ Încarcă dataseturile standardizate (preprocesate anterior).\n",
        "✔ Elimină capital_diff deoarece nu conține date utile.\n",
        "✔ Definim X (features) și y (target = hours-per-week).\n",
        "✔ Împărțim setul de antrenare în train și validation (80%-20%).\n",
        "✔ Pregătim setul de testare separat."
      ]
    },
    {
      "cell_type": "markdown",
      "metadata": {},
      "source": [
        "# 3. Definirea și antrenarea modelelor"
      ]
    },
    {
      "cell_type": "code",
      "execution_count": 5,
      "metadata": {},
      "outputs": [
        {
          "name": "stdout",
          "output_type": "stream",
          "text": [
            "SGDRegressor - MAE: 0.7153, MSE: 0.9077, RMSE: 0.9527, R²: 0.0987\n",
            "LinearRegression - MAE: 0.7089, MSE: 0.9116, RMSE: 0.9548, R²: 0.0948\n",
            "DecisionTree - MAE: 0.8784, MSE: 1.7808, RMSE: 1.3345, R²: -0.7683\n",
            "RandomForest - MAE: 0.7356, MSE: 0.9967, RMSE: 0.9983, R²: 0.0103\n",
            "Ridge - MAE: 0.7088, MSE: 0.9115, RMSE: 0.9547, R²: 0.0949\n",
            "Lasso - MAE: 0.7650, MSE: 1.0070, RMSE: 1.0035, R²: -0.0000\n"
          ]
        }
      ],
      "source": [
        "models = {\n",
        "    'SGDRegressor': SGDRegressor(),\n",
        "    'LinearRegression': LinearRegression(),\n",
        "    'DecisionTree': DecisionTreeRegressor(),\n",
        "    'RandomForest': RandomForestRegressor(),\n",
        "    'Ridge': Ridge(),\n",
        "    'Lasso': Lasso()\n",
        "}\n",
        "\n",
        "results = []\n",
        "\n",
        "for name, model in models.items():\n",
        "    model.fit(X_train, y_train)\n",
        "    y_pred = model.predict(X_val)\n",
        "\n",
        "    mae = mean_absolute_error(y_val, y_pred)\n",
        "    mse = mean_squared_error(y_val, y_pred)\n",
        "    rmse = np.sqrt(mse)\n",
        "    r2 = r2_score(y_val, y_pred)\n",
        "\n",
        "    results.append([name, mae, mse, rmse, r2])\n",
        "\n",
        "    print(f\"{name} - MAE: {mae:.4f}, MSE: {mse:.4f}, RMSE: {rmse:.4f}, R²: {r2:.4f}\")\n"
      ]
    },
    {
      "cell_type": "markdown",
      "metadata": {},
      "source": [
        "#Acest cod\n",
        "✔ Definim 6 modele de regresie (inclusiv SGDRegressor, care era obligatoriu).\n",
        "✔ Iterăm prin fiecare model, îl antrenăm pe datele de train.\n",
        "✔ Prezicem valorile pentru setul de validare.\n",
        "✔ Calculăm MAE, MSE, RMSE, R² pentru fiecare model.\n",
        "✔ Salvăm rezultatele pentru analiză ulterioară.\n",
        "\n"
      ]
    },
    {
      "cell_type": "markdown",
      "metadata": {},
      "source": [
        "#MAE (Mean Absolute Error): Măsoară eroarea medie absolută dintre predicțiile modelului și valorile reale. Cu cât este mai mic, cu atât modelul este mai precis.\n",
        "MSE (Mean Squared Error): Penalizează erorile mari mai mult decât MAE. Modele mai bune au MSE mai mic.\n",
        "RMSE (Root Mean Squared Error): Este rădăcina pătrată a MSE și măsoară eroarea în aceeași unitate ca și datele. Cu cât este mai mic, cu atât mai bine.\n",
        "R² (Coeficientul de determinare): Măsoară cât de bine explică modelul variabilitatea datelor.\n",
        "Valori apropiate de 1 indică un model bun.\n",
        "Valori apropiate de 0 sugerează că modelul este aproape la fel de bun ca media.\n",
        "Valori negative înseamnă că modelul este mai prost decât o predicție constantă."
      ]
    },
    {
      "cell_type": "markdown",
      "metadata": {},
      "source": [
        "#SGDRegressor (MAE: 0.6937, R²: 0.0967) - Cel mai bun model\n",
        " Cel mai mic MAE și cel mai mare R² dintre toate modelele.\n",
        " Indică o ușoară îmbunătățire față de o simplă medie a datelor.\n",
        " RMSE de 0.9538 sugerează o eroare destul de mică în predicții.\n",
        "\n",
        " LinearRegression / Ridge (MAE: 0.7088, R²: ~0.095)\n",
        "Performanțe foarte apropiate de SGDRegressor, dar puțin mai slabe.\n",
        "Ridge are un avantaj ușor, dar nesemnificativ.\n",
        "\n",
        " Lasso (MAE: 0.7650, R²: -0.0000)\n",
        " Nu îmbunătățește performanța (R² aproape 0).\n",
        " Penalizarea L1 probabil elimină caracteristici importante, afectând predicțiile.\n",
        "\n",
        " DecisionTree (MAE: 0.8886, R²: -0.8013) - Cel mai slab model\n",
        " Generalizare foarte slabă, R² negativ indică un model mai rău decât media datelor.\n",
        " Overfitting extrem pe train set → nu generalizează bine.\n",
        "\n",
        " RandomForest (MAE: 0.7396, R²: 0.0063)\n",
        " Ușor mai bun decât DecisionTree, dar mai slab decât modele liniare.\n",
        " Se pare că nu captează bine structura datelor.\n",
        " \n",
        " Concluzie: Cel mai bun model\n",
        " SGDRegressor are cea mai bună performanță globală.\n",
        " LinearRegression și Ridge sunt aproape la fel de bune, dar nu depășesc SGD.\n",
        " Tree-based models (DecisionTree, RandomForest) nu funcționează bine pe acest set de date.\n",
        " Lasso nu ajută, probabil pentru că elimină prea multe feature-uri importante."
      ]
    },
    {
      "cell_type": "markdown",
      "metadata": {},
      "source": [
        "# 4. Tuning pentru modelul cel mai performant"
      ]
    },
    {
      "cell_type": "code",
      "execution_count": 6,
      "metadata": {},
      "outputs": [
        {
          "name": "stdout",
          "output_type": "stream",
          "text": [
            "Best parameters: {'max_depth': 10, 'min_samples_leaf': 4, 'min_samples_split': 2, 'n_estimators': 200}\n",
            "Best score: 0.8996336250170893\n"
          ]
        }
      ],
      "source": [
        "best_model = RandomForestRegressor()  # Exemplu - se poate schimba\n",
        "param_grid = {\n",
        "    'n_estimators': [50, 100, 200],\n",
        "    'max_depth': [None, 5, 10, 20],\n",
        "    'min_samples_split': [2, 5, 10],\n",
        "    'min_samples_leaf': [1, 2, 4]\n",
        "}\n",
        "\n",
        "grid_search = GridSearchCV(best_model, param_grid, cv=5, scoring='neg_mean_squared_error', n_jobs=-1)\n",
        "grid_search.fit(X_train, y_train)\n",
        "\n",
        "print(\"Best parameters:\", grid_search.best_params_)\n",
        "print(\"Best score:\", -grid_search.best_score_)\n"
      ]
    },
    {
      "cell_type": "markdown",
      "metadata": {},
      "source": [
        "#{'max_depth': 10, 'min_samples_leaf': 1, 'min_samples_split': 10, 'n_estimators': 200}\n",
        "Acest set de hiperparametri a oferit cea mai bună performanță în timpul cross-validation-ului:\n",
        "\n",
        "max_depth=10 → Arborele are o adâncime maximă de 10 niveluri, ceea ce controlează complexitatea modelului și previne supraînvățarea.\n",
        "min_samples_leaf=1 → Fiecare frunză a arborelui trebuie să conțină cel puțin 1 eșantion, ceea ce poate permite un model mai flexibil.\n",
        "min_samples_split=10 → Un nod se împarte doar dacă are cel puțin 10 eșantioane, ceea ce previne împărțirile inutile și reduce riscul de supraînvățare.\n",
        "n_estimators=200 → Folosește 200 arbori în pădurea aleatorie, ceea ce crește stabilitatea modelului și reduce variația.\n",
        "\n",
        "#Best score: 0.899275781243184\n",
        "Acest scor este calculat folosind scoring='neg_mean_squared_error', ceea ce înseamnă că valoarea afișată este negativă.\n",
        "\n",
        "Pentru a obține Mean Squared Error (MSE) real, trebuie să luăm valoarea absolută:\n",
        "\n",
        "𝑀\n",
        "𝑆\n",
        "𝐸\n",
        "=\n",
        "−\n",
        "0.899275781243184\n",
        "=\n",
        "0.8993\n",
        "MSE=−0.899275781243184=0.8993\n",
        "Interpretare:\n",
        "\n",
        "Un MSE de 0.8993 indică o eroare medie pătratică relativ mică.\n",
        "Comparând cu celelalte modele testate (SGDRegressor, Ridge, Lasso), observăm dacă Random Forest este mai bun sau nu."
      ]
    },
    {
      "cell_type": "code",
      "execution_count": 7,
      "metadata": {},
      "outputs": [],
      "source": [
        "# Antrenăm Random Forest cu cei mai buni hiperparametri\n",
        "best_params = {'max_depth': 10, 'min_samples_leaf': 4, 'min_samples_split': 5, 'n_estimators': 100}\n",
        "best_rf = RandomForestRegressor(**best_params)\n",
        "best_rf.fit(X_train, y_train)\n",
        "y_pred_rf = best_rf.predict(X_test)"
      ]
    },
    {
      "cell_type": "markdown",
      "metadata": {},
      "source": [
        "#Aici, se definesc cei mai buni hiperparametri pentru modelul RandomForestRegressor:\n",
        "Se creează un obiect RandomForestRegressor utilizând hiperparametrii specificați în variabila best_params. Prin utilizarea **best_params, valorile din dicționarul best_params sunt transmise direct constructorului clasei RandomForestRegressor.\n",
        "Se antrenează modelul Random Forest folosind datele de antrenament: X_train (caracteristicile) și y_train (etichetele reale). Aceasta înseamnă că modelul va învăța relația dintre caracteristici și etichete pe baza acestor date.\n",
        "În concluzie, acest cod antrenează un model Random Forest cu anumite setări (hiperparametri) și folosește modelul antrenat pentru a face predicții pe un set de date necunoscut (setul de testare)."
      ]
    },
    {
      "cell_type": "code",
      "execution_count": 10,
      "metadata": {},
      "outputs": [
        {
          "name": "stdout",
          "output_type": "stream",
          "text": [
            "\n",
            "Optimized RandomForestRegressor - MAE: 0.7027, MSE: 0.9163, RMSE: 0.9572, R²: 0.0912\n",
            "              Model       MAE       MSE      RMSE            R²\n",
            "0      SGDRegressor  0.715316  0.907680  0.952723  9.866548e-02\n",
            "1  LinearRegression  0.708924  0.911617  0.954786  9.475615e-02\n",
            "2      DecisionTree  0.878442  1.780775  1.334457 -7.683253e-01\n",
            "3      RandomForest  0.735580  0.996659  0.998328  1.030873e-02\n",
            "4             Ridge  0.708759  0.911463  0.954706  9.490879e-02\n",
            "5             Lasso  0.765036  1.007041  1.003514 -2.004205e-07\n"
          ]
        },
        {
          "data": {
            "image/png": "[encoded data removed]",
            "text/plain": [
              "<Figure size 1000x600 with 1 Axes>"
            ]
          },
          "metadata": {},
          "output_type": "display_data"
        },
        {
          "data": {
            "image/png": "[encoded data removed]",
            "text/plain": [
              "<Figure size 640x480 with 1 Axes>"
            ]
          },
          "metadata": {},
          "output_type": "display_data"
        }
      ],
      "source": [
        "\n",
        "# Calculăm metricile de performanță pentru modelul optimizat\n",
        "mae_rf = mean_absolute_error(y_test, y_pred_rf)\n",
        "mse_rf = mean_squared_error(y_test, y_pred_rf)\n",
        "rmse_rf = np.sqrt(mse_rf)\n",
        "r2_rf = r2_score(y_test, y_pred_rf)\n",
        "\n",
        "print(f\"\\nOptimized RandomForestRegressor - MAE: {mae_rf:.4f}, MSE: {mse_rf:.4f}, RMSE: {rmse_rf:.4f}, R²: {r2_rf:.4f}\")\n",
        "\n",
        "# Creăm un DataFrame cu rezultatele\n",
        "results_df = pd.DataFrame(results, columns=['Model', 'MAE', 'MSE', 'RMSE', 'R²'])\n",
        "print(results_df)\n",
        "\n",
        "# Vizualizare performanță modele\n",
        "plt.figure(figsize=(10, 6))\n",
        "sns.barplot(data=results_df, x='Model', y='RMSE')\n",
        "plt.xticks(rotation=45)\n",
        "plt.title(\"RMSE Comparison Between Models\")\n",
        "plt.show()\n",
        "\n",
        "# Definim modelul final ca fiind best_rf\n",
        "final_model = best_rf  # Aceasta este variabila lipsă care a cauzat eroarea\n",
        "\n",
        "# Importanța caracteristicilor pentru modelele bazate pe arbori\n",
        "if hasattr(final_model, \"feature_importances_\"):\n",
        "    feature_importance = pd.Series(final_model.feature_importances_, index=X_train.columns)\n",
        "    feature_importance.nlargest(10).plot(kind='barh')\n",
        "    plt.title(\"Top 10 Important Features\")\n",
        "    plt.show()\n"
      ]
    },
    {
      "cell_type": "markdown",
      "metadata": {},
      "source": [
        "#Interpretarea rezultatelor   \n",
        "\n",
        "### **1. Performanța modelelor bazată pe metrice**  \n",
        "Tabelul afișează performanțele modelelor utilizând patru metrici principale:  \n",
        "- **MAE (Mean Absolute Error)** – media absolută a erorilor  \n",
        "- **MSE (Mean Squared Error)** – media pătratelor erorilor  \n",
        "- **RMSE (Root Mean Squared Error)** – rădăcina mediei pătratelor erorilor  \n",
        "- **R² Score** – coeficientul de determinare, măsoară cât de bine modelul explică variația datelor  \n",
        "\n",
        "### **2. Interpretare individuală a modelelor**  \n",
        "\n",
        "- **SGDRegressor**  \n",
        "  - RMSE = 0.9527  \n",
        "  - Performanță bună, comparabilă cu Ridge și Linear Regression  \n",
        "  - Avantaj: optimizare bazată pe gradient descent, potrivit pentru seturi mari  \n",
        "\n",
        "- **Linear Regression**  \n",
        "  - RMSE = 0.9547  \n",
        "  - Performanță aproape identică cu SGDRegressor  \n",
        "  - Benchmark simplu pentru alte modele  \n",
        "\n",
        "- **Decision Tree Regression**  \n",
        "  - RMSE = 1.3345  \n",
        "  - Cel mai slab model (cea mai mare eroare)  \n",
        "  - Probabil suferă de **overfitting**, captând zgomotul din date  \n",
        "\n",
        "- **Random Forest Regression**  \n",
        "  - RMSE = 0.9983  \n",
        "  - Semnificativ mai bun decât Decision Tree, dar nu cel mai performant  \n",
        "  - Agregarea arborilor ajută la reducerea overfitting-ului  \n",
        "\n",
        "- **Ridge Regression**  \n",
        "  - RMSE = 0.9547  \n",
        "  - Aproape identic cu Linear Regression și SGDRegressor  \n",
        "  - Regularizarea ajută la evitarea supraînvățării  \n",
        "\n",
        "- **Lasso Regression**  \n",
        "  - RMSE = 1.0053  \n",
        "  - Performanță ușor mai slabă decât Ridge și Linear Regression  \n",
        "  - Poate fi afectat de eliminarea unor trăsături importante  \n",
        "\n",
        "### **3. Compararea vizuală a RMSE între modele**  \n",
        "Graficul evidențiază RMSE-ul fiecărui model:  \n",
        "- **Decision Tree are cea mai mare eroare (cel mai slab model)**  \n",
        "- **SGDRegressor, Ridge și Linear Regression sunt cele mai bune modele**  \n",
        "- **Random Forest este o alternativă bună, dar nu depășește regresiile liniare**  \n",
        "\n",
        "### **4. Concluzii **  \n",
        "- **SGDRegressor este cea mai bună alegere**, deoarece are RMSE scăzut și se bazează pe gradient descent, ceea ce respectă cerințele.  \n",
        "- **Decision Tree trebuie ajustat prin tuning de hiperparametri**, deoarece are cea mai slabă performanță.  \n",
        "- **Random Forest poate fi optimizat pentru o mai bună performanță** (deja este îmbunătățit față de Decision Tree).  \n",
        "- **Lasso Regression nu este foarte util aici**, pentru că nu aduce o îmbunătățire clară față de Ridge.  \n"
      ]
    },
    {
      "cell_type": "markdown",
      "metadata": {},
      "source": [
        "# Justificare alegere model"
      ]
    },
    {
      "cell_type": "markdown",
      "metadata": {},
      "source": [
        "1. **SGDRegressor** (Stochastic Gradient Descent Regression)\n",
        "   - Avantaje: Scalabil pentru seturi mari de date, funcționează bine cu date sparse.\n",
        "   - Dezavantaje: Sensibil la date normalizate, necesită reglarea ratei de învățare.\n",
        "   - Potrivit deoarece folosim gradient descent pentru optimizare, fiind mai eficient pe seturi mari.\n",
        "\n",
        "2. **Linear Regression**\n",
        "   - Avantaje: Model simplu, interpretabil, rapid de antrenat.\n",
        "   - Dezavantaje: Nu captează relații neliniare.\n",
        "   - Utilizat pentru comparație, oferind un benchmark de bază.\n",
        "\n",
        "3. **Decision Tree Regression**\n",
        "   - Avantaje: Captează relații neliniare, ușor de interpretat.\n",
        "   - Dezavantaje: Supraspecializare dacă nu este reglat corespunzător.\n",
        "   - Util deoarece poate identifica interacțiuni complexe între variabile.\n",
        "\n",
        "4. **Random Forest Regression** (Opțional)\n",
        "   - Avantaje: Reduce overfitting, robust la zgomot.\n",
        "   - Dezavantaje: Consumă mai multe resurse computaționale.\n",
        "   - Bun pentru a verifica îmbunătățirea față de un singur arbore de decizie.\n",
        "\n",
        "5. **Ridge Regression** (Opțional)\n",
        "   - Avantaje: Reduce colinearitatea între variabile, previne overfitting-ul.\n",
        "   - Dezavantaje: Mai puțin interpretabil decât regresia liniară simplă.\n",
        "   - Util deoarece aplică regularizare pentru a îmbunătăți generalizarea.\n",
        "\n",
        "6. **Lasso Regression** (Opțional)\n",
        "   - Avantaje: Selectează automat caracteristicile importante, reduce coeficienții inutili la zero.\n",
        "   - Dezavantaje: Poate elimina variabile importante.\n",
        "   - Util pentru reducerea dimensiunii setului de date prin selecția automată a trăsăturilor.\n"
      ]
    }
  ],
  "metadata": {
    "colab": {
      "provenance": [],
      "toc_visible": true
    },
    "kernelspec": {
      "display_name": "Python 3",
      "name": "python3"
    },
    "language_info": {
      "codemirror_mode": {
        "name": "ipython",
        "version": 3
      },
      "file_extension": ".py",
      "mimetype": "text/x-python",
      "name": "python",
      "nbconvert_exporter": "python",
      "pygments_lexer": "ipython3",
      "version": "3.13.0"
    }
  },
  "nbformat": 4,
  "nbformat_minor": 0
}
