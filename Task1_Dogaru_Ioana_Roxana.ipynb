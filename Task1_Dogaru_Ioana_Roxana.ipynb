{
 "cells": [
  {
   "cell_type": "markdown",
   "metadata": {},
   "source": [
    "**Final Project Task 1 -Census Data Preprocess**"
   ]
  },
  {
   "cell_type": "markdown",
   "metadata": {},
   "source": [
    "Requirements\n",
    "\n",
    "Encode data\n",
    "\n",
    "Handle missing values if any\n",
    "\n",
    "Correct errors, inconsistencies, remove duplicates if any\n",
    "\n",
    "Outlier detection and treatment if any\n",
    "\n",
    "Normalization / Standardization if necesarry\n",
    "\n",
    "Feature engineering\n",
    "\n",
    "Train test split, save it.\n",
    "Others?\n",
    "\n",
    "Deliverable:\n",
    "\n",
    "Notebook code with no errors.\n",
    "Preprocessed data as csv."
   ]
  },
  {
   "cell_type": "code",
   "execution_count": 31,
   "metadata": {},
   "outputs": [],
   "source": [
    "#Importing libraries\n",
    "import pandas as pd\n",
    "import numpy as np\n",
    "from sklearn.model_selection import train_test_split\n",
    "from sklearn.preprocessing import StandardScaler, OneHotEncoder, LabelEncoder\n",
    "from sklearn.compose import ColumnTransformer\n",
    "from sklearn.pipeline import Pipeline"
   ]
  },
  {
   "cell_type": "code",
   "execution_count": 32,
   "metadata": {},
   "outputs": [
    {
     "data": {
      "text/html": [
       "<div>\n",
       "<style scoped>\n",
       "    .dataframe tbody tr th:only-of-type {\n",
       "        vertical-align: middle;\n",
       "    }\n",
       "\n",
       "    .dataframe tbody tr th {\n",
       "        vertical-align: top;\n",
       "    }\n",
       "\n",
       "    .dataframe thead th {\n",
       "        text-align: right;\n",
       "    }\n",
       "</style>\n",
       "<table border=\"1\" class=\"dataframe\">\n",
       "  <thead>\n",
       "    <tr style=\"text-align: right;\">\n",
       "      <th></th>\n",
       "      <th>age</th>\n",
       "      <th>workclass</th>\n",
       "      <th>fnlwgt</th>\n",
       "      <th>education</th>\n",
       "      <th>education-num</th>\n",
       "      <th>marital-status</th>\n",
       "      <th>occupation</th>\n",
       "      <th>relationship</th>\n",
       "      <th>race</th>\n",
       "      <th>sex</th>\n",
       "      <th>capital-gain</th>\n",
       "      <th>capital-loss</th>\n",
       "      <th>hours-per-week</th>\n",
       "      <th>native-country</th>\n",
       "      <th>income</th>\n",
       "    </tr>\n",
       "  </thead>\n",
       "  <tbody>\n",
       "    <tr>\n",
       "      <th>0</th>\n",
       "      <td>39</td>\n",
       "      <td>State-gov</td>\n",
       "      <td>77516</td>\n",
       "      <td>Bachelors</td>\n",
       "      <td>13</td>\n",
       "      <td>Never-married</td>\n",
       "      <td>Adm-clerical</td>\n",
       "      <td>Not-in-family</td>\n",
       "      <td>White</td>\n",
       "      <td>Male</td>\n",
       "      <td>2174</td>\n",
       "      <td>0</td>\n",
       "      <td>40</td>\n",
       "      <td>United-States</td>\n",
       "      <td>&lt;=50K</td>\n",
       "    </tr>\n",
       "    <tr>\n",
       "      <th>1</th>\n",
       "      <td>50</td>\n",
       "      <td>Self-emp-not-inc</td>\n",
       "      <td>83311</td>\n",
       "      <td>Bachelors</td>\n",
       "      <td>13</td>\n",
       "      <td>Married-civ-spouse</td>\n",
       "      <td>Exec-managerial</td>\n",
       "      <td>Husband</td>\n",
       "      <td>White</td>\n",
       "      <td>Male</td>\n",
       "      <td>0</td>\n",
       "      <td>0</td>\n",
       "      <td>13</td>\n",
       "      <td>United-States</td>\n",
       "      <td>&lt;=50K</td>\n",
       "    </tr>\n",
       "    <tr>\n",
       "      <th>2</th>\n",
       "      <td>38</td>\n",
       "      <td>Private</td>\n",
       "      <td>215646</td>\n",
       "      <td>HS-grad</td>\n",
       "      <td>9</td>\n",
       "      <td>Divorced</td>\n",
       "      <td>Handlers-cleaners</td>\n",
       "      <td>Not-in-family</td>\n",
       "      <td>White</td>\n",
       "      <td>Male</td>\n",
       "      <td>0</td>\n",
       "      <td>0</td>\n",
       "      <td>40</td>\n",
       "      <td>United-States</td>\n",
       "      <td>&lt;=50K</td>\n",
       "    </tr>\n",
       "    <tr>\n",
       "      <th>3</th>\n",
       "      <td>53</td>\n",
       "      <td>Private</td>\n",
       "      <td>234721</td>\n",
       "      <td>11th</td>\n",
       "      <td>7</td>\n",
       "      <td>Married-civ-spouse</td>\n",
       "      <td>Handlers-cleaners</td>\n",
       "      <td>Husband</td>\n",
       "      <td>Black</td>\n",
       "      <td>Male</td>\n",
       "      <td>0</td>\n",
       "      <td>0</td>\n",
       "      <td>40</td>\n",
       "      <td>United-States</td>\n",
       "      <td>&lt;=50K</td>\n",
       "    </tr>\n",
       "    <tr>\n",
       "      <th>4</th>\n",
       "      <td>28</td>\n",
       "      <td>Private</td>\n",
       "      <td>338409</td>\n",
       "      <td>Bachelors</td>\n",
       "      <td>13</td>\n",
       "      <td>Married-civ-spouse</td>\n",
       "      <td>Prof-specialty</td>\n",
       "      <td>Wife</td>\n",
       "      <td>Black</td>\n",
       "      <td>Female</td>\n",
       "      <td>0</td>\n",
       "      <td>0</td>\n",
       "      <td>40</td>\n",
       "      <td>Cuba</td>\n",
       "      <td>&lt;=50K</td>\n",
       "    </tr>\n",
       "  </tbody>\n",
       "</table>\n",
       "</div>"
      ],
      "text/plain": [
       "   age         workclass  fnlwgt  education  education-num  \\\n",
       "0   39         State-gov   77516  Bachelors             13   \n",
       "1   50  Self-emp-not-inc   83311  Bachelors             13   \n",
       "2   38           Private  215646    HS-grad              9   \n",
       "3   53           Private  234721       11th              7   \n",
       "4   28           Private  338409  Bachelors             13   \n",
       "\n",
       "       marital-status         occupation   relationship   race     sex  \\\n",
       "0       Never-married       Adm-clerical  Not-in-family  White    Male   \n",
       "1  Married-civ-spouse    Exec-managerial        Husband  White    Male   \n",
       "2            Divorced  Handlers-cleaners  Not-in-family  White    Male   \n",
       "3  Married-civ-spouse  Handlers-cleaners        Husband  Black    Male   \n",
       "4  Married-civ-spouse     Prof-specialty           Wife  Black  Female   \n",
       "\n",
       "   capital-gain  capital-loss  hours-per-week native-country income  \n",
       "0          2174             0              40  United-States  <=50K  \n",
       "1             0             0              13  United-States  <=50K  \n",
       "2             0             0              40  United-States  <=50K  \n",
       "3             0             0              40  United-States  <=50K  \n",
       "4             0             0              40           Cuba  <=50K  "
      ]
     },
     "execution_count": 32,
     "metadata": {},
     "output_type": "execute_result"
    }
   ],
   "source": [
    "#Data load\n",
    "data_url = \"https://archive.ics.uci.edu/ml/machine-learning-databases/adult/adult.data\"\n",
    "columns = [\n",
    "    \"age\", \"workclass\", \"fnlwgt\", \"education\", \"education-num\", \"marital-status\",\n",
    "    \"occupation\", \"relationship\", \"race\", \"sex\", \"capital-gain\", \"capital-loss\",\n",
    "    \"hours-per-week\", \"native-country\", \"income\"\n",
    "]\n",
    "\n",
    "data = pd.read_csv(data_url, header=None, names=columns, na_values=\"?\", skipinitialspace=True)\n",
    "data.head()"
   ]
  },
  {
   "cell_type": "code",
   "execution_count": 33,
   "metadata": {},
   "outputs": [],
   "source": [
    "#Columns managing\n",
    "numerical_columns = [\"age\", \"fnlwgt\", \"education-num\", \"capital-gain\", \"capital-loss\", \"hours-per-week\"]\n",
    "categorical_columns = [\n",
    "    \"workclass\", \"education\", \"marital-status\", \"occupation\",\n",
    "    \"relationship\", \"race\", \"sex\", \"native-country\", \"income\"\n",
    "]\n",
    "\n",
    "# Replace missing values with median/mode\n",
    "for col in numerical_columns:\n",
    "    data[col] = data[col].fillna(data[col].median())\n",
    "\n",
    "for col in categorical_columns:\n",
    "    data[col] = data[col].fillna(data[col].mode()[0])"
   ]
  },
  {
   "cell_type": "code",
   "execution_count": 34,
   "metadata": {},
   "outputs": [],
   "source": [
    "#Remove duplicates\n",
    "data = data.drop_duplicates()"
   ]
  },
  {
   "cell_type": "code",
   "execution_count": 35,
   "metadata": {},
   "outputs": [
    {
     "name": "stdout",
     "output_type": "stream",
     "text": [
      "   age         workclass  fnlwgt  education  education-num  \\\n",
      "0   39         State-gov   77516  Bachelors             13   \n",
      "1   50  Self-emp-not-inc   83311  Bachelors             13   \n",
      "2   38           Private  215646    HS-grad              9   \n",
      "3   53           Private  234721       11th              7   \n",
      "4   28           Private  338409  Bachelors             13   \n",
      "\n",
      "       marital-status         occupation   relationship   race     sex  \\\n",
      "0       Never-married       Adm-clerical  Not-in-family  White    Male   \n",
      "1  Married-civ-spouse    Exec-managerial        Husband  White    Male   \n",
      "2            Divorced  Handlers-cleaners  Not-in-family  White    Male   \n",
      "3  Married-civ-spouse  Handlers-cleaners        Husband  Black    Male   \n",
      "4  Married-civ-spouse     Prof-specialty           Wife  Black  Female   \n",
      "\n",
      "   capital-gain  capital-loss  hours-per-week native-country income  \n",
      "0          2174             0              40  United-States  <=50K  \n",
      "1             0             0              13  United-States  <=50K  \n",
      "2             0             0              40  United-States  <=50K  \n",
      "3             0             0              40  United-States  <=50K  \n",
      "4             0             0              40           Cuba  <=50K  \n"
     ]
    }
   ],
   "source": [
    "print(data.head())"
   ]
  },
  {
   "cell_type": "code",
   "execution_count": 36,
   "metadata": {},
   "outputs": [],
   "source": [
    "#Outlier treatment\n",
    "Q1 = data[numerical_columns].quantile(0.25)\n",
    "Q3 = data[numerical_columns].quantile(0.75)\n",
    "IQR = Q3 - Q1\n",
    "\n",
    "lower_bound = Q1 - 1.5 * IQR\n",
    "upper_bound = Q3 + 1.5 * IQR\n",
    "\n",
    "data[numerical_columns] = data[numerical_columns].clip(lower_bound, upper_bound, axis=1)"
   ]
  },
  {
   "cell_type": "code",
   "execution_count": 37,
   "metadata": {},
   "outputs": [],
   "source": [
    "#Encode target variable\n",
    "target_column = \"income\"\n",
    "label_encoder = LabelEncoder()\n",
    "data[target_column] = label_encoder.fit_transform(data[target_column])"
   ]
  },
  {
   "cell_type": "code",
   "execution_count": 38,
   "metadata": {},
   "outputs": [],
   "source": [
    "#Scaling and encoding\n",
    "preprocessor = ColumnTransformer(\n",
    "    transformers=[\n",
    "        (\"num\", StandardScaler(), numerical_columns),\n",
    "        (\"cat\", OneHotEncoder(handle_unknown=\"ignore\"), categorical_columns[:-1])  \n",
    "    ]\n",
    ")\n",
    "# Exclude 'income'"
   ]
  },
  {
   "cell_type": "code",
   "execution_count": 39,
   "metadata": {},
   "outputs": [],
   "source": [
    "#Feature Engineering\n",
    "features = data.drop(target_column, axis=1)  #predictori, aici avem toate coloanele\n",
    "target = data[target_column] # ceea ce se vrea a fi prezis\n",
    "features_transformed = preprocessor.fit_transform(features) #aplicarea transformarilor"
   ]
  },
  {
   "cell_type": "code",
   "execution_count": 40,
   "metadata": {},
   "outputs": [],
   "source": [
    "# Convert to DataFrame\n",
    "feature_names = (\n",
    "    numerical_columns + list(preprocessor.named_transformers_[\"cat\"].get_feature_names_out(categorical_columns[:-1]))\n",
    ")\n",
    "features_transformed_df = pd.DataFrame(features_transformed.toarray(), columns=feature_names)  "
   ]
  },
  {
   "cell_type": "code",
   "execution_count": 41,
   "metadata": {},
   "outputs": [],
   "source": [
    "#Train test\n",
    "X_train, X_test, y_train, y_test = train_test_split(\n",
    "    features_transformed_df, target, test_size=0.2, random_state=42\n",
    ")"
   ]
  },
  {
   "cell_type": "code",
   "execution_count": 42,
   "metadata": {},
   "outputs": [],
   "source": [
    "#Save data to csv\n",
    "data.to_csv(\"processed_census_data.csv\", index=False)"
   ]
  },
  {
   "cell_type": "code",
   "execution_count": 43,
   "metadata": {},
   "outputs": [
    {
     "name": "stdout",
     "output_type": "stream",
     "text": [
      "Before Preprocessing:\n",
      "                 age         fnlwgt  education-num  capital-gain  capital-loss  \\\n",
      "count  32537.000000   32537.000000   32537.000000       32537.0       32537.0   \n",
      "mean      38.559855  186824.961736      10.125165           0.0           0.0   \n",
      "std       13.554847   95118.115529       2.459436           0.0           0.0   \n",
      "min       17.000000   12285.000000       4.500000           0.0           0.0   \n",
      "25%       28.000000  117827.000000       9.000000           0.0           0.0   \n",
      "50%       37.000000  178356.000000      10.000000           0.0           0.0   \n",
      "75%       48.000000  236993.000000      12.000000           0.0           0.0   \n",
      "max       78.000000  415742.000000      16.000000           0.0           0.0   \n",
      "\n",
      "       hours-per-week  \n",
      "count    32537.000000  \n",
      "mean        41.203246  \n",
      "std          6.187352  \n",
      "min         32.500000  \n",
      "25%         40.000000  \n",
      "50%         40.000000  \n",
      "75%         45.000000  \n",
      "max         52.500000  \n"
     ]
    }
   ],
   "source": [
    "print(\"Before Preprocessing:\\n\", data[numerical_columns].describe())"
   ]
  },
  {
   "cell_type": "code",
   "execution_count": 44,
   "metadata": {},
   "outputs": [
    {
     "name": "stdout",
     "output_type": "stream",
     "text": [
      "After Preprocessing:\n",
      "                 age        fnlwgt  education-num  capital-gain  capital-loss  \\\n",
      "count  3.253700e+04  3.253700e+04   3.253700e+04       32537.0       32537.0   \n",
      "mean   1.489351e-16  5.568688e-18   3.173060e-16           0.0           0.0   \n",
      "std    1.000015e+00  1.000015e+00   1.000015e+00           0.0           0.0   \n",
      "min   -1.590589e+00 -1.835009e+00  -2.287212e+00           0.0           0.0   \n",
      "25%   -7.790584e-01 -7.254036e-01  -4.574962e-01           0.0           0.0   \n",
      "50%   -1.150790e-01 -8.903763e-02  -5.089262e-02           0.0           0.0   \n",
      "75%    6.964512e-01  5.274370e-01   7.623146e-01           0.0           0.0   \n",
      "max    2.909716e+00  2.406698e+00   2.388729e+00           0.0           0.0   \n",
      "\n",
      "       hours-per-week  workclass_Federal-gov  workclass_Local-gov  \\\n",
      "count    3.253700e+04           32537.000000         32537.000000   \n",
      "mean    -2.292989e-16               0.029505             0.064327   \n",
      "std      1.000015e+00               0.169219             0.245338   \n",
      "min     -1.406640e+00               0.000000             0.000000   \n",
      "25%     -1.944716e-01               0.000000             0.000000   \n",
      "50%     -1.944716e-01               0.000000             0.000000   \n",
      "75%      6.136409e-01               0.000000             0.000000   \n",
      "max      1.825810e+00               1.000000             1.000000   \n",
      "\n",
      "       workclass_Never-worked  workclass_Private  ...  \\\n",
      "count            32537.000000       32537.000000  ...   \n",
      "mean                 0.000215           0.753266  ...   \n",
      "std                  0.014666           0.431117  ...   \n",
      "min                  0.000000           0.000000  ...   \n",
      "25%                  0.000000           1.000000  ...   \n",
      "50%                  0.000000           1.000000  ...   \n",
      "75%                  0.000000           1.000000  ...   \n",
      "max                  1.000000           1.000000  ...   \n",
      "\n",
      "       native-country_Portugal  native-country_Puerto-Rico  \\\n",
      "count             32537.000000                32537.000000   \n",
      "mean                  0.001137                    0.003504   \n",
      "std                   0.033703                    0.059089   \n",
      "min                   0.000000                    0.000000   \n",
      "25%                   0.000000                    0.000000   \n",
      "50%                   0.000000                    0.000000   \n",
      "75%                   0.000000                    0.000000   \n",
      "max                   1.000000                    1.000000   \n",
      "\n",
      "       native-country_Scotland  native-country_South  native-country_Taiwan  \\\n",
      "count             32537.000000          32537.000000           32537.000000   \n",
      "mean                  0.000369              0.002459               0.001567   \n",
      "std                   0.019201              0.049525               0.039561   \n",
      "min                   0.000000              0.000000               0.000000   \n",
      "25%                   0.000000              0.000000               0.000000   \n",
      "50%                   0.000000              0.000000               0.000000   \n",
      "75%                   0.000000              0.000000               0.000000   \n",
      "max                   1.000000              1.000000               1.000000   \n",
      "\n",
      "       native-country_Thailand  native-country_Trinadad&Tobago  \\\n",
      "count             32537.000000                    32537.000000   \n",
      "mean                  0.000553                        0.000584   \n",
      "std                   0.023514                        0.024158   \n",
      "min                   0.000000                        0.000000   \n",
      "25%                   0.000000                        0.000000   \n",
      "50%                   0.000000                        0.000000   \n",
      "75%                   0.000000                        0.000000   \n",
      "max                   1.000000                        1.000000   \n",
      "\n",
      "       native-country_United-States  native-country_Vietnam  \\\n",
      "count                  32537.000000            32537.000000   \n",
      "mean                       0.913883                0.002059   \n",
      "std                        0.280542                0.045332   \n",
      "min                        0.000000                0.000000   \n",
      "25%                        1.000000                0.000000   \n",
      "50%                        1.000000                0.000000   \n",
      "75%                        1.000000                0.000000   \n",
      "max                        1.000000                1.000000   \n",
      "\n",
      "       native-country_Yugoslavia  \n",
      "count               32537.000000  \n",
      "mean                    0.000492  \n",
      "std                     0.022170  \n",
      "min                     0.000000  \n",
      "25%                     0.000000  \n",
      "50%                     0.000000  \n",
      "75%                     0.000000  \n",
      "max                     1.000000  \n",
      "\n",
      "[8 rows x 105 columns]\n"
     ]
    }
   ],
   "source": [
    "print(\"After Preprocessing:\\n\", features_transformed_df.describe())"
   ]
  },
  {
   "cell_type": "code",
   "execution_count": 45,
   "metadata": {},
   "outputs": [
    {
     "name": "stdout",
     "output_type": "stream",
     "text": [
      "Data preprocessing complete. Processed data saved to 'processed_census_data.csv'.\n"
     ]
    }
   ],
   "source": [
    "print(\"Data preprocessing complete. Processed data saved to 'processed_census_data.csv'.\")\n"
   ]
  }
 ],
 "metadata": {
  "kernelspec": {
   "display_name": "ml_env",
   "language": "python",
   "name": "python3"
  },
  "language_info": {
   "codemirror_mode": {
    "name": "ipython",
    "version": 3
   },
   "file_extension": ".py",
   "mimetype": "text/x-python",
   "name": "python",
   "nbconvert_exporter": "python",
   "pygments_lexer": "ipython3",
   "version": "3.13.1"
  }
 },
 "nbformat": 4,
 "nbformat_minor": 2
}
