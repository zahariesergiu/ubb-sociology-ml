{
  "cells": [
    {
      "cell_type": "markdown",
      "metadata": {
        "id": "giyHB5-ZfgDY"
      },
      "source": [
        "### Palmer Archipelago (Antarctica) penguin dataset"
      ]
    },
    {
      "cell_type": "markdown",
      "metadata": {
        "id": "kaPEosl1gMG7"
      },
      "source": [
        "In this notebook, we make a quick presentation of the Palmer penguins dataset dataset. We can use this dataset for both classification and regression problems by selecting a subset of the features to make our explanations intuitive."
      ]
    },
    {
      "cell_type": "code",
      "execution_count": 7,
      "metadata": {
        "colab": {
          "base_uri": "https://localhost:8080/"
        },
        "id": "wG2JlyQ4gx4Y",
        "outputId": "a5c93370-7626-4b61-8025-94bac0dea78f"
      },
      "outputs": [
        {
          "ename": "ModuleNotFoundError",
          "evalue": "No module named 'google'",
          "output_type": "error",
          "traceback": [
            "\u001b[1;31m---------------------------------------------------------------------------\u001b[0m",
            "\u001b[1;31mModuleNotFoundError\u001b[0m                       Traceback (most recent call last)",
            "Cell \u001b[1;32mIn[7], line 1\u001b[0m\n\u001b[1;32m----> 1\u001b[0m \u001b[38;5;28;01mfrom\u001b[39;00m \u001b[38;5;21;01mgoogle\u001b[39;00m\u001b[38;5;21;01m.\u001b[39;00m\u001b[38;5;21;01mcolab\u001b[39;00m \u001b[38;5;28;01mimport\u001b[39;00m drive\n\u001b[0;32m      2\u001b[0m drive\u001b[38;5;241m.\u001b[39mmount(\u001b[38;5;124m'\u001b[39m\u001b[38;5;124m/content/gdrive\u001b[39m\u001b[38;5;124m'\u001b[39m)\n",
            "\u001b[1;31mModuleNotFoundError\u001b[0m: No module named 'google'"
          ]
        }
      ],
      "source": [
        "from google.colab import drive\n",
        "drive.mount('/content/gdrive')"
      ]
    },
    {
      "cell_type": "code",
      "execution_count": 9,
      "metadata": {
        "id": "E7tI0iMmeIXW"
      },
      "outputs": [
        {
          "ename": "SyntaxError",
          "evalue": "(unicode error) 'unicodeescape' codec can't decode bytes in position 2-3: truncated \\UXXXXXXXX escape (1399810370.py, line 3)",
          "output_type": "error",
          "traceback": [
            "\u001b[1;36m  Cell \u001b[1;32mIn[9], line 3\u001b[1;36m\u001b[0m\n\u001b[1;33m    penguins = pd.read_csv(\"C:\\Users\\Andreea\\Desktop\\Python curs 1\")\u001b[0m\n\u001b[1;37m                           ^\u001b[0m\n\u001b[1;31mSyntaxError\u001b[0m\u001b[1;31m:\u001b[0m (unicode error) 'unicodeescape' codec can't decode bytes in position 2-3: truncated \\UXXXXXXXX escape\n"
          ]
        }
      ],
      "source": [
        "import pandas as pd\n",
        "\n",
        "penguins = pd.read_csv(\"C:\\Users\\Andreea\\Desktop\\Python curs 1\")"
      ]
    },
    {
      "cell_type": "code",
      "execution_count": 10,
      "metadata": {},
      "outputs": [],
      "source": [
        "penguins = pd.read_csv(r\"C:\\Users\\Andreea\\Desktop\\Python curs 1\\penguins_size.csv\")\n"
      ]
    },
    {
      "cell_type": "code",
      "execution_count": 11,
      "metadata": {
        "id": "bh_EmtV1lvft"
      },
      "outputs": [
        {
          "name": "stdout",
          "output_type": "stream",
          "text": [
            "<class 'pandas.core.frame.DataFrame'>\n",
            "RangeIndex: 344 entries, 0 to 343\n",
            "Data columns (total 7 columns):\n",
            " #   Column             Non-Null Count  Dtype  \n",
            "---  ------             --------------  -----  \n",
            " 0   species            344 non-null    object \n",
            " 1   island             344 non-null    object \n",
            " 2   culmen_length_mm   342 non-null    float64\n",
            " 3   culmen_depth_mm    342 non-null    float64\n",
            " 4   flipper_length_mm  342 non-null    float64\n",
            " 5   body_mass_g        342 non-null    float64\n",
            " 6   sex                334 non-null    object \n",
            "dtypes: float64(4), object(3)\n",
            "memory usage: 18.9+ KB\n"
          ]
        }
      ],
      "source": [
        "penguins.info()"
      ]
    },
    {
      "cell_type": "markdown",
      "metadata": {
        "id": "_zz6WewVlxl-"
      },
      "source": [
        "The dataset consists of 7 columns.\n",
        "\n",
        "* **species**: penguin species (Chinstrap, Adélie, or Gentoo)\n",
        "* **island**: island name (Dream, Torgersen, or Biscoe) in the Palmer Archipelago (Antarctica)   \n",
        "* **culmen_length_mm**: culmen length (mm)  \n",
        "* **culmen_depth_mm**: culmen depth (mm)  \n",
        "* **flipper_length_mm**: flipper length (mm)  \n",
        "* **body_mass_g**: body mass (g)  \n",
        "* **sex**: penguin sex  \n",
        "\n",
        "What are culmen length & depth?  \n",
        "The culmen is \"the upper ridge of a bird's beak\"  \n",
        "\n",
        "\n",
        "\n",
        "What are flippers?\n",
        "Penguins wings are called flippers. They are flat, thin, and broad with a long, tapered shape and a blunt, rounded tip."
      ]
    },
    {
      "cell_type": "markdown",
      "metadata": {
        "id": "YvvdXnmqmR0g"
      },
      "source": [
        "## Understanding the data"
      ]
    },
    {
      "cell_type": "code",
      "execution_count": 12,
      "metadata": {
        "id": "UoRv5LiomS8D"
      },
      "outputs": [
        {
          "data": {
            "text/plain": [
              "(344, 7)"
            ]
          },
          "execution_count": 12,
          "metadata": {},
          "output_type": "execute_result"
        }
      ],
      "source": [
        "penguins.shape"
      ]
    },
    {
      "cell_type": "markdown",
      "metadata": {
        "id": "xzb4wX3smv5w"
      },
      "source": [
        "#### Missing values"
      ]
    },
    {
      "cell_type": "code",
      "execution_count": 13,
      "metadata": {
        "id": "rzx7_nv_nM54"
      },
      "outputs": [],
      "source": [
        "missing_values = penguins.isnull().sum()"
      ]
    },
    {
      "cell_type": "code",
      "execution_count": 14,
      "metadata": {
        "id": "Mws-BXXvnO5C"
      },
      "outputs": [
        {
          "data": {
            "text/plain": [
              "species               0\n",
              "island                0\n",
              "culmen_length_mm      2\n",
              "culmen_depth_mm       2\n",
              "flipper_length_mm     2\n",
              "body_mass_g           2\n",
              "sex                  10\n",
              "dtype: int64"
            ]
          },
          "execution_count": 14,
          "metadata": {},
          "output_type": "execute_result"
        }
      ],
      "source": [
        "missing_values"
      ]
    },
    {
      "cell_type": "code",
      "execution_count": 16,
      "metadata": {},
      "outputs": [
        {
          "name": "stdout",
          "output_type": "stream",
          "text": [
            "Collecting scikit-learn\n",
            "  Downloading scikit_learn-1.6.1-cp313-cp313-win_amd64.whl.metadata (15 kB)\n",
            "Requirement already satisfied: numpy>=1.19.5 in c:\\users\\andreea\\appdata\\local\\programs\\python\\python313\\lib\\site-packages (from scikit-learn) (2.1.3)\n",
            "Collecting scipy>=1.6.0 (from scikit-learn)\n",
            "  Downloading scipy-1.15.1-cp313-cp313-win_amd64.whl.metadata (60 kB)\n",
            "Collecting joblib>=1.2.0 (from scikit-learn)\n",
            "  Using cached joblib-1.4.2-py3-none-any.whl.metadata (5.4 kB)\n",
            "Collecting threadpoolctl>=3.1.0 (from scikit-learn)\n",
            "  Using cached threadpoolctl-3.5.0-py3-none-any.whl.metadata (13 kB)\n",
            "Downloading scikit_learn-1.6.1-cp313-cp313-win_amd64.whl (11.1 MB)\n",
            "   ---------------------------------------- 0.0/11.1 MB ? eta -:--:--\n",
            "   ------ --------------------------------- 1.8/11.1 MB 10.5 MB/s eta 0:00:01\n",
            "   ------------ --------------------------- 3.4/11.1 MB 8.7 MB/s eta 0:00:01\n",
            "   ----------------- ---------------------- 5.0/11.1 MB 8.4 MB/s eta 0:00:01\n",
            "   ----------------------- ---------------- 6.6/11.1 MB 7.9 MB/s eta 0:00:01\n",
            "   --------------------------- ------------ 7.6/11.1 MB 7.7 MB/s eta 0:00:01\n",
            "   -------------------------------- ------- 8.9/11.1 MB 7.1 MB/s eta 0:00:01\n",
            "   ----------------------------------- ---- 10.0/11.1 MB 6.9 MB/s eta 0:00:01\n",
            "   -------------------------------------- - 10.7/11.1 MB 6.8 MB/s eta 0:00:01\n",
            "   ---------------------------------------- 11.1/11.1 MB 6.3 MB/s eta 0:00:00\n",
            "Using cached joblib-1.4.2-py3-none-any.whl (301 kB)\n",
            "Downloading scipy-1.15.1-cp313-cp313-win_amd64.whl (43.6 MB)\n",
            "   ---------------------------------------- 0.0/43.6 MB ? eta -:--:--\n",
            "    --------------------------------------- 0.8/43.6 MB 4.4 MB/s eta 0:00:10\n",
            "   - -------------------------------------- 1.8/43.6 MB 4.6 MB/s eta 0:00:10\n",
            "   -- ------------------------------------- 2.4/43.6 MB 3.9 MB/s eta 0:00:11\n",
            "   -- ------------------------------------- 3.1/43.6 MB 3.8 MB/s eta 0:00:11\n",
            "   --- ------------------------------------ 3.7/43.6 MB 3.6 MB/s eta 0:00:11\n",
            "   ---- ----------------------------------- 4.5/43.6 MB 3.5 MB/s eta 0:00:12\n",
            "   ---- ----------------------------------- 5.0/43.6 MB 3.4 MB/s eta 0:00:12\n",
            "   ----- ---------------------------------- 5.8/43.6 MB 3.3 MB/s eta 0:00:12\n",
            "   ----- ---------------------------------- 6.3/43.6 MB 3.2 MB/s eta 0:00:12\n",
            "   ------ --------------------------------- 6.8/43.6 MB 3.2 MB/s eta 0:00:12\n",
            "   ------ --------------------------------- 7.3/43.6 MB 3.2 MB/s eta 0:00:12\n",
            "   ------- -------------------------------- 8.1/43.6 MB 3.1 MB/s eta 0:00:12\n",
            "   ------- -------------------------------- 8.7/43.6 MB 3.2 MB/s eta 0:00:12\n",
            "   -------- ------------------------------- 9.4/43.6 MB 3.1 MB/s eta 0:00:11\n",
            "   --------- ------------------------------ 10.0/43.6 MB 3.1 MB/s eta 0:00:11\n",
            "   --------- ------------------------------ 10.5/43.6 MB 3.1 MB/s eta 0:00:11\n",
            "   ---------- ----------------------------- 11.0/43.6 MB 3.1 MB/s eta 0:00:11\n",
            "   ---------- ----------------------------- 11.5/43.6 MB 3.0 MB/s eta 0:00:11\n",
            "   ----------- ---------------------------- 12.1/43.6 MB 3.0 MB/s eta 0:00:11\n",
            "   ----------- ---------------------------- 12.6/43.6 MB 3.0 MB/s eta 0:00:11\n",
            "   ------------ --------------------------- 13.1/43.6 MB 3.0 MB/s eta 0:00:11\n",
            "   ------------ --------------------------- 13.6/43.6 MB 2.9 MB/s eta 0:00:11\n",
            "   ------------ --------------------------- 14.2/43.6 MB 2.9 MB/s eta 0:00:11\n",
            "   ------------- -------------------------- 14.7/43.6 MB 2.9 MB/s eta 0:00:10\n",
            "   -------------- ------------------------- 15.5/43.6 MB 2.9 MB/s eta 0:00:10\n",
            "   -------------- ------------------------- 16.0/43.6 MB 2.9 MB/s eta 0:00:10\n",
            "   --------------- ------------------------ 16.5/43.6 MB 2.9 MB/s eta 0:00:10\n",
            "   --------------- ------------------------ 17.0/43.6 MB 2.9 MB/s eta 0:00:10\n",
            "   ---------------- ----------------------- 17.8/43.6 MB 2.9 MB/s eta 0:00:09\n",
            "   ---------------- ----------------------- 18.4/43.6 MB 2.9 MB/s eta 0:00:09\n",
            "   ----------------- ---------------------- 18.9/43.6 MB 2.9 MB/s eta 0:00:09\n",
            "   ----------------- ---------------------- 19.4/43.6 MB 2.9 MB/s eta 0:00:09\n",
            "   ------------------ --------------------- 19.9/43.6 MB 2.9 MB/s eta 0:00:09\n",
            "   ------------------ --------------------- 20.4/43.6 MB 2.8 MB/s eta 0:00:09\n",
            "   ------------------- -------------------- 21.0/43.6 MB 2.8 MB/s eta 0:00:08\n",
            "   ------------------- -------------------- 21.5/43.6 MB 2.8 MB/s eta 0:00:08\n",
            "   -------------------- ------------------- 22.0/43.6 MB 2.8 MB/s eta 0:00:08\n",
            "   -------------------- ------------------- 22.5/43.6 MB 2.8 MB/s eta 0:00:08\n",
            "   --------------------- ------------------ 23.1/43.6 MB 2.8 MB/s eta 0:00:08\n",
            "   --------------------- ------------------ 23.6/43.6 MB 2.8 MB/s eta 0:00:08\n",
            "   ---------------------- ----------------- 24.1/43.6 MB 2.8 MB/s eta 0:00:08\n",
            "   ---------------------- ----------------- 24.6/43.6 MB 2.8 MB/s eta 0:00:07\n",
            "   ----------------------- ---------------- 25.4/43.6 MB 2.8 MB/s eta 0:00:07\n",
            "   ------------------------ --------------- 26.5/43.6 MB 2.8 MB/s eta 0:00:07\n",
            "   ------------------------ --------------- 27.0/43.6 MB 2.8 MB/s eta 0:00:06\n",
            "   ------------------------- -------------- 27.5/43.6 MB 2.8 MB/s eta 0:00:06\n",
            "   ------------------------- -------------- 28.0/43.6 MB 2.8 MB/s eta 0:00:06\n",
            "   -------------------------- ------------- 28.8/43.6 MB 2.8 MB/s eta 0:00:06\n",
            "   --------------------------- ------------ 29.6/43.6 MB 2.9 MB/s eta 0:00:05\n",
            "   --------------------------- ------------ 30.4/43.6 MB 2.9 MB/s eta 0:00:05\n",
            "   ---------------------------- ----------- 31.2/43.6 MB 2.9 MB/s eta 0:00:05\n",
            "   ----------------------------- ---------- 31.7/43.6 MB 2.9 MB/s eta 0:00:05\n",
            "   ----------------------------- ---------- 32.2/43.6 MB 2.9 MB/s eta 0:00:04\n",
            "   ------------------------------ --------- 32.8/43.6 MB 2.9 MB/s eta 0:00:04\n",
            "   ------------------------------ --------- 33.3/43.6 MB 2.9 MB/s eta 0:00:04\n",
            "   ------------------------------- -------- 34.1/43.6 MB 2.9 MB/s eta 0:00:04\n",
            "   ------------------------------- -------- 34.6/43.6 MB 2.9 MB/s eta 0:00:04\n",
            "   -------------------------------- ------- 35.1/43.6 MB 2.9 MB/s eta 0:00:03\n",
            "   -------------------------------- ------- 35.7/43.6 MB 2.9 MB/s eta 0:00:03\n",
            "   --------------------------------- ------ 36.2/43.6 MB 2.9 MB/s eta 0:00:03\n",
            "   --------------------------------- ------ 37.0/43.6 MB 2.9 MB/s eta 0:00:03\n",
            "   ---------------------------------- ----- 37.7/43.6 MB 2.9 MB/s eta 0:00:03\n",
            "   ----------------------------------- ---- 38.3/43.6 MB 2.9 MB/s eta 0:00:02\n",
            "   ----------------------------------- ---- 38.8/43.6 MB 2.9 MB/s eta 0:00:02\n",
            "   ------------------------------------ --- 39.6/43.6 MB 2.9 MB/s eta 0:00:02\n",
            "   ------------------------------------ --- 40.1/43.6 MB 2.9 MB/s eta 0:00:02\n",
            "   ------------------------------------- -- 40.6/43.6 MB 2.9 MB/s eta 0:00:02\n",
            "   ------------------------------------- -- 41.2/43.6 MB 2.9 MB/s eta 0:00:01\n",
            "   -------------------------------------- - 41.7/43.6 MB 2.9 MB/s eta 0:00:01\n",
            "   -------------------------------------- - 42.2/43.6 MB 2.9 MB/s eta 0:00:01\n",
            "   ---------------------------------------  42.7/43.6 MB 2.9 MB/s eta 0:00:01\n",
            "   ---------------------------------------  43.3/43.6 MB 2.9 MB/s eta 0:00:01\n",
            "   ---------------------------------------- 43.6/43.6 MB 2.8 MB/s eta 0:00:00\n",
            "Using cached threadpoolctl-3.5.0-py3-none-any.whl (18 kB)\n",
            "Installing collected packages: threadpoolctl, scipy, joblib, scikit-learn\n",
            "Successfully installed joblib-1.4.2 scikit-learn-1.6.1 scipy-1.15.1 threadpoolctl-3.5.0\n",
            "Note: you may need to restart the kernel to use updated packages.\n"
          ]
        }
      ],
      "source": [
        "pip install scikit-learn\n"
      ]
    },
    {
      "cell_type": "code",
      "execution_count": 17,
      "metadata": {
        "id": "_-6TFwoqnaL3"
      },
      "outputs": [],
      "source": [
        "# Handling missing values\n",
        "from sklearn.impute import SimpleImputer\n",
        "# Replace missing values using a descriptive statistic (e.g. mean, median, or most frequent) along each column, or using a constant value.\n",
        "imputer = SimpleImputer(strategy='most_frequent')# strategy can also be mean or median\n",
        "penguins.iloc[:,:] = imputer.fit_transform(penguins)"
      ]
    },
    {
      "cell_type": "code",
      "execution_count": 18,
      "metadata": {
        "id": "Q-W9f7ujnqlj"
      },
      "outputs": [
        {
          "data": {
            "text/plain": [
              "species              0\n",
              "island               0\n",
              "culmen_length_mm     0\n",
              "culmen_depth_mm      0\n",
              "flipper_length_mm    0\n",
              "body_mass_g          0\n",
              "sex                  0\n",
              "dtype: int64"
            ]
          },
          "execution_count": 18,
          "metadata": {},
          "output_type": "execute_result"
        }
      ],
      "source": [
        "penguins.isnull().sum()"
      ]
    },
    {
      "cell_type": "markdown",
      "metadata": {
        "id": "IfQ7VG7wn3jV"
      },
      "source": [
        "#### Convert sex column to integer values"
      ]
    },
    {
      "cell_type": "code",
      "execution_count": 19,
      "metadata": {
        "id": "n8L2zEOl37HM"
      },
      "outputs": [
        {
          "data": {
            "text/plain": [
              "0      MALE\n",
              "1    FEMALE\n",
              "2    FEMALE\n",
              "3      MALE\n",
              "4    FEMALE\n",
              "Name: sex, dtype: object"
            ]
          },
          "execution_count": 19,
          "metadata": {},
          "output_type": "execute_result"
        }
      ],
      "source": [
        "penguins['sex'][:5]"
      ]
    },
    {
      "cell_type": "code",
      "execution_count": 20,
      "metadata": {
        "id": "XJ-JDENv4Izy"
      },
      "outputs": [
        {
          "data": {
            "text/plain": [
              "array(['MALE', 'FEMALE', '.'], dtype=object)"
            ]
          },
          "execution_count": 20,
          "metadata": {},
          "output_type": "execute_result"
        }
      ],
      "source": [
        "penguins['sex'].unique()"
      ]
    },
    {
      "cell_type": "code",
      "execution_count": 21,
      "metadata": {
        "colab": {
          "base_uri": "https://localhost:8080/"
        },
        "id": "LUWFNmYCnwPN",
        "outputId": "8a7ca29a-9505-4a9b-d86f-5e36c022670b"
      },
      "outputs": [
        {
          "data": {
            "text/plain": [
              "0    2\n",
              "1    1\n",
              "2    1\n",
              "3    2\n",
              "4    1\n",
              "Name: sex, dtype: int64"
            ]
          },
          "execution_count": 21,
          "metadata": {},
          "output_type": "execute_result"
        }
      ],
      "source": [
        "# Encode target labels with value between 0 and n_labels-1.\n",
        "from sklearn.preprocessing import LabelEncoder\n",
        "label_encoder = LabelEncoder()\n",
        "penguins[\"sex\"] = label_encoder.fit_transform(penguins[\"sex\"])\n",
        "penguins['sex'][:5]"
      ]
    },
    {
      "cell_type": "markdown",
      "metadata": {
        "id": "8Zn2IIyQoNDE"
      },
      "source": [
        "#### Analysing data visually"
      ]
    },
    {
      "cell_type": "markdown",
      "metadata": {
        "id": "iEZ2XsMBoQfO"
      },
      "source": [
        "Number of Species"
      ]
    },
    {
      "cell_type": "code",
      "execution_count": 22,
      "metadata": {
        "id": "1TNYCP2uoS0f"
      },
      "outputs": [
        {
          "data": {
            "text/plain": [
              "species\n",
              "Adelie       152\n",
              "Gentoo       124\n",
              "Chinstrap     68\n",
              "Name: count, dtype: int64"
            ]
          },
          "execution_count": 22,
          "metadata": {},
          "output_type": "execute_result"
        }
      ],
      "source": [
        "penguins['species'].value_counts()"
      ]
    },
    {
      "cell_type": "markdown",
      "metadata": {
        "id": "WuQEPl2JoZB3"
      },
      "source": [
        "The penguins dataset has different number of samples for each species."
      ]
    },
    {
      "cell_type": "markdown",
      "metadata": {
        "id": "yYkUD7Gkokxj"
      },
      "source": [
        "Scatterplot  \n",
        "The scatter plot which shows us the correlation with respect to other features.   This method helps just to figure out the important features which account the most for the classification in our model."
      ]
    },
    {
      "cell_type": "code",
      "execution_count": 23,
      "metadata": {
        "id": "JHrvvRjrrcoi"
      },
      "outputs": [
        {
          "name": "stdout",
          "output_type": "stream",
          "text": [
            "Collecting plotnine\n",
            "  Downloading plotnine-0.14.5-py3-none-any.whl.metadata (9.3 kB)\n",
            "Requirement already satisfied: matplotlib>=3.8.0 in c:\\users\\andreea\\appdata\\local\\programs\\python\\python313\\lib\\site-packages (from plotnine) (3.9.2)\n",
            "Requirement already satisfied: pandas>=2.2.0 in c:\\users\\andreea\\appdata\\local\\programs\\python\\python313\\lib\\site-packages (from plotnine) (2.2.3)\n",
            "Collecting mizani~=0.13.0 (from plotnine)\n",
            "  Downloading mizani-0.13.1-py3-none-any.whl.metadata (4.7 kB)\n",
            "Requirement already satisfied: numpy>=1.23.5 in c:\\users\\andreea\\appdata\\local\\programs\\python\\python313\\lib\\site-packages (from plotnine) (2.1.3)\n",
            "Requirement already satisfied: scipy>=1.8.0 in c:\\users\\andreea\\appdata\\local\\programs\\python\\python313\\lib\\site-packages (from plotnine) (1.15.1)\n",
            "Collecting statsmodels>=0.14.0 (from plotnine)\n",
            "  Using cached statsmodels-0.14.4-cp313-cp313-win_amd64.whl.metadata (9.5 kB)\n",
            "Requirement already satisfied: contourpy>=1.0.1 in c:\\users\\andreea\\appdata\\local\\programs\\python\\python313\\lib\\site-packages (from matplotlib>=3.8.0->plotnine) (1.3.1)\n",
            "Requirement already satisfied: cycler>=0.10 in c:\\users\\andreea\\appdata\\local\\programs\\python\\python313\\lib\\site-packages (from matplotlib>=3.8.0->plotnine) (0.12.1)\n",
            "Requirement already satisfied: fonttools>=4.22.0 in c:\\users\\andreea\\appdata\\local\\programs\\python\\python313\\lib\\site-packages (from matplotlib>=3.8.0->plotnine) (4.55.0)\n",
            "Requirement already satisfied: kiwisolver>=1.3.1 in c:\\users\\andreea\\appdata\\local\\programs\\python\\python313\\lib\\site-packages (from matplotlib>=3.8.0->plotnine) (1.4.7)\n",
            "Requirement already satisfied: packaging>=20.0 in c:\\users\\andreea\\appdata\\local\\programs\\python\\python313\\lib\\site-packages (from matplotlib>=3.8.0->plotnine) (24.2)\n",
            "Requirement already satisfied: pillow>=8 in c:\\users\\andreea\\appdata\\local\\programs\\python\\python313\\lib\\site-packages (from matplotlib>=3.8.0->plotnine) (11.0.0)\n",
            "Requirement already satisfied: pyparsing>=2.3.1 in c:\\users\\andreea\\appdata\\local\\programs\\python\\python313\\lib\\site-packages (from matplotlib>=3.8.0->plotnine) (3.2.0)\n",
            "Requirement already satisfied: python-dateutil>=2.7 in c:\\users\\andreea\\appdata\\local\\programs\\python\\python313\\lib\\site-packages (from matplotlib>=3.8.0->plotnine) (2.9.0.post0)\n",
            "Requirement already satisfied: tzdata in c:\\users\\andreea\\appdata\\local\\programs\\python\\python313\\lib\\site-packages (from mizani~=0.13.0->plotnine) (2024.2)\n",
            "Requirement already satisfied: pytz>=2020.1 in c:\\users\\andreea\\appdata\\local\\programs\\python\\python313\\lib\\site-packages (from pandas>=2.2.0->plotnine) (2024.2)\n",
            "Collecting patsy>=0.5.6 (from statsmodels>=0.14.0->plotnine)\n",
            "  Using cached patsy-1.0.1-py2.py3-none-any.whl.metadata (3.3 kB)\n",
            "Requirement already satisfied: six>=1.5 in c:\\users\\andreea\\appdata\\local\\programs\\python\\python313\\lib\\site-packages (from python-dateutil>=2.7->matplotlib>=3.8.0->plotnine) (1.16.0)\n",
            "Downloading plotnine-0.14.5-py3-none-any.whl (1.3 MB)\n",
            "   ---------------------------------------- 0.0/1.3 MB ? eta -:--:--\n",
            "   ------------------------ --------------- 0.8/1.3 MB 5.2 MB/s eta 0:00:01\n",
            "   ---------------------------------------- 1.3/1.3 MB 5.6 MB/s eta 0:00:00\n",
            "Downloading mizani-0.13.1-py3-none-any.whl (127 kB)\n",
            "Using cached statsmodels-0.14.4-cp313-cp313-win_amd64.whl (9.8 MB)\n",
            "Using cached patsy-1.0.1-py2.py3-none-any.whl (232 kB)\n",
            "Installing collected packages: patsy, statsmodels, mizani, plotnine\n",
            "Successfully installed mizani-0.13.1 patsy-1.0.1 plotnine-0.14.5 statsmodels-0.14.4\n"
          ]
        }
      ],
      "source": [
        "!pip install plotnine"
      ]
    },
    {
      "cell_type": "code",
      "execution_count": 24,
      "metadata": {
        "id": "Du7B-lYMsoJt"
      },
      "outputs": [
        {
          "data": {
            "image/png": "[encoded data removed]",
            "text/plain": [
              "<Figure size 640x480 with 1 Axes>"
            ]
          },
          "execution_count": 24,
          "metadata": {},
          "output_type": "execute_result"
        }
      ],
      "source": [
        "from plotnine import *\n",
        "\n",
        "# Creating the ggplot\n",
        "plot = (\n",
        "    ggplot(penguins, aes(x='flipper_length_mm', y='body_mass_g', color='species', shape='species')) +\n",
        "    geom_point(size=3, alpha=0.8) +\n",
        "    scale_color_manual(values=[\"darkorange\", \"purple\", \"cyan\"]) +\n",
        "    labs(\n",
        "        title=\"Penguins\",\n",
        "        subtitle=\"Flipper length and body mass for Adelie, Chinstrap and Gentoo Penguins\",\n",
        "        x=\"Flipper length (mm)\",\n",
        "        y=\"Body mass (g)\",\n",
        "        color=\"Penguin species\",\n",
        "        shape=\"Penguin species\"\n",
        "    ) +\n",
        "    theme_minimal()\n",
        ")\n",
        "\n",
        "# Show the plot\n",
        "plot.draw()"
      ]
    },
    {
      "cell_type": "markdown",
      "metadata": {
        "id": "lpZCP1rkga-P"
      },
      "source": [
        "## Classification dataset"
      ]
    },
    {
      "cell_type": "markdown",
      "metadata": {
        "id": "kSTojpWGghLe"
      },
      "source": [
        "We use this dataset in classification setting to predict the penguins’ species from anatomical information.   \n",
        "([Thanks to Inria Machine Learning Concepts](https://inria.github.io/scikit-learn-mooc/python_scripts/trees_dataset.html)).\n",
        "\n",
        "Each penguin is from one of the three following species: Adelie, Gentoo, and Chinstrap."
      ]
    },
    {
      "cell_type": "markdown",
      "metadata": {
        "id": "YbxIoXgvglyy"
      },
      "source": [
        "This problem is a classification problem since the target is categorical. We limit our input data to a subset of the original features to simplify our explanations when presenting the decision tree algorithm. Indeed, we use features based on penguins’ culmen measurement."
      ]
    },
    {
      "cell_type": "markdown",
      "metadata": {
        "id": "lT3yhJJTgo3k"
      },
      "source": [
        "We start by loading this subset of the dataset."
      ]
    },
    {
      "cell_type": "code",
      "execution_count": 25,
      "metadata": {
        "id": "t8c50ux3iKBH"
      },
      "outputs": [
        {
          "data": {
            "text/html": [
              "<div>\n",
              "<style scoped>\n",
              "    .dataframe tbody tr th:only-of-type {\n",
              "        vertical-align: middle;\n",
              "    }\n",
              "\n",
              "    .dataframe tbody tr th {\n",
              "        vertical-align: top;\n",
              "    }\n",
              "\n",
              "    .dataframe thead th {\n",
              "        text-align: right;\n",
              "    }\n",
              "</style>\n",
              "<table border=\"1\" class=\"dataframe\">\n",
              "  <thead>\n",
              "    <tr style=\"text-align: right;\">\n",
              "      <th></th>\n",
              "      <th>species</th>\n",
              "      <th>island</th>\n",
              "      <th>culmen_length_mm</th>\n",
              "      <th>culmen_depth_mm</th>\n",
              "      <th>flipper_length_mm</th>\n",
              "      <th>body_mass_g</th>\n",
              "      <th>sex</th>\n",
              "    </tr>\n",
              "  </thead>\n",
              "  <tbody>\n",
              "    <tr>\n",
              "      <th>0</th>\n",
              "      <td>Adelie</td>\n",
              "      <td>Torgersen</td>\n",
              "      <td>39.1</td>\n",
              "      <td>18.7</td>\n",
              "      <td>181.0</td>\n",
              "      <td>3750.0</td>\n",
              "      <td>2</td>\n",
              "    </tr>\n",
              "    <tr>\n",
              "      <th>1</th>\n",
              "      <td>Adelie</td>\n",
              "      <td>Torgersen</td>\n",
              "      <td>39.5</td>\n",
              "      <td>17.4</td>\n",
              "      <td>186.0</td>\n",
              "      <td>3800.0</td>\n",
              "      <td>1</td>\n",
              "    </tr>\n",
              "    <tr>\n",
              "      <th>2</th>\n",
              "      <td>Adelie</td>\n",
              "      <td>Torgersen</td>\n",
              "      <td>40.3</td>\n",
              "      <td>18.0</td>\n",
              "      <td>195.0</td>\n",
              "      <td>3250.0</td>\n",
              "      <td>1</td>\n",
              "    </tr>\n",
              "    <tr>\n",
              "      <th>3</th>\n",
              "      <td>Adelie</td>\n",
              "      <td>Torgersen</td>\n",
              "      <td>41.1</td>\n",
              "      <td>17.0</td>\n",
              "      <td>190.0</td>\n",
              "      <td>3800.0</td>\n",
              "      <td>2</td>\n",
              "    </tr>\n",
              "    <tr>\n",
              "      <th>4</th>\n",
              "      <td>Adelie</td>\n",
              "      <td>Torgersen</td>\n",
              "      <td>36.7</td>\n",
              "      <td>19.3</td>\n",
              "      <td>193.0</td>\n",
              "      <td>3450.0</td>\n",
              "      <td>1</td>\n",
              "    </tr>\n",
              "  </tbody>\n",
              "</table>\n",
              "</div>"
            ],
            "text/plain": [
              "  species     island  culmen_length_mm  culmen_depth_mm  flipper_length_mm  \\\n",
              "0  Adelie  Torgersen              39.1             18.7              181.0   \n",
              "1  Adelie  Torgersen              39.5             17.4              186.0   \n",
              "2  Adelie  Torgersen              40.3             18.0              195.0   \n",
              "3  Adelie  Torgersen              41.1             17.0              190.0   \n",
              "4  Adelie  Torgersen              36.7             19.3              193.0   \n",
              "\n",
              "   body_mass_g  sex  \n",
              "0       3750.0    2  \n",
              "1       3800.0    1  \n",
              "2       3250.0    1  \n",
              "3       3800.0    2  \n",
              "4       3450.0    1  "
            ]
          },
          "execution_count": 25,
          "metadata": {},
          "output_type": "execute_result"
        }
      ],
      "source": [
        "penguins.head()"
      ]
    },
    {
      "cell_type": "code",
      "execution_count": 26,
      "metadata": {
        "id": "16XlzNi9iMUz"
      },
      "outputs": [],
      "source": [
        "culmen_columns = ['culmen_length_mm', 'culmen_depth_mm']\n",
        "target_column = ['species']\n",
        "\n",
        "columns_classification = culmen_columns + target_column"
      ]
    },
    {
      "cell_type": "code",
      "execution_count": 27,
      "metadata": {
        "id": "wEFBP7rhjv19"
      },
      "outputs": [
        {
          "data": {
            "text/plain": [
              "['culmen_length_mm', 'culmen_depth_mm', 'species']"
            ]
          },
          "execution_count": 27,
          "metadata": {},
          "output_type": "execute_result"
        }
      ],
      "source": [
        "columns_classification"
      ]
    },
    {
      "cell_type": "markdown",
      "metadata": {
        "id": "2ZM-IhOaiRlF"
      },
      "source": [
        "Subset the dataframe."
      ]
    },
    {
      "cell_type": "code",
      "execution_count": 28,
      "metadata": {
        "id": "AVEhvcH_htHW"
      },
      "outputs": [],
      "source": [
        "penguins_classification = penguins[[column for column in penguins.columns if column in columns_classification]]"
      ]
    },
    {
      "cell_type": "markdown",
      "metadata": {
        "id": "X78sjGdfhYxe"
      },
      "source": [
        "Let’s check the dataset more into details."
      ]
    },
    {
      "cell_type": "code",
      "execution_count": 29,
      "metadata": {
        "id": "f9EylFMKjNzd"
      },
      "outputs": [
        {
          "data": {
            "text/html": [
              "<div>\n",
              "<style scoped>\n",
              "    .dataframe tbody tr th:only-of-type {\n",
              "        vertical-align: middle;\n",
              "    }\n",
              "\n",
              "    .dataframe tbody tr th {\n",
              "        vertical-align: top;\n",
              "    }\n",
              "\n",
              "    .dataframe thead th {\n",
              "        text-align: right;\n",
              "    }\n",
              "</style>\n",
              "<table border=\"1\" class=\"dataframe\">\n",
              "  <thead>\n",
              "    <tr style=\"text-align: right;\">\n",
              "      <th></th>\n",
              "      <th>species</th>\n",
              "      <th>culmen_length_mm</th>\n",
              "      <th>culmen_depth_mm</th>\n",
              "    </tr>\n",
              "  </thead>\n",
              "  <tbody>\n",
              "    <tr>\n",
              "      <th>0</th>\n",
              "      <td>Adelie</td>\n",
              "      <td>39.1</td>\n",
              "      <td>18.7</td>\n",
              "    </tr>\n",
              "    <tr>\n",
              "      <th>1</th>\n",
              "      <td>Adelie</td>\n",
              "      <td>39.5</td>\n",
              "      <td>17.4</td>\n",
              "    </tr>\n",
              "    <tr>\n",
              "      <th>2</th>\n",
              "      <td>Adelie</td>\n",
              "      <td>40.3</td>\n",
              "      <td>18.0</td>\n",
              "    </tr>\n",
              "    <tr>\n",
              "      <th>3</th>\n",
              "      <td>Adelie</td>\n",
              "      <td>41.1</td>\n",
              "      <td>17.0</td>\n",
              "    </tr>\n",
              "    <tr>\n",
              "      <th>4</th>\n",
              "      <td>Adelie</td>\n",
              "      <td>36.7</td>\n",
              "      <td>19.3</td>\n",
              "    </tr>\n",
              "  </tbody>\n",
              "</table>\n",
              "</div>"
            ],
            "text/plain": [
              "  species  culmen_length_mm  culmen_depth_mm\n",
              "0  Adelie              39.1             18.7\n",
              "1  Adelie              39.5             17.4\n",
              "2  Adelie              40.3             18.0\n",
              "3  Adelie              41.1             17.0\n",
              "4  Adelie              36.7             19.3"
            ]
          },
          "execution_count": 29,
          "metadata": {},
          "output_type": "execute_result"
        }
      ],
      "source": [
        "penguins_classification.head()"
      ]
    },
    {
      "cell_type": "markdown",
      "metadata": {
        "id": "NBu2M_gCh91r"
      },
      "source": [
        "Since that we have few samples, we can check a scatter plot to observe the samples distribution."
      ]
    },
    {
      "cell_type": "code",
      "execution_count": 30,
      "metadata": {
        "id": "y8DrhSFfuqdY"
      },
      "outputs": [
        {
          "ename": "ModuleNotFoundError",
          "evalue": "No module named 'seaborn'",
          "output_type": "error",
          "traceback": [
            "\u001b[1;31m---------------------------------------------------------------------------\u001b[0m",
            "\u001b[1;31mModuleNotFoundError\u001b[0m                       Traceback (most recent call last)",
            "Cell \u001b[1;32mIn[30], line 1\u001b[0m\n\u001b[1;32m----> 1\u001b[0m \u001b[38;5;28;01mimport\u001b[39;00m \u001b[38;5;21;01mseaborn\u001b[39;00m \u001b[38;5;28;01mas\u001b[39;00m \u001b[38;5;21;01msns\u001b[39;00m\n\u001b[0;32m      3\u001b[0m pairplot_figure \u001b[38;5;241m=\u001b[39m sns\u001b[38;5;241m.\u001b[39mpairplot(penguins_classification, hue\u001b[38;5;241m=\u001b[39m\u001b[38;5;124m\"\u001b[39m\u001b[38;5;124mspecies\u001b[39m\u001b[38;5;124m\"\u001b[39m)\n\u001b[0;32m      4\u001b[0m pairplot_figure\u001b[38;5;241m.\u001b[39mfig\u001b[38;5;241m.\u001b[39mset_size_inches(\u001b[38;5;241m9\u001b[39m, \u001b[38;5;241m6.5\u001b[39m)\n",
            "\u001b[1;31mModuleNotFoundError\u001b[0m: No module named 'seaborn'"
          ]
        }
      ],
      "source": [
        "import seaborn as sns\n",
        "\n",
        "pairplot_figure = sns.pairplot(penguins_classification, hue=\"species\")\n",
        "pairplot_figure.fig.set_size_inches(9, 6.5)"
      ]
    },
    {
      "cell_type": "markdown",
      "metadata": {
        "id": "HfJwi1428XyY"
      },
      "source": [
        "First let’s check the feature distributions by looking at the diagonal plots of the pairplot. We can deduce the following intuitions:  \n",
        "\n",
        "* The Adelie species can be differentiated from the Gentoo and Chinstrap species depending on the culmen length;  \n",
        "\n",
        "* The Gentoo species can be differentiated from the Adelie and Chinstrap species depending on the culmen depth.  "
      ]
    },
    {
      "cell_type": "markdown",
      "metadata": {
        "id": "RpF4JvJPk98t"
      },
      "source": [
        "## Regression dataset"
      ]
    },
    {
      "cell_type": "markdown",
      "metadata": {
        "id": "dtRjhn21lAh0"
      },
      "source": [
        "In a regression setting, the target is a continuous variable instead of categories. Here, we use two features of the dataset to make such a problem: the flipper length and culmen length iare used as features and the body mass as the target. In short, we want to predict the body mass using the flipper and culmen length.\n",
        "\n",
        "We load the dataset and visualize the relationship between the flipper length and the body mass of penguins."
      ]
    },
    {
      "cell_type": "code",
      "execution_count": null,
      "metadata": {
        "id": "2WtFkIP-hc9G"
      },
      "outputs": [],
      "source": [
        "feature_name_1 = 'flipper_length_mm'\n",
        "target_column = 'body_mass_g'"
      ]
    },
    {
      "cell_type": "code",
      "execution_count": null,
      "metadata": {
        "id": "No4GvForlKiX"
      },
      "outputs": [],
      "source": [
        "import seaborn as sns\n",
        "scatterplot_figure = sns.scatterplot(data=penguins, x=feature_name_1, y=target_column)"
      ]
    },
    {
      "cell_type": "markdown",
      "metadata": {
        "id": "tk3Eg-zklWSh"
      },
      "source": [
        "Here, we deal with a regression problem because our target is a continuous variable ranging from 2.7 kg to 6.3 kg. From the scatter plot above, we observe that we have a linear relationship between the flipper length and the body mass. The longer the flipper of a penguin, the heavier the penguin."
      ]
    },
    {
      "cell_type": "code",
      "execution_count": null,
      "metadata": {
        "id": "4IF5pArslf9E"
      },
      "outputs": [],
      "source": [
        "feature_name_2 = 'culmen_length_mm'\n",
        "target_column = 'body_mass_g'"
      ]
    },
    {
      "cell_type": "code",
      "execution_count": null,
      "metadata": {
        "id": "E4cWJ1VBxXmB"
      },
      "outputs": [],
      "source": [
        "_ = sns.scatterplot(data=penguins, x=feature_name_2, y=target_column)"
      ]
    },
    {
      "cell_type": "code",
      "execution_count": null,
      "metadata": {
        "id": "7JUTQrbAxZjw"
      },
      "outputs": [],
      "source": [
        "feature_columns = [feature_name_1, feature_name_2]\n",
        "target_column = ['body_mass_g']\n",
        "\n",
        "columns_regression = feature_columns + target_column"
      ]
    },
    {
      "cell_type": "code",
      "execution_count": null,
      "metadata": {
        "id": "kTM4S-hpyYky"
      },
      "outputs": [],
      "source": [
        "penguins_regression = penguins[[column for column in penguins.columns if column in columns_regression]]"
      ]
    },
    {
      "cell_type": "code",
      "execution_count": null,
      "metadata": {
        "id": "rU1kD1tYykti"
      },
      "outputs": [],
      "source": [
        "penguins_regression.head()"
      ]
    },
    {
      "cell_type": "markdown",
      "metadata": {
        "id": "La1GlhLST9Pu"
      },
      "source": [
        "#### Lasso regression"
      ]
    },
    {
      "cell_type": "code",
      "execution_count": null,
      "metadata": {
        "id": "rtaFVsjlymTW"
      },
      "outputs": [],
      "source": [
        "import pandas as pd\n",
        "from sklearn.model_selection import train_test_split\n",
        "from sklearn.linear_model import Lasso\n",
        "from sklearn.preprocessing import StandardScaler\n",
        "from sklearn.metrics import mean_squared_error\n",
        "import matplotlib.pyplot as plt\n",
        "\n",
        "# Select relevant columns\n",
        "data = penguins_regression\n",
        "\n",
        "# Drop rows with missing values\n",
        "data = data.dropna()\n",
        "\n",
        "# Split the data into features (X) and target variable (y)\n",
        "X = data[['flipper_length_mm', 'culmen_length_mm']]\n",
        "y = data['body_mass_g']\n",
        "\n",
        "# Split the data into training and testing sets\n",
        "X_train, X_test, y_train, y_test = train_test_split(X, y, test_size=0.2, shuffle = False, random_state=42)\n",
        "\n",
        "# Standardize the features\n",
        "# Compare the effect of different scalers on data with outliers:\n",
        "# # https://scikit-learn.org/stable/auto_examples/preprocessing/plot_all_scaling.html#plot-all-scaling-standard-scaler-section\n",
        "scaler = StandardScaler()\n",
        "X_train_scaled = scaler.fit_transform(X_train)\n",
        "X_test_scaled = scaler.transform(X_test)\n",
        "\n",
        "# Create and train the Lasso regression model\n",
        "alpha = 0  # regularization strength (adjust as needed)\n",
        "max_iter = 10  # specify the maximum number of iterations\n",
        "lasso_model = Lasso(alpha=alpha, max_iter=max_iter)\n",
        "lasso_model.fit(X_train_scaled, y_train)\n",
        "\n",
        "# Make predictions on the test set\n",
        "y_pred = lasso_model.predict(X_test_scaled)\n",
        "\n",
        "# Evaluate the model\n",
        "mse = mean_squared_error(y_test, y_pred)\n",
        "print(f'Mean Squared Error: {mse}')"
      ]
    },
    {
      "cell_type": "markdown",
      "metadata": {
        "id": "3NNlR5NP0fLT"
      },
      "source": [
        "Get Lasso coefficients"
      ]
    },
    {
      "cell_type": "code",
      "execution_count": null,
      "metadata": {
        "id": "ASotw3-czOG_"
      },
      "outputs": [],
      "source": [
        "# Get Lasso coefficients\n",
        "coefficients = lasso_model.coef_\n",
        "intercept = lasso_model.intercept_\n",
        "\n",
        "# Display coefficients\n",
        "print(\"Intercept:\", intercept)\n",
        "print(\"Coefficients:\", coefficients)"
      ]
    },
    {
      "cell_type": "markdown",
      "metadata": {
        "id": "ldJF4sYJ00I7"
      },
      "source": [
        "Does it overfit?"
      ]
    },
    {
      "cell_type": "code",
      "execution_count": null,
      "metadata": {
        "id": "L-gtdxw-0hjQ"
      },
      "outputs": [],
      "source": [
        "# Make predictions on both training and testing sets\n",
        "y_train_pred = lasso_model.predict(X_train_scaled)\n",
        "y_test_pred = lasso_model.predict(X_test_scaled)\n",
        "\n",
        "# Evaluate the model on both sets\n",
        "mse_train = mean_squared_error(y_train, y_train_pred)\n",
        "mse_test = mean_squared_error(y_test, y_test_pred)\n",
        "\n",
        "# Display Mean Squared Errors\n",
        "print(f'Training MSE: {mse_train}')\n",
        "print(f'Testing MSE: {mse_test}')"
      ]
    },
    {
      "cell_type": "code",
      "execution_count": null,
      "metadata": {
        "id": "39akjFgJ8_fU"
      },
      "outputs": [],
      "source": [
        "plt.figure(figsize=(10,10))\n",
        "plt.scatter(y_test, y_test_pred, c='crimson')\n",
        "plt.yscale('log')\n",
        "plt.xscale('log')\n",
        "\n",
        "p1 = max(max(y_test_pred), max(y_test))\n",
        "p2 = min(min(y_test_pred), min(y_test))\n",
        "plt.plot([p1, p2], [p1, p2], 'b-')\n",
        "plt.xlabel('True Values', fontsize=15)\n",
        "plt.ylabel('Predictions', fontsize=15)\n",
        "plt.title('Lasso Regression for Penguin Body Mass Prediction')\n",
        "plt.axis('equal')\n",
        "plt.show()"
      ]
    },
    {
      "cell_type": "code",
      "execution_count": null,
      "metadata": {
        "id": "sdPSs7j9_1_F"
      },
      "outputs": [],
      "source": [
        "y_test[:10]"
      ]
    },
    {
      "cell_type": "code",
      "execution_count": null,
      "metadata": {
        "id": "i9M_RUDV_2yQ"
      },
      "outputs": [],
      "source": [
        "y_test_pred[:10]"
      ]
    },
    {
      "cell_type": "code",
      "execution_count": null,
      "metadata": {
        "id": "PcLVB0BgAMjH"
      },
      "outputs": [],
      "source": []
    }
  ],
  "metadata": {
    "colab": {
      "collapsed_sections": [
        "giyHB5-ZfgDY",
        "YvvdXnmqmR0g",
        "IfQ7VG7wn3jV",
        "8Zn2IIyQoNDE",
        "lpZCP1rkga-P",
        "RpF4JvJPk98t",
        "La1GlhLST9Pu"
      ],
      "provenance": []
    },
    "kernelspec": {
      "display_name": "Python 3",
      "name": "python3"
    },
    "language_info": {
      "codemirror_mode": {
        "name": "ipython",
        "version": 3
      },
      "file_extension": ".py",
      "mimetype": "text/x-python",
      "name": "python",
      "nbconvert_exporter": "python",
      "pygments_lexer": "ipython3",
      "version": "3.13.0"
    }
  },
  "nbformat": 4,
  "nbformat_minor": 0
}
