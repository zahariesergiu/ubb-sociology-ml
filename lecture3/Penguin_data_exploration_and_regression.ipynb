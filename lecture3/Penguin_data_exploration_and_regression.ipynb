{
  "nbformat": 4,
  "nbformat_minor": 0,
  "metadata": {
    "colab": {
      "provenance": [],
      "collapsed_sections": [
        "giyHB5-ZfgDY",
        "YvvdXnmqmR0g",
        "IfQ7VG7wn3jV",
        "8Zn2IIyQoNDE",
        "lpZCP1rkga-P",
        "RpF4JvJPk98t",
        "La1GlhLST9Pu"
      ]
    },
    "kernelspec": {
      "name": "python3",
      "display_name": "Python 3"
    },
    "language_info": {
      "name": "python"
    }
  },
  "cells": [
    {
      "cell_type": "markdown",
      "source": [
        "### Palmer Archipelago (Antarctica) penguin dataset"
      ],
      "metadata": {
        "id": "giyHB5-ZfgDY"
      }
    },
    {
      "cell_type": "markdown",
      "source": [
        "In this notebook, we make a quick presentation of the Palmer penguins dataset dataset. We can use this dataset for both classification and regression problems by selecting a subset of the features to make our explanations intuitive."
      ],
      "metadata": {
        "id": "kaPEosl1gMG7"
      }
    },
    {
      "cell_type": "code",
      "source": [
        "from google.colab import drive\n",
        "drive.mount('/content/gdrive')"
      ],
      "metadata": {
        "colab": {
          "base_uri": "https://localhost:8080/"
        },
        "id": "wG2JlyQ4gx4Y",
        "outputId": "a5c93370-7626-4b61-8025-94bac0dea78f"
      },
      "execution_count": null,
      "outputs": [
        {
          "output_type": "stream",
          "name": "stdout",
          "text": [
            "Mounted at /content/gdrive\n"
          ]
        }
      ]
    },
    {
      "cell_type": "code",
      "execution_count": null,
      "metadata": {
        "id": "E7tI0iMmeIXW"
      },
      "outputs": [],
      "source": [
        "import pandas as pd\n",
        "\n",
        "penguins = pd.read_csv(\"gdrive/My Drive/Work/UBB 2023/02_Cursuri/Session #2/penguins_size.csv\")"
      ]
    },
    {
      "cell_type": "code",
      "source": [
        "penguins.info()"
      ],
      "metadata": {
        "id": "bh_EmtV1lvft"
      },
      "execution_count": null,
      "outputs": []
    },
    {
      "cell_type": "markdown",
      "source": [
        "The dataset consists of 7 columns.\n",
        "\n",
        "* **species**: penguin species (Chinstrap, Adélie, or Gentoo)\n",
        "* **island**: island name (Dream, Torgersen, or Biscoe) in the Palmer Archipelago (Antarctica)   \n",
        "* **culmen_length_mm**: culmen length (mm)  \n",
        "* **culmen_depth_mm**: culmen depth (mm)  \n",
        "* **flipper_length_mm**: flipper length (mm)  \n",
        "* **body_mass_g**: body mass (g)  \n",
        "* **sex**: penguin sex  \n",
        "\n",
        "What are culmen length & depth?  \n",
        "The culmen is \"the upper ridge of a bird's beak\"  \n",
        "\n",
        "\n",
        "\n",
        "What are flippers?\n",
        "Penguins wings are called flippers. They are flat, thin, and broad with a long, tapered shape and a blunt, rounded tip."
      ],
      "metadata": {
        "id": "_zz6WewVlxl-"
      }
    },
    {
      "cell_type": "markdown",
      "source": [
        "## Understanding the data"
      ],
      "metadata": {
        "id": "YvvdXnmqmR0g"
      }
    },
    {
      "cell_type": "code",
      "source": [
        "penguins.shape"
      ],
      "metadata": {
        "id": "UoRv5LiomS8D"
      },
      "execution_count": null,
      "outputs": []
    },
    {
      "cell_type": "markdown",
      "source": [
        "#### Missing values"
      ],
      "metadata": {
        "id": "xzb4wX3smv5w"
      }
    },
    {
      "cell_type": "code",
      "source": [
        "missing_values = penguins.isnull().sum()"
      ],
      "metadata": {
        "id": "rzx7_nv_nM54"
      },
      "execution_count": null,
      "outputs": []
    },
    {
      "cell_type": "code",
      "source": [
        "missing_values"
      ],
      "metadata": {
        "id": "Mws-BXXvnO5C"
      },
      "execution_count": null,
      "outputs": []
    },
    {
      "cell_type": "code",
      "source": [
        "# Handling missing values\n",
        "from sklearn.impute import SimpleImputer\n",
        "# Replace missing values using a descriptive statistic (e.g. mean, median, or most frequent) along each column, or using a constant value.\n",
        "imputer = SimpleImputer(strategy='most_frequent')# strategy can also be mean or median\n",
        "penguins.iloc[:,:] = imputer.fit_transform(penguins)"
      ],
      "metadata": {
        "id": "_-6TFwoqnaL3"
      },
      "execution_count": null,
      "outputs": []
    },
    {
      "cell_type": "code",
      "source": [
        "penguins.isnull().sum()"
      ],
      "metadata": {
        "id": "Q-W9f7ujnqlj"
      },
      "execution_count": null,
      "outputs": []
    },
    {
      "cell_type": "markdown",
      "source": [
        "#### Convert sex column to integer values"
      ],
      "metadata": {
        "id": "IfQ7VG7wn3jV"
      }
    },
    {
      "cell_type": "code",
      "source": [
        "penguins['sex'][:5]"
      ],
      "metadata": {
        "id": "n8L2zEOl37HM"
      },
      "execution_count": null,
      "outputs": []
    },
    {
      "cell_type": "code",
      "source": [
        "penguins['sex'].unique()"
      ],
      "metadata": {
        "id": "XJ-JDENv4Izy"
      },
      "execution_count": null,
      "outputs": []
    },
    {
      "cell_type": "code",
      "source": [
        "# Encode target labels with value between 0 and n_labels-1.\n",
        "from sklearn.preprocessing import LabelEncoder\n",
        "label_encoder = LabelEncoder()\n",
        "penguins[\"sex\"] = label_encoder.fit_transform(penguins[\"sex\"])\n",
        "penguins['sex'][:5]"
      ],
      "metadata": {
        "colab": {
          "base_uri": "https://localhost:8080/"
        },
        "id": "LUWFNmYCnwPN",
        "outputId": "8a7ca29a-9505-4a9b-d86f-5e36c022670b"
      },
      "execution_count": null,
      "outputs": [
        {
          "output_type": "execute_result",
          "data": {
            "text/plain": [
              "0    2\n",
              "1    1\n",
              "2    1\n",
              "3    2\n",
              "4    1\n",
              "Name: sex, dtype: int64"
            ]
          },
          "metadata": {},
          "execution_count": 20
        }
      ]
    },
    {
      "cell_type": "markdown",
      "source": [
        "#### Analysing data visually"
      ],
      "metadata": {
        "id": "8Zn2IIyQoNDE"
      }
    },
    {
      "cell_type": "markdown",
      "source": [
        "Number of Species"
      ],
      "metadata": {
        "id": "iEZ2XsMBoQfO"
      }
    },
    {
      "cell_type": "code",
      "source": [
        "penguins['species'].value_counts()"
      ],
      "metadata": {
        "id": "1TNYCP2uoS0f"
      },
      "execution_count": null,
      "outputs": []
    },
    {
      "cell_type": "markdown",
      "source": [
        "The penguins dataset has different number of samples for each species."
      ],
      "metadata": {
        "id": "WuQEPl2JoZB3"
      }
    },
    {
      "cell_type": "markdown",
      "source": [
        "Scatterplot  \n",
        "The scatter plot which shows us the correlation with respect to other features.   This method helps just to figure out the important features which account the most for the classification in our model."
      ],
      "metadata": {
        "id": "yYkUD7Gkokxj"
      }
    },
    {
      "cell_type": "code",
      "source": [
        "!pip install plotnine"
      ],
      "metadata": {
        "id": "JHrvvRjrrcoi"
      },
      "execution_count": null,
      "outputs": []
    },
    {
      "cell_type": "code",
      "source": [
        "from plotnine import *\n",
        "\n",
        "# Creating the ggplot\n",
        "plot = (\n",
        "    ggplot(penguins, aes(x='flipper_length_mm', y='body_mass_g', color='species', shape='species')) +\n",
        "    geom_point(size=3, alpha=0.8) +\n",
        "    scale_color_manual(values=[\"darkorange\", \"purple\", \"cyan\"]) +\n",
        "    labs(\n",
        "        title=\"Penguins\",\n",
        "        subtitle=\"Flipper length and body mass for Adelie, Chinstrap and Gentoo Penguins\",\n",
        "        x=\"Flipper length (mm)\",\n",
        "        y=\"Body mass (g)\",\n",
        "        color=\"Penguin species\",\n",
        "        shape=\"Penguin species\"\n",
        "    ) +\n",
        "    theme_minimal()\n",
        ")\n",
        "\n",
        "# Show the plot\n",
        "plot.draw()"
      ],
      "metadata": {
        "id": "Du7B-lYMsoJt"
      },
      "execution_count": null,
      "outputs": []
    },
    {
      "cell_type": "markdown",
      "source": [
        "## Classification dataset"
      ],
      "metadata": {
        "id": "lpZCP1rkga-P"
      }
    },
    {
      "cell_type": "markdown",
      "source": [
        "We use this dataset in classification setting to predict the penguins’ species from anatomical information.   \n",
        "([Thanks to Inria Machine Learning Concepts](https://inria.github.io/scikit-learn-mooc/python_scripts/trees_dataset.html)).\n",
        "\n",
        "Each penguin is from one of the three following species: Adelie, Gentoo, and Chinstrap."
      ],
      "metadata": {
        "id": "kSTojpWGghLe"
      }
    },
    {
      "cell_type": "markdown",
      "source": [
        "This problem is a classification problem since the target is categorical. We limit our input data to a subset of the original features to simplify our explanations when presenting the decision tree algorithm. Indeed, we use features based on penguins’ culmen measurement."
      ],
      "metadata": {
        "id": "YbxIoXgvglyy"
      }
    },
    {
      "cell_type": "markdown",
      "source": [
        "We start by loading this subset of the dataset."
      ],
      "metadata": {
        "id": "lT3yhJJTgo3k"
      }
    },
    {
      "cell_type": "code",
      "source": [
        "penguins.head()"
      ],
      "metadata": {
        "id": "t8c50ux3iKBH"
      },
      "execution_count": null,
      "outputs": []
    },
    {
      "cell_type": "code",
      "source": [
        "culmen_columns = ['culmen_length_mm', 'culmen_depth_mm']\n",
        "target_column = ['species']\n",
        "\n",
        "columns_classification = culmen_columns + target_column"
      ],
      "metadata": {
        "id": "16XlzNi9iMUz"
      },
      "execution_count": null,
      "outputs": []
    },
    {
      "cell_type": "code",
      "source": [
        "columns_classification"
      ],
      "metadata": {
        "id": "wEFBP7rhjv19"
      },
      "execution_count": null,
      "outputs": []
    },
    {
      "cell_type": "markdown",
      "source": [
        "Subset the dataframe."
      ],
      "metadata": {
        "id": "2ZM-IhOaiRlF"
      }
    },
    {
      "cell_type": "code",
      "source": [
        "penguins_classification = penguins[[column for column in penguins.columns if column in columns_classification]]"
      ],
      "metadata": {
        "id": "AVEhvcH_htHW"
      },
      "execution_count": null,
      "outputs": []
    },
    {
      "cell_type": "markdown",
      "source": [
        "Let’s check the dataset more into details."
      ],
      "metadata": {
        "id": "X78sjGdfhYxe"
      }
    },
    {
      "cell_type": "code",
      "source": [
        "penguins_classification.head()"
      ],
      "metadata": {
        "id": "f9EylFMKjNzd"
      },
      "execution_count": null,
      "outputs": []
    },
    {
      "cell_type": "markdown",
      "source": [
        "Since that we have few samples, we can check a scatter plot to observe the samples distribution."
      ],
      "metadata": {
        "id": "NBu2M_gCh91r"
      }
    },
    {
      "cell_type": "code",
      "source": [
        "import seaborn as sns\n",
        "\n",
        "pairplot_figure = sns.pairplot(penguins_classification, hue=\"species\")\n",
        "pairplot_figure.fig.set_size_inches(9, 6.5)"
      ],
      "metadata": {
        "id": "y8DrhSFfuqdY"
      },
      "execution_count": null,
      "outputs": []
    },
    {
      "cell_type": "markdown",
      "source": [
        "First let’s check the feature distributions by looking at the diagonal plots of the pairplot. We can deduce the following intuitions:  \n",
        "\n",
        "* The Adelie species can be differentiated from the Gentoo and Chinstrap species depending on the culmen length;  \n",
        "\n",
        "* The Gentoo species can be differentiated from the Adelie and Chinstrap species depending on the culmen depth.  "
      ],
      "metadata": {
        "id": "HfJwi1428XyY"
      }
    },
    {
      "cell_type": "markdown",
      "source": [
        "## Regression dataset"
      ],
      "metadata": {
        "id": "RpF4JvJPk98t"
      }
    },
    {
      "cell_type": "markdown",
      "source": [
        "In a regression setting, the target is a continuous variable instead of categories. Here, we use two features of the dataset to make such a problem: the flipper length and culmen length iare used as features and the body mass as the target. In short, we want to predict the body mass using the flipper and culmen length.\n",
        "\n",
        "We load the dataset and visualize the relationship between the flipper length and the body mass of penguins."
      ],
      "metadata": {
        "id": "dtRjhn21lAh0"
      }
    },
    {
      "cell_type": "code",
      "source": [
        "feature_name_1 = 'flipper_length_mm'\n",
        "target_column = 'body_mass_g'"
      ],
      "metadata": {
        "id": "2WtFkIP-hc9G"
      },
      "execution_count": null,
      "outputs": []
    },
    {
      "cell_type": "code",
      "source": [
        "import seaborn as sns\n",
        "scatterplot_figure = sns.scatterplot(data=penguins, x=feature_name_1, y=target_column)"
      ],
      "metadata": {
        "id": "No4GvForlKiX"
      },
      "execution_count": null,
      "outputs": []
    },
    {
      "cell_type": "markdown",
      "source": [
        "Here, we deal with a regression problem because our target is a continuous variable ranging from 2.7 kg to 6.3 kg. From the scatter plot above, we observe that we have a linear relationship between the flipper length and the body mass. The longer the flipper of a penguin, the heavier the penguin."
      ],
      "metadata": {
        "id": "tk3Eg-zklWSh"
      }
    },
    {
      "cell_type": "code",
      "source": [
        "feature_name_2 = 'culmen_length_mm'\n",
        "target_column = 'body_mass_g'"
      ],
      "metadata": {
        "id": "4IF5pArslf9E"
      },
      "execution_count": null,
      "outputs": []
    },
    {
      "cell_type": "code",
      "source": [
        "_ = sns.scatterplot(data=penguins, x=feature_name_2, y=target_column)"
      ],
      "metadata": {
        "id": "E4cWJ1VBxXmB"
      },
      "execution_count": null,
      "outputs": []
    },
    {
      "cell_type": "code",
      "source": [
        "feature_columns = [feature_name_1, feature_name_2]\n",
        "target_column = ['body_mass_g']\n",
        "\n",
        "columns_regression = feature_columns + target_column"
      ],
      "metadata": {
        "id": "7JUTQrbAxZjw"
      },
      "execution_count": null,
      "outputs": []
    },
    {
      "cell_type": "code",
      "source": [
        "penguins_regression = penguins[[column for column in penguins.columns if column in columns_regression]]"
      ],
      "metadata": {
        "id": "kTM4S-hpyYky"
      },
      "execution_count": null,
      "outputs": []
    },
    {
      "cell_type": "code",
      "source": [
        "penguins_regression.head()"
      ],
      "metadata": {
        "id": "rU1kD1tYykti"
      },
      "execution_count": null,
      "outputs": []
    },
    {
      "cell_type": "markdown",
      "source": [
        "#### Lasso regression"
      ],
      "metadata": {
        "id": "La1GlhLST9Pu"
      }
    },
    {
      "cell_type": "code",
      "source": [
        "import pandas as pd\n",
        "from sklearn.model_selection import train_test_split\n",
        "from sklearn.linear_model import Lasso\n",
        "from sklearn.preprocessing import StandardScaler\n",
        "from sklearn.metrics import mean_squared_error\n",
        "import matplotlib.pyplot as plt\n",
        "\n",
        "# Select relevant columns\n",
        "data = penguins_regression\n",
        "\n",
        "# Drop rows with missing values\n",
        "data = data.dropna()\n",
        "\n",
        "# Split the data into features (X) and target variable (y)\n",
        "X = data[['flipper_length_mm', 'culmen_length_mm']]\n",
        "y = data['body_mass_g']\n",
        "\n",
        "# Split the data into training and testing sets\n",
        "X_train, X_test, y_train, y_test = train_test_split(X, y, test_size=0.2, shuffle = False, random_state=42)\n",
        "\n",
        "# Standardize the features\n",
        "# Compare the effect of different scalers on data with outliers:\n",
        "# # https://scikit-learn.org/stable/auto_examples/preprocessing/plot_all_scaling.html#plot-all-scaling-standard-scaler-section\n",
        "scaler = StandardScaler()\n",
        "X_train_scaled = scaler.fit_transform(X_train)\n",
        "X_test_scaled = scaler.transform(X_test)\n",
        "\n",
        "# Create and train the Lasso regression model\n",
        "alpha = 0  # regularization strength (adjust as needed)\n",
        "max_iter = 10  # specify the maximum number of iterations\n",
        "lasso_model = Lasso(alpha=alpha, max_iter=max_iter)\n",
        "lasso_model.fit(X_train_scaled, y_train)\n",
        "\n",
        "# Make predictions on the test set\n",
        "y_pred = lasso_model.predict(X_test_scaled)\n",
        "\n",
        "# Evaluate the model\n",
        "mse = mean_squared_error(y_test, y_pred)\n",
        "print(f'Mean Squared Error: {mse}')"
      ],
      "metadata": {
        "id": "rtaFVsjlymTW"
      },
      "execution_count": null,
      "outputs": []
    },
    {
      "cell_type": "markdown",
      "source": [
        "Get Lasso coefficients"
      ],
      "metadata": {
        "id": "3NNlR5NP0fLT"
      }
    },
    {
      "cell_type": "code",
      "source": [
        "# Get Lasso coefficients\n",
        "coefficients = lasso_model.coef_\n",
        "intercept = lasso_model.intercept_\n",
        "\n",
        "# Display coefficients\n",
        "print(\"Intercept:\", intercept)\n",
        "print(\"Coefficients:\", coefficients)"
      ],
      "metadata": {
        "id": "ASotw3-czOG_"
      },
      "execution_count": null,
      "outputs": []
    },
    {
      "cell_type": "markdown",
      "source": [
        "Does it overfit?"
      ],
      "metadata": {
        "id": "ldJF4sYJ00I7"
      }
    },
    {
      "cell_type": "code",
      "source": [
        "# Make predictions on both training and testing sets\n",
        "y_train_pred = lasso_model.predict(X_train_scaled)\n",
        "y_test_pred = lasso_model.predict(X_test_scaled)\n",
        "\n",
        "# Evaluate the model on both sets\n",
        "mse_train = mean_squared_error(y_train, y_train_pred)\n",
        "mse_test = mean_squared_error(y_test, y_test_pred)\n",
        "\n",
        "# Display Mean Squared Errors\n",
        "print(f'Training MSE: {mse_train}')\n",
        "print(f'Testing MSE: {mse_test}')"
      ],
      "metadata": {
        "id": "L-gtdxw-0hjQ"
      },
      "execution_count": null,
      "outputs": []
    },
    {
      "cell_type": "code",
      "source": [
        "plt.figure(figsize=(10,10))\n",
        "plt.scatter(y_test, y_test_pred, c='crimson')\n",
        "plt.yscale('log')\n",
        "plt.xscale('log')\n",
        "\n",
        "p1 = max(max(y_test_pred), max(y_test))\n",
        "p2 = min(min(y_test_pred), min(y_test))\n",
        "plt.plot([p1, p2], [p1, p2], 'b-')\n",
        "plt.xlabel('True Values', fontsize=15)\n",
        "plt.ylabel('Predictions', fontsize=15)\n",
        "plt.title('Lasso Regression for Penguin Body Mass Prediction')\n",
        "plt.axis('equal')\n",
        "plt.show()"
      ],
      "metadata": {
        "id": "39akjFgJ8_fU"
      },
      "execution_count": null,
      "outputs": []
    },
    {
      "cell_type": "code",
      "source": [
        "y_test[:10]"
      ],
      "metadata": {
        "id": "sdPSs7j9_1_F"
      },
      "execution_count": null,
      "outputs": []
    },
    {
      "cell_type": "code",
      "source": [
        "y_test_pred[:10]"
      ],
      "metadata": {
        "id": "i9M_RUDV_2yQ"
      },
      "execution_count": null,
      "outputs": []
    },
    {
      "cell_type": "code",
      "source": [],
      "metadata": {
        "id": "PcLVB0BgAMjH"
      },
      "execution_count": null,
      "outputs": []
    }
  ]
}