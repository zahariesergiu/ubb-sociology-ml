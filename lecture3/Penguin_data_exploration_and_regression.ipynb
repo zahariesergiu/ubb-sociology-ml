{
  "cells": [
    {
      "cell_type": "markdown",
      "metadata": {
        "id": "giyHB5-ZfgDY"
      },
      "source": [
        "### Palmer Archipelago (Antarctica) penguin dataset"
      ]
    },
    {
      "cell_type": "markdown",
      "metadata": {
        "id": "kaPEosl1gMG7"
      },
      "source": [
        "In this notebook, we make a quick presentation of the Palmer penguins dataset dataset. We can use this dataset for both classification and regression problems by selecting a subset of the features to make our explanations intuitive."
      ]
    },
    {
      "cell_type": "code",
      "execution_count": 31,
      "metadata": {},
      "outputs": [],
      "source": [
        "import pandas as pd\n",
        "\n",
        "penguins = pd.read_csv(r'C:\\Users\\cpop4\\OneDrive - Universitatea Babeş-Bolyai\\Desktop\\MACHINE LEARNING\\ubb-sociology-ml\\penguins_size.csv')"
      ]
    },
    {
      "cell_type": "code",
      "execution_count": 32,
      "metadata": {
        "id": "bh_EmtV1lvft"
      },
      "outputs": [
        {
          "name": "stdout",
          "output_type": "stream",
          "text": [
            "<class 'pandas.core.frame.DataFrame'>\n",
            "RangeIndex: 344 entries, 0 to 343\n",
            "Data columns (total 7 columns):\n",
            " #   Column             Non-Null Count  Dtype  \n",
            "---  ------             --------------  -----  \n",
            " 0   species            344 non-null    object \n",
            " 1   island             344 non-null    object \n",
            " 2   culmen_length_mm   342 non-null    float64\n",
            " 3   culmen_depth_mm    342 non-null    float64\n",
            " 4   flipper_length_mm  342 non-null    float64\n",
            " 5   body_mass_g        342 non-null    float64\n",
            " 6   sex                334 non-null    object \n",
            "dtypes: float64(4), object(3)\n",
            "memory usage: 18.9+ KB\n"
          ]
        }
      ],
      "source": [
        "penguins.info()"
      ]
    },
    {
      "cell_type": "markdown",
      "metadata": {
        "id": "_zz6WewVlxl-"
      },
      "source": [
        "The dataset consists of 7 columns.\n",
        "\n",
        "* **species**: penguin species (Chinstrap, Adélie, or Gentoo)\n",
        "* **island**: island name (Dream, Torgersen, or Biscoe) in the Palmer Archipelago (Antarctica)   \n",
        "* **culmen_length_mm**: culmen length (mm)  \n",
        "* **culmen_depth_mm**: culmen depth (mm)  \n",
        "* **flipper_length_mm**: flipper length (mm)  \n",
        "* **body_mass_g**: body mass (g)  \n",
        "* **sex**: penguin sex  \n",
        "\n",
        "What are culmen length & depth?  \n",
        "The culmen is \"the upper ridge of a bird's beak\"  \n",
        "\n",
        "\n",
        "\n",
        "What are flippers?\n",
        "Penguins wings are called flippers. They are flat, thin, and broad with a long, tapered shape and a blunt, rounded tip."
      ]
    },
    {
      "cell_type": "markdown",
      "metadata": {
        "id": "YvvdXnmqmR0g"
      },
      "source": [
        "## Understanding the data"
      ]
    },
    {
      "cell_type": "code",
      "execution_count": 33,
      "metadata": {},
      "outputs": [
        {
          "data": {
            "text/html": [
              "<div>\n",
              "<style scoped>\n",
              "    .dataframe tbody tr th:only-of-type {\n",
              "        vertical-align: middle;\n",
              "    }\n",
              "\n",
              "    .dataframe tbody tr th {\n",
              "        vertical-align: top;\n",
              "    }\n",
              "\n",
              "    .dataframe thead th {\n",
              "        text-align: right;\n",
              "    }\n",
              "</style>\n",
              "<table border=\"1\" class=\"dataframe\">\n",
              "  <thead>\n",
              "    <tr style=\"text-align: right;\">\n",
              "      <th></th>\n",
              "      <th>species</th>\n",
              "      <th>island</th>\n",
              "      <th>culmen_length_mm</th>\n",
              "      <th>culmen_depth_mm</th>\n",
              "      <th>flipper_length_mm</th>\n",
              "      <th>body_mass_g</th>\n",
              "      <th>sex</th>\n",
              "    </tr>\n",
              "  </thead>\n",
              "  <tbody>\n",
              "    <tr>\n",
              "      <th>0</th>\n",
              "      <td>Adelie</td>\n",
              "      <td>Torgersen</td>\n",
              "      <td>39.1</td>\n",
              "      <td>18.7</td>\n",
              "      <td>181.0</td>\n",
              "      <td>3750.0</td>\n",
              "      <td>MALE</td>\n",
              "    </tr>\n",
              "    <tr>\n",
              "      <th>1</th>\n",
              "      <td>Adelie</td>\n",
              "      <td>Torgersen</td>\n",
              "      <td>39.5</td>\n",
              "      <td>17.4</td>\n",
              "      <td>186.0</td>\n",
              "      <td>3800.0</td>\n",
              "      <td>FEMALE</td>\n",
              "    </tr>\n",
              "    <tr>\n",
              "      <th>2</th>\n",
              "      <td>Adelie</td>\n",
              "      <td>Torgersen</td>\n",
              "      <td>40.3</td>\n",
              "      <td>18.0</td>\n",
              "      <td>195.0</td>\n",
              "      <td>3250.0</td>\n",
              "      <td>FEMALE</td>\n",
              "    </tr>\n",
              "    <tr>\n",
              "      <th>3</th>\n",
              "      <td>Adelie</td>\n",
              "      <td>Torgersen</td>\n",
              "      <td>NaN</td>\n",
              "      <td>NaN</td>\n",
              "      <td>NaN</td>\n",
              "      <td>NaN</td>\n",
              "      <td>NaN</td>\n",
              "    </tr>\n",
              "    <tr>\n",
              "      <th>4</th>\n",
              "      <td>Adelie</td>\n",
              "      <td>Torgersen</td>\n",
              "      <td>36.7</td>\n",
              "      <td>19.3</td>\n",
              "      <td>193.0</td>\n",
              "      <td>3450.0</td>\n",
              "      <td>FEMALE</td>\n",
              "    </tr>\n",
              "    <tr>\n",
              "      <th>...</th>\n",
              "      <td>...</td>\n",
              "      <td>...</td>\n",
              "      <td>...</td>\n",
              "      <td>...</td>\n",
              "      <td>...</td>\n",
              "      <td>...</td>\n",
              "      <td>...</td>\n",
              "    </tr>\n",
              "    <tr>\n",
              "      <th>339</th>\n",
              "      <td>Gentoo</td>\n",
              "      <td>Biscoe</td>\n",
              "      <td>NaN</td>\n",
              "      <td>NaN</td>\n",
              "      <td>NaN</td>\n",
              "      <td>NaN</td>\n",
              "      <td>NaN</td>\n",
              "    </tr>\n",
              "    <tr>\n",
              "      <th>340</th>\n",
              "      <td>Gentoo</td>\n",
              "      <td>Biscoe</td>\n",
              "      <td>46.8</td>\n",
              "      <td>14.3</td>\n",
              "      <td>215.0</td>\n",
              "      <td>4850.0</td>\n",
              "      <td>FEMALE</td>\n",
              "    </tr>\n",
              "    <tr>\n",
              "      <th>341</th>\n",
              "      <td>Gentoo</td>\n",
              "      <td>Biscoe</td>\n",
              "      <td>50.4</td>\n",
              "      <td>15.7</td>\n",
              "      <td>222.0</td>\n",
              "      <td>5750.0</td>\n",
              "      <td>MALE</td>\n",
              "    </tr>\n",
              "    <tr>\n",
              "      <th>342</th>\n",
              "      <td>Gentoo</td>\n",
              "      <td>Biscoe</td>\n",
              "      <td>45.2</td>\n",
              "      <td>14.8</td>\n",
              "      <td>212.0</td>\n",
              "      <td>5200.0</td>\n",
              "      <td>FEMALE</td>\n",
              "    </tr>\n",
              "    <tr>\n",
              "      <th>343</th>\n",
              "      <td>Gentoo</td>\n",
              "      <td>Biscoe</td>\n",
              "      <td>49.9</td>\n",
              "      <td>16.1</td>\n",
              "      <td>213.0</td>\n",
              "      <td>5400.0</td>\n",
              "      <td>MALE</td>\n",
              "    </tr>\n",
              "  </tbody>\n",
              "</table>\n",
              "<p>344 rows × 7 columns</p>\n",
              "</div>"
            ],
            "text/plain": [
              "    species     island  culmen_length_mm  culmen_depth_mm  flipper_length_mm  \\\n",
              "0    Adelie  Torgersen              39.1             18.7              181.0   \n",
              "1    Adelie  Torgersen              39.5             17.4              186.0   \n",
              "2    Adelie  Torgersen              40.3             18.0              195.0   \n",
              "3    Adelie  Torgersen               NaN              NaN                NaN   \n",
              "4    Adelie  Torgersen              36.7             19.3              193.0   \n",
              "..      ...        ...               ...              ...                ...   \n",
              "339  Gentoo     Biscoe               NaN              NaN                NaN   \n",
              "340  Gentoo     Biscoe              46.8             14.3              215.0   \n",
              "341  Gentoo     Biscoe              50.4             15.7              222.0   \n",
              "342  Gentoo     Biscoe              45.2             14.8              212.0   \n",
              "343  Gentoo     Biscoe              49.9             16.1              213.0   \n",
              "\n",
              "     body_mass_g     sex  \n",
              "0         3750.0    MALE  \n",
              "1         3800.0  FEMALE  \n",
              "2         3250.0  FEMALE  \n",
              "3            NaN     NaN  \n",
              "4         3450.0  FEMALE  \n",
              "..           ...     ...  \n",
              "339          NaN     NaN  \n",
              "340       4850.0  FEMALE  \n",
              "341       5750.0    MALE  \n",
              "342       5200.0  FEMALE  \n",
              "343       5400.0    MALE  \n",
              "\n",
              "[344 rows x 7 columns]"
            ]
          },
          "execution_count": 33,
          "metadata": {},
          "output_type": "execute_result"
        }
      ],
      "source": [
        "penguins"
      ]
    },
    {
      "cell_type": "code",
      "execution_count": 34,
      "metadata": {
        "id": "UoRv5LiomS8D"
      },
      "outputs": [
        {
          "data": {
            "text/plain": [
              "(344, 7)"
            ]
          },
          "execution_count": 34,
          "metadata": {},
          "output_type": "execute_result"
        }
      ],
      "source": [
        "# pentru a vedea randuri si coloanele\n",
        "# ce forma au datele \n",
        "# randuri, coloane\n",
        "penguins.shape"
      ]
    },
    {
      "cell_type": "code",
      "execution_count": 35,
      "metadata": {},
      "outputs": [
        {
          "data": {
            "text/html": [
              "<div>\n",
              "<style scoped>\n",
              "    .dataframe tbody tr th:only-of-type {\n",
              "        vertical-align: middle;\n",
              "    }\n",
              "\n",
              "    .dataframe tbody tr th {\n",
              "        vertical-align: top;\n",
              "    }\n",
              "\n",
              "    .dataframe thead th {\n",
              "        text-align: right;\n",
              "    }\n",
              "</style>\n",
              "<table border=\"1\" class=\"dataframe\">\n",
              "  <thead>\n",
              "    <tr style=\"text-align: right;\">\n",
              "      <th></th>\n",
              "      <th>species</th>\n",
              "      <th>island</th>\n",
              "      <th>culmen_length_mm</th>\n",
              "      <th>culmen_depth_mm</th>\n",
              "      <th>flipper_length_mm</th>\n",
              "      <th>body_mass_g</th>\n",
              "      <th>sex</th>\n",
              "    </tr>\n",
              "  </thead>\n",
              "  <tbody>\n",
              "    <tr>\n",
              "      <th>3</th>\n",
              "      <td>Adelie</td>\n",
              "      <td>Torgersen</td>\n",
              "      <td>NaN</td>\n",
              "      <td>NaN</td>\n",
              "      <td>NaN</td>\n",
              "      <td>NaN</td>\n",
              "      <td>NaN</td>\n",
              "    </tr>\n",
              "    <tr>\n",
              "      <th>339</th>\n",
              "      <td>Gentoo</td>\n",
              "      <td>Biscoe</td>\n",
              "      <td>NaN</td>\n",
              "      <td>NaN</td>\n",
              "      <td>NaN</td>\n",
              "      <td>NaN</td>\n",
              "      <td>NaN</td>\n",
              "    </tr>\n",
              "  </tbody>\n",
              "</table>\n",
              "</div>"
            ],
            "text/plain": [
              "    species     island  culmen_length_mm  culmen_depth_mm  flipper_length_mm  \\\n",
              "3    Adelie  Torgersen               NaN              NaN                NaN   \n",
              "339  Gentoo     Biscoe               NaN              NaN                NaN   \n",
              "\n",
              "     body_mass_g  sex  \n",
              "3            NaN  NaN  \n",
              "339          NaN  NaN  "
            ]
          },
          "execution_count": 35,
          "metadata": {},
          "output_type": "execute_result"
        }
      ],
      "source": [
        "penguins[penguins.culmen_length_mm.isna()]"
      ]
    },
    {
      "cell_type": "code",
      "execution_count": 20,
      "metadata": {},
      "outputs": [
        {
          "data": {
            "text/plain": [
              "sex\n",
              "MALE      178\n",
              "FEMALE    165\n",
              ".           1\n",
              "Name: count, dtype: int64"
            ]
          },
          "execution_count": 20,
          "metadata": {},
          "output_type": "execute_result"
        }
      ],
      "source": [
        "penguins.sex.value_counts()"
      ]
    },
    {
      "cell_type": "code",
      "execution_count": 21,
      "metadata": {},
      "outputs": [
        {
          "data": {
            "text/plain": [
              "0      39.1\n",
              "1      39.5\n",
              "2      40.3\n",
              "3      41.1\n",
              "4      36.7\n",
              "       ... \n",
              "339    41.1\n",
              "340    46.8\n",
              "341    50.4\n",
              "342    45.2\n",
              "343    49.9\n",
              "Name: culmen_length_mm, Length: 344, dtype: float64"
            ]
          },
          "execution_count": 21,
          "metadata": {},
          "output_type": "execute_result"
        }
      ],
      "source": [
        "penguins.culmen_length_mm"
      ]
    },
    {
      "cell_type": "code",
      "execution_count": 22,
      "metadata": {},
      "outputs": [
        {
          "data": {
            "text/plain": [
              "culmen_length_mm\n",
              "41.1    9\n",
              "45.2    6\n",
              "39.6    5\n",
              "37.8    5\n",
              "46.5    5\n",
              "       ..\n",
              "41.7    1\n",
              "53.4    1\n",
              "55.1    1\n",
              "48.8    1\n",
              "49.9    1\n",
              "Name: count, Length: 164, dtype: int64"
            ]
          },
          "execution_count": 22,
          "metadata": {},
          "output_type": "execute_result"
        }
      ],
      "source": [
        "penguins.culmen_length_mm.value_counts()"
      ]
    },
    {
      "cell_type": "markdown",
      "metadata": {
        "id": "xzb4wX3smv5w"
      },
      "source": [
        "#### Missing values"
      ]
    },
    {
      "cell_type": "code",
      "execution_count": 14,
      "metadata": {
        "id": "rzx7_nv_nM54"
      },
      "outputs": [],
      "source": [
        "missing_values = penguins.isnull().sum()"
      ]
    },
    {
      "cell_type": "code",
      "execution_count": 9,
      "metadata": {
        "id": "Mws-BXXvnO5C"
      },
      "outputs": [
        {
          "data": {
            "text/plain": [
              "species               0\n",
              "island                0\n",
              "culmen_length_mm      2\n",
              "culmen_depth_mm       2\n",
              "flipper_length_mm     2\n",
              "body_mass_g           2\n",
              "sex                  10\n",
              "dtype: int64"
            ]
          },
          "execution_count": 9,
          "metadata": {},
          "output_type": "execute_result"
        }
      ],
      "source": [
        "missing_values"
      ]
    },
    {
      "cell_type": "code",
      "execution_count": 15,
      "metadata": {},
      "outputs": [],
      "source": [
        "# CAND AVEM VARIABILA CU VALORI LIPSA\n",
        "# Nu putem da calc cu none = eroare\n",
        "## CE PUTEM FACE?\n",
        "###  MEDIA \n",
        "# ca in exemplul urmator "
      ]
    },
    {
      "cell_type": "code",
      "execution_count": 42,
      "metadata": {
        "id": "_-6TFwoqnaL3"
      },
      "outputs": [],
      "source": [
        "# Handling missing values\n",
        "from sklearn.impute import SimpleImputer\n",
        "# Replace missing values using a descriptive statistic (e.g. mean, median, or most frequent) along each column, or using a constant value.\n",
        "imputer = SimpleImputer(strategy='most_frequent')# strategy can also be mean or median\n",
        "penguins.iloc[:,:] = imputer.fit_transform(penguins)\n",
        "\n",
        "# MEAN \n",
        "# MEDIAN - in mijloc\n",
        "# MODE - val care apare de cele mai multe ori "
      ]
    },
    {
      "cell_type": "code",
      "execution_count": 43,
      "metadata": {},
      "outputs": [
        {
          "data": {
            "text/html": [
              "<div>\n",
              "<style scoped>\n",
              "    .dataframe tbody tr th:only-of-type {\n",
              "        vertical-align: middle;\n",
              "    }\n",
              "\n",
              "    .dataframe tbody tr th {\n",
              "        vertical-align: top;\n",
              "    }\n",
              "\n",
              "    .dataframe thead th {\n",
              "        text-align: right;\n",
              "    }\n",
              "</style>\n",
              "<table border=\"1\" class=\"dataframe\">\n",
              "  <thead>\n",
              "    <tr style=\"text-align: right;\">\n",
              "      <th></th>\n",
              "      <th>species</th>\n",
              "      <th>island</th>\n",
              "      <th>culmen_length_mm</th>\n",
              "      <th>culmen_depth_mm</th>\n",
              "      <th>flipper_length_mm</th>\n",
              "      <th>body_mass_g</th>\n",
              "      <th>sex</th>\n",
              "    </tr>\n",
              "  </thead>\n",
              "  <tbody>\n",
              "    <tr>\n",
              "      <th>0</th>\n",
              "      <td>Adelie</td>\n",
              "      <td>Torgersen</td>\n",
              "      <td>39.1</td>\n",
              "      <td>18.7</td>\n",
              "      <td>181.0</td>\n",
              "      <td>3750.0</td>\n",
              "      <td>MALE</td>\n",
              "    </tr>\n",
              "    <tr>\n",
              "      <th>1</th>\n",
              "      <td>Adelie</td>\n",
              "      <td>Torgersen</td>\n",
              "      <td>39.5</td>\n",
              "      <td>17.4</td>\n",
              "      <td>186.0</td>\n",
              "      <td>3800.0</td>\n",
              "      <td>FEMALE</td>\n",
              "    </tr>\n",
              "    <tr>\n",
              "      <th>2</th>\n",
              "      <td>Adelie</td>\n",
              "      <td>Torgersen</td>\n",
              "      <td>40.3</td>\n",
              "      <td>18.0</td>\n",
              "      <td>195.0</td>\n",
              "      <td>3250.0</td>\n",
              "      <td>FEMALE</td>\n",
              "    </tr>\n",
              "    <tr>\n",
              "      <th>3</th>\n",
              "      <td>Adelie</td>\n",
              "      <td>Torgersen</td>\n",
              "      <td>41.1</td>\n",
              "      <td>17.0</td>\n",
              "      <td>190.0</td>\n",
              "      <td>3800.0</td>\n",
              "      <td>MALE</td>\n",
              "    </tr>\n",
              "    <tr>\n",
              "      <th>4</th>\n",
              "      <td>Adelie</td>\n",
              "      <td>Torgersen</td>\n",
              "      <td>36.7</td>\n",
              "      <td>19.3</td>\n",
              "      <td>193.0</td>\n",
              "      <td>3450.0</td>\n",
              "      <td>FEMALE</td>\n",
              "    </tr>\n",
              "    <tr>\n",
              "      <th>...</th>\n",
              "      <td>...</td>\n",
              "      <td>...</td>\n",
              "      <td>...</td>\n",
              "      <td>...</td>\n",
              "      <td>...</td>\n",
              "      <td>...</td>\n",
              "      <td>...</td>\n",
              "    </tr>\n",
              "    <tr>\n",
              "      <th>339</th>\n",
              "      <td>Gentoo</td>\n",
              "      <td>Biscoe</td>\n",
              "      <td>41.1</td>\n",
              "      <td>17.0</td>\n",
              "      <td>190.0</td>\n",
              "      <td>3800.0</td>\n",
              "      <td>MALE</td>\n",
              "    </tr>\n",
              "    <tr>\n",
              "      <th>340</th>\n",
              "      <td>Gentoo</td>\n",
              "      <td>Biscoe</td>\n",
              "      <td>46.8</td>\n",
              "      <td>14.3</td>\n",
              "      <td>215.0</td>\n",
              "      <td>4850.0</td>\n",
              "      <td>FEMALE</td>\n",
              "    </tr>\n",
              "    <tr>\n",
              "      <th>341</th>\n",
              "      <td>Gentoo</td>\n",
              "      <td>Biscoe</td>\n",
              "      <td>50.4</td>\n",
              "      <td>15.7</td>\n",
              "      <td>222.0</td>\n",
              "      <td>5750.0</td>\n",
              "      <td>MALE</td>\n",
              "    </tr>\n",
              "    <tr>\n",
              "      <th>342</th>\n",
              "      <td>Gentoo</td>\n",
              "      <td>Biscoe</td>\n",
              "      <td>45.2</td>\n",
              "      <td>14.8</td>\n",
              "      <td>212.0</td>\n",
              "      <td>5200.0</td>\n",
              "      <td>FEMALE</td>\n",
              "    </tr>\n",
              "    <tr>\n",
              "      <th>343</th>\n",
              "      <td>Gentoo</td>\n",
              "      <td>Biscoe</td>\n",
              "      <td>49.9</td>\n",
              "      <td>16.1</td>\n",
              "      <td>213.0</td>\n",
              "      <td>5400.0</td>\n",
              "      <td>MALE</td>\n",
              "    </tr>\n",
              "  </tbody>\n",
              "</table>\n",
              "<p>344 rows × 7 columns</p>\n",
              "</div>"
            ],
            "text/plain": [
              "    species     island  culmen_length_mm  culmen_depth_mm  flipper_length_mm  \\\n",
              "0    Adelie  Torgersen              39.1             18.7              181.0   \n",
              "1    Adelie  Torgersen              39.5             17.4              186.0   \n",
              "2    Adelie  Torgersen              40.3             18.0              195.0   \n",
              "3    Adelie  Torgersen              41.1             17.0              190.0   \n",
              "4    Adelie  Torgersen              36.7             19.3              193.0   \n",
              "..      ...        ...               ...              ...                ...   \n",
              "339  Gentoo     Biscoe              41.1             17.0              190.0   \n",
              "340  Gentoo     Biscoe              46.8             14.3              215.0   \n",
              "341  Gentoo     Biscoe              50.4             15.7              222.0   \n",
              "342  Gentoo     Biscoe              45.2             14.8              212.0   \n",
              "343  Gentoo     Biscoe              49.9             16.1              213.0   \n",
              "\n",
              "     body_mass_g     sex  \n",
              "0         3750.0    MALE  \n",
              "1         3800.0  FEMALE  \n",
              "2         3250.0  FEMALE  \n",
              "3         3800.0    MALE  \n",
              "4         3450.0  FEMALE  \n",
              "..           ...     ...  \n",
              "339       3800.0    MALE  \n",
              "340       4850.0  FEMALE  \n",
              "341       5750.0    MALE  \n",
              "342       5200.0  FEMALE  \n",
              "343       5400.0    MALE  \n",
              "\n",
              "[344 rows x 7 columns]"
            ]
          },
          "execution_count": 43,
          "metadata": {},
          "output_type": "execute_result"
        }
      ],
      "source": [
        "penguins"
      ]
    },
    {
      "cell_type": "code",
      "execution_count": 44,
      "metadata": {},
      "outputs": [
        {
          "data": {
            "text/plain": [
              "species              0\n",
              "island               0\n",
              "culmen_length_mm     0\n",
              "culmen_depth_mm      0\n",
              "flipper_length_mm    0\n",
              "body_mass_g          0\n",
              "sex                  0\n",
              "dtype: int64"
            ]
          },
          "execution_count": 44,
          "metadata": {},
          "output_type": "execute_result"
        }
      ],
      "source": [
        "missing_values"
      ]
    },
    {
      "cell_type": "code",
      "execution_count": 45,
      "metadata": {
        "id": "Q-W9f7ujnqlj"
      },
      "outputs": [
        {
          "data": {
            "text/plain": [
              "species              0\n",
              "island               0\n",
              "culmen_length_mm     0\n",
              "culmen_depth_mm      0\n",
              "flipper_length_mm    0\n",
              "body_mass_g          0\n",
              "sex                  0\n",
              "dtype: int64"
            ]
          },
          "execution_count": 45,
          "metadata": {},
          "output_type": "execute_result"
        }
      ],
      "source": [
        "penguins.isnull().sum()"
      ]
    },
    {
      "cell_type": "markdown",
      "metadata": {
        "id": "IfQ7VG7wn3jV"
      },
      "source": [
        "#### Convert sex column to integer values"
      ]
    },
    {
      "cell_type": "code",
      "execution_count": 46,
      "metadata": {
        "id": "n8L2zEOl37HM"
      },
      "outputs": [
        {
          "data": {
            "text/plain": [
              "0      MALE\n",
              "1    FEMALE\n",
              "2    FEMALE\n",
              "3      MALE\n",
              "4    FEMALE\n",
              "Name: sex, dtype: object"
            ]
          },
          "execution_count": 46,
          "metadata": {},
          "output_type": "execute_result"
        }
      ],
      "source": [
        "penguins['sex'][:5]"
      ]
    },
    {
      "cell_type": "code",
      "execution_count": 47,
      "metadata": {
        "id": "XJ-JDENv4Izy"
      },
      "outputs": [
        {
          "data": {
            "text/plain": [
              "array(['MALE', 'FEMALE', '.'], dtype=object)"
            ]
          },
          "execution_count": 47,
          "metadata": {},
          "output_type": "execute_result"
        }
      ],
      "source": [
        "penguins['sex'].unique()"
      ]
    },
    {
      "cell_type": "code",
      "execution_count": 48,
      "metadata": {
        "colab": {
          "base_uri": "https://localhost:8080/"
        },
        "id": "LUWFNmYCnwPN",
        "outputId": "8a7ca29a-9505-4a9b-d86f-5e36c022670b"
      },
      "outputs": [
        {
          "data": {
            "text/plain": [
              "0    2\n",
              "1    1\n",
              "2    1\n",
              "3    2\n",
              "4    1\n",
              "Name: sex, dtype: int64"
            ]
          },
          "execution_count": 48,
          "metadata": {},
          "output_type": "execute_result"
        }
      ],
      "source": [
        "# Encode target labels with value between 0 and n_labels-1.\n",
        "from sklearn.preprocessing import LabelEncoder\n",
        "label_encoder = LabelEncoder()\n",
        "penguins[\"sex\"] = label_encoder.fit_transform(penguins[\"sex\"])\n",
        "penguins['sex'][:5]"
      ]
    },
    {
      "cell_type": "code",
      "execution_count": 49,
      "metadata": {},
      "outputs": [],
      "source": [
        "#avem o valoare . la sex \n",
        "#trebuie sa o stergem\n"
      ]
    },
    {
      "cell_type": "code",
      "execution_count": 50,
      "metadata": {},
      "outputs": [
        {
          "data": {
            "text/html": [
              "<div>\n",
              "<style scoped>\n",
              "    .dataframe tbody tr th:only-of-type {\n",
              "        vertical-align: middle;\n",
              "    }\n",
              "\n",
              "    .dataframe tbody tr th {\n",
              "        vertical-align: top;\n",
              "    }\n",
              "\n",
              "    .dataframe thead th {\n",
              "        text-align: right;\n",
              "    }\n",
              "</style>\n",
              "<table border=\"1\" class=\"dataframe\">\n",
              "  <thead>\n",
              "    <tr style=\"text-align: right;\">\n",
              "      <th></th>\n",
              "      <th>species</th>\n",
              "      <th>island</th>\n",
              "      <th>culmen_length_mm</th>\n",
              "      <th>culmen_depth_mm</th>\n",
              "      <th>flipper_length_mm</th>\n",
              "      <th>body_mass_g</th>\n",
              "      <th>sex</th>\n",
              "    </tr>\n",
              "  </thead>\n",
              "  <tbody>\n",
              "  </tbody>\n",
              "</table>\n",
              "</div>"
            ],
            "text/plain": [
              "Empty DataFrame\n",
              "Columns: [species, island, culmen_length_mm, culmen_depth_mm, flipper_length_mm, body_mass_g, sex]\n",
              "Index: []"
            ]
          },
          "execution_count": 50,
          "metadata": {},
          "output_type": "execute_result"
        }
      ],
      "source": [
        "penguins[penguins.sex=='.']"
      ]
    },
    {
      "cell_type": "code",
      "execution_count": 51,
      "metadata": {},
      "outputs": [
        {
          "data": {
            "text/plain": [
              "sex\n",
              "2    178\n",
              "1    165\n",
              "0      1\n",
              "Name: count, dtype: int64"
            ]
          },
          "execution_count": 51,
          "metadata": {},
          "output_type": "execute_result"
        }
      ],
      "source": [
        "penguins.sex.value_counts()"
      ]
    },
    {
      "cell_type": "markdown",
      "metadata": {
        "id": "8Zn2IIyQoNDE"
      },
      "source": [
        "#### Analysing data visually"
      ]
    },
    {
      "cell_type": "markdown",
      "metadata": {
        "id": "iEZ2XsMBoQfO"
      },
      "source": [
        "Number of Species"
      ]
    },
    {
      "cell_type": "code",
      "execution_count": 52,
      "metadata": {
        "id": "1TNYCP2uoS0f"
      },
      "outputs": [
        {
          "data": {
            "text/plain": [
              "species\n",
              "Adelie       152\n",
              "Gentoo       124\n",
              "Chinstrap     68\n",
              "Name: count, dtype: int64"
            ]
          },
          "execution_count": 52,
          "metadata": {},
          "output_type": "execute_result"
        }
      ],
      "source": [
        "penguins['species'].value_counts()"
      ]
    },
    {
      "cell_type": "markdown",
      "metadata": {
        "id": "WuQEPl2JoZB3"
      },
      "source": [
        "The penguins dataset has different number of samples for each species."
      ]
    },
    {
      "cell_type": "markdown",
      "metadata": {
        "id": "yYkUD7Gkokxj"
      },
      "source": [
        "Scatterplot  \n",
        "The scatter plot which shows us the correlation with respect to other features.   This method helps just to figure out the important features which account the most for the classification in our model."
      ]
    },
    {
      "cell_type": "code",
      "execution_count": 38,
      "metadata": {
        "id": "JHrvvRjrrcoi"
      },
      "outputs": [
        {
          "name": "stdout",
          "output_type": "stream",
          "text": [
            "Defaulting to user installation because normal site-packages is not writeable\n",
            "Collecting plotnine\n",
            "  Downloading plotnine-0.14.5-py3-none-any.whl.metadata (9.3 kB)\n",
            "Requirement already satisfied: matplotlib>=3.8.0 in c:\\users\\cpop4\\appdata\\local\\packages\\pythonsoftwarefoundation.python.3.13_qbz5n2kfra8p0\\localcache\\local-packages\\python313\\site-packages (from plotnine) (3.9.3)\n",
            "Requirement already satisfied: pandas>=2.2.0 in c:\\users\\cpop4\\appdata\\local\\packages\\pythonsoftwarefoundation.python.3.13_qbz5n2kfra8p0\\localcache\\local-packages\\python313\\site-packages (from plotnine) (2.2.3)\n",
            "Collecting mizani~=0.13.0 (from plotnine)\n",
            "  Downloading mizani-0.13.1-py3-none-any.whl.metadata (4.7 kB)\n",
            "Requirement already satisfied: numpy>=1.23.5 in c:\\users\\cpop4\\appdata\\local\\packages\\pythonsoftwarefoundation.python.3.13_qbz5n2kfra8p0\\localcache\\local-packages\\python313\\site-packages (from plotnine) (2.1.3)\n",
            "Requirement already satisfied: scipy>=1.8.0 in c:\\users\\cpop4\\appdata\\local\\packages\\pythonsoftwarefoundation.python.3.13_qbz5n2kfra8p0\\localcache\\local-packages\\python313\\site-packages (from plotnine) (1.14.1)\n",
            "Requirement already satisfied: statsmodels>=0.14.0 in c:\\users\\cpop4\\appdata\\local\\packages\\pythonsoftwarefoundation.python.3.13_qbz5n2kfra8p0\\localcache\\local-packages\\python313\\site-packages (from plotnine) (0.14.4)\n",
            "Requirement already satisfied: contourpy>=1.0.1 in c:\\users\\cpop4\\appdata\\local\\packages\\pythonsoftwarefoundation.python.3.13_qbz5n2kfra8p0\\localcache\\local-packages\\python313\\site-packages (from matplotlib>=3.8.0->plotnine) (1.3.1)\n",
            "Requirement already satisfied: cycler>=0.10 in c:\\users\\cpop4\\appdata\\local\\packages\\pythonsoftwarefoundation.python.3.13_qbz5n2kfra8p0\\localcache\\local-packages\\python313\\site-packages (from matplotlib>=3.8.0->plotnine) (0.12.1)\n",
            "Requirement already satisfied: fonttools>=4.22.0 in c:\\users\\cpop4\\appdata\\local\\packages\\pythonsoftwarefoundation.python.3.13_qbz5n2kfra8p0\\localcache\\local-packages\\python313\\site-packages (from matplotlib>=3.8.0->plotnine) (4.55.2)\n",
            "Requirement already satisfied: kiwisolver>=1.3.1 in c:\\users\\cpop4\\appdata\\local\\packages\\pythonsoftwarefoundation.python.3.13_qbz5n2kfra8p0\\localcache\\local-packages\\python313\\site-packages (from matplotlib>=3.8.0->plotnine) (1.4.7)\n",
            "Requirement already satisfied: packaging>=20.0 in c:\\users\\cpop4\\appdata\\local\\packages\\pythonsoftwarefoundation.python.3.13_qbz5n2kfra8p0\\localcache\\local-packages\\python313\\site-packages (from matplotlib>=3.8.0->plotnine) (24.2)\n",
            "Requirement already satisfied: pillow>=8 in c:\\users\\cpop4\\appdata\\local\\packages\\pythonsoftwarefoundation.python.3.13_qbz5n2kfra8p0\\localcache\\local-packages\\python313\\site-packages (from matplotlib>=3.8.0->plotnine) (11.0.0)\n",
            "Requirement already satisfied: pyparsing>=2.3.1 in c:\\users\\cpop4\\appdata\\local\\packages\\pythonsoftwarefoundation.python.3.13_qbz5n2kfra8p0\\localcache\\local-packages\\python313\\site-packages (from matplotlib>=3.8.0->plotnine) (3.2.0)\n",
            "Requirement already satisfied: python-dateutil>=2.7 in c:\\users\\cpop4\\appdata\\local\\packages\\pythonsoftwarefoundation.python.3.13_qbz5n2kfra8p0\\localcache\\local-packages\\python313\\site-packages (from matplotlib>=3.8.0->plotnine) (2.9.0.post0)\n",
            "Requirement already satisfied: tzdata in c:\\users\\cpop4\\appdata\\local\\packages\\pythonsoftwarefoundation.python.3.13_qbz5n2kfra8p0\\localcache\\local-packages\\python313\\site-packages (from mizani~=0.13.0->plotnine) (2024.2)\n",
            "Requirement already satisfied: pytz>=2020.1 in c:\\users\\cpop4\\appdata\\local\\packages\\pythonsoftwarefoundation.python.3.13_qbz5n2kfra8p0\\localcache\\local-packages\\python313\\site-packages (from pandas>=2.2.0->plotnine) (2024.2)\n",
            "Requirement already satisfied: patsy>=0.5.6 in c:\\users\\cpop4\\appdata\\local\\packages\\pythonsoftwarefoundation.python.3.13_qbz5n2kfra8p0\\localcache\\local-packages\\python313\\site-packages (from statsmodels>=0.14.0->plotnine) (1.0.1)\n",
            "Requirement already satisfied: six>=1.5 in c:\\users\\cpop4\\appdata\\local\\packages\\pythonsoftwarefoundation.python.3.13_qbz5n2kfra8p0\\localcache\\local-packages\\python313\\site-packages (from python-dateutil>=2.7->matplotlib>=3.8.0->plotnine) (1.16.0)\n",
            "Downloading plotnine-0.14.5-py3-none-any.whl (1.3 MB)\n",
            "   ---------------------------------------- 0.0/1.3 MB ? eta -:--:--\n",
            "   ------------------------ --------------- 0.8/1.3 MB 5.1 MB/s eta 0:00:01\n",
            "   ---------------------------------------- 1.3/1.3 MB 5.0 MB/s eta 0:00:00\n",
            "Downloading mizani-0.13.1-py3-none-any.whl (127 kB)\n",
            "Installing collected packages: mizani, plotnine\n",
            "Successfully installed mizani-0.13.1 plotnine-0.14.5\n"
          ]
        }
      ],
      "source": [
        "!pip install plotnine"
      ]
    },
    {
      "cell_type": "code",
      "execution_count": 39,
      "metadata": {
        "id": "Du7B-lYMsoJt"
      },
      "outputs": [
        {
          "name": "stderr",
          "output_type": "stream",
          "text": [
            "C:\\Users\\cpop4\\AppData\\Local\\Packages\\PythonSoftwareFoundation.Python.3.13_qbz5n2kfra8p0\\LocalCache\\local-packages\\Python313\\site-packages\\plotnine\\layer.py:364: PlotnineWarning: geom_point : Removed 2 rows containing missing values.\n"
          ]
        },
        {
          "data": {
            "image/png": "[encoded data removed]",
            "text/plain": [
              "<Figure size 640x480 with 1 Axes>"
            ]
          },
          "execution_count": 39,
          "metadata": {},
          "output_type": "execute_result"
        }
      ],
      "source": [
        "from plotnine import *\n",
        "\n",
        "# Creating the ggplot\n",
        "plot = (\n",
        "    ggplot(penguins, aes(x='flipper_length_mm', y='body_mass_g', color='species', shape='species')) +\n",
        "    geom_point(size=3, alpha=0.8) +\n",
        "    scale_color_manual(values=[\"darkorange\", \"purple\", \"cyan\"]) +\n",
        "    labs(\n",
        "        title=\"Penguins\",\n",
        "        subtitle=\"Flipper length and body mass for Adelie, Chinstrap and Gentoo Penguins\",\n",
        "        x=\"Flipper length (mm)\",\n",
        "        y=\"Body mass (g)\",\n",
        "        color=\"Penguin species\",\n",
        "        shape=\"Penguin species\"\n",
        "    ) +\n",
        "    theme_minimal()\n",
        ")\n",
        "\n",
        "# Show the plot\n",
        "plot.draw()"
      ]
    },
    {
      "cell_type": "markdown",
      "metadata": {
        "id": "lpZCP1rkga-P"
      },
      "source": [
        "## Classification dataset"
      ]
    },
    {
      "cell_type": "markdown",
      "metadata": {
        "id": "kSTojpWGghLe"
      },
      "source": [
        "We use this dataset in classification setting to predict the penguins’ species from anatomical information.   \n",
        "([Thanks to Inria Machine Learning Concepts](https://inria.github.io/scikit-learn-mooc/python_scripts/trees_dataset.html)).\n",
        "\n",
        "Each penguin is from one of the three following species: Adelie, Gentoo, and Chinstrap."
      ]
    },
    {
      "cell_type": "markdown",
      "metadata": {
        "id": "YbxIoXgvglyy"
      },
      "source": [
        "This problem is a classification problem since the target is categorical. We limit our input data to a subset of the original features to simplify our explanations when presenting the decision tree algorithm. Indeed, we use features based on penguins’ culmen measurement."
      ]
    },
    {
      "cell_type": "markdown",
      "metadata": {
        "id": "lT3yhJJTgo3k"
      },
      "source": [
        "We start by loading this subset of the dataset."
      ]
    },
    {
      "cell_type": "code",
      "execution_count": null,
      "metadata": {
        "id": "t8c50ux3iKBH"
      },
      "outputs": [],
      "source": [
        "penguins.head()"
      ]
    },
    {
      "cell_type": "code",
      "execution_count": null,
      "metadata": {
        "id": "16XlzNi9iMUz"
      },
      "outputs": [],
      "source": [
        "culmen_columns = ['culmen_length_mm', 'culmen_depth_mm']\n",
        "target_column = ['species']\n",
        "\n",
        "columns_classification = culmen_columns + target_column"
      ]
    },
    {
      "cell_type": "code",
      "execution_count": null,
      "metadata": {
        "id": "wEFBP7rhjv19"
      },
      "outputs": [],
      "source": [
        "columns_classification"
      ]
    },
    {
      "cell_type": "markdown",
      "metadata": {
        "id": "2ZM-IhOaiRlF"
      },
      "source": [
        "Subset the dataframe."
      ]
    },
    {
      "cell_type": "code",
      "execution_count": null,
      "metadata": {
        "id": "AVEhvcH_htHW"
      },
      "outputs": [],
      "source": [
        "penguins_classification = penguins[[column for column in penguins.columns if column in columns_classification]]"
      ]
    },
    {
      "cell_type": "markdown",
      "metadata": {
        "id": "X78sjGdfhYxe"
      },
      "source": [
        "Let’s check the dataset more into details."
      ]
    },
    {
      "cell_type": "code",
      "execution_count": null,
      "metadata": {
        "id": "f9EylFMKjNzd"
      },
      "outputs": [],
      "source": [
        "penguins_classification.head()"
      ]
    },
    {
      "cell_type": "markdown",
      "metadata": {
        "id": "NBu2M_gCh91r"
      },
      "source": [
        "Since that we have few samples, we can check a scatter plot to observe the samples distribution."
      ]
    },
    {
      "cell_type": "code",
      "execution_count": null,
      "metadata": {
        "id": "y8DrhSFfuqdY"
      },
      "outputs": [],
      "source": [
        "import seaborn as sns\n",
        "\n",
        "pairplot_figure = sns.pairplot(penguins_classification, hue=\"species\")\n",
        "pairplot_figure.fig.set_size_inches(9, 6.5)"
      ]
    },
    {
      "cell_type": "markdown",
      "metadata": {
        "id": "HfJwi1428XyY"
      },
      "source": [
        "First let’s check the feature distributions by looking at the diagonal plots of the pairplot. We can deduce the following intuitions:  \n",
        "\n",
        "* The Adelie species can be differentiated from the Gentoo and Chinstrap species depending on the culmen length;  \n",
        "\n",
        "* The Gentoo species can be differentiated from the Adelie and Chinstrap species depending on the culmen depth.  "
      ]
    },
    {
      "cell_type": "markdown",
      "metadata": {
        "id": "RpF4JvJPk98t"
      },
      "source": [
        "## Regression dataset"
      ]
    },
    {
      "cell_type": "markdown",
      "metadata": {
        "id": "dtRjhn21lAh0"
      },
      "source": [
        "In a regression setting, the target is a continuous variable instead of categories. Here, we use two features of the dataset to make such a problem: the flipper length and culmen length iare used as features and the body mass as the target. In short, we want to predict the body mass using the flipper and culmen length.\n",
        "\n",
        "We load the dataset and visualize the relationship between the flipper length and the body mass of penguins."
      ]
    },
    {
      "cell_type": "code",
      "execution_count": null,
      "metadata": {
        "id": "2WtFkIP-hc9G"
      },
      "outputs": [],
      "source": [
        "feature_name_1 = 'flipper_length_mm'\n",
        "target_column = 'body_mass_g'"
      ]
    },
    {
      "cell_type": "code",
      "execution_count": null,
      "metadata": {
        "id": "No4GvForlKiX"
      },
      "outputs": [],
      "source": [
        "import seaborn as sns\n",
        "scatterplot_figure = sns.scatterplot(data=penguins, x=feature_name_1, y=target_column)"
      ]
    },
    {
      "cell_type": "markdown",
      "metadata": {
        "id": "tk3Eg-zklWSh"
      },
      "source": [
        "Here, we deal with a regression problem because our target is a continuous variable ranging from 2.7 kg to 6.3 kg. From the scatter plot above, we observe that we have a linear relationship between the flipper length and the body mass. The longer the flipper of a penguin, the heavier the penguin."
      ]
    },
    {
      "cell_type": "code",
      "execution_count": null,
      "metadata": {
        "id": "4IF5pArslf9E"
      },
      "outputs": [],
      "source": [
        "feature_name_2 = 'culmen_length_mm'\n",
        "target_column = 'body_mass_g'"
      ]
    },
    {
      "cell_type": "code",
      "execution_count": null,
      "metadata": {
        "id": "E4cWJ1VBxXmB"
      },
      "outputs": [],
      "source": [
        "_ = sns.scatterplot(data=penguins, x=feature_name_2, y=target_column)"
      ]
    },
    {
      "cell_type": "code",
      "execution_count": null,
      "metadata": {
        "id": "7JUTQrbAxZjw"
      },
      "outputs": [],
      "source": [
        "feature_columns = [feature_name_1, feature_name_2]\n",
        "target_column = ['body_mass_g']\n",
        "\n",
        "columns_regression = feature_columns + target_column"
      ]
    },
    {
      "cell_type": "code",
      "execution_count": null,
      "metadata": {
        "id": "kTM4S-hpyYky"
      },
      "outputs": [],
      "source": [
        "penguins_regression = penguins[[column for column in penguins.columns if column in columns_regression]]"
      ]
    },
    {
      "cell_type": "code",
      "execution_count": null,
      "metadata": {
        "id": "rU1kD1tYykti"
      },
      "outputs": [],
      "source": [
        "penguins_regression.head()"
      ]
    },
    {
      "cell_type": "markdown",
      "metadata": {
        "id": "La1GlhLST9Pu"
      },
      "source": [
        "#### Lasso regression"
      ]
    },
    {
      "cell_type": "code",
      "execution_count": null,
      "metadata": {
        "id": "rtaFVsjlymTW"
      },
      "outputs": [],
      "source": [
        "import pandas as pd\n",
        "from sklearn.model_selection import train_test_split\n",
        "from sklearn.linear_model import Lasso\n",
        "from sklearn.preprocessing import StandardScaler\n",
        "from sklearn.metrics import mean_squared_error\n",
        "import matplotlib.pyplot as plt\n",
        "\n",
        "# Select relevant columns\n",
        "data = penguins_regression\n",
        "\n",
        "# Drop rows with missing values\n",
        "data = data.dropna()\n",
        "\n",
        "# Split the data into features (X) and target variable (y)\n",
        "X = data[['flipper_length_mm', 'culmen_length_mm']]\n",
        "y = data['body_mass_g']\n",
        "\n",
        "# Split the data into training and testing sets\n",
        "X_train, X_test, y_train, y_test = train_test_split(X, y, test_size=0.2, shuffle = False, random_state=42)\n",
        "\n",
        "# Standardize the features\n",
        "# Compare the effect of different scalers on data with outliers:\n",
        "# # https://scikit-learn.org/stable/auto_examples/preprocessing/plot_all_scaling.html#plot-all-scaling-standard-scaler-section\n",
        "scaler = StandardScaler()\n",
        "X_train_scaled = scaler.fit_transform(X_train)\n",
        "X_test_scaled = scaler.transform(X_test)\n",
        "\n",
        "# Create and train the Lasso regression model\n",
        "alpha = 0  # regularization strength (adjust as needed)\n",
        "max_iter = 10  # specify the maximum number of iterations\n",
        "lasso_model = Lasso(alpha=alpha, max_iter=max_iter)\n",
        "lasso_model.fit(X_train_scaled, y_train)\n",
        "\n",
        "# Make predictions on the test set\n",
        "y_pred = lasso_model.predict(X_test_scaled)\n",
        "\n",
        "# Evaluate the model\n",
        "mse = mean_squared_error(y_test, y_pred)\n",
        "print(f'Mean Squared Error: {mse}')"
      ]
    },
    {
      "cell_type": "markdown",
      "metadata": {
        "id": "3NNlR5NP0fLT"
      },
      "source": [
        "Get Lasso coefficients"
      ]
    },
    {
      "cell_type": "code",
      "execution_count": null,
      "metadata": {
        "id": "ASotw3-czOG_"
      },
      "outputs": [],
      "source": [
        "# Get Lasso coefficients\n",
        "coefficients = lasso_model.coef_\n",
        "intercept = lasso_model.intercept_\n",
        "\n",
        "# Display coefficients\n",
        "print(\"Intercept:\", intercept)\n",
        "print(\"Coefficients:\", coefficients)"
      ]
    },
    {
      "cell_type": "markdown",
      "metadata": {
        "id": "ldJF4sYJ00I7"
      },
      "source": [
        "Does it overfit?"
      ]
    },
    {
      "cell_type": "code",
      "execution_count": null,
      "metadata": {
        "id": "L-gtdxw-0hjQ"
      },
      "outputs": [],
      "source": [
        "# Make predictions on both training and testing sets\n",
        "y_train_pred = lasso_model.predict(X_train_scaled)\n",
        "y_test_pred = lasso_model.predict(X_test_scaled)\n",
        "\n",
        "# Evaluate the model on both sets\n",
        "mse_train = mean_squared_error(y_train, y_train_pred)\n",
        "mse_test = mean_squared_error(y_test, y_test_pred)\n",
        "\n",
        "# Display Mean Squared Errors\n",
        "print(f'Training MSE: {mse_train}')\n",
        "print(f'Testing MSE: {mse_test}')"
      ]
    },
    {
      "cell_type": "code",
      "execution_count": null,
      "metadata": {
        "id": "39akjFgJ8_fU"
      },
      "outputs": [],
      "source": [
        "plt.figure(figsize=(10,10))\n",
        "plt.scatter(y_test, y_test_pred, c='crimson')\n",
        "plt.yscale('log')\n",
        "plt.xscale('log')\n",
        "\n",
        "p1 = max(max(y_test_pred), max(y_test))\n",
        "p2 = min(min(y_test_pred), min(y_test))\n",
        "plt.plot([p1, p2], [p1, p2], 'b-')\n",
        "plt.xlabel('True Values', fontsize=15)\n",
        "plt.ylabel('Predictions', fontsize=15)\n",
        "plt.title('Lasso Regression for Penguin Body Mass Prediction')\n",
        "plt.axis('equal')\n",
        "plt.show()"
      ]
    },
    {
      "cell_type": "code",
      "execution_count": null,
      "metadata": {
        "id": "sdPSs7j9_1_F"
      },
      "outputs": [],
      "source": [
        "y_test[:10]"
      ]
    },
    {
      "cell_type": "code",
      "execution_count": null,
      "metadata": {
        "id": "i9M_RUDV_2yQ"
      },
      "outputs": [],
      "source": [
        "y_test_pred[:10]"
      ]
    },
    {
      "cell_type": "code",
      "execution_count": null,
      "metadata": {
        "id": "PcLVB0BgAMjH"
      },
      "outputs": [],
      "source": []
    }
  ],
  "metadata": {
    "colab": {
      "collapsed_sections": [
        "giyHB5-ZfgDY",
        "YvvdXnmqmR0g",
        "IfQ7VG7wn3jV",
        "8Zn2IIyQoNDE",
        "lpZCP1rkga-P",
        "RpF4JvJPk98t",
        "La1GlhLST9Pu"
      ],
      "provenance": []
    },
    "kernelspec": {
      "display_name": "Python 3",
      "name": "python3"
    },
    "language_info": {
      "codemirror_mode": {
        "name": "ipython",
        "version": 3
      },
      "file_extension": ".py",
      "mimetype": "text/x-python",
      "name": "python",
      "nbconvert_exporter": "python",
      "pygments_lexer": "ipython3",
      "version": "3.13.1"
    }
  },
  "nbformat": 4,
  "nbformat_minor": 0
}
