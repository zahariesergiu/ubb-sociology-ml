{
  "cells": [
    {
      "cell_type": "markdown",
      "metadata": {
        "id": "Tdp4ohPQmu9E"
      },
      "source": [
        "[Original author](https://inria.github.io/scikit-learn-mooc/python_scripts/logistic_regression.html)\n",
        "Under a CC-BY License by Inria Learning Lab, scikit-learn @ La Fondation Inria, Inria Academy."
      ]
    },
    {
      "cell_type": "markdown",
      "metadata": {
        "id": "u72IITYFms4L"
      },
      "source": [
        "In regression, we saw that the target to be predicted is a continuous variable. In classification, the target is discrete (e.g. categorical).  \n",
        "\n",
        "In this notebook we go back to the penguin dataset. However, this time the task is to predict the penguin species using the culmen information. We also simplify our classification problem by selecting only 2 of the penguin species to solve a binary classification problem."
      ]
    },
    {
      "cell_type": "code",
      "execution_count": null,
      "metadata": {
        "colab": {
          "base_uri": "https://localhost:8080/",
          "height": 73
        },
        "id": "I2vVTsJanMNH",
        "outputId": "74d88d66-f6b8-42b7-c8b7-c541b1bc01f0"
      },
      "outputs": [
        {
          "data": {
            "text/html": [
              "\n",
              "     <input type=\"file\" id=\"files-6bf53371-4a40-4944-9a41-02c65a096ab4\" name=\"files[]\" multiple disabled\n",
              "        style=\"border:none\" />\n",
              "     <output id=\"result-6bf53371-4a40-4944-9a41-02c65a096ab4\">\n",
              "      Upload widget is only available when the cell has been executed in the\n",
              "      current browser session. Please rerun this cell to enable.\n",
              "      </output>\n",
              "      <script>// Copyright 2017 Google LLC\n",
              "//\n",
              "// Licensed under the Apache License, Version 2.0 (the \"License\");\n",
              "// you may not use this file except in compliance with the License.\n",
              "// You may obtain a copy of the License at\n",
              "//\n",
              "//      http://www.apache.org/licenses/LICENSE-2.0\n",
              "//\n",
              "// Unless required by applicable law or agreed to in writing, software\n",
              "// distributed under the License is distributed on an \"AS IS\" BASIS,\n",
              "// WITHOUT WARRANTIES OR CONDITIONS OF ANY KIND, either express or implied.\n",
              "// See the License for the specific language governing permissions and\n",
              "// limitations under the License.\n",
              "\n",
              "/**\n",
              " * @fileoverview Helpers for google.colab Python module.\n",
              " */\n",
              "(function(scope) {\n",
              "function span(text, styleAttributes = {}) {\n",
              "  const element = document.createElement('span');\n",
              "  element.textContent = text;\n",
              "  for (const key of Object.keys(styleAttributes)) {\n",
              "    element.style[key] = styleAttributes[key];\n",
              "  }\n",
              "  return element;\n",
              "}\n",
              "\n",
              "// Max number of bytes which will be uploaded at a time.\n",
              "const MAX_PAYLOAD_SIZE = 100 * 1024;\n",
              "\n",
              "function _uploadFiles(inputId, outputId) {\n",
              "  const steps = uploadFilesStep(inputId, outputId);\n",
              "  const outputElement = document.getElementById(outputId);\n",
              "  // Cache steps on the outputElement to make it available for the next call\n",
              "  // to uploadFilesContinue from Python.\n",
              "  outputElement.steps = steps;\n",
              "\n",
              "  return _uploadFilesContinue(outputId);\n",
              "}\n",
              "\n",
              "// This is roughly an async generator (not supported in the browser yet),\n",
              "// where there are multiple asynchronous steps and the Python side is going\n",
              "// to poll for completion of each step.\n",
              "// This uses a Promise to block the python side on completion of each step,\n",
              "// then passes the result of the previous step as the input to the next step.\n",
              "function _uploadFilesContinue(outputId) {\n",
              "  const outputElement = document.getElementById(outputId);\n",
              "  const steps = outputElement.steps;\n",
              "\n",
              "  const next = steps.next(outputElement.lastPromiseValue);\n",
              "  return Promise.resolve(next.value.promise).then((value) => {\n",
              "    // Cache the last promise value to make it available to the next\n",
              "    // step of the generator.\n",
              "    outputElement.lastPromiseValue = value;\n",
              "    return next.value.response;\n",
              "  });\n",
              "}\n",
              "\n",
              "/**\n",
              " * Generator function which is called between each async step of the upload\n",
              " * process.\n",
              " * @param {string} inputId Element ID of the input file picker element.\n",
              " * @param {string} outputId Element ID of the output display.\n",
              " * @return {!Iterable<!Object>} Iterable of next steps.\n",
              " */\n",
              "function* uploadFilesStep(inputId, outputId) {\n",
              "  const inputElement = document.getElementById(inputId);\n",
              "  inputElement.disabled = false;\n",
              "\n",
              "  const outputElement = document.getElementById(outputId);\n",
              "  outputElement.innerHTML = '';\n",
              "\n",
              "  const pickedPromise = new Promise((resolve) => {\n",
              "    inputElement.addEventListener('change', (e) => {\n",
              "      resolve(e.target.files);\n",
              "    });\n",
              "  });\n",
              "\n",
              "  const cancel = document.createElement('button');\n",
              "  inputElement.parentElement.appendChild(cancel);\n",
              "  cancel.textContent = 'Cancel upload';\n",
              "  const cancelPromise = new Promise((resolve) => {\n",
              "    cancel.onclick = () => {\n",
              "      resolve(null);\n",
              "    };\n",
              "  });\n",
              "\n",
              "  // Wait for the user to pick the files.\n",
              "  const files = yield {\n",
              "    promise: Promise.race([pickedPromise, cancelPromise]),\n",
              "    response: {\n",
              "      action: 'starting',\n",
              "    }\n",
              "  };\n",
              "\n",
              "  cancel.remove();\n",
              "\n",
              "  // Disable the input element since further picks are not allowed.\n",
              "  inputElement.disabled = true;\n",
              "\n",
              "  if (!files) {\n",
              "    return {\n",
              "      response: {\n",
              "        action: 'complete',\n",
              "      }\n",
              "    };\n",
              "  }\n",
              "\n",
              "  for (const file of files) {\n",
              "    const li = document.createElement('li');\n",
              "    li.append(span(file.name, {fontWeight: 'bold'}));\n",
              "    li.append(span(\n",
              "        `(${file.type || 'n/a'}) - ${file.size} bytes, ` +\n",
              "        `last modified: ${\n",
              "            file.lastModifiedDate ? file.lastModifiedDate.toLocaleDateString() :\n",
              "                                    'n/a'} - `));\n",
              "    const percent = span('0% done');\n",
              "    li.appendChild(percent);\n",
              "\n",
              "    outputElement.appendChild(li);\n",
              "\n",
              "    const fileDataPromise = new Promise((resolve) => {\n",
              "      const reader = new FileReader();\n",
              "      reader.onload = (e) => {\n",
              "        resolve(e.target.result);\n",
              "      };\n",
              "      reader.readAsArrayBuffer(file);\n",
              "    });\n",
              "    // Wait for the data to be ready.\n",
              "    let fileData = yield {\n",
              "      promise: fileDataPromise,\n",
              "      response: {\n",
              "        action: 'continue',\n",
              "      }\n",
              "    };\n",
              "\n",
              "    // Use a chunked sending to avoid message size limits. See b/62115660.\n",
              "    let position = 0;\n",
              "    do {\n",
              "      const length = Math.min(fileData.byteLength - position, MAX_PAYLOAD_SIZE);\n",
              "      const chunk = new Uint8Array(fileData, position, length);\n",
              "      position += length;\n",
              "\n",
              "      const base64 = btoa(String.fromCharCode.apply(null, chunk));\n",
              "      yield {\n",
              "        response: {\n",
              "          action: 'append',\n",
              "          file: file.name,\n",
              "          data: base64,\n",
              "        },\n",
              "      };\n",
              "\n",
              "      let percentDone = fileData.byteLength === 0 ?\n",
              "          100 :\n",
              "          Math.round((position / fileData.byteLength) * 100);\n",
              "      percent.textContent = `${percentDone}% done`;\n",
              "\n",
              "    } while (position < fileData.byteLength);\n",
              "  }\n",
              "\n",
              "  // All done.\n",
              "  yield {\n",
              "    response: {\n",
              "      action: 'complete',\n",
              "    }\n",
              "  };\n",
              "}\n",
              "\n",
              "scope.google = scope.google || {};\n",
              "scope.google.colab = scope.google.colab || {};\n",
              "scope.google.colab._files = {\n",
              "  _uploadFiles,\n",
              "  _uploadFilesContinue,\n",
              "};\n",
              "})(self);\n",
              "</script> "
            ],
            "text/plain": [
              "<IPython.core.display.HTML object>"
            ]
          },
          "metadata": {},
          "output_type": "display_data"
        },
        {
          "name": "stdout",
          "output_type": "stream",
          "text": [
            "Saving penguins_size.csv to penguins_size.csv\n"
          ]
        }
      ],
      "source": [
        "from google.colab import files\n",
        "uploaded = files.upload()"
      ]
    },
    {
      "cell_type": "code",
      "execution_count": 1,
      "metadata": {
        "id": "U_bVi61nnPGI"
      },
      "outputs": [],
      "source": [
        "import pandas as pd\n",
        "\n",
        "penguins = pd.read_csv(r'C:\\Users\\cpop4\\OneDrive - Universitatea Babeş-Bolyai\\Desktop\\MACHINE LEARNING\\ubb-sociology-ml\\penguins_size.csv')"
      ]
    },
    {
      "cell_type": "code",
      "execution_count": 2,
      "metadata": {
        "colab": {
          "base_uri": "https://localhost:8080/",
          "height": 206
        },
        "id": "hxCCL7Jznyfj",
        "outputId": "7c0f48d8-4eed-41ca-9223-54b1af1d0778"
      },
      "outputs": [
        {
          "data": {
            "text/html": [
              "<div>\n",
              "<style scoped>\n",
              "    .dataframe tbody tr th:only-of-type {\n",
              "        vertical-align: middle;\n",
              "    }\n",
              "\n",
              "    .dataframe tbody tr th {\n",
              "        vertical-align: top;\n",
              "    }\n",
              "\n",
              "    .dataframe thead th {\n",
              "        text-align: right;\n",
              "    }\n",
              "</style>\n",
              "<table border=\"1\" class=\"dataframe\">\n",
              "  <thead>\n",
              "    <tr style=\"text-align: right;\">\n",
              "      <th></th>\n",
              "      <th>species</th>\n",
              "      <th>island</th>\n",
              "      <th>culmen_length_mm</th>\n",
              "      <th>culmen_depth_mm</th>\n",
              "      <th>flipper_length_mm</th>\n",
              "      <th>body_mass_g</th>\n",
              "      <th>sex</th>\n",
              "    </tr>\n",
              "  </thead>\n",
              "  <tbody>\n",
              "    <tr>\n",
              "      <th>0</th>\n",
              "      <td>Adelie</td>\n",
              "      <td>Torgersen</td>\n",
              "      <td>39.1</td>\n",
              "      <td>18.7</td>\n",
              "      <td>181.0</td>\n",
              "      <td>3750.0</td>\n",
              "      <td>MALE</td>\n",
              "    </tr>\n",
              "    <tr>\n",
              "      <th>1</th>\n",
              "      <td>Adelie</td>\n",
              "      <td>Torgersen</td>\n",
              "      <td>39.5</td>\n",
              "      <td>17.4</td>\n",
              "      <td>186.0</td>\n",
              "      <td>3800.0</td>\n",
              "      <td>FEMALE</td>\n",
              "    </tr>\n",
              "    <tr>\n",
              "      <th>2</th>\n",
              "      <td>Adelie</td>\n",
              "      <td>Torgersen</td>\n",
              "      <td>40.3</td>\n",
              "      <td>18.0</td>\n",
              "      <td>195.0</td>\n",
              "      <td>3250.0</td>\n",
              "      <td>FEMALE</td>\n",
              "    </tr>\n",
              "    <tr>\n",
              "      <th>3</th>\n",
              "      <td>Adelie</td>\n",
              "      <td>Torgersen</td>\n",
              "      <td>NaN</td>\n",
              "      <td>NaN</td>\n",
              "      <td>NaN</td>\n",
              "      <td>NaN</td>\n",
              "      <td>NaN</td>\n",
              "    </tr>\n",
              "    <tr>\n",
              "      <th>4</th>\n",
              "      <td>Adelie</td>\n",
              "      <td>Torgersen</td>\n",
              "      <td>36.7</td>\n",
              "      <td>19.3</td>\n",
              "      <td>193.0</td>\n",
              "      <td>3450.0</td>\n",
              "      <td>FEMALE</td>\n",
              "    </tr>\n",
              "  </tbody>\n",
              "</table>\n",
              "</div>"
            ],
            "text/plain": [
              "  species     island  culmen_length_mm  culmen_depth_mm  flipper_length_mm  \\\n",
              "0  Adelie  Torgersen              39.1             18.7              181.0   \n",
              "1  Adelie  Torgersen              39.5             17.4              186.0   \n",
              "2  Adelie  Torgersen              40.3             18.0              195.0   \n",
              "3  Adelie  Torgersen               NaN              NaN                NaN   \n",
              "4  Adelie  Torgersen              36.7             19.3              193.0   \n",
              "\n",
              "   body_mass_g     sex  \n",
              "0       3750.0    MALE  \n",
              "1       3800.0  FEMALE  \n",
              "2       3250.0  FEMALE  \n",
              "3          NaN     NaN  \n",
              "4       3450.0  FEMALE  "
            ]
          },
          "execution_count": 2,
          "metadata": {},
          "output_type": "execute_result"
        }
      ],
      "source": [
        "penguins.head()"
      ]
    },
    {
      "cell_type": "code",
      "execution_count": 3,
      "metadata": {
        "colab": {
          "base_uri": "https://localhost:8080/"
        },
        "id": "6FxsNa2Q7up6",
        "outputId": "570386ee-2f62-445b-e058-c089cf0197bc"
      },
      "outputs": [
        {
          "data": {
            "text/plain": [
              "(344, 7)"
            ]
          },
          "execution_count": 3,
          "metadata": {},
          "output_type": "execute_result"
        }
      ],
      "source": [
        "penguins.shape"
      ]
    },
    {
      "cell_type": "markdown",
      "metadata": {
        "id": "Gh2FpE9r71du"
      },
      "source": [
        "penguins.set_index(\"species\"): This sets the \"species\" column as the index of the DataFrame. It means that the \"species\" column will be used as the row labels.  \n",
        "  \n",
        ".loc[[\"Adelie\", \"Chinstrap\"]]: This selects only the rows where the index (now set to \"species\") is either \"Adelie\" or \"Chinstrap\". It filters the DataFrame to include only these two penguin species.  \n",
        "  \n",
        ".reset_index(): This resets the index of the resulting DataFrame back to the default integer index. This operation is often used to revert the changes made by the set_index method.  \n",
        "  \n",
        "So, the overall result is that you are creating a new DataFrame with only the rows corresponding to the \"Adelie\" and \"Chinstrap\" penguin species from the original penguins DataFrame, and the index is reset to the default integer index."
      ]
    },
    {
      "cell_type": "code",
      "execution_count": 4,
      "metadata": {
        "id": "zRZB_TNmmn0A"
      },
      "outputs": [],
      "source": [
        "# only keep the Adelie and Chinstrap classes\n",
        "penguins = (\n",
        "    penguins.set_index(\"species\").loc[[\"Adelie\", \"Chinstrap\"]].reset_index()\n",
        ")\n",
        "culmen_columns = [\"culmen_length_mm\", \"culmen_depth_mm\"]\n",
        "target_column = \"species\""
      ]
    },
    {
      "cell_type": "code",
      "execution_count": 5,
      "metadata": {
        "colab": {
          "base_uri": "https://localhost:8080/"
        },
        "id": "OCXzW_KS7px0",
        "outputId": "1b17258f-0e28-4c7a-8c38-1cdebe3fb098"
      },
      "outputs": [
        {
          "data": {
            "text/plain": [
              "(220, 7)"
            ]
          },
          "execution_count": 5,
          "metadata": {},
          "output_type": "execute_result"
        }
      ],
      "source": [
        "penguins.shape"
      ]
    },
    {
      "cell_type": "markdown",
      "metadata": {
        "id": "SV4FTigkoM57"
      },
      "source": [
        "We can quickly start by visualizing the feature distribution by class:"
      ]
    },
    {
      "cell_type": "code",
      "execution_count": 6,
      "metadata": {
        "colab": {
          "base_uri": "https://localhost:8080/",
          "height": 883
        },
        "id": "_SxJoUNSoMW2",
        "outputId": "6b752183-b3e0-4113-fe91-6816e28958e7"
      },
      "outputs": [
        {
          "data": {
            "image/png": "[encoded data removed]",
            "text/plain": [
              "<Figure size 640x480 with 1 Axes>"
            ]
          },
          "metadata": {},
          "output_type": "display_data"
        },
        {
          "data": {
            "image/png": "[encoded data removed]",
            "text/plain": [
              "<Figure size 640x480 with 1 Axes>"
            ]
          },
          "metadata": {},
          "output_type": "display_data"
        }
      ],
      "source": [
        "import matplotlib.pyplot as plt\n",
        "\n",
        "for feature_name in culmen_columns:\n",
        "    plt.figure()\n",
        "    # plot the histogram for each specie\n",
        "    penguins.groupby(\"species\")[feature_name].plot.hist(alpha=0.5, legend=True)\n",
        "    plt.xlabel(feature_name)"
      ]
    },
    {
      "cell_type": "markdown",
      "metadata": {
        "id": "s6UIX_omoTr1"
      },
      "source": [
        "We can observe that we have quite a simple problem. When the culmen length increases, the probability that the penguin is a Chinstrap is closer to 1. However, the culmen depth is not helpful for predicting the penguin species."
      ]
    },
    {
      "cell_type": "markdown",
      "metadata": {
        "id": "k6A7S362oWT5"
      },
      "source": [
        "For model fitting, we separate the target from the data and we create a training and a testing set."
      ]
    },
    {
      "cell_type": "markdown",
      "metadata": {
        "id": "_HgGeUh5osNx"
      },
      "source": [
        "We drop rows with missing data (warning: this shouldn't be done lightly without having explored the missingness of the data, here we are doing for simplicity and to focus on the modelling)."
      ]
    },
    {
      "cell_type": "code",
      "execution_count": 7,
      "metadata": {
        "id": "3GglVFkCoraI"
      },
      "outputs": [],
      "source": [
        "penguins = penguins.dropna()"
      ]
    },
    {
      "cell_type": "code",
      "execution_count": 8,
      "metadata": {
        "id": "xFrsNtk8n7mD"
      },
      "outputs": [],
      "source": [
        "from sklearn.model_selection import train_test_split\n",
        "\n",
        "penguins_train, penguins_test = train_test_split(penguins, random_state=0)\n",
        "\n",
        "data_train = penguins_train[culmen_columns]\n",
        "data_test = penguins_test[culmen_columns]\n",
        "\n",
        "target_train = penguins_train[target_column]\n",
        "target_test = penguins_test[target_column]"
      ]
    },
    {
      "cell_type": "markdown",
      "metadata": {
        "id": "01hM2eDJoezD"
      },
      "source": [
        "The linear regression that we previously saw predicts a continuous output. When the target is a binary outcome, one can use the logistic function to model the probability. This model is known as logistic regression.  \n",
        "  \n",
        "Scikit-learn provides the class LogisticRegression which implements this algorithm."
      ]
    },
    {
      "cell_type": "markdown",
      "metadata": {
        "id": "AiktAoFH9hEe"
      },
      "source": [
        "In scikit-learn, a pipeline is a way to streamline a lot of routine processes by putting together a sequence of data processing steps.   \n",
        "  \n",
        "  make_pipeline is a convenient function for creating a pipeline without having to explicitly name each step. It automatically generates names for each step based on the names of the classes or functions provided."
      ]
    },
    {
      "cell_type": "code",
      "execution_count": 9,
      "metadata": {
        "colab": {
          "base_uri": "https://localhost:8080/"
        },
        "id": "kPsxpxU1oYye",
        "outputId": "4d1e569f-f76a-48d1-a113-995d330ffe14"
      },
      "outputs": [
        {
          "name": "stdout",
          "output_type": "stream",
          "text": [
            "Accuracy on test set: 0.981\n"
          ]
        }
      ],
      "source": [
        "from sklearn.pipeline import make_pipeline\n",
        "from sklearn.preprocessing import StandardScaler\n",
        "from sklearn.linear_model import LogisticRegression\n",
        "\n",
        "logistic_regression = make_pipeline(StandardScaler(), LogisticRegression())\n",
        "logistic_regression.fit(data_train, target_train)\n",
        "accuracy = logistic_regression.score(data_test, target_test)\n",
        "print(f\"Accuracy on test set: {accuracy:.3f}\")"
      ]
    },
    {
      "cell_type": "markdown",
      "metadata": {
        "id": "tLALo6XVo0tX"
      },
      "source": [
        "Since we are dealing with a classification problem containing only 2 features, it is then possible to observe the decision function boundary. The boundary is the rule used by our predictive model to affect a class label given the feature values of the sample."
      ]
    },
    {
      "cell_type": "markdown",
      "metadata": {
        "id": "LC5qDQi3o4Er"
      },
      "source": [
        "Here, we use the class DecisionBoundaryDisplay. This educational tool allows us to gain some insights by plotting the decision function boundary learned by the classifier in a 2 dimensional feature space.\n",
        "\n",
        "Notice however that in more realistic machine learning contexts, one would typically fit on more than two features at once and therefore it would not be possible to display such a visualization of the decision boundary in general."
      ]
    },
    {
      "cell_type": "code",
      "execution_count": 10,
      "metadata": {
        "colab": {
          "base_uri": "https://localhost:8080/",
          "height": 493
        },
        "id": "ahkofgGCoiM_",
        "outputId": "570adb7c-086c-4adb-8c81-b15e6150b6cc"
      },
      "outputs": [
        {
          "data": {
            "image/png": "[encoded data removed]",
            "text/plain": [
              "<Figure size 640x480 with 1 Axes>"
            ]
          },
          "metadata": {},
          "output_type": "display_data"
        }
      ],
      "source": [
        "import seaborn as sns\n",
        "from sklearn.inspection import DecisionBoundaryDisplay\n",
        "\n",
        "DecisionBoundaryDisplay.from_estimator(\n",
        "    logistic_regression,\n",
        "    data_test,\n",
        "    response_method=\"predict\",\n",
        "    cmap=\"RdBu_r\",\n",
        "    alpha=0.5,\n",
        ")\n",
        "sns.scatterplot(\n",
        "    data=penguins_test,\n",
        "    x=culmen_columns[0],\n",
        "    y=culmen_columns[1],\n",
        "    hue=target_column,\n",
        "    palette=[\"tab:red\", \"tab:blue\"],\n",
        ")\n",
        "_ = plt.title(\"Decision boundary of the trained\\n LogisticRegression\")"
      ]
    },
    {
      "cell_type": "code",
      "execution_count": 23,
      "metadata": {},
      "outputs": [
        {
          "data": {
            "image/png": "[encoded data removed]",
            "text/plain": [
              "<Figure size 640x480 with 1 Axes>"
            ]
          },
          "metadata": {},
          "output_type": "display_data"
        }
      ],
      "source": [
        "import seaborn as sns\n",
        "import matplotlib.pyplot as plt\n",
        "from sklearn.inspection import DecisionBoundaryDisplay\n",
        "from sklearn.linear_model import LogisticRegression\n",
        "\n",
        "# presupun că ai deja un model de regresie logistică antrenat și datele corespunzătoare\n",
        "# logistic_regression = modelul tău antrenat (de exemplu, LogisticRegression(...))\n",
        "# data_test = setul tău de date de test\n",
        "# penguins_test = setul tău de date pentru scatter plot\n",
        "# culmen_columns și target_column trebuie să fie definite corespunzător\n",
        "\n",
        "# Exemplu pentru setul de date \"penguins_test\", \"culmen_columns\" și \"target_column\"\n",
        "# (înlocuiește cu datele tale specifice)\n",
        "\n",
        "DecisionBoundaryDisplay.from_estimator(\n",
        "    logistic_regression,        # Modelul tău antrenat\n",
        "    data_test,                  # Setul de date de test\n",
        "    response_method=\"predict\",  # Modul în care se face predicția\n",
        "    cmap=\"RdBu_r\",              # Harta de culori\n",
        "    alpha=0.5,                  # Transparența pentru boundary\n",
        ")\n",
        "\n",
        "sns.scatterplot(\n",
        "    data=penguins_test,        # Setul de date pentru puncte\n",
        "    x=culmen_columns[0],       # Prima coloană de caracteristici\n",
        "    y=culmen_columns[1],       # A doua coloană de caracteristici\n",
        "    hue=target_column,         # Culoare pe baza valorii țintei\n",
        "    palette=[\"tab:red\", \"tab:blue\"], # Paleta de culori\n",
        ")\n",
        "\n",
        "# Adăugarea titlului\n",
        "_ = plt.title(\"Decision boundary of the trained\\n LogisticRegression\")\n",
        "\n",
        "# Afișarea graficului\n",
        "plt.show()\n"
      ]
    },
    {
      "cell_type": "code",
      "execution_count": 22,
      "metadata": {},
      "outputs": [],
      "source": [
        "plt.show()"
      ]
    },
    {
      "cell_type": "markdown",
      "metadata": {
        "id": "70t5rP6jo9E5"
      },
      "source": [
        "Thus, we see that our decision function is represented by a straight line separating the 2 classes.\n",
        "\n",
        "For the mathematically inclined reader, the equation of the decision boundary is:"
      ]
    },
    {
      "cell_type": "markdown",
      "metadata": {
        "id": "EDlhFteIo_uW"
      },
      "source": [
        "coef0 * x0 + coef1 * x1 + intercept = 0"
      ]
    },
    {
      "cell_type": "markdown",
      "metadata": {
        "id": "Ef3kQLTapDCL"
      },
      "source": [
        "where x0 is \"culmen_length_mm\" and x1 is \"culmen_depth_mm\".\n",
        "\n",
        "This equation is equivalent to (assuming that coef1 is non-zero):"
      ]
    },
    {
      "cell_type": "markdown",
      "metadata": {
        "id": "QBgq10M7pIcz"
      },
      "source": [
        "x1 = coef0 / coef1 * x0 - intercept / coef1"
      ]
    },
    {
      "cell_type": "markdown",
      "metadata": {
        "id": "1zOOJd0gpLXi"
      },
      "source": [
        "which is the equation of a straight line.\n",
        "\n",
        "Since the line is oblique, it means that both coefficients (also called weights) are non-null:"
      ]
    },
    {
      "cell_type": "code",
      "execution_count": 11,
      "metadata": {
        "colab": {
          "base_uri": "https://localhost:8080/"
        },
        "id": "hLP4f8FO-3zE",
        "outputId": "0697a349-8024-4cf4-e0a0-9166bd0fbdc1"
      },
      "outputs": [
        {
          "data": {
            "text/plain": [
              "(array([-1.64110843]), array([[ 3.89524146, -1.05297132]]))"
            ]
          },
          "execution_count": 11,
          "metadata": {},
          "output_type": "execute_result"
        }
      ],
      "source": [
        "logistic_regression[-1].intercept_, logistic_regression[-1].coef_"
      ]
    },
    {
      "cell_type": "code",
      "execution_count": 12,
      "metadata": {
        "colab": {
          "base_uri": "https://localhost:8080/"
        },
        "id": "i0pjjcFdo6IK",
        "outputId": "96d5e1e3-2711-4202-ff70-069b95ad4e4b"
      },
      "outputs": [
        {
          "data": {
            "text/plain": [
              "Weight for 'culmen_length_mm'    3.895241\n",
              "Weight for 'culmen_depth_mm'    -1.052971\n",
              "dtype: float64"
            ]
          },
          "execution_count": 12,
          "metadata": {},
          "output_type": "execute_result"
        }
      ],
      "source": [
        "coefs = logistic_regression[-1].coef_[0] # Accesses the last element of the logistic_regression pipeline and the [0] index is used assuming there is only one class (binary classification).\n",
        "weights = pd.Series(coefs, index=[f\"Weight for '{c}'\" for c in culmen_columns])\n",
        "weights"
      ]
    },
    {
      "cell_type": "markdown",
      "metadata": {
        "id": "q22S1mwmpTC4"
      },
      "source": [
        "You can access [pipeline steps](https://scikit-learn.org/stable/modules/compose.html#access-pipeline-steps) by name or position. In the code above logistic_regression[-1] means the last step of the pipeline. Then you can access the attributes of that step such as coef_. Notice also that the coef_ attribute is an array of shape (1, n_features) an then we access it via its first entry. Alternatively one could use coef_.ravel().\n",
        "\n",
        "We are now ready to visualize the weight values as a barplot:"
      ]
    },
    {
      "cell_type": "code",
      "execution_count": 13,
      "metadata": {
        "colab": {
          "base_uri": "https://localhost:8080/",
          "height": 452
        },
        "id": "dTATOhOSpNj0",
        "outputId": "aeaed58d-e49a-4e9f-8429-fc09754101df"
      },
      "outputs": [
        {
          "data": {
            "image/png": "[encoded data removed]",
            "text/plain": [
              "<Figure size 640x480 with 1 Axes>"
            ]
          },
          "metadata": {},
          "output_type": "display_data"
        }
      ],
      "source": [
        "weights.plot.barh()\n",
        "_ = plt.title(\"Weights of the logistic regression\")"
      ]
    },
    {
      "cell_type": "markdown",
      "metadata": {
        "id": "qXjA6EKfpbj2"
      },
      "source": [
        "If one of the weights had been zero, the decision boundary would have been either horizontal or vertical.\n",
        "\n",
        "Furthermore the intercept is also non-zero, which means that the decision does not go through the point with (0, 0) coordinates."
      ]
    },
    {
      "cell_type": "markdown",
      "metadata": {
        "id": "Aquvb12GpjFk"
      },
      "source": [
        "### (Estimated) predicted probabilities"
      ]
    },
    {
      "cell_type": "markdown",
      "metadata": {
        "id": "LVsz1TVIpmfd"
      },
      "source": [
        "The predict method in classification models returns what we call a “hard class prediction”, i.e. the most likely class a given data point would belong to. We can confirm the intuition given by the DecisionBoundaryDisplay by testing on a hypothetical sample:"
      ]
    },
    {
      "cell_type": "code",
      "execution_count": 14,
      "metadata": {
        "colab": {
          "base_uri": "https://localhost:8080/"
        },
        "id": "8YkOW8Y0pbxP",
        "outputId": "2c8f39d2-5577-4c7a-8dae-8ad8d7e21a2d"
      },
      "outputs": [
        {
          "data": {
            "text/plain": [
              "array(['Chinstrap'], dtype=object)"
            ]
          },
          "execution_count": 14,
          "metadata": {},
          "output_type": "execute_result"
        }
      ],
      "source": [
        "test_penguin = pd.DataFrame(\n",
        "    {\"culmen_length_mm\": [45], \"culmen_depth_mm\": [17]}\n",
        ")\n",
        "logistic_regression.predict(test_penguin)"
      ]
    },
    {
      "cell_type": "markdown",
      "metadata": {
        "id": "51Qm9NFvp1Am"
      },
      "source": [
        "In this case, our logistic regression classifier predicts the Chinstrap species. Note that this agrees with the decision boundary plot above: the coordinates of this test data point match a location close to the decision boundary, in the red region.\n",
        "\n"
      ]
    },
    {
      "cell_type": "markdown",
      "metadata": {
        "id": "vWX89KX1p5Of"
      },
      "source": [
        "one can alternatively use the predict_proba method to compute continuous values (“soft predictions”) that correspond to an estimation of the confidence of the target belonging to each class.\n",
        "\n",
        "For a binary classification scenario, the logistic regression makes both hard and soft predictions based on the [logistic function](https://en.wikipedia.org/wiki/Logistic_function) (also called sigmoid function), which is S-shaped and maps any input into a value between 0 and 1."
      ]
    },
    {
      "cell_type": "code",
      "execution_count": 15,
      "metadata": {
        "colab": {
          "base_uri": "https://localhost:8080/"
        },
        "id": "6lOA-yg_pwrQ",
        "outputId": "d20984c0-0746-40a7-fb7d-cdc6d05ed496"
      },
      "outputs": [
        {
          "data": {
            "text/plain": [
              "array([[0.18049828, 0.81950172]])"
            ]
          },
          "execution_count": 15,
          "metadata": {},
          "output_type": "execute_result"
        }
      ],
      "source": [
        "y_pred_proba = logistic_regression.predict_proba(test_penguin)\n",
        "y_pred_proba"
      ]
    },
    {
      "cell_type": "markdown",
      "metadata": {
        "id": "dsjL39v4qCsL"
      },
      "source": [
        "More in general, the output of predict_proba is an array of shape (n_samples, n_classes)"
      ]
    },
    {
      "cell_type": "code",
      "execution_count": 16,
      "metadata": {
        "colab": {
          "base_uri": "https://localhost:8080/"
        },
        "id": "j-iqANnTqAGk",
        "outputId": "c0d6b368-762b-4a5b-ea80-274ff8311d77"
      },
      "outputs": [
        {
          "data": {
            "text/plain": [
              "(1, 2)"
            ]
          },
          "execution_count": 16,
          "metadata": {},
          "output_type": "execute_result"
        }
      ],
      "source": [
        "y_pred_proba.shape"
      ]
    },
    {
      "cell_type": "markdown",
      "metadata": {
        "id": "r8C6SlxuqI61"
      },
      "source": [
        "Also notice that the sum of (estimated) predicted probabilities across classes is 1.0 for each given sample."
      ]
    },
    {
      "cell_type": "markdown",
      "metadata": {
        "id": "OYXdawVfqPoR"
      },
      "source": [
        "For multi-class classification the logistic regression uses the [softmax function](https://en.wikipedia.org/wiki/Softmax_function) to make predictions."
      ]
    },
    {
      "cell_type": "code",
      "execution_count": 17,
      "metadata": {
        "colab": {
          "base_uri": "https://localhost:8080/"
        },
        "id": "7E55WFfqKLda",
        "outputId": "eed929ef-a595-4ea8-f88e-33170276a44d"
      },
      "outputs": [
        {
          "data": {
            "text/plain": [
              "species\n",
              "Adelie       38\n",
              "Chinstrap    16\n",
              "Name: count, dtype: int64"
            ]
          },
          "execution_count": 17,
          "metadata": {},
          "output_type": "execute_result"
        }
      ],
      "source": [
        "target_test.value_counts()"
      ]
    },
    {
      "cell_type": "code",
      "execution_count": 18,
      "metadata": {
        "colab": {
          "base_uri": "https://localhost:8080/",
          "height": 449
        },
        "id": "BzYfgRxzDWYI",
        "outputId": "4630f016-edc6-4583-ca25-655c219113b3"
      },
      "outputs": [
        {
          "data": {
            "image/png": "[encoded data removed]",
            "text/plain": [
              "<Figure size 640x480 with 2 Axes>"
            ]
          },
          "metadata": {},
          "output_type": "display_data"
        }
      ],
      "source": [
        "from sklearn.metrics import ConfusionMatrixDisplay\n",
        "\n",
        "_ = ConfusionMatrixDisplay.from_estimator(logistic_regression, data_test, target_test)"
      ]
    },
    {
      "cell_type": "code",
      "execution_count": 19,
      "metadata": {
        "colab": {
          "base_uri": "https://localhost:8080/"
        },
        "id": "f9IOXWUfJhmt",
        "outputId": "ff4f73a9-db05-4a35-b513-8abb507d6303"
      },
      "outputs": [
        {
          "name": "stdout",
          "output_type": "stream",
          "text": [
            "Accuracy: 0.9814814814814815\n",
            "Precision: 1.0\n",
            "Recall: 0.9375\n"
          ]
        }
      ],
      "source": [
        "from sklearn import metrics\n",
        "from sklearn.metrics import roc_auc_score\n",
        "target_predicted = logistic_regression.predict(data_test)\n",
        "print(\"Accuracy:\",metrics.accuracy_score(target_test, target_predicted))\n",
        "print(\"Precision:\",metrics.precision_score(target_test, target_predicted, pos_label='Chinstrap'))\n",
        "print(\"Recall:\",metrics.recall_score(target_test, target_predicted, pos_label='Chinstrap'))"
      ]
    },
    {
      "cell_type": "code",
      "execution_count": 20,
      "metadata": {
        "colab": {
          "base_uri": "https://localhost:8080/"
        },
        "id": "qgMLZNHJL5ub",
        "outputId": "379ca8ab-5eb9-420a-bc87-809fe6700f18"
      },
      "outputs": [
        {
          "data": {
            "text/plain": [
              "array(['Chinstrap', 'Adelie', 'Adelie', 'Adelie', 'Chinstrap', 'Adelie',\n",
              "       'Adelie', 'Adelie', 'Adelie', 'Adelie', 'Adelie', 'Adelie',\n",
              "       'Chinstrap', 'Adelie', 'Adelie', 'Chinstrap', 'Adelie', 'Adelie',\n",
              "       'Chinstrap', 'Chinstrap', 'Chinstrap', 'Adelie', 'Chinstrap',\n",
              "       'Chinstrap', 'Adelie', 'Adelie', 'Chinstrap', 'Adelie', 'Adelie',\n",
              "       'Adelie', 'Adelie', 'Adelie', 'Adelie', 'Adelie', 'Adelie',\n",
              "       'Chinstrap', 'Adelie', 'Chinstrap', 'Adelie', 'Chinstrap',\n",
              "       'Adelie', 'Chinstrap', 'Adelie', 'Adelie', 'Adelie', 'Adelie',\n",
              "       'Adelie', 'Adelie', 'Adelie', 'Adelie', 'Adelie', 'Adelie',\n",
              "       'Chinstrap', 'Adelie'], dtype=object)"
            ]
          },
          "execution_count": 20,
          "metadata": {},
          "output_type": "execute_result"
        }
      ],
      "source": [
        "target_predicted"
      ]
    },
    {
      "cell_type": "code",
      "execution_count": 21,
      "metadata": {
        "colab": {
          "base_uri": "https://localhost:8080/"
        },
        "id": "BkqhSxUYLQdg",
        "outputId": "1203918b-d815-43e8-b6a6-9c59c41087dc"
      },
      "outputs": [
        {
          "data": {
            "text/plain": [
              "203    Chinstrap\n",
              "42        Adelie\n",
              "95        Adelie\n",
              "182    Chinstrap\n",
              "176    Chinstrap\n",
              "81        Adelie\n",
              "102       Adelie\n",
              "143       Adelie\n",
              "6         Adelie\n",
              "89        Adelie\n",
              "61        Adelie\n",
              "151       Adelie\n",
              "166    Chinstrap\n",
              "118       Adelie\n",
              "80        Adelie\n",
              "208    Chinstrap\n",
              "132       Adelie\n",
              "17        Adelie\n",
              "159    Chinstrap\n",
              "164    Chinstrap\n",
              "174    Chinstrap\n",
              "147       Adelie\n",
              "200    Chinstrap\n",
              "195    Chinstrap\n",
              "150       Adelie\n",
              "23        Adelie\n",
              "214    Chinstrap\n",
              "20        Adelie\n",
              "92        Adelie\n",
              "77        Adelie\n",
              "12        Adelie\n",
              "69        Adelie\n",
              "149       Adelie\n",
              "103       Adelie\n",
              "142       Adelie\n",
              "168    Chinstrap\n",
              "38        Adelie\n",
              "160    Chinstrap\n",
              "96        Adelie\n",
              "197    Chinstrap\n",
              "112       Adelie\n",
              "186    Chinstrap\n",
              "145       Adelie\n",
              "21        Adelie\n",
              "141       Adelie\n",
              "128       Adelie\n",
              "27        Adelie\n",
              "86        Adelie\n",
              "51        Adelie\n",
              "82        Adelie\n",
              "5         Adelie\n",
              "114       Adelie\n",
              "202    Chinstrap\n",
              "50        Adelie\n",
              "Name: species, dtype: object"
            ]
          },
          "execution_count": 21,
          "metadata": {},
          "output_type": "execute_result"
        }
      ],
      "source": [
        "target_test"
      ]
    },
    {
      "cell_type": "code",
      "execution_count": null,
      "metadata": {
        "id": "9k_qmn1VL8ca"
      },
      "outputs": [],
      "source": []
    }
  ],
  "metadata": {
    "colab": {
      "provenance": []
    },
    "kernelspec": {
      "display_name": "Python 3",
      "name": "python3"
    },
    "language_info": {
      "codemirror_mode": {
        "name": "ipython",
        "version": 3
      },
      "file_extension": ".py",
      "mimetype": "text/x-python",
      "name": "python",
      "nbconvert_exporter": "python",
      "pygments_lexer": "ipython3",
      "version": "3.13.1"
    }
  },
  "nbformat": 4,
  "nbformat_minor": 0
}
