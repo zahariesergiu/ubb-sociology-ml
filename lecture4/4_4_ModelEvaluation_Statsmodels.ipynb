{
 "cells": [
  {
   "cell_type": "markdown",
   "metadata": {
    "collapsed": true,
    "id": "kQkSkVUmsnQO"
   },
   "source": [
    "[Source attribution section4.4 from Alan Turing Institute Research Data Science class](https://alan-turing-institute.github.io/rds-course/modules/m4/4.4-ModelEvaluation.html)\n",
    "# 4.4 Evaluating models\n",
    "\n",
    "\n",
    "In the last section we created a very simple model linking the binarised self reported health with the deprivation index, controlled by age, for the UK. We emphasised understanding the model and developed intuition of what the model learns, but a modelling task is not complete without evaluation. Evaluation examines how well the model has learned the data and is able generalise it to unseen data.\n",
    "\n",
    "One of the evaluation tools available to us are **goodness-of-fit** metrics. These metrics summarise the discrepancy between observed values from the data used for fitting and the values expected under the estimated parameters of the model.\n",
    "\n",
    "Goodness of fit metrics depend of the kind of model you are fitting, e.g., in regression you tend to look at the *Mean Square Error*, *Root Mean Squared Error*, *Coefficient of Determination*, residual plots, etc. All these metrics have to be interpreted with the full knowledge of the context of the data and the model. You can find more about these metrics in [here](https://medium.com/microsoftazure/how-to-better-evaluate-the-goodness-of-fit-of-regressions-990dbf1c0091)).\n",
    "\n",
    "The **goodness-of-fit** metrics alone are not enough for a full evaluation of the model. A fit can learn the data perfectly but can be **overfitted**, meaning that they have learned the peculiarities (noise) of the dataset and will make poor predictions on future unseen samples. Hence, part of model evaluation is to estimate the generalization accuracy of a model on unseen/out-of-sample data by using a **test set** (i.e data not seen by the model).\n",
    "\n",
    "In this section we will build on the modelling steps and perform model evaluation.  In this example we are focusing on logistic regression, however we will try to make the concepts and ideas generalisable to other models."
   ]
  },
  {
   "cell_type": "code",
   "execution_count": 1,
   "metadata": {
    "colab": {
     "base_uri": "https://localhost:8080/"
    },
    "id": "0Dt4a7ThsoOf",
    "outputId": "b460c4be-3525-4b71-96c5-fac540ab7f9e"
   },
   "outputs": [
    {
     "name": "stdout",
     "output_type": "stream",
     "text": [
      "Mounted at /content/gdrive\n"
     ]
    }
   ],
   "source": [
    "from google.colab import drive\n",
    "drive.mount('/content/gdrive')"
   ]
  },
  {
   "cell_type": "code",
   "execution_count": 21,
   "metadata": {
    "colab": {
     "base_uri": "https://localhost:8080/"
    },
    "id": "oWEdxj98snQQ",
    "outputId": "9dd1fb44-e7c5-4304-b421-a1d7173ce9a8"
   },
   "outputs": [],
   "source": [
    "import pandas as pd\n",
    "import seaborn as sns\n",
    "import matplotlib.pyplot as plt\n",
    "import numpy as np\n",
    "import statsmodels.api as sm\n",
    "from sklearn.metrics import roc_auc_score\n",
    "from sklearn.model_selection import train_test_split\n",
    "from sklearn.metrics import roc_curve, precision_recall_curve\n",
    "from sklearn import metrics\n",
    "from matplotlib import pyplot\n",
    "from scipy import stats\n",
    "\n",
    "plt.style.use('seaborn-v0_8-whitegrid')\n",
    "sns.set_theme(style=\"whitegrid\")\n",
    "sns.set_style(\"white\")"
   ]
  },
  {
   "cell_type": "markdown",
   "metadata": {
    "id": "lEdNEZw1snQR"
   },
   "source": [
    "## Data processing\n",
    "\n",
    "**Note**:\n",
    "\n",
    "We can access the data by downloading the [csv](https://beta.ukdataservice.ac.uk/datacatalogue/studies/study?id=7724#!/details) option from here.\n",
    "\n"
   ]
  },
  {
   "cell_type": "code",
   "execution_count": 22,
   "metadata": {
    "id": "tyADbn9NsnQS"
   },
   "outputs": [],
   "source": [
    "datafolder = 'D:/ADC/An2/Sem1/ML/ubb-sociology-ml/lecture4/data/UKDA-7724-csv/' # should match the path you unzipped the data to\n",
    "df = pd.read_csv(datafolder + 'csv/eqls_2011.csv')\n",
    "df_map = pd.read_csv(datafolder + 'mrdoc/excel/eqls_api_map.csv', encoding='latin1')"
   ]
  },
  {
   "cell_type": "code",
   "execution_count": 23,
   "metadata": {
    "colab": {
     "base_uri": "https://localhost:8080/"
    },
    "id": "SJx2fME0snQT",
    "outputId": "fb6b2132-8e2a-4b02-b9b7-eb8d0fa4f3bf"
   },
   "outputs": [],
   "source": [
    "# we are only interested in the UK for this example.\n",
    "df = df.query('Y11_Country == 27')\n",
    "\n",
    "var_map = {\"Y11_Q42\": \"SRH\",\n",
    "           'Y11_Deprindex': 'DeprIndex',\n",
    "           \"Y11_Accommproblems\": 'AccomProblems',\n",
    "           \"Y11_HHsize\": \"HouseholdSize\",\n",
    "           \"Y11_Q32\": \"Children\",\n",
    "           \"Y11_ISCEDsimple\":\"ISCED\",\n",
    "           \"Y11_SocExIndex\":\"SocialExclusionIndex\",\n",
    "           \"Y11_MWIndex\": \"MentalWellbeingIndex\",\n",
    "           \"Y11_Agecategory\":\"AgeCategory\",\n",
    "           \"Y11_HH2a\":\"Gender\",\n",
    "           \"Y11_Q31\":\"MaritalStatus\",\n",
    "           \"Y11_Country\":\"Country\"\n",
    "}\n",
    "\n",
    "df.rename(columns=var_map, inplace=True)\n",
    "df_set = df[var_map.values()]"
   ]
  },
  {
   "cell_type": "markdown",
   "metadata": {
    "id": "nBeoxDiksnQT"
   },
   "source": [
    "We drop rows with missing data (**warning**: this shouldn't be done lightly without having explored the missingness of the data, here we are doing for simplicity and to focus on the modelling)."
   ]
  },
  {
   "cell_type": "code",
   "execution_count": 27,
   "metadata": {},
   "outputs": [
    {
     "data": {
      "text/html": [
       "<div>\n",
       "<style scoped>\n",
       "    .dataframe tbody tr th:only-of-type {\n",
       "        vertical-align: middle;\n",
       "    }\n",
       "\n",
       "    .dataframe tbody tr th {\n",
       "        vertical-align: top;\n",
       "    }\n",
       "\n",
       "    .dataframe thead th {\n",
       "        text-align: right;\n",
       "    }\n",
       "</style>\n",
       "<table border=\"1\" class=\"dataframe\">\n",
       "  <thead>\n",
       "    <tr style=\"text-align: right;\">\n",
       "      <th></th>\n",
       "      <th>Wave</th>\n",
       "      <th>Country</th>\n",
       "      <th>MaritalStatus</th>\n",
       "      <th>Children</th>\n",
       "      <th>ISCED</th>\n",
       "      <th>Y11_Q49</th>\n",
       "      <th>Y11_Q67_1</th>\n",
       "      <th>Y11_Q67_2</th>\n",
       "      <th>Y11_Q67_3</th>\n",
       "      <th>Y11_Q67_4</th>\n",
       "      <th>...</th>\n",
       "      <th>DV_Q54a</th>\n",
       "      <th>DV_Q54b</th>\n",
       "      <th>DV_Q55</th>\n",
       "      <th>DV_Q56</th>\n",
       "      <th>DV_Q8</th>\n",
       "      <th>DV_Q10</th>\n",
       "      <th>ISO3166_Country</th>\n",
       "      <th>RowID</th>\n",
       "      <th>URIRowID</th>\n",
       "      <th>UniqueID</th>\n",
       "    </tr>\n",
       "  </thead>\n",
       "  <tbody>\n",
       "    <tr>\n",
       "      <th>36</th>\n",
       "      <td>3</td>\n",
       "      <td>27</td>\n",
       "      <td>4.0</td>\n",
       "      <td>0.0</td>\n",
       "      <td>2.0</td>\n",
       "      <td>4.0</td>\n",
       "      <td>1</td>\n",
       "      <td>1</td>\n",
       "      <td>2</td>\n",
       "      <td>1</td>\n",
       "      <td>...</td>\n",
       "      <td>2</td>\n",
       "      <td>2</td>\n",
       "      <td>4</td>\n",
       "      <td>1</td>\n",
       "      <td>4</td>\n",
       "      <td>4</td>\n",
       "      <td>https://www.iso.org/obp/ui/#iso:code:3166:GB</td>\n",
       "      <td>35671</td>\n",
       "      <td>https://api.ukdataservice.ac.uk/V1/datasets/eq...</td>\n",
       "      <td>AT1217819</td>\n",
       "    </tr>\n",
       "    <tr>\n",
       "      <th>37</th>\n",
       "      <td>3</td>\n",
       "      <td>27</td>\n",
       "      <td>4.0</td>\n",
       "      <td>0.0</td>\n",
       "      <td>3.0</td>\n",
       "      <td>3.0</td>\n",
       "      <td>2</td>\n",
       "      <td>1</td>\n",
       "      <td>1</td>\n",
       "      <td>1</td>\n",
       "      <td>...</td>\n",
       "      <td>3</td>\n",
       "      <td>3</td>\n",
       "      <td>0</td>\n",
       "      <td>0</td>\n",
       "      <td>4</td>\n",
       "      <td>4</td>\n",
       "      <td>https://www.iso.org/obp/ui/#iso:code:3166:GB</td>\n",
       "      <td>35672</td>\n",
       "      <td>https://api.ukdataservice.ac.uk/V1/datasets/eq...</td>\n",
       "      <td>AT1015108</td>\n",
       "    </tr>\n",
       "    <tr>\n",
       "      <th>38</th>\n",
       "      <td>3</td>\n",
       "      <td>27</td>\n",
       "      <td>1.0</td>\n",
       "      <td>2.0</td>\n",
       "      <td>6.0</td>\n",
       "      <td>4.0</td>\n",
       "      <td>2</td>\n",
       "      <td>1</td>\n",
       "      <td>1</td>\n",
       "      <td>1</td>\n",
       "      <td>...</td>\n",
       "      <td>1</td>\n",
       "      <td>3</td>\n",
       "      <td>4</td>\n",
       "      <td>0</td>\n",
       "      <td>4</td>\n",
       "      <td>1</td>\n",
       "      <td>https://www.iso.org/obp/ui/#iso:code:3166:GB</td>\n",
       "      <td>35673</td>\n",
       "      <td>https://api.ukdataservice.ac.uk/V1/datasets/eq...</td>\n",
       "      <td>AT1109213</td>\n",
       "    </tr>\n",
       "    <tr>\n",
       "      <th>39</th>\n",
       "      <td>3</td>\n",
       "      <td>27</td>\n",
       "      <td>4.0</td>\n",
       "      <td>0.0</td>\n",
       "      <td>6.0</td>\n",
       "      <td>4.0</td>\n",
       "      <td>2</td>\n",
       "      <td>1</td>\n",
       "      <td>1</td>\n",
       "      <td>1</td>\n",
       "      <td>...</td>\n",
       "      <td>1</td>\n",
       "      <td>3</td>\n",
       "      <td>4</td>\n",
       "      <td>0</td>\n",
       "      <td>4</td>\n",
       "      <td>4</td>\n",
       "      <td>https://www.iso.org/obp/ui/#iso:code:3166:GB</td>\n",
       "      <td>35674</td>\n",
       "      <td>https://api.ukdataservice.ac.uk/V1/datasets/eq...</td>\n",
       "      <td>AT1196421</td>\n",
       "    </tr>\n",
       "    <tr>\n",
       "      <th>40</th>\n",
       "      <td>3</td>\n",
       "      <td>27</td>\n",
       "      <td>1.0</td>\n",
       "      <td>3.0</td>\n",
       "      <td>6.0</td>\n",
       "      <td>4.0</td>\n",
       "      <td>2</td>\n",
       "      <td>1</td>\n",
       "      <td>1</td>\n",
       "      <td>1</td>\n",
       "      <td>...</td>\n",
       "      <td>3</td>\n",
       "      <td>3</td>\n",
       "      <td>0</td>\n",
       "      <td>0</td>\n",
       "      <td>4</td>\n",
       "      <td>2</td>\n",
       "      <td>https://www.iso.org/obp/ui/#iso:code:3166:GB</td>\n",
       "      <td>35675</td>\n",
       "      <td>https://api.ukdataservice.ac.uk/V1/datasets/eq...</td>\n",
       "      <td>AT1156417</td>\n",
       "    </tr>\n",
       "    <tr>\n",
       "      <th>...</th>\n",
       "      <td>...</td>\n",
       "      <td>...</td>\n",
       "      <td>...</td>\n",
       "      <td>...</td>\n",
       "      <td>...</td>\n",
       "      <td>...</td>\n",
       "      <td>...</td>\n",
       "      <td>...</td>\n",
       "      <td>...</td>\n",
       "      <td>...</td>\n",
       "      <td>...</td>\n",
       "      <td>...</td>\n",
       "      <td>...</td>\n",
       "      <td>...</td>\n",
       "      <td>...</td>\n",
       "      <td>...</td>\n",
       "      <td>...</td>\n",
       "      <td>...</td>\n",
       "      <td>...</td>\n",
       "      <td>...</td>\n",
       "      <td>...</td>\n",
       "    </tr>\n",
       "    <tr>\n",
       "      <th>15909</th>\n",
       "      <td>3</td>\n",
       "      <td>27</td>\n",
       "      <td>2.0</td>\n",
       "      <td>2.0</td>\n",
       "      <td>4.0</td>\n",
       "      <td>3.0</td>\n",
       "      <td>2</td>\n",
       "      <td>1</td>\n",
       "      <td>1</td>\n",
       "      <td>1</td>\n",
       "      <td>...</td>\n",
       "      <td>1</td>\n",
       "      <td>3</td>\n",
       "      <td>2</td>\n",
       "      <td>0</td>\n",
       "      <td>4</td>\n",
       "      <td>4</td>\n",
       "      <td>https://www.iso.org/obp/ui/#iso:code:3166:GB</td>\n",
       "      <td>51544</td>\n",
       "      <td>https://api.ukdataservice.ac.uk/V1/datasets/eq...</td>\n",
       "      <td>FR1847929</td>\n",
       "    </tr>\n",
       "    <tr>\n",
       "      <th>15910</th>\n",
       "      <td>3</td>\n",
       "      <td>27</td>\n",
       "      <td>2.0</td>\n",
       "      <td>3.0</td>\n",
       "      <td>5.0</td>\n",
       "      <td>2.0</td>\n",
       "      <td>2</td>\n",
       "      <td>1</td>\n",
       "      <td>1</td>\n",
       "      <td>1</td>\n",
       "      <td>...</td>\n",
       "      <td>2</td>\n",
       "      <td>3</td>\n",
       "      <td>3</td>\n",
       "      <td>0</td>\n",
       "      <td>4</td>\n",
       "      <td>4</td>\n",
       "      <td>https://www.iso.org/obp/ui/#iso:code:3166:GB</td>\n",
       "      <td>51545</td>\n",
       "      <td>https://api.ukdataservice.ac.uk/V1/datasets/eq...</td>\n",
       "      <td>FR1655118</td>\n",
       "    </tr>\n",
       "    <tr>\n",
       "      <th>15911</th>\n",
       "      <td>3</td>\n",
       "      <td>27</td>\n",
       "      <td>4.0</td>\n",
       "      <td>5.0</td>\n",
       "      <td>3.0</td>\n",
       "      <td>2.0</td>\n",
       "      <td>2</td>\n",
       "      <td>1</td>\n",
       "      <td>1</td>\n",
       "      <td>1</td>\n",
       "      <td>...</td>\n",
       "      <td>2</td>\n",
       "      <td>3</td>\n",
       "      <td>3</td>\n",
       "      <td>0</td>\n",
       "      <td>4</td>\n",
       "      <td>4</td>\n",
       "      <td>https://www.iso.org/obp/ui/#iso:code:3166:GB</td>\n",
       "      <td>51546</td>\n",
       "      <td>https://api.ukdataservice.ac.uk/V1/datasets/eq...</td>\n",
       "      <td>FR1641517</td>\n",
       "    </tr>\n",
       "    <tr>\n",
       "      <th>15912</th>\n",
       "      <td>3</td>\n",
       "      <td>27</td>\n",
       "      <td>2.0</td>\n",
       "      <td>2.0</td>\n",
       "      <td>3.0</td>\n",
       "      <td>4.0</td>\n",
       "      <td>2</td>\n",
       "      <td>1</td>\n",
       "      <td>1</td>\n",
       "      <td>1</td>\n",
       "      <td>...</td>\n",
       "      <td>3</td>\n",
       "      <td>3</td>\n",
       "      <td>0</td>\n",
       "      <td>0</td>\n",
       "      <td>4</td>\n",
       "      <td>4</td>\n",
       "      <td>https://www.iso.org/obp/ui/#iso:code:3166:GB</td>\n",
       "      <td>51547</td>\n",
       "      <td>https://api.ukdataservice.ac.uk/V1/datasets/eq...</td>\n",
       "      <td>FR1647119</td>\n",
       "    </tr>\n",
       "    <tr>\n",
       "      <th>15913</th>\n",
       "      <td>3</td>\n",
       "      <td>27</td>\n",
       "      <td>2.0</td>\n",
       "      <td>3.0</td>\n",
       "      <td>5.0</td>\n",
       "      <td>3.0</td>\n",
       "      <td>2</td>\n",
       "      <td>1</td>\n",
       "      <td>1</td>\n",
       "      <td>1</td>\n",
       "      <td>...</td>\n",
       "      <td>3</td>\n",
       "      <td>3</td>\n",
       "      <td>0</td>\n",
       "      <td>0</td>\n",
       "      <td>4</td>\n",
       "      <td>4</td>\n",
       "      <td>https://www.iso.org/obp/ui/#iso:code:3166:GB</td>\n",
       "      <td>51548</td>\n",
       "      <td>https://api.ukdataservice.ac.uk/V1/datasets/eq...</td>\n",
       "      <td>FR1656119</td>\n",
       "    </tr>\n",
       "  </tbody>\n",
       "</table>\n",
       "<p>2252 rows × 199 columns</p>\n",
       "</div>"
      ],
      "text/plain": [
       "       Wave  Country  MaritalStatus  Children  ISCED  Y11_Q49  Y11_Q67_1  \\\n",
       "36        3       27            4.0       0.0    2.0      4.0          1   \n",
       "37        3       27            4.0       0.0    3.0      3.0          2   \n",
       "38        3       27            1.0       2.0    6.0      4.0          2   \n",
       "39        3       27            4.0       0.0    6.0      4.0          2   \n",
       "40        3       27            1.0       3.0    6.0      4.0          2   \n",
       "...     ...      ...            ...       ...    ...      ...        ...   \n",
       "15909     3       27            2.0       2.0    4.0      3.0          2   \n",
       "15910     3       27            2.0       3.0    5.0      2.0          2   \n",
       "15911     3       27            4.0       5.0    3.0      2.0          2   \n",
       "15912     3       27            2.0       2.0    3.0      4.0          2   \n",
       "15913     3       27            2.0       3.0    5.0      3.0          2   \n",
       "\n",
       "       Y11_Q67_2  Y11_Q67_3  Y11_Q67_4  ...  DV_Q54a  DV_Q54b  DV_Q55  DV_Q56  \\\n",
       "36             1          2          1  ...        2        2       4       1   \n",
       "37             1          1          1  ...        3        3       0       0   \n",
       "38             1          1          1  ...        1        3       4       0   \n",
       "39             1          1          1  ...        1        3       4       0   \n",
       "40             1          1          1  ...        3        3       0       0   \n",
       "...          ...        ...        ...  ...      ...      ...     ...     ...   \n",
       "15909          1          1          1  ...        1        3       2       0   \n",
       "15910          1          1          1  ...        2        3       3       0   \n",
       "15911          1          1          1  ...        2        3       3       0   \n",
       "15912          1          1          1  ...        3        3       0       0   \n",
       "15913          1          1          1  ...        3        3       0       0   \n",
       "\n",
       "       DV_Q8  DV_Q10                               ISO3166_Country  RowID  \\\n",
       "36         4       4  https://www.iso.org/obp/ui/#iso:code:3166:GB  35671   \n",
       "37         4       4  https://www.iso.org/obp/ui/#iso:code:3166:GB  35672   \n",
       "38         4       1  https://www.iso.org/obp/ui/#iso:code:3166:GB  35673   \n",
       "39         4       4  https://www.iso.org/obp/ui/#iso:code:3166:GB  35674   \n",
       "40         4       2  https://www.iso.org/obp/ui/#iso:code:3166:GB  35675   \n",
       "...      ...     ...                                           ...    ...   \n",
       "15909      4       4  https://www.iso.org/obp/ui/#iso:code:3166:GB  51544   \n",
       "15910      4       4  https://www.iso.org/obp/ui/#iso:code:3166:GB  51545   \n",
       "15911      4       4  https://www.iso.org/obp/ui/#iso:code:3166:GB  51546   \n",
       "15912      4       4  https://www.iso.org/obp/ui/#iso:code:3166:GB  51547   \n",
       "15913      4       4  https://www.iso.org/obp/ui/#iso:code:3166:GB  51548   \n",
       "\n",
       "                                                URIRowID   UniqueID  \n",
       "36     https://api.ukdataservice.ac.uk/V1/datasets/eq...  AT1217819  \n",
       "37     https://api.ukdataservice.ac.uk/V1/datasets/eq...  AT1015108  \n",
       "38     https://api.ukdataservice.ac.uk/V1/datasets/eq...  AT1109213  \n",
       "39     https://api.ukdataservice.ac.uk/V1/datasets/eq...  AT1196421  \n",
       "40     https://api.ukdataservice.ac.uk/V1/datasets/eq...  AT1156417  \n",
       "...                                                  ...        ...  \n",
       "15909  https://api.ukdataservice.ac.uk/V1/datasets/eq...  FR1847929  \n",
       "15910  https://api.ukdataservice.ac.uk/V1/datasets/eq...  FR1655118  \n",
       "15911  https://api.ukdataservice.ac.uk/V1/datasets/eq...  FR1641517  \n",
       "15912  https://api.ukdataservice.ac.uk/V1/datasets/eq...  FR1647119  \n",
       "15913  https://api.ukdataservice.ac.uk/V1/datasets/eq...  FR1656119  \n",
       "\n",
       "[2252 rows x 199 columns]"
      ]
     },
     "execution_count": 27,
     "metadata": {},
     "output_type": "execute_result"
    }
   ],
   "source": [
    "df"
   ]
  },
  {
   "cell_type": "code",
   "execution_count": 28,
   "metadata": {},
   "outputs": [
    {
     "data": {
      "text/html": [
       "<div>\n",
       "<style scoped>\n",
       "    .dataframe tbody tr th:only-of-type {\n",
       "        vertical-align: middle;\n",
       "    }\n",
       "\n",
       "    .dataframe tbody tr th {\n",
       "        vertical-align: top;\n",
       "    }\n",
       "\n",
       "    .dataframe thead th {\n",
       "        text-align: right;\n",
       "    }\n",
       "</style>\n",
       "<table border=\"1\" class=\"dataframe\">\n",
       "  <thead>\n",
       "    <tr style=\"text-align: right;\">\n",
       "      <th></th>\n",
       "      <th>SRH</th>\n",
       "      <th>DeprIndex</th>\n",
       "      <th>AccomProblems</th>\n",
       "      <th>HouseholdSize</th>\n",
       "      <th>Children</th>\n",
       "      <th>ISCED</th>\n",
       "      <th>SocialExclusionIndex</th>\n",
       "      <th>MentalWellbeingIndex</th>\n",
       "      <th>AgeCategory</th>\n",
       "      <th>Gender</th>\n",
       "      <th>MaritalStatus</th>\n",
       "      <th>Country</th>\n",
       "    </tr>\n",
       "  </thead>\n",
       "  <tbody>\n",
       "    <tr>\n",
       "      <th>36</th>\n",
       "      <td>2.0</td>\n",
       "      <td>2.0</td>\n",
       "      <td>2.0</td>\n",
       "      <td>3</td>\n",
       "      <td>0.0</td>\n",
       "      <td>2.0</td>\n",
       "      <td>2.50</td>\n",
       "      <td>72.0</td>\n",
       "      <td>1</td>\n",
       "      <td>1</td>\n",
       "      <td>4.0</td>\n",
       "      <td>27</td>\n",
       "    </tr>\n",
       "    <tr>\n",
       "      <th>37</th>\n",
       "      <td>3.0</td>\n",
       "      <td>NaN</td>\n",
       "      <td>4.0</td>\n",
       "      <td>3</td>\n",
       "      <td>0.0</td>\n",
       "      <td>3.0</td>\n",
       "      <td>2.75</td>\n",
       "      <td>64.0</td>\n",
       "      <td>2</td>\n",
       "      <td>1</td>\n",
       "      <td>4.0</td>\n",
       "      <td>27</td>\n",
       "    </tr>\n",
       "    <tr>\n",
       "      <th>38</th>\n",
       "      <td>3.0</td>\n",
       "      <td>5.0</td>\n",
       "      <td>2.0</td>\n",
       "      <td>4</td>\n",
       "      <td>2.0</td>\n",
       "      <td>6.0</td>\n",
       "      <td>4.25</td>\n",
       "      <td>36.0</td>\n",
       "      <td>3</td>\n",
       "      <td>1</td>\n",
       "      <td>1.0</td>\n",
       "      <td>27</td>\n",
       "    </tr>\n",
       "    <tr>\n",
       "      <th>39</th>\n",
       "      <td>2.0</td>\n",
       "      <td>0.0</td>\n",
       "      <td>0.0</td>\n",
       "      <td>4</td>\n",
       "      <td>0.0</td>\n",
       "      <td>6.0</td>\n",
       "      <td>1.75</td>\n",
       "      <td>56.0</td>\n",
       "      <td>1</td>\n",
       "      <td>2</td>\n",
       "      <td>4.0</td>\n",
       "      <td>27</td>\n",
       "    </tr>\n",
       "    <tr>\n",
       "      <th>40</th>\n",
       "      <td>3.0</td>\n",
       "      <td>0.0</td>\n",
       "      <td>1.0</td>\n",
       "      <td>4</td>\n",
       "      <td>3.0</td>\n",
       "      <td>6.0</td>\n",
       "      <td>2.00</td>\n",
       "      <td>92.0</td>\n",
       "      <td>2</td>\n",
       "      <td>1</td>\n",
       "      <td>1.0</td>\n",
       "      <td>27</td>\n",
       "    </tr>\n",
       "    <tr>\n",
       "      <th>...</th>\n",
       "      <td>...</td>\n",
       "      <td>...</td>\n",
       "      <td>...</td>\n",
       "      <td>...</td>\n",
       "      <td>...</td>\n",
       "      <td>...</td>\n",
       "      <td>...</td>\n",
       "      <td>...</td>\n",
       "      <td>...</td>\n",
       "      <td>...</td>\n",
       "      <td>...</td>\n",
       "      <td>...</td>\n",
       "    </tr>\n",
       "    <tr>\n",
       "      <th>15909</th>\n",
       "      <td>2.0</td>\n",
       "      <td>1.0</td>\n",
       "      <td>1.0</td>\n",
       "      <td>3</td>\n",
       "      <td>2.0</td>\n",
       "      <td>4.0</td>\n",
       "      <td>3.25</td>\n",
       "      <td>72.0</td>\n",
       "      <td>2</td>\n",
       "      <td>2</td>\n",
       "      <td>2.0</td>\n",
       "      <td>27</td>\n",
       "    </tr>\n",
       "    <tr>\n",
       "      <th>15910</th>\n",
       "      <td>2.0</td>\n",
       "      <td>3.0</td>\n",
       "      <td>0.0</td>\n",
       "      <td>4</td>\n",
       "      <td>3.0</td>\n",
       "      <td>5.0</td>\n",
       "      <td>3.00</td>\n",
       "      <td>36.0</td>\n",
       "      <td>2</td>\n",
       "      <td>2</td>\n",
       "      <td>2.0</td>\n",
       "      <td>27</td>\n",
       "    </tr>\n",
       "    <tr>\n",
       "      <th>15911</th>\n",
       "      <td>4.0</td>\n",
       "      <td>5.0</td>\n",
       "      <td>2.0</td>\n",
       "      <td>4</td>\n",
       "      <td>5.0</td>\n",
       "      <td>3.0</td>\n",
       "      <td>4.00</td>\n",
       "      <td>4.0</td>\n",
       "      <td>3</td>\n",
       "      <td>2</td>\n",
       "      <td>4.0</td>\n",
       "      <td>27</td>\n",
       "    </tr>\n",
       "    <tr>\n",
       "      <th>15912</th>\n",
       "      <td>2.0</td>\n",
       "      <td>2.0</td>\n",
       "      <td>0.0</td>\n",
       "      <td>3</td>\n",
       "      <td>2.0</td>\n",
       "      <td>3.0</td>\n",
       "      <td>1.50</td>\n",
       "      <td>88.0</td>\n",
       "      <td>3</td>\n",
       "      <td>2</td>\n",
       "      <td>2.0</td>\n",
       "      <td>27</td>\n",
       "    </tr>\n",
       "    <tr>\n",
       "      <th>15913</th>\n",
       "      <td>1.0</td>\n",
       "      <td>0.0</td>\n",
       "      <td>0.0</td>\n",
       "      <td>2</td>\n",
       "      <td>3.0</td>\n",
       "      <td>5.0</td>\n",
       "      <td>1.00</td>\n",
       "      <td>100.0</td>\n",
       "      <td>3</td>\n",
       "      <td>2</td>\n",
       "      <td>2.0</td>\n",
       "      <td>27</td>\n",
       "    </tr>\n",
       "  </tbody>\n",
       "</table>\n",
       "<p>2252 rows × 12 columns</p>\n",
       "</div>"
      ],
      "text/plain": [
       "       SRH  DeprIndex  AccomProblems  HouseholdSize  Children  ISCED  \\\n",
       "36     2.0        2.0            2.0              3       0.0    2.0   \n",
       "37     3.0        NaN            4.0              3       0.0    3.0   \n",
       "38     3.0        5.0            2.0              4       2.0    6.0   \n",
       "39     2.0        0.0            0.0              4       0.0    6.0   \n",
       "40     3.0        0.0            1.0              4       3.0    6.0   \n",
       "...    ...        ...            ...            ...       ...    ...   \n",
       "15909  2.0        1.0            1.0              3       2.0    4.0   \n",
       "15910  2.0        3.0            0.0              4       3.0    5.0   \n",
       "15911  4.0        5.0            2.0              4       5.0    3.0   \n",
       "15912  2.0        2.0            0.0              3       2.0    3.0   \n",
       "15913  1.0        0.0            0.0              2       3.0    5.0   \n",
       "\n",
       "       SocialExclusionIndex  MentalWellbeingIndex  AgeCategory  Gender  \\\n",
       "36                     2.50                  72.0            1       1   \n",
       "37                     2.75                  64.0            2       1   \n",
       "38                     4.25                  36.0            3       1   \n",
       "39                     1.75                  56.0            1       2   \n",
       "40                     2.00                  92.0            2       1   \n",
       "...                     ...                   ...          ...     ...   \n",
       "15909                  3.25                  72.0            2       2   \n",
       "15910                  3.00                  36.0            2       2   \n",
       "15911                  4.00                   4.0            3       2   \n",
       "15912                  1.50                  88.0            3       2   \n",
       "15913                  1.00                 100.0            3       2   \n",
       "\n",
       "       MaritalStatus  Country  \n",
       "36               4.0       27  \n",
       "37               4.0       27  \n",
       "38               1.0       27  \n",
       "39               4.0       27  \n",
       "40               1.0       27  \n",
       "...              ...      ...  \n",
       "15909            2.0       27  \n",
       "15910            2.0       27  \n",
       "15911            4.0       27  \n",
       "15912            2.0       27  \n",
       "15913            2.0       27  \n",
       "\n",
       "[2252 rows x 12 columns]"
      ]
     },
     "execution_count": 28,
     "metadata": {},
     "output_type": "execute_result"
    }
   ],
   "source": [
    "df_set"
   ]
  },
  {
   "cell_type": "code",
   "execution_count": 32,
   "metadata": {
    "id": "BialGNidsnQU"
   },
   "outputs": [],
   "source": [
    "df_model = df_set.dropna()"
   ]
  },
  {
   "cell_type": "code",
   "execution_count": 31,
   "metadata": {
    "colab": {
     "base_uri": "https://localhost:8080/",
     "height": 206
    },
    "id": "KnVfM8_7tlQV",
    "outputId": "9ae98b42-703c-421a-8ebe-74e71d2bbc52"
   },
   "outputs": [
    {
     "data": {
      "text/html": [
       "<div>\n",
       "<style scoped>\n",
       "    .dataframe tbody tr th:only-of-type {\n",
       "        vertical-align: middle;\n",
       "    }\n",
       "\n",
       "    .dataframe tbody tr th {\n",
       "        vertical-align: top;\n",
       "    }\n",
       "\n",
       "    .dataframe thead th {\n",
       "        text-align: right;\n",
       "    }\n",
       "</style>\n",
       "<table border=\"1\" class=\"dataframe\">\n",
       "  <thead>\n",
       "    <tr style=\"text-align: right;\">\n",
       "      <th></th>\n",
       "      <th>SRH</th>\n",
       "      <th>DeprIndex</th>\n",
       "      <th>AccomProblems</th>\n",
       "      <th>HouseholdSize</th>\n",
       "      <th>Children</th>\n",
       "      <th>ISCED</th>\n",
       "      <th>SocialExclusionIndex</th>\n",
       "      <th>MentalWellbeingIndex</th>\n",
       "      <th>AgeCategory</th>\n",
       "      <th>Gender</th>\n",
       "      <th>MaritalStatus</th>\n",
       "      <th>Country</th>\n",
       "    </tr>\n",
       "  </thead>\n",
       "  <tbody>\n",
       "    <tr>\n",
       "      <th>36</th>\n",
       "      <td>2.0</td>\n",
       "      <td>2.0</td>\n",
       "      <td>2.0</td>\n",
       "      <td>3</td>\n",
       "      <td>0.0</td>\n",
       "      <td>2.0</td>\n",
       "      <td>2.50</td>\n",
       "      <td>72.0</td>\n",
       "      <td>1</td>\n",
       "      <td>1</td>\n",
       "      <td>4.0</td>\n",
       "      <td>27</td>\n",
       "    </tr>\n",
       "    <tr>\n",
       "      <th>38</th>\n",
       "      <td>3.0</td>\n",
       "      <td>5.0</td>\n",
       "      <td>2.0</td>\n",
       "      <td>4</td>\n",
       "      <td>2.0</td>\n",
       "      <td>6.0</td>\n",
       "      <td>4.25</td>\n",
       "      <td>36.0</td>\n",
       "      <td>3</td>\n",
       "      <td>1</td>\n",
       "      <td>1.0</td>\n",
       "      <td>27</td>\n",
       "    </tr>\n",
       "    <tr>\n",
       "      <th>39</th>\n",
       "      <td>2.0</td>\n",
       "      <td>0.0</td>\n",
       "      <td>0.0</td>\n",
       "      <td>4</td>\n",
       "      <td>0.0</td>\n",
       "      <td>6.0</td>\n",
       "      <td>1.75</td>\n",
       "      <td>56.0</td>\n",
       "      <td>1</td>\n",
       "      <td>2</td>\n",
       "      <td>4.0</td>\n",
       "      <td>27</td>\n",
       "    </tr>\n",
       "    <tr>\n",
       "      <th>40</th>\n",
       "      <td>3.0</td>\n",
       "      <td>0.0</td>\n",
       "      <td>1.0</td>\n",
       "      <td>4</td>\n",
       "      <td>3.0</td>\n",
       "      <td>6.0</td>\n",
       "      <td>2.00</td>\n",
       "      <td>92.0</td>\n",
       "      <td>2</td>\n",
       "      <td>1</td>\n",
       "      <td>1.0</td>\n",
       "      <td>27</td>\n",
       "    </tr>\n",
       "    <tr>\n",
       "      <th>41</th>\n",
       "      <td>2.0</td>\n",
       "      <td>0.0</td>\n",
       "      <td>0.0</td>\n",
       "      <td>3</td>\n",
       "      <td>0.0</td>\n",
       "      <td>6.0</td>\n",
       "      <td>2.00</td>\n",
       "      <td>72.0</td>\n",
       "      <td>1</td>\n",
       "      <td>1</td>\n",
       "      <td>4.0</td>\n",
       "      <td>27</td>\n",
       "    </tr>\n",
       "  </tbody>\n",
       "</table>\n",
       "</div>"
      ],
      "text/plain": [
       "    SRH  DeprIndex  AccomProblems  HouseholdSize  Children  ISCED  \\\n",
       "36  2.0        2.0            2.0              3       0.0    2.0   \n",
       "38  3.0        5.0            2.0              4       2.0    6.0   \n",
       "39  2.0        0.0            0.0              4       0.0    6.0   \n",
       "40  3.0        0.0            1.0              4       3.0    6.0   \n",
       "41  2.0        0.0            0.0              3       0.0    6.0   \n",
       "\n",
       "    SocialExclusionIndex  MentalWellbeingIndex  AgeCategory  Gender  \\\n",
       "36                  2.50                  72.0            1       1   \n",
       "38                  4.25                  36.0            3       1   \n",
       "39                  1.75                  56.0            1       2   \n",
       "40                  2.00                  92.0            2       1   \n",
       "41                  2.00                  72.0            1       1   \n",
       "\n",
       "    MaritalStatus  Country  \n",
       "36            4.0       27  \n",
       "38            1.0       27  \n",
       "39            4.0       27  \n",
       "40            1.0       27  \n",
       "41            4.0       27  "
      ]
     },
     "execution_count": 31,
     "metadata": {},
     "output_type": "execute_result"
    }
   ],
   "source": [
    "df_model.head()"
   ]
  },
  {
   "cell_type": "markdown",
   "metadata": {
    "id": "sjiOQOgmsnQU"
   },
   "source": [
    "Finally, we dichotomise the `SRH` variable."
   ]
  },
  {
   "cell_type": "code",
   "execution_count": 33,
   "metadata": {
    "colab": {
     "base_uri": "https://localhost:8080/"
    },
    "id": "ElWx24QgvV2q",
    "outputId": "69ae01b8-52d4-4abb-8700-c127ccaa6d07"
   },
   "outputs": [
    {
     "data": {
      "text/plain": [
       "array([2., 3., 1., 4., 5.])"
      ]
     },
     "execution_count": 33,
     "metadata": {},
     "output_type": "execute_result"
    }
   ],
   "source": [
    "df_model['SRH'].unique()"
   ]
  },
  {
   "cell_type": "code",
   "execution_count": 34,
   "metadata": {},
   "outputs": [
    {
     "data": {
      "text/plain": [
       "36       2.0\n",
       "38       3.0\n",
       "39       2.0\n",
       "40       3.0\n",
       "41       2.0\n",
       "        ... \n",
       "15909    2.0\n",
       "15910    2.0\n",
       "15911    4.0\n",
       "15912    2.0\n",
       "15913    1.0\n",
       "Name: SRH, Length: 2004, dtype: float64"
      ]
     },
     "execution_count": 34,
     "metadata": {},
     "output_type": "execute_result"
    }
   ],
   "source": [
    "df_model['SRH']"
   ]
  },
  {
   "cell_type": "code",
   "execution_count": 35,
   "metadata": {},
   "outputs": [
    {
     "data": {
      "text/plain": [
       "5"
      ]
     },
     "execution_count": 35,
     "metadata": {},
     "output_type": "execute_result"
    }
   ],
   "source": [
    "df_model['SRH'].nunique()"
   ]
  },
  {
   "cell_type": "markdown",
   "metadata": {
    "id": "U9gfyeEiwPUX"
   },
   "source": [
    "Self-rated health [SRH](https://www.sciencedirect.com/science/article/abs/pii/S0277953609002925?via%3Dihub) is the rating that individuals give to their health status. It is a global measure both of mental state and of physical condition"
   ]
  },
  {
   "cell_type": "markdown",
   "metadata": {
    "id": "WT5QYTCbxLfw"
   },
   "source": [
    "The exact wordings and response options of self-rated health questions vary. In the question that is most widely used in the US, responses are set out on a scale from excellent through very good, good and fair to poor, while the options recommended by WHO (1996) and the EURO-REVES 2 group (Robine et al., 2003) are very good, good, fair, bad and very bad; there is also a version that uses the options very good, fairly good, average, fairly bad, and bad (Heikkinen et al., 1983, Jylhä et al., 1998)."
   ]
  },
  {
   "cell_type": "code",
   "execution_count": 36,
   "metadata": {
    "colab": {
     "base_uri": "https://localhost:8080/"
    },
    "id": "ggScCF7DsnQV",
    "outputId": "fe3b2670-cba0-43d0-8a11-d11261e46f14"
   },
   "outputs": [
    {
     "name": "stderr",
     "output_type": "stream",
     "text": [
      "C:\\Users\\voicu\\AppData\\Local\\Temp\\ipykernel_2068\\500073403.py:2: SettingWithCopyWarning: \n",
      "A value is trying to be set on a copy of a slice from a DataFrame.\n",
      "Try using .loc[row_indexer,col_indexer] = value instead\n",
      "\n",
      "See the caveats in the documentation: https://pandas.pydata.org/pandas-docs/stable/user_guide/indexing.html#returning-a-view-versus-a-copy\n",
      "  df_model['SRH_binary'] = df_model.SRH.apply(lambda x: 1 if float(x) <= 3 else 0)\n"
     ]
    }
   ],
   "source": [
    "# dichotomise SRH Self-Rated Health\n",
    "df_model['SRH_binary'] = df_model.SRH.apply(lambda x: 1 if float(x) <= 3 else 0)"
   ]
  },
  {
   "cell_type": "code",
   "execution_count": 9,
   "metadata": {
    "colab": {
     "base_uri": "https://localhost:8080/",
     "height": 226
    },
    "id": "5CqtLsIWu-rd",
    "outputId": "ca60ebc7-d957-4df8-b9e9-b5e26c2b7471"
   },
   "outputs": [
    {
     "data": {
      "text/html": [
       "\n",
       "  <div id=\"df-967ff09e-2c85-4ee0-8e20-e3ec2af85928\" class=\"colab-df-container\">\n",
       "    <div>\n",
       "<style scoped>\n",
       "    .dataframe tbody tr th:only-of-type {\n",
       "        vertical-align: middle;\n",
       "    }\n",
       "\n",
       "    .dataframe tbody tr th {\n",
       "        vertical-align: top;\n",
       "    }\n",
       "\n",
       "    .dataframe thead th {\n",
       "        text-align: right;\n",
       "    }\n",
       "</style>\n",
       "<table border=\"1\" class=\"dataframe\">\n",
       "  <thead>\n",
       "    <tr style=\"text-align: right;\">\n",
       "      <th></th>\n",
       "      <th>SRH</th>\n",
       "      <th>DeprIndex</th>\n",
       "      <th>AccomProblems</th>\n",
       "      <th>HouseholdSize</th>\n",
       "      <th>Children</th>\n",
       "      <th>ISCED</th>\n",
       "      <th>SocialExclusionIndex</th>\n",
       "      <th>MentalWellbeingIndex</th>\n",
       "      <th>AgeCategory</th>\n",
       "      <th>Gender</th>\n",
       "      <th>MaritalStatus</th>\n",
       "      <th>Country</th>\n",
       "      <th>SRH_binary</th>\n",
       "    </tr>\n",
       "  </thead>\n",
       "  <tbody>\n",
       "    <tr>\n",
       "      <th>36</th>\n",
       "      <td>2.0</td>\n",
       "      <td>2.0</td>\n",
       "      <td>2.0</td>\n",
       "      <td>3</td>\n",
       "      <td>0.0</td>\n",
       "      <td>2.0</td>\n",
       "      <td>2.50</td>\n",
       "      <td>72.0</td>\n",
       "      <td>1</td>\n",
       "      <td>1</td>\n",
       "      <td>4.0</td>\n",
       "      <td>27</td>\n",
       "      <td>1</td>\n",
       "    </tr>\n",
       "    <tr>\n",
       "      <th>38</th>\n",
       "      <td>3.0</td>\n",
       "      <td>5.0</td>\n",
       "      <td>2.0</td>\n",
       "      <td>4</td>\n",
       "      <td>2.0</td>\n",
       "      <td>6.0</td>\n",
       "      <td>4.25</td>\n",
       "      <td>36.0</td>\n",
       "      <td>3</td>\n",
       "      <td>1</td>\n",
       "      <td>1.0</td>\n",
       "      <td>27</td>\n",
       "      <td>1</td>\n",
       "    </tr>\n",
       "    <tr>\n",
       "      <th>39</th>\n",
       "      <td>2.0</td>\n",
       "      <td>0.0</td>\n",
       "      <td>0.0</td>\n",
       "      <td>4</td>\n",
       "      <td>0.0</td>\n",
       "      <td>6.0</td>\n",
       "      <td>1.75</td>\n",
       "      <td>56.0</td>\n",
       "      <td>1</td>\n",
       "      <td>2</td>\n",
       "      <td>4.0</td>\n",
       "      <td>27</td>\n",
       "      <td>1</td>\n",
       "    </tr>\n",
       "    <tr>\n",
       "      <th>40</th>\n",
       "      <td>3.0</td>\n",
       "      <td>0.0</td>\n",
       "      <td>1.0</td>\n",
       "      <td>4</td>\n",
       "      <td>3.0</td>\n",
       "      <td>6.0</td>\n",
       "      <td>2.00</td>\n",
       "      <td>92.0</td>\n",
       "      <td>2</td>\n",
       "      <td>1</td>\n",
       "      <td>1.0</td>\n",
       "      <td>27</td>\n",
       "      <td>1</td>\n",
       "    </tr>\n",
       "    <tr>\n",
       "      <th>41</th>\n",
       "      <td>2.0</td>\n",
       "      <td>0.0</td>\n",
       "      <td>0.0</td>\n",
       "      <td>3</td>\n",
       "      <td>0.0</td>\n",
       "      <td>6.0</td>\n",
       "      <td>2.00</td>\n",
       "      <td>72.0</td>\n",
       "      <td>1</td>\n",
       "      <td>1</td>\n",
       "      <td>4.0</td>\n",
       "      <td>27</td>\n",
       "      <td>1</td>\n",
       "    </tr>\n",
       "  </tbody>\n",
       "</table>\n",
       "</div>\n",
       "    <div class=\"colab-df-buttons\">\n",
       "\n",
       "  <div class=\"colab-df-container\">\n",
       "    <button class=\"colab-df-convert\" onclick=\"convertToInteractive('df-967ff09e-2c85-4ee0-8e20-e3ec2af85928')\"\n",
       "            title=\"Convert this dataframe to an interactive table.\"\n",
       "            style=\"display:none;\">\n",
       "\n",
       "  <svg xmlns=\"http://www.w3.org/2000/svg\" height=\"24px\" viewBox=\"0 -960 960 960\">\n",
       "    <path d=\"M120-120v-720h720v720H120Zm60-500h600v-160H180v160Zm220 220h160v-160H400v160Zm0 220h160v-160H400v160ZM180-400h160v-160H180v160Zm440 0h160v-160H620v160ZM180-180h160v-160H180v160Zm440 0h160v-160H620v160Z\"/>\n",
       "  </svg>\n",
       "    </button>\n",
       "\n",
       "  <style>\n",
       "    .colab-df-container {\n",
       "      display:flex;\n",
       "      gap: 12px;\n",
       "    }\n",
       "\n",
       "    .colab-df-convert {\n",
       "      background-color: #E8F0FE;\n",
       "      border: none;\n",
       "      border-radius: 50%;\n",
       "      cursor: pointer;\n",
       "      display: none;\n",
       "      fill: #1967D2;\n",
       "      height: 32px;\n",
       "      padding: 0 0 0 0;\n",
       "      width: 32px;\n",
       "    }\n",
       "\n",
       "    .colab-df-convert:hover {\n",
       "      background-color: #E2EBFA;\n",
       "      box-shadow: 0px 1px 2px rgba(60, 64, 67, 0.3), 0px 1px 3px 1px rgba(60, 64, 67, 0.15);\n",
       "      fill: #174EA6;\n",
       "    }\n",
       "\n",
       "    .colab-df-buttons div {\n",
       "      margin-bottom: 4px;\n",
       "    }\n",
       "\n",
       "    [theme=dark] .colab-df-convert {\n",
       "      background-color: #3B4455;\n",
       "      fill: #D2E3FC;\n",
       "    }\n",
       "\n",
       "    [theme=dark] .colab-df-convert:hover {\n",
       "      background-color: #434B5C;\n",
       "      box-shadow: 0px 1px 3px 1px rgba(0, 0, 0, 0.15);\n",
       "      filter: drop-shadow(0px 1px 2px rgba(0, 0, 0, 0.3));\n",
       "      fill: #FFFFFF;\n",
       "    }\n",
       "  </style>\n",
       "\n",
       "    <script>\n",
       "      const buttonEl =\n",
       "        document.querySelector('#df-967ff09e-2c85-4ee0-8e20-e3ec2af85928 button.colab-df-convert');\n",
       "      buttonEl.style.display =\n",
       "        google.colab.kernel.accessAllowed ? 'block' : 'none';\n",
       "\n",
       "      async function convertToInteractive(key) {\n",
       "        const element = document.querySelector('#df-967ff09e-2c85-4ee0-8e20-e3ec2af85928');\n",
       "        const dataTable =\n",
       "          await google.colab.kernel.invokeFunction('convertToInteractive',\n",
       "                                                    [key], {});\n",
       "        if (!dataTable) return;\n",
       "\n",
       "        const docLinkHtml = 'Like what you see? Visit the ' +\n",
       "          '<a target=\"_blank\" href=https://colab.research.google.com/notebooks/data_table.ipynb>data table notebook</a>'\n",
       "          + ' to learn more about interactive tables.';\n",
       "        element.innerHTML = '';\n",
       "        dataTable['output_type'] = 'display_data';\n",
       "        await google.colab.output.renderOutput(dataTable, element);\n",
       "        const docLink = document.createElement('div');\n",
       "        docLink.innerHTML = docLinkHtml;\n",
       "        element.appendChild(docLink);\n",
       "      }\n",
       "    </script>\n",
       "  </div>\n",
       "\n",
       "\n",
       "<div id=\"df-28a59536-a816-4ecf-a46f-3c984c0366a9\">\n",
       "  <button class=\"colab-df-quickchart\" onclick=\"quickchart('df-28a59536-a816-4ecf-a46f-3c984c0366a9')\"\n",
       "            title=\"Suggest charts\"\n",
       "            style=\"display:none;\">\n",
       "\n",
       "<svg xmlns=\"http://www.w3.org/2000/svg\" height=\"24px\"viewBox=\"0 0 24 24\"\n",
       "     width=\"24px\">\n",
       "    <g>\n",
       "        <path d=\"M19 3H5c-1.1 0-2 .9-2 2v14c0 1.1.9 2 2 2h14c1.1 0 2-.9 2-2V5c0-1.1-.9-2-2-2zM9 17H7v-7h2v7zm4 0h-2V7h2v10zm4 0h-2v-4h2v4z\"/>\n",
       "    </g>\n",
       "</svg>\n",
       "  </button>\n",
       "\n",
       "<style>\n",
       "  .colab-df-quickchart {\n",
       "      --bg-color: #E8F0FE;\n",
       "      --fill-color: #1967D2;\n",
       "      --hover-bg-color: #E2EBFA;\n",
       "      --hover-fill-color: #174EA6;\n",
       "      --disabled-fill-color: #AAA;\n",
       "      --disabled-bg-color: #DDD;\n",
       "  }\n",
       "\n",
       "  [theme=dark] .colab-df-quickchart {\n",
       "      --bg-color: #3B4455;\n",
       "      --fill-color: #D2E3FC;\n",
       "      --hover-bg-color: #434B5C;\n",
       "      --hover-fill-color: #FFFFFF;\n",
       "      --disabled-bg-color: #3B4455;\n",
       "      --disabled-fill-color: #666;\n",
       "  }\n",
       "\n",
       "  .colab-df-quickchart {\n",
       "    background-color: var(--bg-color);\n",
       "    border: none;\n",
       "    border-radius: 50%;\n",
       "    cursor: pointer;\n",
       "    display: none;\n",
       "    fill: var(--fill-color);\n",
       "    height: 32px;\n",
       "    padding: 0;\n",
       "    width: 32px;\n",
       "  }\n",
       "\n",
       "  .colab-df-quickchart:hover {\n",
       "    background-color: var(--hover-bg-color);\n",
       "    box-shadow: 0 1px 2px rgba(60, 64, 67, 0.3), 0 1px 3px 1px rgba(60, 64, 67, 0.15);\n",
       "    fill: var(--button-hover-fill-color);\n",
       "  }\n",
       "\n",
       "  .colab-df-quickchart-complete:disabled,\n",
       "  .colab-df-quickchart-complete:disabled:hover {\n",
       "    background-color: var(--disabled-bg-color);\n",
       "    fill: var(--disabled-fill-color);\n",
       "    box-shadow: none;\n",
       "  }\n",
       "\n",
       "  .colab-df-spinner {\n",
       "    border: 2px solid var(--fill-color);\n",
       "    border-color: transparent;\n",
       "    border-bottom-color: var(--fill-color);\n",
       "    animation:\n",
       "      spin 1s steps(1) infinite;\n",
       "  }\n",
       "\n",
       "  @keyframes spin {\n",
       "    0% {\n",
       "      border-color: transparent;\n",
       "      border-bottom-color: var(--fill-color);\n",
       "      border-left-color: var(--fill-color);\n",
       "    }\n",
       "    20% {\n",
       "      border-color: transparent;\n",
       "      border-left-color: var(--fill-color);\n",
       "      border-top-color: var(--fill-color);\n",
       "    }\n",
       "    30% {\n",
       "      border-color: transparent;\n",
       "      border-left-color: var(--fill-color);\n",
       "      border-top-color: var(--fill-color);\n",
       "      border-right-color: var(--fill-color);\n",
       "    }\n",
       "    40% {\n",
       "      border-color: transparent;\n",
       "      border-right-color: var(--fill-color);\n",
       "      border-top-color: var(--fill-color);\n",
       "    }\n",
       "    60% {\n",
       "      border-color: transparent;\n",
       "      border-right-color: var(--fill-color);\n",
       "    }\n",
       "    80% {\n",
       "      border-color: transparent;\n",
       "      border-right-color: var(--fill-color);\n",
       "      border-bottom-color: var(--fill-color);\n",
       "    }\n",
       "    90% {\n",
       "      border-color: transparent;\n",
       "      border-bottom-color: var(--fill-color);\n",
       "    }\n",
       "  }\n",
       "</style>\n",
       "\n",
       "  <script>\n",
       "    async function quickchart(key) {\n",
       "      const quickchartButtonEl =\n",
       "        document.querySelector('#' + key + ' button');\n",
       "      quickchartButtonEl.disabled = true;  // To prevent multiple clicks.\n",
       "      quickchartButtonEl.classList.add('colab-df-spinner');\n",
       "      try {\n",
       "        const charts = await google.colab.kernel.invokeFunction(\n",
       "            'suggestCharts', [key], {});\n",
       "      } catch (error) {\n",
       "        console.error('Error during call to suggestCharts:', error);\n",
       "      }\n",
       "      quickchartButtonEl.classList.remove('colab-df-spinner');\n",
       "      quickchartButtonEl.classList.add('colab-df-quickchart-complete');\n",
       "    }\n",
       "    (() => {\n",
       "      let quickchartButtonEl =\n",
       "        document.querySelector('#df-28a59536-a816-4ecf-a46f-3c984c0366a9 button');\n",
       "      quickchartButtonEl.style.display =\n",
       "        google.colab.kernel.accessAllowed ? 'block' : 'none';\n",
       "    })();\n",
       "  </script>\n",
       "</div>\n",
       "    </div>\n",
       "  </div>\n"
      ],
      "text/plain": [
       "    SRH  DeprIndex  AccomProblems  HouseholdSize  Children  ISCED  \\\n",
       "36  2.0        2.0            2.0              3       0.0    2.0   \n",
       "38  3.0        5.0            2.0              4       2.0    6.0   \n",
       "39  2.0        0.0            0.0              4       0.0    6.0   \n",
       "40  3.0        0.0            1.0              4       3.0    6.0   \n",
       "41  2.0        0.0            0.0              3       0.0    6.0   \n",
       "\n",
       "    SocialExclusionIndex  MentalWellbeingIndex  AgeCategory  Gender  \\\n",
       "36                  2.50                  72.0            1       1   \n",
       "38                  4.25                  36.0            3       1   \n",
       "39                  1.75                  56.0            1       2   \n",
       "40                  2.00                  92.0            2       1   \n",
       "41                  2.00                  72.0            1       1   \n",
       "\n",
       "    MaritalStatus  Country  SRH_binary  \n",
       "36            4.0       27           1  \n",
       "38            1.0       27           1  \n",
       "39            4.0       27           1  \n",
       "40            1.0       27           1  \n",
       "41            4.0       27           1  "
      ]
     },
     "execution_count": 9,
     "metadata": {},
     "output_type": "execute_result"
    }
   ],
   "source": [
    "df_model.head()"
   ]
  },
  {
   "cell_type": "markdown",
   "metadata": {
    "id": "gDyy7AljsnQV"
   },
   "source": [
    "## Model 1: Age and Deprivation index.\n",
    "\n",
    "Let's start evaluating the performance of a simple model where we model `SRH` as a function of `Age` and `DeprIndex`.\n",
    "\n",
    "In that section we used our complete UK dataset to fit the model as an illustrative example. However, an alternative approach this is to partition your dataset into a **training** sample used to fit you model, and a **holdout** sample for evaluation. The purpose of this is to obtain an unbiased estimate of learning performance.\n",
    "\n",
    "Depending on your model you might need a **training**, **validation** and **testing** set (e.g a validation set can be useful when you have to tune model hyper-parameters). However, for this example we will use a simple **train**/**test** split following a 70/30 rule (for more in depth discussion of what is a \"good test size\" check-out this [blog post](https://www.r-bloggers.com/2021/01/what-is-a-good-test-set-size-2/))."
   ]
  },
  {
   "cell_type": "markdown",
   "metadata": {
    "id": "38fCPo3mxxhG"
   },
   "source": [
    "Deprivation index: No. of items a household can't afford.\n"
   ]
  },
  {
   "cell_type": "code",
   "execution_count": 37,
   "metadata": {
    "id": "tFJaxhQVsnQW"
   },
   "outputs": [],
   "source": [
    "# test train split using scikit learn, defining random state for reproducibility\n",
    "trainX_model1, testX_model1, trainy_model1, testy_model1 = train_test_split(df_model[['AgeCategory','DeprIndex']], df_model.SRH_binary.values, test_size=0.3, random_state=2)"
   ]
  },
  {
   "cell_type": "code",
   "execution_count": 11,
   "metadata": {
    "colab": {
     "base_uri": "https://localhost:8080/",
     "height": 206
    },
    "id": "0mWMjU7Pytjn",
    "outputId": "9d74dab6-aa13-4414-bf9b-8db02fb9e773"
   },
   "outputs": [
    {
     "data": {
      "text/html": [
       "\n",
       "  <div id=\"df-2a8ed70b-53bc-4663-9f32-3cf6cbea286a\" class=\"colab-df-container\">\n",
       "    <div>\n",
       "<style scoped>\n",
       "    .dataframe tbody tr th:only-of-type {\n",
       "        vertical-align: middle;\n",
       "    }\n",
       "\n",
       "    .dataframe tbody tr th {\n",
       "        vertical-align: top;\n",
       "    }\n",
       "\n",
       "    .dataframe thead th {\n",
       "        text-align: right;\n",
       "    }\n",
       "</style>\n",
       "<table border=\"1\" class=\"dataframe\">\n",
       "  <thead>\n",
       "    <tr style=\"text-align: right;\">\n",
       "      <th></th>\n",
       "      <th>AgeCategory</th>\n",
       "      <th>DeprIndex</th>\n",
       "    </tr>\n",
       "  </thead>\n",
       "  <tbody>\n",
       "    <tr>\n",
       "      <th>1713</th>\n",
       "      <td>4</td>\n",
       "      <td>6.0</td>\n",
       "    </tr>\n",
       "    <tr>\n",
       "      <th>11348</th>\n",
       "      <td>3</td>\n",
       "      <td>0.0</td>\n",
       "    </tr>\n",
       "    <tr>\n",
       "      <th>15905</th>\n",
       "      <td>3</td>\n",
       "      <td>0.0</td>\n",
       "    </tr>\n",
       "    <tr>\n",
       "      <th>2589</th>\n",
       "      <td>2</td>\n",
       "      <td>2.0</td>\n",
       "    </tr>\n",
       "    <tr>\n",
       "      <th>13071</th>\n",
       "      <td>5</td>\n",
       "      <td>0.0</td>\n",
       "    </tr>\n",
       "  </tbody>\n",
       "</table>\n",
       "</div>\n",
       "    <div class=\"colab-df-buttons\">\n",
       "\n",
       "  <div class=\"colab-df-container\">\n",
       "    <button class=\"colab-df-convert\" onclick=\"convertToInteractive('df-2a8ed70b-53bc-4663-9f32-3cf6cbea286a')\"\n",
       "            title=\"Convert this dataframe to an interactive table.\"\n",
       "            style=\"display:none;\">\n",
       "\n",
       "  <svg xmlns=\"http://www.w3.org/2000/svg\" height=\"24px\" viewBox=\"0 -960 960 960\">\n",
       "    <path d=\"M120-120v-720h720v720H120Zm60-500h600v-160H180v160Zm220 220h160v-160H400v160Zm0 220h160v-160H400v160ZM180-400h160v-160H180v160Zm440 0h160v-160H620v160ZM180-180h160v-160H180v160Zm440 0h160v-160H620v160Z\"/>\n",
       "  </svg>\n",
       "    </button>\n",
       "\n",
       "  <style>\n",
       "    .colab-df-container {\n",
       "      display:flex;\n",
       "      gap: 12px;\n",
       "    }\n",
       "\n",
       "    .colab-df-convert {\n",
       "      background-color: #E8F0FE;\n",
       "      border: none;\n",
       "      border-radius: 50%;\n",
       "      cursor: pointer;\n",
       "      display: none;\n",
       "      fill: #1967D2;\n",
       "      height: 32px;\n",
       "      padding: 0 0 0 0;\n",
       "      width: 32px;\n",
       "    }\n",
       "\n",
       "    .colab-df-convert:hover {\n",
       "      background-color: #E2EBFA;\n",
       "      box-shadow: 0px 1px 2px rgba(60, 64, 67, 0.3), 0px 1px 3px 1px rgba(60, 64, 67, 0.15);\n",
       "      fill: #174EA6;\n",
       "    }\n",
       "\n",
       "    .colab-df-buttons div {\n",
       "      margin-bottom: 4px;\n",
       "    }\n",
       "\n",
       "    [theme=dark] .colab-df-convert {\n",
       "      background-color: #3B4455;\n",
       "      fill: #D2E3FC;\n",
       "    }\n",
       "\n",
       "    [theme=dark] .colab-df-convert:hover {\n",
       "      background-color: #434B5C;\n",
       "      box-shadow: 0px 1px 3px 1px rgba(0, 0, 0, 0.15);\n",
       "      filter: drop-shadow(0px 1px 2px rgba(0, 0, 0, 0.3));\n",
       "      fill: #FFFFFF;\n",
       "    }\n",
       "  </style>\n",
       "\n",
       "    <script>\n",
       "      const buttonEl =\n",
       "        document.querySelector('#df-2a8ed70b-53bc-4663-9f32-3cf6cbea286a button.colab-df-convert');\n",
       "      buttonEl.style.display =\n",
       "        google.colab.kernel.accessAllowed ? 'block' : 'none';\n",
       "\n",
       "      async function convertToInteractive(key) {\n",
       "        const element = document.querySelector('#df-2a8ed70b-53bc-4663-9f32-3cf6cbea286a');\n",
       "        const dataTable =\n",
       "          await google.colab.kernel.invokeFunction('convertToInteractive',\n",
       "                                                    [key], {});\n",
       "        if (!dataTable) return;\n",
       "\n",
       "        const docLinkHtml = 'Like what you see? Visit the ' +\n",
       "          '<a target=\"_blank\" href=https://colab.research.google.com/notebooks/data_table.ipynb>data table notebook</a>'\n",
       "          + ' to learn more about interactive tables.';\n",
       "        element.innerHTML = '';\n",
       "        dataTable['output_type'] = 'display_data';\n",
       "        await google.colab.output.renderOutput(dataTable, element);\n",
       "        const docLink = document.createElement('div');\n",
       "        docLink.innerHTML = docLinkHtml;\n",
       "        element.appendChild(docLink);\n",
       "      }\n",
       "    </script>\n",
       "  </div>\n",
       "\n",
       "\n",
       "<div id=\"df-b048b3bd-8753-451e-b797-ff8b7760d5f8\">\n",
       "  <button class=\"colab-df-quickchart\" onclick=\"quickchart('df-b048b3bd-8753-451e-b797-ff8b7760d5f8')\"\n",
       "            title=\"Suggest charts\"\n",
       "            style=\"display:none;\">\n",
       "\n",
       "<svg xmlns=\"http://www.w3.org/2000/svg\" height=\"24px\"viewBox=\"0 0 24 24\"\n",
       "     width=\"24px\">\n",
       "    <g>\n",
       "        <path d=\"M19 3H5c-1.1 0-2 .9-2 2v14c0 1.1.9 2 2 2h14c1.1 0 2-.9 2-2V5c0-1.1-.9-2-2-2zM9 17H7v-7h2v7zm4 0h-2V7h2v10zm4 0h-2v-4h2v4z\"/>\n",
       "    </g>\n",
       "</svg>\n",
       "  </button>\n",
       "\n",
       "<style>\n",
       "  .colab-df-quickchart {\n",
       "      --bg-color: #E8F0FE;\n",
       "      --fill-color: #1967D2;\n",
       "      --hover-bg-color: #E2EBFA;\n",
       "      --hover-fill-color: #174EA6;\n",
       "      --disabled-fill-color: #AAA;\n",
       "      --disabled-bg-color: #DDD;\n",
       "  }\n",
       "\n",
       "  [theme=dark] .colab-df-quickchart {\n",
       "      --bg-color: #3B4455;\n",
       "      --fill-color: #D2E3FC;\n",
       "      --hover-bg-color: #434B5C;\n",
       "      --hover-fill-color: #FFFFFF;\n",
       "      --disabled-bg-color: #3B4455;\n",
       "      --disabled-fill-color: #666;\n",
       "  }\n",
       "\n",
       "  .colab-df-quickchart {\n",
       "    background-color: var(--bg-color);\n",
       "    border: none;\n",
       "    border-radius: 50%;\n",
       "    cursor: pointer;\n",
       "    display: none;\n",
       "    fill: var(--fill-color);\n",
       "    height: 32px;\n",
       "    padding: 0;\n",
       "    width: 32px;\n",
       "  }\n",
       "\n",
       "  .colab-df-quickchart:hover {\n",
       "    background-color: var(--hover-bg-color);\n",
       "    box-shadow: 0 1px 2px rgba(60, 64, 67, 0.3), 0 1px 3px 1px rgba(60, 64, 67, 0.15);\n",
       "    fill: var(--button-hover-fill-color);\n",
       "  }\n",
       "\n",
       "  .colab-df-quickchart-complete:disabled,\n",
       "  .colab-df-quickchart-complete:disabled:hover {\n",
       "    background-color: var(--disabled-bg-color);\n",
       "    fill: var(--disabled-fill-color);\n",
       "    box-shadow: none;\n",
       "  }\n",
       "\n",
       "  .colab-df-spinner {\n",
       "    border: 2px solid var(--fill-color);\n",
       "    border-color: transparent;\n",
       "    border-bottom-color: var(--fill-color);\n",
       "    animation:\n",
       "      spin 1s steps(1) infinite;\n",
       "  }\n",
       "\n",
       "  @keyframes spin {\n",
       "    0% {\n",
       "      border-color: transparent;\n",
       "      border-bottom-color: var(--fill-color);\n",
       "      border-left-color: var(--fill-color);\n",
       "    }\n",
       "    20% {\n",
       "      border-color: transparent;\n",
       "      border-left-color: var(--fill-color);\n",
       "      border-top-color: var(--fill-color);\n",
       "    }\n",
       "    30% {\n",
       "      border-color: transparent;\n",
       "      border-left-color: var(--fill-color);\n",
       "      border-top-color: var(--fill-color);\n",
       "      border-right-color: var(--fill-color);\n",
       "    }\n",
       "    40% {\n",
       "      border-color: transparent;\n",
       "      border-right-color: var(--fill-color);\n",
       "      border-top-color: var(--fill-color);\n",
       "    }\n",
       "    60% {\n",
       "      border-color: transparent;\n",
       "      border-right-color: var(--fill-color);\n",
       "    }\n",
       "    80% {\n",
       "      border-color: transparent;\n",
       "      border-right-color: var(--fill-color);\n",
       "      border-bottom-color: var(--fill-color);\n",
       "    }\n",
       "    90% {\n",
       "      border-color: transparent;\n",
       "      border-bottom-color: var(--fill-color);\n",
       "    }\n",
       "  }\n",
       "</style>\n",
       "\n",
       "  <script>\n",
       "    async function quickchart(key) {\n",
       "      const quickchartButtonEl =\n",
       "        document.querySelector('#' + key + ' button');\n",
       "      quickchartButtonEl.disabled = true;  // To prevent multiple clicks.\n",
       "      quickchartButtonEl.classList.add('colab-df-spinner');\n",
       "      try {\n",
       "        const charts = await google.colab.kernel.invokeFunction(\n",
       "            'suggestCharts', [key], {});\n",
       "      } catch (error) {\n",
       "        console.error('Error during call to suggestCharts:', error);\n",
       "      }\n",
       "      quickchartButtonEl.classList.remove('colab-df-spinner');\n",
       "      quickchartButtonEl.classList.add('colab-df-quickchart-complete');\n",
       "    }\n",
       "    (() => {\n",
       "      let quickchartButtonEl =\n",
       "        document.querySelector('#df-b048b3bd-8753-451e-b797-ff8b7760d5f8 button');\n",
       "      quickchartButtonEl.style.display =\n",
       "        google.colab.kernel.accessAllowed ? 'block' : 'none';\n",
       "    })();\n",
       "  </script>\n",
       "</div>\n",
       "    </div>\n",
       "  </div>\n"
      ],
      "text/plain": [
       "       AgeCategory  DeprIndex\n",
       "1713             4        6.0\n",
       "11348            3        0.0\n",
       "15905            3        0.0\n",
       "2589             2        2.0\n",
       "13071            5        0.0"
      ]
     },
     "execution_count": 11,
     "metadata": {},
     "output_type": "execute_result"
    }
   ],
   "source": [
    "trainX_model1.head()"
   ]
  },
  {
   "cell_type": "code",
   "execution_count": 12,
   "metadata": {
    "colab": {
     "base_uri": "https://localhost:8080/"
    },
    "id": "OGj_xiX1snQW",
    "outputId": "1b3046cc-2982-4fa0-8572-632caf3c941f",
    "scrolled": true
   },
   "outputs": [
    {
     "name": "stdout",
     "output_type": "stream",
     "text": [
      "Optimization terminated successfully.\n",
      "         Current function value: 0.308598\n",
      "         Iterations 7\n"
     ]
    }
   ],
   "source": [
    "# Logistic regression using stats module\n",
    "trainX_const_model1 = sm.add_constant(trainX_model1) #add constant for intercept\n",
    "logit_model_model1 = sm.Logit(trainy_model1, trainX_const_model1) #Create model instance\n",
    "result_model1 = logit_model_model1.fit() #Fit model"
   ]
  },
  {
   "cell_type": "code",
   "execution_count": 13,
   "metadata": {
    "colab": {
     "base_uri": "https://localhost:8080/",
     "height": 206
    },
    "id": "DM66fv1uywia",
    "outputId": "7e1f6cc8-11ed-4b9e-9670-826b1cdd3545"
   },
   "outputs": [
    {
     "data": {
      "text/html": [
       "\n",
       "  <div id=\"df-36702a7f-24cd-48c9-869a-e429acae44fc\" class=\"colab-df-container\">\n",
       "    <div>\n",
       "<style scoped>\n",
       "    .dataframe tbody tr th:only-of-type {\n",
       "        vertical-align: middle;\n",
       "    }\n",
       "\n",
       "    .dataframe tbody tr th {\n",
       "        vertical-align: top;\n",
       "    }\n",
       "\n",
       "    .dataframe thead th {\n",
       "        text-align: right;\n",
       "    }\n",
       "</style>\n",
       "<table border=\"1\" class=\"dataframe\">\n",
       "  <thead>\n",
       "    <tr style=\"text-align: right;\">\n",
       "      <th></th>\n",
       "      <th>const</th>\n",
       "      <th>AgeCategory</th>\n",
       "      <th>DeprIndex</th>\n",
       "    </tr>\n",
       "  </thead>\n",
       "  <tbody>\n",
       "    <tr>\n",
       "      <th>1713</th>\n",
       "      <td>1.0</td>\n",
       "      <td>4</td>\n",
       "      <td>6.0</td>\n",
       "    </tr>\n",
       "    <tr>\n",
       "      <th>11348</th>\n",
       "      <td>1.0</td>\n",
       "      <td>3</td>\n",
       "      <td>0.0</td>\n",
       "    </tr>\n",
       "    <tr>\n",
       "      <th>15905</th>\n",
       "      <td>1.0</td>\n",
       "      <td>3</td>\n",
       "      <td>0.0</td>\n",
       "    </tr>\n",
       "    <tr>\n",
       "      <th>2589</th>\n",
       "      <td>1.0</td>\n",
       "      <td>2</td>\n",
       "      <td>2.0</td>\n",
       "    </tr>\n",
       "    <tr>\n",
       "      <th>13071</th>\n",
       "      <td>1.0</td>\n",
       "      <td>5</td>\n",
       "      <td>0.0</td>\n",
       "    </tr>\n",
       "  </tbody>\n",
       "</table>\n",
       "</div>\n",
       "    <div class=\"colab-df-buttons\">\n",
       "\n",
       "  <div class=\"colab-df-container\">\n",
       "    <button class=\"colab-df-convert\" onclick=\"convertToInteractive('df-36702a7f-24cd-48c9-869a-e429acae44fc')\"\n",
       "            title=\"Convert this dataframe to an interactive table.\"\n",
       "            style=\"display:none;\">\n",
       "\n",
       "  <svg xmlns=\"http://www.w3.org/2000/svg\" height=\"24px\" viewBox=\"0 -960 960 960\">\n",
       "    <path d=\"M120-120v-720h720v720H120Zm60-500h600v-160H180v160Zm220 220h160v-160H400v160Zm0 220h160v-160H400v160ZM180-400h160v-160H180v160Zm440 0h160v-160H620v160ZM180-180h160v-160H180v160Zm440 0h160v-160H620v160Z\"/>\n",
       "  </svg>\n",
       "    </button>\n",
       "\n",
       "  <style>\n",
       "    .colab-df-container {\n",
       "      display:flex;\n",
       "      gap: 12px;\n",
       "    }\n",
       "\n",
       "    .colab-df-convert {\n",
       "      background-color: #E8F0FE;\n",
       "      border: none;\n",
       "      border-radius: 50%;\n",
       "      cursor: pointer;\n",
       "      display: none;\n",
       "      fill: #1967D2;\n",
       "      height: 32px;\n",
       "      padding: 0 0 0 0;\n",
       "      width: 32px;\n",
       "    }\n",
       "\n",
       "    .colab-df-convert:hover {\n",
       "      background-color: #E2EBFA;\n",
       "      box-shadow: 0px 1px 2px rgba(60, 64, 67, 0.3), 0px 1px 3px 1px rgba(60, 64, 67, 0.15);\n",
       "      fill: #174EA6;\n",
       "    }\n",
       "\n",
       "    .colab-df-buttons div {\n",
       "      margin-bottom: 4px;\n",
       "    }\n",
       "\n",
       "    [theme=dark] .colab-df-convert {\n",
       "      background-color: #3B4455;\n",
       "      fill: #D2E3FC;\n",
       "    }\n",
       "\n",
       "    [theme=dark] .colab-df-convert:hover {\n",
       "      background-color: #434B5C;\n",
       "      box-shadow: 0px 1px 3px 1px rgba(0, 0, 0, 0.15);\n",
       "      filter: drop-shadow(0px 1px 2px rgba(0, 0, 0, 0.3));\n",
       "      fill: #FFFFFF;\n",
       "    }\n",
       "  </style>\n",
       "\n",
       "    <script>\n",
       "      const buttonEl =\n",
       "        document.querySelector('#df-36702a7f-24cd-48c9-869a-e429acae44fc button.colab-df-convert');\n",
       "      buttonEl.style.display =\n",
       "        google.colab.kernel.accessAllowed ? 'block' : 'none';\n",
       "\n",
       "      async function convertToInteractive(key) {\n",
       "        const element = document.querySelector('#df-36702a7f-24cd-48c9-869a-e429acae44fc');\n",
       "        const dataTable =\n",
       "          await google.colab.kernel.invokeFunction('convertToInteractive',\n",
       "                                                    [key], {});\n",
       "        if (!dataTable) return;\n",
       "\n",
       "        const docLinkHtml = 'Like what you see? Visit the ' +\n",
       "          '<a target=\"_blank\" href=https://colab.research.google.com/notebooks/data_table.ipynb>data table notebook</a>'\n",
       "          + ' to learn more about interactive tables.';\n",
       "        element.innerHTML = '';\n",
       "        dataTable['output_type'] = 'display_data';\n",
       "        await google.colab.output.renderOutput(dataTable, element);\n",
       "        const docLink = document.createElement('div');\n",
       "        docLink.innerHTML = docLinkHtml;\n",
       "        element.appendChild(docLink);\n",
       "      }\n",
       "    </script>\n",
       "  </div>\n",
       "\n",
       "\n",
       "<div id=\"df-3df49ada-31f7-4df3-93cf-b53e6f4b6e4c\">\n",
       "  <button class=\"colab-df-quickchart\" onclick=\"quickchart('df-3df49ada-31f7-4df3-93cf-b53e6f4b6e4c')\"\n",
       "            title=\"Suggest charts\"\n",
       "            style=\"display:none;\">\n",
       "\n",
       "<svg xmlns=\"http://www.w3.org/2000/svg\" height=\"24px\"viewBox=\"0 0 24 24\"\n",
       "     width=\"24px\">\n",
       "    <g>\n",
       "        <path d=\"M19 3H5c-1.1 0-2 .9-2 2v14c0 1.1.9 2 2 2h14c1.1 0 2-.9 2-2V5c0-1.1-.9-2-2-2zM9 17H7v-7h2v7zm4 0h-2V7h2v10zm4 0h-2v-4h2v4z\"/>\n",
       "    </g>\n",
       "</svg>\n",
       "  </button>\n",
       "\n",
       "<style>\n",
       "  .colab-df-quickchart {\n",
       "      --bg-color: #E8F0FE;\n",
       "      --fill-color: #1967D2;\n",
       "      --hover-bg-color: #E2EBFA;\n",
       "      --hover-fill-color: #174EA6;\n",
       "      --disabled-fill-color: #AAA;\n",
       "      --disabled-bg-color: #DDD;\n",
       "  }\n",
       "\n",
       "  [theme=dark] .colab-df-quickchart {\n",
       "      --bg-color: #3B4455;\n",
       "      --fill-color: #D2E3FC;\n",
       "      --hover-bg-color: #434B5C;\n",
       "      --hover-fill-color: #FFFFFF;\n",
       "      --disabled-bg-color: #3B4455;\n",
       "      --disabled-fill-color: #666;\n",
       "  }\n",
       "\n",
       "  .colab-df-quickchart {\n",
       "    background-color: var(--bg-color);\n",
       "    border: none;\n",
       "    border-radius: 50%;\n",
       "    cursor: pointer;\n",
       "    display: none;\n",
       "    fill: var(--fill-color);\n",
       "    height: 32px;\n",
       "    padding: 0;\n",
       "    width: 32px;\n",
       "  }\n",
       "\n",
       "  .colab-df-quickchart:hover {\n",
       "    background-color: var(--hover-bg-color);\n",
       "    box-shadow: 0 1px 2px rgba(60, 64, 67, 0.3), 0 1px 3px 1px rgba(60, 64, 67, 0.15);\n",
       "    fill: var(--button-hover-fill-color);\n",
       "  }\n",
       "\n",
       "  .colab-df-quickchart-complete:disabled,\n",
       "  .colab-df-quickchart-complete:disabled:hover {\n",
       "    background-color: var(--disabled-bg-color);\n",
       "    fill: var(--disabled-fill-color);\n",
       "    box-shadow: none;\n",
       "  }\n",
       "\n",
       "  .colab-df-spinner {\n",
       "    border: 2px solid var(--fill-color);\n",
       "    border-color: transparent;\n",
       "    border-bottom-color: var(--fill-color);\n",
       "    animation:\n",
       "      spin 1s steps(1) infinite;\n",
       "  }\n",
       "\n",
       "  @keyframes spin {\n",
       "    0% {\n",
       "      border-color: transparent;\n",
       "      border-bottom-color: var(--fill-color);\n",
       "      border-left-color: var(--fill-color);\n",
       "    }\n",
       "    20% {\n",
       "      border-color: transparent;\n",
       "      border-left-color: var(--fill-color);\n",
       "      border-top-color: var(--fill-color);\n",
       "    }\n",
       "    30% {\n",
       "      border-color: transparent;\n",
       "      border-left-color: var(--fill-color);\n",
       "      border-top-color: var(--fill-color);\n",
       "      border-right-color: var(--fill-color);\n",
       "    }\n",
       "    40% {\n",
       "      border-color: transparent;\n",
       "      border-right-color: var(--fill-color);\n",
       "      border-top-color: var(--fill-color);\n",
       "    }\n",
       "    60% {\n",
       "      border-color: transparent;\n",
       "      border-right-color: var(--fill-color);\n",
       "    }\n",
       "    80% {\n",
       "      border-color: transparent;\n",
       "      border-right-color: var(--fill-color);\n",
       "      border-bottom-color: var(--fill-color);\n",
       "    }\n",
       "    90% {\n",
       "      border-color: transparent;\n",
       "      border-bottom-color: var(--fill-color);\n",
       "    }\n",
       "  }\n",
       "</style>\n",
       "\n",
       "  <script>\n",
       "    async function quickchart(key) {\n",
       "      const quickchartButtonEl =\n",
       "        document.querySelector('#' + key + ' button');\n",
       "      quickchartButtonEl.disabled = true;  // To prevent multiple clicks.\n",
       "      quickchartButtonEl.classList.add('colab-df-spinner');\n",
       "      try {\n",
       "        const charts = await google.colab.kernel.invokeFunction(\n",
       "            'suggestCharts', [key], {});\n",
       "      } catch (error) {\n",
       "        console.error('Error during call to suggestCharts:', error);\n",
       "      }\n",
       "      quickchartButtonEl.classList.remove('colab-df-spinner');\n",
       "      quickchartButtonEl.classList.add('colab-df-quickchart-complete');\n",
       "    }\n",
       "    (() => {\n",
       "      let quickchartButtonEl =\n",
       "        document.querySelector('#df-3df49ada-31f7-4df3-93cf-b53e6f4b6e4c button');\n",
       "      quickchartButtonEl.style.display =\n",
       "        google.colab.kernel.accessAllowed ? 'block' : 'none';\n",
       "    })();\n",
       "  </script>\n",
       "</div>\n",
       "    </div>\n",
       "  </div>\n"
      ],
      "text/plain": [
       "       const  AgeCategory  DeprIndex\n",
       "1713     1.0            4        6.0\n",
       "11348    1.0            3        0.0\n",
       "15905    1.0            3        0.0\n",
       "2589     1.0            2        2.0\n",
       "13071    1.0            5        0.0"
      ]
     },
     "execution_count": 13,
     "metadata": {},
     "output_type": "execute_result"
    }
   ],
   "source": [
    "trainX_const_model1.head()"
   ]
  },
  {
   "cell_type": "code",
   "execution_count": 14,
   "metadata": {
    "colab": {
     "base_uri": "https://localhost:8080/"
    },
    "id": "GcThxPjlzcSQ",
    "outputId": "8c23efbc-1678-4f0b-cbe0-384b88c016d0"
   },
   "outputs": [
    {
     "data": {
      "text/plain": [
       "const          4.506645\n",
       "AgeCategory   -0.471654\n",
       "DeprIndex     -0.431159\n",
       "dtype: float64"
      ]
     },
     "execution_count": 14,
     "metadata": {},
     "output_type": "execute_result"
    }
   ],
   "source": [
    "result_model1.params"
   ]
  },
  {
   "cell_type": "markdown",
   "metadata": {
    "id": "Qi_4FKRpsnQX"
   },
   "source": [
    "In the output, ‘Iterations‘ refer to the number of times the model iterates over the data to optimize the model."
   ]
  },
  {
   "cell_type": "markdown",
   "metadata": {
    "id": "Y6DA6aT9snQX"
   },
   "source": [
    "## Validating the fit\n",
    "Let's explore the output of the fit. The summary table below gives us a descriptive summary about the results.  "
   ]
  },
  {
   "cell_type": "code",
   "execution_count": 15,
   "metadata": {
    "colab": {
     "base_uri": "https://localhost:8080/"
    },
    "id": "Dvu0mekJsnQY",
    "outputId": "1fe87598-01c0-4ca6-a926-5c4480490afd"
   },
   "outputs": [
    {
     "name": "stdout",
     "output_type": "stream",
     "text": [
      "                           Logit Regression Results                           \n",
      "==============================================================================\n",
      "Dep. Variable:                      y   No. Observations:                 1402\n",
      "Model:                          Logit   Df Residuals:                     1399\n",
      "Method:                           MLE   Df Model:                            2\n",
      "Date:                Tue, 12 Dec 2023   Pseudo R-squ.:                  0.1086\n",
      "Time:                        20:32:17   Log-Likelihood:                -432.65\n",
      "converged:                       True   LL-Null:                       -485.35\n",
      "Covariance Type:            nonrobust   LLR p-value:                 1.296e-23\n",
      "===============================================================================\n",
      "                  coef    std err          z      P>|z|      [0.025      0.975]\n",
      "-------------------------------------------------------------------------------\n",
      "const           4.5066      0.373     12.067      0.000       3.775       5.239\n",
      "AgeCategory    -0.4717      0.086     -5.505      0.000      -0.640      -0.304\n",
      "DeprIndex      -0.4312      0.045     -9.485      0.000      -0.520      -0.342\n",
      "===============================================================================\n"
     ]
    }
   ],
   "source": [
    "print (result_model1.summary())"
   ]
  },
  {
   "cell_type": "markdown",
   "metadata": {
    "id": "_ivOa-yIsnQY"
   },
   "source": [
    "The interpretation of the coefficients, standard errors and significance parameters. In this section we'll explore the output related to the **goodness-of-fit**.\n",
    "\n",
    "- **Method**:  Maximum Likelihood Estimation (MLE) is a probabilistic framework for estimating the parameters of an assumed probability distribution, given some observed data. MLE involves maximizing a likelihood function in order to find the probability distribution and parameters that best explain the observed data.\n",
    "- **No. Observations**: Number of observations on our training set.\n",
    "- **Df. Residuals**:  This is the Residuals degrees of freedom in the model. This is calculated in the form of `number of observations` - `number of predictors` - 1.\n",
    "- **Df. Model**: Degrees of Freedom of our model, which is basically the number of predictors used in the model (or number of coefficients to be fitted).\n",
    "- **Log-Likelihood**: the natural logarithm of the Maximum Likelihood Estimation (MLE) function given the estimated parameters. The log likelihood function in maximum likelihood estimations is usually computationally simpler, and the log-likelihood maximum is the same as the maximum likelihood.\n",
    "- **LL-Null**: the value of log-likelihood of the model when no independent variable is included (only an intercept is included).\n",
    "- **Pseudo R-squ.**: It is the ratio of the log-likelihood of the null model to that of the full model (this can function as a substitute for the R-squared value in Least Squares linear regression).\n",
    "- **LLR p-value**: A small p-value you can reject the null hypothesis that the model based on the intercept (all coefficients = 0) is better than the full model, again this uses the ratio of the log-likelihood of the null model to that of the full model.\n",
    "\n",
    "For the remainder of this section we will be using the **log-likelihood** values as a way to compare how a model improves when adding a new predictor."
   ]
  },
  {
   "cell_type": "markdown",
   "metadata": {
    "id": "EqsE5qR2snQY"
   },
   "source": [
    "## Evaluation through predicting new data\n",
    "  \n",
    "Now we evaluate our model using our test dataset.\n",
    "\n",
    "Logistic regression works by first obtaining the prediction of the model as a probability, then binarising the predicted probability using a threshold value. Scores above the threshold value will be classified as positive, those below as negative. For now the threshold value of the probability is $P(x)>0.5$."
   ]
  },
  {
   "cell_type": "code",
   "execution_count": 16,
   "metadata": {
    "colab": {
     "base_uri": "https://localhost:8080/"
    },
    "id": "P7ekorxhsnQZ",
    "outputId": "4a1e50e4-d8f1-42b9-aee1-b23d3e4b5e37"
   },
   "outputs": [
    {
     "name": "stdout",
     "output_type": "stream",
     "text": [
      "Actual values [1, 1, 1, 1, 0, 1, 1, 0, 1, 1]\n",
      "Predictions : [1, 1, 1, 1, 1, 0, 1, 1, 1, 1]\n"
     ]
    }
   ],
   "source": [
    "# performing predictions on the test dataset\n",
    "yhat = result_model1.predict(sm.add_constant(testX_model1))\n",
    "pred_y_model1 = list(map(round, yhat))\n",
    "\n",
    "# comparing first 10 original and predicted values of y\n",
    "print('Actual values', list(testy_model1)[:10])\n",
    "print('Predictions :', pred_y_model1[:10])"
   ]
  },
  {
   "cell_type": "markdown",
   "metadata": {
    "id": "I7bC6P8EsnQZ"
   },
   "source": [
    "In the cell above we are just printing the first 10 observations of our dataset. In order to summarise the the accuracy of the predictions from our model we can use a confusion matrix. This maps the predicted and actual values into a matrix and can give us an idea of what the classification model is getting right and what types of errors it is making.\n",
    "\n",
    "From a confusion matrix we can obtain the True Positives (TP), False Positives (FP), True Negatives (TN) and False Negatives (FN) and calculate the following metrics:\n",
    "\n",
    "\n",
    "- $\\text{Accuracy} = \\frac{TP  + TN}{TP + FP + TN + FN}$\n",
    "\n",
    "\n",
    "- $\\text{Precision} =\n",
    "     \\frac{TP}{TP + FP}$\n",
    "     \n",
    "     \n",
    "- $\\text{Recall (Sensitivity)} = \\frac{TP}{TP + FN}$\n",
    "\n",
    "- ${\\text{Specificity (Recall of Negative label)}} = \\frac{TN}{TN + FP}$"
   ]
  },
  {
   "cell_type": "code",
   "execution_count": 17,
   "metadata": {
    "colab": {
     "base_uri": "https://localhost:8080/",
     "height": 591
    },
    "id": "5rI0GNkasnQZ",
    "outputId": "5c97aa3f-ede6-4423-d156-53d12d3d2f79"
   },
   "outputs": [
    {
     "name": "stdout",
     "output_type": "stream",
     "text": [
      "Accuracy: 0.8803986710963455\n",
      "Precision: 0.8902027027027027\n",
      "Recall: 0.9868913857677902\n"
     ]
    },
    {
     "data": {
      "image/png": "[encoded data removed]",
      "text/plain": [
       "<Figure size 500x500 with 2 Axes>"
      ]
     },
     "metadata": {},
     "output_type": "display_data"
    }
   ],
   "source": [
    "# confusion matrix using sklearn\n",
    "cnf_matrix = metrics.confusion_matrix(testy_model1,pred_y_model1)\n",
    "\n",
    "def plt_cnf_mat(cnf_matrix, ax, class_names=[0,1]):\n",
    "    tick_marks = np.arange(len(class_names))\n",
    "    ax.set_xticks(tick_marks)\n",
    "    ax.set_xticklabels(class_names)\n",
    "    ax.set_yticks(tick_marks)\n",
    "    ax.set_yticklabels(class_names)\n",
    "    # create heatmap\n",
    "    sns.heatmap(pd.DataFrame(cnf_matrix), annot=True, cmap=\"YlGnBu\" ,fmt='g')\n",
    "    ax.set_title('Confusion matrix', y=1.1)\n",
    "    ax.set_ylabel('Actual label')\n",
    "    ax.set_xlabel('Predicted label')\n",
    "\n",
    "\n",
    "fig, ax = plt.subplots(1,1, figsize = (5,5))\n",
    "plt_cnf_mat(cnf_matrix, ax)\n",
    "\n",
    "\n",
    "print(\"Accuracy:\",metrics.accuracy_score(testy_model1, pred_y_model1))\n",
    "print(\"Precision:\",metrics.precision_score(testy_model1, pred_y_model1))\n",
    "print(\"Recall:\",metrics.recall_score(testy_model1, pred_y_model1)) # what is recall?"
   ]
  },
  {
   "cell_type": "markdown",
   "metadata": {
    "id": "mbKcPWDisnQa"
   },
   "source": [
    "You can see here that very few true negative values get predicted and the overwhelming majority of responses are true positives. Furthermore, the accuracy, precision, and recall score > 86%, this is happening due to our dataset being highly imbalanced and that the minority class are labeled as negative (0).\n",
    "\n",
    "A more complete evaluation would be to also estimate these metrics for the minority class (specificity):"
   ]
  },
  {
   "cell_type": "code",
   "execution_count": 18,
   "metadata": {
    "colab": {
     "base_uri": "https://localhost:8080/"
    },
    "id": "FTWc0qWRsnQa",
    "outputId": "50e479ac-ebcb-46b0-fcfa-d69a750fee34"
   },
   "outputs": [
    {
     "name": "stdout",
     "output_type": "stream",
     "text": [
      "Specificity: 0.04411764705882353\n"
     ]
    }
   ],
   "source": [
    "testy_model1_minority = abs(testy_model1 - 1)\n",
    "pred_y_model1_minority = abs(np.array(pred_y_model1) -1)\n",
    "\n",
    "print(\"Specificity:\",metrics.recall_score(testy_model1_minority, pred_y_model1_minority))"
   ]
  },
  {
   "cell_type": "markdown",
   "metadata": {
    "id": "_qQ6pDMMsnQa"
   },
   "source": [
    "The classification matrix  might not be the best tool to evaluate the model in this scenario. Particularly because it shows a snapshot of the results being mapped from a predicted probability using a threshold of $p(x)> 0.5$.\n",
    "\n",
    "\n",
    "### Investigating threshold values\n",
    "\n",
    "Let's go back to our probability and investigate the predicted values given by the model for our two labels:"
   ]
  },
  {
   "cell_type": "code",
   "execution_count": 19,
   "metadata": {
    "colab": {
     "base_uri": "https://localhost:8080/",
     "height": 495
    },
    "id": "NKXTgLMwsnQb",
    "outputId": "c25b5a17-b6f7-40e2-8958-d54755012624",
    "scrolled": true
   },
   "outputs": [
    {
     "data": {
      "text/plain": [
       "<matplotlib.legend.Legend at 0x796436e6fc70>"
      ]
     },
     "execution_count": 19,
     "metadata": {},
     "output_type": "execute_result"
    },
    {
     "data": {
      "image/png": "[encoded data removed]",
      "text/plain": [
       "<Figure size 500x500 with 1 Axes>"
      ]
     },
     "metadata": {},
     "output_type": "display_data"
    }
   ],
   "source": [
    "# link the prediction to the label values\n",
    "df_labels = pd.DataFrame({'prediction': yhat,\n",
    "     'label': testy_model1})\n",
    "\n",
    "fig, ax = plt.subplots(1,1, figsize = (5,5))\n",
    "df_labels[df_labels['label']==1]['prediction'].plot.kde(label='SRH == 1')\n",
    "df_labels[df_labels['label']==0]['prediction'].plot.kde(label='SRH == 0')\n",
    "pyplot.xlabel('p(x)')\n",
    "pyplot.legend()\n",
    "\n"
   ]
  },
  {
   "cell_type": "code",
   "execution_count": 20,
   "metadata": {
    "colab": {
     "base_uri": "https://localhost:8080/",
     "height": 206
    },
    "id": "jXbryZ2Wy-pw",
    "outputId": "964a205d-1362-41ad-9c93-1c9fcb17411d"
   },
   "outputs": [
    {
     "data": {
      "text/html": [
       "\n",
       "  <div id=\"df-871b1639-6e98-4594-a30d-1d41809f6de8\" class=\"colab-df-container\">\n",
       "    <div>\n",
       "<style scoped>\n",
       "    .dataframe tbody tr th:only-of-type {\n",
       "        vertical-align: middle;\n",
       "    }\n",
       "\n",
       "    .dataframe tbody tr th {\n",
       "        vertical-align: top;\n",
       "    }\n",
       "\n",
       "    .dataframe thead th {\n",
       "        text-align: right;\n",
       "    }\n",
       "</style>\n",
       "<table border=\"1\" class=\"dataframe\">\n",
       "  <thead>\n",
       "    <tr style=\"text-align: right;\">\n",
       "      <th></th>\n",
       "      <th>prediction</th>\n",
       "      <th>label</th>\n",
       "    </tr>\n",
       "  </thead>\n",
       "  <tbody>\n",
       "    <tr>\n",
       "      <th>2830</th>\n",
       "      <td>0.895517</td>\n",
       "      <td>1</td>\n",
       "    </tr>\n",
       "    <tr>\n",
       "      <th>5025</th>\n",
       "      <td>0.783480</td>\n",
       "      <td>1</td>\n",
       "    </tr>\n",
       "    <tr>\n",
       "      <th>4266</th>\n",
       "      <td>0.932140</td>\n",
       "      <td>1</td>\n",
       "    </tr>\n",
       "    <tr>\n",
       "      <th>4060</th>\n",
       "      <td>0.932140</td>\n",
       "      <td>1</td>\n",
       "    </tr>\n",
       "    <tr>\n",
       "      <th>13038</th>\n",
       "      <td>0.895517</td>\n",
       "      <td>0</td>\n",
       "    </tr>\n",
       "  </tbody>\n",
       "</table>\n",
       "</div>\n",
       "    <div class=\"colab-df-buttons\">\n",
       "\n",
       "  <div class=\"colab-df-container\">\n",
       "    <button class=\"colab-df-convert\" onclick=\"convertToInteractive('df-871b1639-6e98-4594-a30d-1d41809f6de8')\"\n",
       "            title=\"Convert this dataframe to an interactive table.\"\n",
       "            style=\"display:none;\">\n",
       "\n",
       "  <svg xmlns=\"http://www.w3.org/2000/svg\" height=\"24px\" viewBox=\"0 -960 960 960\">\n",
       "    <path d=\"M120-120v-720h720v720H120Zm60-500h600v-160H180v160Zm220 220h160v-160H400v160Zm0 220h160v-160H400v160ZM180-400h160v-160H180v160Zm440 0h160v-160H620v160ZM180-180h160v-160H180v160Zm440 0h160v-160H620v160Z\"/>\n",
       "  </svg>\n",
       "    </button>\n",
       "\n",
       "  <style>\n",
       "    .colab-df-container {\n",
       "      display:flex;\n",
       "      gap: 12px;\n",
       "    }\n",
       "\n",
       "    .colab-df-convert {\n",
       "      background-color: #E8F0FE;\n",
       "      border: none;\n",
       "      border-radius: 50%;\n",
       "      cursor: pointer;\n",
       "      display: none;\n",
       "      fill: #1967D2;\n",
       "      height: 32px;\n",
       "      padding: 0 0 0 0;\n",
       "      width: 32px;\n",
       "    }\n",
       "\n",
       "    .colab-df-convert:hover {\n",
       "      background-color: #E2EBFA;\n",
       "      box-shadow: 0px 1px 2px rgba(60, 64, 67, 0.3), 0px 1px 3px 1px rgba(60, 64, 67, 0.15);\n",
       "      fill: #174EA6;\n",
       "    }\n",
       "\n",
       "    .colab-df-buttons div {\n",
       "      margin-bottom: 4px;\n",
       "    }\n",
       "\n",
       "    [theme=dark] .colab-df-convert {\n",
       "      background-color: #3B4455;\n",
       "      fill: #D2E3FC;\n",
       "    }\n",
       "\n",
       "    [theme=dark] .colab-df-convert:hover {\n",
       "      background-color: #434B5C;\n",
       "      box-shadow: 0px 1px 3px 1px rgba(0, 0, 0, 0.15);\n",
       "      filter: drop-shadow(0px 1px 2px rgba(0, 0, 0, 0.3));\n",
       "      fill: #FFFFFF;\n",
       "    }\n",
       "  </style>\n",
       "\n",
       "    <script>\n",
       "      const buttonEl =\n",
       "        document.querySelector('#df-871b1639-6e98-4594-a30d-1d41809f6de8 button.colab-df-convert');\n",
       "      buttonEl.style.display =\n",
       "        google.colab.kernel.accessAllowed ? 'block' : 'none';\n",
       "\n",
       "      async function convertToInteractive(key) {\n",
       "        const element = document.querySelector('#df-871b1639-6e98-4594-a30d-1d41809f6de8');\n",
       "        const dataTable =\n",
       "          await google.colab.kernel.invokeFunction('convertToInteractive',\n",
       "                                                    [key], {});\n",
       "        if (!dataTable) return;\n",
       "\n",
       "        const docLinkHtml = 'Like what you see? Visit the ' +\n",
       "          '<a target=\"_blank\" href=https://colab.research.google.com/notebooks/data_table.ipynb>data table notebook</a>'\n",
       "          + ' to learn more about interactive tables.';\n",
       "        element.innerHTML = '';\n",
       "        dataTable['output_type'] = 'display_data';\n",
       "        await google.colab.output.renderOutput(dataTable, element);\n",
       "        const docLink = document.createElement('div');\n",
       "        docLink.innerHTML = docLinkHtml;\n",
       "        element.appendChild(docLink);\n",
       "      }\n",
       "    </script>\n",
       "  </div>\n",
       "\n",
       "\n",
       "<div id=\"df-7bb3ee9d-a499-4648-b3a3-4fdb45679ad7\">\n",
       "  <button class=\"colab-df-quickchart\" onclick=\"quickchart('df-7bb3ee9d-a499-4648-b3a3-4fdb45679ad7')\"\n",
       "            title=\"Suggest charts\"\n",
       "            style=\"display:none;\">\n",
       "\n",
       "<svg xmlns=\"http://www.w3.org/2000/svg\" height=\"24px\"viewBox=\"0 0 24 24\"\n",
       "     width=\"24px\">\n",
       "    <g>\n",
       "        <path d=\"M19 3H5c-1.1 0-2 .9-2 2v14c0 1.1.9 2 2 2h14c1.1 0 2-.9 2-2V5c0-1.1-.9-2-2-2zM9 17H7v-7h2v7zm4 0h-2V7h2v10zm4 0h-2v-4h2v4z\"/>\n",
       "    </g>\n",
       "</svg>\n",
       "  </button>\n",
       "\n",
       "<style>\n",
       "  .colab-df-quickchart {\n",
       "      --bg-color: #E8F0FE;\n",
       "      --fill-color: #1967D2;\n",
       "      --hover-bg-color: #E2EBFA;\n",
       "      --hover-fill-color: #174EA6;\n",
       "      --disabled-fill-color: #AAA;\n",
       "      --disabled-bg-color: #DDD;\n",
       "  }\n",
       "\n",
       "  [theme=dark] .colab-df-quickchart {\n",
       "      --bg-color: #3B4455;\n",
       "      --fill-color: #D2E3FC;\n",
       "      --hover-bg-color: #434B5C;\n",
       "      --hover-fill-color: #FFFFFF;\n",
       "      --disabled-bg-color: #3B4455;\n",
       "      --disabled-fill-color: #666;\n",
       "  }\n",
       "\n",
       "  .colab-df-quickchart {\n",
       "    background-color: var(--bg-color);\n",
       "    border: none;\n",
       "    border-radius: 50%;\n",
       "    cursor: pointer;\n",
       "    display: none;\n",
       "    fill: var(--fill-color);\n",
       "    height: 32px;\n",
       "    padding: 0;\n",
       "    width: 32px;\n",
       "  }\n",
       "\n",
       "  .colab-df-quickchart:hover {\n",
       "    background-color: var(--hover-bg-color);\n",
       "    box-shadow: 0 1px 2px rgba(60, 64, 67, 0.3), 0 1px 3px 1px rgba(60, 64, 67, 0.15);\n",
       "    fill: var(--button-hover-fill-color);\n",
       "  }\n",
       "\n",
       "  .colab-df-quickchart-complete:disabled,\n",
       "  .colab-df-quickchart-complete:disabled:hover {\n",
       "    background-color: var(--disabled-bg-color);\n",
       "    fill: var(--disabled-fill-color);\n",
       "    box-shadow: none;\n",
       "  }\n",
       "\n",
       "  .colab-df-spinner {\n",
       "    border: 2px solid var(--fill-color);\n",
       "    border-color: transparent;\n",
       "    border-bottom-color: var(--fill-color);\n",
       "    animation:\n",
       "      spin 1s steps(1) infinite;\n",
       "  }\n",
       "\n",
       "  @keyframes spin {\n",
       "    0% {\n",
       "      border-color: transparent;\n",
       "      border-bottom-color: var(--fill-color);\n",
       "      border-left-color: var(--fill-color);\n",
       "    }\n",
       "    20% {\n",
       "      border-color: transparent;\n",
       "      border-left-color: var(--fill-color);\n",
       "      border-top-color: var(--fill-color);\n",
       "    }\n",
       "    30% {\n",
       "      border-color: transparent;\n",
       "      border-left-color: var(--fill-color);\n",
       "      border-top-color: var(--fill-color);\n",
       "      border-right-color: var(--fill-color);\n",
       "    }\n",
       "    40% {\n",
       "      border-color: transparent;\n",
       "      border-right-color: var(--fill-color);\n",
       "      border-top-color: var(--fill-color);\n",
       "    }\n",
       "    60% {\n",
       "      border-color: transparent;\n",
       "      border-right-color: var(--fill-color);\n",
       "    }\n",
       "    80% {\n",
       "      border-color: transparent;\n",
       "      border-right-color: var(--fill-color);\n",
       "      border-bottom-color: var(--fill-color);\n",
       "    }\n",
       "    90% {\n",
       "      border-color: transparent;\n",
       "      border-bottom-color: var(--fill-color);\n",
       "    }\n",
       "  }\n",
       "</style>\n",
       "\n",
       "  <script>\n",
       "    async function quickchart(key) {\n",
       "      const quickchartButtonEl =\n",
       "        document.querySelector('#' + key + ' button');\n",
       "      quickchartButtonEl.disabled = true;  // To prevent multiple clicks.\n",
       "      quickchartButtonEl.classList.add('colab-df-spinner');\n",
       "      try {\n",
       "        const charts = await google.colab.kernel.invokeFunction(\n",
       "            'suggestCharts', [key], {});\n",
       "      } catch (error) {\n",
       "        console.error('Error during call to suggestCharts:', error);\n",
       "      }\n",
       "      quickchartButtonEl.classList.remove('colab-df-spinner');\n",
       "      quickchartButtonEl.classList.add('colab-df-quickchart-complete');\n",
       "    }\n",
       "    (() => {\n",
       "      let quickchartButtonEl =\n",
       "        document.querySelector('#df-7bb3ee9d-a499-4648-b3a3-4fdb45679ad7 button');\n",
       "      quickchartButtonEl.style.display =\n",
       "        google.colab.kernel.accessAllowed ? 'block' : 'none';\n",
       "    })();\n",
       "  </script>\n",
       "</div>\n",
       "    </div>\n",
       "  </div>\n"
      ],
      "text/plain": [
       "       prediction  label\n",
       "2830     0.895517      1\n",
       "5025     0.783480      1\n",
       "4266     0.932140      1\n",
       "4060     0.932140      1\n",
       "13038    0.895517      0"
      ]
     },
     "execution_count": 20,
     "metadata": {},
     "output_type": "execute_result"
    }
   ],
   "source": [
    "df_labels.head()"
   ]
  },
  {
   "cell_type": "markdown",
   "metadata": {
    "id": "BaFWFtlBsnQb"
   },
   "source": [
    "Ideally, in this density plot we would observe separate probability scores between two classes, with the score of the cases where `SRH==0` on the low probability values and the score of cases with `SRH==1` on the the high values. However, in the current case both distributions are skewed to the high probability values. The reason for this is because our dataset is highly imbalanced and only consists of 10 percent of cases where `SRH ==0`. Thus the predicted probabilities get pulled towards higher values because of the majority of the data being positive cases."
   ]
  },
  {
   "cell_type": "code",
   "execution_count": 21,
   "metadata": {
    "colab": {
     "base_uri": "https://localhost:8080/"
    },
    "id": "Llo3wcjZsnQb",
    "outputId": "9995a1fa-b964-425e-cdfb-c8d7dc5b485a"
   },
   "outputs": [
    {
     "name": "stdout",
     "output_type": "stream",
     "text": [
      "Mean value for SRH ==1, 0.895\n",
      "Mean value for SRH ==0, 0.823\n",
      "Percentage of cases with SRH ==0, 0.113\n"
     ]
    }
   ],
   "source": [
    "print ('Mean value for SRH ==1,', round(df_labels[df_labels['label']==1]['prediction'].mean(),3))\n",
    "print ('Mean value for SRH ==0,', round(df_labels[df_labels['label']==0]['prediction'].mean(),3))\n",
    "print ('Percentage of cases with SRH ==0,', round(df_labels[df_labels['label']==0]['prediction'].count()/df_labels.shape[0],3))"
   ]
  },
  {
   "cell_type": "markdown",
   "metadata": {
    "id": "q6XKKtx0snQb"
   },
   "source": [
    "Despite all this, in the density figures above we can observe a separation in the predicted scores, and the performance of the model could be improved by selecting a better threshold value for $p(x)$ to classify each case. This should be done by balancing the rate of False Positives and False Negatives. To assess this trade-off we can use other tools available, such as **ROC curves**."
   ]
  },
  {
   "cell_type": "markdown",
   "metadata": {
    "id": "c6HRYir8snQc"
   },
   "source": [
    "### What Are ROC Curves?\n",
    "\n",
    "A receiver operating characteristic curve, or ROC curve, is a figure that illustrates the performance of a binary classifier as its discrimination threshold is varied.\n",
    "\n",
    "Let's examine how the ROC curve looks for our model, and how it compares to a dummy classifier with no skill in classifying our data."
   ]
  },
  {
   "cell_type": "code",
   "execution_count": 22,
   "metadata": {
    "id": "AZPC_QgJsnQc"
   },
   "outputs": [],
   "source": [
    "# function from https://stackoverflow.com/questions/22518230/creating-a-threshold-coded-roc-plot-in-python\n",
    "def plot_roc(labels, predictions, positive_label, thresholds_every=10, title='', c='darkorange'):\n",
    "    # fp: false positive rates. tp: true positive rates\n",
    "    fp, tp, thresholds = roc_curve(labels, predictions, pos_label=positive_label)\n",
    "    roc_auc = roc_auc_score(labels, predictions)\n",
    "\n",
    "    plt.plot(fp, tp, label=title+' ROC curve (area = %0.2f)' % roc_auc, linewidth=2, color=c)\n",
    "    plt.plot([0, 1], [0, 1], color='black', linestyle='--', linewidth=2)\n",
    "    plt.xlabel('False positives rate')\n",
    "    plt.ylabel('True positives rate')\n",
    "    plt.xlim([-0.03, 1.0])\n",
    "    plt.ylim([0.0, 1.03])\n",
    "    plt.title('ROC curve (numbers are threshold values)')\n",
    "    plt.legend(loc=\"lower right\")\n",
    "    plt.grid(True)\n",
    "\n",
    "    # plot some thresholds\n",
    "    thresholdsLength = len(thresholds)\n",
    "    for i in range(0, thresholdsLength, thresholds_every):\n",
    "        threshold_value_with_max_three_decimals = str(thresholds[i])[:4]\n",
    "        plt.text(fp[i] - 0.05, tp[i] + 0.015, threshold_value_with_max_three_decimals, fontdict={'size': 10},color=c)"
   ]
  },
  {
   "cell_type": "code",
   "execution_count": 23,
   "metadata": {
    "colab": {
     "base_uri": "https://localhost:8080/",
     "height": 539
    },
    "id": "lDUh4pvQsnQc",
    "outputId": "0ec51c51-0733-4cdd-ed88-5fc81f85dd39"
   },
   "outputs": [
    {
     "data": {
      "image/png": "[encoded data removed]",
      "text/plain": [
       "<Figure size 800x550 with 1 Axes>"
      ]
     },
     "metadata": {},
     "output_type": "display_data"
    }
   ],
   "source": [
    "lr_probs_model1 = result_model1.predict(sm.add_constant(testX_model1))\n",
    "\n",
    "plot_roc(testy_model1, lr_probs_model1, positive_label=1, thresholds_every=3, title=\"Model 1\",c='blue')"
   ]
  },
  {
   "cell_type": "markdown",
   "metadata": {
    "id": "A_6QGICCsnQc"
   },
   "source": [
    "The AUC values printed above reflects the area under the ROC curve and provides a measure of how discriminant the model is between the two classes.  [In general, an AUC of 0.5 means no discrimination, 0.7 to 0.8 is considered acceptable, 0.8 to 0.9 is considered excellent, and more than 0.9 is considered outstanding](https://www.sciencedirect.com/science/article/pii/S1556086415306043#:~:text=AREA%20UNDER%20THE%20ROC%20CURVE,-AUC%20is%20an&text=In%20general%2C%20an%20AUC%20of,than%200.9%20is%20considered%20outstanding.).\n",
    "\n",
    "A value of 0.5 for AUC indicates that the ROC curve will fall on the diagonal (i.e., 45-degree line) and hence suggests that the diagnostic test has no discriminatory ability.\n",
    "\n",
    "Here we confirm again that our model has learned something and performs better than an \"unskilled\" dummy classifier. Now, we can use the ROC values to obtain an optimal threshold value. One of the commonly used method for this is the [Youden index method](https://en.wikipedia.org/wiki/Youden%27s_J_statistic). In this method the optimal threshold values is the one that maximises the Youden function which is the difference between true positive rate and false positive rate over all possible threshold values.\n",
    "\n",
    "We wrote a small implementation of this method for this example:"
   ]
  },
  {
   "cell_type": "code",
   "execution_count": 24,
   "metadata": {
    "colab": {
     "base_uri": "https://localhost:8080/"
    },
    "id": "CZ5T_poRsnQd",
    "outputId": "bd1d9ea2-92de-4e4e-eb0a-688b56484599"
   },
   "outputs": [
    {
     "name": "stdout",
     "output_type": "stream",
     "text": [
      "0.9064\n"
     ]
    }
   ],
   "source": [
    "# function inspired by https://stackoverflow.com/questions/28719067/roc-curve-and-cut-off-point-python\n",
    "def find_optimal_threshold(target, predicted):\n",
    "    \"\"\" Find the optimal probability threshold for a classification model.\n",
    "    Parameters\n",
    "    ----------\n",
    "    target : Matrix with label data, where rows are observations\n",
    "\n",
    "    predicted : Matrix with predicted data, where rows are observations\n",
    "\n",
    "    Returns\n",
    "    -------\n",
    "    a float, with optimal cutoff value\n",
    "\n",
    "    \"\"\"\n",
    "    fpr, tpr, thresholds = roc_curve(target, predicted)\n",
    "    j_scores = tpr-fpr\n",
    "    j_ordered = sorted(zip(j_scores,thresholds))\n",
    "    return j_ordered[-1][1]\n",
    "\n",
    "threshold = find_optimal_threshold(df_labels['label'], df_labels['prediction'])\n",
    "print (round(threshold,4))"
   ]
  },
  {
   "cell_type": "markdown",
   "metadata": {
    "id": "E7kh_BZusnQd"
   },
   "source": [
    "This is quite far from the 0.5 value we originally had! Let's see how our classification matrix does now using this new threshold."
   ]
  },
  {
   "cell_type": "markdown",
   "metadata": {
    "id": "GJPIhNc6snQd"
   },
   "source": [
    "In this case we have decided that the optimal threshold value is the one that, which which maximises the True Positive rate and minimizes the False Positive rate. However, the definition of **optimal** really depends of the research question or the task we are to solve. An alternative would be to give more importance in accurately classifying our `SRH=0` class and try to maximise the True Negative Rate.\n"
   ]
  },
  {
   "cell_type": "code",
   "execution_count": 25,
   "metadata": {
    "colab": {
     "base_uri": "https://localhost:8080/",
     "height": 643
    },
    "id": "jh281VicsnQe",
    "outputId": "045e25b2-656b-46a0-d77e-eb51c3de188e"
   },
   "outputs": [
    {
     "name": "stdout",
     "output_type": "stream",
     "text": [
      "Accuracy: 0.553156146179402\n",
      "\n",
      "Precision: 0.9522184300341296\n",
      "Recall: 0.5224719101123596\n",
      "\n",
      "Specificity: 0.7941176470588235\n"
     ]
    },
    {
     "data": {
      "image/png": "[encoded data removed]",
      "text/plain": [
       "<Figure size 500x500 with 2 Axes>"
      ]
     },
     "metadata": {},
     "output_type": "display_data"
    }
   ],
   "source": [
    "\n",
    "\n",
    "# performing predictions on the test dataset\n",
    "yhat = result_model1.predict(sm.add_constant(testX_model1))\n",
    "pred_y_model1 =  [1 if x > threshold else 0 for x in yhat]\n",
    "\n",
    "\n",
    "# confusion matrix using sklearn\n",
    "cnf_matrix = metrics.confusion_matrix(testy_model1,pred_y_model1)\n",
    "\n",
    "fig, ax = plt.subplots(1,1, figsize = (5,5))\n",
    "plt_cnf_mat(cnf_matrix, ax)\n",
    "\n",
    "\n",
    "print(\"Accuracy:\",metrics.accuracy_score(testy_model1, pred_y_model1))\n",
    "\n",
    "print ()\n",
    "print(\"Precision:\",metrics.precision_score(testy_model1, pred_y_model1))\n",
    "print(\"Recall:\",metrics.recall_score(testy_model1, pred_y_model1)) # what is recall?\n",
    "\n",
    "print ()\n",
    "testy_model1_minority = abs(testy_model1 - 1)\n",
    "pred_y_model1_minority = abs(np.array(pred_y_model1) -1)\n",
    "\n",
    "print(\"Specificity:\",metrics.recall_score(testy_model1_minority, pred_y_model1_minority))"
   ]
  },
  {
   "cell_type": "markdown",
   "metadata": {
    "id": "WOlw2-wOsnQe"
   },
   "source": [
    "The specificity for our minority label (`SRH==0`) has improved using the new threshold value, at a large expense of the classification performance of the majority label (`SRH==1`). However, a model that puts all instances in one class is not of good use for us, so this is an improvement. Furthermore, depending on our research question and the ultimate goal of the model we might want to maximise the specificity, even if this means increasing the amount of false negatives we observe. For example, it might be more important to identify people that are likely to report poor health than the ones with good health.\n",
    "\n",
    "In any case, we must remember that up to know we are using a very simple model, only using deprivation as a predictor and controlling for age. Adding more predictors to the model can improve its performance. We'll explore that next."
   ]
  },
  {
   "cell_type": "markdown",
   "metadata": {
    "id": "muiyITxKsnQe"
   },
   "source": [
    "## Model 2: Model 1 + Education, Children, and Accommodation Problems\n",
    "\n",
    "Let's increase the complexity to our model by adding more predictors representing socio-economic factors. In this case we'll add information about education (`ISCED`; levels of education completed), the number of children one has (`Children`), and the number of problems with accommodation reported by the respondents (`AccomProblems`). All these variables are ordered categorical variables that we assume to function as continuous variables for this exercise."
   ]
  },
  {
   "cell_type": "code",
   "execution_count": 26,
   "metadata": {
    "colab": {
     "base_uri": "https://localhost:8080/"
    },
    "id": "AEa8GeUIsnQe",
    "outputId": "0b7d5a7e-10d2-4c75-eb51-d623faba1b2e"
   },
   "outputs": [
    {
     "name": "stdout",
     "output_type": "stream",
     "text": [
      "Optimization terminated successfully.\n",
      "         Current function value: 0.302262\n",
      "         Iterations 7\n"
     ]
    }
   ],
   "source": [
    "trainX_model2, testX_model2, trainy_model2, testy_model2 = train_test_split(df_model[['AgeCategory','DeprIndex','ISCED',\"Children\",\"AccomProblems\"]], df_model.SRH_binary.values, test_size=0.3, random_state=2)\n",
    "\n",
    "trainX_const_model2 = sm.add_constant(trainX_model2) #add constant for intercept\n",
    "logit_model2 = sm.Logit(trainy_model2, trainX_const_model2) #Create model instance\n",
    "result_model2 = logit_model2.fit() #Fit model"
   ]
  },
  {
   "cell_type": "code",
   "execution_count": 27,
   "metadata": {
    "colab": {
     "base_uri": "https://localhost:8080/"
    },
    "id": "AZFNzkOisnQf",
    "outputId": "864aab54-e2eb-4b87-9b9b-1f447764ae47"
   },
   "outputs": [
    {
     "name": "stdout",
     "output_type": "stream",
     "text": [
      "                           Logit Regression Results                           \n",
      "==============================================================================\n",
      "Dep. Variable:                      y   No. Observations:                 1402\n",
      "Model:                          Logit   Df Residuals:                     1396\n",
      "Method:                           MLE   Df Model:                            5\n",
      "Date:                Tue, 12 Dec 2023   Pseudo R-squ.:                  0.1269\n",
      "Time:                        20:32:40   Log-Likelihood:                -423.77\n",
      "converged:                       True   LL-Null:                       -485.35\n",
      "Covariance Type:            nonrobust   LLR p-value:                 6.698e-25\n",
      "=================================================================================\n",
      "                    coef    std err          z      P>|z|      [0.025      0.975]\n",
      "---------------------------------------------------------------------------------\n",
      "const             3.7660      0.526      7.164      0.000       2.736       4.796\n",
      "AgeCategory      -0.4134      0.093     -4.465      0.000      -0.595      -0.232\n",
      "DeprIndex        -0.3698      0.049     -7.621      0.000      -0.465      -0.275\n",
      "ISCED             0.2119      0.072      2.942      0.003       0.071       0.353\n",
      "Children         -0.1362      0.069     -1.981      0.048      -0.271      -0.001\n",
      "AccomProblems    -0.1758      0.097     -1.819      0.069      -0.365       0.014\n",
      "=================================================================================\n"
     ]
    }
   ],
   "source": [
    "print (result_model2.summary())"
   ]
  },
  {
   "cell_type": "markdown",
   "metadata": {
    "id": "DUzYWiVisnQf"
   },
   "source": [
    "If we compare these fit results to the ones from **Model 1** we observe the following:\n",
    "\n",
    "- The coefficient for `DeprIndex` has become less negative. This could mean that the new variables that we have added to the model have taken some weight previously given to `DeprIndex` and `Age`.\n",
    "\n",
    "- The coefficient for `AgeCategory` also became less negative, but within the margin of its standard error.\n",
    "\n",
    "- Now, if we look at the parameters of *goodness-of-fit* we can observe that the fit has improved slightly, with a less negative log-likelihood and slightly larger pseudo R-squ. However, if we compare the increase of log-likelihood of adding these new variables with respect to the values of a null model, the improvement is modest (~10 units of log likelihood of **Model 2** vs **Model 1** against ~50 units for **Model 1** vs **Null model**). We might suspect that our new variables barely increase the discrimination power of our model. Lets take a look at evaluating it on the test set."
   ]
  },
  {
   "cell_type": "markdown",
   "metadata": {
    "id": "gzWO-rYzsnQf"
   },
   "source": [
    "### Comparing predicted values\n",
    "\n",
    "Same as we did in the previous section, let's compare the predicted probability values of an event being classified as `SRH=1` or `SRH=0`. Let's do this but running the model on the test set and comparing the distributions."
   ]
  },
  {
   "cell_type": "code",
   "execution_count": 28,
   "metadata": {
    "colab": {
     "base_uri": "https://localhost:8080/",
     "height": 495
    },
    "id": "VJfE6vN9snQg",
    "outputId": "91f3946c-22e9-463f-b63a-d19c959b430d"
   },
   "outputs": [
    {
     "data": {
      "text/plain": [
       "<matplotlib.legend.Legend at 0x796435e633a0>"
      ]
     },
     "execution_count": 28,
     "metadata": {},
     "output_type": "execute_result"
    },
    {
     "data": {
      "image/png": "[encoded data removed]",
      "text/plain": [
       "<Figure size 500x500 with 1 Axes>"
      ]
     },
     "metadata": {},
     "output_type": "display_data"
    }
   ],
   "source": [
    "# link the prediction to the label values\n",
    "yhat_model2 = result_model2.predict(sm.add_constant(testX_model2))\n",
    "df_labels = pd.DataFrame({'prediction': yhat_model2,\n",
    "     'label': testy_model2})\n",
    "\n",
    "fig, ax = plt.subplots(1,1, figsize = (5,5))\n",
    "df_labels[df_labels['label']==1]['prediction'].plot.kde(label='SRH == 1')\n",
    "df_labels[df_labels['label']==0]['prediction'].plot.kde(label='SRH == 0')\n",
    "pyplot.xlabel('Probability')\n",
    "pyplot.legend()"
   ]
  },
  {
   "cell_type": "markdown",
   "metadata": {
    "id": "hr4LSkKNsnQg"
   },
   "source": [
    "The shape of the probability distributions look similar to what we observed in **Model 1** (maybe the tails for class `SHR=0` are longer). Again, we can observe that using the default threshold value around 0.5 will not be optimal in this case and a higher value should be chosen.\n",
    "\n",
    "Probability values of larger than one in this case are a product of using kernel density estimation for our visualisation. We choose this method because we want to compare shapes of distributions, however we must have in mind that it can create the impression that there is data in ranges where there is not.\n"
   ]
  },
  {
   "cell_type": "code",
   "execution_count": 29,
   "metadata": {
    "colab": {
     "base_uri": "https://localhost:8080/"
    },
    "id": "FAlxdttTsnQg",
    "outputId": "1f882a53-fadd-4c5e-fd4b-1f2f00cc2d89"
   },
   "outputs": [
    {
     "name": "stdout",
     "output_type": "stream",
     "text": [
      "Probability threshold cut 0.9176\n",
      "\n"
     ]
    }
   ],
   "source": [
    "threshold_model2 = find_optimal_threshold(testy_model2, yhat_model2)\n",
    "print ('Probability threshold cut',round(threshold_model2,4))\n",
    "print()"
   ]
  },
  {
   "cell_type": "markdown",
   "metadata": {
    "id": "8JMDOIwOsnQh"
   },
   "source": [
    "### ROC curves\n",
    "The probability threshold value is slightly lower than for model **Model 1**, but not significantly, given that the predicted distributions are quite similar.\n",
    "\n",
    "Now, let's take a look at our ROC curves and AUC values and compare them to **Model 1**."
   ]
  },
  {
   "cell_type": "code",
   "execution_count": 30,
   "metadata": {
    "colab": {
     "base_uri": "https://localhost:8080/",
     "height": 539
    },
    "id": "mEUvm5s2snQh",
    "outputId": "c75cab8b-ba2d-4625-b892-d88669a1a225"
   },
   "outputs": [
    {
     "data": {
      "image/png": "[encoded data removed]",
      "text/plain": [
       "<Figure size 800x550 with 1 Axes>"
      ]
     },
     "metadata": {},
     "output_type": "display_data"
    }
   ],
   "source": [
    "plot_roc(testy_model1, lr_probs_model1, positive_label=1, thresholds_every=5, title=\"Model 1\",c='blue')\n",
    "plot_roc(testy_model2 , yhat_model2, positive_label=1, thresholds_every=15, title=\"Model 2\",c='red')"
   ]
  },
  {
   "cell_type": "markdown",
   "metadata": {
    "id": "YiCVdXJTsnQh"
   },
   "source": [
    "When comparing the above curves between the two models we can observe the following:\n",
    "\n",
    "- The ROC curve for **Model 2** has a higher granularity of steps in which the True and False Positive rates are evaluated. This is because the sklearn function drops *suboptimal thresholds* which corresponds points on the ROC curve that will have the same TPR and FPR values that adjacent points. In the simpler model there might be more configuration of predictor values needed to produce a high granularity curve.\n",
    "\n",
    "- Despite the point above, AUC values and overall ROC shapes are pretty much the same.\n",
    "\n",
    "This again confirms our theory that this new model doesn't contain much more discriminative power than **Model 1**, with the deprivation index carrying a good bulk of the information that these new variables such as education level and accommodation problems can add to the model."
   ]
  },
  {
   "cell_type": "markdown",
   "metadata": {
    "id": "fcDhDFIrsnQh"
   },
   "source": [
    "### Classification matrix\n",
    "\n",
    "Finally, let's take a look at our classification performance, using the optimal threshold value of classification for this model."
   ]
  },
  {
   "cell_type": "code",
   "execution_count": 31,
   "metadata": {
    "colab": {
     "base_uri": "https://localhost:8080/",
     "height": 643
    },
    "id": "laCr4cE9snQi",
    "outputId": "5357cc9a-6e46-4194-ba0c-edd92a78b421"
   },
   "outputs": [
    {
     "name": "stdout",
     "output_type": "stream",
     "text": [
      "Accuracy: 0.584717607973422\n",
      "\n",
      "Precision: 0.9522292993630573\n",
      "Recall: 0.5599250936329588\n",
      "\n",
      "Specificity: 0.7794117647058824\n"
     ]
    },
    {
     "data": {
      "image/png": "[encoded data removed]",
      "text/plain": [
       "<Figure size 500x500 with 2 Axes>"
      ]
     },
     "metadata": {},
     "output_type": "display_data"
    }
   ],
   "source": [
    "pred_y_model2 =  [1 if x > threshold_model2 else 0 for x in yhat_model2]\n",
    "\n",
    "cnf_matrix_model2  = metrics.confusion_matrix(testy_model2,pred_y_model2)\n",
    "\n",
    "fig, ax = plt.subplots(1,1, figsize = (5,5))\n",
    "plt_cnf_mat(cnf_matrix_model2 , ax)\n",
    "\n",
    "\n",
    "print(\"Accuracy:\",metrics.accuracy_score(testy_model2 , pred_y_model2 ))\n",
    "\n",
    "print()\n",
    "print(\"Precision:\",metrics.precision_score(testy_model2 , pred_y_model2 ))\n",
    "print(\"Recall:\",metrics.recall_score(testy_model2 , pred_y_model2 ))\n",
    "\n",
    "\n",
    "print ()\n",
    "testy_model2_minority = abs(testy_model2 - 1)\n",
    "pred_y_model2_minority = abs(np.array(pred_y_model2) -1)\n",
    "\n",
    "print(\"Specificity:\",metrics.recall_score(testy_model2_minority, pred_y_model2_minority))"
   ]
  },
  {
   "cell_type": "markdown",
   "metadata": {
    "id": "fgf5ddsusnQi"
   },
   "source": [
    "Comparing to **Model 1**:\n",
    "    \n",
    "- Our general accuracy improved slightly (from 0.55 to 0.58!).\n",
    "- The Recall increases (from 0.52 to 0.55).\n",
    "- Specificity decreased slightly.\n",
    "\n",
    "It can be difficult to track the changes of all of these metrics but with such an imbalanced dataset **Accuracy** is not a good indicator. Particularly, in this case we might want to minimize False Negatives. For these cases, we can use the **F1-score**, which is is the harmonic mean of Precision and Recall and gives a better measure of the incorrectly classified cases than the **Accuracy** metric.\n",
    "\n",
    "$F1  = 2*\\frac{Precision*Recall}{Precision+ Recall}$"
   ]
  },
  {
   "cell_type": "code",
   "execution_count": 32,
   "metadata": {
    "colab": {
     "base_uri": "https://localhost:8080/"
    },
    "id": "o-X5pSE8snQi",
    "outputId": "ea6a03c5-fc5c-42ea-c2f1-bd0a4132ec10"
   },
   "outputs": [
    {
     "name": "stdout",
     "output_type": "stream",
     "text": [
      "Model 1: 0.6747279322853689\n",
      "Model 2: 0.7051886792452831\n"
     ]
    }
   ],
   "source": [
    "print ('Model 1:', metrics.f1_score(testy_model1 , pred_y_model1))\n",
    "print ('Model 2:', metrics.f1_score(testy_model2 , pred_y_model2))\n"
   ]
  },
  {
   "cell_type": "markdown",
   "metadata": {
    "id": "vSMwSKIssnQi"
   },
   "source": [
    "## Model 3: Model 2 + Mental Wellbeing\n",
    "\n",
    "Now let's complicate the model even further, adding a variable related to mental wellbeing.\n",
    "\n",
    "The mental wellbeing index is based on a set of five questions where the respondents state degree of agreement in how they felt over the previous two weeks, measured on a six-point scale. The mental well-being scale converts these to a value between 0 - 100.\n",
    "The questionnaire use only positively phrased questions and in the scale higher values mean better self reported mental health.\n",
    "\n",
    "We decided to add this variable because they should be mostly orthogonal to the existing ones of **Model 2**, and a new dimension to the model that should improve its performance."
   ]
  },
  {
   "cell_type": "code",
   "execution_count": 33,
   "metadata": {
    "colab": {
     "base_uri": "https://localhost:8080/"
    },
    "id": "ROJk5H1bsnQj",
    "outputId": "0dc594b3-0c8f-483d-ee75-699488dc7288"
   },
   "outputs": [
    {
     "name": "stdout",
     "output_type": "stream",
     "text": [
      "Optimization terminated successfully.\n",
      "         Current function value: 0.259393\n",
      "         Iterations 7\n",
      "                           Logit Regression Results                           \n",
      "==============================================================================\n",
      "Dep. Variable:                      y   No. Observations:                 1402\n",
      "Model:                          Logit   Df Residuals:                     1395\n",
      "Method:                           MLE   Df Model:                            6\n",
      "Date:                Tue, 12 Dec 2023   Pseudo R-squ.:                  0.2507\n",
      "Time:                        20:34:15   Log-Likelihood:                -363.67\n",
      "converged:                       True   LL-Null:                       -485.35\n",
      "Covariance Type:            nonrobust   LLR p-value:                 1.069e-49\n",
      "========================================================================================\n",
      "                           coef    std err          z      P>|z|      [0.025      0.975]\n",
      "----------------------------------------------------------------------------------------\n",
      "const                    1.8202      0.589      3.089      0.002       0.665       2.975\n",
      "AgeCategory             -0.4998      0.103     -4.864      0.000      -0.701      -0.298\n",
      "DeprIndex               -0.1861      0.056     -3.341      0.001      -0.295      -0.077\n",
      "ISCED                    0.1335      0.076      1.754      0.080      -0.016       0.283\n",
      "MentalWellbeingIndex     0.0476      0.005     10.077      0.000       0.038       0.057\n",
      "Children                -0.1425      0.075     -1.911      0.056      -0.289       0.004\n",
      "AccomProblems           -0.1901      0.108     -1.764      0.078      -0.401       0.021\n",
      "========================================================================================\n"
     ]
    }
   ],
   "source": [
    "X = df_model[['AgeCategory','DeprIndex','ISCED',\"MentalWellbeingIndex\",\"Children\",\"AccomProblems\"]]\n",
    "\n",
    "y = df_model.SRH_binary.values\n",
    "\n",
    "trainX_model3, testX_model3, trainy_model3, testy_model3 = train_test_split(X, y, test_size=0.3, random_state=2)\n",
    "trainX_const_model3 = sm.add_constant(trainX_model3) #add constant for intercept\n",
    "logit_model3 = sm.Logit(trainy_model3, trainX_const_model3) #Create model instance\n",
    "result_model3 = logit_model3.fit() #Fit model\n",
    "\n",
    "print (result_model3.summary())"
   ]
  },
  {
   "cell_type": "markdown",
   "metadata": {
    "id": "Hp0LRx9VsnQj"
   },
   "source": [
    "Let's repeat the exercise we did in the previous section and compare the fit results between **Model 2** and **Model 3**. We observe the following:\n",
    "\n",
    "- The coefficient for `DeprIndex` again has become significantly less negative. This could mean that the mental wellbeing variables is sharing the weight that the deprivation index carried (it is not a surprise to think that people living in deprivation are also likely to have poor mental health).\n",
    "- The coefficient for `MentalWellbeingIndex` is one order of magnitude smaller than the other coefficients. This is expected\n",
    "given that the variable is one order of magnitude larger.\n",
    "\n",
    "\n",
    "\n",
    "- Now, if we look at the parameters of *goodness-of-fit* we can observe that the fit has improved significantly, with a less negative log-likelihood (~60 units of log likelihood of **Model 3** vs **Model 2**) and larger pseudo R-squ (~0.25 vs ~0.13). In this case the improvement is comparable to the increase of log-likelihood of adding new variables in **Model 2** with respect to the values of a null model (~60 units of log likelihood of **Model 3** vs **Model 2** against 63 units for **Model 2** vs **Null model**).\n",
    "\n",
    "Take this into consideration, we could suspect that including `MentalWellbeingIndex` will increase the discrimination power of our model. Let's see if this is the case by evaluating it on the test set."
   ]
  },
  {
   "cell_type": "markdown",
   "metadata": {
    "id": "cyyDuGx8snQj"
   },
   "source": [
    "## Comparing predicted values\n",
    "Same as we did in the previous section, let's compare the predicted probability values of an event being classified as `SRH=1` or `SRH=0`. Let's do this but running the model on the test set and comparing the distributions.\n",
    "\n"
   ]
  },
  {
   "cell_type": "code",
   "execution_count": 34,
   "metadata": {
    "colab": {
     "base_uri": "https://localhost:8080/",
     "height": 500
    },
    "id": "YhWAmL7vsnQj",
    "outputId": "ec5959cf-aa2b-4a48-eb5d-47c1d5902d05"
   },
   "outputs": [
    {
     "data": {
      "text/plain": [
       "<matplotlib.legend.Legend at 0x796435d7ec80>"
      ]
     },
     "execution_count": 34,
     "metadata": {},
     "output_type": "execute_result"
    },
    {
     "data": {
      "image/png": "[encoded data removed]",
      "text/plain": [
       "<Figure size 500x500 with 1 Axes>"
      ]
     },
     "metadata": {},
     "output_type": "display_data"
    }
   ],
   "source": [
    "# link the prediction to the label values\n",
    "yhat_model3 = result_model3.predict(sm.add_constant(testX_model3))\n",
    "df_labels = pd.DataFrame({'prediction': yhat_model3,\n",
    "     'label': testy_model3})\n",
    "\n",
    "fig, ax = plt.subplots(1,1, figsize = (5,5))\n",
    "df_labels[df_labels['label']==1]['prediction'].plot.kde(label='SRH == 1')\n",
    "df_labels[df_labels['label']==0]['prediction'].plot.kde(label='SRH == 0')\n",
    "pyplot.xlabel('Probability')\n",
    "pyplot.legend()"
   ]
  },
  {
   "cell_type": "markdown",
   "metadata": {
    "id": "J_UG6OMRsnQk"
   },
   "source": [
    "The shape of for our class `SHR=0` has indeed changed, with now even larger tails to low probability values whilst the shape of our positive class has stayed more or less the same. This points in the same direction of our assumption that **Model 3** has now more discrimination power.\n",
    "\n",
    "Let's confirm this using the **ROC** curves."
   ]
  },
  {
   "cell_type": "code",
   "execution_count": 35,
   "metadata": {
    "colab": {
     "base_uri": "https://localhost:8080/",
     "height": 539
    },
    "id": "c-llbARIsnQk",
    "outputId": "291ba876-36a4-4b70-c89d-4f33861569e1"
   },
   "outputs": [
    {
     "data": {
      "image/png": "[encoded data removed]",
      "text/plain": [
       "<Figure size 800x550 with 1 Axes>"
      ]
     },
     "metadata": {},
     "output_type": "display_data"
    }
   ],
   "source": [
    "lr_probs_model3 = result_model3.predict(sm.add_constant(testX_model3))\n",
    "\n",
    "plot_roc(testy_model1, lr_probs_model1, positive_label=1, thresholds_every=5, title=\"Model 1\",c='blue')\n",
    "plot_roc(testy_model2 , yhat_model2, positive_label=1, thresholds_every=20, title=\"Model 2\",c='red')\n",
    "plot_roc(testy_model3 , lr_probs_model3, positive_label=1, thresholds_every=20, title=\"Model 3\")"
   ]
  },
  {
   "cell_type": "markdown",
   "metadata": {
    "id": "PXUwJUQesnQk"
   },
   "source": [
    "Indeed, **Model 3** appears to be the one with better discrimination power between all models from this section. Now, finally let's look at our classification performance"
   ]
  },
  {
   "cell_type": "code",
   "execution_count": 36,
   "metadata": {
    "colab": {
     "base_uri": "https://localhost:8080/",
     "height": 678
    },
    "id": "UmbBmWh9snQk",
    "outputId": "7ab7780f-ae52-4d9e-82f7-44ff4b1fb36a"
   },
   "outputs": [
    {
     "name": "stdout",
     "output_type": "stream",
     "text": [
      "p(x) threshold value 0.9044\n",
      "Accuracy: 0.7524916943521595\n",
      "\n",
      "Precision: 0.9529411764705882\n",
      "Recall: 0.7584269662921348\n",
      "\n",
      "Specificity: 0.7058823529411765\n",
      "F-score Model 3: 0.8446298227320125\n"
     ]
    },
    {
     "data": {
      "image/png": "[encoded data removed]",
      "text/plain": [
       "<Figure size 500x500 with 2 Axes>"
      ]
     },
     "metadata": {},
     "output_type": "display_data"
    }
   ],
   "source": [
    "# performing predictions on the test dataset\n",
    "threshold_model3 = find_optimal_threshold(testy_model3, yhat_model3)\n",
    "print ('p(x) threshold value', round(threshold_model3,4))\n",
    "\n",
    "pred_y_model3 =  [1 if x > threshold_model3 else 0 for x in yhat_model3]\n",
    "\n",
    "\n",
    "cnf_matrix_model3  = metrics.confusion_matrix(testy_model2,pred_y_model3)\n",
    "\n",
    "fig, ax = plt.subplots(1,1, figsize = (5,5))\n",
    "plt_cnf_mat(cnf_matrix_model3 , ax)\n",
    "\n",
    "\n",
    "print(\"Accuracy:\",metrics.accuracy_score(testy_model3 , pred_y_model3 ))\n",
    "\n",
    "print()\n",
    "print(\"Precision:\",metrics.precision_score(testy_model3 , pred_y_model3 ))\n",
    "print(\"Recall:\",metrics.recall_score(testy_model3 , pred_y_model3 ))\n",
    "\n",
    "\n",
    "print ()\n",
    "testy_model3_minority = abs(testy_model3 - 1)\n",
    "pred_y_model3_minority = abs(np.array(pred_y_model3) -1)\n",
    "\n",
    "print(\"Specificity:\",metrics.recall_score(testy_model3_minority, pred_y_model3_minority))\n",
    "\n",
    "print ('F-score Model 3:', metrics.f1_score(testy_model3 , pred_y_model3))"
   ]
  },
  {
   "cell_type": "markdown",
   "metadata": {
    "id": "_UehqO9ZsnQl"
   },
   "source": [
    "Most of our metrics have improved with respect to **Model 2**!"
   ]
  },
  {
   "cell_type": "markdown",
   "metadata": {
    "id": "JSvntjdfsnQl"
   },
   "source": [
    "### Going back to our research question\n",
    "\n",
    "Up to now we have been exploring different models and attempting to contrast and compare them using different metrics following a typical machine learning approach. However, we need to sit back and think about our research question what exactly we are trying to measure:\n",
    "\n",
    "> We want to investigate the contribution of material, occupational, and psychosocial factors on the self reported health (SRH) across different European countries. We will use SRH information collected by the Wave 2 and 3 of the EQLTS survey, aware that they offer only a partial representation of European populations and that SRH is per-se a highly subjective indicator, difficult to compare across countries.\n",
    "\n",
    "Our goal here is not necessarily to accurately classify between the two classes but to measure the level of contribution that these predictors have in our model (hence improving the discrimination power of the model and therefore contributing to accurately classifying between the classes). Some of the metrics we have been using in this section (log-likelihood and AUC) can definitely help us measure these contributions.\n",
    "\n",
    "For example, in **Model 3** just adding the mental wellbeing predictor into the model significantly improved the discrimination power of the model for all of our different metrics, therefore we could hint that the self reported mental wellbeing has a sizable contribution to the self reported health for the UK.\n",
    "\n",
    "Up to now we have been comparing the log-likehoods between our different models. The reason we can do this is because these are **nested models** meaning that one model is a special case of the other (e.g Model 1 contains a subset of the predictors of Model 2, and equivalent for Model 2 and 3). We haven't been explicit about this but what we are going is equivalent to a likelihood ratio test, which is a statistical test to determine if one (more complex) model fits the data significantly better than the other. The Likelihood (L) ratio is based on the statistic:\n",
    "\n",
    "$\\lambda = -2 ln \\left(\\frac{{L}(ModelA)}{{L}(ModelB)}\\right)= 2 \\left(log{L}(ModelA) - log{L}(ModelB)\\right)$\n",
    "\n",
    "In the null model scenario (in this case that Model B is not better at fitting the data than Model A), the test statistic follows a ${\\chi}^2$ distribution with degrees of freedom, k, equal to the difference in the number of parameters between the two models being fitted.  This is known as [Wilk’s theorem](https://projecteuclid.org/journals/annals-of-mathematical-statistics/volume-9/issue-1/The-Large-Sample-Distribution-of-the-Likelihood-Ratio-for-Testing/10.1214/aoms/1177732360.full).\n",
    "\n",
    "Knowing this, we can calculate a p-value using the chi-square test using the cumulative density function of the ${\\chi}^2$ distribution :\n",
    "\n",
    "$p=1-cdf\\chi^{2}(\\lambda,k)$  \n",
    "\n",
    "\n"
   ]
  },
  {
   "cell_type": "markdown",
   "metadata": {
    "id": "2ILAFjcSsnQl"
   },
   "source": [
    "So, lets calculate the likelihood ratio of Model 3 against Model 2. Given that we have both log-likelihoods, calculating the test statistic is simple:\n",
    "\n"
   ]
  },
  {
   "cell_type": "code",
   "execution_count": 40,
   "metadata": {
    "colab": {
     "base_uri": "https://localhost:8080/"
    },
    "id": "TqvoCqessnQm",
    "outputId": "7dd665ac-b78a-4fdb-931c-8ec127a32d4f"
   },
   "outputs": [
    {
     "name": "stdout",
     "output_type": "stream",
     "text": [
      "120.20568306789198\n"
     ]
    }
   ],
   "source": [
    "LR = 2 *(result_model3.llf - result_model2.llf)\n",
    "\n",
    "print (LR)"
   ]
  },
  {
   "cell_type": "markdown",
   "metadata": {
    "id": "K5BUauGisnQm"
   },
   "source": [
    "So our likelihood ratio test statistic is around 120, with one degree of freedom, given that we only added one extra variable to Model 3. We can now calculate the p-value:"
   ]
  },
  {
   "cell_type": "code",
   "execution_count": null,
   "metadata": {
    "colab": {
     "base_uri": "https://localhost:8080/"
    },
    "id": "iFAnZGytsnQm",
    "outputId": "10992656-f16c-498e-cf9d-54e5af2aeb00"
   },
   "outputs": [
    {
     "name": "stdout",
     "output_type": "stream",
     "text": [
      "3.3306690738754696e-16\n"
     ]
    }
   ],
   "source": [
    "degrees_of_freedom = 1\n",
    "p = 1 - stats.chi2.cdf(LR,1)\n",
    "\n",
    "print (p)"
   ]
  },
  {
   "cell_type": "markdown",
   "metadata": {
    "id": "VymDiK0PsnQn"
   },
   "source": [
    "Such a small p-value confirms what we already know that Model 3 fits significantly better the data than the Model 2."
   ]
  },
  {
   "cell_type": "markdown",
   "metadata": {
    "id": "Cm9dPBUBsnQn"
   },
   "source": [
    "### Model 4: A simpler model with equivalent discrimination power\n",
    "\n",
    "During this section we have slowly built the complexity of the model in order to improve the discrimination power of it. However, we don't necessarily always want a very complex model, given that this can lead to problems with model explanability and **overfitting**. Furthermore, in this case we can to assess the contribution of individual SE factors into the self reported health, and ideally we would only use variables that are completely orthogonal to each other (i.e., measure different things). However, we don't want to lose model performance by reducing the amount of information we feed into it.\n",
    "\n",
    "Everything we have learn about our data by slowly increasing the complexity of the models hint us that is possible to build a simpler model that is equivalent in discrimination power. Let's see what happens if we remove the variables  `Children` and `AccomProblems` that we know are related to `DeprIndex` and `Age`."
   ]
  },
  {
   "cell_type": "code",
   "execution_count": 38,
   "metadata": {
    "colab": {
     "base_uri": "https://localhost:8080/"
    },
    "id": "XxqOYmRdsnQn",
    "outputId": "472725e2-7d90-4bdb-e130-dc5a9f1736a0"
   },
   "outputs": [
    {
     "name": "stdout",
     "output_type": "stream",
     "text": [
      "Optimization terminated successfully.\n",
      "         Current function value: 0.255923\n",
      "         Iterations 7\n",
      "                           Logit Regression Results                           \n",
      "==============================================================================\n",
      "Dep. Variable:                      y   No. Observations:                 1402\n",
      "Model:                          Logit   Df Residuals:                     1397\n",
      "Method:                           MLE   Df Model:                            4\n",
      "Date:                Tue, 12 Dec 2023   Pseudo R-squ.:                  0.2120\n",
      "Time:                        20:58:55   Log-Likelihood:                -358.80\n",
      "converged:                       True   LL-Null:                       -455.33\n",
      "Covariance Type:            nonrobust   LLR p-value:                 1.174e-40\n",
      "========================================================================================\n",
      "                           coef    std err          z      P>|z|      [0.025      0.975]\n",
      "----------------------------------------------------------------------------------------\n",
      "const                    1.4226      0.537      2.648      0.008       0.370       2.476\n",
      "AgeCategory             -0.4005      0.092     -4.362      0.000      -0.581      -0.221\n",
      "DeprIndex               -0.2274      0.051     -4.418      0.000      -0.328      -0.127\n",
      "ISCED                    0.1385      0.074      1.872      0.061      -0.007       0.284\n",
      "MentalWellbeingIndex     0.0408      0.005      8.504      0.000       0.031       0.050\n",
      "========================================================================================\n"
     ]
    }
   ],
   "source": [
    "X = df_model[['AgeCategory','DeprIndex','ISCED',\"MentalWellbeingIndex\"]]\n",
    "\n",
    "y = df_model.SRH_binary.values\n",
    "\n",
    "trainX_model4, testX_model4, trainy_model4, testy_model4 = train_test_split(X, y, test_size=0.3, shuffle=False, random_state=2)\n",
    "trainX_const_model4 = sm.add_constant(trainX_model4) #add constant for intercept\n",
    "logit_model4 = sm.Logit(trainy_model4, trainX_const_model4) #Create model instance\n",
    "result_model4 = logit_model4.fit() #Fit model\n",
    "\n",
    "print (result_model4.summary())"
   ]
  },
  {
   "cell_type": "markdown",
   "metadata": {
    "id": "jX7XaKmysnQo"
   },
   "source": [
    "Only 4 units of **log-likelihood** are lost by dropping these variables. And the **Pseudo R-squ.** is equivalent."
   ]
  },
  {
   "cell_type": "code",
   "execution_count": 39,
   "metadata": {
    "colab": {
     "base_uri": "https://localhost:8080/",
     "height": 539
    },
    "id": "3gIYo3VMsnQo",
    "outputId": "e9305cae-57b5-4a89-8f62-84206c7c285a"
   },
   "outputs": [
    {
     "data": {
      "image/png": "[encoded data removed]",
      "text/plain": [
       "<Figure size 800x550 with 1 Axes>"
      ]
     },
     "metadata": {},
     "output_type": "display_data"
    }
   ],
   "source": [
    "lr_probs_model4 = result_model4.predict(sm.add_constant(testX_model4))\n",
    "\n",
    "plot_roc(testy_model3 , lr_probs_model3, positive_label=1, thresholds_every=20, title=\"Model 3\",c='red')\n",
    "plot_roc(testy_model4 , lr_probs_model4, positive_label=1, thresholds_every=20, title=\"Model 4\")"
   ]
  },
  {
   "cell_type": "markdown",
   "metadata": {
    "id": "RNTX6VGRsnQo"
   },
   "source": [
    "Our **ROC** curves are equivalent!\n"
   ]
  },
  {
   "cell_type": "markdown",
   "metadata": {
    "id": "nnV4ZkwAsnQp"
   },
   "source": [
    "### References and Further Reading\n",
    "\n",
    "[Blog post: Testing if one model fits the data significantly better than another model](http://sherrytowers.com/2019/03/18/determining-which-model-fits-the-data-significantly-better/)\n",
    "\n",
    "[Blog post: How are the likelihood ratio, wald and lagrange multiplier test different and/or similar](https://stats.idre.ucla.edu/other/mult-pkg/faq/general/faqhow-are-the-likelihood-ratio-wald-and-lagrange-multiplier-score-tests-different-andor-similar/)"
   ]
  },
  {
   "cell_type": "code",
   "execution_count": null,
   "metadata": {
    "id": "TAZfStv8xeSb"
   },
   "outputs": [],
   "source": []
  }
 ],
 "metadata": {
  "colab": {
   "provenance": []
  },
  "kernelspec": {
   "display_name": "Python 3",
   "language": "python",
   "name": "python3"
  },
  "language_info": {
   "codemirror_mode": {
    "name": "ipython",
    "version": 3
   },
   "file_extension": ".py",
   "mimetype": "text/x-python",
   "name": "python",
   "nbconvert_exporter": "python",
   "pygments_lexer": "ipython3",
   "version": "3.13.0"
  }
 },
 "nbformat": 4,
 "nbformat_minor": 0
}
